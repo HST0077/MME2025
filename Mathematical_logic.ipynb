{
 "cells": [
  {
   "cell_type": "markdown",
   "id": "be91fd79-8cba-4fb1-bf1a-69911d405e43",
   "metadata": {},
   "source": [
    "## 문제. p⨁q 는 배타적 연산자(Exclusive OR or XOR)로 두 입력값이 서로 다를 때만 참이 되는 특징을 가지고 있다. 즉, p⨁q=(p∨q)∧~( p∧q) 로 표현할 수 있다고 한다. 이를 진리표(truth table)를 이용하여 살펴보아라. "
   ]
  },
  {
   "cell_type": "code",
   "execution_count": 6,
   "id": "84089775-50ff-4432-9a1a-4cf79e0eb23f",
   "metadata": {
    "tags": []
   },
   "outputs": [
    {
     "data": {
      "text/html": [
       "<div>\n",
       "<style scoped>\n",
       "    .dataframe tbody tr th:only-of-type {\n",
       "        vertical-align: middle;\n",
       "    }\n",
       "\n",
       "    .dataframe tbody tr th {\n",
       "        vertical-align: top;\n",
       "    }\n",
       "\n",
       "    .dataframe thead th {\n",
       "        text-align: right;\n",
       "    }\n",
       "</style>\n",
       "<table border=\"1\" class=\"dataframe\">\n",
       "  <thead>\n",
       "    <tr style=\"text-align: right;\">\n",
       "      <th></th>\n",
       "      <th>P</th>\n",
       "      <th>Q</th>\n",
       "      <th>P ∧ Q</th>\n",
       "    </tr>\n",
       "  </thead>\n",
       "  <tbody>\n",
       "    <tr>\n",
       "      <th>0</th>\n",
       "      <td>True</td>\n",
       "      <td>True</td>\n",
       "      <td>True</td>\n",
       "    </tr>\n",
       "    <tr>\n",
       "      <th>1</th>\n",
       "      <td>True</td>\n",
       "      <td>False</td>\n",
       "      <td>False</td>\n",
       "    </tr>\n",
       "    <tr>\n",
       "      <th>2</th>\n",
       "      <td>False</td>\n",
       "      <td>True</td>\n",
       "      <td>False</td>\n",
       "    </tr>\n",
       "    <tr>\n",
       "      <th>3</th>\n",
       "      <td>False</td>\n",
       "      <td>False</td>\n",
       "      <td>False</td>\n",
       "    </tr>\n",
       "  </tbody>\n",
       "</table>\n",
       "</div>"
      ],
      "text/plain": [
       "       P      Q  P ∧ Q\n",
       "0   True   True   True\n",
       "1   True  False  False\n",
       "2  False   True  False\n",
       "3  False  False  False"
      ]
     },
     "execution_count": 6,
     "metadata": {},
     "output_type": "execute_result"
    }
   ],
   "source": [
    "# p∧q 의 진리표\n",
    "import pandas as pd\n",
    "from sympy import symbols, And\n",
    "\n",
    "# 변수 정의\n",
    "P, Q = symbols('P Q')\n",
    "\n",
    "# And 연산을 포함한 진리표 생성\n",
    "truth_values = []\n",
    "for p_val in [True, False]:\n",
    "    for q_val in [True, False]:\n",
    "        result = And(p_val, q_val)  \n",
    "        truth_values.append([p_val, q_val, result])\n",
    "\n",
    "# 데이터프레임 변환\n",
    "df = pd.DataFrame(truth_values, columns=[\"P\", \"Q\", \"P ∧ Q\"])\n",
    "df"
   ]
  },
  {
   "cell_type": "code",
   "execution_count": 9,
   "id": "ab609184-6054-4d24-9f2e-942d2561737b",
   "metadata": {
    "tags": []
   },
   "outputs": [
    {
     "name": "stdout",
     "output_type": "stream",
     "text": [
      "([0, 0], False)\n",
      "([0, 1], True)\n",
      "([1, 0], True)\n",
      "([1, 1], True)\n"
     ]
    }
   ],
   "source": [
    "# p V q 의 진리표\n",
    "from sympy import symbols, Or\n",
    "from sympy.logic.boolalg import truth_table\n",
    "\n",
    "# 변수 정의\n",
    "P, Q = symbols('P Q')\n",
    "\n",
    "# 논리식 정의 (P ∨ Q)\n",
    "expr = Or(P, Q)\n",
    "\n",
    "# 진리표 생성\n",
    "for row in truth_table(expr, [P, Q]):\n",
    "    print(row)  # 각 행을 출력\n"
   ]
  },
  {
   "cell_type": "code",
   "execution_count": 2,
   "id": "ddfb40c9-f2da-4980-9f80-acb778eac8bb",
   "metadata": {
    "tags": []
   },
   "outputs": [
    {
     "data": {
      "text/html": [
       "<div>\n",
       "<style scoped>\n",
       "    .dataframe tbody tr th:only-of-type {\n",
       "        vertical-align: middle;\n",
       "    }\n",
       "\n",
       "    .dataframe tbody tr th {\n",
       "        vertical-align: top;\n",
       "    }\n",
       "\n",
       "    .dataframe thead th {\n",
       "        text-align: right;\n",
       "    }\n",
       "</style>\n",
       "<table border=\"1\" class=\"dataframe\">\n",
       "  <thead>\n",
       "    <tr style=\"text-align: right;\">\n",
       "      <th></th>\n",
       "      <th>P</th>\n",
       "      <th>Q</th>\n",
       "      <th>P ⊕ Q</th>\n",
       "    </tr>\n",
       "  </thead>\n",
       "  <tbody>\n",
       "    <tr>\n",
       "      <th>0</th>\n",
       "      <td>True</td>\n",
       "      <td>True</td>\n",
       "      <td>False</td>\n",
       "    </tr>\n",
       "    <tr>\n",
       "      <th>1</th>\n",
       "      <td>True</td>\n",
       "      <td>False</td>\n",
       "      <td>True</td>\n",
       "    </tr>\n",
       "    <tr>\n",
       "      <th>2</th>\n",
       "      <td>False</td>\n",
       "      <td>True</td>\n",
       "      <td>True</td>\n",
       "    </tr>\n",
       "    <tr>\n",
       "      <th>3</th>\n",
       "      <td>False</td>\n",
       "      <td>False</td>\n",
       "      <td>False</td>\n",
       "    </tr>\n",
       "  </tbody>\n",
       "</table>\n",
       "</div>"
      ],
      "text/plain": [
       "       P      Q  P ⊕ Q\n",
       "0   True   True  False\n",
       "1   True  False   True\n",
       "2  False   True   True\n",
       "3  False  False  False"
      ]
     },
     "execution_count": 2,
     "metadata": {},
     "output_type": "execute_result"
    }
   ],
   "source": [
    "import pandas as pd\n",
    "from sympy import symbols, Xor\n",
    "\n",
    "# 변수 정의\n",
    "P, Q = symbols('P Q')\n",
    "\n",
    "# XOR 연산을 포함한 진리표 생성\n",
    "truth_values_xor = []\n",
    "for p_val in [True, False]:\n",
    "    for q_val in [True, False]:\n",
    "        result = Xor(p_val, q_val)  # P ⊕ Q (Exclusive OR 연산)\n",
    "        truth_values_xor.append([p_val, q_val, result])\n",
    "\n",
    "# 데이터프레임 변환\n",
    "df_xor = pd.DataFrame(truth_values_xor, columns=[\"P\", \"Q\", \"P ⊕ Q\"])\n",
    "df_xor"
   ]
  },
  {
   "cell_type": "code",
   "execution_count": 4,
   "id": "29e63731-b38c-4577-9a38-d96f4931b574",
   "metadata": {
    "tags": []
   },
   "outputs": [
    {
     "data": {
      "text/html": [
       "<div>\n",
       "<style scoped>\n",
       "    .dataframe tbody tr th:only-of-type {\n",
       "        vertical-align: middle;\n",
       "    }\n",
       "\n",
       "    .dataframe tbody tr th {\n",
       "        vertical-align: top;\n",
       "    }\n",
       "\n",
       "    .dataframe thead th {\n",
       "        text-align: right;\n",
       "    }\n",
       "</style>\n",
       "<table border=\"1\" class=\"dataframe\">\n",
       "  <thead>\n",
       "    <tr style=\"text-align: right;\">\n",
       "      <th></th>\n",
       "      <th>P</th>\n",
       "      <th>Q</th>\n",
       "      <th>(P ∨ Q) ∧ ~(P ∧ Q)</th>\n",
       "    </tr>\n",
       "  </thead>\n",
       "  <tbody>\n",
       "    <tr>\n",
       "      <th>0</th>\n",
       "      <td>True</td>\n",
       "      <td>True</td>\n",
       "      <td>False</td>\n",
       "    </tr>\n",
       "    <tr>\n",
       "      <th>1</th>\n",
       "      <td>True</td>\n",
       "      <td>False</td>\n",
       "      <td>True</td>\n",
       "    </tr>\n",
       "    <tr>\n",
       "      <th>2</th>\n",
       "      <td>False</td>\n",
       "      <td>True</td>\n",
       "      <td>True</td>\n",
       "    </tr>\n",
       "    <tr>\n",
       "      <th>3</th>\n",
       "      <td>False</td>\n",
       "      <td>False</td>\n",
       "      <td>False</td>\n",
       "    </tr>\n",
       "  </tbody>\n",
       "</table>\n",
       "</div>"
      ],
      "text/plain": [
       "       P      Q (P ∨ Q) ∧ ~(P ∧ Q)\n",
       "0   True   True              False\n",
       "1   True  False               True\n",
       "2  False   True               True\n",
       "3  False  False              False"
      ]
     },
     "execution_count": 4,
     "metadata": {},
     "output_type": "execute_result"
    }
   ],
   "source": [
    "import pandas as pd\n",
    "from sympy import symbols, Or, And, Not\n",
    "\n",
    "# 변수 정의\n",
    "P, Q = symbols('P Q')\n",
    "\n",
    "# 논리식 정의: (P ∨ Q) ∧ ~(P ∧ Q)\n",
    "expr = And(Or(P, Q), Not(And(P, Q)))\n",
    "\n",
    "# 진리표 생성\n",
    "truth_values = []\n",
    "for p_val in [True, False]:\n",
    "    for q_val in [True, False]:\n",
    "        result = expr.subs({P: p_val, Q: q_val})  # 값 대입 후 평가\n",
    "        truth_values.append([p_val, q_val, result])\n",
    "\n",
    "# 데이터프레임 변환\n",
    "df = pd.DataFrame(truth_values, columns=[\"P\", \"Q\", \"(P ∨ Q) ∧ ~(P ∧ Q)\"])\n",
    "df"
   ]
  },
  {
   "cell_type": "markdown",
   "id": "7d3ecf36-5f68-4456-94c3-cf8e787a1c91",
   "metadata": {},
   "source": [
    "## 문제.\t( p∧q) ∨~r 에 대한 진리표를 작성해 보아라. "
   ]
  },
  {
   "cell_type": "code",
   "execution_count": 1,
   "id": "ada1c2ea-4d5a-4543-a4e1-8e961cde7315",
   "metadata": {
    "tags": []
   },
   "outputs": [
    {
     "data": {
      "text/html": [
       "<div>\n",
       "<style scoped>\n",
       "    .dataframe tbody tr th:only-of-type {\n",
       "        vertical-align: middle;\n",
       "    }\n",
       "\n",
       "    .dataframe tbody tr th {\n",
       "        vertical-align: top;\n",
       "    }\n",
       "\n",
       "    .dataframe thead th {\n",
       "        text-align: right;\n",
       "    }\n",
       "</style>\n",
       "<table border=\"1\" class=\"dataframe\">\n",
       "  <thead>\n",
       "    <tr style=\"text-align: right;\">\n",
       "      <th></th>\n",
       "      <th>p</th>\n",
       "      <th>q</th>\n",
       "      <th>r</th>\n",
       "      <th>(p∧q)∨~r</th>\n",
       "    </tr>\n",
       "  </thead>\n",
       "  <tbody>\n",
       "    <tr>\n",
       "      <th>0</th>\n",
       "      <td>True</td>\n",
       "      <td>True</td>\n",
       "      <td>True</td>\n",
       "      <td>True</td>\n",
       "    </tr>\n",
       "    <tr>\n",
       "      <th>1</th>\n",
       "      <td>True</td>\n",
       "      <td>True</td>\n",
       "      <td>False</td>\n",
       "      <td>True</td>\n",
       "    </tr>\n",
       "    <tr>\n",
       "      <th>2</th>\n",
       "      <td>True</td>\n",
       "      <td>False</td>\n",
       "      <td>True</td>\n",
       "      <td>False</td>\n",
       "    </tr>\n",
       "    <tr>\n",
       "      <th>3</th>\n",
       "      <td>True</td>\n",
       "      <td>False</td>\n",
       "      <td>False</td>\n",
       "      <td>True</td>\n",
       "    </tr>\n",
       "    <tr>\n",
       "      <th>4</th>\n",
       "      <td>False</td>\n",
       "      <td>True</td>\n",
       "      <td>True</td>\n",
       "      <td>False</td>\n",
       "    </tr>\n",
       "    <tr>\n",
       "      <th>5</th>\n",
       "      <td>False</td>\n",
       "      <td>True</td>\n",
       "      <td>False</td>\n",
       "      <td>True</td>\n",
       "    </tr>\n",
       "    <tr>\n",
       "      <th>6</th>\n",
       "      <td>False</td>\n",
       "      <td>False</td>\n",
       "      <td>True</td>\n",
       "      <td>False</td>\n",
       "    </tr>\n",
       "    <tr>\n",
       "      <th>7</th>\n",
       "      <td>False</td>\n",
       "      <td>False</td>\n",
       "      <td>False</td>\n",
       "      <td>True</td>\n",
       "    </tr>\n",
       "  </tbody>\n",
       "</table>\n",
       "</div>"
      ],
      "text/plain": [
       "       p      q      r (p∧q)∨~r\n",
       "0   True   True   True     True\n",
       "1   True   True  False     True\n",
       "2   True  False   True    False\n",
       "3   True  False  False     True\n",
       "4  False   True   True    False\n",
       "5  False   True  False     True\n",
       "6  False  False   True    False\n",
       "7  False  False  False     True"
      ]
     },
     "execution_count": 1,
     "metadata": {},
     "output_type": "execute_result"
    }
   ],
   "source": [
    "import pandas as pd\n",
    "from sympy import symbols, Or, And, Not\n",
    "\n",
    "# 변수 정의\n",
    "p, q, r = symbols('p q r')\n",
    "\n",
    "# 논리식 정의: ( p∧q) ∨~r\n",
    "expr = Or(And(p,q),Not(r))\n",
    "\n",
    "# 진리표 생성\n",
    "truth_values = []\n",
    "for p_val in [True, False]:\n",
    "    for q_val in [True, False]:\n",
    "        for r_val in [True, False]:\n",
    "            result = expr.subs({p: p_val, q: q_val, r:r_val})  \n",
    "            truth_values.append([p_val, q_val, r_val,result])\n",
    "\n",
    "# 데이터프레임 변환\n",
    "df = pd.DataFrame(truth_values, columns=[\"p\", \"q\", \"r\", \"(p∧q)∨~r\"])\n",
    "df"
   ]
  },
  {
   "cell_type": "markdown",
   "id": "a267d70f-09e0-494a-b4b1-7ab351a2e54a",
   "metadata": {},
   "source": [
    "## 문제. \t~( p∧q)≡ ~p ∨ ~q 임을 보여라."
   ]
  },
  {
   "cell_type": "code",
   "execution_count": 6,
   "id": "5974a8c1-086f-4a42-ba3c-3015c1a9b1a7",
   "metadata": {
    "tags": []
   },
   "outputs": [
    {
     "data": {
      "text/html": [
       "<div>\n",
       "<style scoped>\n",
       "    .dataframe tbody tr th:only-of-type {\n",
       "        vertical-align: middle;\n",
       "    }\n",
       "\n",
       "    .dataframe tbody tr th {\n",
       "        vertical-align: top;\n",
       "    }\n",
       "\n",
       "    .dataframe thead th {\n",
       "        text-align: right;\n",
       "    }\n",
       "</style>\n",
       "<table border=\"1\" class=\"dataframe\">\n",
       "  <thead>\n",
       "    <tr style=\"text-align: right;\">\n",
       "      <th></th>\n",
       "      <th>P</th>\n",
       "      <th>Q</th>\n",
       "      <th>~(P ∧ Q)</th>\n",
       "      <th>~P ∨ ~Q</th>\n",
       "      <th>동치 여부</th>\n",
       "    </tr>\n",
       "  </thead>\n",
       "  <tbody>\n",
       "    <tr>\n",
       "      <th>0</th>\n",
       "      <td>False</td>\n",
       "      <td>False</td>\n",
       "      <td>True</td>\n",
       "      <td>True</td>\n",
       "      <td>True</td>\n",
       "    </tr>\n",
       "    <tr>\n",
       "      <th>1</th>\n",
       "      <td>False</td>\n",
       "      <td>True</td>\n",
       "      <td>True</td>\n",
       "      <td>True</td>\n",
       "      <td>True</td>\n",
       "    </tr>\n",
       "    <tr>\n",
       "      <th>2</th>\n",
       "      <td>True</td>\n",
       "      <td>False</td>\n",
       "      <td>True</td>\n",
       "      <td>True</td>\n",
       "      <td>True</td>\n",
       "    </tr>\n",
       "    <tr>\n",
       "      <th>3</th>\n",
       "      <td>True</td>\n",
       "      <td>True</td>\n",
       "      <td>False</td>\n",
       "      <td>False</td>\n",
       "      <td>True</td>\n",
       "    </tr>\n",
       "  </tbody>\n",
       "</table>\n",
       "</div>"
      ],
      "text/plain": [
       "       P      Q ~(P ∧ Q) ~P ∨ ~Q  동치 여부\n",
       "0  False  False     True    True   True\n",
       "1  False   True     True    True   True\n",
       "2   True  False     True    True   True\n",
       "3   True   True    False   False   True"
      ]
     },
     "execution_count": 6,
     "metadata": {},
     "output_type": "execute_result"
    }
   ],
   "source": [
    "import pandas as pd\n",
    "from sympy import symbols, Not, And, Or\n",
    "\n",
    "# 변수 정의\n",
    "P, Q = symbols('P Q')\n",
    "\n",
    "# 논리식 정의\n",
    "expr1 = Not(And(P, Q))  # ~(P ∧ Q)\n",
    "expr2 = Or(Not(P), Not(Q))  # ~P ∨ ~Q\n",
    "\n",
    "# Truth Table 생성\n",
    "truth_values = []\n",
    "for p_val in [False, True]:\n",
    "    for q_val in [False, True]:\n",
    "        result1 = expr1.subs({P: p_val, Q: q_val})  # ¬(P ∧ Q) 결과\n",
    "        result2 = expr2.subs({P: p_val, Q: q_val})  # ¬P ∨ ¬Q 결과\n",
    "        # 마지막 열은 두 논리식이 같은지 확인\n",
    "        truth_values.append([p_val, q_val, result1, result2, result1 == result2])  \n",
    "\n",
    "# 데이터프레임 변환\n",
    "df = pd.DataFrame(truth_values, columns=[\"P\", \"Q\", \"~(P ∧ Q)\", \"~P ∨ ~Q\", \"동치 여부\"])\n",
    "df"
   ]
  },
  {
   "cell_type": "code",
   "execution_count": 8,
   "id": "b8e39ae6-cbf1-4443-a6e1-c7340ca79376",
   "metadata": {
    "tags": []
   },
   "outputs": [
    {
     "data": {
      "text/html": [
       "<div>\n",
       "<style scoped>\n",
       "    .dataframe tbody tr th:only-of-type {\n",
       "        vertical-align: middle;\n",
       "    }\n",
       "\n",
       "    .dataframe tbody tr th {\n",
       "        vertical-align: top;\n",
       "    }\n",
       "\n",
       "    .dataframe thead th {\n",
       "        text-align: right;\n",
       "    }\n",
       "</style>\n",
       "<table border=\"1\" class=\"dataframe\">\n",
       "  <thead>\n",
       "    <tr style=\"text-align: right;\">\n",
       "      <th></th>\n",
       "      <th>P</th>\n",
       "      <th>Q</th>\n",
       "      <th>~(P ∨ Q)</th>\n",
       "      <th>~P ∧ ~Q</th>\n",
       "      <th>동치 여부</th>\n",
       "    </tr>\n",
       "  </thead>\n",
       "  <tbody>\n",
       "    <tr>\n",
       "      <th>0</th>\n",
       "      <td>False</td>\n",
       "      <td>False</td>\n",
       "      <td>True</td>\n",
       "      <td>True</td>\n",
       "      <td>True</td>\n",
       "    </tr>\n",
       "    <tr>\n",
       "      <th>1</th>\n",
       "      <td>False</td>\n",
       "      <td>True</td>\n",
       "      <td>False</td>\n",
       "      <td>False</td>\n",
       "      <td>True</td>\n",
       "    </tr>\n",
       "    <tr>\n",
       "      <th>2</th>\n",
       "      <td>True</td>\n",
       "      <td>False</td>\n",
       "      <td>False</td>\n",
       "      <td>False</td>\n",
       "      <td>True</td>\n",
       "    </tr>\n",
       "    <tr>\n",
       "      <th>3</th>\n",
       "      <td>True</td>\n",
       "      <td>True</td>\n",
       "      <td>False</td>\n",
       "      <td>False</td>\n",
       "      <td>True</td>\n",
       "    </tr>\n",
       "  </tbody>\n",
       "</table>\n",
       "</div>"
      ],
      "text/plain": [
       "       P      Q ~(P ∨ Q) ~P ∧ ~Q  동치 여부\n",
       "0  False  False     True    True   True\n",
       "1  False   True    False   False   True\n",
       "2   True  False    False   False   True\n",
       "3   True   True    False   False   True"
      ]
     },
     "execution_count": 8,
     "metadata": {},
     "output_type": "execute_result"
    }
   ],
   "source": [
    "# ~( p∨q)≡ ~p∧~q 의 증명\n",
    "# 논리식 정의\n",
    "expr1 = Not(Or(P, Q))  # ¬(P ∨ Q)\n",
    "expr2 = And(Not(P), Not(Q))  # ¬P ∧ ¬Q\n",
    "\n",
    "# Truth Table 생성\n",
    "truth_values = []\n",
    "for p_val in [False, True]:\n",
    "    for q_val in [False, True]:\n",
    "        result1 = expr1.subs({P: p_val, Q: q_val})  # ~(P ∨ Q) 결과\n",
    "        result2 = expr2.subs({P: p_val, Q: q_val})  # ~P ∧ ~Q 결과\n",
    "        truth_values.append([p_val, q_val, result1, result2, result1 == result2])  \n",
    "\n",
    "# 데이터프레임 변환\n",
    "df = pd.DataFrame(truth_values, columns=[\"P\", \"Q\", \"~(P ∨ Q)\", \"~P ∧ ~Q\", \"동치 여부\"])\n",
    "df"
   ]
  },
  {
   "cell_type": "markdown",
   "id": "744af687-16ab-4251-99b6-b23e3aac8686",
   "metadata": {},
   "source": [
    "## 문제. \t~p∨p 는 항상 참임을 보여라. "
   ]
  },
  {
   "cell_type": "code",
   "execution_count": 9,
   "id": "09f4f496-7cc7-4421-8ab6-16d75c1c325b",
   "metadata": {
    "tags": []
   },
   "outputs": [
    {
     "data": {
      "text/html": [
       "<div>\n",
       "<style scoped>\n",
       "    .dataframe tbody tr th:only-of-type {\n",
       "        vertical-align: middle;\n",
       "    }\n",
       "\n",
       "    .dataframe tbody tr th {\n",
       "        vertical-align: top;\n",
       "    }\n",
       "\n",
       "    .dataframe thead th {\n",
       "        text-align: right;\n",
       "    }\n",
       "</style>\n",
       "<table border=\"1\" class=\"dataframe\">\n",
       "  <thead>\n",
       "    <tr style=\"text-align: right;\">\n",
       "      <th></th>\n",
       "      <th>P</th>\n",
       "      <th>~P ∨ P</th>\n",
       "    </tr>\n",
       "  </thead>\n",
       "  <tbody>\n",
       "    <tr>\n",
       "      <th>0</th>\n",
       "      <td>False</td>\n",
       "      <td>True</td>\n",
       "    </tr>\n",
       "    <tr>\n",
       "      <th>1</th>\n",
       "      <td>True</td>\n",
       "      <td>True</td>\n",
       "    </tr>\n",
       "  </tbody>\n",
       "</table>\n",
       "</div>"
      ],
      "text/plain": [
       "       P ~P ∨ P\n",
       "0  False   True\n",
       "1   True   True"
      ]
     },
     "execution_count": 9,
     "metadata": {},
     "output_type": "execute_result"
    }
   ],
   "source": [
    "# 논리식 정의: ~P ∨ P\n",
    "expr = Or(Not(P), P)\n",
    "\n",
    "# Truth Table 생성\n",
    "truth_values = []\n",
    "for p_val in [False, True]:\n",
    "    result = expr.subs({P: p_val})  # ¬P ∨ P 결과 계산\n",
    "    truth_values.append([p_val, result])\n",
    "\n",
    "# 데이터프레임 변환\n",
    "df = pd.DataFrame(truth_values, columns=[\"P\", \"~P ∨ P\"])\n",
    "df"
   ]
  },
  {
   "cell_type": "code",
   "execution_count": 11,
   "id": "259d4cb8-68ae-4515-8a32-b41e238d86f3",
   "metadata": {
    "tags": []
   },
   "outputs": [
    {
     "data": {
      "text/latex": [
       "$\\displaystyle P$"
      ],
      "text/plain": [
       "P"
      ]
     },
     "execution_count": 11,
     "metadata": {},
     "output_type": "execute_result"
    }
   ],
   "source": [
    "# 흡수법칙 \n",
    "from sympy import symbols, Or, And, simplify_logic\n",
    "\n",
    "# 변수 정의\n",
    "P, Q = symbols('P Q')\n",
    "\n",
    "# 논리식: P ∨ (P ∧ Q)\n",
    "expr = Or(P, And(P, Q))\n",
    "\n",
    "# 논리식 단순화\n",
    "simplified_expr = simplify_logic(expr)\n",
    "simplified_expr"
   ]
  },
  {
   "cell_type": "markdown",
   "id": "57c83236-69cc-4513-be39-1a51e48ba644",
   "metadata": {},
   "source": [
    "## 문제. ~ (~p∧q)∧(p∨q)를 간단히 표현해 보아라.  "
   ]
  },
  {
   "cell_type": "code",
   "execution_count": 21,
   "id": "0c377820-334d-4982-85a8-c2047f901de6",
   "metadata": {
    "tags": []
   },
   "outputs": [
    {
     "data": {
      "text/latex": [
       "$\\displaystyle P$"
      ],
      "text/plain": [
       "P"
      ]
     },
     "execution_count": 21,
     "metadata": {},
     "output_type": "execute_result"
    }
   ],
   "source": [
    "from sympy import symbols, Or, And, simplify_logic\n",
    "\n",
    "# 변수 정의\n",
    "P, Q = symbols('P Q')\n",
    "\n",
    "# 논리식: P ∨ (P ∧ Q)\n",
    "expr =And(Not(And(Not(P),Q)),Or(P,Q))\n",
    "\n",
    "# 논리식 단순화\n",
    "simplified_expr = simplify_logic(expr)\n",
    "simplified_expr"
   ]
  },
  {
   "cell_type": "markdown",
   "id": "acaef7bb-18e9-4157-9440-b445dd2882bb",
   "metadata": {},
   "source": [
    "## 문제. \tp→q 의 진리표를 작성해 보아라. "
   ]
  },
  {
   "cell_type": "code",
   "execution_count": 14,
   "id": "d68308e0-4d71-44c7-89af-8a75bde37823",
   "metadata": {
    "tags": []
   },
   "outputs": [
    {
     "data": {
      "text/html": [
       "<div>\n",
       "<style scoped>\n",
       "    .dataframe tbody tr th:only-of-type {\n",
       "        vertical-align: middle;\n",
       "    }\n",
       "\n",
       "    .dataframe tbody tr th {\n",
       "        vertical-align: top;\n",
       "    }\n",
       "\n",
       "    .dataframe thead th {\n",
       "        text-align: right;\n",
       "    }\n",
       "</style>\n",
       "<table border=\"1\" class=\"dataframe\">\n",
       "  <thead>\n",
       "    <tr style=\"text-align: right;\">\n",
       "      <th></th>\n",
       "      <th>P</th>\n",
       "      <th>Q</th>\n",
       "      <th>P → Q</th>\n",
       "    </tr>\n",
       "  </thead>\n",
       "  <tbody>\n",
       "    <tr>\n",
       "      <th>0</th>\n",
       "      <td>True</td>\n",
       "      <td>True</td>\n",
       "      <td>True</td>\n",
       "    </tr>\n",
       "    <tr>\n",
       "      <th>1</th>\n",
       "      <td>True</td>\n",
       "      <td>False</td>\n",
       "      <td>False</td>\n",
       "    </tr>\n",
       "    <tr>\n",
       "      <th>2</th>\n",
       "      <td>False</td>\n",
       "      <td>True</td>\n",
       "      <td>True</td>\n",
       "    </tr>\n",
       "    <tr>\n",
       "      <th>3</th>\n",
       "      <td>False</td>\n",
       "      <td>False</td>\n",
       "      <td>True</td>\n",
       "    </tr>\n",
       "  </tbody>\n",
       "</table>\n",
       "</div>"
      ],
      "text/plain": [
       "       P      Q  P → Q\n",
       "0   True   True   True\n",
       "1   True  False  False\n",
       "2  False   True   True\n",
       "3  False  False   True"
      ]
     },
     "execution_count": 14,
     "metadata": {},
     "output_type": "execute_result"
    }
   ],
   "source": [
    "# 조건명제 (Implication) P → Q의 진리표 생성\n",
    "\n",
    "from sympy import Implies\n",
    "\n",
    "# 논리식 정의: P → Q (조건명제)\n",
    "expr = Implies(P, Q)\n",
    "\n",
    "# Truth Table 생성\n",
    "truth_values = []\n",
    "for p_val in [True, False]:\n",
    "    for q_val in [True, False]:\n",
    "        result = expr.subs({P: p_val, Q: q_val})  # P → Q 결과 계산\n",
    "        truth_values.append([p_val, q_val, result])\n",
    "\n",
    "# 데이터프레임 변환\n",
    "df = pd.DataFrame(truth_values, columns=[\"P\", \"Q\", \"P → Q\"])\n",
    "df"
   ]
  },
  {
   "cell_type": "code",
   "execution_count": 16,
   "id": "eec4e291-cbd3-4513-bd41-48d0b1142572",
   "metadata": {
    "tags": []
   },
   "outputs": [
    {
     "data": {
      "text/html": [
       "<div>\n",
       "<style scoped>\n",
       "    .dataframe tbody tr th:only-of-type {\n",
       "        vertical-align: middle;\n",
       "    }\n",
       "\n",
       "    .dataframe tbody tr th {\n",
       "        vertical-align: top;\n",
       "    }\n",
       "\n",
       "    .dataframe thead th {\n",
       "        text-align: right;\n",
       "    }\n",
       "</style>\n",
       "<table border=\"1\" class=\"dataframe\">\n",
       "  <thead>\n",
       "    <tr style=\"text-align: right;\">\n",
       "      <th></th>\n",
       "      <th>P</th>\n",
       "      <th>Q</th>\n",
       "      <th>~P ∨ Q</th>\n",
       "    </tr>\n",
       "  </thead>\n",
       "  <tbody>\n",
       "    <tr>\n",
       "      <th>0</th>\n",
       "      <td>True</td>\n",
       "      <td>True</td>\n",
       "      <td>True</td>\n",
       "    </tr>\n",
       "    <tr>\n",
       "      <th>1</th>\n",
       "      <td>True</td>\n",
       "      <td>False</td>\n",
       "      <td>False</td>\n",
       "    </tr>\n",
       "    <tr>\n",
       "      <th>2</th>\n",
       "      <td>False</td>\n",
       "      <td>True</td>\n",
       "      <td>True</td>\n",
       "    </tr>\n",
       "    <tr>\n",
       "      <th>3</th>\n",
       "      <td>False</td>\n",
       "      <td>False</td>\n",
       "      <td>True</td>\n",
       "    </tr>\n",
       "  </tbody>\n",
       "</table>\n",
       "</div>"
      ],
      "text/plain": [
       "       P      Q ~P ∨ Q\n",
       "0   True   True   True\n",
       "1   True  False  False\n",
       "2  False   True   True\n",
       "3  False  False   True"
      ]
     },
     "execution_count": 16,
     "metadata": {},
     "output_type": "execute_result"
    }
   ],
   "source": [
    "# 논리식 정의: ~P ∨ Q\n",
    "expr = Or(Not(P), Q)\n",
    "\n",
    "# Truth Table 생성\n",
    "truth_values = []\n",
    "for p_val in [True, False]:\n",
    "    for q_val in [True, False]:\n",
    "        result = expr.subs({P: p_val, Q: q_val})  # ¬P ∨ Q 결과 계산\n",
    "        truth_values.append([p_val, q_val, result])\n",
    "\n",
    "# 데이터프레임 변환\n",
    "df = pd.DataFrame(truth_values, columns=[\"P\", \"Q\", \"~P ∨ Q\"])\n",
    "df"
   ]
  },
  {
   "cell_type": "markdown",
   "id": "a5eb8691-1d36-42aa-877b-e7ac378b825c",
   "metadata": {},
   "source": [
    "## 문제. \t(p∨q)→r≡(p→q)∧(p→r) 임을 보여라. "
   ]
  },
  {
   "cell_type": "code",
   "execution_count": 23,
   "id": "6f460f4d-063d-41f5-85b7-179a15f73943",
   "metadata": {
    "tags": []
   },
   "outputs": [
    {
     "data": {
      "text/html": [
       "<div>\n",
       "<style scoped>\n",
       "    .dataframe tbody tr th:only-of-type {\n",
       "        vertical-align: middle;\n",
       "    }\n",
       "\n",
       "    .dataframe tbody tr th {\n",
       "        vertical-align: top;\n",
       "    }\n",
       "\n",
       "    .dataframe thead th {\n",
       "        text-align: right;\n",
       "    }\n",
       "</style>\n",
       "<table border=\"1\" class=\"dataframe\">\n",
       "  <thead>\n",
       "    <tr style=\"text-align: right;\">\n",
       "      <th></th>\n",
       "      <th>p</th>\n",
       "      <th>q</th>\n",
       "      <th>r</th>\n",
       "      <th>(p ∨ q) → r</th>\n",
       "    </tr>\n",
       "  </thead>\n",
       "  <tbody>\n",
       "    <tr>\n",
       "      <th>0</th>\n",
       "      <td>True</td>\n",
       "      <td>True</td>\n",
       "      <td>True</td>\n",
       "      <td>True</td>\n",
       "    </tr>\n",
       "    <tr>\n",
       "      <th>1</th>\n",
       "      <td>True</td>\n",
       "      <td>True</td>\n",
       "      <td>False</td>\n",
       "      <td>False</td>\n",
       "    </tr>\n",
       "    <tr>\n",
       "      <th>2</th>\n",
       "      <td>True</td>\n",
       "      <td>False</td>\n",
       "      <td>True</td>\n",
       "      <td>True</td>\n",
       "    </tr>\n",
       "    <tr>\n",
       "      <th>3</th>\n",
       "      <td>True</td>\n",
       "      <td>False</td>\n",
       "      <td>False</td>\n",
       "      <td>False</td>\n",
       "    </tr>\n",
       "    <tr>\n",
       "      <th>4</th>\n",
       "      <td>False</td>\n",
       "      <td>True</td>\n",
       "      <td>True</td>\n",
       "      <td>True</td>\n",
       "    </tr>\n",
       "    <tr>\n",
       "      <th>5</th>\n",
       "      <td>False</td>\n",
       "      <td>True</td>\n",
       "      <td>False</td>\n",
       "      <td>False</td>\n",
       "    </tr>\n",
       "    <tr>\n",
       "      <th>6</th>\n",
       "      <td>False</td>\n",
       "      <td>False</td>\n",
       "      <td>True</td>\n",
       "      <td>True</td>\n",
       "    </tr>\n",
       "    <tr>\n",
       "      <th>7</th>\n",
       "      <td>False</td>\n",
       "      <td>False</td>\n",
       "      <td>False</td>\n",
       "      <td>True</td>\n",
       "    </tr>\n",
       "  </tbody>\n",
       "</table>\n",
       "</div>"
      ],
      "text/plain": [
       "       p      q      r (p ∨ q) → r\n",
       "0   True   True   True        True\n",
       "1   True   True  False       False\n",
       "2   True  False   True        True\n",
       "3   True  False  False       False\n",
       "4  False   True   True        True\n",
       "5  False   True  False       False\n",
       "6  False  False   True        True\n",
       "7  False  False  False        True"
      ]
     },
     "execution_count": 23,
     "metadata": {},
     "output_type": "execute_result"
    }
   ],
   "source": [
    "# (p ∨ q) → r 의 진리표\n",
    "# 변수 정의\n",
    "p, q, r = symbols('p q r')\n",
    "\n",
    "# 논리식 정의: (p ∨ q) → r\n",
    "expr = Implies(Or(p, q), r)\n",
    "\n",
    "# 진리표 생성\n",
    "truth_values = []\n",
    "for p_val in [True, False]:\n",
    "    for q_val in [True, False]:\n",
    "        for r_val in [True, False]:\n",
    "            result = expr.subs({p: p_val, q: q_val, r:r_val})  \n",
    "            truth_values.append([p_val, q_val, r_val,result])\n",
    "\n",
    "# 데이터프레임 변환\n",
    "df = pd.DataFrame(truth_values, columns=[\"p\", \"q\", \"r\", \"(p ∨ q) → r\"])\n",
    "df"
   ]
  },
  {
   "cell_type": "code",
   "execution_count": 26,
   "id": "08f83519-0b38-4b8a-8d68-54a29af97b73",
   "metadata": {
    "tags": []
   },
   "outputs": [
    {
     "data": {
      "text/html": [
       "<div>\n",
       "<style scoped>\n",
       "    .dataframe tbody tr th:only-of-type {\n",
       "        vertical-align: middle;\n",
       "    }\n",
       "\n",
       "    .dataframe tbody tr th {\n",
       "        vertical-align: top;\n",
       "    }\n",
       "\n",
       "    .dataframe thead th {\n",
       "        text-align: right;\n",
       "    }\n",
       "</style>\n",
       "<table border=\"1\" class=\"dataframe\">\n",
       "  <thead>\n",
       "    <tr style=\"text-align: right;\">\n",
       "      <th></th>\n",
       "      <th>p</th>\n",
       "      <th>q</th>\n",
       "      <th>r</th>\n",
       "      <th>(p→q)∧(p→r)</th>\n",
       "    </tr>\n",
       "  </thead>\n",
       "  <tbody>\n",
       "    <tr>\n",
       "      <th>0</th>\n",
       "      <td>True</td>\n",
       "      <td>True</td>\n",
       "      <td>True</td>\n",
       "      <td>True</td>\n",
       "    </tr>\n",
       "    <tr>\n",
       "      <th>1</th>\n",
       "      <td>True</td>\n",
       "      <td>True</td>\n",
       "      <td>False</td>\n",
       "      <td>False</td>\n",
       "    </tr>\n",
       "    <tr>\n",
       "      <th>2</th>\n",
       "      <td>True</td>\n",
       "      <td>False</td>\n",
       "      <td>True</td>\n",
       "      <td>True</td>\n",
       "    </tr>\n",
       "    <tr>\n",
       "      <th>3</th>\n",
       "      <td>True</td>\n",
       "      <td>False</td>\n",
       "      <td>False</td>\n",
       "      <td>False</td>\n",
       "    </tr>\n",
       "    <tr>\n",
       "      <th>4</th>\n",
       "      <td>False</td>\n",
       "      <td>True</td>\n",
       "      <td>True</td>\n",
       "      <td>True</td>\n",
       "    </tr>\n",
       "    <tr>\n",
       "      <th>5</th>\n",
       "      <td>False</td>\n",
       "      <td>True</td>\n",
       "      <td>False</td>\n",
       "      <td>False</td>\n",
       "    </tr>\n",
       "    <tr>\n",
       "      <th>6</th>\n",
       "      <td>False</td>\n",
       "      <td>False</td>\n",
       "      <td>True</td>\n",
       "      <td>True</td>\n",
       "    </tr>\n",
       "    <tr>\n",
       "      <th>7</th>\n",
       "      <td>False</td>\n",
       "      <td>False</td>\n",
       "      <td>False</td>\n",
       "      <td>True</td>\n",
       "    </tr>\n",
       "  </tbody>\n",
       "</table>\n",
       "</div>"
      ],
      "text/plain": [
       "       p      q      r (p→q)∧(p→r)\n",
       "0   True   True   True        True\n",
       "1   True   True  False       False\n",
       "2   True  False   True        True\n",
       "3   True  False  False       False\n",
       "4  False   True   True        True\n",
       "5  False   True  False       False\n",
       "6  False  False   True        True\n",
       "7  False  False  False        True"
      ]
     },
     "execution_count": 26,
     "metadata": {},
     "output_type": "execute_result"
    }
   ],
   "source": [
    "# 논리식 정의: (p→q)∧(p→r)\n",
    "expr =And(Implies(p,r),Implies(q,r))\n",
    "\n",
    "# 진리표 생성\n",
    "truth_values = []\n",
    "for p_val in [True, False]:\n",
    "    for q_val in [True, False]:\n",
    "        for r_val in [True, False]:\n",
    "            result = expr.subs({p: p_val, q: q_val, r:r_val})  \n",
    "            truth_values.append([p_val, q_val, r_val,result])\n",
    "\n",
    "# 데이터프레임 변환\n",
    "df = pd.DataFrame(truth_values, columns=[\"p\", \"q\", \"r\", \"(p→q)∧(p→r)\"])\n",
    "df"
   ]
  },
  {
   "cell_type": "markdown",
   "id": "6679d29d-6d2c-458e-8ff9-ec1ecde8bac2",
   "metadata": {},
   "source": [
    "## 문제. \t‘$n^2$ 이 홀수라면 $n$ 이 홀수이다. ‘ 라는 명제를 증명해 보아라.  "
   ]
  },
  {
   "cell_type": "code",
   "execution_count": 19,
   "id": "c60f796c-011b-469d-a7d1-552d43a23e74",
   "metadata": {
    "tags": []
   },
   "outputs": [
    {
     "data": {
      "text/html": [
       "<div>\n",
       "<style scoped>\n",
       "    .dataframe tbody tr th:only-of-type {\n",
       "        vertical-align: middle;\n",
       "    }\n",
       "\n",
       "    .dataframe tbody tr th {\n",
       "        vertical-align: top;\n",
       "    }\n",
       "\n",
       "    .dataframe thead th {\n",
       "        text-align: right;\n",
       "    }\n",
       "</style>\n",
       "<table border=\"1\" class=\"dataframe\">\n",
       "  <thead>\n",
       "    <tr style=\"text-align: right;\">\n",
       "      <th></th>\n",
       "      <th>P</th>\n",
       "      <th>Q</th>\n",
       "      <th>P → Q</th>\n",
       "      <th>~Q → ~P</th>\n",
       "      <th>동치 여부</th>\n",
       "    </tr>\n",
       "  </thead>\n",
       "  <tbody>\n",
       "    <tr>\n",
       "      <th>0</th>\n",
       "      <td>True</td>\n",
       "      <td>True</td>\n",
       "      <td>True</td>\n",
       "      <td>True</td>\n",
       "      <td>True</td>\n",
       "    </tr>\n",
       "    <tr>\n",
       "      <th>1</th>\n",
       "      <td>True</td>\n",
       "      <td>False</td>\n",
       "      <td>False</td>\n",
       "      <td>False</td>\n",
       "      <td>True</td>\n",
       "    </tr>\n",
       "    <tr>\n",
       "      <th>2</th>\n",
       "      <td>False</td>\n",
       "      <td>True</td>\n",
       "      <td>True</td>\n",
       "      <td>True</td>\n",
       "      <td>True</td>\n",
       "    </tr>\n",
       "    <tr>\n",
       "      <th>3</th>\n",
       "      <td>False</td>\n",
       "      <td>False</td>\n",
       "      <td>True</td>\n",
       "      <td>True</td>\n",
       "      <td>True</td>\n",
       "    </tr>\n",
       "  </tbody>\n",
       "</table>\n",
       "</div>"
      ],
      "text/plain": [
       "       P      Q  P → Q ~Q → ~P  동치 여부\n",
       "0   True   True   True    True   True\n",
       "1   True  False  False   False   True\n",
       "2  False   True   True    True   True\n",
       "3  False  False   True    True   True"
      ]
     },
     "execution_count": 19,
     "metadata": {},
     "output_type": "execute_result"
    }
   ],
   "source": [
    "# 필요한 라이브러리 다시 불러오기\n",
    "import pandas as pd\n",
    "from sympy import symbols, Implies, Not\n",
    "\n",
    "# 변수 정의\n",
    "P, Q = symbols('P Q')\n",
    "\n",
    "# 논리식 정의: P → Q 와 ~Q → ~P\n",
    "expr1 = Implies(P, Q)  # P → Q\n",
    "expr2 = Implies(Not(Q), Not(P))  # ~Q → ~P\n",
    "\n",
    "# Truth Table 생성\n",
    "truth_values = []\n",
    "for p_val in [True, False]:\n",
    "    for q_val in [True, False]:\n",
    "        result1 = expr1.subs({P: p_val, Q: q_val})  # P → Q 결과 계산\n",
    "        result2 = expr2.subs({P: p_val, Q: q_val})  # ~Q → ~P 결과 계산\n",
    "        truth_values.append([p_val, q_val, result1, result2, result1 == result2])  \n",
    "\n",
    "# 데이터프레임 변환\n",
    "df = pd.DataFrame(truth_values, columns=[\"P\", \"Q\", \"P → Q\", \"~Q → ~P\", \"동치 여부\"])\n",
    "df"
   ]
  },
  {
   "cell_type": "markdown",
   "id": "5553f487-5b0f-4896-869c-3b2f94e64e72",
   "metadata": {},
   "source": [
    "## 문제. p↔q≡(p→q) ∧(q→p) 임을 보여라. "
   ]
  },
  {
   "cell_type": "code",
   "execution_count": 2,
   "id": "eceded1d-6ef3-47c5-b059-1b219d5beecf",
   "metadata": {
    "tags": []
   },
   "outputs": [
    {
     "data": {
      "text/html": [
       "<div>\n",
       "<style scoped>\n",
       "    .dataframe tbody tr th:only-of-type {\n",
       "        vertical-align: middle;\n",
       "    }\n",
       "\n",
       "    .dataframe tbody tr th {\n",
       "        vertical-align: top;\n",
       "    }\n",
       "\n",
       "    .dataframe thead th {\n",
       "        text-align: right;\n",
       "    }\n",
       "</style>\n",
       "<table border=\"1\" class=\"dataframe\">\n",
       "  <thead>\n",
       "    <tr style=\"text-align: right;\">\n",
       "      <th></th>\n",
       "      <th>P</th>\n",
       "      <th>Q</th>\n",
       "      <th>p↔q</th>\n",
       "      <th>~(p→q) ∧(q→p)</th>\n",
       "      <th>동치 여부</th>\n",
       "    </tr>\n",
       "  </thead>\n",
       "  <tbody>\n",
       "    <tr>\n",
       "      <th>0</th>\n",
       "      <td>True</td>\n",
       "      <td>True</td>\n",
       "      <td>True</td>\n",
       "      <td>True</td>\n",
       "      <td>True</td>\n",
       "    </tr>\n",
       "    <tr>\n",
       "      <th>1</th>\n",
       "      <td>True</td>\n",
       "      <td>False</td>\n",
       "      <td>False</td>\n",
       "      <td>False</td>\n",
       "      <td>True</td>\n",
       "    </tr>\n",
       "    <tr>\n",
       "      <th>2</th>\n",
       "      <td>False</td>\n",
       "      <td>True</td>\n",
       "      <td>False</td>\n",
       "      <td>False</td>\n",
       "      <td>True</td>\n",
       "    </tr>\n",
       "    <tr>\n",
       "      <th>3</th>\n",
       "      <td>False</td>\n",
       "      <td>False</td>\n",
       "      <td>True</td>\n",
       "      <td>True</td>\n",
       "      <td>True</td>\n",
       "    </tr>\n",
       "  </tbody>\n",
       "</table>\n",
       "</div>"
      ],
      "text/plain": [
       "       P      Q    p↔q ~(p→q) ∧(q→p)  동치 여부\n",
       "0   True   True   True          True   True\n",
       "1   True  False  False         False   True\n",
       "2  False   True  False         False   True\n",
       "3  False  False   True          True   True"
      ]
     },
     "execution_count": 2,
     "metadata": {},
     "output_type": "execute_result"
    }
   ],
   "source": [
    "from sympy import symbols, Equivalent, Implies, And\n",
    "import pandas as pd\n",
    "\n",
    "# 변수 정의\n",
    "P, Q = symbols('P Q')\n",
    "\n",
    "# 논리식 정의: p↔q\n",
    "expr1 = Equivalent(P, Q)  #  p↔q\n",
    "expr2 = And(Implies(P,Q),Implies(Q,P))  # (p→q) ∧(q→p)\n",
    "\n",
    "# Truth Table 생성\n",
    "truth_values = []\n",
    "for p_val in [True, False]:\n",
    "    for q_val in [True, False]:\n",
    "        result1 = expr1.subs({P: p_val, Q: q_val})  # P → Q 결과 계산\n",
    "        result2 = expr2.subs({P: p_val, Q: q_val})  # ~Q → ~P 결과 계산\n",
    "        truth_values.append([p_val, q_val, result1, result2, result1 == result2])  \n",
    "\n",
    "# 데이터프레임 변환\n",
    "df = pd.DataFrame(truth_values, columns=[\"P\", \"Q\", \" p↔q\", \"~(p→q) ∧(q→p)\", \"동치 여부\"])\n",
    "df"
   ]
  },
  {
   "cell_type": "markdown",
   "id": "04b7c85e-e9f0-42bb-a7e8-757a4e157764",
   "metadata": {},
   "source": [
    "## 문제.\t‘외대생이면 경영수학을 수강하거나 퀴즈를 보지 않는다. 경영수학 수강생은 외대생이면서 퀴즈를 본다. 따라서, 외대생은 퀴즈를 본다.’ 라는 논증은 정당(valid)한가?"
   ]
  },
  {
   "cell_type": "code",
   "execution_count": 2,
   "id": "db9a9ad0-273c-4385-86a3-e48c7f86140b",
   "metadata": {
    "tags": []
   },
   "outputs": [
    {
     "data": {
      "text/html": [
       "<div>\n",
       "<style scoped>\n",
       "    .dataframe tbody tr th:only-of-type {\n",
       "        vertical-align: middle;\n",
       "    }\n",
       "\n",
       "    .dataframe tbody tr th {\n",
       "        vertical-align: top;\n",
       "    }\n",
       "\n",
       "    .dataframe thead th {\n",
       "        text-align: right;\n",
       "    }\n",
       "</style>\n",
       "<table border=\"1\" class=\"dataframe\">\n",
       "  <thead>\n",
       "    <tr style=\"text-align: right;\">\n",
       "      <th></th>\n",
       "      <th>p</th>\n",
       "      <th>q</th>\n",
       "      <th>r</th>\n",
       "      <th>p→(q∨~r)</th>\n",
       "      <th>q→(p∧r)</th>\n",
       "      <th>p→r</th>\n",
       "    </tr>\n",
       "  </thead>\n",
       "  <tbody>\n",
       "    <tr>\n",
       "      <th>0</th>\n",
       "      <td>True</td>\n",
       "      <td>True</td>\n",
       "      <td>True</td>\n",
       "      <td>True</td>\n",
       "      <td>True</td>\n",
       "      <td>True</td>\n",
       "    </tr>\n",
       "    <tr>\n",
       "      <th>1</th>\n",
       "      <td>True</td>\n",
       "      <td>True</td>\n",
       "      <td>False</td>\n",
       "      <td>True</td>\n",
       "      <td>False</td>\n",
       "      <td>False</td>\n",
       "    </tr>\n",
       "    <tr>\n",
       "      <th>2</th>\n",
       "      <td>True</td>\n",
       "      <td>False</td>\n",
       "      <td>True</td>\n",
       "      <td>False</td>\n",
       "      <td>True</td>\n",
       "      <td>True</td>\n",
       "    </tr>\n",
       "    <tr>\n",
       "      <th>3</th>\n",
       "      <td>True</td>\n",
       "      <td>False</td>\n",
       "      <td>False</td>\n",
       "      <td>True</td>\n",
       "      <td>True</td>\n",
       "      <td>False</td>\n",
       "    </tr>\n",
       "    <tr>\n",
       "      <th>4</th>\n",
       "      <td>False</td>\n",
       "      <td>True</td>\n",
       "      <td>True</td>\n",
       "      <td>True</td>\n",
       "      <td>False</td>\n",
       "      <td>True</td>\n",
       "    </tr>\n",
       "    <tr>\n",
       "      <th>5</th>\n",
       "      <td>False</td>\n",
       "      <td>True</td>\n",
       "      <td>False</td>\n",
       "      <td>True</td>\n",
       "      <td>False</td>\n",
       "      <td>True</td>\n",
       "    </tr>\n",
       "    <tr>\n",
       "      <th>6</th>\n",
       "      <td>False</td>\n",
       "      <td>False</td>\n",
       "      <td>True</td>\n",
       "      <td>True</td>\n",
       "      <td>True</td>\n",
       "      <td>True</td>\n",
       "    </tr>\n",
       "    <tr>\n",
       "      <th>7</th>\n",
       "      <td>False</td>\n",
       "      <td>False</td>\n",
       "      <td>False</td>\n",
       "      <td>True</td>\n",
       "      <td>True</td>\n",
       "      <td>True</td>\n",
       "    </tr>\n",
       "  </tbody>\n",
       "</table>\n",
       "</div>"
      ],
      "text/plain": [
       "       p      q      r p→(q∨~r) q→(p∧r)    p→r\n",
       "0   True   True   True     True    True   True\n",
       "1   True   True  False     True   False  False\n",
       "2   True  False   True    False    True   True\n",
       "3   True  False  False     True    True  False\n",
       "4  False   True   True     True   False   True\n",
       "5  False   True  False     True   False   True\n",
       "6  False  False   True     True    True   True\n",
       "7  False  False  False     True    True   True"
      ]
     },
     "execution_count": 2,
     "metadata": {},
     "output_type": "execute_result"
    }
   ],
   "source": [
    "# p→(q∨~r),q→(p∧r)   ∴p→r\n",
    "from sympy import symbols, Implies, And, Or, Not\n",
    "import pandas as pd\n",
    "\n",
    "# 변수 정의\n",
    "p, q, r = symbols('p q r')\n",
    "\n",
    "# 논리식 정의: (p ∨ q) → r\n",
    "expr1 = Implies(p,Or(q,Not(r)))\n",
    "expr2 = Implies(q,And(p,r))\n",
    "expr3 = Implies(p,r)\n",
    "\n",
    "# 진리표 생성\n",
    "truth_values = []\n",
    "for p_val in [True, False]:\n",
    "    for q_val in [True, False]:\n",
    "        for r_val in [True, False]:\n",
    "            result1 = expr1.subs({p: p_val, q: q_val, r:r_val})  \n",
    "            result2 = expr2.subs({p: p_val, q: q_val, r:r_val})\n",
    "            result3 = expr3.subs({p: p_val, q: q_val, r:r_val})\n",
    "            truth_values.append([p_val, q_val, r_val,result1,result2,result3])\n",
    "            \n",
    "\n",
    "# 데이터프레임 변환\n",
    "df = pd.DataFrame(truth_values, columns=[\"p\", \"q\", \"r\", \"p→(q∨~r)\", \"q→(p∧r)\",\"p→r\"])\n",
    "df"
   ]
  },
  {
   "cell_type": "markdown",
   "id": "8b29a29b-a069-44bf-82cb-ea403b004816",
   "metadata": {},
   "source": [
    "## 문제. ‘371,487의 각 자리의 숫자의 합이 3으로 나누어지면, 371,487은 3의 배수이다. 371,487의 각 자리의 숫자의 합은 3으로 나누어진다. 따라서 371,487은 3의 배수이다.’ 라는 논증은 정당(valid)한가?"
   ]
  },
  {
   "cell_type": "code",
   "execution_count": 3,
   "id": "1b411a4b-5e33-4227-b170-92fdb62d5e01",
   "metadata": {
    "tags": []
   },
   "outputs": [
    {
     "data": {
      "text/html": [
       "<div>\n",
       "<style scoped>\n",
       "    .dataframe tbody tr th:only-of-type {\n",
       "        vertical-align: middle;\n",
       "    }\n",
       "\n",
       "    .dataframe tbody tr th {\n",
       "        vertical-align: top;\n",
       "    }\n",
       "\n",
       "    .dataframe thead th {\n",
       "        text-align: right;\n",
       "    }\n",
       "</style>\n",
       "<table border=\"1\" class=\"dataframe\">\n",
       "  <thead>\n",
       "    <tr style=\"text-align: right;\">\n",
       "      <th></th>\n",
       "      <th>P</th>\n",
       "      <th>Q</th>\n",
       "      <th>P→Q</th>\n",
       "      <th>P</th>\n",
       "      <th>Q</th>\n",
       "    </tr>\n",
       "  </thead>\n",
       "  <tbody>\n",
       "    <tr>\n",
       "      <th>0</th>\n",
       "      <td>True</td>\n",
       "      <td>True</td>\n",
       "      <td>True</td>\n",
       "      <td>True</td>\n",
       "      <td>True</td>\n",
       "    </tr>\n",
       "    <tr>\n",
       "      <th>1</th>\n",
       "      <td>True</td>\n",
       "      <td>False</td>\n",
       "      <td>False</td>\n",
       "      <td>True</td>\n",
       "      <td>False</td>\n",
       "    </tr>\n",
       "    <tr>\n",
       "      <th>2</th>\n",
       "      <td>False</td>\n",
       "      <td>True</td>\n",
       "      <td>True</td>\n",
       "      <td>False</td>\n",
       "      <td>True</td>\n",
       "    </tr>\n",
       "    <tr>\n",
       "      <th>3</th>\n",
       "      <td>False</td>\n",
       "      <td>False</td>\n",
       "      <td>True</td>\n",
       "      <td>False</td>\n",
       "      <td>False</td>\n",
       "    </tr>\n",
       "  </tbody>\n",
       "</table>\n",
       "</div>"
      ],
      "text/plain": [
       "       P      Q    P→Q      P      Q\n",
       "0   True   True   True   True   True\n",
       "1   True  False  False   True  False\n",
       "2  False   True   True  False   True\n",
       "3  False  False   True  False  False"
      ]
     },
     "execution_count": 3,
     "metadata": {},
     "output_type": "execute_result"
    }
   ],
   "source": [
    "# modus ponens\n",
    "from sympy import symbols, Equivalent, Implies, And\n",
    "import pandas as pd\n",
    "\n",
    "# 변수 정의\n",
    "P, Q = symbols('P Q')\n",
    "\n",
    "# 논리식 정의\n",
    "expr1 = Implies(P, Q)  \n",
    "expr2 = P\n",
    "expr3 = Q\n",
    "\n",
    "# Truth Table 생성\n",
    "truth_values = []\n",
    "for p_val in [True, False]:\n",
    "    for q_val in [True, False]:\n",
    "        result1 = expr1.subs({P: p_val, Q: q_val})  \n",
    "        result2 = expr2.subs({P: p_val, Q: q_val})  \n",
    "        result3 = expr3.subs({P: p_val, Q: q_val})  \n",
    "        truth_values.append([p_val, q_val, result1, result2, result3])  \n",
    "\n",
    "# 데이터프레임 변환\n",
    "df = pd.DataFrame(truth_values, columns=[\"P\", \"Q\", \"P→Q\",\"P\",\"Q\"])\n",
    "df"
   ]
  },
  {
   "cell_type": "code",
   "execution_count": 5,
   "id": "d64ed232-204f-4ea0-9537-19b0ba965efc",
   "metadata": {
    "tags": []
   },
   "outputs": [
    {
     "data": {
      "text/html": [
       "<div>\n",
       "<style scoped>\n",
       "    .dataframe tbody tr th:only-of-type {\n",
       "        vertical-align: middle;\n",
       "    }\n",
       "\n",
       "    .dataframe tbody tr th {\n",
       "        vertical-align: top;\n",
       "    }\n",
       "\n",
       "    .dataframe thead th {\n",
       "        text-align: right;\n",
       "    }\n",
       "</style>\n",
       "<table border=\"1\" class=\"dataframe\">\n",
       "  <thead>\n",
       "    <tr style=\"text-align: right;\">\n",
       "      <th></th>\n",
       "      <th>P</th>\n",
       "      <th>Q</th>\n",
       "      <th>P→Q</th>\n",
       "      <th>~Q</th>\n",
       "      <th>~P</th>\n",
       "    </tr>\n",
       "  </thead>\n",
       "  <tbody>\n",
       "    <tr>\n",
       "      <th>0</th>\n",
       "      <td>True</td>\n",
       "      <td>True</td>\n",
       "      <td>True</td>\n",
       "      <td>False</td>\n",
       "      <td>False</td>\n",
       "    </tr>\n",
       "    <tr>\n",
       "      <th>1</th>\n",
       "      <td>True</td>\n",
       "      <td>False</td>\n",
       "      <td>False</td>\n",
       "      <td>True</td>\n",
       "      <td>False</td>\n",
       "    </tr>\n",
       "    <tr>\n",
       "      <th>2</th>\n",
       "      <td>False</td>\n",
       "      <td>True</td>\n",
       "      <td>True</td>\n",
       "      <td>False</td>\n",
       "      <td>True</td>\n",
       "    </tr>\n",
       "    <tr>\n",
       "      <th>3</th>\n",
       "      <td>False</td>\n",
       "      <td>False</td>\n",
       "      <td>True</td>\n",
       "      <td>True</td>\n",
       "      <td>True</td>\n",
       "    </tr>\n",
       "  </tbody>\n",
       "</table>\n",
       "</div>"
      ],
      "text/plain": [
       "       P      Q    P→Q     ~Q     ~P\n",
       "0   True   True   True  False  False\n",
       "1   True  False  False   True  False\n",
       "2  False   True   True  False   True\n",
       "3  False  False   True   True   True"
      ]
     },
     "execution_count": 5,
     "metadata": {},
     "output_type": "execute_result"
    }
   ],
   "source": [
    "# modus tollens\n",
    "from sympy import symbols, Implies, Not\n",
    "import pandas as pd\n",
    "\n",
    "# 변수 정의\n",
    "P, Q = symbols('P Q')\n",
    "\n",
    "# 논리식 정의\n",
    "expr1 = Implies(P, Q)  \n",
    "expr2 = Not(Q)\n",
    "expr3 = Not(P)\n",
    "\n",
    "# Truth Table 생성\n",
    "truth_values = []\n",
    "for p_val in [True, False]:\n",
    "    for q_val in [True, False]:\n",
    "        result1 = expr1.subs({P: p_val, Q: q_val})  \n",
    "        result2 = expr2.subs({P: p_val, Q: q_val})  \n",
    "        result3 = expr3.subs({P: p_val, Q: q_val})  \n",
    "        truth_values.append([p_val, q_val, result1, result2, result3])  \n",
    "\n",
    "# 데이터프레임 변환\n",
    "df = pd.DataFrame(truth_values, columns=[\"P\", \"Q\", \"P→Q\",\"~Q\",\"~P\"])\n",
    "df"
   ]
  },
  {
   "cell_type": "markdown",
   "id": "c1306f03-f621-4fa1-883d-e1045142ccf1",
   "metadata": {},
   "source": [
    "## S→B, ~( A→B) 의 진리표 만들기"
   ]
  },
  {
   "cell_type": "code",
   "execution_count": 1,
   "id": "c04b5972-8abe-4215-9bf7-f9fb0aad9e04",
   "metadata": {
    "tags": []
   },
   "outputs": [
    {
     "data": {
      "text/html": [
       "<div>\n",
       "<style scoped>\n",
       "    .dataframe tbody tr th:only-of-type {\n",
       "        vertical-align: middle;\n",
       "    }\n",
       "\n",
       "    .dataframe tbody tr th {\n",
       "        vertical-align: top;\n",
       "    }\n",
       "\n",
       "    .dataframe thead th {\n",
       "        text-align: right;\n",
       "    }\n",
       "</style>\n",
       "<table border=\"1\" class=\"dataframe\">\n",
       "  <thead>\n",
       "    <tr style=\"text-align: right;\">\n",
       "      <th></th>\n",
       "      <th>A</th>\n",
       "      <th>B</th>\n",
       "      <th>S</th>\n",
       "      <th>S→B)</th>\n",
       "      <th>~(A→B)</th>\n",
       "      <th>conclusion</th>\n",
       "    </tr>\n",
       "  </thead>\n",
       "  <tbody>\n",
       "    <tr>\n",
       "      <th>0</th>\n",
       "      <td>True</td>\n",
       "      <td>True</td>\n",
       "      <td>True</td>\n",
       "      <td>True</td>\n",
       "      <td>False</td>\n",
       "      <td>False</td>\n",
       "    </tr>\n",
       "    <tr>\n",
       "      <th>1</th>\n",
       "      <td>True</td>\n",
       "      <td>True</td>\n",
       "      <td>False</td>\n",
       "      <td>True</td>\n",
       "      <td>False</td>\n",
       "      <td>False</td>\n",
       "    </tr>\n",
       "    <tr>\n",
       "      <th>2</th>\n",
       "      <td>True</td>\n",
       "      <td>False</td>\n",
       "      <td>True</td>\n",
       "      <td>False</td>\n",
       "      <td>True</td>\n",
       "      <td>False</td>\n",
       "    </tr>\n",
       "    <tr>\n",
       "      <th>3</th>\n",
       "      <td>True</td>\n",
       "      <td>False</td>\n",
       "      <td>False</td>\n",
       "      <td>True</td>\n",
       "      <td>True</td>\n",
       "      <td>True</td>\n",
       "    </tr>\n",
       "    <tr>\n",
       "      <th>4</th>\n",
       "      <td>False</td>\n",
       "      <td>True</td>\n",
       "      <td>True</td>\n",
       "      <td>True</td>\n",
       "      <td>False</td>\n",
       "      <td>False</td>\n",
       "    </tr>\n",
       "    <tr>\n",
       "      <th>5</th>\n",
       "      <td>False</td>\n",
       "      <td>True</td>\n",
       "      <td>False</td>\n",
       "      <td>True</td>\n",
       "      <td>False</td>\n",
       "      <td>False</td>\n",
       "    </tr>\n",
       "    <tr>\n",
       "      <th>6</th>\n",
       "      <td>False</td>\n",
       "      <td>False</td>\n",
       "      <td>True</td>\n",
       "      <td>False</td>\n",
       "      <td>False</td>\n",
       "      <td>False</td>\n",
       "    </tr>\n",
       "    <tr>\n",
       "      <th>7</th>\n",
       "      <td>False</td>\n",
       "      <td>False</td>\n",
       "      <td>False</td>\n",
       "      <td>True</td>\n",
       "      <td>False</td>\n",
       "      <td>False</td>\n",
       "    </tr>\n",
       "  </tbody>\n",
       "</table>\n",
       "</div>"
      ],
      "text/plain": [
       "       A      B      S   S→B) ~(A→B) conclusion\n",
       "0   True   True   True   True  False      False\n",
       "1   True   True  False   True  False      False\n",
       "2   True  False   True  False   True      False\n",
       "3   True  False  False   True   True       True\n",
       "4  False   True   True   True  False      False\n",
       "5  False   True  False   True  False      False\n",
       "6  False  False   True  False  False      False\n",
       "7  False  False  False   True  False      False"
      ]
     },
     "execution_count": 1,
     "metadata": {},
     "output_type": "execute_result"
    }
   ],
   "source": [
    "from sympy import symbols, Implies, Not, And\n",
    "import pandas as pd\n",
    "\n",
    "# 변수 정의\n",
    "A, B, S = symbols('A B S')\n",
    "\n",
    "# 논리식 정의\n",
    "expr1 = Implies(S,B)\n",
    "expr2 = Not(Implies(A,B))\n",
    "\n",
    "# 진리표 생성\n",
    "truth_values = []\n",
    "for a_val in [True, False]:\n",
    "    for b_val in [True, False]:\n",
    "        for s_val in [True, False]:\n",
    "            result1 = expr1.subs({A: a_val, B: b_val, S:s_val})  \n",
    "            result2 = expr2.subs({A: a_val, B: b_val, S:s_val})\n",
    "            result3 = And(result1,result2)\n",
    "            truth_values.append([a_val, b_val, s_val,result1,result2, result3])\n",
    "            \n",
    "\n",
    "# 데이터프레임 변환\n",
    "df = pd.DataFrame(truth_values, columns=[\"A\", \"B\", \"S\", \"S→B)\", \"~(A→B)\",'conclusion'])\n",
    "df"
   ]
  },
  {
   "cell_type": "markdown",
   "id": "54f19999-2dfb-46db-8a5f-936b2ee7bc4e",
   "metadata": {},
   "source": [
    "## 문제. 아래 글을 읽고, “모든 학생 S에 대해, 그리고 모든 음식 스테이션 Z에 대해, Z에 포함된 최소한 하나의 음식 I가 존재하여 S가 그 음식을 선택했다’는 명제가 참인지 판단하여라.  \n",
    "A college cafeteria line has four stations: salads, main courses, desserts, and beverages.\n",
    "The salad station offers a choice of green salad or fruit salad; the main course station\n",
    "offers spaghetti or fish; the dessert station offers pie or cake; and the beverage station\n",
    "offers milk, soda, or coffee. Three students, Uta, Tim, and Yuen, go through the line and\n",
    "make the following choices:\n",
    "\n",
    "Uta: green salad, spaghetti, pie, milk\n",
    "\n",
    "Tim: fruit salad, fish, pie, cake, milk, coffee\n",
    "\n",
    "Yuen: spaghetti, fish, pie, soda\n"
   ]
  },
  {
   "cell_type": "code",
   "execution_count": 10,
   "id": "47325db7-7a53-407b-9c78-f06835d46219",
   "metadata": {},
   "outputs": [],
   "source": [
    "# 각 스테이션에 제공되는 음식\n",
    "stations = {\n",
    "    \"salads\": {\"green salad\", \"fruit salad\"},\n",
    "    \"main_courses\": {\"spaghetti\", \"fish\"},\n",
    "    \"desserts\": {\"pie\", \"cake\"},\n",
    "    \"beverages\": {\"milk\", \"soda\", \"coffee\"}\n",
    "}\n",
    "\n",
    "# 각 학생의 음식 선택\n",
    "students = {\n",
    "    \"Uta\": {\"green salad\", \"spaghetti\", \"pie\", \"milk\"},\n",
    "    \"Tim\": {\"fruit salad\", \"fish\", \"pie\", \"cake\", \"milk\", \"coffee\"},\n",
    "    \"Yuen\": {\"spaghetti\", \"fish\", \"pie\", \"soda\"}\n",
    "}\n"
   ]
  },
  {
   "cell_type": "code",
   "execution_count": 11,
   "id": "266a2711-7307-41ff-bf7b-e474da253309",
   "metadata": {
    "tags": []
   },
   "outputs": [
    {
     "name": "stdout",
     "output_type": "stream",
     "text": [
      "Uta {'green salad', 'pie', 'spaghetti', 'milk'}\n",
      "Tim {'pie', 'milk', 'fish', 'cake', 'coffee', 'fruit salad'}\n",
      "Yuen {'fish', 'pie', 'spaghetti', 'soda'}\n"
     ]
    }
   ],
   "source": [
    "# 각 학생이 고른 선택을 출력해 봄\n",
    "for student, choices in students.items():\n",
    "    print(student,choices)"
   ]
  },
  {
   "cell_type": "code",
   "execution_count": 6,
   "id": "f455dbb7-7cf8-4c4f-a0d5-7888eb3c6cd3",
   "metadata": {
    "tags": []
   },
   "outputs": [
    {
     "name": "stdout",
     "output_type": "stream",
     "text": [
      "❌ Uta chose {'green salad', 'fruit salad'} in salads\n",
      "❌ Uta chose {'fish', 'spaghetti'} in main_courses\n",
      "❌ Uta chose {'pie', 'cake'} in desserts\n",
      "❌ Uta chose {'milk', 'coffee', 'soda'} in beverages\n",
      "❌ Tim chose {'green salad', 'fruit salad'} in salads\n",
      "❌ Tim chose {'fish', 'spaghetti'} in main_courses\n",
      "❌ Tim chose {'pie', 'cake'} in desserts\n",
      "❌ Tim chose {'milk', 'coffee', 'soda'} in beverages\n",
      "❌ Yuen chose {'fish', 'spaghetti'} in main_courses\n",
      "❌ Yuen chose {'pie', 'cake'} in desserts\n",
      "❌ Yuen chose {'milk', 'coffee', 'soda'} in beverages\n"
     ]
    }
   ],
   "source": [
    "for student, choices in students.items():  # ∀ S (모든 학생)\n",
    "    for station, items in stations.items():  # ∀ Z (모든 스테이션)\n",
    "        if any(item in choices for item in items):  # ∃ I (해당 스테이션에서 선택된 음식이 있는 경우)\n",
    "            print(f\"❌ {student} chose {items} in {station}\")"
   ]
  },
  {
   "cell_type": "code",
   "execution_count": 8,
   "id": "1d3a8e0d-f883-40f5-83cc-f658e0d135cd",
   "metadata": {
    "tags": []
   },
   "outputs": [
    {
     "name": "stdout",
     "output_type": "stream",
     "text": [
      "❌ Tim chose {'pie', 'cake'} in desserts\n",
      "❌ Yuen chose {'fish', 'spaghetti'} in main_courses\n"
     ]
    }
   ],
   "source": [
    "for student, choices in students.items():  # ∀ S (모든 학생)\n",
    "    for station, items in stations.items():  # ∀ Z (모든 스테이션)\n",
    "        if all(item in choices for item in items):  # ∀ I (해당 스테이션에서 모든 음식을 선택한 경우)\n",
    "            print(f\"❌ {student} chose {items} in {station}\")"
   ]
  },
  {
   "cell_type": "code",
   "execution_count": 9,
   "id": "c76adca3-50f9-4bc3-9b51-0bf645979049",
   "metadata": {
    "tags": []
   },
   "outputs": [
    {
     "name": "stdout",
     "output_type": "stream",
     "text": [
      "❌ Uta chose {'green salad', 'fruit salad'} in salads\n",
      "❌ Uta chose {'fish', 'spaghetti'} in main_courses\n",
      "❌ Uta chose {'pie', 'cake'} in desserts\n",
      "❌ Uta chose {'milk', 'coffee', 'soda'} in beverages\n",
      "❌ Tim chose {'green salad', 'fruit salad'} in salads\n",
      "❌ Tim chose {'fish', 'spaghetti'} in main_courses\n",
      "❌ Tim chose {'milk', 'coffee', 'soda'} in beverages\n",
      "❌ Yuen chose {'green salad', 'fruit salad'} in salads\n",
      "❌ Yuen chose {'pie', 'cake'} in desserts\n",
      "❌ Yuen chose {'milk', 'coffee', 'soda'} in beverages\n"
     ]
    }
   ],
   "source": [
    "for student, choices in students.items():  # ∀ S (모든 학생)\n",
    "    for station, items in stations.items():  # ∀ Z (모든 스테이션)\n",
    "        if not all(item in choices for item in items):  # ∀ I (해당 스테이션에서 모든 음식을 선택하지 않은 경우)\n",
    "            print(f\"❌ {student} chose {items} in {station}\")"
   ]
  },
  {
   "cell_type": "code",
   "execution_count": 12,
   "id": "c52da74d-8ef2-40fc-9fce-9ba9dee2035e",
   "metadata": {
    "tags": []
   },
   "outputs": [
    {
     "name": "stdout",
     "output_type": "stream",
     "text": [
      "❌ Yuen did not choose anything from salads\n"
     ]
    }
   ],
   "source": [
    "for student, choices in students.items():  # ∀ S (모든 학생)\n",
    "    for station, items in stations.items():  # ∀ Z (모든 스테이션)\n",
    "        if not any(item in choices for item in items):  # ∃ I (해당 스테이션에서 선택된 음식이 없는 경우)\n",
    "            print(f\"❌ {student} did not choose anything from {station}\")"
   ]
  },
  {
   "cell_type": "code",
   "execution_count": null,
   "id": "d3728cd3-58f1-42c8-ab9a-c05f8475ae81",
   "metadata": {},
   "outputs": [],
   "source": [
    "def check_formula(students, stations):\n",
    "    for student, choices in students.items():  # ∀ S (모든 학생)\n",
    "        for station, items in stations.items():  # ∀ Z (모든 스테이션)\n",
    "            if not any(item in choices for item in items):  # ∃ I (해당 스테이션에서 선택된 음식이 없는 경우)\n",
    "                print(f\"❌ {student} did not choose anything from {station}\")\n",
    "                return False  # 논리식이 거짓이므로 False 반환\n",
    "    return True  # 모든 학생이 조건을 만족하면 True 반환\n",
    "\n",
    "# 논리식 실행\n",
    "result = check_formula(students, stations)ㅠㅠ\n",
    "\n",
    "# 결과 출력\n",
    "if result:\n",
    "    print(\"✅ The statement ∀S, ∀Z, ∃I in Z such that S chose I is TRUE.\")\n",
    "else:\n",
    "    print(\"❌ The statement is FALSE.\")"
   ]
  },
  {
   "cell_type": "markdown",
   "id": "497b0329-7580-46c5-b2c2-0f00443363de",
   "metadata": {},
   "source": [
    "## 문제. 홀수 n에 대하여 아래의 식이 성립함을 증명하여라. \n",
    "  $$ 1^3+3^3+5^3+⋯+(2n-1)^3=n^2 (2n^2-1) $$\n"
   ]
  },
  {
   "cell_type": "code",
   "execution_count": 1,
   "id": "35f68d7c-3dd2-48b5-86ed-416ee9b191bf",
   "metadata": {
    "tags": []
   },
   "outputs": [
    {
     "data": {
      "text/latex": [
       "$\\displaystyle \\left(k + 1\\right)^{2} \\left(2 k^{2} + 4 k + 1\\right)$"
      ],
      "text/plain": [
       "(k + 1)**2*(2*k**2 + 4*k + 1)"
      ]
     },
     "execution_count": 1,
     "metadata": {},
     "output_type": "execute_result"
    }
   ],
   "source": [
    "import sympy as sp\n",
    "\n",
    "# 변수 정의\n",
    "k = sp.symbols('k')\n",
    "\n",
    "# 주어진 식\n",
    "expr = k**2 * (2*k**2 - 1) + (2*k + 1)**3\n",
    "\n",
    "# 식의 인수분해\n",
    "sp.factor(expr)"
   ]
  },
  {
   "cell_type": "markdown",
   "id": "8cace374-d6cf-458e-a7e1-9432c9ffa804",
   "metadata": {},
   "source": [
    "## 소인수 분해"
   ]
  },
  {
   "cell_type": "code",
   "execution_count": 2,
   "id": "1d36303f-7e7b-4f3d-a3a1-43f2944d6447",
   "metadata": {
    "tags": []
   },
   "outputs": [
    {
     "data": {
      "text/plain": [
       "{2: 3, 3: 1, 5: 1}"
      ]
     },
     "execution_count": 2,
     "metadata": {},
     "output_type": "execute_result"
    }
   ],
   "source": [
    "# 소인수 분해\n",
    "from sympy import factorint\n",
    "\n",
    "factorint(120)"
   ]
  },
  {
   "cell_type": "code",
   "execution_count": 4,
   "id": "96493cda-afc7-493f-b37b-bec5b8d97835",
   "metadata": {
    "tags": []
   },
   "outputs": [
    {
     "data": {
      "text/plain": [
       "[2, 3, 5, 7]"
      ]
     },
     "execution_count": 4,
     "metadata": {},
     "output_type": "execute_result"
    }
   ],
   "source": [
    "def sieve_of_eratosthenes(limit):\n",
    "    \"\"\"에라토스테네스의 체를 사용하여 2부터 limit까지의 모든 소수를 찾는 함수\"\"\"\n",
    "    primes = [True] * (limit + 1)  # 처음에는 모든 수를 소수(True)로 가정\n",
    "    primes[0], primes[1] = False, False  # 0과 1은 소수가 아님\n",
    "\n",
    "    for num in range(2, int(limit ** 0.5) + 1):  # 2부터 sqrt(limit)까지 반복\n",
    "        if primes[num]:  # 현재 숫자가 소수라면\n",
    "            for multiple in range(num * num, limit + 1, num):  # num의 배수들을 제거\n",
    "                primes[multiple] = False\n",
    "\n",
    "    # 소수 리스트 반환\n",
    "    return [num for num, is_prime in enumerate(primes) if is_prime]\n",
    "\n",
    "# 테스트: 100 이하의 모든 소수 찾기\n",
    "prime_numbers = sieve_of_eratosthenes(10)\n",
    "\n",
    "# 결과 출력\n",
    "prime_numbers\n"
   ]
  },
  {
   "cell_type": "markdown",
   "id": "840fd4b1-8734-4147-b32f-bf8d9803d02d",
   "metadata": {},
   "source": [
    "## floor 함수와 ceiling 함수"
   ]
  },
  {
   "cell_type": "code",
   "execution_count": 7,
   "id": "638ac3e3-3730-4e9c-b84f-bb9c9c6f2a41",
   "metadata": {
    "tags": []
   },
   "outputs": [
    {
     "name": "stdout",
     "output_type": "stream",
     "text": [
      "⌊-4.99999⌋= -5\n",
      "⌊-2.7⌋= -3\n",
      "⌊-1.4142135623730951⌋= -2\n",
      "⌊0.3⌋= 0\n",
      "⌊3.9⌋= 3\n",
      "⌊4.5⌋= 4\n"
     ]
    }
   ],
   "source": [
    "# floor 함수\n",
    "from math import floor\n",
    "import numpy as np\n",
    "L=[-4.99999,-2.7,-np.sqrt(2),0.3,3.9,4.5]\n",
    "for x in L:\n",
    "    print(f'⌊{x}⌋=',floor(x))"
   ]
  },
  {
   "cell_type": "code",
   "execution_count": 10,
   "id": "8e0aff99-eaf4-413a-8d2c-22f1460d8abd",
   "metadata": {
    "tags": []
   },
   "outputs": [
    {
     "data": {
      "text/plain": [
       "(6, 5)"
      ]
     },
     "execution_count": 10,
     "metadata": {},
     "output_type": "execute_result"
    }
   ],
   "source": [
    "floor(3.5+2.6),floor(3.5)+floor(2.6)"
   ]
  },
  {
   "cell_type": "code",
   "execution_count": 9,
   "id": "50772ebd-c2f3-45eb-af4a-41a9542d47b6",
   "metadata": {
    "tags": []
   },
   "outputs": [
    {
     "name": "stdout",
     "output_type": "stream",
     "text": [
      "⌈-4.99999⌉= -4\n",
      "⌈-2.7⌉= -2\n",
      "⌈-1.4142135623730951⌉= -1\n",
      "⌈0.3⌉= 1\n",
      "⌈3.9⌉= 4\n",
      "⌈4.5⌉= 5\n"
     ]
    }
   ],
   "source": [
    "# ceiling 함수\n",
    "from math import ceil\n",
    "import numpy as np\n",
    "L=[-4.99999,-2.7,-np.sqrt(2),0.3,3.9,4.5]\n",
    "for x in L:\n",
    "    print(f'⌈{x}⌉=',ceil(x))"
   ]
  },
  {
   "cell_type": "markdown",
   "id": "b396a70e-9b09-41fa-994b-69c3c071d35c",
   "metadata": {},
   "source": [
    "# Set Theory"
   ]
  },
  {
   "cell_type": "markdown",
   "id": "52befba5-d7e8-4f10-9d0a-d191557df610",
   "metadata": {},
   "source": [
    "## 문제. 아래 조건제시법으로 표시된 집합에서 진부분집합을 모두 나열해 보아라. \n",
    "## A={x∈\"자연수\"|x\"는  8의 약수}\" "
   ]
  },
  {
   "cell_type": "code",
   "execution_count": 18,
   "id": "44d60ca4-52a8-4c11-bdc0-4832e2b99cb8",
   "metadata": {
    "tags": []
   },
   "outputs": [
    {
     "data": {
      "text/plain": [
       "[1, 2, 4, 8]"
      ]
     },
     "execution_count": 18,
     "metadata": {},
     "output_type": "execute_result"
    }
   ],
   "source": [
    "# 약수 구하는 함수\n",
    "from sympy import divisors\n",
    "divisors(8)"
   ]
  },
  {
   "cell_type": "code",
   "execution_count": 17,
   "id": "d543f7fa-34da-4ae2-8b26-f2f4d1bf3332",
   "metadata": {
    "tags": []
   },
   "outputs": [
    {
     "name": "stdout",
     "output_type": "stream",
     "text": [
      "{1, 2}\n",
      "{1, 3}\n",
      "{1, 4}\n",
      "{2, 3}\n",
      "{2, 4}\n",
      "{3, 4}\n"
     ]
    }
   ],
   "source": [
    "# 원소의개수가 2개인 경우\n",
    "from itertools import combinations\n",
    "A={1,2,4,8}\n",
    "S=list(A) # list형으로 변환\n",
    "for subset in combinations(S,2):\n",
    "    print(set(subset))"
   ]
  },
  {
   "cell_type": "code",
   "execution_count": 19,
   "id": "ad41823a-3f0b-4218-a534-31dcaedc76ca",
   "metadata": {
    "tags": []
   },
   "outputs": [
    {
     "name": "stdout",
     "output_type": "stream",
     "text": [
      "{8, 1, 2}\n",
      "{8, 1, 4}\n",
      "{8, 2, 4}\n",
      "{1, 2, 4}\n"
     ]
    }
   ],
   "source": [
    "# 원소의개수가 3개인 경우\n",
    "from itertools import combinations\n",
    "A={1,2,4,8}\n",
    "S=list(A) # list형으로 변환\n",
    "for subset in combinations(S,3):\n",
    "    print(set(subset))"
   ]
  },
  {
   "cell_type": "markdown",
   "id": "c0e46022-a3b9-4402-8bc2-411cb57390e5",
   "metadata": {},
   "source": [
    "## 집합 연산 하기"
   ]
  },
  {
   "cell_type": "code",
   "execution_count": 23,
   "id": "2643b38e-51df-494f-bbc3-d1e6de118e6d",
   "metadata": {},
   "outputs": [
    {
     "data": {
      "text/plain": [
       "{1, 2}"
      ]
     },
     "execution_count": 23,
     "metadata": {},
     "output_type": "execute_result"
    }
   ],
   "source": [
    "A={1,2,3,4}\n",
    "B={3,4,5,6,7}\n",
    "A-B"
   ]
  },
  {
   "cell_type": "code",
   "execution_count": 24,
   "id": "55cb8c3b-6c04-44f6-9fe4-07fba9ff2399",
   "metadata": {},
   "outputs": [
    {
     "data": {
      "text/plain": [
       "{5, 6, 7}"
      ]
     },
     "execution_count": 24,
     "metadata": {},
     "output_type": "execute_result"
    }
   ],
   "source": [
    "B-A"
   ]
  },
  {
   "cell_type": "code",
   "execution_count": 25,
   "id": "3a805d11-754c-4eb1-a579-05bbd00c90d2",
   "metadata": {},
   "outputs": [
    {
     "data": {
      "text/plain": [
       "{1, 2, 3, 4, 5, 6, 7}"
      ]
     },
     "execution_count": 25,
     "metadata": {},
     "output_type": "execute_result"
    }
   ],
   "source": [
    "# 합집합\n",
    "A.union(B)"
   ]
  },
  {
   "cell_type": "code",
   "execution_count": 26,
   "id": "d36aff43-8b66-42b6-887f-d37ef3edd864",
   "metadata": {},
   "outputs": [
    {
     "data": {
      "text/plain": [
       "{3, 4}"
      ]
     },
     "execution_count": 26,
     "metadata": {},
     "output_type": "execute_result"
    }
   ],
   "source": [
    "# 교집합\n",
    "A.intersection(B)"
   ]
  },
  {
   "cell_type": "markdown",
   "id": "1d92b7ec-25de-4041-9b5f-6fbac2949950",
   "metadata": {},
   "source": [
    "## 벤다이어그램 그리기"
   ]
  },
  {
   "cell_type": "code",
   "execution_count": 27,
   "id": "8c3af89c-3af0-436e-a15b-6253e362cae0",
   "metadata": {},
   "outputs": [
    {
     "data": {
      "image/png": "[encoded data removed]",
      "text/plain": [
       "<Figure size 640x480 with 1 Axes>"
      ]
     },
     "metadata": {},
     "output_type": "display_data"
    }
   ],
   "source": [
    "# pip install matplotlib-venn\n",
    "from matplotlib_venn import venn2\n",
    "\n",
    "A={1,2,3,4}\n",
    "B={3,4,5,6,7}\n",
    "\n",
    "# Venn 다이어그램 그리기\n",
    "venn=venn2([A, B], ('A', 'B'))"
   ]
  },
  {
   "cell_type": "code",
   "execution_count": 16,
   "id": "75b33b43-8837-4828-80f7-62f049a72f4e",
   "metadata": {},
   "outputs": [
    {
     "data": {
      "text/latex": [
       "$\\displaystyle \\left\\{A\\right\\} \\setminus \\left\\{B\\right\\}$"
      ],
      "text/plain": [
       "Complement({A}, {B})"
      ]
     },
     "execution_count": 16,
     "metadata": {},
     "output_type": "execute_result"
    }
   ],
   "source": [
    "from sympy import FiniteSet\n",
    "\n",
    "A=FiniteSet('A')\n",
    "B=FiniteSet('B')\n",
    "\n",
    "expr=A-B\n",
    "expr"
   ]
  },
  {
   "cell_type": "code",
   "execution_count": 22,
   "id": "0d0924ed-306d-4cc1-b70f-6a6d0c0d8b56",
   "metadata": {},
   "outputs": [
    {
     "data": {
      "text/latex": [
       "$\\displaystyle \\left\\{A\\right\\} \\cap \\left(\\mathbb{U} \\setminus \\left\\{B\\right\\}\\right)$"
      ],
      "text/plain": [
       "Intersection(Complement(UniversalSet, {B}), {A})"
      ]
     },
     "execution_count": 22,
     "metadata": {},
     "output_type": "execute_result"
    }
   ],
   "source": [
    "from sympy import Intersection, Complement, UniversalSet\n",
    "\n",
    "U = UniversalSet\n",
    "\n",
    "expr2=Intersection(A,Complement(U,B))\n",
    "expr2.simplify()"
   ]
  },
  {
   "cell_type": "code",
   "execution_count": 6,
   "id": "f5e07d0a-c993-4214-97be-5b4955077699",
   "metadata": {
    "tags": []
   },
   "outputs": [
    {
     "data": {
      "image/png": "[encoded data removed]",
      "text/plain": [
       "<Figure size 640x480 with 1 Axes>"
      ]
     },
     "metadata": {},
     "output_type": "display_data"
    }
   ],
   "source": [
    "# pip install matplotlib-venn\n",
    "from matplotlib_venn import venn2\n",
    "import matplotlib.pyplot as plt \n",
    "\n",
    "A={1,2,3}\n",
    "B={2,3,4}\n",
    "\n",
    "# Venn 다이어그램 그리기\n",
    "venn=venn2([A, B], ('A', 'B'))\n",
    "\n",
    "# 레이블 변경 (예: 백분율로 변경)\n",
    "venn.get_label_by_id('10').set_text(\"{1}\")  # A 단독 영역\n",
    "venn.get_label_by_id('01').set_text(\"{4}\")  # B 단독 영역\n",
    "venn.get_label_by_id('11').set_text(\"{2,3}\")  # A ∩ B 영역\n",
    "\n",
    "# 그래프 출력\n",
    "plt.show()"
   ]
  },
  {
   "cell_type": "code",
   "execution_count": 13,
   "id": "bd1e0d7e-e69d-4031-bf7a-e84d8d59d12d",
   "metadata": {
    "tags": []
   },
   "outputs": [
    {
     "data": {
      "text/plain": [
       "{1, 2, 3, 4}"
      ]
     },
     "execution_count": 13,
     "metadata": {},
     "output_type": "execute_result"
    }
   ],
   "source": [
    "A.union(B)"
   ]
  },
  {
   "cell_type": "code",
   "execution_count": 15,
   "id": "0c7d9686-9e71-43ed-91fc-7f02b6652a2c",
   "metadata": {
    "tags": []
   },
   "outputs": [
    {
     "name": "stderr",
     "output_type": "stream",
     "text": [
      "C:\\Users\\hst00\\.conda\\envs\\LAB\\lib\\site-packages\\IPython\\core\\pylabtools.py:152: UserWarning: Glyph 52264 (\\N{HANGUL SYLLABLE CA}) missing from font(s) DejaVu Sans.\n",
      "  fig.canvas.print_figure(bytes_io, **kw)\n",
      "C:\\Users\\hst00\\.conda\\envs\\LAB\\lib\\site-packages\\IPython\\core\\pylabtools.py:152: UserWarning: Glyph 51665 (\\N{HANGUL SYLLABLE JIB}) missing from font(s) DejaVu Sans.\n",
      "  fig.canvas.print_figure(bytes_io, **kw)\n",
      "C:\\Users\\hst00\\.conda\\envs\\LAB\\lib\\site-packages\\IPython\\core\\pylabtools.py:152: UserWarning: Glyph 54633 (\\N{HANGUL SYLLABLE HAB}) missing from font(s) DejaVu Sans.\n",
      "  fig.canvas.print_figure(bytes_io, **kw)\n",
      "C:\\Users\\hst00\\.conda\\envs\\LAB\\lib\\site-packages\\IPython\\core\\pylabtools.py:152: UserWarning: Glyph 44284 (\\N{HANGUL SYLLABLE GWA}) missing from font(s) DejaVu Sans.\n",
      "  fig.canvas.print_figure(bytes_io, **kw)\n",
      "C:\\Users\\hst00\\.conda\\envs\\LAB\\lib\\site-packages\\IPython\\core\\pylabtools.py:152: UserWarning: Glyph 50668 (\\N{HANGUL SYLLABLE YEO}) missing from font(s) DejaVu Sans.\n",
      "  fig.canvas.print_figure(bytes_io, **kw)\n",
      "C:\\Users\\hst00\\.conda\\envs\\LAB\\lib\\site-packages\\IPython\\core\\pylabtools.py:152: UserWarning: Glyph 51032 (\\N{HANGUL SYLLABLE YI}) missing from font(s) DejaVu Sans.\n",
      "  fig.canvas.print_figure(bytes_io, **kw)\n",
      "C:\\Users\\hst00\\.conda\\envs\\LAB\\lib\\site-packages\\IPython\\core\\pylabtools.py:152: UserWarning: Glyph 44368 (\\N{HANGUL SYLLABLE GYO}) missing from font(s) DejaVu Sans.\n",
      "  fig.canvas.print_figure(bytes_io, **kw)\n"
     ]
    },
    {
     "data": {
      "image/png": "[encoded data removed]",
      "text/plain": [
       "<Figure size 600x400 with 1 Axes>"
      ]
     },
     "metadata": {},
     "output_type": "display_data"
    }
   ],
   "source": [
    "import matplotlib.pyplot as plt\n",
    "from matplotlib_venn import venn2\n",
    "\n",
    "def plot_set_difference_and_intersection(A, B):\n",
    "    \"\"\"\n",
    "    A - B = A ∩ B^c (차집합과 여집합의 교집합이 같음을 벤다이어그램으로 시각화)\n",
    "    \"\"\"\n",
    "    plt.figure(figsize=(6,4))\n",
    "    venn = venn2(subsets=(1, 1, 1), set_labels=('A', 'B'))\n",
    "\n",
    "    # A - B (A의 원소 중 B에 포함되지 않은 부분)\n",
    "    venn.get_patch_by_id('10').set_color('lightblue')\n",
    "    venn.get_patch_by_id('10').set_alpha(0.7)\n",
    "    \n",
    "    # B^c (B의 여집합) -> B 영역을 흐리게\n",
    "    if venn.get_patch_by_id('01'):\n",
    "        venn.get_patch_by_id('01').set_alpha(0.3)\n",
    "    if venn.get_patch_by_id('11'):\n",
    "        venn.get_patch_by_id('11').set_alpha(0.3)\n",
    "\n",
    "    plt.title(\"A - B = A ∩ B^c (차집합과 여집합의 교집합)\")\n",
    "    plt.show()\n",
    "\n",
    "# 차집합과 교집합을 비교하는 벤다이어그램 시각화 실행\n",
    "plot_set_difference_and_intersection('A', 'B')\n"
   ]
  },
  {
   "cell_type": "code",
   "execution_count": 14,
   "id": "06d6e118-8f90-46b1-bd23-fcd6e4a28c95",
   "metadata": {
    "tags": []
   },
   "outputs": [
    {
     "data": {
      "text/plain": [
       "{2, 3}"
      ]
     },
     "execution_count": 14,
     "metadata": {},
     "output_type": "execute_result"
    }
   ],
   "source": [
    "A.intersection(B)"
   ]
  },
  {
   "cell_type": "code",
   "execution_count": 5,
   "id": "a1dadb96-a16c-4b95-8dfb-b72e657ce89a",
   "metadata": {
    "tags": []
   },
   "outputs": [
    {
     "data": {
      "text/latex": [
       "$\\displaystyle \\operatorname{Set}\\left(A\\right) \\cup \\operatorname{Set}\\left(B\\right)$"
      ],
      "text/plain": [
       "Union(Set(A), Set(B))"
      ]
     },
     "execution_count": 5,
     "metadata": {},
     "output_type": "execute_result"
    }
   ],
   "source": [
    "from sympy import symbols, Union, Intersection, Complement, Set, S\n",
    "\n",
    "# 집합 심볼 정의 (직접 Set 클래스 사용)\n",
    "A, B = symbols('A B')\n",
    "A = Set(A)\n",
    "B = Set(B)\n",
    "\n",
    "Union(A,B)"
   ]
  },
  {
   "cell_type": "code",
   "execution_count": 6,
   "id": "7a7947f5-f1fb-4a3e-95dd-1e194980b50a",
   "metadata": {
    "tags": []
   },
   "outputs": [
    {
     "data": {
      "text/latex": [
       "$\\displaystyle \\operatorname{Set}\\left(A\\right) \\cap \\operatorname{Set}\\left(B\\right)$"
      ],
      "text/plain": [
       "Intersection(Set(A), Set(B))"
      ]
     },
     "execution_count": 6,
     "metadata": {},
     "output_type": "execute_result"
    }
   ],
   "source": [
    "Intersection(A,B)"
   ]
  },
  {
   "cell_type": "code",
   "execution_count": 7,
   "id": "78d1b3d6-cc6d-48ef-96f4-7c8a6d0b4977",
   "metadata": {
    "tags": []
   },
   "outputs": [
    {
     "data": {
      "text/latex": [
       "$\\displaystyle \\left(\\operatorname{Set}\\left(A\\right) \\setminus \\left(\\operatorname{Set}\\left(A\\right) \\cap \\operatorname{Set}\\left(B\\right)\\right)\\right) \\cup \\left(\\operatorname{Set}\\left(B\\right) \\setminus \\left(\\operatorname{Set}\\left(A\\right) \\cap \\operatorname{Set}\\left(B\\right)\\right)\\right)$"
      ],
      "text/plain": [
       "Union(Complement(Set(A), Intersection(Set(A), Set(B))), Complement(Set(B), Intersection(Set(A), Set(B))))"
      ]
     },
     "execution_count": 7,
     "metadata": {},
     "output_type": "execute_result"
    }
   ],
   "source": [
    "Union(A,B)-Intersection(A,B)"
   ]
  },
  {
   "cell_type": "code",
   "execution_count": 11,
   "id": "284b56bf-d556-4b9a-ab6d-0aafa25756fd",
   "metadata": {
    "tags": []
   },
   "outputs": [
    {
     "data": {
      "text/latex": [
       "$\\displaystyle \\left(\\operatorname{Set}\\left(A\\right) \\setminus \\left(\\operatorname{Set}\\left(A\\right) \\setminus \\left(\\operatorname{Set}\\left(A\\right) \\cap \\operatorname{Set}\\left(B\\right)\\right)\\right)\\right) \\cup \\left(\\operatorname{Set}\\left(B\\right) \\setminus \\left(\\left(\\operatorname{Set}\\left(A\\right) \\cap \\operatorname{Set}\\left(B\\right)\\right) \\cup \\left(\\operatorname{Set}\\left(A\\right) \\setminus \\left(\\operatorname{Set}\\left(A\\right) \\cap \\operatorname{Set}\\left(B\\right)\\right)\\right)\\right)\\right)$"
      ],
      "text/plain": [
       "Union(Complement(Set(A), Complement(Set(A), Intersection(Set(A), Set(B)))), Complement(Set(B), Union(Complement(Set(A), Intersection(Set(A), Set(B))), Intersection(Set(A), Set(B)))))"
      ]
     },
     "execution_count": 11,
     "metadata": {},
     "output_type": "execute_result"
    }
   ],
   "source": [
    "from sympy import symbols, Union, Intersection, Complement\n",
    "\n",
    "def Fset_01(A, B):\n",
    "    union_ab = Union(A, B)  # A와 B의 합집합\n",
    "    intersection_ab = Intersection(A, B)  # A와 B의 교집합\n",
    "    return Complement(union_ab, intersection_ab)  # 합집합에서 교집합을 제거\n",
    "\n",
    "# 집합 심볼 정의 (직접 Set 클래스 사용)\n",
    "A, B = symbols('A B')\n",
    "A = Set(A)\n",
    "B = Set(B)\n",
    "\n",
    "Fset_01(Fset_01(A,B),A)"
   ]
  },
  {
   "cell_type": "code",
   "execution_count": 12,
   "id": "ae2c469a-4da1-498d-a83b-a81798bc4c17",
   "metadata": {
    "tags": []
   },
   "outputs": [
    {
     "data": {
      "text/latex": [
       "$\\displaystyle \\left(\\operatorname{Set}\\left(A\\right) \\setminus \\left(\\operatorname{Set}\\left(A\\right) \\setminus \\left(\\operatorname{Set}\\left(A\\right) \\cap \\operatorname{Set}\\left(B\\right)\\right)\\right)\\right) \\cup \\left(\\operatorname{Set}\\left(B\\right) \\setminus \\left(\\left(\\operatorname{Set}\\left(A\\right) \\cap \\operatorname{Set}\\left(B\\right)\\right) \\cup \\left(\\operatorname{Set}\\left(A\\right) \\setminus \\left(\\operatorname{Set}\\left(A\\right) \\cap \\operatorname{Set}\\left(B\\right)\\right)\\right)\\right)\\right)$"
      ],
      "text/plain": [
       "Union(Complement(Set(A), Complement(Set(A), Intersection(Set(A), Set(B)))), Complement(Set(B), Union(Complement(Set(A), Intersection(Set(A), Set(B))), Intersection(Set(A), Set(B)))))"
      ]
     },
     "execution_count": 12,
     "metadata": {},
     "output_type": "execute_result"
    }
   ],
   "source": [
    "_.simplify()"
   ]
  },
  {
   "cell_type": "code",
   "execution_count": 4,
   "id": "24211e75-041e-497b-a14a-7f5ef666cbb7",
   "metadata": {
    "tags": []
   },
   "outputs": [
    {
     "ename": "TypeError",
     "evalue": "'str' object is not callable",
     "output_type": "error",
     "traceback": [
      "\u001b[1;31m---------------------------------------------------------------------------\u001b[0m",
      "\u001b[1;31mTypeError\u001b[0m                                 Traceback (most recent call last)",
      "Cell \u001b[1;32mIn[4], line 2\u001b[0m\n\u001b[0;32m      1\u001b[0m \u001b[38;5;66;03m# 집합 심볼 정의\u001b[39;00m\n\u001b[1;32m----> 2\u001b[0m A, B \u001b[38;5;241m=\u001b[39m \u001b[43msymbols\u001b[49m\u001b[43m(\u001b[49m\u001b[38;5;124;43m'\u001b[39;49m\u001b[38;5;124;43mA B\u001b[39;49m\u001b[38;5;124;43m'\u001b[39;49m\u001b[43m,\u001b[49m\u001b[43m \u001b[49m\u001b[38;5;28;43mcls\u001b[39;49m\u001b[38;5;241;43m=\u001b[39;49m\u001b[38;5;124;43m'\u001b[39;49m\u001b[38;5;124;43mSet\u001b[39;49m\u001b[38;5;124;43m'\u001b[39;49m\u001b[43m)\u001b[49m\n\u001b[0;32m      4\u001b[0m Union(A,B)\n",
      "File \u001b[1;32mC:\\ProgramData\\anaconda3\\lib\\site-packages\\sympy\\core\\symbol.py:764\u001b[0m, in \u001b[0;36msymbols\u001b[1;34m(names, cls, **args)\u001b[0m\n\u001b[0;32m    761\u001b[0m     \u001b[38;5;28;01mraise\u001b[39;00m \u001b[38;5;167;01mValueError\u001b[39;00m(\u001b[38;5;124m'\u001b[39m\u001b[38;5;124mmissing symbol\u001b[39m\u001b[38;5;124m'\u001b[39m)\n\u001b[0;32m    763\u001b[0m \u001b[38;5;28;01mif\u001b[39;00m \u001b[38;5;124m'\u001b[39m\u001b[38;5;124m:\u001b[39m\u001b[38;5;124m'\u001b[39m \u001b[38;5;129;01mnot\u001b[39;00m \u001b[38;5;129;01min\u001b[39;00m name:\n\u001b[1;32m--> 764\u001b[0m     symbol \u001b[38;5;241m=\u001b[39m \u001b[38;5;28mcls\u001b[39m(literal(name), \u001b[38;5;241m*\u001b[39m\u001b[38;5;241m*\u001b[39margs)\n\u001b[0;32m    765\u001b[0m     result\u001b[38;5;241m.\u001b[39mappend(symbol)\n\u001b[0;32m    766\u001b[0m     \u001b[38;5;28;01mcontinue\u001b[39;00m\n",
      "\u001b[1;31mTypeError\u001b[0m: 'str' object is not callable"
     ]
    }
   ],
   "source": [
    "# 집합 심볼 정의\n",
    "A, B = symbols('A B', cls='Set')\n",
    "\n",
    "Union(A,B)"
   ]
  },
  {
   "cell_type": "code",
   "execution_count": 7,
   "id": "a43c7d07-c422-46ba-b097-5de3d6cde41d",
   "metadata": {},
   "outputs": [
    {
     "data": {
      "text/plain": [
       "<matplotlib_venn._common.VennDiagram at 0x24b504b4fd0>"
      ]
     },
     "execution_count": 7,
     "metadata": {},
     "output_type": "execute_result"
    },
    {
     "data": {
      "image/png": "[encoded data removed]",
      "text/plain": [
       "<Figure size 640x480 with 1 Axes>"
      ]
     },
     "metadata": {},
     "output_type": "display_data"
    }
   ],
   "source": [
    "import matplotlib.pyplot as plt\n",
    "\n",
    "# 집합 정의\n",
    "B = set([2, 4, 5, 6, 7])\n",
    "C = set([2, 3, 5, 8])\n",
    "\n",
    "# Venn 다이어그램 그리기\n",
    "venn2([B, C], ('B', 'C'))"
   ]
  },
  {
   "cell_type": "code",
   "execution_count": 6,
   "id": "e1afe8a9-d5a9-4a56-8c27-c7a0b7331e15",
   "metadata": {},
   "outputs": [
    {
     "data": {
      "image/png": "[encoded data removed]",
      "text/plain": [
       "<Figure size 640x480 with 1 Axes>"
      ]
     },
     "metadata": {},
     "output_type": "display_data"
    }
   ],
   "source": [
    "from matplotlib_venn import venn2\n",
    "import matplotlib.pyplot as plt\n",
    "\n",
    "# 집합 정의\n",
    "B = set([2, 4, 5, 6, 7])\n",
    "C = set([2, 3, 5, 8])\n",
    "\n",
    "# Venn 다이어그램 그리기\n",
    "venn = venn2([B, C], ('B', 'C'))\n",
    "\n",
    "# 각 영역에 원소 표시\n",
    "# 영역 코드:\n",
    "# 10: B & ~C\n",
    "# 01: ~B & C\n",
    "# 11: B & C\n",
    "\n",
    "# 원소를 문자열로 변환하여 표시\n",
    "venn.get_label_by_id('10').set_text('\\n'.join(map(str, B - C)))\n",
    "venn.get_label_by_id('01').set_text('\\n'.join(map(str, C - B)))\n",
    "venn.get_label_by_id('11').set_text('\\n'.join(map(str, B & C)))\n",
    "\n",
    "# 그래프 표시\n",
    "plt.show()"
   ]
  },
  {
   "cell_type": "code",
   "execution_count": 3,
   "id": "8aea3d17-b0d2-4b07-97d7-9971cf324538",
   "metadata": {},
   "outputs": [
    {
     "data": {
      "text/plain": [
       "<matplotlib_venn._common.VennDiagram at 0x24b4ea89900>"
      ]
     },
     "execution_count": 3,
     "metadata": {},
     "output_type": "execute_result"
    },
    {
     "data": {
      "image/png": "[encoded data removed]",
      "text/plain": [
       "<Figure size 640x480 with 1 Axes>"
      ]
     },
     "metadata": {},
     "output_type": "display_data"
    }
   ],
   "source": [
    "# 벤다이어 그램 그리기\n",
    "# pip install matplotlib_venn\n",
    "from matplotlib_venn import venn3\n",
    "A=set([1,2,3])\n",
    "B=set([2,4,5,6])\n",
    "C=set([2,3,5,8])\n",
    "venn3([A,B,C],['A','B','C'])"
   ]
  },
  {
   "cell_type": "markdown",
   "id": "f7e029f4-897e-4d49-b19d-8d64ae4ec0e8",
   "metadata": {},
   "source": [
    "## 데카르트 곱"
   ]
  },
  {
   "cell_type": "code",
   "execution_count": 1,
   "id": "c5ed9a95-ed72-4eb7-b5d1-2e2693f67179",
   "metadata": {
    "tags": []
   },
   "outputs": [
    {
     "data": {
      "text/plain": [
       "{(1, 'a'), (1, 'b'), (2, 'a'), (2, 'b'), (3, 'a'), (3, 'b')}"
      ]
     },
     "execution_count": 1,
     "metadata": {},
     "output_type": "execute_result"
    }
   ],
   "source": [
    "# 코드 실행 상태가 초기화되었으므로 다시 코드 실행\n",
    "\n",
    "from itertools import product\n",
    "\n",
    "# A와 B 집합 정의\n",
    "A = {1, 2, 3}\n",
    "B = {'a', 'b'}\n",
    "\n",
    "# 데카르트 곱 (Cartesian Product) 계산\n",
    "cartesian_product = set(product(A, B))\n",
    "\n",
    "# 결과 출력\n",
    "cartesian_product"
   ]
  },
  {
   "cell_type": "code",
   "execution_count": 14,
   "id": "3f3e5a99-2f97-4de9-8957-45e00a426f3a",
   "metadata": {},
   "outputs": [
    {
     "data": {
      "text/plain": [
       "array([['1', 'a'],\n",
       "       ['1', 'b'],\n",
       "       ['2', 'a'],\n",
       "       ['2', 'b'],\n",
       "       ['3', 'a'],\n",
       "       ['3', 'b']], dtype='<U11')"
      ]
     },
     "execution_count": 14,
     "metadata": {},
     "output_type": "execute_result"
    }
   ],
   "source": [
    "import numpy as np \n",
    "\n",
    "A=np.array([1,2,3])\n",
    "B=np.array(['a','b'])\n",
    "np.array(np.meshgrid(A,B)).T.reshape(-1,2)"
   ]
  },
  {
   "cell_type": "code",
   "execution_count": 9,
   "id": "8243556a-0c39-42e5-836d-cdcc4e6f0b2a",
   "metadata": {},
   "outputs": [
    {
     "data": {
      "text/plain": [
       "array({1, 2, 3}, dtype=object)"
      ]
     },
     "execution_count": 9,
     "metadata": {},
     "output_type": "execute_result"
    }
   ],
   "source": [
    "A"
   ]
  },
  {
   "cell_type": "code",
   "execution_count": null,
   "id": "3c6fb61a-8cc3-41dc-a97e-02dffa8904e5",
   "metadata": {},
   "outputs": [],
   "source": []
  }
 ],
 "metadata": {
  "kernelspec": {
   "display_name": "Python 3 (ipykernel)",
   "language": "python",
   "name": "python3"
  },
  "language_info": {
   "codemirror_mode": {
    "name": "ipython",
    "version": 3
   },
   "file_extension": ".py",
   "mimetype": "text/x-python",
   "name": "python",
   "nbconvert_exporter": "python",
   "pygments_lexer": "ipython3",
   "version": "3.10.12"
  },
  "widgets": {
   "application/vnd.jupyter.widget-state+json": {
    "state": {},
    "version_major": 2,
    "version_minor": 0
   }
  }
 },
 "nbformat": 4,
 "nbformat_minor": 5
}
