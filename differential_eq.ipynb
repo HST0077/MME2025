{
  "cells": [
    {
      "cell_type": "markdown",
      "id": "25200c8e-f40f-4a6e-b9df-10f94975cd8d",
      "metadata": {
        "tags": [],
        "id": "25200c8e-f40f-4a6e-b9df-10f94975cd8d"
      },
      "source": [
        "# 미분방정식"
      ]
    },
    {
      "cell_type": "markdown",
      "id": "9b0b7894-535b-485c-88f4-c74976acaa75",
      "metadata": {
        "id": "9b0b7894-535b-485c-88f4-c74976acaa75"
      },
      "source": [
        "### 문제.\t다음과 같은 차분방정식(difference equation)의 해를 구하여라.\n",
        "### y[k+1]-2y[k]=0,y[0]=1\n"
      ]
    },
    {
      "cell_type": "code",
      "execution_count": 1,
      "id": "136682d2-ebd5-4003-ae2a-e4b89face640",
      "metadata": {
        "colab": {
          "base_uri": "https://localhost:8080/",
          "height": 39
        },
        "id": "136682d2-ebd5-4003-ae2a-e4b89face640",
        "outputId": "1d458d84-2b87-4eed-ae7b-a8ca0dd6ea93"
      },
      "outputs": [
        {
          "output_type": "execute_result",
          "data": {
            "text/plain": [
              "Eq(y(t), 10*exp(-0.2*t))"
            ],
            "text/latex": "$\\displaystyle y{\\left(t \\right)} = 10 e^{- 0.2 t}$"
          },
          "metadata": {},
          "execution_count": 1
        }
      ],
      "source": [
        "from sympy import symbols,Function,dsolve,Eq\n",
        "\n",
        "# 변수 및 함수 정의\n",
        "t = symbols('t')        # 독립 변수\n",
        "y = Function('y')(t)   # 종속 변수\n",
        "\n",
        "# 미분 방정식 정의\n",
        "eq = Eq(y.diff(t), -0.2 * y)\n",
        "\n",
        "# 초기 조건 정의\n",
        "initial_condition = {y.subs(t, 0): 10}\n",
        "\n",
        "# 미분 방정식 풀이\n",
        "dsolve(eq, y, ics=initial_condition)"
      ]
    },
    {
      "cell_type": "markdown",
      "id": "ab9f695b-fc0c-45ff-91d6-10973a1b89dc",
      "metadata": {
        "id": "ab9f695b-fc0c-45ff-91d6-10973a1b89dc"
      },
      "source": [
        "### \t다음과 같은 미분방정식(differential equation)의 해를 구하여라.\n",
        "### $$y'' (t)-5y' (t)+6y(t)=0,y(0)=0,y(1)=e^2-e^3$$"
      ]
    },
    {
      "cell_type": "code",
      "execution_count": 2,
      "id": "4a9f3e75-9d8b-487a-9ae9-857fc29b100c",
      "metadata": {
        "colab": {
          "base_uri": "https://localhost:8080/",
          "height": 39
        },
        "id": "4a9f3e75-9d8b-487a-9ae9-857fc29b100c",
        "outputId": "ce42c634-b24f-426a-f43f-b506ce4ac4ab"
      },
      "outputs": [
        {
          "output_type": "execute_result",
          "data": {
            "text/plain": [
              "Eq(y(t), (1 - exp(t))*exp(2*t))"
            ],
            "text/latex": "$\\displaystyle y{\\left(t \\right)} = \\left(1 - e^{t}\\right) e^{2 t}$"
          },
          "metadata": {},
          "execution_count": 2
        }
      ],
      "source": [
        "from sympy import exp\n",
        "\n",
        "# 변수 및 함수 정의\n",
        "t = symbols('t')        # 독립 변수\n",
        "y = Function('y')(t)   # 종속 변수\n",
        "\n",
        "# 미분 방정식 정의\n",
        "eq = Eq(y.diff(t,2)-5*y.diff(t)+6*y,0)\n",
        "\n",
        "# 초기 조건 정의\n",
        "initial_condition = {y.subs(t, 0): 0,y.subs(t,1):exp(2)-exp(3)}\n",
        "\n",
        "# 미분 방정식 풀이\n",
        "dsolve(eq, y, ics=initial_condition)"
      ]
    },
    {
      "cell_type": "markdown",
      "id": "f9f3bedd-2851-4d34-9583-30d7c30fe25e",
      "metadata": {
        "id": "f9f3bedd-2851-4d34-9583-30d7c30fe25e"
      },
      "source": [
        "### \t다음과 같은 미분방정식(differential equation)의 해를 구하여라.\n",
        "### $$y'' (t)+4y(t)=0,y(0)=0,y'(0)=i $$"
      ]
    },
    {
      "cell_type": "code",
      "execution_count": 3,
      "id": "ef394799-7706-4d1f-9cf6-fe8e0cfaa45c",
      "metadata": {
        "colab": {
          "base_uri": "https://localhost:8080/",
          "height": 53
        },
        "id": "ef394799-7706-4d1f-9cf6-fe8e0cfaa45c",
        "outputId": "a425d253-85a4-4b29-c3be-c2c6dd153dde"
      },
      "outputs": [
        {
          "output_type": "execute_result",
          "data": {
            "text/plain": [
              "Eq(y(t), I*sin(2*t)/2)"
            ],
            "text/latex": "$\\displaystyle y{\\left(t \\right)} = \\frac{i \\sin{\\left(2 t \\right)}}{2}$"
          },
          "metadata": {},
          "execution_count": 3
        }
      ],
      "source": [
        "from sympy import I\n",
        "# 변수 및 함수 정의\n",
        "t = symbols('t')        # 독립 변수\n",
        "y = Function('y')(t)   # 종속 변수\n",
        "\n",
        "# 미분 방정식 정의\n",
        "eq = Eq(y.diff(t,2)+4*y,0)\n",
        "\n",
        "# 초기 조건 정의\n",
        "initial_condition = {y.subs(t, 0): 0,y.diff(t).subs(t,0):I}\n",
        "\n",
        "# 미분 방정식 풀이\n",
        "dsolve(eq, y, ics=initial_condition)"
      ]
    },
    {
      "cell_type": "markdown",
      "id": "178611be-fae3-48b6-b5c2-eee11683b55e",
      "metadata": {
        "id": "178611be-fae3-48b6-b5c2-eee11683b55e"
      },
      "source": [
        "### \t다음과 같은 미분방정식(differential equation)의 해를 구하여라.\n",
        "### $$y'' (t)+3y'(t)+2y(t)=0,y(0)=0,y'(0)=0 $$"
      ]
    },
    {
      "cell_type": "code",
      "execution_count": 4,
      "id": "c2230785-f352-4566-b4fa-5fe74bd31da4",
      "metadata": {
        "tags": [],
        "colab": {
          "base_uri": "https://localhost:8080/",
          "height": 54
        },
        "id": "c2230785-f352-4566-b4fa-5fe74bd31da4",
        "outputId": "353b9592-f9a5-4abf-a175-0bca966d37c7"
      },
      "outputs": [
        {
          "output_type": "execute_result",
          "data": {
            "text/plain": [
              "Eq(y(t), exp(t)/6 - 2.0*exp(-t) + 1.0*exp(-2*t))"
            ],
            "text/latex": "$\\displaystyle y{\\left(t \\right)} = \\frac{e^{t}}{6} - 2.0 e^{- t} + 1.0 e^{- 2 t}$"
          },
          "metadata": {},
          "execution_count": 4
        }
      ],
      "source": [
        "from sympy import symbols, Function, Eq, dsolve,exp\n",
        "\n",
        "# 변수 및 함수 정의\n",
        "t = symbols('t')        # 독립 변수\n",
        "y = Function('y')(t)   # 종속 변수\n",
        "\n",
        "# 미분 방정식 정의\n",
        "eq = Eq(y.diff(t,2)+3*y.diff(t)+2*y-exp(t),0)\n",
        "\n",
        "# 초기 조건 정의\n",
        "initial_condition = {y.subs(t, 0): -5/6,y.diff(t).subs(t,0):1/6}\n",
        "\n",
        "# 미분 방정식 풀이\n",
        "dsolve(eq, y, ics=initial_condition)"
      ]
    },
    {
      "cell_type": "markdown",
      "id": "c67df443-509b-4fdc-856f-2044a1821612",
      "metadata": {
        "id": "c67df443-509b-4fdc-856f-2044a1821612"
      },
      "source": [
        "### \t다음과 같은 미분방정식(differential equation)의 해를 구하여라.\n",
        "### $$y'' (t)+4/t y'(t) + 2/t^2 y(t)=0,y(0)=0,y'(0)=-0.02 $$"
      ]
    },
    {
      "cell_type": "code",
      "execution_count": 5,
      "id": "6ee6c977-c579-4995-8a07-b893501cf348",
      "metadata": {
        "colab": {
          "base_uri": "https://localhost:8080/",
          "height": 37
        },
        "id": "6ee6c977-c579-4995-8a07-b893501cf348",
        "outputId": "9297d06e-74ff-4b3b-c977-38806e190e7b"
      },
      "outputs": [
        {
          "output_type": "execute_result",
          "data": {
            "text/plain": [
              "False"
            ],
            "text/latex": "$\\displaystyle \\text{False}$"
          },
          "metadata": {},
          "execution_count": 5
        }
      ],
      "source": [
        "# 변수 및 함수 정의\n",
        "t = symbols('t')        # 독립 변수\n",
        "y = Function('y')(t)   # 종속 변수\n",
        "\n",
        "# 미분 방정식 정의\n",
        "eq = Eq(y.diff(t,2)+(4/t)*y.diff(t)+(2/t**2)*y,0)\n",
        "\n",
        "# 초기 조건 정의\n",
        "initial_condition = {y.subs(t, 0): 0,y.diff(t).subs(t,0):-0.02}\n",
        "\n",
        "# 미분 방정식 풀이\n",
        "dsolve(eq, y, ics=initial_condition)"
      ]
    },
    {
      "cell_type": "code",
      "execution_count": null,
      "id": "9f3a7677-1a0c-4924-8e20-afeb00a797ee",
      "metadata": {
        "id": "9f3a7677-1a0c-4924-8e20-afeb00a797ee"
      },
      "outputs": [],
      "source": []
    }
  ],
  "metadata": {
    "kernelspec": {
      "display_name": "Python 3 (ipykernel)",
      "language": "python",
      "name": "python3"
    },
    "language_info": {
      "codemirror_mode": {
        "name": "ipython",
        "version": 3
      },
      "file_extension": ".py",
      "mimetype": "text/x-python",
      "name": "python",
      "nbconvert_exporter": "python",
      "pygments_lexer": "ipython3",
      "version": "3.10.12"
    },
    "colab": {
      "provenance": []
    }
  },
  "nbformat": 4,
  "nbformat_minor": 5
}