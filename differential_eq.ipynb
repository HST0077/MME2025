{
 "cells": [
  {
   "cell_type": "markdown",
   "id": "4e62c3b4-bbcb-4b07-9790-773911f91482",
   "metadata": {
    "tags": []
   },
   "source": [
    "# 차분방정식"
   ]
  },
  {
   "cell_type": "markdown",
   "id": "4df6fb87-7d8d-4fc5-8591-4e940726f036",
   "metadata": {},
   "source": [
    "### 문제.\t다음과 같은 차분방정식(difference equation)의 해를 구하여라. \n",
    "### y[k+1]-2y[k]=0,y[0]=1\n"
   ]
  },
  {
   "cell_type": "code",
   "execution_count": 1,
   "id": "5c524bf4-bb21-4087-8405-76f065ad8ea8",
   "metadata": {},
   "outputs": [
    {
     "data": {
      "text/latex": [
       "$\\displaystyle 2^{k}$"
      ],
      "text/plain": [
       "2**k"
      ]
     },
     "execution_count": 1,
     "metadata": {},
     "output_type": "execute_result"
    }
   ],
   "source": [
    "from sympy import symbols, Function, Eq, rsolve\n",
    "\n",
    "# 변수 및 함수 정의\n",
    "k = symbols('k', integer=True)\n",
    "y = Function('y')\n",
    "\n",
    "# 차분 방정식 정의\n",
    "diff_eq = Eq(y(k+1) - 2*y(k), 0)\n",
    "\n",
    "# 초기 조건 추가(딕셔너리 자료형)\n",
    "init_conditions = {y(0): 1}\n",
    "\n",
    "# 해 구하기\n",
    "solution = rsolve(diff_eq, y(k),init_conditions)\n",
    "solution"
   ]
  },
  {
   "cell_type": "markdown",
   "id": "bcd16d6a-f54b-4101-a2cc-6485f43b0782",
   "metadata": {},
   "source": [
    "### 문제. \t다음과 같은 차분방정식(difference equation)의 해를 구하여라. \n",
    "### y[k+2]-3y[k+1]+2y[k]=0,y[0]=2,y[1]=5\n"
   ]
  },
  {
   "cell_type": "code",
   "execution_count": 2,
   "id": "2c2d261c-3162-4791-9f68-33aebeab00a2",
   "metadata": {},
   "outputs": [
    {
     "data": {
      "text/latex": [
       "$\\displaystyle 3 \\cdot 2^{k} - 1$"
      ],
      "text/plain": [
       "3*2**k - 1"
      ]
     },
     "execution_count": 2,
     "metadata": {},
     "output_type": "execute_result"
    }
   ],
   "source": [
    "# 차분 방정식 정의\n",
    "diff_eq = Eq(y(k+2)-3*y(k+1)+2*y(k), 0)\n",
    "\n",
    "# 초기 조건 추가(딕셔너리 자료형)\n",
    "init_conditions = {y(0): 2,y(1):5}\n",
    "\n",
    "# 해 구하기\n",
    "solution = rsolve(diff_eq, y(k),init_conditions)\n",
    "solution"
   ]
  },
  {
   "cell_type": "markdown",
   "id": "d9f24989-7ba3-4327-bd54-de1b4ce3672c",
   "metadata": {},
   "source": [
    "### 문제. \t다음과 같은 차분방정식(difference equation)의 해를 구하여라. \n",
    "### y[k+2]-2y[k+1]+y[k]=0,y[0]=2,y[1]=5\n"
   ]
  },
  {
   "cell_type": "code",
   "execution_count": 3,
   "id": "afe0ae0f-464c-40d6-b18c-c61383148936",
   "metadata": {},
   "outputs": [
    {
     "data": {
      "text/latex": [
       "$\\displaystyle 3 k + 2$"
      ],
      "text/plain": [
       "3*k + 2"
      ]
     },
     "execution_count": 3,
     "metadata": {},
     "output_type": "execute_result"
    }
   ],
   "source": [
    "# 차분 방정식 정의\n",
    "diff_eq = Eq(y(k+2)-2*y(k+1)+y(k), 0)\n",
    "\n",
    "# 초기 조건 추가(딕셔너리 자료형)\n",
    "init_conditions = {y(0): 2,y(1):5}\n",
    "\n",
    "# 해 구하기\n",
    "solution = rsolve(diff_eq, y(k),init_conditions)\n",
    "solution"
   ]
  },
  {
   "cell_type": "markdown",
   "id": "58d49e48-6876-4d7c-b727-563cf195efbd",
   "metadata": {},
   "source": [
    "### 문제. \t다음과 같은 차분방정식(difference equation)의 해를 구하여라. \n",
    "### y[k+2]=y[k+1]+y[k],y[1]=1,y[2]=1\n"
   ]
  },
  {
   "cell_type": "code",
   "execution_count": 4,
   "id": "e0e7a978-da01-45be-b6c6-9e725ec7aef5",
   "metadata": {},
   "outputs": [
    {
     "data": {
      "text/latex": [
       "$\\displaystyle - \\frac{\\sqrt{5} \\left(\\frac{1}{2} - \\frac{\\sqrt{5}}{2}\\right)^{k}}{5} + \\frac{\\sqrt{5} \\left(\\frac{1}{2} + \\frac{\\sqrt{5}}{2}\\right)^{k}}{5}$"
      ],
      "text/plain": [
       "-sqrt(5)*(1/2 - sqrt(5)/2)**k/5 + sqrt(5)*(1/2 + sqrt(5)/2)**k/5"
      ]
     },
     "execution_count": 4,
     "metadata": {},
     "output_type": "execute_result"
    }
   ],
   "source": [
    "# 차분 방정식 정의\n",
    "diff_eq = Eq(y(k+2)-y(k+1)-y(k), 0)\n",
    "\n",
    "# 초기 조건 추가(딕셔너리 자료형)\n",
    "init_conditions = {y(1): 1,y(2):1}\n",
    "\n",
    "# 해 구하기\n",
    "solution = rsolve(diff_eq, y(k),init_conditions)\n",
    "solution"
   ]
  },
  {
   "cell_type": "code",
   "execution_count": 19,
   "id": "c7803c6a-511e-4587-b07c-2e11495e9cc0",
   "metadata": {},
   "outputs": [],
   "source": [
    "from sympy import symbols\n",
    "n=symbols('n',positive=True, integer=True)\n",
    "# 이웃한 두 항의 비율\n",
    "fn=solution.subs(k,n)/solution.subs(k,n-1)"
   ]
  },
  {
   "cell_type": "code",
   "execution_count": 21,
   "id": "140e5b89-96db-49b5-ba4f-f8cbfb6382ea",
   "metadata": {},
   "outputs": [
    {
     "data": {
      "text/latex": [
       "$\\displaystyle 1.61803398874989$"
      ],
      "text/plain": [
       "1.61803398874989"
      ]
     },
     "execution_count": 21,
     "metadata": {},
     "output_type": "execute_result"
    }
   ],
   "source": [
    "from sympy import limit\n",
    "limit(fn,n,10000).evalf()"
   ]
  },
  {
   "cell_type": "code",
   "execution_count": 25,
   "id": "566cf909-5fb1-489e-8975-7199b64ecdde",
   "metadata": {},
   "outputs": [
    {
     "data": {
      "text/plain": [
       "1.618033988749895"
      ]
     },
     "execution_count": 25,
     "metadata": {},
     "output_type": "execute_result"
    }
   ],
   "source": [
    "import numpy as np\n",
    "(1+np.sqrt(5))/2"
   ]
  },
  {
   "cell_type": "markdown",
   "id": "e107c7ab-55d1-4d3c-9b9b-9b89e0fd1b3e",
   "metadata": {},
   "source": [
    "### 문제. \t다음과 같은 차분방정식(difference equation)의 해를 구하여라. \n",
    "### y[k+2]+y[k]=0,y[0]=1,y[1]=0\n"
   ]
  },
  {
   "cell_type": "code",
   "execution_count": 33,
   "id": "517f49ca-09a1-4f6c-9da9-a3b7662c475d",
   "metadata": {},
   "outputs": [
    {
     "data": {
      "text/latex": [
       "$\\displaystyle \\frac{i^{k}}{2} + \\frac{\\left(- i\\right)^{k}}{2}$"
      ],
      "text/plain": [
       "I**k/2 + (-I)**k/2"
      ]
     },
     "execution_count": 33,
     "metadata": {},
     "output_type": "execute_result"
    }
   ],
   "source": [
    "# 차분 방정식 정의\n",
    "diff_eq = Eq(y(k+2)+y(k), 0)\n",
    "\n",
    "# 초기 조건 추가(딕셔너리 자료형)\n",
    "init_conditions = {y(0): 1,y(1):0}\n",
    "\n",
    "# 해 구하기\n",
    "solution = rsolve(diff_eq, y(k),init_conditions)\n",
    "solution"
   ]
  },
  {
   "cell_type": "code",
   "execution_count": 34,
   "id": "71121a84-3245-4d2a-af58-5932fcde4878",
   "metadata": {},
   "outputs": [
    {
     "data": {
      "image/png": "[encoded data removed]",
      "text/plain": [
       "<Figure size 800x500 with 1 Axes>"
      ]
     },
     "metadata": {},
     "output_type": "display_data"
    }
   ],
   "source": [
    "import matplotlib.pyplot as plt \n",
    "\n",
    "# k 값 범위 설정\n",
    "k_values = np.arange(1, 30)\n",
    "y_values = [solution.subs(k, val).evalf() for val in k_values]\n",
    "\n",
    "# 실수 부분만 추출\n",
    "y_real_values = [val.as_real_imag()[0] for val in y_values]\n",
    "\n",
    "# 그래프 그리기\n",
    "plt.figure(figsize=(8, 5))\n",
    "plt.plot(k_values, y_real_values, marker='o', \n",
    "         linestyle='-', label=r'$y_k$ (real parts)')\n",
    "plt.xlabel(r'$k$ (steps)')\n",
    "plt.ylabel(r'$y_k$ (solution value)')\n",
    "plt.title('Solutions of Diff Eq (Real Part)')\n",
    "plt.axhline(y=0, color='gray', linestyle='--', linewidth=1)\n",
    "plt.legend()\n",
    "plt.grid()\n",
    "plt.show()"
   ]
  },
  {
   "cell_type": "markdown",
   "id": "62f8c960-c612-4e9f-863b-bcfe76d089f6",
   "metadata": {},
   "source": [
    "### 문제. \t다음과 같은 차분방정식(difference equation)의 해를 구하여라. \n",
    "### $$y[k+1]=2y[k]+1,y[1]=1$$"
   ]
  },
  {
   "cell_type": "code",
   "execution_count": 102,
   "id": "f7c147fc-6c50-4685-bead-66e06a7945b3",
   "metadata": {},
   "outputs": [
    {
     "data": {
      "text/latex": [
       "$\\displaystyle 2^{k} - 1$"
      ],
      "text/plain": [
       "2**k - 1"
      ]
     },
     "execution_count": 102,
     "metadata": {},
     "output_type": "execute_result"
    }
   ],
   "source": [
    "# 변수 및 함수 정의\n",
    "k = symbols('k', integer=True)\n",
    "y= Function('y')\n",
    "\n",
    "# 차분 방정식 정의\n",
    "diff_eq = Eq(y(k+1)-2*y(k)-1, 0)\n",
    "\n",
    "# 초기 조건 추가(딕셔너리 자료형)\n",
    "init_conditions = {y(1): 1}\n",
    "\n",
    "# 해 구하기\n",
    "solution = rsolve(diff_eq, y(k),init_conditions)\n",
    "solution"
   ]
  },
  {
   "cell_type": "markdown",
   "id": "bfcdba60-b79e-4765-bdac-321c0552f512",
   "metadata": {},
   "source": [
    "### 문제. \t다음과 같은 차분방정식(difference equation)의 해를 구하여라. \n",
    "### $$y[k+2]-3y[k+1]+2y[k]=4^k ,y[1]=1, y[2]=2 $$"
   ]
  },
  {
   "cell_type": "code",
   "execution_count": 104,
   "id": "8aefdae7-be03-46cd-9eec-3db17ba96eb7",
   "metadata": {},
   "outputs": [
    {
     "data": {
      "text/latex": [
       "$\\displaystyle \\frac{2^{2 k}}{6} - \\frac{2^{k}}{2} + \\frac{4}{3}$"
      ],
      "text/plain": [
       "2**(2*k)/6 - 2**k/2 + 4/3"
      ]
     },
     "execution_count": 104,
     "metadata": {},
     "output_type": "execute_result"
    }
   ],
   "source": [
    "# 차분 방정식 정의\n",
    "diff_eq = Eq(y(k+2)-3*y(k+1)+2*y(k)-4**k, 0)\n",
    "\n",
    "# 초기 조건 추가(딕셔너리 자료형)\n",
    "init_conditions = {y(1): 1,y(2):2}\n",
    "\n",
    "# 해 구하기\n",
    "solution = rsolve(diff_eq, y(k),init_conditions)\n",
    "solution"
   ]
  },
  {
   "cell_type": "markdown",
   "id": "38ec7933-8fc9-4cfe-81c1-c80974eb95a3",
   "metadata": {},
   "source": [
    "### 문제. \t다음과 같은 차분방정식(difference equation)의 해를 구하여라. \n",
    "### $$y[k+1]=(y[k])/(2+y[k]),y[1]=1$$\n"
   ]
  },
  {
   "cell_type": "code",
   "execution_count": 105,
   "id": "4fd7bde7-0d2f-448e-aadf-3e863372f347",
   "metadata": {},
   "outputs": [
    {
     "data": {
      "text/latex": [
       "$\\displaystyle 2^{k} - 1$"
      ],
      "text/plain": [
       "2**k - 1"
      ]
     },
     "execution_count": 105,
     "metadata": {},
     "output_type": "execute_result"
    }
   ],
   "source": [
    "# 변수 및 함수 정의\n",
    "k = symbols('k', integer=True)\n",
    "A = Function('A')\n",
    "\n",
    "# 차분 방정식 정의\n",
    "diff_eq = Eq(A(k+1)-2*A(k)-1, 0)\n",
    "\n",
    "# 초기 조건 추가(딕셔너리 자료형)\n",
    "init_conditions = {A(1): 1}\n",
    "\n",
    "# 해 구하기\n",
    "solution = rsolve(diff_eq, A(k),init_conditions)\n",
    "solution"
   ]
  },
  {
   "cell_type": "markdown",
   "id": "648a4e29-e7a9-43cc-a26e-35f51f465b58",
   "metadata": {},
   "source": [
    "### 문제. \t다음과 같은 차분방정식(difference equation)의 해를 구하여라. \n",
    "### $$(k+2)^2 y[k+1] -(k+1)^2 y[k]=2k+3,y[0]=0$$\n"
   ]
  },
  {
   "cell_type": "code",
   "execution_count": 109,
   "id": "c939551e-fa83-4e79-952e-be1f70a98e2f",
   "metadata": {},
   "outputs": [
    {
     "data": {
      "text/latex": [
       "$\\displaystyle k \\left(k + 2\\right)$"
      ],
      "text/plain": [
       "k*(k + 2)"
      ]
     },
     "execution_count": 109,
     "metadata": {},
     "output_type": "execute_result"
    }
   ],
   "source": [
    "# 변수 및 함수 정의\n",
    "k = symbols('k', integer=True)\n",
    "A = Function('A')\n",
    "\n",
    "# 차분 방정식 정의\n",
    "diff_eq = Eq(A(k+1)-A(k)-2*k-3, 0)\n",
    "\n",
    "# 초기 조건 추가(딕셔너리 자료형)\n",
    "init_conditions = {A(0): 0}\n",
    "\n",
    "# 해 구하기\n",
    "solution = rsolve(diff_eq, A(k),init_conditions)\n",
    "solution"
   ]
  },
  {
   "cell_type": "code",
   "execution_count": 4,
   "id": "d93f08a9-70d9-4e6c-9de1-09c9b5b11ce4",
   "metadata": {},
   "outputs": [
    {
     "data": {
      "text/latex": [
       "$\\displaystyle 2^{k}$"
      ],
      "text/plain": [
       "2**k"
      ]
     },
     "execution_count": 4,
     "metadata": {},
     "output_type": "execute_result"
    }
   ],
   "source": [
    "from sympy import symbols, Function, Eq, rsolve\n",
    "\n",
    "# 변수 및 함수 정의\n",
    "k = symbols('k', integer=True)\n",
    "y = Function('y')\n",
    "\n",
    "# 차분 방정식 정의\n",
    "diff_eq = Eq(y(k+1) - 2*y(k), 0)\n",
    "\n",
    "# 초기 조건 추가(딕셔너리 자료형)\n",
    "init_conditions = {y(0): 1}\n",
    "\n",
    "# 해 구하기\n",
    "solution = rsolve(diff_eq, y(k),init_conditions)\n",
    "solution"
   ]
  },
  {
   "cell_type": "markdown",
   "id": "71b2af87-4fbf-40d8-828f-40eb784cf45b",
   "metadata": {},
   "source": [
    "### \t(Gambler’s Ruin) 두 명의 플레이어 A와 B가 참여하는 도박 상황을 생각해 보자. 예를 들어, 플레이어 A는 \"손님\"이고 플레이어 B는 \"카지노\"라고 할 수 있다. 게임의 한 번 플레이마다 플레이어 A가 플레이어 B로부터 칩을 하나 딸 확률이 0.4 이고, 반대로 플레이어 B가 플레이어 A로부터 칩을 하나 딸 확률이 0.6이다. 게임 시작 시 두 플레이어는 각각 100개와 200개의 칩을 가지고 시작한다. 어떤 플레이어가 상대방의 칩을 모두 가져가면 그 플레이어가 최종 승리하게 된다. 플레이어 A가 최종적으로 이길 확률은 얼마인가?"
   ]
  },
  {
   "cell_type": "code",
   "execution_count": 7,
   "id": "54946271-a832-43ea-b7fa-eeecf4456150",
   "metadata": {
    "tags": []
   },
   "outputs": [
    {
     "data": {
      "text/latex": [
       "$\\displaystyle 1.48806630649578 \\cdot 10^{-53} {1.5}^{k} - 1.48806630649578 \\cdot 10^{-53}$"
      ],
      "text/plain": [
       "1.48806630649578e-53*1.5**k - 1.48806630649578e-53"
      ]
     },
     "execution_count": 7,
     "metadata": {},
     "output_type": "execute_result"
    }
   ],
   "source": [
    "from sympy import symbols, Function, Eq, rsolve\n",
    "\n",
    "# 변수 및 함수 정의\n",
    "k = symbols('k', integer=True)\n",
    "A = Function('A')\n",
    "\n",
    "# 차분 방정식 정의\n",
    "diff_eq = Eq(A(k) - 0.4*A(k+1) - 0.6*A(k-1), 0)\n",
    "\n",
    "# 초기 조건 추가(딕셔너리 자료형)\n",
    "init_conditions = {A(0): 0,A(300):1}\n",
    "\n",
    "# 해 구하기\n",
    "solution = rsolve(diff_eq, A(k),init_conditions)\n",
    "solution"
   ]
  },
  {
   "cell_type": "code",
   "execution_count": 8,
   "id": "1ac1a080-c38e-45e9-adbe-b6e185669707",
   "metadata": {
    "tags": []
   },
   "outputs": [
    {
     "data": {
      "text/latex": [
       "$\\displaystyle 6.04989989819393 \\cdot 10^{-36}$"
      ],
      "text/plain": [
       "6.04989989819393e-36"
      ]
     },
     "execution_count": 8,
     "metadata": {},
     "output_type": "execute_result"
    }
   ],
   "source": [
    "# 실제 확률 계산\n",
    "n = symbols('n', integer=True)\n",
    "A_func=lambda n:solution.subs(k,n)\n",
    "A_func(100)"
   ]
  },
  {
   "cell_type": "markdown",
   "id": "25200c8e-f40f-4a6e-b9df-10f94975cd8d",
   "metadata": {
    "tags": []
   },
   "source": [
    "# 미분방정식"
   ]
  },
  {
   "cell_type": "markdown",
   "id": "9b0b7894-535b-485c-88f4-c74976acaa75",
   "metadata": {},
   "source": [
    "### 문제.\t다음과 같은 차분방정식(difference equation)의 해를 구하여라. \n",
    "### y[k+1]-2y[k]=0,y[0]=1\n"
   ]
  },
  {
   "cell_type": "code",
   "execution_count": 4,
   "id": "136682d2-ebd5-4003-ae2a-e4b89face640",
   "metadata": {},
   "outputs": [
    {
     "data": {
      "text/latex": [
       "$\\displaystyle y{\\left(t \\right)} = 10 e^{- 0.2 t}$"
      ],
      "text/plain": [
       "Eq(y(t), 10*exp(-0.2*t))"
      ]
     },
     "execution_count": 4,
     "metadata": {},
     "output_type": "execute_result"
    }
   ],
   "source": [
    "from sympy import symbols,Function,dsolve,Eq\n",
    "\n",
    "# 변수 및 함수 정의\n",
    "t = symbols('t')        # 독립 변수\n",
    "y = Function('y')(t)   # 종속 변수\n",
    "\n",
    "# 미분 방정식 정의\n",
    "eq = Eq(y.diff(t), -0.2 * y)\n",
    "\n",
    "# 초기 조건 정의\n",
    "initial_condition = {y.subs(t, 0): 10}\n",
    "\n",
    "# 미분 방정식 풀이\n",
    "dsolve(eq, y, ics=initial_condition)"
   ]
  },
  {
   "cell_type": "markdown",
   "id": "ab9f695b-fc0c-45ff-91d6-10973a1b89dc",
   "metadata": {},
   "source": [
    "### \t다음과 같은 미분방정식(differential equation)의 해를 구하여라. \n",
    "### $$y'' (t)-5y' (t)+6y(t)=0,y(0)=0,y(1)=e^2-e^3$$"
   ]
  },
  {
   "cell_type": "code",
   "execution_count": 7,
   "id": "4a9f3e75-9d8b-487a-9ae9-857fc29b100c",
   "metadata": {},
   "outputs": [
    {
     "data": {
      "text/latex": [
       "$\\displaystyle y{\\left(t \\right)} = \\left(1 - e^{t}\\right) e^{2 t}$"
      ],
      "text/plain": [
       "Eq(y(t), (1 - exp(t))*exp(2*t))"
      ]
     },
     "execution_count": 7,
     "metadata": {},
     "output_type": "execute_result"
    }
   ],
   "source": [
    "from sympy import exp \n",
    "\n",
    "# 변수 및 함수 정의\n",
    "t = symbols('t')        # 독립 변수\n",
    "y = Function('y')(t)   # 종속 변수\n",
    "\n",
    "# 미분 방정식 정의\n",
    "eq = Eq(y.diff(t,2)-5*y.diff(t)+6*y,0)\n",
    "\n",
    "# 초기 조건 정의\n",
    "initial_condition = {y.subs(t, 0): 0,y.subs(t,1):exp(2)-exp(3)}\n",
    "\n",
    "# 미분 방정식 풀이\n",
    "dsolve(eq, y, ics=initial_condition)"
   ]
  },
  {
   "cell_type": "markdown",
   "id": "f9f3bedd-2851-4d34-9583-30d7c30fe25e",
   "metadata": {},
   "source": [
    "### \t다음과 같은 미분방정식(differential equation)의 해를 구하여라. \n",
    "### $$y'' (t)+4y(t)=0,y(0)=0,y'(0)=i $$"
   ]
  },
  {
   "cell_type": "code",
   "execution_count": 8,
   "id": "ef394799-7706-4d1f-9cf6-fe8e0cfaa45c",
   "metadata": {},
   "outputs": [
    {
     "data": {
      "text/latex": [
       "$\\displaystyle y{\\left(t \\right)} = \\frac{i \\sin{\\left(2 t \\right)}}{2}$"
      ],
      "text/plain": [
       "Eq(y(t), I*sin(2*t)/2)"
      ]
     },
     "execution_count": 8,
     "metadata": {},
     "output_type": "execute_result"
    }
   ],
   "source": [
    "from sympy import I\n",
    "# 변수 및 함수 정의\n",
    "t = symbols('t')        # 독립 변수\n",
    "y = Function('y')(t)   # 종속 변수\n",
    "\n",
    "# 미분 방정식 정의\n",
    "eq = Eq(y.diff(t,2)+4*y,0)\n",
    "\n",
    "# 초기 조건 정의\n",
    "initial_condition = {y.subs(t, 0): 0,y.diff(t).subs(t,0):I}\n",
    "\n",
    "# 미분 방정식 풀이\n",
    "dsolve(eq, y, ics=initial_condition)"
   ]
  },
  {
   "cell_type": "markdown",
   "id": "178611be-fae3-48b6-b5c2-eee11683b55e",
   "metadata": {},
   "source": [
    "### \t다음과 같은 미분방정식(differential equation)의 해를 구하여라. \n",
    "### $$y'' (t)+3y'(t)+2y(t)=0,y(0)=0,y'(0)=0 $$"
   ]
  },
  {
   "cell_type": "code",
   "execution_count": 1,
   "id": "c2230785-f352-4566-b4fa-5fe74bd31da4",
   "metadata": {
    "tags": []
   },
   "outputs": [
    {
     "data": {
      "text/latex": [
       "$\\displaystyle y{\\left(t \\right)} = \\frac{e^{t}}{6} - 2.0 e^{- t} + 1.0 e^{- 2 t}$"
      ],
      "text/plain": [
       "Eq(y(t), exp(t)/6 - 2.0*exp(-t) + 1.0*exp(-2*t))"
      ]
     },
     "execution_count": 1,
     "metadata": {},
     "output_type": "execute_result"
    }
   ],
   "source": [
    "from sympy import symbols, Function, Eq, dsolve,exp\n",
    "\n",
    "# 변수 및 함수 정의\n",
    "t = symbols('t')        # 독립 변수\n",
    "y = Function('y')(t)   # 종속 변수\n",
    "\n",
    "# 미분 방정식 정의\n",
    "eq = Eq(y.diff(t,2)+3*y.diff(t)+2*y-exp(t),0)\n",
    "\n",
    "# 초기 조건 정의\n",
    "initial_condition = {y.subs(t, 0): -5/6,y.diff(t).subs(t,0):1/6}\n",
    "\n",
    "# 미분 방정식 풀이\n",
    "dsolve(eq, y, ics=initial_condition)"
   ]
  },
  {
   "cell_type": "markdown",
   "id": "c67df443-509b-4fdc-856f-2044a1821612",
   "metadata": {},
   "source": [
    "### \t다음과 같은 미분방정식(differential equation)의 해를 구하여라. \n",
    "### $$y'' (t)+4/t y'(t) + 2/t^2 y(t)=0,y(0)=0,y'(0)=-0.02 $$"
   ]
  },
  {
   "cell_type": "code",
   "execution_count": 9,
   "id": "6ee6c977-c579-4995-8a07-b893501cf348",
   "metadata": {},
   "outputs": [
    {
     "data": {
      "text/latex": [
       "$\\displaystyle \\text{False}$"
      ],
      "text/plain": [
       "False"
      ]
     },
     "execution_count": 9,
     "metadata": {},
     "output_type": "execute_result"
    }
   ],
   "source": [
    "# 변수 및 함수 정의\n",
    "t = symbols('t')        # 독립 변수\n",
    "y = Function('y')(t)   # 종속 변수\n",
    "\n",
    "# 미분 방정식 정의\n",
    "eq = Eq(y.diff(t,2)+(4/t)*y.diff(t)+(2/t**2)*y,0)\n",
    "\n",
    "# 초기 조건 정의\n",
    "initial_condition = {y.subs(t, 0): 0,y.diff(t).subs(t,0):-0.02}\n",
    "\n",
    "# 미분 방정식 풀이\n",
    "dsolve(eq, y, ics=initial_condition)"
   ]
  },
  {
   "cell_type": "code",
   "execution_count": null,
   "id": "9f3a7677-1a0c-4924-8e20-afeb00a797ee",
   "metadata": {},
   "outputs": [],
   "source": []
  }
 ],
 "metadata": {
  "kernelspec": {
   "display_name": "Python 3 (ipykernel)",
   "language": "python",
   "name": "python3"
  },
  "language_info": {
   "codemirror_mode": {
    "name": "ipython",
    "version": 3
   },
   "file_extension": ".py",
   "mimetype": "text/x-python",
   "name": "python",
   "nbconvert_exporter": "python",
   "pygments_lexer": "ipython3",
   "version": "3.10.12"
  },
  "widgets": {
   "application/vnd.jupyter.widget-state+json": {
    "state": {},
    "version_major": 2,
    "version_minor": 0
   }
  }
 },
 "nbformat": 4,
 "nbformat_minor": 5
}
