{
  "cells": [
    {
      "cell_type": "markdown",
      "id": "25200c8e-f40f-4a6e-b9df-10f94975cd8d",
      "metadata": {
        "tags": [],
        "id": "25200c8e-f40f-4a6e-b9df-10f94975cd8d"
      },
      "source": [
        "# 미분방정식"
      ]
    },
    {
      "cell_type": "markdown",
      "id": "9b0b7894-535b-485c-88f4-c74976acaa75",
      "metadata": {
        "id": "9b0b7894-535b-485c-88f4-c74976acaa75"
      },
      "source": [
        "### 문제.\t다음과 같은 차분방정식(difference equation)의 해를 구하여라.\n",
        "### y[k+1]-2y[k]=0,y[0]=1\n"
      ]
    },
    {
      "cell_type": "code",
      "execution_count": null,
      "id": "136682d2-ebd5-4003-ae2a-e4b89face640",
      "metadata": {
        "colab": {
          "base_uri": "https://localhost:8080/",
          "height": 39
        },
        "id": "136682d2-ebd5-4003-ae2a-e4b89face640",
        "outputId": "1d458d84-2b87-4eed-ae7b-a8ca0dd6ea93"
      },
      "outputs": [
        {
          "output_type": "execute_result",
          "data": {
            "text/plain": [
              "Eq(y(t), 10*exp(-0.2*t))"
            ],
            "text/latex": "$\\displaystyle y{\\left(t \\right)} = 10 e^{- 0.2 t}$"
          },
          "metadata": {},
          "execution_count": 1
        }
      ],
      "source": [
        "from sympy import symbols,Function,dsolve,Eq\n",
        "\n",
        "# 변수 및 함수 정의\n",
        "t = symbols('t')        # 독립 변수\n",
        "y = Function('y')(t)   # 종속 변수\n",
        "\n",
        "# 미분 방정식 정의\n",
        "eq = Eq(y.diff(t), -0.2 * y)\n",
        "\n",
        "# 초기 조건 정의\n",
        "initial_condition = {y.subs(t, 0): 10}\n",
        "\n",
        "# 미분 방정식 풀이\n",
        "dsolve(eq, y, ics=initial_condition)"
      ]
    },
    {
      "cell_type": "markdown",
      "id": "ab9f695b-fc0c-45ff-91d6-10973a1b89dc",
      "metadata": {
        "id": "ab9f695b-fc0c-45ff-91d6-10973a1b89dc"
      },
      "source": [
        "### \t다음과 같은 미분방정식(differential equation)의 해를 구하여라.\n",
        "### $$y'' (t)-5y' (t)+6y(t)=0,y(0)=0,y(1)=e^2-e^3$$"
      ]
    },
    {
      "cell_type": "code",
      "execution_count": null,
      "id": "4a9f3e75-9d8b-487a-9ae9-857fc29b100c",
      "metadata": {
        "colab": {
          "base_uri": "https://localhost:8080/",
          "height": 39
        },
        "id": "4a9f3e75-9d8b-487a-9ae9-857fc29b100c",
        "outputId": "ce42c634-b24f-426a-f43f-b506ce4ac4ab"
      },
      "outputs": [
        {
          "output_type": "execute_result",
          "data": {
            "text/plain": [
              "Eq(y(t), (1 - exp(t))*exp(2*t))"
            ],
            "text/latex": "$\\displaystyle y{\\left(t \\right)} = \\left(1 - e^{t}\\right) e^{2 t}$"
          },
          "metadata": {},
          "execution_count": 2
        }
      ],
      "source": [
        "from sympy import exp\n",
        "\n",
        "# 변수 및 함수 정의\n",
        "t = symbols('t')        # 독립 변수\n",
        "y = Function('y')(t)   # 종속 변수\n",
        "\n",
        "# 미분 방정식 정의\n",
        "eq = Eq(y.diff(t,2)-5*y.diff(t)+6*y,0)\n",
        "\n",
        "# 초기 조건 정의\n",
        "initial_condition = {y.subs(t, 0): 0,y.subs(t,1):exp(2)-exp(3)}\n",
        "\n",
        "# 미분 방정식 풀이\n",
        "dsolve(eq, y, ics=initial_condition)"
      ]
    },
    {
      "cell_type": "markdown",
      "id": "f9f3bedd-2851-4d34-9583-30d7c30fe25e",
      "metadata": {
        "id": "f9f3bedd-2851-4d34-9583-30d7c30fe25e"
      },
      "source": [
        "### \t다음과 같은 미분방정식(differential equation)의 해를 구하여라.\n",
        "### $$y'' (t)+4y(t)=0,y(0)=0,y'(0)=i $$"
      ]
    },
    {
      "cell_type": "code",
      "execution_count": null,
      "id": "ef394799-7706-4d1f-9cf6-fe8e0cfaa45c",
      "metadata": {
        "colab": {
          "base_uri": "https://localhost:8080/",
          "height": 53
        },
        "id": "ef394799-7706-4d1f-9cf6-fe8e0cfaa45c",
        "outputId": "a425d253-85a4-4b29-c3be-c2c6dd153dde"
      },
      "outputs": [
        {
          "output_type": "execute_result",
          "data": {
            "text/plain": [
              "Eq(y(t), I*sin(2*t)/2)"
            ],
            "text/latex": "$\\displaystyle y{\\left(t \\right)} = \\frac{i \\sin{\\left(2 t \\right)}}{2}$"
          },
          "metadata": {},
          "execution_count": 3
        }
      ],
      "source": [
        "from sympy import I\n",
        "# 변수 및 함수 정의\n",
        "t = symbols('t')        # 독립 변수\n",
        "y = Function('y')(t)   # 종속 변수\n",
        "\n",
        "# 미분 방정식 정의\n",
        "eq = Eq(y.diff(t,2)+4*y,0)\n",
        "\n",
        "# 초기 조건 정의\n",
        "initial_condition = {y.subs(t, 0): 0,y.diff(t).subs(t,0):I}\n",
        "\n",
        "# 미분 방정식 풀이\n",
        "dsolve(eq, y, ics=initial_condition)"
      ]
    },
    {
      "cell_type": "markdown",
      "id": "178611be-fae3-48b6-b5c2-eee11683b55e",
      "metadata": {
        "id": "178611be-fae3-48b6-b5c2-eee11683b55e"
      },
      "source": [
        "### \t다음과 같은 미분방정식(differential equation)의 해를 구하여라.\n",
        "### $$y'' (t)+3y'(t)+2y(t)=0,y(0)=0,y'(0)=0 $$"
      ]
    },
    {
      "cell_type": "code",
      "execution_count": null,
      "id": "c2230785-f352-4566-b4fa-5fe74bd31da4",
      "metadata": {
        "tags": [],
        "colab": {
          "base_uri": "https://localhost:8080/",
          "height": 54
        },
        "id": "c2230785-f352-4566-b4fa-5fe74bd31da4",
        "outputId": "353b9592-f9a5-4abf-a175-0bca966d37c7"
      },
      "outputs": [
        {
          "output_type": "execute_result",
          "data": {
            "text/plain": [
              "Eq(y(t), exp(t)/6 - 2.0*exp(-t) + 1.0*exp(-2*t))"
            ],
            "text/latex": "$\\displaystyle y{\\left(t \\right)} = \\frac{e^{t}}{6} - 2.0 e^{- t} + 1.0 e^{- 2 t}$"
          },
          "metadata": {},
          "execution_count": 4
        }
      ],
      "source": [
        "from sympy import symbols, Function, Eq, dsolve,exp\n",
        "\n",
        "# 변수 및 함수 정의\n",
        "t = symbols('t')        # 독립 변수\n",
        "y = Function('y')(t)   # 종속 변수\n",
        "\n",
        "# 미분 방정식 정의\n",
        "eq = Eq(y.diff(t,2)+3*y.diff(t)+2*y-exp(t),0)\n",
        "\n",
        "# 초기 조건 정의\n",
        "initial_condition = {y.subs(t, 0): -5/6,y.diff(t).subs(t,0):1/6}\n",
        "\n",
        "# 미분 방정식 풀이\n",
        "dsolve(eq, y, ics=initial_condition)"
      ]
    },
    {
      "cell_type": "markdown",
      "id": "c67df443-509b-4fdc-856f-2044a1821612",
      "metadata": {
        "id": "c67df443-509b-4fdc-856f-2044a1821612"
      },
      "source": [
        "### \t다음과 같은 미분방정식(differential equation)의 해를 구하여라.\n",
        "### $$y'' (t)+4/t y'(t) + 2/t^2 y(t)=0,y(0)=0,y'(0)=-0.02 $$"
      ]
    },
    {
      "cell_type": "code",
      "execution_count": null,
      "id": "6ee6c977-c579-4995-8a07-b893501cf348",
      "metadata": {
        "colab": {
          "base_uri": "https://localhost:8080/",
          "height": 37
        },
        "id": "6ee6c977-c579-4995-8a07-b893501cf348",
        "outputId": "9297d06e-74ff-4b3b-c977-38806e190e7b"
      },
      "outputs": [
        {
          "output_type": "execute_result",
          "data": {
            "text/plain": [
              "False"
            ],
            "text/latex": "$\\displaystyle \\text{False}$"
          },
          "metadata": {},
          "execution_count": 5
        }
      ],
      "source": [
        "# 변수 및 함수 정의\n",
        "t = symbols('t')        # 독립 변수\n",
        "y = Function('y')(t)   # 종속 변수\n",
        "\n",
        "# 미분 방정식 정의\n",
        "eq = Eq(y.diff(t,2)+(4/t)*y.diff(t)+(2/t**2)*y,0)\n",
        "\n",
        "# 초기 조건 정의\n",
        "initial_condition = {y.subs(t, 0): 0,y.diff(t).subs(t,0):-0.02}\n",
        "\n",
        "# 미분 방정식 풀이\n",
        "dsolve(eq, y, ics=initial_condition)"
      ]
    },
    {
      "cell_type": "markdown",
      "source": [
        "# **Finite Difference Method**"
      ],
      "metadata": {
        "id": "43A-e-Pg_G41"
      },
      "id": "43A-e-Pg_G41"
    },
    {
      "cell_type": "markdown",
      "source": [
        "![image.png](data:image/png;base64,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)"
      ],
      "metadata": {
        "id": "cmPgL3J2_VNX"
      },
      "id": "cmPgL3J2_VNX"
    },
    {
      "cell_type": "code",
      "execution_count": 8,
      "id": "9f3a7677-1a0c-4924-8e20-afeb00a797ee",
      "metadata": {
        "id": "9f3a7677-1a0c-4924-8e20-afeb00a797ee",
        "outputId": "3965f3e6-9397-4129-e34a-c306f21c224a",
        "colab": {
          "base_uri": "https://localhost:8080/",
          "height": 37
        }
      },
      "outputs": [
        {
          "output_type": "execute_result",
          "data": {
            "text/plain": [
              "10*1.03**k"
            ],
            "text/latex": "$\\displaystyle 10 {1.03}^{k}$"
          },
          "metadata": {},
          "execution_count": 8
        }
      ],
      "source": [
        "from sympy import Eq, symbols,rsolve,Function\n",
        "\n",
        "k=symbols('k',integer=True)\n",
        "y=Function('y')\n",
        "\n",
        "h=0.01\n",
        "# 차분 방정식 정의\n",
        "diff_eq = Eq((y(k+1)-y(k))/h-3*y(k), 0)\n",
        "\n",
        "# 초기 조건 추가(딕셔너리 자료형)\n",
        "init_conditions = {y(0): 10}\n",
        "\n",
        "# 해 구하기\n",
        "solution = rsolve(diff_eq, y(k),init_conditions)\n",
        "solution"
      ]
    },
    {
      "cell_type": "code",
      "source": [
        "import numpy as np\n",
        "import matplotlib.pyplot as plt\n",
        "\n",
        "# k 값 범위 설정\n",
        "k_values = np.arange(101) # 0부터 100까지 숫자 설정\n",
        "y_disc = [solution.subs(k, val).evalf() for val in k_values]\n",
        "\n",
        "# 그래프 그리기\n",
        "plt.figure(figsize=(8, 5))\n",
        "plt.plot(k_values, y_disc,'*r')\n",
        "plt.title('h=0.01')\n"
      ],
      "metadata": {
        "id": "Wu1FT-OAAPD2",
        "outputId": "f1719deb-888e-42b7-da59-85c279859a1a",
        "colab": {
          "base_uri": "https://localhost:8080/",
          "height": 486
        }
      },
      "id": "Wu1FT-OAAPD2",
      "execution_count": 10,
      "outputs": [
        {
          "output_type": "execute_result",
          "data": {
            "text/plain": [
              "Text(0.5, 1.0, 'h=0.01')"
            ]
          },
          "metadata": {},
          "execution_count": 10
        },
        {
          "output_type": "display_data",
          "data": {
            "text/plain": [
              "<Figure size 800x500 with 1 Axes>"
            ],
            "image/png": "[encoded data removed]"
          },
          "metadata": {}
        }
      ]
    },
    {
      "cell_type": "markdown",
      "source": [
        "문제. 아래 미분방정식(difference equation)을 해의 그래프를 FDM을 이용하여 구하여 보아라.\n",
        "$$ 𝑦″(𝑡)+ 4/𝑡 𝑦′(𝑡)+2/𝑡2𝑦(𝑡)=0,𝑦(0)=10,𝑦′(0)=−0.02,0≤𝑡≤1 $$"
      ],
      "metadata": {
        "id": "s_pQjhzSAfWJ"
      },
      "id": "s_pQjhzSAfWJ"
    },
    {
      "cell_type": "code",
      "source": [
        "import numpy as np\n",
        "import matplotlib.pyplot as plt\n",
        "\n",
        "# 초기 조건 및 범위 설정\n",
        "t_min, t_max, N = 0, 1, 100  # 시간 범위와 스텝 개수\n",
        "h = (t_max - t_min) / N  # 스텝 크기\n",
        "t_values = np.linspace(t_min, t_max, N+1)  # 시간 노드 생성\n",
        "\n",
        "# 초기 조건\n",
        "y = np.zeros(N+1)\n",
        "y[0]=10\n",
        "y[1]=y[0]-0.02*h\n",
        "\n",
        "# FDM을 이용한 수치적 풀이\n",
        "for k in range(1, N):\n",
        "    y[k+1]=(1/(1+2/k))*((2-2/k**2)*y[k]+(-1+2/k)*y[k-1])\n",
        "\n",
        "# 그래프 출력\n",
        "plt.figure(figsize=(8, 5))\n",
        "plt.plot(t_values, y,label=r'$y(t)$')\n",
        "plt.xlabel(r'$t$')\n",
        "plt.ylabel(r'$y(t)$')\n",
        "plt.title('Finite Difference Method (FDM) Solution')\n",
        "plt.grid()\n",
        "plt.show()"
      ],
      "metadata": {
        "id": "we2p_l9SAekM",
        "outputId": "1137940e-abbd-4878-d7e6-a84721e08241",
        "colab": {
          "base_uri": "https://localhost:8080/",
          "height": 487
        }
      },
      "id": "we2p_l9SAekM",
      "execution_count": 11,
      "outputs": [
        {
          "output_type": "display_data",
          "data": {
            "text/plain": [
              "<Figure size 800x500 with 1 Axes>"
            ],
            "image/png": "[encoded data removed]"
          },
          "metadata": {}
        }
      ]
    },
    {
      "cell_type": "code",
      "source": [
        "# FDM의 또다른 방법\n",
        "import numpy as np\n",
        "import matplotlib.pyplot as plt\n",
        "\n",
        "# 초기 조건 및 범위 설정\n",
        "t_min, t_max, N = 0, 1, 100  # 시간 범위와 스텝 개수\n",
        "h = (t_max - t_min) / N  # 스텝 크기\n",
        "t_values = np.linspace(t_min, t_max, N+1)  # 시간 노드 생성\n",
        "\n",
        "# 초기 조건\n",
        "y = np.zeros(N+1)\n",
        "yp = np.zeros(N+1)\n",
        "y[0] = 100  # y(0) = 10\n",
        "yp[0] = -0.02  # y'(0) = -0.02\n",
        "\n",
        "# FDM을 이용한 수치적 풀이 (두 번째 차분식 사용)\n",
        "for i in range(1, N):\n",
        "    t = t_values[i]\n",
        "\n",
        "    if t == 0:\n",
        "        continue  # t=0일 때 나눗셈 방지\n",
        "\n",
        "    # 이차 미분 방정식을 전진 차분법(Finite Difference Method)으로 변환\n",
        "    ypp = - (4/t) * yp[i-1] - (2/t**2) * y[i-1]  # y''(t)의 근사\n",
        "    y[i] = y[i-1] + h * yp[i-1]  # y_n+1 = y_n + h*y'_n\n",
        "    yp[i] = yp[i-1] + h * ypp  # y'_n+1 = y'_n + h*y''_n\n",
        "\n",
        "# 그래프 출력\n",
        "plt.figure(figsize=(8, 5))\n",
        "plt.plot(t_values, y, label=r'$y(t)$')\n",
        "plt.xlabel(r'$t$')\n",
        "plt.ylabel(r'$y(t)$')\n",
        "plt.title('Finite Difference Method (FDM) Solution')\n",
        "plt.axhline(y=0, color='gray', linestyle='--', linewidth=1)\n",
        "plt.legend()\n",
        "plt.grid()\n",
        "plt.show()\n"
      ],
      "metadata": {
        "id": "AH0h9yN9BGio",
        "outputId": "f3439286-e13d-4e17-c3f0-870caa2fd0cf",
        "colab": {
          "base_uri": "https://localhost:8080/",
          "height": 487
        }
      },
      "id": "AH0h9yN9BGio",
      "execution_count": 12,
      "outputs": [
        {
          "output_type": "display_data",
          "data": {
            "text/plain": [
              "<Figure size 800x500 with 1 Axes>"
            ],
            "image/png": "[encoded data removed]"
          },
          "metadata": {}
        }
      ]
    },
    {
      "cell_type": "markdown",
      "source": [
        "# **Taylor Expansion과 Euler Forumula**"
      ],
      "metadata": {
        "id": "oyl3AaQeBRKe"
      },
      "id": "oyl3AaQeBRKe"
    },
    {
      "cell_type": "markdown",
      "metadata": {
        "tags": [],
        "id": "96d981bb-bc57-4449-80f5-58a8d230fe51"
      },
      "source": [
        "###\t아래 함수 f(x)를 x=0에서 x의 다항식으로 표현하고 그래프로 그려보아라.   \n",
        "### $$ f(x) = \\cos⁡(2x) $$"
      ],
      "id": "96d981bb-bc57-4449-80f5-58a8d230fe51"
    },
    {
      "cell_type": "code",
      "execution_count": 13,
      "metadata": {
        "tags": [],
        "id": "ee20361b-5887-4022-9863-b0c20ffc6a96",
        "outputId": "0864dec1-fd90-4ed2-a7f8-5f8d55148d5e",
        "colab": {
          "base_uri": "https://localhost:8080/",
          "height": 54
        }
      },
      "outputs": [
        {
          "output_type": "execute_result",
          "data": {
            "text/plain": [
              "1 - 2*x**2 + 2*x**4/3 - 4*x**6/45 + 2*x**8/315 + O(x**9)"
            ],
            "text/latex": "$\\displaystyle 1 - 2 x^{2} + \\frac{2 x^{4}}{3} - \\frac{4 x^{6}}{45} + \\frac{2 x^{8}}{315} + O\\left(x^{9}\\right)$"
          },
          "metadata": {},
          "execution_count": 13
        }
      ],
      "source": [
        "import sympy as sp\n",
        "\n",
        "# 변수 정의\n",
        "x = sp.symbols('x')\n",
        "\n",
        "# 함수 정의\n",
        "f = sp.cos(2*x)\n",
        "\n",
        "# 테일러 급수 전개 (x=0에서 8차항까지)\n",
        "f.series(x, 0, 9)"
      ],
      "id": "ee20361b-5887-4022-9863-b0c20ffc6a96"
    },
    {
      "cell_type": "code",
      "execution_count": 14,
      "metadata": {
        "tags": [],
        "id": "2c8fbf9d-e56f-41d7-8ecd-630277493105",
        "outputId": "cd9215eb-7a9a-4b27-970a-277c96ad7a25",
        "colab": {
          "base_uri": "https://localhost:8080/",
          "height": 54
        }
      },
      "outputs": [
        {
          "output_type": "execute_result",
          "data": {
            "text/plain": [
              "2*x**8/315 - 4*x**6/45 + 2*x**4/3 - 2*x**2 + 1"
            ],
            "text/latex": "$\\displaystyle \\frac{2 x^{8}}{315} - \\frac{4 x^{6}}{45} + \\frac{2 x^{4}}{3} - 2 x^{2} + 1$"
          },
          "metadata": {},
          "execution_count": 14
        }
      ],
      "source": [
        "# O() 이하 제거\n",
        "f.series(x, 0, 9).removeO()"
      ],
      "id": "2c8fbf9d-e56f-41d7-8ecd-630277493105"
    },
    {
      "cell_type": "code",
      "execution_count": 17,
      "metadata": {
        "tags": [],
        "id": "8b9f7523-fea6-4b0c-9f3c-d02a4430f15e",
        "outputId": "af355664-e0ec-4b06-c12c-b988cac5c5c1",
        "colab": {
          "base_uri": "https://localhost:8080/",
          "height": 489
        }
      },
      "outputs": [
        {
          "output_type": "display_data",
          "data": {
            "text/plain": [
              "<Figure size 800x500 with 1 Axes>"
            ],
            "image/png": "[encoded data removed]"
          },
          "metadata": {}
        }
      ],
      "source": [
        "# 수치적으로 계산하여 그래프 그리기\n",
        "import numpy as np\n",
        "import matplotlib.pyplot as plt\n",
        "\n",
        "taylor_series=f.series(x, 0, 9).removeO()\n",
        "\n",
        "# x 값 설정 (-π to π)\n",
        "x_vals = np.linspace(-np.pi, np.pi, 400)\n",
        "f_vals = np.cos(2 * x_vals)  # 원래 함수 값\n",
        "taylor_func = sp.lambdify(x, taylor_series, 'numpy')  # 테일러 다항식 변환\n",
        "taylor_vals = taylor_func(x_vals)  # 테일러 다항식 값\n",
        "\n",
        "# 그래프 그리기\n",
        "plt.figure(figsize=(8, 5))\n",
        "plt.plot(x_vals, f_vals, label=r'$\\cos(2x)$', linewidth=2, color='blue')\n",
        "plt.plot(x_vals, taylor_vals, label='Taylor Approx. (until 8th term)',\n",
        "         linestyle='dashed', color='red')\n",
        "\n",
        "# 그래프 설정\n",
        "plt.axhline(0, color='black', linewidth=0.5)\n",
        "plt.axvline(0, color='black', linewidth=0.5)\n",
        "plt.legend()\n",
        "plt.title(r'Taylor Series Approximation of $\\cos(2x)$ at $x=0$')\n",
        "plt.xlabel(r'$x$')\n",
        "plt.ylabel(r'$f(x)$')\n",
        "plt.grid(True)\n",
        "\n",
        "# 그래프 출력\n",
        "plt.show()"
      ],
      "id": "8b9f7523-fea6-4b0c-9f3c-d02a4430f15e"
    },
    {
      "cell_type": "markdown",
      "metadata": {
        "tags": [],
        "id": "5259b283-b9c0-4c9a-976e-cbaef0b5e242"
      },
      "source": [
        "###\t테일러급수를 이용하여 아래 오일러 공식(Euler’s Formula)을 증명하여라\n",
        "### $$ e^{iθ} = \\cos⁡(θ)+i \\sin⁡(θ) $$"
      ],
      "id": "5259b283-b9c0-4c9a-976e-cbaef0b5e242"
    },
    {
      "cell_type": "code",
      "execution_count": 18,
      "metadata": {
        "tags": [],
        "id": "b7f27273-c71b-4f1b-8b25-98fe741d647b",
        "outputId": "1ae57ccb-96e8-47b4-8f12-ecc2c58f960f",
        "colab": {
          "base_uri": "https://localhost:8080/",
          "height": 54
        }
      },
      "outputs": [
        {
          "output_type": "execute_result",
          "data": {
            "text/plain": [
              "1 - θ**2/2 + θ**4/24 + O(θ**6)"
            ],
            "text/latex": "$\\displaystyle 1 - \\frac{θ^{2}}{2} + \\frac{θ^{4}}{24} + O\\left(θ^{6}\\right)$"
          },
          "metadata": {},
          "execution_count": 18
        }
      ],
      "source": [
        "from sympy import symbols, I, exp, cos, sin\n",
        "\n",
        "# cos 함수의 테일러 급수\n",
        "theta=symbols('θ')\n",
        "f_cos=cos(theta).series(theta,0)\n",
        "f_cos"
      ],
      "id": "b7f27273-c71b-4f1b-8b25-98fe741d647b"
    },
    {
      "cell_type": "code",
      "execution_count": 19,
      "metadata": {
        "tags": [],
        "id": "0947d8ec-5ab5-46ad-bf7a-f2a88f2432c7",
        "outputId": "2a936ed3-67ec-4804-ed48-79f04c171b63",
        "colab": {
          "base_uri": "https://localhost:8080/",
          "height": 54
        }
      },
      "outputs": [
        {
          "output_type": "execute_result",
          "data": {
            "text/plain": [
              "θ - θ**3/6 + θ**5/120 + O(θ**6)"
            ],
            "text/latex": "$\\displaystyle θ - \\frac{θ^{3}}{6} + \\frac{θ^{5}}{120} + O\\left(θ^{6}\\right)$"
          },
          "metadata": {},
          "execution_count": 19
        }
      ],
      "source": [
        "# sin 함수의 테일러 급수\n",
        "f_sin=sin(theta).series(theta,0)\n",
        "f_sin"
      ],
      "id": "0947d8ec-5ab5-46ad-bf7a-f2a88f2432c7"
    },
    {
      "cell_type": "code",
      "execution_count": 20,
      "metadata": {
        "tags": [],
        "id": "ec65b621-4e9d-411f-be1f-33ec251752fc",
        "outputId": "37999b1f-bc4a-4812-e9b6-1becaae7ee3a",
        "colab": {
          "base_uri": "https://localhost:8080/",
          "height": 54
        }
      },
      "outputs": [
        {
          "output_type": "execute_result",
          "data": {
            "text/plain": [
              "1 + I*θ - θ**2/2 - I*θ**3/6 + θ**4/24 + I*θ**5/120 + O(θ**6)"
            ],
            "text/latex": "$\\displaystyle 1 + i θ - \\frac{θ^{2}}{2} - \\frac{i θ^{3}}{6} + \\frac{θ^{4}}{24} + \\frac{i θ^{5}}{120} + O\\left(θ^{6}\\right)$"
          },
          "metadata": {},
          "execution_count": 20
        }
      ],
      "source": [
        "# exp 함수의 테일러 급수\n",
        "f_exp=exp(theta*I).series(theta,0)\n",
        "f_exp"
      ],
      "id": "ec65b621-4e9d-411f-be1f-33ec251752fc"
    },
    {
      "cell_type": "code",
      "execution_count": 21,
      "metadata": {
        "tags": [],
        "id": "3edd95ac-b357-4faf-9990-69d4e5add373",
        "outputId": "e3bbdfd3-de74-42f8-88b2-cbb2a5fcf17a",
        "colab": {
          "base_uri": "https://localhost:8080/",
          "height": 39
        }
      },
      "outputs": [
        {
          "output_type": "execute_result",
          "data": {
            "text/plain": [
              "O(θ**6)"
            ],
            "text/latex": "$\\displaystyle O\\left(θ^{6}\\right)$"
          },
          "metadata": {},
          "execution_count": 21
        }
      ],
      "source": [
        "# exp(it) - (cos(t)+i sin(t)) = 0 ?\n",
        "f_exp-(f_cos+I*f_sin).simplify()"
      ],
      "id": "3edd95ac-b357-4faf-9990-69d4e5add373"
    },
    {
      "cell_type": "code",
      "execution_count": 22,
      "metadata": {
        "tags": [],
        "id": "20d655a7-1023-4936-b7b6-34fc4328c509",
        "outputId": "1bb5a5e5-c23c-41d8-86f7-6774cf21d7a5",
        "colab": {
          "base_uri": "https://localhost:8080/",
          "height": 39
        }
      },
      "outputs": [
        {
          "output_type": "execute_result",
          "data": {
            "text/plain": [
              "-sin(θ) + I*cos(θ)"
            ],
            "text/latex": "$\\displaystyle - \\sin{\\left(θ \\right)} + i \\cos{\\left(θ \\right)}$"
          },
          "metadata": {},
          "execution_count": 22
        }
      ],
      "source": [
        "# 미분방정식을 이용한 증명\n",
        "from sympy import diff\n",
        "z=cos(theta)+I*sin(theta)\n",
        "diff(z,theta)"
      ],
      "id": "20d655a7-1023-4936-b7b6-34fc4328c509"
    },
    {
      "cell_type": "code",
      "execution_count": 23,
      "metadata": {
        "tags": [],
        "id": "853f2573-0565-45a7-9147-656cd0e5887f",
        "outputId": "26875474-6481-4ee2-af50-ad5d6dffd6cc",
        "colab": {
          "base_uri": "https://localhost:8080/",
          "height": 39
        }
      },
      "outputs": [
        {
          "output_type": "execute_result",
          "data": {
            "text/plain": [
              "Eq(z(θ), exp(I*θ))"
            ],
            "text/latex": "$\\displaystyle z{\\left(θ \\right)} = e^{i θ}$"
          },
          "metadata": {},
          "execution_count": 23
        }
      ],
      "source": [
        "# 변수 및 함수 정의\n",
        "from sympy import Function,Eq,dsolve\n",
        "theta=symbols('θ')\n",
        "z=Function('z')(theta)\n",
        "\n",
        "# 미분방정식 정의\n",
        "eq=Eq(z.diff(theta)-I*z,0)\n",
        "\n",
        "# 초기조건\n",
        "IC={z.subs(theta,0):1}\n",
        "\n",
        "# 해구하기\n",
        "dsolve(eq,z,ics=IC)"
      ],
      "id": "853f2573-0565-45a7-9147-656cd0e5887f"
    }
  ],
  "metadata": {
    "kernelspec": {
      "display_name": "Python 3 (ipykernel)",
      "language": "python",
      "name": "python3"
    },
    "language_info": {
      "codemirror_mode": {
        "name": "ipython",
        "version": 3
      },
      "file_extension": ".py",
      "mimetype": "text/x-python",
      "name": "python",
      "nbconvert_exporter": "python",
      "pygments_lexer": "ipython3",
      "version": "3.10.12"
    },
    "colab": {
      "provenance": []
    }
  },
  "nbformat": 4,
  "nbformat_minor": 5
}