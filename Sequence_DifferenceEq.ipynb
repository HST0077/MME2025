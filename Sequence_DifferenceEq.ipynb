{
  "cells": [
    {
      "cell_type": "markdown",
      "id": "d8c094b7-d05c-4e39-9eed-15c73633c9ae",
      "metadata": {
        "id": "d8c094b7-d05c-4e39-9eed-15c73633c9ae"
      },
      "source": [
        "## 수열의 합"
      ]
    },
    {
      "cell_type": "code",
      "execution_count": 1,
      "id": "7e3008df-386b-4cfb-8040-1ce3a2e935ba",
      "metadata": {
        "tags": [],
        "id": "7e3008df-386b-4cfb-8040-1ce3a2e935ba",
        "outputId": "50182679-78b4-4826-dda5-b23228a240ff",
        "colab": {
          "base_uri": "https://localhost:8080/",
          "height": 67
        }
      },
      "outputs": [
        {
          "output_type": "execute_result",
          "data": {
            "text/plain": [
              "Sum(k, (k, 1, n))"
            ],
            "text/latex": "$\\displaystyle \\sum_{k=1}^{n} k$"
          },
          "metadata": {},
          "execution_count": 1
        }
      ],
      "source": [
        "from sympy import Sum, symbols\n",
        "\n",
        "k,n=symbols('k n',positive=True,integer=True)\n",
        "Sum(k,(k,1,n)) # 기호합으로 표현"
      ]
    },
    {
      "cell_type": "code",
      "execution_count": null,
      "id": "2c429b43-8b33-421d-ada9-8b7afaeac8e1",
      "metadata": {
        "tags": [],
        "id": "2c429b43-8b33-421d-ada9-8b7afaeac8e1",
        "outputId": "df4cfe16-a59e-49d4-8692-a3cce7207b7e"
      },
      "outputs": [
        {
          "data": {
            "text/latex": [
              "$\\displaystyle \\frac{n^{3}}{3} + \\frac{n^{2}}{2} + \\frac{n}{6}$"
            ],
            "text/plain": [
              "n**3/3 + n**2/2 + n/6"
            ]
          },
          "execution_count": 1,
          "metadata": {},
          "output_type": "execute_result"
        }
      ],
      "source": [
        "from sympy import summation,symbols\n",
        "\n",
        "k,n=symbols('k n',positive=True,integer=True)\n",
        "summation(k**2,(k,1,n))"
      ]
    },
    {
      "cell_type": "code",
      "execution_count": null,
      "id": "55b84475-09e6-4d6d-99a5-9a6dc3388cef",
      "metadata": {
        "tags": [],
        "id": "55b84475-09e6-4d6d-99a5-9a6dc3388cef",
        "outputId": "23021112-2551-4224-82f1-b480ed42392f"
      },
      "outputs": [
        {
          "data": {
            "text/latex": [
              "$\\displaystyle \\frac{n \\left(n + 1\\right) \\left(2 n + 1\\right)}{6}$"
            ],
            "text/plain": [
              "n*(n + 1)*(2*n + 1)/6"
            ]
          },
          "execution_count": 2,
          "metadata": {},
          "output_type": "execute_result"
        }
      ],
      "source": [
        "_.factor()"
      ]
    },
    {
      "cell_type": "code",
      "execution_count": null,
      "id": "ea985e5c-2b56-49b2-a22f-f55ee65e5ba0",
      "metadata": {
        "tags": [],
        "id": "ea985e5c-2b56-49b2-a22f-f55ee65e5ba0",
        "outputId": "0d5536c9-e1c4-4945-9a72-01e94088a680"
      },
      "outputs": [
        {
          "data": {
            "text/latex": [
              "$\\displaystyle - k^{3} + \\left(k + 1\\right)^{3}$"
            ],
            "text/plain": [
              "-k**3 + (k + 1)**3"
            ]
          },
          "execution_count": 3,
          "metadata": {},
          "output_type": "execute_result"
        }
      ],
      "source": [
        "(k+1)**3-k**3"
      ]
    },
    {
      "cell_type": "code",
      "execution_count": null,
      "id": "4f6d9b7d-a182-41ec-a660-bad12b46273a",
      "metadata": {
        "tags": [],
        "id": "4f6d9b7d-a182-41ec-a660-bad12b46273a",
        "outputId": "96a46d7a-fa9f-4345-e247-f17d73e75652"
      },
      "outputs": [
        {
          "data": {
            "text/latex": [
              "$\\displaystyle 3 k^{2} + 3 k + 1$"
            ],
            "text/plain": [
              "3*k**2 + 3*k + 1"
            ]
          },
          "execution_count": 4,
          "metadata": {},
          "output_type": "execute_result"
        }
      ],
      "source": [
        "_.expand()"
      ]
    },
    {
      "cell_type": "code",
      "execution_count": null,
      "id": "3f417f64-08d6-4cef-86aa-4eba37177e7b",
      "metadata": {
        "tags": [],
        "id": "3f417f64-08d6-4cef-86aa-4eba37177e7b",
        "outputId": "fa82a91d-f836-45d0-9b58-d85492179b52"
      },
      "outputs": [
        {
          "data": {
            "text/latex": [
              "$\\displaystyle \\left(n + 1\\right)^{3} - 1$"
            ],
            "text/plain": [
              "(n + 1)**3 - 1"
            ]
          },
          "execution_count": 5,
          "metadata": {},
          "output_type": "execute_result"
        }
      ],
      "source": [
        "(n+1)**3-1"
      ]
    },
    {
      "cell_type": "code",
      "execution_count": null,
      "id": "fe75baff-2a7e-49a1-9bd2-d4182a51b17f",
      "metadata": {
        "tags": [],
        "id": "fe75baff-2a7e-49a1-9bd2-d4182a51b17f",
        "outputId": "52de56a5-1402-4ca6-a3ec-17195a993c6d"
      },
      "outputs": [
        {
          "data": {
            "text/latex": [
              "$\\displaystyle n^{3} + 3 n^{2} + 3 n$"
            ],
            "text/plain": [
              "n**3 + 3*n**2 + 3*n"
            ]
          },
          "execution_count": 6,
          "metadata": {},
          "output_type": "execute_result"
        }
      ],
      "source": [
        "_.expand()"
      ]
    },
    {
      "cell_type": "code",
      "execution_count": null,
      "id": "a867ce30-2b6c-45a1-b013-45f4461dfecc",
      "metadata": {
        "tags": [],
        "id": "a867ce30-2b6c-45a1-b013-45f4461dfecc",
        "outputId": "4498f3d2-0eac-4ed0-ccac-e5ca3e037c2f"
      },
      "outputs": [
        {
          "data": {
            "text/latex": [
              "$\\displaystyle \\frac{n^{3}}{3} + n^{2} - \\frac{n \\left(n + 1\\right)}{2} + \\frac{2 n}{3}$"
            ],
            "text/plain": [
              "n**3/3 + n**2 - n*(n + 1)/2 + 2*n/3"
            ]
          },
          "execution_count": 7,
          "metadata": {},
          "output_type": "execute_result"
        }
      ],
      "source": [
        "(_-3*n*(n+1)/2-n)/3"
      ]
    },
    {
      "cell_type": "code",
      "execution_count": null,
      "id": "5f33b53a-4cc9-4300-bd88-98c5f0329490",
      "metadata": {
        "tags": [],
        "id": "5f33b53a-4cc9-4300-bd88-98c5f0329490",
        "outputId": "4d434d35-c3a1-43c8-ce6c-dcacfcbbbc8b"
      },
      "outputs": [
        {
          "data": {
            "text/latex": [
              "$\\displaystyle \\frac{n \\left(n + 1\\right) \\left(2 n + 1\\right)}{6}$"
            ],
            "text/plain": [
              "n*(n + 1)*(2*n + 1)/6"
            ]
          },
          "execution_count": 8,
          "metadata": {},
          "output_type": "execute_result"
        }
      ],
      "source": [
        "_.factor()"
      ]
    },
    {
      "cell_type": "markdown",
      "id": "470467d4-d419-4354-8ae6-9eabdc2f4862",
      "metadata": {
        "id": "470467d4-d419-4354-8ae6-9eabdc2f4862"
      },
      "source": [
        "## 수열의 곱"
      ]
    },
    {
      "cell_type": "code",
      "execution_count": null,
      "id": "6f9c9624-0693-4b7d-8b4c-d82e1b63331c",
      "metadata": {
        "tags": [],
        "id": "6f9c9624-0693-4b7d-8b4c-d82e1b63331c",
        "outputId": "17c8cebc-08f2-46db-ba3a-f760d0cf747f"
      },
      "outputs": [
        {
          "data": {
            "text/latex": [
              "$\\displaystyle \\prod_{k=1}^{n} k$"
            ],
            "text/plain": [
              "Product(k, (k, 1, n))"
            ]
          },
          "execution_count": 3,
          "metadata": {},
          "output_type": "execute_result"
        }
      ],
      "source": [
        "from sympy import Product, symbols\n",
        "\n",
        "k,n=symbols('k n',positive=True,integer=True)\n",
        "Product(k,(k,1,n)) # 기호곱으로 표현"
      ]
    },
    {
      "cell_type": "markdown",
      "id": "3e81d815-5bbb-4391-8287-439dc795db4d",
      "metadata": {
        "id": "3e81d815-5bbb-4391-8287-439dc795db4d"
      },
      "source": [
        "#### $\\prod_{k=1}^{10} (k+1)/k$\n"
      ]
    },
    {
      "cell_type": "code",
      "execution_count": null,
      "id": "a6278ccb-f7fc-4e30-a01b-4db20c10848c",
      "metadata": {
        "tags": [],
        "id": "a6278ccb-f7fc-4e30-a01b-4db20c10848c",
        "outputId": "442f8d96-eeb8-4d42-fb9e-9e4152cf976e"
      },
      "outputs": [
        {
          "data": {
            "text/latex": [
              "$\\displaystyle 11$"
            ],
            "text/plain": [
              "11"
            ]
          },
          "execution_count": 3,
          "metadata": {},
          "output_type": "execute_result"
        }
      ],
      "source": [
        "from sympy import product, symbols\n",
        "\n",
        "k,n=symbols('k n',positive=True,integer=True)\n",
        "product((k+1)/k,(k,1,10))"
      ]
    },
    {
      "cell_type": "code",
      "execution_count": null,
      "id": "620bcaa4-5682-404c-b072-3c77e76e5151",
      "metadata": {
        "tags": [],
        "id": "620bcaa4-5682-404c-b072-3c77e76e5151",
        "outputId": "1d7c1b23-bfb4-432c-b06b-bdc30f1098fa"
      },
      "outputs": [
        {
          "data": {
            "text/latex": [
              "$\\displaystyle {0}^{\\left(n\\right)} {2}^{\\left(n\\right)}$"
            ],
            "text/plain": [
              "RisingFactorial(0, n)*RisingFactorial(2, n)"
            ]
          },
          "execution_count": 5,
          "metadata": {},
          "output_type": "execute_result"
        }
      ],
      "source": [
        "_.simplify()"
      ]
    },
    {
      "cell_type": "markdown",
      "id": "415ece60-7d33-4590-a925-d185dcf31780",
      "metadata": {
        "id": "415ece60-7d33-4590-a925-d185dcf31780"
      },
      "source": [
        "## 부분분수의 표현"
      ]
    },
    {
      "cell_type": "code",
      "execution_count": null,
      "id": "817fd125-5775-46f5-a046-44445a06dc89",
      "metadata": {
        "tags": [],
        "id": "817fd125-5775-46f5-a046-44445a06dc89",
        "outputId": "12c98dce-0809-409c-a8b2-6dba87669ec0"
      },
      "outputs": [
        {
          "data": {
            "text/latex": [
              "$\\displaystyle - \\frac{1}{2 \\left(k + 2\\right)} + \\frac{1}{2 k}$"
            ],
            "text/plain": [
              "-1/(2*(k + 2)) + 1/(2*k)"
            ]
          },
          "execution_count": 2,
          "metadata": {},
          "output_type": "execute_result"
        }
      ],
      "source": [
        "import sympy as sp\n",
        "\n",
        "# 변수 정의\n",
        "k = sp.symbols('k')\n",
        "\n",
        "# 원래 분수식\n",
        "expr = 1 / (k * (k + 2))\n",
        "\n",
        "# 부분분수 분해\n",
        "sp.apart(expr)"
      ]
    },
    {
      "cell_type": "markdown",
      "id": "60e7da0b-3698-4070-a29e-a81466c188ca",
      "metadata": {
        "id": "60e7da0b-3698-4070-a29e-a81466c188ca"
      },
      "source": [
        "#### $\\sum_{k=1}^{oo} 1/{k(k+1)}$"
      ]
    },
    {
      "cell_type": "code",
      "execution_count": null,
      "id": "1f6ba770-89d1-4512-8bd3-466dfef9ab8e",
      "metadata": {
        "tags": [],
        "id": "1f6ba770-89d1-4512-8bd3-466dfef9ab8e",
        "outputId": "222da03b-2e66-4125-84c0-b291deaef40c"
      },
      "outputs": [
        {
          "data": {
            "text/latex": [
              "$\\displaystyle \\frac{3}{4}$"
            ],
            "text/plain": [
              "3/4"
            ]
          },
          "execution_count": 3,
          "metadata": {},
          "output_type": "execute_result"
        }
      ],
      "source": [
        "from sympy import summation,oo, symbols\n",
        "\n",
        "k=symbols('k',positive=True,integer=True)\n",
        "summation(1/(k*(k+2)),(k,1,oo))"
      ]
    },
    {
      "cell_type": "code",
      "execution_count": null,
      "id": "b83a5206-4486-4525-b420-ef7f0869254c",
      "metadata": {
        "id": "b83a5206-4486-4525-b420-ef7f0869254c"
      },
      "outputs": [],
      "source": []
    },
    {
      "cell_type": "markdown",
      "id": "b6cf4a9f-caab-4fd6-94d2-7787c624b9b1",
      "metadata": {
        "tags": [],
        "id": "b6cf4a9f-caab-4fd6-94d2-7787c624b9b1"
      },
      "source": [
        "## 십진수를 이진수로"
      ]
    },
    {
      "cell_type": "code",
      "execution_count": null,
      "id": "8c6a0b95-2ccd-4d8f-83d8-ea4dabba3413",
      "metadata": {
        "tags": [],
        "id": "8c6a0b95-2ccd-4d8f-83d8-ea4dabba3413",
        "outputId": "73fe0a2e-fd35-48a2-e82e-f8838bc19368"
      },
      "outputs": [
        {
          "data": {
            "text/plain": [
              "[3, 4, 5, 6, 7]"
            ]
          },
          "execution_count": 10,
          "metadata": {},
          "output_type": "execute_result"
        }
      ],
      "source": [
        "# 십진법으로 구한 계수 출력하기\n",
        "coef=[] # 계수들을 등록할 빈 공간 마련\n",
        "number=34567\n",
        "q=number // 10 # 몫 구하기\n",
        "r=number % 10 # 나머지 구하기\n",
        "coef.append(r) # r0 추가\n",
        "while q !=0:\n",
        "    r=q %10\n",
        "    coef.append(r)\n",
        "    q=q //10\n",
        "coef[::-1] # 리스트 순서를 뒤집어 출력"
      ]
    },
    {
      "cell_type": "code",
      "execution_count": null,
      "id": "a27b067c-94b7-4ab6-8a8c-081b7f739212",
      "metadata": {
        "tags": [],
        "id": "a27b067c-94b7-4ab6-8a8c-081b7f739212",
        "outputId": "51d967f4-a3ac-4a6e-a2a3-bd58789c641c"
      },
      "outputs": [
        {
          "data": {
            "text/plain": [
              "[1, 0, 0, 1, 1, 0]"
            ]
          },
          "execution_count": 11,
          "metadata": {},
          "output_type": "execute_result"
        }
      ],
      "source": [
        "# 38을 이진수로 표현하기\n",
        "coef=[] # 계수들을 등록할 빈 공간 마련\n",
        "number=38\n",
        "q=number // 2 # 몫 구하기\n",
        "r=number % 2 # 나머지 구하기\n",
        "coef.append(r) # r0 추가\n",
        "while q !=0:\n",
        "    r=q % 2\n",
        "    coef.append(r)\n",
        "    q=q // 2\n",
        "coef[::-1] # 리스트 순서를 뒤집어 출력"
      ]
    },
    {
      "cell_type": "code",
      "execution_count": null,
      "id": "3630f9f6-3915-48c6-b867-abf523321537",
      "metadata": {
        "tags": [],
        "id": "3630f9f6-3915-48c6-b867-abf523321537"
      },
      "outputs": [],
      "source": [
        "# 이진수 변환 함수\n",
        "def decimal2binary(number):\n",
        "    coef=[] # 계수들을 등록할 빈 공간 마련\n",
        "    number=38\n",
        "    q=number // 2 # 몫 구하기\n",
        "    r=number % 2 # 나머지 구하기\n",
        "    coef.append(r) # r0 추가\n",
        "    while q !=0:\n",
        "        r=q % 2\n",
        "        coef.append(r)\n",
        "        q=q // 2\n",
        "    C=coef[::-1] # 리스트 순서를 뒤집어 출력\n",
        "    return \"\".join(map(str,C)) # 문자열로 출력"
      ]
    },
    {
      "cell_type": "code",
      "execution_count": null,
      "id": "a9ef049e-d569-4f1f-9a36-c092c89ffce4",
      "metadata": {
        "tags": [],
        "id": "a9ef049e-d569-4f1f-9a36-c092c89ffce4",
        "outputId": "451bb736-8b3f-43c4-85c7-229bebcdcfdd"
      },
      "outputs": [
        {
          "data": {
            "text/plain": [
              "'100110'"
            ]
          },
          "execution_count": 13,
          "metadata": {},
          "output_type": "execute_result"
        }
      ],
      "source": [
        "decimal2binary(38)"
      ]
    },
    {
      "cell_type": "markdown",
      "id": "44a56e66-fb57-4f13-8db7-ad9d750c085b",
      "metadata": {
        "id": "44a56e66-fb57-4f13-8db7-ad9d750c085b"
      },
      "source": [
        "# 차분방정식"
      ]
    },
    {
      "cell_type": "markdown",
      "id": "878482b1-be6b-4358-9b7f-992c868d1bfd",
      "metadata": {
        "id": "878482b1-be6b-4358-9b7f-992c868d1bfd"
      },
      "source": [
        "### 문제.\t다음과 같은 차분방정식(difference equation)의 해를 구하여라.\n",
        "### y[k+1]-2y[k]=0,y[0]=1\n"
      ]
    },
    {
      "cell_type": "code",
      "execution_count": null,
      "id": "da584d37-bc2e-4e80-b600-bfbb44b5effa",
      "metadata": {
        "id": "da584d37-bc2e-4e80-b600-bfbb44b5effa",
        "outputId": "c20e1b24-48d7-486c-8c5f-9c6d6e2502ea"
      },
      "outputs": [
        {
          "data": {
            "text/latex": [
              "$\\displaystyle 2^{k}$"
            ],
            "text/plain": [
              "2**k"
            ]
          },
          "execution_count": 1,
          "metadata": {},
          "output_type": "execute_result"
        }
      ],
      "source": [
        "from sympy import symbols, Function, Eq, rsolve\n",
        "\n",
        "# 변수 및 함수 정의\n",
        "k = symbols('k', integer=True)\n",
        "y = Function('y')\n",
        "\n",
        "# 차분 방정식 정의\n",
        "diff_eq = Eq(y(k+1) - 2*y(k), 0)\n",
        "\n",
        "# 초기 조건 추가(딕셔너리 자료형)\n",
        "init_conditions = {y(0): 1}\n",
        "\n",
        "# 해 구하기\n",
        "solution = rsolve(diff_eq, y(k),init_conditions)\n",
        "solution"
      ]
    },
    {
      "cell_type": "markdown",
      "id": "d7989def-90db-4d90-b372-211be03828ce",
      "metadata": {
        "id": "d7989def-90db-4d90-b372-211be03828ce"
      },
      "source": [
        "### 문제. \t다음과 같은 차분방정식(difference equation)의 해를 구하여라.\n",
        "### y[k+2]-3y[k+1]+2y[k]=0,y[0]=2,y[1]=5\n"
      ]
    },
    {
      "cell_type": "code",
      "execution_count": null,
      "id": "f504af66-1fb4-431f-8ecf-68c9dbb4783a",
      "metadata": {
        "id": "f504af66-1fb4-431f-8ecf-68c9dbb4783a",
        "outputId": "fd486f6e-a0dd-4806-82c7-fe2db29576dc"
      },
      "outputs": [
        {
          "data": {
            "text/latex": [
              "$\\displaystyle 3 \\cdot 2^{k} - 1$"
            ],
            "text/plain": [
              "3*2**k - 1"
            ]
          },
          "execution_count": 2,
          "metadata": {},
          "output_type": "execute_result"
        }
      ],
      "source": [
        "# 차분 방정식 정의\n",
        "diff_eq = Eq(y(k+2)-3*y(k+1)+2*y(k), 0)\n",
        "\n",
        "# 초기 조건 추가(딕셔너리 자료형)\n",
        "init_conditions = {y(0): 2,y(1):5}\n",
        "\n",
        "# 해 구하기\n",
        "solution = rsolve(diff_eq, y(k),init_conditions)\n",
        "solution"
      ]
    },
    {
      "cell_type": "markdown",
      "id": "b179b995-2061-4f34-8ff1-62346b93df5e",
      "metadata": {
        "id": "b179b995-2061-4f34-8ff1-62346b93df5e"
      },
      "source": [
        "### 문제. \t다음과 같은 차분방정식(difference equation)의 해를 구하여라.\n",
        "### y[k+2]-2y[k+1]+y[k]=0,y[0]=2,y[1]=5\n"
      ]
    },
    {
      "cell_type": "code",
      "execution_count": null,
      "id": "012f1e3f-bb64-4606-a04c-5739adda0522",
      "metadata": {
        "id": "012f1e3f-bb64-4606-a04c-5739adda0522",
        "outputId": "a9dd3098-1751-4543-bc65-a4d2acc89808"
      },
      "outputs": [
        {
          "data": {
            "text/latex": [
              "$\\displaystyle 3 k + 2$"
            ],
            "text/plain": [
              "3*k + 2"
            ]
          },
          "execution_count": 3,
          "metadata": {},
          "output_type": "execute_result"
        }
      ],
      "source": [
        "# 차분 방정식 정의\n",
        "diff_eq = Eq(y(k+2)-2*y(k+1)+y(k), 0)\n",
        "\n",
        "# 초기 조건 추가(딕셔너리 자료형)\n",
        "init_conditions = {y(0): 2,y(1):5}\n",
        "\n",
        "# 해 구하기\n",
        "solution = rsolve(diff_eq, y(k),init_conditions)\n",
        "solution"
      ]
    },
    {
      "cell_type": "markdown",
      "id": "b48349a2-1d87-455e-9298-25557eaa202e",
      "metadata": {
        "id": "b48349a2-1d87-455e-9298-25557eaa202e"
      },
      "source": [
        "### 문제. \t다음과 같은 차분방정식(difference equation)의 해를 구하여라.\n",
        "### y[k+2]=y[k+1]+y[k],y[1]=1,y[2]=1\n"
      ]
    },
    {
      "cell_type": "code",
      "execution_count": null,
      "id": "195190a4-bbde-423f-90b5-f4483088728b",
      "metadata": {
        "id": "195190a4-bbde-423f-90b5-f4483088728b",
        "outputId": "e1ff3c50-d1ff-4108-e8b5-f237fe1dad27"
      },
      "outputs": [
        {
          "data": {
            "text/latex": [
              "$\\displaystyle - \\frac{\\sqrt{5} \\left(\\frac{1}{2} - \\frac{\\sqrt{5}}{2}\\right)^{k}}{5} + \\frac{\\sqrt{5} \\left(\\frac{1}{2} + \\frac{\\sqrt{5}}{2}\\right)^{k}}{5}$"
            ],
            "text/plain": [
              "-sqrt(5)*(1/2 - sqrt(5)/2)**k/5 + sqrt(5)*(1/2 + sqrt(5)/2)**k/5"
            ]
          },
          "execution_count": 4,
          "metadata": {},
          "output_type": "execute_result"
        }
      ],
      "source": [
        "# 차분 방정식 정의\n",
        "diff_eq = Eq(y(k+2)-y(k+1)-y(k), 0)\n",
        "\n",
        "# 초기 조건 추가(딕셔너리 자료형)\n",
        "init_conditions = {y(1): 1,y(2):1}\n",
        "\n",
        "# 해 구하기\n",
        "solution = rsolve(diff_eq, y(k),init_conditions)\n",
        "solution"
      ]
    },
    {
      "cell_type": "code",
      "execution_count": null,
      "id": "bcd63d76-6a60-43be-a54d-3725c832e341",
      "metadata": {
        "id": "bcd63d76-6a60-43be-a54d-3725c832e341"
      },
      "outputs": [],
      "source": [
        "from sympy import symbols\n",
        "n=symbols('n',positive=True, integer=True)\n",
        "# 이웃한 두 항의 비율\n",
        "fn=solution.subs(k,n)/solution.subs(k,n-1)"
      ]
    },
    {
      "cell_type": "code",
      "execution_count": null,
      "id": "964829e7-3cdf-4069-b159-4108ba8ac0f7",
      "metadata": {
        "id": "964829e7-3cdf-4069-b159-4108ba8ac0f7",
        "outputId": "690cbe72-e107-4320-a68d-4c7ae3bbe4d0"
      },
      "outputs": [
        {
          "data": {
            "text/latex": [
              "$\\displaystyle 1.61803398874989$"
            ],
            "text/plain": [
              "1.61803398874989"
            ]
          },
          "execution_count": 21,
          "metadata": {},
          "output_type": "execute_result"
        }
      ],
      "source": [
        "from sympy import limit\n",
        "limit(fn,n,10000).evalf()"
      ]
    },
    {
      "cell_type": "code",
      "execution_count": null,
      "id": "8e30bfb6-03e7-4a3a-94d6-6acdab56b03d",
      "metadata": {
        "id": "8e30bfb6-03e7-4a3a-94d6-6acdab56b03d",
        "outputId": "37a5a4b4-8576-46cf-c9fa-eb704d174aca"
      },
      "outputs": [
        {
          "data": {
            "text/plain": [
              "1.618033988749895"
            ]
          },
          "execution_count": 25,
          "metadata": {},
          "output_type": "execute_result"
        }
      ],
      "source": [
        "import numpy as np\n",
        "(1+np.sqrt(5))/2"
      ]
    },
    {
      "cell_type": "markdown",
      "id": "9b50f5fa-8da4-48a0-aea4-6a809ff883d0",
      "metadata": {
        "id": "9b50f5fa-8da4-48a0-aea4-6a809ff883d0"
      },
      "source": [
        "### 문제. \t다음과 같은 차분방정식(difference equation)의 해를 구하여라.\n",
        "### y[k+2]+y[k]=0,y[0]=1,y[1]=0\n"
      ]
    },
    {
      "cell_type": "code",
      "execution_count": null,
      "id": "8ce3bd2d-1861-43d1-8384-47e06b71a15b",
      "metadata": {
        "id": "8ce3bd2d-1861-43d1-8384-47e06b71a15b",
        "outputId": "d39cbd64-d386-43ff-87b2-ce169806b8d3"
      },
      "outputs": [
        {
          "data": {
            "text/latex": [
              "$\\displaystyle \\frac{i^{k}}{2} + \\frac{\\left(- i\\right)^{k}}{2}$"
            ],
            "text/plain": [
              "I**k/2 + (-I)**k/2"
            ]
          },
          "execution_count": 33,
          "metadata": {},
          "output_type": "execute_result"
        }
      ],
      "source": [
        "# 차분 방정식 정의\n",
        "diff_eq = Eq(y(k+2)+y(k), 0)\n",
        "\n",
        "# 초기 조건 추가(딕셔너리 자료형)\n",
        "init_conditions = {y(0): 1,y(1):0}\n",
        "\n",
        "# 해 구하기\n",
        "solution = rsolve(diff_eq, y(k),init_conditions)\n",
        "solution"
      ]
    },
    {
      "cell_type": "code",
      "execution_count": null,
      "id": "6d839f5e-a2fb-484d-97ca-e5a8a1f19c8b",
      "metadata": {
        "id": "6d839f5e-a2fb-484d-97ca-e5a8a1f19c8b",
        "outputId": "3e7e67bb-0c9b-4adb-d0d2-2bb8f7323dfa"
      },
      "outputs": [
        {
          "data": {
            "image/png": "[encoded data removed]",
            "text/plain": [
              "<Figure size 800x500 with 1 Axes>"
            ]
          },
          "metadata": {},
          "output_type": "display_data"
        }
      ],
      "source": [
        "import matplotlib.pyplot as plt\n",
        "\n",
        "# k 값 범위 설정\n",
        "k_values = np.arange(1, 30)\n",
        "y_values = [solution.subs(k, val).evalf() for val in k_values]\n",
        "\n",
        "# 실수 부분만 추출\n",
        "y_real_values = [val.as_real_imag()[0] for val in y_values]\n",
        "\n",
        "# 그래프 그리기\n",
        "plt.figure(figsize=(8, 5))\n",
        "plt.plot(k_values, y_real_values, marker='o',\n",
        "         linestyle='-', label=r'$y_k$ (real parts)')\n",
        "plt.xlabel(r'$k$ (steps)')\n",
        "plt.ylabel(r'$y_k$ (solution value)')\n",
        "plt.title('Solutions of Diff Eq (Real Part)')\n",
        "plt.axhline(y=0, color='gray', linestyle='--', linewidth=1)\n",
        "plt.legend()\n",
        "plt.grid()\n",
        "plt.show()"
      ]
    },
    {
      "cell_type": "markdown",
      "id": "16da170c-fc61-4d99-93be-4ee9b0f078c2",
      "metadata": {
        "id": "16da170c-fc61-4d99-93be-4ee9b0f078c2"
      },
      "source": [
        "### 문제. \t다음과 같은 차분방정식(difference equation)의 해를 구하여라.\n",
        "### $$y[k+1]=2y[k]+1,y[1]=1$$"
      ]
    },
    {
      "cell_type": "code",
      "execution_count": null,
      "id": "4f82d3dd-3173-4d23-9145-e3a17797eac4",
      "metadata": {
        "id": "4f82d3dd-3173-4d23-9145-e3a17797eac4",
        "outputId": "55935e2b-159d-4ee7-b13a-0534f03ba6d8"
      },
      "outputs": [
        {
          "data": {
            "text/latex": [
              "$\\displaystyle 2^{k} - 1$"
            ],
            "text/plain": [
              "2**k - 1"
            ]
          },
          "execution_count": 102,
          "metadata": {},
          "output_type": "execute_result"
        }
      ],
      "source": [
        "# 변수 및 함수 정의\n",
        "k = symbols('k', integer=True)\n",
        "y= Function('y')\n",
        "\n",
        "# 차분 방정식 정의\n",
        "diff_eq = Eq(y(k+1)-2*y(k)-1, 0)\n",
        "\n",
        "# 초기 조건 추가(딕셔너리 자료형)\n",
        "init_conditions = {y(1): 1}\n",
        "\n",
        "# 해 구하기\n",
        "solution = rsolve(diff_eq, y(k),init_conditions)\n",
        "solution"
      ]
    },
    {
      "cell_type": "markdown",
      "id": "013cf79c-bdd9-42be-88b5-3d22d35e8d37",
      "metadata": {
        "id": "013cf79c-bdd9-42be-88b5-3d22d35e8d37"
      },
      "source": [
        "### 문제. \t다음과 같은 차분방정식(difference equation)의 해를 구하여라.\n",
        "### $$y[k+2]-3y[k+1]+2y[k]=4^k ,y[1]=1, y[2]=2 $$"
      ]
    },
    {
      "cell_type": "code",
      "execution_count": null,
      "id": "4d0e1e20-1357-41f4-b11e-16c4c080da6d",
      "metadata": {
        "id": "4d0e1e20-1357-41f4-b11e-16c4c080da6d",
        "outputId": "6fdfbf86-0680-42e5-e639-13083644700a"
      },
      "outputs": [
        {
          "data": {
            "text/latex": [
              "$\\displaystyle \\frac{2^{2 k}}{6} - \\frac{2^{k}}{2} + \\frac{4}{3}$"
            ],
            "text/plain": [
              "2**(2*k)/6 - 2**k/2 + 4/3"
            ]
          },
          "execution_count": 104,
          "metadata": {},
          "output_type": "execute_result"
        }
      ],
      "source": [
        "# 차분 방정식 정의\n",
        "diff_eq = Eq(y(k+2)-3*y(k+1)+2*y(k)-4**k, 0)\n",
        "\n",
        "# 초기 조건 추가(딕셔너리 자료형)\n",
        "init_conditions = {y(1): 1,y(2):2}\n",
        "\n",
        "# 해 구하기\n",
        "solution = rsolve(diff_eq, y(k),init_conditions)\n",
        "solution"
      ]
    },
    {
      "cell_type": "markdown",
      "id": "95248703-b228-4194-9dde-1b1758d0bb45",
      "metadata": {
        "id": "95248703-b228-4194-9dde-1b1758d0bb45"
      },
      "source": [
        "### 문제. \t다음과 같은 차분방정식(difference equation)의 해를 구하여라.\n",
        "### $$y[k+1]=(y[k])/(2+y[k]),y[1]=1$$\n"
      ]
    },
    {
      "cell_type": "code",
      "execution_count": null,
      "id": "38f9ce80-2e18-45eb-b201-3f9be136c47b",
      "metadata": {
        "id": "38f9ce80-2e18-45eb-b201-3f9be136c47b",
        "outputId": "75d30b8d-0d9a-43ce-8a9b-b174095ec703"
      },
      "outputs": [
        {
          "data": {
            "text/latex": [
              "$\\displaystyle 2^{k} - 1$"
            ],
            "text/plain": [
              "2**k - 1"
            ]
          },
          "execution_count": 105,
          "metadata": {},
          "output_type": "execute_result"
        }
      ],
      "source": [
        "# 변수 및 함수 정의\n",
        "k = symbols('k', integer=True)\n",
        "A = Function('A')\n",
        "\n",
        "# 차분 방정식 정의\n",
        "diff_eq = Eq(A(k+1)-2*A(k)-1, 0)\n",
        "\n",
        "# 초기 조건 추가(딕셔너리 자료형)\n",
        "init_conditions = {A(1): 1}\n",
        "\n",
        "# 해 구하기\n",
        "solution = rsolve(diff_eq, A(k),init_conditions)\n",
        "solution"
      ]
    },
    {
      "cell_type": "markdown",
      "id": "bba68553-f3b3-4cce-86ce-afdb90e5f25a",
      "metadata": {
        "id": "bba68553-f3b3-4cce-86ce-afdb90e5f25a"
      },
      "source": [
        "### 문제. \t다음과 같은 차분방정식(difference equation)의 해를 구하여라.\n",
        "### $$(k+2)^2 y[k+1] -(k+1)^2 y[k]=2k+3,y[0]=0$$\n"
      ]
    },
    {
      "cell_type": "code",
      "execution_count": null,
      "id": "61e82694-3e50-4225-875e-35ec91ba32d8",
      "metadata": {
        "id": "61e82694-3e50-4225-875e-35ec91ba32d8",
        "outputId": "c627fe94-6173-4408-ed4b-c963e5a0dece"
      },
      "outputs": [
        {
          "data": {
            "text/latex": [
              "$\\displaystyle k \\left(k + 2\\right)$"
            ],
            "text/plain": [
              "k*(k + 2)"
            ]
          },
          "execution_count": 109,
          "metadata": {},
          "output_type": "execute_result"
        }
      ],
      "source": [
        "# 변수 및 함수 정의\n",
        "k = symbols('k', integer=True)\n",
        "A = Function('A')\n",
        "\n",
        "# 차분 방정식 정의\n",
        "diff_eq = Eq(A(k+1)-A(k)-2*k-3, 0)\n",
        "\n",
        "# 초기 조건 추가(딕셔너리 자료형)\n",
        "init_conditions = {A(0): 0}\n",
        "\n",
        "# 해 구하기\n",
        "solution = rsolve(diff_eq, A(k),init_conditions)\n",
        "solution"
      ]
    },
    {
      "cell_type": "markdown",
      "id": "1438d4fd-b94d-47dc-879f-6d4b467cc03f",
      "metadata": {
        "id": "1438d4fd-b94d-47dc-879f-6d4b467cc03f"
      },
      "source": [
        "# Finite Difference Method"
      ]
    },
    {
      "cell_type": "code",
      "execution_count": null,
      "id": "b73125b1-2c44-423c-a85f-04e86837a9a5",
      "metadata": {
        "id": "b73125b1-2c44-423c-a85f-04e86837a9a5",
        "outputId": "883b8589-5702-4bf7-f7d4-5d0e85288eaa"
      },
      "outputs": [
        {
          "data": {
            "text/latex": [
              "$\\displaystyle 10 {1.03}^{k}$"
            ],
            "text/plain": [
              "10*1.03**k"
            ]
          },
          "execution_count": 50,
          "metadata": {},
          "output_type": "execute_result"
        }
      ],
      "source": [
        "h=0.01\n",
        "# 차분 방정식 정의\n",
        "diff_eq = Eq((y(k+1)-y(k))/h-3*y(k), 0)\n",
        "\n",
        "# 초기 조건 추가(딕셔너리 자료형)\n",
        "init_conditions = {y(0): 10}\n",
        "\n",
        "# 해 구하기\n",
        "solution = rsolve(diff_eq, y(k),init_conditions)\n",
        "solution"
      ]
    },
    {
      "cell_type": "code",
      "execution_count": null,
      "id": "4802b399-d154-49e4-901d-45e2925389ff",
      "metadata": {
        "id": "4802b399-d154-49e4-901d-45e2925389ff",
        "outputId": "f2530be0-0321-4550-8f22-cdf80ff90325"
      },
      "outputs": [
        {
          "data": {
            "text/plain": [
              "Text(0.5, 1.0, 'h=0.01')"
            ]
          },
          "execution_count": 51,
          "metadata": {},
          "output_type": "execute_result"
        },
        {
          "data": {
            "image/png": "[encoded data removed]",
            "text/plain": [
              "<Figure size 800x500 with 1 Axes>"
            ]
          },
          "metadata": {},
          "output_type": "display_data"
        }
      ],
      "source": [
        "# k 값 범위 설정\n",
        "k_values = np.arange(101) # 0부터 100까지 숫자 설정\n",
        "y_disc = [solution.subs(k, val).evalf() for val in k_values]\n",
        "\n",
        "# 그래프 그리기\n",
        "plt.figure(figsize=(8, 5))\n",
        "plt.plot(k_values, y_disc,'*r')\n",
        "plt.title('h=0.01')"
      ]
    },
    {
      "cell_type": "markdown",
      "id": "51bfd5f4-29d3-467e-b0a4-26d3b3663963",
      "metadata": {
        "id": "51bfd5f4-29d3-467e-b0a4-26d3b3663963"
      },
      "source": [
        "### 문제. \t아래 미분방정식(difference equation)을 해의 그래프를 FDM을 이용하여 구하여 보아라.\n",
        "### $$ y'' (t)+{4/t} y' (t)+{2/t^2}  y(t)=0,y(0)=10,y' (0)=-0.02,0≤t≤1 $$\n"
      ]
    },
    {
      "cell_type": "code",
      "execution_count": null,
      "id": "66db8237-7922-465f-a3b8-9c4224779f6c",
      "metadata": {
        "id": "66db8237-7922-465f-a3b8-9c4224779f6c",
        "outputId": "dc155dd7-da11-4048-f615-3192cbae49a3"
      },
      "outputs": [
        {
          "data": {
            "image/png": "[encoded data removed]",
            "text/plain": [
              "<Figure size 800x500 with 1 Axes>"
            ]
          },
          "metadata": {},
          "output_type": "display_data"
        }
      ],
      "source": [
        "import numpy as np\n",
        "import matplotlib.pyplot as plt\n",
        "\n",
        "# 초기 조건 및 범위 설정\n",
        "t_min, t_max, N = 0, 1, 100  # 시간 범위와 스텝 개수\n",
        "h = (t_max - t_min) / N  # 스텝 크기\n",
        "t_values = np.linspace(t_min, t_max, N+1)  # 시간 노드 생성\n",
        "\n",
        "# 초기 조건\n",
        "y = np.zeros(N+1)\n",
        "y[0]=10\n",
        "y[1]=y[0]-0.02*h\n",
        "\n",
        "# FDM을 이용한 수치적 풀이\n",
        "for k in range(1, N):\n",
        "    y[k+1]=(1/(1+2/k))*((2-2/k**2)*y[k]+(-1+2/k)*y[k-1])\n",
        "\n",
        "# 그래프 출력\n",
        "plt.figure(figsize=(8, 5))\n",
        "plt.plot(t_values, y,label=r'$y(t)$')\n",
        "plt.xlabel(r'$t$')\n",
        "plt.ylabel(r'$y(t)$')\n",
        "plt.title('Finite Difference Method (FDM) Solution')\n",
        "plt.grid()\n",
        "plt.show()"
      ]
    },
    {
      "cell_type": "code",
      "execution_count": null,
      "id": "f87dd395-0433-4200-ac40-ea443667decd",
      "metadata": {
        "id": "f87dd395-0433-4200-ac40-ea443667decd",
        "outputId": "e999f9d2-efe1-4ca5-a1e0-d48369f3cd39"
      },
      "outputs": [
        {
          "data": {
            "image/png": "[encoded data removed]",
            "text/plain": [
              "<Figure size 800x500 with 1 Axes>"
            ]
          },
          "metadata": {},
          "output_type": "display_data"
        }
      ],
      "source": [
        "# 필요한 라이브러리 다시 불러오기\n",
        "import numpy as np\n",
        "import matplotlib.pyplot as plt\n",
        "\n",
        "# 초기 조건 및 범위 설정\n",
        "t_min, t_max, N = 0, 1, 100  # 시간 범위와 스텝 개수\n",
        "h = (t_max - t_min) / N  # 스텝 크기\n",
        "t_values = np.linspace(t_min, t_max, N+1)  # 시간 노드 생성\n",
        "\n",
        "# 초기 조건\n",
        "y = np.zeros(N+1)\n",
        "yp = np.zeros(N+1)\n",
        "y[0] = 100  # y(0) = 10\n",
        "yp[0] = -0.02  # y'(0) = -0.02\n",
        "\n",
        "# FDM을 이용한 수치적 풀이 (두 번째 차분식 사용)\n",
        "for i in range(1, N):\n",
        "    t = t_values[i]\n",
        "\n",
        "    if t == 0:\n",
        "        continue  # t=0일 때 나눗셈 방지\n",
        "\n",
        "    # 이차 미분 방정식을 전진 차분법(Finite Difference Method)으로 변환\n",
        "    ypp = - (4/t) * yp[i-1] - (2/t**2) * y[i-1]  # y''(t)의 근사\n",
        "    y[i] = y[i-1] + h * yp[i-1]  # y_n+1 = y_n + h*y'_n\n",
        "    yp[i] = yp[i-1] + h * ypp  # y'_n+1 = y'_n + h*y''_n\n",
        "\n",
        "# 그래프 출력\n",
        "plt.figure(figsize=(8, 5))\n",
        "plt.plot(t_values, y, label=r'$y(t)$')\n",
        "plt.xlabel(r'$t$')\n",
        "plt.ylabel(r'$y(t)$')\n",
        "plt.title('Finite Difference Method (FDM) Solution')\n",
        "plt.axhline(y=0, color='gray', linestyle='--', linewidth=1)\n",
        "plt.legend()\n",
        "plt.grid()\n",
        "plt.show()\n"
      ]
    },
    {
      "cell_type": "code",
      "execution_count": null,
      "id": "14e86c4c-4428-4247-9861-ca7da937d0c4",
      "metadata": {
        "id": "14e86c4c-4428-4247-9861-ca7da937d0c4",
        "outputId": "63ae5b4f-2862-4343-e8e2-f2a3d2f17461"
      },
      "outputs": [
        {
          "data": {
            "text/plain": [
              "array([100.        ,  99.9998    , -99.9996    ,  49.9999    ,\n",
              "        22.2222    ,  15.9722125 ,  12.944439  ,  11.04783603,\n",
              "         9.70666173,   8.69082971,   7.88680793,   7.23057826,\n",
              "         6.6826171 ,   6.21688497,   5.8153708 ,   5.46513737,\n",
              "         5.15660733,   4.88251342,   4.63722632,   4.4163085 ,\n",
              "         4.21620869,   4.0340473 ,   3.86746219,   3.71449566,\n",
              "         3.57351023,   3.44312481,   3.32216582,   3.20962915,\n",
              "         3.10465027,   3.00648055,   2.91446824,   2.82804317,\n",
              "         2.74670423,   2.67000914,   2.59756597,   2.52902613,\n",
              "         2.46407849,   2.40244444,   2.34387371,   2.28814083,\n",
              "         2.23504213,   2.18439312,   2.1360263 ,   2.0897892 ,\n",
              "         2.04554277,   2.00315986,   1.96252404,   1.92352841,\n",
              "         1.88607473,   1.85007245,   1.81543806,   1.78209436,\n",
              "         1.7499699 ,   1.71899844,   1.68911847,   1.66027282,\n",
              "         1.63240826,   1.60547518,   1.57942728,   1.55422127,\n",
              "         1.5298167 ,   1.50617564,   1.48326255,   1.46104407,\n",
              "         1.43948887,   1.41856747,   1.39825212,   1.37851669,\n",
              "         1.35933653,   1.34068837,   1.32255023,   1.30490133,\n",
              "         1.28772202,   1.27099369,   1.25469869,   1.23882029,\n",
              "         1.22334262,   1.20825062,   1.19352995,   1.179167  ,\n",
              "         1.1651488 ,   1.15146303,   1.13809792,   1.12504227,\n",
              "         1.11228541,   1.09981712,   1.08762768,   1.07570778,\n",
              "         1.06404853,   1.05264143,   1.04147834,   1.03055148,\n",
              "         1.01985338,   1.00937691,   0.9991152 ,   0.9890617 ,\n",
              "         0.97921009,   0.96955432,   0.96008859,   0.9508073 ,\n",
              "         0.        ])"
            ]
          },
          "execution_count": 88,
          "metadata": {},
          "output_type": "execute_result"
        }
      ],
      "source": [
        "y"
      ]
    },
    {
      "cell_type": "code",
      "execution_count": null,
      "id": "690c3bdf-c1f5-4128-a6d4-f9210ae6f3ce",
      "metadata": {
        "id": "690c3bdf-c1f5-4128-a6d4-f9210ae6f3ce"
      },
      "outputs": [],
      "source": []
    }
  ],
  "metadata": {
    "kernelspec": {
      "display_name": "Python 3 (ipykernel)",
      "language": "python",
      "name": "python3"
    },
    "language_info": {
      "codemirror_mode": {
        "name": "ipython",
        "version": 3
      },
      "file_extension": ".py",
      "mimetype": "text/x-python",
      "name": "python",
      "nbconvert_exporter": "python",
      "pygments_lexer": "ipython3",
      "version": "3.10.10"
    },
    "colab": {
      "provenance": []
    }
  },
  "nbformat": 4,
  "nbformat_minor": 5
}