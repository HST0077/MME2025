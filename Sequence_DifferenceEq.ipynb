{
  "cells": [
    {
      "cell_type": "markdown",
      "id": "d8c094b7-d05c-4e39-9eed-15c73633c9ae",
      "metadata": {
        "id": "d8c094b7-d05c-4e39-9eed-15c73633c9ae"
      },
      "source": [
        "## 수열의 합"
      ]
    },
    {
      "cell_type": "code",
      "execution_count": null,
      "id": "7e3008df-386b-4cfb-8040-1ce3a2e935ba",
      "metadata": {
        "tags": [],
        "id": "7e3008df-386b-4cfb-8040-1ce3a2e935ba",
        "outputId": "c71c9fa4-f056-4eaa-b083-73a91572df0b",
        "colab": {
          "base_uri": "https://localhost:8080/",
          "height": 67
        }
      },
      "outputs": [
        {
          "output_type": "execute_result",
          "data": {
            "text/plain": [
              "Sum(k, (k, 1, n))"
            ],
            "text/latex": "$\\displaystyle \\sum_{k=1}^{n} k$"
          },
          "metadata": {},
          "execution_count": 11
        }
      ],
      "source": [
        "from sympy import Sum, symbols,summations\n",
        "\n",
        "k,n=symbols('k n',positive=True,integer=True)\n",
        "Sum(k,(k,1,n)) # 기호합으로 표현"
      ]
    },
    {
      "cell_type": "code",
      "source": [
        "summation(k,(k,1,n)) # 수열의 합으로 표현"
      ],
      "metadata": {
        "colab": {
          "base_uri": "https://localhost:8080/",
          "height": 54
        },
        "id": "PPFaKZMooVBp",
        "outputId": "bf64873a-7fd5-4e71-d6d0-0b3ede9381b0"
      },
      "id": "PPFaKZMooVBp",
      "execution_count": null,
      "outputs": [
        {
          "output_type": "execute_result",
          "data": {
            "text/plain": [
              "n**2/2 + n/2"
            ],
            "text/latex": "$\\displaystyle \\frac{n^{2}}{2} + \\frac{n}{2}$"
          },
          "metadata": {},
          "execution_count": 27
        }
      ]
    },
    {
      "cell_type": "code",
      "source": [
        "_.factor()"
      ],
      "metadata": {
        "colab": {
          "base_uri": "https://localhost:8080/",
          "height": 53
        },
        "id": "MnIbBEdAp-jd",
        "outputId": "6dafaefb-0e91-48d9-b171-4026a9d39564"
      },
      "id": "MnIbBEdAp-jd",
      "execution_count": null,
      "outputs": [
        {
          "output_type": "execute_result",
          "data": {
            "text/plain": [
              "n*(n + 1)/2"
            ],
            "text/latex": "$\\displaystyle \\frac{n \\left(n + 1\\right)}{2}$"
          },
          "metadata": {},
          "execution_count": 28
        }
      ]
    },
    {
      "cell_type": "code",
      "source": [
        "Sum(k**2,(k,1,n)) # 기호합으로 표현"
      ],
      "metadata": {
        "colab": {
          "base_uri": "https://localhost:8080/",
          "height": 67
        },
        "id": "XmhslsOVounO",
        "outputId": "caf4ff92-6659-45cb-daa8-0dd6b12f4d58"
      },
      "id": "XmhslsOVounO",
      "execution_count": null,
      "outputs": [
        {
          "output_type": "execute_result",
          "data": {
            "text/plain": [
              "Sum(k**2, (k, 1, n))"
            ],
            "text/latex": "$\\displaystyle \\sum_{k=1}^{n} k^{2}$"
          },
          "metadata": {},
          "execution_count": 18
        }
      ]
    },
    {
      "cell_type": "code",
      "source": [
        "summation(k**2,(k,1,n)) # 수열의 합으로 표현"
      ],
      "metadata": {
        "colab": {
          "base_uri": "https://localhost:8080/",
          "height": 54
        },
        "id": "vvUY0vkroyRz",
        "outputId": "70422eba-a367-42fe-b4d1-a13a54c41fa4"
      },
      "id": "vvUY0vkroyRz",
      "execution_count": null,
      "outputs": [
        {
          "output_type": "execute_result",
          "data": {
            "text/plain": [
              "n**3/3 + n**2/2 + n/6"
            ],
            "text/latex": "$\\displaystyle \\frac{n^{3}}{3} + \\frac{n^{2}}{2} + \\frac{n}{6}$"
          },
          "metadata": {},
          "execution_count": 19
        }
      ]
    },
    {
      "cell_type": "code",
      "source": [
        "_.factor()"
      ],
      "metadata": {
        "colab": {
          "base_uri": "https://localhost:8080/",
          "height": 53
        },
        "id": "232xt9wNo3AH",
        "outputId": "f9952bdf-1867-49fb-bdc7-e76557ab3ba5"
      },
      "id": "232xt9wNo3AH",
      "execution_count": null,
      "outputs": [
        {
          "output_type": "execute_result",
          "data": {
            "text/plain": [
              "n*(n + 1)*(2*n + 1)/6"
            ],
            "text/latex": "$\\displaystyle \\frac{n \\left(n + 1\\right) \\left(2 n + 1\\right)}{6}$"
          },
          "metadata": {},
          "execution_count": 20
        }
      ]
    },
    {
      "cell_type": "code",
      "source": [
        "Sum(k**3,(k,1,n)) # 기호합으로 표현"
      ],
      "metadata": {
        "colab": {
          "base_uri": "https://localhost:8080/",
          "height": 67
        },
        "id": "QVYL-5Eso6AY",
        "outputId": "57d53f43-158c-41a8-cd00-692b21a323b3"
      },
      "id": "QVYL-5Eso6AY",
      "execution_count": null,
      "outputs": [
        {
          "output_type": "execute_result",
          "data": {
            "text/plain": [
              "Sum(k**3, (k, 1, n))"
            ],
            "text/latex": "$\\displaystyle \\sum_{k=1}^{n} k^{3}$"
          },
          "metadata": {},
          "execution_count": 21
        }
      ]
    },
    {
      "cell_type": "code",
      "source": [
        "summation(k**3,(k,1,n)) # 기호합으로 표현"
      ],
      "metadata": {
        "colab": {
          "base_uri": "https://localhost:8080/",
          "height": 54
        },
        "id": "G7baGbHPo9te",
        "outputId": "22904f19-e031-476f-daa7-e4b61f436f19"
      },
      "id": "G7baGbHPo9te",
      "execution_count": null,
      "outputs": [
        {
          "output_type": "execute_result",
          "data": {
            "text/plain": [
              "n**4/4 + n**3/2 + n**2/4"
            ],
            "text/latex": "$\\displaystyle \\frac{n^{4}}{4} + \\frac{n^{3}}{2} + \\frac{n^{2}}{4}$"
          },
          "metadata": {},
          "execution_count": 24
        }
      ]
    },
    {
      "cell_type": "code",
      "source": [
        "_.factor()"
      ],
      "metadata": {
        "colab": {
          "base_uri": "https://localhost:8080/",
          "height": 56
        },
        "id": "T1oF4fxlpAkc",
        "outputId": "33ded430-6513-4fcc-b227-bfe5a9ba1d49"
      },
      "id": "T1oF4fxlpAkc",
      "execution_count": null,
      "outputs": [
        {
          "output_type": "execute_result",
          "data": {
            "text/plain": [
              "n**2*(n + 1)**2/4"
            ],
            "text/latex": "$\\displaystyle \\frac{n^{2} \\left(n + 1\\right)^{2}}{4}$"
          },
          "metadata": {},
          "execution_count": 25
        }
      ]
    },
    {
      "cell_type": "markdown",
      "source": [
        "![image.png](data:image/png;base64,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)"
      ],
      "metadata": {
        "id": "keBxXC5hnOsS"
      },
      "id": "keBxXC5hnOsS"
    },
    {
      "cell_type": "code",
      "source": [
        "Sum((2*k-1),(k,1,n))"
      ],
      "metadata": {
        "colab": {
          "base_uri": "https://localhost:8080/",
          "height": 67
        },
        "id": "m0parpSkne5G",
        "outputId": "84425a9e-4a35-4ed3-97b1-ae0d78189892"
      },
      "id": "m0parpSkne5G",
      "execution_count": null,
      "outputs": [
        {
          "output_type": "execute_result",
          "data": {
            "text/plain": [
              "Sum(2*k - 1, (k, 1, n))"
            ],
            "text/latex": "$\\displaystyle \\sum_{k=1}^{n} \\left(2 k - 1\\right)$"
          },
          "metadata": {},
          "execution_count": 13
        }
      ]
    },
    {
      "cell_type": "code",
      "source": [
        "summation((2*k-1),(k,1,n))"
      ],
      "metadata": {
        "colab": {
          "base_uri": "https://localhost:8080/",
          "height": 39
        },
        "id": "xI5gcn2gnM9T",
        "outputId": "bef6b866-fb7b-43fb-b82b-677abc7a3b35"
      },
      "id": "xI5gcn2gnM9T",
      "execution_count": null,
      "outputs": [
        {
          "output_type": "execute_result",
          "data": {
            "text/plain": [
              "n**2"
            ],
            "text/latex": "$\\displaystyle n^{2}$"
          },
          "metadata": {},
          "execution_count": 30
        }
      ]
    },
    {
      "cell_type": "markdown",
      "source": [
        "![image.png](data:image/png;base64,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)"
      ],
      "metadata": {
        "id": "4_E_WJGRql-I"
      },
      "id": "4_E_WJGRql-I"
    },
    {
      "cell_type": "code",
      "source": [
        "Sum((2*k-1)**3,(k,1,n))"
      ],
      "metadata": {
        "colab": {
          "base_uri": "https://localhost:8080/",
          "height": 67
        },
        "id": "suNCff-lrvoP",
        "outputId": "e60c4c21-a2d5-4f7f-cb77-1d131a6307ab"
      },
      "id": "suNCff-lrvoP",
      "execution_count": null,
      "outputs": [
        {
          "output_type": "execute_result",
          "data": {
            "text/plain": [
              "Sum((2*k - 1)**3, (k, 1, n))"
            ],
            "text/latex": "$\\displaystyle \\sum_{k=1}^{n} \\left(2 k - 1\\right)^{3}$"
          },
          "metadata": {},
          "execution_count": 38
        }
      ]
    },
    {
      "cell_type": "code",
      "source": [
        "summation((2*k-1)**3,(k,1,n))"
      ],
      "metadata": {
        "colab": {
          "base_uri": "https://localhost:8080/",
          "height": 39
        },
        "id": "G-txBTxJqlV_",
        "outputId": "08423a6c-7c44-44dd-c234-f94f4143e783"
      },
      "id": "G-txBTxJqlV_",
      "execution_count": null,
      "outputs": [
        {
          "output_type": "execute_result",
          "data": {
            "text/plain": [
              "2*n**4 - n**2"
            ],
            "text/latex": "$\\displaystyle 2 n^{4} - n^{2}$"
          },
          "metadata": {},
          "execution_count": 37
        }
      ]
    },
    {
      "cell_type": "code",
      "source": [
        "_.factor()"
      ],
      "metadata": {
        "colab": {
          "base_uri": "https://localhost:8080/",
          "height": 39
        },
        "id": "mo0AeahjqxQI",
        "outputId": "001fc45d-679f-43fc-c7dc-413c8e0b71e4"
      },
      "id": "mo0AeahjqxQI",
      "execution_count": null,
      "outputs": [
        {
          "output_type": "execute_result",
          "data": {
            "text/plain": [
              "n**2*(2*n**2 - 1)"
            ],
            "text/latex": "$\\displaystyle n^{2} \\left(2 n^{2} - 1\\right)$"
          },
          "metadata": {},
          "execution_count": 36
        }
      ]
    },
    {
      "cell_type": "markdown",
      "source": [
        "![image.png](data:image/png;base64,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)"
      ],
      "metadata": {
        "id": "YhKholn2r9Xe"
      },
      "id": "YhKholn2r9Xe"
    },
    {
      "cell_type": "code",
      "source": [
        "r=symbols('r',real=True)\n",
        "j=symbols('j',nonnegative=True,integer=True)\n",
        "Sum(r**j,(j,0,n))"
      ],
      "metadata": {
        "colab": {
          "base_uri": "https://localhost:8080/",
          "height": 69
        },
        "id": "21blzWm4sCBv",
        "outputId": "5175e114-97b1-4619-c2aa-56161b98afd1"
      },
      "id": "21blzWm4sCBv",
      "execution_count": null,
      "outputs": [
        {
          "output_type": "execute_result",
          "data": {
            "text/plain": [
              "Sum(r**j, (j, 0, n))"
            ],
            "text/latex": "$\\displaystyle \\sum_{j=0}^{n} r^{j}$"
          },
          "metadata": {},
          "execution_count": 41
        }
      ]
    },
    {
      "cell_type": "code",
      "source": [
        "summation(r**j,(j,0,n))"
      ],
      "metadata": {
        "colab": {
          "base_uri": "https://localhost:8080/",
          "height": 68
        },
        "id": "CZsK4wAisS_U",
        "outputId": "9f02fec2-ea5e-471c-b7ec-ccddadfb64fd"
      },
      "id": "CZsK4wAisS_U",
      "execution_count": null,
      "outputs": [
        {
          "output_type": "execute_result",
          "data": {
            "text/plain": [
              "Piecewise((n + 1, Eq(r, 1)), ((1 - r**(n + 1))/(1 - r), True))"
            ],
            "text/latex": "$\\displaystyle \\begin{cases} n + 1 & \\text{for}\\: r = 1 \\\\\\frac{1 - r^{n + 1}}{1 - r} & \\text{otherwise} \\end{cases}$"
          },
          "metadata": {},
          "execution_count": 43
        }
      ]
    },
    {
      "cell_type": "code",
      "source": [
        "a=symbols('a',real=True)\n",
        "summation(a*r**j,(j,1,n))"
      ],
      "metadata": {
        "colab": {
          "base_uri": "https://localhost:8080/",
          "height": 68
        },
        "id": "eHV7aQcosi7H",
        "outputId": "e71a489b-3617-475f-e1ce-b0a6d1f65062"
      },
      "id": "eHV7aQcosi7H",
      "execution_count": null,
      "outputs": [
        {
          "output_type": "execute_result",
          "data": {
            "text/plain": [
              "a*Piecewise((n, Eq(r, 1)), ((r - r**(n + 1))/(1 - r), True))"
            ],
            "text/latex": "$\\displaystyle a \\left(\\begin{cases} n & \\text{for}\\: r = 1 \\\\\\frac{r - r^{n + 1}}{1 - r} & \\text{otherwise} \\end{cases}\\right)$"
          },
          "metadata": {},
          "execution_count": 46
        }
      ]
    },
    {
      "cell_type": "markdown",
      "source": [
        "![image.png](data:image/png;base64,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)"
      ],
      "metadata": {
        "id": "CXdmRvRGs5dJ"
      },
      "id": "CXdmRvRGs5dJ"
    },
    {
      "cell_type": "code",
      "source": [
        "Sum(j*2**j,(j,1,n+1))"
      ],
      "metadata": {
        "colab": {
          "base_uri": "https://localhost:8080/",
          "height": 71
        },
        "id": "KBryNVQas6-B",
        "outputId": "b9b14d16-9684-470c-888d-609950c08724"
      },
      "id": "KBryNVQas6-B",
      "execution_count": null,
      "outputs": [
        {
          "output_type": "execute_result",
          "data": {
            "text/plain": [
              "Sum(2**j*j, (j, 1, n + 1))"
            ],
            "text/latex": "$\\displaystyle \\sum_{j=1}^{n + 1} 2^{j} j$"
          },
          "metadata": {},
          "execution_count": 47
        }
      ]
    },
    {
      "cell_type": "code",
      "source": [
        "summation(j*2**j,(j,1,n+1))"
      ],
      "metadata": {
        "colab": {
          "base_uri": "https://localhost:8080/",
          "height": 39
        },
        "id": "CwOXIlVOtDka",
        "outputId": "fd285d69-822c-4f09-b429-d0b179c8183f"
      },
      "id": "CwOXIlVOtDka",
      "execution_count": null,
      "outputs": [
        {
          "output_type": "execute_result",
          "data": {
            "text/plain": [
              "2*(2*2**n*n + 1)"
            ],
            "text/latex": "$\\displaystyle 2 \\left(2 \\cdot 2^{n} n + 1\\right)$"
          },
          "metadata": {},
          "execution_count": 48
        }
      ]
    },
    {
      "cell_type": "code",
      "source": [
        "_.expand()"
      ],
      "metadata": {
        "colab": {
          "base_uri": "https://localhost:8080/",
          "height": 39
        },
        "id": "WZWB9pKstJnn",
        "outputId": "9209527f-b198-4651-c0b0-1d31add2b3db"
      },
      "id": "WZWB9pKstJnn",
      "execution_count": null,
      "outputs": [
        {
          "output_type": "execute_result",
          "data": {
            "text/plain": [
              "4*2**n*n + 2"
            ],
            "text/latex": "$\\displaystyle 4 \\cdot 2^{n} n + 2$"
          },
          "metadata": {},
          "execution_count": 49
        }
      ]
    },
    {
      "cell_type": "markdown",
      "id": "470467d4-d419-4354-8ae6-9eabdc2f4862",
      "metadata": {
        "id": "470467d4-d419-4354-8ae6-9eabdc2f4862"
      },
      "source": [
        "## 수열의 곱"
      ]
    },
    {
      "cell_type": "code",
      "execution_count": null,
      "id": "6f9c9624-0693-4b7d-8b4c-d82e1b63331c",
      "metadata": {
        "tags": [],
        "id": "6f9c9624-0693-4b7d-8b4c-d82e1b63331c",
        "outputId": "17c8cebc-08f2-46db-ba3a-f760d0cf747f"
      },
      "outputs": [
        {
          "data": {
            "text/latex": [
              "$\\displaystyle \\prod_{k=1}^{n} k$"
            ],
            "text/plain": [
              "Product(k, (k, 1, n))"
            ]
          },
          "execution_count": 3,
          "metadata": {},
          "output_type": "execute_result"
        }
      ],
      "source": [
        "from sympy import Product, symbols\n",
        "\n",
        "k,n=symbols('k n',positive=True,integer=True)\n",
        "Product(k,(k,1,n)) # 기호곱으로 표현"
      ]
    },
    {
      "cell_type": "markdown",
      "id": "3e81d815-5bbb-4391-8287-439dc795db4d",
      "metadata": {
        "id": "3e81d815-5bbb-4391-8287-439dc795db4d"
      },
      "source": [
        "#### $\\prod_{k=1}^{10} (k+1)/k$\n"
      ]
    },
    {
      "cell_type": "code",
      "execution_count": null,
      "id": "a6278ccb-f7fc-4e30-a01b-4db20c10848c",
      "metadata": {
        "tags": [],
        "id": "a6278ccb-f7fc-4e30-a01b-4db20c10848c",
        "outputId": "8245be6e-936d-492e-aafd-3e5e513171e6",
        "colab": {
          "base_uri": "https://localhost:8080/",
          "height": 37
        }
      },
      "outputs": [
        {
          "output_type": "execute_result",
          "data": {
            "text/plain": [
              "11"
            ],
            "text/latex": "$\\displaystyle 11$"
          },
          "metadata": {},
          "execution_count": 50
        }
      ],
      "source": [
        "from sympy import product, symbols\n",
        "\n",
        "k,n=symbols('k n',positive=True,integer=True)\n",
        "product((k+1)/k,(k,1,10))"
      ]
    },
    {
      "cell_type": "markdown",
      "id": "415ece60-7d33-4590-a925-d185dcf31780",
      "metadata": {
        "id": "415ece60-7d33-4590-a925-d185dcf31780"
      },
      "source": [
        "## 부분분수의 표현"
      ]
    },
    {
      "cell_type": "code",
      "execution_count": null,
      "id": "817fd125-5775-46f5-a046-44445a06dc89",
      "metadata": {
        "tags": [],
        "id": "817fd125-5775-46f5-a046-44445a06dc89",
        "outputId": "41b3b2c2-059d-47ff-f3ea-e4486cb3bbf7",
        "colab": {
          "base_uri": "https://localhost:8080/",
          "height": 55
        }
      },
      "outputs": [
        {
          "output_type": "execute_result",
          "data": {
            "text/plain": [
              "-1/(2*(k + 2)) + 1/(2*k)"
            ],
            "text/latex": "$\\displaystyle - \\frac{1}{2 \\left(k + 2\\right)} + \\frac{1}{2 k}$"
          },
          "metadata": {},
          "execution_count": 52
        }
      ],
      "source": [
        "import sympy as sp\n",
        "\n",
        "# 변수 정의\n",
        "k = sp.symbols('k')\n",
        "\n",
        "# 원래 분수식\n",
        "expr = 1 / (k * (k + 2))\n",
        "\n",
        "# 부분분수 분해\n",
        "sp.apart(expr)"
      ]
    },
    {
      "cell_type": "markdown",
      "id": "60e7da0b-3698-4070-a29e-a81466c188ca",
      "metadata": {
        "id": "60e7da0b-3698-4070-a29e-a81466c188ca"
      },
      "source": [
        "#### $\\sum_{k=1}^{oo} 1/{k(k+1)}$"
      ]
    },
    {
      "cell_type": "code",
      "execution_count": null,
      "id": "1f6ba770-89d1-4512-8bd3-466dfef9ab8e",
      "metadata": {
        "tags": [],
        "id": "1f6ba770-89d1-4512-8bd3-466dfef9ab8e",
        "outputId": "dc024dff-b20b-4a93-a576-9ea50138f75c",
        "colab": {
          "base_uri": "https://localhost:8080/",
          "height": 51
        }
      },
      "outputs": [
        {
          "output_type": "execute_result",
          "data": {
            "text/plain": [
              "3/4"
            ],
            "text/latex": "$\\displaystyle \\frac{3}{4}$"
          },
          "metadata": {},
          "execution_count": 53
        }
      ],
      "source": [
        "from sympy import summation,oo, symbols\n",
        "\n",
        "k=symbols('k',positive=True,integer=True)\n",
        "summation(1/(k*(k+2)),(k,1,oo))"
      ]
    },
    {
      "cell_type": "markdown",
      "id": "b6cf4a9f-caab-4fd6-94d2-7787c624b9b1",
      "metadata": {
        "tags": [],
        "id": "b6cf4a9f-caab-4fd6-94d2-7787c624b9b1"
      },
      "source": [
        "## 십진수를 이진수로"
      ]
    },
    {
      "cell_type": "code",
      "execution_count": null,
      "id": "8c6a0b95-2ccd-4d8f-83d8-ea4dabba3413",
      "metadata": {
        "tags": [],
        "id": "8c6a0b95-2ccd-4d8f-83d8-ea4dabba3413",
        "outputId": "3e1513e5-3aca-4f87-f74a-d16d34d95b99",
        "colab": {
          "base_uri": "https://localhost:8080/"
        }
      },
      "outputs": [
        {
          "output_type": "execute_result",
          "data": {
            "text/plain": [
              "[3, 4, 5, 6, 7]"
            ]
          },
          "metadata": {},
          "execution_count": 54
        }
      ],
      "source": [
        "# 십진법으로 구한 계수 출력하기\n",
        "coef=[] # 계수들을 등록할 빈 공간 마련\n",
        "number=34567\n",
        "q=number // 10 # 몫 구하기\n",
        "r=number % 10 # 나머지 구하기\n",
        "coef.append(r) # r0 추가\n",
        "while q !=0:\n",
        "    r=q %10\n",
        "    coef.append(r)\n",
        "    q=q //10\n",
        "coef[::-1] # 리스트 순서를 뒤집어 출력"
      ]
    },
    {
      "cell_type": "code",
      "execution_count": null,
      "id": "a27b067c-94b7-4ab6-8a8c-081b7f739212",
      "metadata": {
        "tags": [],
        "id": "a27b067c-94b7-4ab6-8a8c-081b7f739212",
        "outputId": "832da5a6-1558-4ea3-d03d-1818c7cd6b98",
        "colab": {
          "base_uri": "https://localhost:8080/"
        }
      },
      "outputs": [
        {
          "output_type": "execute_result",
          "data": {
            "text/plain": [
              "[1, 0, 0, 1, 1, 0]"
            ]
          },
          "metadata": {},
          "execution_count": 55
        }
      ],
      "source": [
        "# 38을 이진수로 표현하기\n",
        "coef=[] # 계수들을 등록할 빈 공간 마련\n",
        "number=38\n",
        "q=number // 2 # 몫 구하기\n",
        "r=number % 2 # 나머지 구하기\n",
        "coef.append(r) # r0 추가\n",
        "while q !=0:\n",
        "    r=q % 2\n",
        "    coef.append(r)\n",
        "    q=q // 2\n",
        "coef[::-1] # 리스트 순서를 뒤집어 출력"
      ]
    },
    {
      "cell_type": "code",
      "execution_count": null,
      "id": "3630f9f6-3915-48c6-b867-abf523321537",
      "metadata": {
        "tags": [],
        "id": "3630f9f6-3915-48c6-b867-abf523321537"
      },
      "outputs": [],
      "source": [
        "# 이진수 변환 함수\n",
        "def decimal2binary(number):\n",
        "    coef=[] # 계수들을 등록할 빈 공간 마련\n",
        "    number=38\n",
        "    q=number // 2 # 몫 구하기\n",
        "    r=number % 2 # 나머지 구하기\n",
        "    coef.append(r) # r0 추가\n",
        "    while q !=0:\n",
        "        r=q % 2\n",
        "        coef.append(r)\n",
        "        q=q // 2\n",
        "    C=coef[::-1] # 리스트 순서를 뒤집어 출력\n",
        "    return \"\".join(map(str,C)) # 문자열로 출력"
      ]
    },
    {
      "cell_type": "code",
      "execution_count": null,
      "id": "a9ef049e-d569-4f1f-9a36-c092c89ffce4",
      "metadata": {
        "tags": [],
        "id": "a9ef049e-d569-4f1f-9a36-c092c89ffce4",
        "outputId": "e02954f4-acad-4df5-d4eb-39dd42148bfb",
        "colab": {
          "base_uri": "https://localhost:8080/",
          "height": 35
        }
      },
      "outputs": [
        {
          "output_type": "execute_result",
          "data": {
            "text/plain": [
              "'100110'"
            ],
            "application/vnd.google.colaboratory.intrinsic+json": {
              "type": "string"
            }
          },
          "metadata": {},
          "execution_count": 57
        }
      ],
      "source": [
        "decimal2binary(38)"
      ]
    },
    {
      "cell_type": "markdown",
      "id": "44a56e66-fb57-4f13-8db7-ad9d750c085b",
      "metadata": {
        "id": "44a56e66-fb57-4f13-8db7-ad9d750c085b"
      },
      "source": [
        "# 차분방정식"
      ]
    },
    {
      "cell_type": "markdown",
      "id": "878482b1-be6b-4358-9b7f-992c868d1bfd",
      "metadata": {
        "id": "878482b1-be6b-4358-9b7f-992c868d1bfd"
      },
      "source": [
        "### 문제.\t다음과 같은 차분방정식(difference equation)의 해를 구하여라.\n",
        "### y[k+1]-2y[k]=0,y[0]=1\n"
      ]
    },
    {
      "cell_type": "code",
      "execution_count": null,
      "id": "da584d37-bc2e-4e80-b600-bfbb44b5effa",
      "metadata": {
        "id": "da584d37-bc2e-4e80-b600-bfbb44b5effa",
        "outputId": "a315d8a8-f703-419a-e865-ed869ec1b31d",
        "colab": {
          "base_uri": "https://localhost:8080/",
          "height": 37
        }
      },
      "outputs": [
        {
          "output_type": "execute_result",
          "data": {
            "text/plain": [
              "2**k"
            ],
            "text/latex": "$\\displaystyle 2^{k}$"
          },
          "metadata": {},
          "execution_count": 58
        }
      ],
      "source": [
        "from sympy import symbols, Function, Eq, rsolve\n",
        "\n",
        "# 변수 및 함수 정의\n",
        "k = symbols('k', integer=True)\n",
        "y = Function('y')\n",
        "\n",
        "# 차분 방정식 정의\n",
        "diff_eq = Eq(y(k+1) - 2*y(k), 0)\n",
        "\n",
        "# 초기 조건 추가(딕셔너리 자료형)\n",
        "init_conditions = {y(0): 1}\n",
        "\n",
        "# 해 구하기\n",
        "solution = rsolve(diff_eq, y(k),init_conditions)\n",
        "solution"
      ]
    },
    {
      "cell_type": "markdown",
      "id": "d7989def-90db-4d90-b372-211be03828ce",
      "metadata": {
        "id": "d7989def-90db-4d90-b372-211be03828ce"
      },
      "source": [
        "### 문제. \t다음과 같은 차분방정식(difference equation)의 해를 구하여라.\n",
        "### y[k+2]-3y[k+1]+2y[k]=0,y[0]=2,y[1]=5\n"
      ]
    },
    {
      "cell_type": "code",
      "execution_count": null,
      "id": "f504af66-1fb4-431f-8ecf-68c9dbb4783a",
      "metadata": {
        "id": "f504af66-1fb4-431f-8ecf-68c9dbb4783a",
        "outputId": "a44eed30-4bd1-4b7b-c7ec-20f123d3bd94",
        "colab": {
          "base_uri": "https://localhost:8080/",
          "height": 37
        }
      },
      "outputs": [
        {
          "output_type": "execute_result",
          "data": {
            "text/plain": [
              "3*2**k - 1"
            ],
            "text/latex": "$\\displaystyle 3 \\cdot 2^{k} - 1$"
          },
          "metadata": {},
          "execution_count": 59
        }
      ],
      "source": [
        "# 차분 방정식 정의\n",
        "diff_eq = Eq(y(k+2)-3*y(k+1)+2*y(k), 0)\n",
        "\n",
        "# 초기 조건 추가(딕셔너리 자료형)\n",
        "init_conditions = {y(0): 2,y(1):5}\n",
        "\n",
        "# 해 구하기\n",
        "solution = rsolve(diff_eq, y(k),init_conditions)\n",
        "solution"
      ]
    },
    {
      "cell_type": "markdown",
      "id": "b179b995-2061-4f34-8ff1-62346b93df5e",
      "metadata": {
        "id": "b179b995-2061-4f34-8ff1-62346b93df5e"
      },
      "source": [
        "### 문제. \t다음과 같은 차분방정식(difference equation)의 해를 구하여라.\n",
        "### y[k+2]-2y[k+1]+y[k]=0,y[0]=2,y[1]=5\n"
      ]
    },
    {
      "cell_type": "code",
      "execution_count": null,
      "id": "012f1e3f-bb64-4606-a04c-5739adda0522",
      "metadata": {
        "id": "012f1e3f-bb64-4606-a04c-5739adda0522",
        "outputId": "38a27a20-feca-4ec2-b126-f330739e6489",
        "colab": {
          "base_uri": "https://localhost:8080/",
          "height": 39
        }
      },
      "outputs": [
        {
          "output_type": "execute_result",
          "data": {
            "text/plain": [
              "3*k + 2"
            ],
            "text/latex": "$\\displaystyle 3 k + 2$"
          },
          "metadata": {},
          "execution_count": 60
        }
      ],
      "source": [
        "# 차분 방정식 정의\n",
        "diff_eq = Eq(y(k+2)-2*y(k+1)+y(k), 0)\n",
        "\n",
        "# 초기 조건 추가(딕셔너리 자료형)\n",
        "init_conditions = {y(0): 2,y(1):5}\n",
        "\n",
        "# 해 구하기\n",
        "solution = rsolve(diff_eq, y(k),init_conditions)\n",
        "solution"
      ]
    },
    {
      "cell_type": "markdown",
      "id": "b48349a2-1d87-455e-9298-25557eaa202e",
      "metadata": {
        "id": "b48349a2-1d87-455e-9298-25557eaa202e"
      },
      "source": [
        "### 문제. \t다음과 같은 차분방정식(difference equation)의 해를 구하여라.\n",
        "### y[k+2]=y[k+1]+y[k],y[1]=1,y[2]=1\n"
      ]
    },
    {
      "cell_type": "code",
      "execution_count": null,
      "id": "195190a4-bbde-423f-90b5-f4483088728b",
      "metadata": {
        "id": "195190a4-bbde-423f-90b5-f4483088728b",
        "outputId": "f9b0e24a-a804-43f9-8476-0464365ab82a",
        "colab": {
          "base_uri": "https://localhost:8080/",
          "height": 70
        }
      },
      "outputs": [
        {
          "output_type": "execute_result",
          "data": {
            "text/plain": [
              "-sqrt(5)*(1/2 - sqrt(5)/2)**k/5 + sqrt(5)*(1/2 + sqrt(5)/2)**k/5"
            ],
            "text/latex": "$\\displaystyle - \\frac{\\sqrt{5} \\left(\\frac{1}{2} - \\frac{\\sqrt{5}}{2}\\right)^{k}}{5} + \\frac{\\sqrt{5} \\left(\\frac{1}{2} + \\frac{\\sqrt{5}}{2}\\right)^{k}}{5}$"
          },
          "metadata": {},
          "execution_count": 61
        }
      ],
      "source": [
        "# 차분 방정식 정의\n",
        "diff_eq = Eq(y(k+2)-y(k+1)-y(k), 0)\n",
        "\n",
        "# 초기 조건 추가(딕셔너리 자료형)\n",
        "init_conditions = {y(1): 1,y(2):1}\n",
        "\n",
        "# 해 구하기\n",
        "solution = rsolve(diff_eq, y(k),init_conditions)\n",
        "solution"
      ]
    },
    {
      "cell_type": "code",
      "execution_count": null,
      "id": "bcd63d76-6a60-43be-a54d-3725c832e341",
      "metadata": {
        "id": "bcd63d76-6a60-43be-a54d-3725c832e341"
      },
      "outputs": [],
      "source": [
        "from sympy import symbols\n",
        "n=symbols('n',positive=True, integer=True)\n",
        "# 이웃한 두 항의 비율\n",
        "fn=solution.subs(k,n)/solution.subs(k,n-1)"
      ]
    },
    {
      "cell_type": "code",
      "execution_count": null,
      "id": "964829e7-3cdf-4069-b159-4108ba8ac0f7",
      "metadata": {
        "id": "964829e7-3cdf-4069-b159-4108ba8ac0f7",
        "outputId": "783516dc-6574-409e-8a9f-350ef2bf645a",
        "colab": {
          "base_uri": "https://localhost:8080/",
          "height": 37
        }
      },
      "outputs": [
        {
          "output_type": "execute_result",
          "data": {
            "text/plain": [
              "1.61803398874989"
            ],
            "text/latex": "$\\displaystyle 1.61803398874989$"
          },
          "metadata": {},
          "execution_count": 63
        }
      ],
      "source": [
        "from sympy import limit\n",
        "limit(fn,n,10000).evalf()"
      ]
    },
    {
      "cell_type": "code",
      "execution_count": null,
      "id": "8e30bfb6-03e7-4a3a-94d6-6acdab56b03d",
      "metadata": {
        "id": "8e30bfb6-03e7-4a3a-94d6-6acdab56b03d",
        "outputId": "9afa5ae1-e225-4e7a-9c47-ac6fda8ba31e",
        "colab": {
          "base_uri": "https://localhost:8080/"
        }
      },
      "outputs": [
        {
          "output_type": "execute_result",
          "data": {
            "text/plain": [
              "np.float64(1.618033988749895)"
            ]
          },
          "metadata": {},
          "execution_count": 64
        }
      ],
      "source": [
        "import numpy as np\n",
        "(1+np.sqrt(5))/2"
      ]
    },
    {
      "cell_type": "markdown",
      "id": "9b50f5fa-8da4-48a0-aea4-6a809ff883d0",
      "metadata": {
        "id": "9b50f5fa-8da4-48a0-aea4-6a809ff883d0"
      },
      "source": [
        "### 문제. \t다음과 같은 차분방정식(difference equation)의 해를 구하여라.\n",
        "### y[k+2]+y[k]=0,y[0]=1,y[1]=0\n"
      ]
    },
    {
      "cell_type": "code",
      "execution_count": null,
      "id": "8ce3bd2d-1861-43d1-8384-47e06b71a15b",
      "metadata": {
        "id": "8ce3bd2d-1861-43d1-8384-47e06b71a15b",
        "outputId": "b7ecc623-4ce6-4410-8123-a8a60bb1f6a8",
        "colab": {
          "base_uri": "https://localhost:8080/",
          "height": 57
        }
      },
      "outputs": [
        {
          "output_type": "execute_result",
          "data": {
            "text/plain": [
              "I**k/2 + (-I)**k/2"
            ],
            "text/latex": "$\\displaystyle \\frac{i^{k}}{2} + \\frac{\\left(- i\\right)^{k}}{2}$"
          },
          "metadata": {},
          "execution_count": 65
        }
      ],
      "source": [
        "# 차분 방정식 정의\n",
        "diff_eq = Eq(y(k+2)+y(k), 0)\n",
        "\n",
        "# 초기 조건 추가(딕셔너리 자료형)\n",
        "init_conditions = {y(0): 1,y(1):0}\n",
        "\n",
        "# 해 구하기\n",
        "solution = rsolve(diff_eq, y(k),init_conditions)\n",
        "solution"
      ]
    },
    {
      "cell_type": "code",
      "source": [
        "# sympy 복소수의 실수 부분 추출\n",
        "from sympy import I,re\n",
        "z=1-3*I\n",
        "z.as_real_imag(),z.as_real_imag()[0], re(z)"
      ],
      "metadata": {
        "id": "s6x-tAiNwu7R",
        "outputId": "610c2279-724a-440a-c80e-d1cef1a0397a",
        "colab": {
          "base_uri": "https://localhost:8080/"
        }
      },
      "id": "s6x-tAiNwu7R",
      "execution_count": null,
      "outputs": [
        {
          "output_type": "execute_result",
          "data": {
            "text/plain": [
              "((1, -3), 1, 1)"
            ]
          },
          "metadata": {},
          "execution_count": 72
        }
      ]
    },
    {
      "cell_type": "code",
      "source": [
        "# numpy 실수 부분만 추출\n",
        "y_real_values = [np.real(val) for val in y_values]"
      ],
      "metadata": {
        "id": "KomfifWjzI4s"
      },
      "id": "KomfifWjzI4s",
      "execution_count": null,
      "outputs": []
    },
    {
      "cell_type": "code",
      "execution_count": null,
      "id": "6d839f5e-a2fb-484d-97ca-e5a8a1f19c8b",
      "metadata": {
        "id": "6d839f5e-a2fb-484d-97ca-e5a8a1f19c8b",
        "outputId": "e5925f15-a7a9-41d2-b23c-db0b51418ca4",
        "colab": {
          "base_uri": "https://localhost:8080/",
          "height": 491
        }
      },
      "outputs": [
        {
          "output_type": "display_data",
          "data": {
            "text/plain": [
              "<Figure size 800x500 with 1 Axes>"
            ],
            "image/png": "[encoded data removed]"
          },
          "metadata": {}
        }
      ],
      "source": [
        "import matplotlib.pyplot as plt\n",
        "\n",
        "# k 값 범위 설정\n",
        "k_values = np.arange(1, 30)\n",
        "y_values = [solution.subs(k, val).evalf() for val in k_values]\n",
        "\n",
        "# 실수 부분만 추출\n",
        "#y_real_values = [val.as_real_imag()[0] for val in y_values]\n",
        "y_real_values = [np.real(val) for val in y_values]\n",
        "\n",
        "# 그래프 그리기\n",
        "plt.figure(figsize=(8, 5))\n",
        "plt.plot(k_values, y_real_values, marker='o',\n",
        "         linestyle='-', label=r'$y_k$ (real parts)')\n",
        "plt.xlabel(r'$k$ (steps)')\n",
        "plt.ylabel(r'$y_k$ (solution value)')\n",
        "plt.title('Solutions of Diff Eq (Real Part)')\n",
        "plt.axhline(y=0, color='gray', linestyle='--', linewidth=1)\n",
        "plt.legend()\n",
        "plt.grid()\n",
        "plt.show()"
      ]
    },
    {
      "cell_type": "markdown",
      "id": "16da170c-fc61-4d99-93be-4ee9b0f078c2",
      "metadata": {
        "id": "16da170c-fc61-4d99-93be-4ee9b0f078c2"
      },
      "source": [
        "### 문제. \t다음과 같은 차분방정식(difference equation)의 해를 구하여라.\n",
        "### $$y[k+1]=2y[k]+1,y[1]=1$$"
      ]
    },
    {
      "cell_type": "code",
      "execution_count": null,
      "id": "4f82d3dd-3173-4d23-9145-e3a17797eac4",
      "metadata": {
        "id": "4f82d3dd-3173-4d23-9145-e3a17797eac4",
        "outputId": "ec9553fc-267a-4d00-8c94-5806651f8689",
        "colab": {
          "base_uri": "https://localhost:8080/",
          "height": 37
        }
      },
      "outputs": [
        {
          "output_type": "execute_result",
          "data": {
            "text/plain": [
              "2**k - 1"
            ],
            "text/latex": "$\\displaystyle 2^{k} - 1$"
          },
          "metadata": {},
          "execution_count": 73
        }
      ],
      "source": [
        "# 변수 및 함수 정의\n",
        "k = symbols('k', integer=True)\n",
        "y= Function('y')\n",
        "\n",
        "# 차분 방정식 정의\n",
        "diff_eq = Eq(y(k+1)-2*y(k)-1, 0)\n",
        "\n",
        "# 초기 조건 추가(딕셔너리 자료형)\n",
        "init_conditions = {y(1): 1}\n",
        "\n",
        "# 해 구하기\n",
        "solution = rsolve(diff_eq, y(k),init_conditions)\n",
        "solution"
      ]
    },
    {
      "cell_type": "markdown",
      "id": "013cf79c-bdd9-42be-88b5-3d22d35e8d37",
      "metadata": {
        "id": "013cf79c-bdd9-42be-88b5-3d22d35e8d37"
      },
      "source": [
        "### 문제. \t다음과 같은 차분방정식(difference equation)의 해를 구하여라.\n",
        "### $$y[k+2]-3y[k+1]+2y[k]=4^k ,y[1]=1, y[2]=2 $$"
      ]
    },
    {
      "cell_type": "code",
      "execution_count": null,
      "id": "4d0e1e20-1357-41f4-b11e-16c4c080da6d",
      "metadata": {
        "id": "4d0e1e20-1357-41f4-b11e-16c4c080da6d",
        "outputId": "c35ce000-8404-41f6-97aa-a24d629e796c",
        "colab": {
          "base_uri": "https://localhost:8080/",
          "height": 54
        }
      },
      "outputs": [
        {
          "output_type": "execute_result",
          "data": {
            "text/plain": [
              "2**(2*k)/6 - 2**k/2 + 4/3"
            ],
            "text/latex": "$\\displaystyle \\frac{2^{2 k}}{6} - \\frac{2^{k}}{2} + \\frac{4}{3}$"
          },
          "metadata": {},
          "execution_count": 74
        }
      ],
      "source": [
        "# 차분 방정식 정의\n",
        "diff_eq = Eq(y(k+2)-3*y(k+1)+2*y(k)-4**k, 0)\n",
        "\n",
        "# 초기 조건 추가(딕셔너리 자료형)\n",
        "init_conditions = {y(1): 1,y(2):2}\n",
        "\n",
        "# 해 구하기\n",
        "solution = rsolve(diff_eq, y(k),init_conditions)\n",
        "solution"
      ]
    },
    {
      "cell_type": "markdown",
      "id": "95248703-b228-4194-9dde-1b1758d0bb45",
      "metadata": {
        "id": "95248703-b228-4194-9dde-1b1758d0bb45"
      },
      "source": [
        "### 문제. \t다음과 같은 차분방정식(difference equation)의 해를 구하여라.\n",
        "### $$y[k+1]=(y[k])/(2+y[k]),y[1]=1$$\n"
      ]
    },
    {
      "cell_type": "code",
      "execution_count": null,
      "id": "38f9ce80-2e18-45eb-b201-3f9be136c47b",
      "metadata": {
        "id": "38f9ce80-2e18-45eb-b201-3f9be136c47b",
        "outputId": "25803610-c774-4ce1-a31f-89af187442a4",
        "colab": {
          "base_uri": "https://localhost:8080/",
          "height": 37
        }
      },
      "outputs": [
        {
          "output_type": "execute_result",
          "data": {
            "text/plain": [
              "2**k - 1"
            ],
            "text/latex": "$\\displaystyle 2^{k} - 1$"
          },
          "metadata": {},
          "execution_count": 75
        }
      ],
      "source": [
        "# 변수 및 함수 정의\n",
        "k = symbols('k', integer=True)\n",
        "A = Function('A')\n",
        "\n",
        "# 차분 방정식 정의\n",
        "diff_eq = Eq(A(k+1)-2*A(k)-1, 0)\n",
        "\n",
        "# 초기 조건 추가(딕셔너리 자료형)\n",
        "init_conditions = {A(1): 1}\n",
        "\n",
        "# 해 구하기\n",
        "solution = rsolve(diff_eq, A(k),init_conditions)\n",
        "solution"
      ]
    },
    {
      "cell_type": "markdown",
      "id": "bba68553-f3b3-4cce-86ce-afdb90e5f25a",
      "metadata": {
        "id": "bba68553-f3b3-4cce-86ce-afdb90e5f25a"
      },
      "source": [
        "### 문제. \t다음과 같은 차분방정식(difference equation)의 해를 구하여라.\n",
        "### $$(k+2)^2 y[k+1] -(k+1)^2 y[k]=2k+3,y[0]=0$$\n"
      ]
    },
    {
      "cell_type": "code",
      "execution_count": null,
      "id": "61e82694-3e50-4225-875e-35ec91ba32d8",
      "metadata": {
        "id": "61e82694-3e50-4225-875e-35ec91ba32d8",
        "outputId": "e5bb5084-33f1-437b-a15d-17ec37f090f6",
        "colab": {
          "base_uri": "https://localhost:8080/",
          "height": 39
        }
      },
      "outputs": [
        {
          "output_type": "execute_result",
          "data": {
            "text/plain": [
              "k*(k + 2)"
            ],
            "text/latex": "$\\displaystyle k \\left(k + 2\\right)$"
          },
          "metadata": {},
          "execution_count": 76
        }
      ],
      "source": [
        "# 변수 및 함수 정의\n",
        "k = symbols('k', integer=True)\n",
        "A = Function('A')\n",
        "\n",
        "# 차분 방정식 정의\n",
        "diff_eq = Eq(A(k+1)-A(k)-2*k-3, 0)\n",
        "\n",
        "# 초기 조건 추가(딕셔너리 자료형)\n",
        "init_conditions = {A(0): 0}\n",
        "\n",
        "# 해 구하기\n",
        "solution = rsolve(diff_eq, A(k),init_conditions)\n",
        "solution"
      ]
    },
    {
      "cell_type": "markdown",
      "metadata": {
        "id": "71b2af87-4fbf-40d8-828f-40eb784cf45b"
      },
      "source": [
        "### \t(Gambler’s Ruin) 두 명의 플레이어 A와 B가 참여하는 도박 상황을 생각해 보자. 예를 들어, 플레이어 A는 \"손님\"이고 플레이어 B는 \"카지노\"라고 할 수 있다. 게임의 한 번 플레이마다 플레이어 A가 플레이어 B로부터 칩을 하나 딸 확률이 0.4 이고, 반대로 플레이어 B가 플레이어 A로부터 칩을 하나 딸 확률이 0.6이다. 게임 시작 시 두 플레이어는 각각 100개와 200개의 칩을 가지고 시작한다. 어떤 플레이어가 상대방의 칩을 모두 가져가면 그 플레이어가 최종 승리하게 된다. 플레이어 A가 최종적으로 이길 확률은 얼마인가?"
      ],
      "id": "71b2af87-4fbf-40d8-828f-40eb784cf45b"
    },
    {
      "cell_type": "code",
      "execution_count": null,
      "metadata": {
        "tags": [],
        "id": "54946271-a832-43ea-b7fa-eeecf4456150",
        "outputId": "6f62ba81-952f-447d-e3f6-b9643a956c5e"
      },
      "outputs": [
        {
          "data": {
            "text/latex": [
              "$\\displaystyle 1.48806630649578 \\cdot 10^{-53} {1.5}^{k} - 1.48806630649578 \\cdot 10^{-53}$"
            ],
            "text/plain": [
              "1.48806630649578e-53*1.5**k - 1.48806630649578e-53"
            ]
          },
          "execution_count": 7,
          "metadata": {},
          "output_type": "execute_result"
        }
      ],
      "source": [
        "from sympy import symbols, Function, Eq, rsolve\n",
        "\n",
        "# 변수 및 함수 정의\n",
        "k = symbols('k', integer=True)\n",
        "A = Function('A')\n",
        "\n",
        "# 차분 방정식 정의\n",
        "diff_eq = Eq(A(k) - 0.4*A(k+1) - 0.6*A(k-1), 0)\n",
        "\n",
        "# 초기 조건 추가(딕셔너리 자료형)\n",
        "init_conditions = {A(0): 0,A(300):1}\n",
        "\n",
        "# 해 구하기\n",
        "solution = rsolve(diff_eq, A(k),init_conditions)\n",
        "solution"
      ],
      "id": "54946271-a832-43ea-b7fa-eeecf4456150"
    },
    {
      "cell_type": "code",
      "execution_count": null,
      "metadata": {
        "tags": [],
        "id": "1ac1a080-c38e-45e9-adbe-b6e185669707",
        "outputId": "07732e46-518d-49de-aba1-ae31c247b020"
      },
      "outputs": [
        {
          "data": {
            "text/latex": [
              "$\\displaystyle 6.04989989819393 \\cdot 10^{-36}$"
            ],
            "text/plain": [
              "6.04989989819393e-36"
            ]
          },
          "execution_count": 8,
          "metadata": {},
          "output_type": "execute_result"
        }
      ],
      "source": [
        "# 실제 확률 계산\n",
        "n = symbols('n', integer=True)\n",
        "A_func=lambda n:solution.subs(k,n)\n",
        "A_func(100)"
      ],
      "id": "1ac1a080-c38e-45e9-adbe-b6e185669707"
    }
  ],
  "metadata": {
    "kernelspec": {
      "display_name": "Python 3 (ipykernel)",
      "language": "python",
      "name": "python3"
    },
    "language_info": {
      "codemirror_mode": {
        "name": "ipython",
        "version": 3
      },
      "file_extension": ".py",
      "mimetype": "text/x-python",
      "name": "python",
      "nbconvert_exporter": "python",
      "pygments_lexer": "ipython3",
      "version": "3.10.10"
    },
    "colab": {
      "provenance": []
    }
  },
  "nbformat": 4,
  "nbformat_minor": 5
}