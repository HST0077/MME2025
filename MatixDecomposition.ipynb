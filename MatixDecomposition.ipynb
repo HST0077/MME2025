{
  "cells": [
    {
      "cell_type": "markdown",
      "metadata": {
        "id": "view-in-github",
        "colab_type": "text"
      },
      "source": [
        "<a href=\"https://colab.research.google.com/github/HST0077/MME2025/blob/main/MatixDecomposition.ipynb\" target=\"_parent\"><img src=\"https://colab.research.google.com/assets/colab-badge.svg\" alt=\"Open In Colab\"/></a>"
      ]
    },
    {
      "cell_type": "markdown",
      "id": "95b2e793-d5bf-434f-b4a3-706e49216bc9",
      "metadata": {
        "id": "95b2e793-d5bf-434f-b4a3-706e49216bc9"
      },
      "source": [
        "# Gram-Schmidt orthogonalization process"
      ]
    },
    {
      "cell_type": "markdown",
      "id": "66209a56-539e-4979-84d0-bedc235ae4e4",
      "metadata": {
        "id": "66209a56-539e-4979-84d0-bedc235ae4e4"
      },
      "source": [
        "### 두 벡터 u_1=(1,1)과 u_2=(1,0)은 서로 독립이지만 직교하지는 않는다. u_1 방향의 단위 벡터를 v_1,  v_1에 수직인 단위 벡터를 만들어 v_2라고 하자. 그리고, u_1,u_2를 v_1,v_2의 선형결합으로 표현하여 보아라."
      ]
    },
    {
      "cell_type": "code",
      "execution_count": null,
      "id": "0e9b075b-ac17-4b44-82d8-918e910a23e8",
      "metadata": {
        "tags": [],
        "id": "0e9b075b-ac17-4b44-82d8-918e910a23e8",
        "outputId": "3c18ee11-ea5c-457f-c751-1714cb5634ca",
        "colab": {
          "base_uri": "https://localhost:8080/",
          "height": 37
        }
      },
      "outputs": [
        {
          "output_type": "execute_result",
          "data": {
            "text/plain": [
              "1"
            ],
            "text/latex": "$\\displaystyle 1$"
          },
          "metadata": {},
          "execution_count": 2
        }
      ],
      "source": [
        "import sympy as sp\n",
        "u1,u2=sp.Matrix([1,1]),sp.Matrix([1,0])\n",
        "# 벡터를 벡터의 크기로 나눔\n",
        "v1=u1/u1.norm()\n",
        "v1.norm() # 단위벡터 확인"
      ]
    },
    {
      "cell_type": "code",
      "execution_count": null,
      "id": "ffdbac95-82e1-41c2-866d-f3de0ba45791",
      "metadata": {
        "tags": [],
        "id": "ffdbac95-82e1-41c2-866d-f3de0ba45791",
        "outputId": "8f576fb7-70a5-4479-854c-8847fb3952e9",
        "colab": {
          "base_uri": "https://localhost:8080/",
          "height": 68
        }
      },
      "outputs": [
        {
          "output_type": "execute_result",
          "data": {
            "text/plain": [
              "Matrix([\n",
              "[sqrt(2)/2],\n",
              "[sqrt(2)/2]])"
            ],
            "text/latex": "$\\displaystyle \\left[\\begin{matrix}\\frac{\\sqrt{2}}{2}\\\\\\frac{\\sqrt{2}}{2}\\end{matrix}\\right]$"
          },
          "metadata": {},
          "execution_count": 3
        }
      ],
      "source": [
        "v1"
      ]
    },
    {
      "cell_type": "code",
      "execution_count": null,
      "id": "617cbe9a-1790-455d-85a0-ebcc1bf60c34",
      "metadata": {
        "tags": [],
        "id": "617cbe9a-1790-455d-85a0-ebcc1bf60c34",
        "outputId": "e3193d11-f8bb-4e3f-cd2d-0c4f3d50fabd",
        "colab": {
          "base_uri": "https://localhost:8080/",
          "height": 58
        }
      },
      "outputs": [
        {
          "output_type": "execute_result",
          "data": {
            "text/plain": [
              "Matrix([\n",
              "[ 1/2],\n",
              "[-1/2]])"
            ],
            "text/latex": "$\\displaystyle \\left[\\begin{matrix}\\frac{1}{2}\\\\- \\frac{1}{2}\\end{matrix}\\right]$"
          },
          "metadata": {},
          "execution_count": 4
        }
      ],
      "source": [
        "v2=u2-((u2.dot(v1))/(v1.norm()))*v1\n",
        "v2"
      ]
    },
    {
      "cell_type": "code",
      "execution_count": null,
      "id": "246b5492-341a-4d5e-a8f7-d5ec051d11e3",
      "metadata": {
        "tags": [],
        "id": "246b5492-341a-4d5e-a8f7-d5ec051d11e3",
        "outputId": "6fbbdecf-94df-4ce3-8d98-ba84e4ef88b5",
        "colab": {
          "base_uri": "https://localhost:8080/",
          "height": 68
        }
      },
      "outputs": [
        {
          "output_type": "execute_result",
          "data": {
            "text/plain": [
              "Matrix([\n",
              "[ sqrt(2)/2],\n",
              "[-sqrt(2)/2]])"
            ],
            "text/latex": "$\\displaystyle \\left[\\begin{matrix}\\frac{\\sqrt{2}}{2}\\\\- \\frac{\\sqrt{2}}{2}\\end{matrix}\\right]$"
          },
          "metadata": {},
          "execution_count": 5
        }
      ],
      "source": [
        "# 단위벡터로 변환\n",
        "v2=v2/v2.norm()\n",
        "v2"
      ]
    },
    {
      "cell_type": "code",
      "execution_count": null,
      "id": "3ed9ff28-2456-4091-b3d0-e630665cb38e",
      "metadata": {
        "tags": [],
        "id": "3ed9ff28-2456-4091-b3d0-e630665cb38e",
        "outputId": "6363f604-f108-42ce-ebc0-2c668493224a",
        "colab": {
          "base_uri": "https://localhost:8080/",
          "height": 37
        }
      },
      "outputs": [
        {
          "output_type": "execute_result",
          "data": {
            "text/plain": [
              "0"
            ],
            "text/latex": "$\\displaystyle 0$"
          },
          "metadata": {},
          "execution_count": 6
        }
      ],
      "source": [
        "# 직교함을 증명\n",
        "v1.dot(v2)"
      ]
    },
    {
      "cell_type": "markdown",
      "id": "f3365f74-baf8-4a7d-a19b-215fb3196e74",
      "metadata": {
        "id": "f3365f74-baf8-4a7d-a19b-215fb3196e74"
      },
      "source": [
        "### 3차원 벡터 u_1=(1,1,1),u_2=(1,0,1),u_3=(-1,1,0) 은 서로 독립이지만 직교하지는 않는다. u_1 방향의 단위 벡터를 v_1,  v_1에 수직인 단위 벡터를 만들어 v_2, v_1,v_2에 수직인 단위 벡터를 만들어 v_3라고 하고, u_1,u_2,u_3를 v_1,v_2,v_3의 선형결합으로 표현하여 보아라"
      ]
    },
    {
      "cell_type": "code",
      "execution_count": null,
      "id": "375a9a3d-966b-439e-87bd-41d79609005f",
      "metadata": {
        "tags": [],
        "id": "375a9a3d-966b-439e-87bd-41d79609005f",
        "outputId": "60c25578-d06e-450f-d112-3a98a5bad46c",
        "colab": {
          "base_uri": "https://localhost:8080/",
          "height": 37
        }
      },
      "outputs": [
        {
          "output_type": "execute_result",
          "data": {
            "text/plain": [
              "1"
            ],
            "text/latex": "$\\displaystyle 1$"
          },
          "metadata": {},
          "execution_count": 7
        }
      ],
      "source": [
        "u1,u2,u3=sp.Matrix([1,1,1]),sp.Matrix([1,0,1]),sp.Matrix([-1,1,0])\n",
        "# 벡터를 벡터의 크기로 나눔\n",
        "v1=u1/u1.norm()\n",
        "v1.norm() # 단위벡터 확인"
      ]
    },
    {
      "cell_type": "code",
      "execution_count": null,
      "id": "113da976-78ac-432e-a994-070d40923e03",
      "metadata": {
        "tags": [],
        "id": "113da976-78ac-432e-a994-070d40923e03",
        "outputId": "61c67f1b-8860-4c19-d9b2-ba8f031eb053",
        "colab": {
          "base_uri": "https://localhost:8080/",
          "height": 88
        }
      },
      "outputs": [
        {
          "output_type": "execute_result",
          "data": {
            "text/plain": [
              "Matrix([\n",
              "[sqrt(3)/3],\n",
              "[sqrt(3)/3],\n",
              "[sqrt(3)/3]])"
            ],
            "text/latex": "$\\displaystyle \\left[\\begin{matrix}\\frac{\\sqrt{3}}{3}\\\\\\frac{\\sqrt{3}}{3}\\\\\\frac{\\sqrt{3}}{3}\\end{matrix}\\right]$"
          },
          "metadata": {},
          "execution_count": 8
        }
      ],
      "source": [
        "v1"
      ]
    },
    {
      "cell_type": "code",
      "execution_count": null,
      "id": "217f1ff5-eec1-4ef8-ac24-870b8cd068a7",
      "metadata": {
        "tags": [],
        "id": "217f1ff5-eec1-4ef8-ac24-870b8cd068a7",
        "outputId": "3ab89690-49bb-440d-caa2-96bb211ee183",
        "colab": {
          "base_uri": "https://localhost:8080/",
          "height": 88
        }
      },
      "outputs": [
        {
          "output_type": "execute_result",
          "data": {
            "text/plain": [
              "Matrix([\n",
              "[ sqrt(6)/6],\n",
              "[-sqrt(6)/3],\n",
              "[ sqrt(6)/6]])"
            ],
            "text/latex": "$\\displaystyle \\left[\\begin{matrix}\\frac{\\sqrt{6}}{6}\\\\- \\frac{\\sqrt{6}}{3}\\\\\\frac{\\sqrt{6}}{6}\\end{matrix}\\right]$"
          },
          "metadata": {},
          "execution_count": 9
        }
      ],
      "source": [
        "v2=u2-((u2.dot(v1))/(v1.norm()))*v1\n",
        "# 단위벡터로 변환\n",
        "v2=v2/v2.norm()\n",
        "v2"
      ]
    },
    {
      "cell_type": "code",
      "execution_count": null,
      "id": "b0f95c50-c0f7-45e7-adcc-2ad883f7e66e",
      "metadata": {
        "tags": [],
        "id": "b0f95c50-c0f7-45e7-adcc-2ad883f7e66e",
        "outputId": "8bd0c87e-6304-4083-f8ef-1fa75c60aa44",
        "colab": {
          "base_uri": "https://localhost:8080/",
          "height": 37
        }
      },
      "outputs": [
        {
          "output_type": "execute_result",
          "data": {
            "text/plain": [
              "0"
            ],
            "text/latex": "$\\displaystyle 0$"
          },
          "metadata": {},
          "execution_count": 10
        }
      ],
      "source": [
        "# 직교함을 증명\n",
        "v1.dot(v2)"
      ]
    },
    {
      "cell_type": "code",
      "execution_count": null,
      "id": "c00693c4-acac-4505-b93a-26cf24cc4618",
      "metadata": {
        "tags": [],
        "id": "c00693c4-acac-4505-b93a-26cf24cc4618",
        "outputId": "d9c200b3-89c9-4979-e001-09a6c9aa50c6",
        "colab": {
          "base_uri": "https://localhost:8080/",
          "height": 78
        }
      },
      "outputs": [
        {
          "output_type": "execute_result",
          "data": {
            "text/plain": [
              "Matrix([\n",
              "[-1/2],\n",
              "[   0],\n",
              "[ 1/2]])"
            ],
            "text/latex": "$\\displaystyle \\left[\\begin{matrix}- \\frac{1}{2}\\\\0\\\\\\frac{1}{2}\\end{matrix}\\right]$"
          },
          "metadata": {},
          "execution_count": 11
        }
      ],
      "source": [
        "v3=u3-((u3.dot(v1))/(v1.norm()))*v1-((u3.dot(v2))/(v2.norm()))*v2\n",
        "v3"
      ]
    },
    {
      "cell_type": "code",
      "execution_count": null,
      "id": "8d6a0600-8341-47a5-af03-53f12b598146",
      "metadata": {
        "tags": [],
        "id": "8d6a0600-8341-47a5-af03-53f12b598146",
        "outputId": "1a4ed4a1-28eb-47bc-adc6-df0d6ed332a2",
        "colab": {
          "base_uri": "https://localhost:8080/",
          "height": 88
        }
      },
      "outputs": [
        {
          "output_type": "execute_result",
          "data": {
            "text/plain": [
              "Matrix([\n",
              "[-sqrt(2)/2],\n",
              "[         0],\n",
              "[ sqrt(2)/2]])"
            ],
            "text/latex": "$\\displaystyle \\left[\\begin{matrix}- \\frac{\\sqrt{2}}{2}\\\\0\\\\\\frac{\\sqrt{2}}{2}\\end{matrix}\\right]$"
          },
          "metadata": {},
          "execution_count": 12
        }
      ],
      "source": [
        "# 단위벡터로 변환\n",
        "v3=v3/v3.norm()\n",
        "v3"
      ]
    },
    {
      "cell_type": "code",
      "execution_count": null,
      "id": "710afbf3-fcbe-4ff1-a9db-e9d234ad9bfb",
      "metadata": {
        "tags": [],
        "id": "710afbf3-fcbe-4ff1-a9db-e9d234ad9bfb",
        "outputId": "aa4c597c-2b70-4a0d-f859-25ed88fcc0e1",
        "colab": {
          "base_uri": "https://localhost:8080/"
        }
      },
      "outputs": [
        {
          "output_type": "execute_result",
          "data": {
            "text/plain": [
              "(0, 0)"
            ]
          },
          "metadata": {},
          "execution_count": 13
        }
      ],
      "source": [
        "# 직교함을 증명\n",
        "v1.dot(v3),v2.dot(v3)"
      ]
    },
    {
      "cell_type": "markdown",
      "id": "da596c79-e840-415f-9d57-a893f8642118",
      "metadata": {
        "id": "da596c79-e840-415f-9d57-a893f8642118"
      },
      "source": [
        "# QR Decomposition"
      ]
    },
    {
      "cell_type": "code",
      "execution_count": null,
      "id": "62d53cce-5457-4e7f-a884-c3e01481576a",
      "metadata": {
        "tags": [],
        "id": "62d53cce-5457-4e7f-a884-c3e01481576a",
        "outputId": "9f8ac1da-28fe-43ed-f4bb-5d0e54c8ba85",
        "colab": {
          "base_uri": "https://localhost:8080/",
          "height": 78
        }
      },
      "outputs": [
        {
          "output_type": "execute_result",
          "data": {
            "text/plain": [
              "Matrix([\n",
              "[1, 1, -1],\n",
              "[1, 0,  1],\n",
              "[1, 1,  0]])"
            ],
            "text/latex": "$\\displaystyle \\left[\\begin{matrix}1 & 1 & -1\\\\1 & 0 & 1\\\\1 & 1 & 0\\end{matrix}\\right]$"
          },
          "metadata": {},
          "execution_count": 14
        }
      ],
      "source": [
        "# QR 분해 수행\n",
        "from sympy import Matrix\n",
        "A=Matrix([u1.T,u2.T,u3.T])\n",
        "A=A.T\n",
        "A"
      ]
    },
    {
      "cell_type": "code",
      "execution_count": null,
      "id": "452d3bba-5b8d-4e90-b191-28fd480c960e",
      "metadata": {
        "tags": [],
        "id": "452d3bba-5b8d-4e90-b191-28fd480c960e",
        "outputId": "d0b6da95-5761-49db-9540-66cc94e0b939",
        "colab": {
          "base_uri": "https://localhost:8080/",
          "height": 88
        }
      },
      "outputs": [
        {
          "output_type": "execute_result",
          "data": {
            "text/plain": [
              "Matrix([\n",
              "[sqrt(3)/3,  sqrt(6)/6, -sqrt(2)/2],\n",
              "[sqrt(3)/3, -sqrt(6)/3,          0],\n",
              "[sqrt(3)/3,  sqrt(6)/6,  sqrt(2)/2]])"
            ],
            "text/latex": "$\\displaystyle \\left[\\begin{matrix}\\frac{\\sqrt{3}}{3} & \\frac{\\sqrt{6}}{6} & - \\frac{\\sqrt{2}}{2}\\\\\\frac{\\sqrt{3}}{3} & - \\frac{\\sqrt{6}}{3} & 0\\\\\\frac{\\sqrt{3}}{3} & \\frac{\\sqrt{6}}{6} & \\frac{\\sqrt{2}}{2}\\end{matrix}\\right]$"
          },
          "metadata": {},
          "execution_count": 15
        }
      ],
      "source": [
        "# QR 분해\n",
        "Q,R=A.QRdecomposition()\n",
        "Q"
      ]
    },
    {
      "cell_type": "code",
      "execution_count": null,
      "id": "e9b1aad8-e982-40fb-ba3d-d925f728b450",
      "metadata": {
        "tags": [],
        "id": "e9b1aad8-e982-40fb-ba3d-d925f728b450",
        "outputId": "b5223a45-6263-4582-d35f-397b6c48aec4",
        "colab": {
          "base_uri": "https://localhost:8080/",
          "height": 88
        }
      },
      "outputs": [
        {
          "output_type": "execute_result",
          "data": {
            "text/plain": [
              "Matrix([\n",
              "[sqrt(3), 2*sqrt(3)/3,          0],\n",
              "[      0,   sqrt(6)/3, -sqrt(6)/2],\n",
              "[      0,           0,  sqrt(2)/2]])"
            ],
            "text/latex": "$\\displaystyle \\left[\\begin{matrix}\\sqrt{3} & \\frac{2 \\sqrt{3}}{3} & 0\\\\0 & \\frac{\\sqrt{6}}{3} & - \\frac{\\sqrt{6}}{2}\\\\0 & 0 & \\frac{\\sqrt{2}}{2}\\end{matrix}\\right]$"
          },
          "metadata": {},
          "execution_count": 16
        }
      ],
      "source": [
        "R"
      ]
    },
    {
      "cell_type": "code",
      "execution_count": null,
      "id": "cd3f5053-8e40-47ec-9ebc-7c92662a201c",
      "metadata": {
        "tags": [],
        "id": "cd3f5053-8e40-47ec-9ebc-7c92662a201c",
        "outputId": "4b268ab3-bb89-4fd9-a3fb-15a22ca69629",
        "colab": {
          "base_uri": "https://localhost:8080/"
        }
      },
      "outputs": [
        {
          "output_type": "stream",
          "name": "stdout",
          "text": [
            "1열과 2열의 내적: 0\n",
            "1열과 3열의 내적: 0\n",
            "2열과 3열의 내적: 0\n"
          ]
        }
      ],
      "source": [
        "# Q의 열들이 서로 직각인지 확인\n",
        "import numpy as np\n",
        "\n",
        "for i in range(A.cols):\n",
        "    for j in range(i):\n",
        "        if i != j:\n",
        "            out=Q[:,j].transpose() @ Q[:,i]\n",
        "            out=np.array(out)\n",
        "            print(f'{j+1}열과 {i+1}열의 내적: {out[0][0]}')"
      ]
    },
    {
      "cell_type": "code",
      "execution_count": null,
      "id": "2995cccd-fa68-48c3-93d9-c42dbc55f687",
      "metadata": {
        "tags": [],
        "id": "2995cccd-fa68-48c3-93d9-c42dbc55f687",
        "outputId": "69618350-ae64-42be-b9ac-1a90419d56d5",
        "colab": {
          "base_uri": "https://localhost:8080/",
          "height": 78
        }
      },
      "outputs": [
        {
          "output_type": "execute_result",
          "data": {
            "text/plain": [
              "Matrix([\n",
              "[0, 0, 0],\n",
              "[0, 0, 0],\n",
              "[0, 0, 0]])"
            ],
            "text/latex": "$\\displaystyle \\left[\\begin{matrix}0 & 0 & 0\\\\0 & 0 & 0\\\\0 & 0 & 0\\end{matrix}\\right]$"
          },
          "metadata": {},
          "execution_count": 18
        }
      ],
      "source": [
        "A-Q@R"
      ]
    },
    {
      "cell_type": "code",
      "execution_count": null,
      "id": "866d8ce0-5fca-4683-a218-6e61c094182b",
      "metadata": {
        "tags": [],
        "id": "866d8ce0-5fca-4683-a218-6e61c094182b",
        "outputId": "2f4f530e-ac0e-405f-fad0-859ccded9868",
        "colab": {
          "base_uri": "https://localhost:8080/",
          "height": 37
        }
      },
      "outputs": [
        {
          "output_type": "execute_result",
          "data": {
            "text/plain": [
              "-1"
            ],
            "text/latex": "$\\displaystyle -1$"
          },
          "metadata": {},
          "execution_count": 19
        }
      ],
      "source": [
        "from sympy import det\n",
        "det(Q)"
      ]
    },
    {
      "cell_type": "markdown",
      "id": "9b05291d-374b-4aac-9885-910317876208",
      "metadata": {
        "id": "9b05291d-374b-4aac-9885-910317876208"
      },
      "source": [
        "# Eigenvalue Decomposition"
      ]
    },
    {
      "cell_type": "code",
      "source": [
        "from sympy import Matrix, symbols, solve"
      ],
      "metadata": {
        "id": "c3AhmU3UaFwn"
      },
      "id": "c3AhmU3UaFwn",
      "execution_count": null,
      "outputs": []
    },
    {
      "cell_type": "code",
      "execution_count": null,
      "id": "c30f3c65-9645-4246-94b4-27a6e413377c",
      "metadata": {
        "tags": [],
        "id": "c30f3c65-9645-4246-94b4-27a6e413377c",
        "outputId": "d92a8d54-72af-4361-bea0-ea9cf55e568c",
        "colab": {
          "base_uri": "https://localhost:8080/",
          "height": 78
        }
      },
      "outputs": [
        {
          "output_type": "execute_result",
          "data": {
            "text/plain": [
              "Matrix([\n",
              "[ 2, 0, -1],\n",
              "[ 0, 4,  0],\n",
              "[-1, 0,  1]])"
            ],
            "text/latex": "$\\displaystyle \\left[\\begin{matrix}2 & 0 & -1\\\\0 & 4 & 0\\\\-1 & 0 & 1\\end{matrix}\\right]$"
          },
          "metadata": {},
          "execution_count": 21
        }
      ],
      "source": [
        "A=Matrix(3,3,[2,0,-1,0,4,0,-1,0,1])\n",
        "A"
      ]
    },
    {
      "cell_type": "code",
      "execution_count": null,
      "id": "09239755-aaa6-4319-81c2-56ba0b95313d",
      "metadata": {
        "tags": [],
        "id": "09239755-aaa6-4319-81c2-56ba0b95313d",
        "outputId": "6f5863fa-e25c-4a1d-d1e2-78140dfbda93",
        "colab": {
          "base_uri": "https://localhost:8080/"
        }
      },
      "outputs": [
        {
          "output_type": "execute_result",
          "data": {
            "text/plain": [
              "[(0, x2, 0, 4),\n",
              " (x3*(-1/2 + sqrt(5)/2), 0, x3, 3/2 - sqrt(5)/2),\n",
              " (x3*(-sqrt(5)/2 - 1/2), 0, x3, sqrt(5)/2 + 3/2),\n",
              " (0, 0, 0, e)]"
            ]
          },
          "metadata": {},
          "execution_count": 22
        }
      ],
      "source": [
        "x1,x2,x3=symbols('x1 x2 x3') # 기호 정의\n",
        "e=symbols('e',nonzero=True) # 기호 정의\n",
        "x=Matrix(3,1,[x1,x2,x3])\n",
        "# 행렬에서의 곱은 '@'을 쓰는게 좋다.\n",
        "res=solve(A@x-e*x,[x1,x2,x3,e])\n",
        "res"
      ]
    },
    {
      "cell_type": "code",
      "source": [
        "# 첫번째 eigenvector 살펴보기\n",
        "# x2에 1 대입\n",
        "ev0 = [val.subs('x2',1) for val in res[0]]\n",
        "# eigenvector, eigenvalue 분리\n",
        "x,e=Matrix(ev0[:3]),ev0[-1]\n",
        "# 검증\n",
        "A@x-e*x"
      ],
      "metadata": {
        "id": "P6Cu6T6fc2qB",
        "outputId": "cf1c73e2-5305-4626-c9f6-f7ce73960bc0",
        "colab": {
          "base_uri": "https://localhost:8080/",
          "height": 78
        }
      },
      "id": "P6Cu6T6fc2qB",
      "execution_count": null,
      "outputs": [
        {
          "output_type": "execute_result",
          "data": {
            "text/plain": [
              "Matrix([\n",
              "[0],\n",
              "[0],\n",
              "[0]])"
            ],
            "text/latex": "$\\displaystyle \\left[\\begin{matrix}0\\\\0\\\\0\\end{matrix}\\right]$"
          },
          "metadata": {},
          "execution_count": 23
        }
      ]
    },
    {
      "cell_type": "code",
      "execution_count": null,
      "id": "5e75da83-74ef-4a74-92ee-42b78ca9860e",
      "metadata": {
        "tags": [],
        "id": "5e75da83-74ef-4a74-92ee-42b78ca9860e",
        "outputId": "f2f02c2c-28a1-497d-b00c-65f4b83bb053",
        "colab": {
          "base_uri": "https://localhost:8080/",
          "height": 88
        }
      },
      "outputs": [
        {
          "output_type": "execute_result",
          "data": {
            "text/plain": [
              "Matrix([\n",
              "[-2 - (-1/2 + sqrt(5)/2)*(3/2 - sqrt(5)/2) + sqrt(5)],\n",
              "[                                                  0],\n",
              "[                                                  0]])"
            ],
            "text/latex": "$\\displaystyle \\left[\\begin{matrix}-2 - \\left(- \\frac{1}{2} + \\frac{\\sqrt{5}}{2}\\right) \\left(\\frac{3}{2} - \\frac{\\sqrt{5}}{2}\\right) + \\sqrt{5}\\\\0\\\\0\\end{matrix}\\right]$"
          },
          "metadata": {},
          "execution_count": 24
        }
      ],
      "source": [
        "# 두번째 eigenvector 살펴보기\n",
        "# x3에 1 대입\n",
        "ev = [val.subs('x3',1) for val in res[1]]\n",
        "# eigenvector, eigenvalue 분리\n",
        "x,e=Matrix(ev[:3]),ev[-1]\n",
        "# 검증\n",
        "A@x-e*x"
      ]
    },
    {
      "cell_type": "code",
      "source": [
        "_[0].simplify()"
      ],
      "metadata": {
        "id": "esuZQQKLwmtG",
        "outputId": "ee0e8cfd-5bd1-4c3a-ec35-020341748a49",
        "colab": {
          "base_uri": "https://localhost:8080/",
          "height": 37
        }
      },
      "id": "esuZQQKLwmtG",
      "execution_count": null,
      "outputs": [
        {
          "output_type": "execute_result",
          "data": {
            "text/plain": [
              "0"
            ],
            "text/latex": "$\\displaystyle 0$"
          },
          "metadata": {},
          "execution_count": 25
        }
      ]
    },
    {
      "cell_type": "code",
      "source": [
        "# 세번째 eigenvector 살펴보기\n",
        "# x3에 1 대입\n",
        "ev = [val.subs('x3',1) for val in res[2]]\n",
        "# eigenvector, eigenvalue 분리\n",
        "x,e=Matrix(ev[:3]),ev[-1]\n",
        "# 검증\n",
        "A@x-e*x"
      ],
      "metadata": {
        "id": "_1-yu26camAl",
        "outputId": "9a27b095-df85-4491-a4f6-a0e12eec7f36",
        "colab": {
          "base_uri": "https://localhost:8080/",
          "height": 88
        }
      },
      "id": "_1-yu26camAl",
      "execution_count": null,
      "outputs": [
        {
          "output_type": "execute_result",
          "data": {
            "text/plain": [
              "Matrix([\n",
              "[-sqrt(5) - 2 - (-sqrt(5)/2 - 1/2)*(sqrt(5)/2 + 3/2)],\n",
              "[                                                  0],\n",
              "[                                                  0]])"
            ],
            "text/latex": "$\\displaystyle \\left[\\begin{matrix}- \\sqrt{5} - 2 - \\left(- \\frac{\\sqrt{5}}{2} - \\frac{1}{2}\\right) \\left(\\frac{\\sqrt{5}}{2} + \\frac{3}{2}\\right)\\\\0\\\\0\\end{matrix}\\right]$"
          },
          "metadata": {},
          "execution_count": 26
        }
      ]
    },
    {
      "cell_type": "code",
      "source": [
        "_[0].simplify()"
      ],
      "metadata": {
        "id": "CmhBURUJw-Vj",
        "outputId": "9288c365-3886-4a23-aa48-58aa92b8e9cf",
        "colab": {
          "base_uri": "https://localhost:8080/",
          "height": 37
        }
      },
      "id": "CmhBURUJw-Vj",
      "execution_count": null,
      "outputs": [
        {
          "output_type": "execute_result",
          "data": {
            "text/plain": [
              "0"
            ],
            "text/latex": "$\\displaystyle 0$"
          },
          "metadata": {},
          "execution_count": 27
        }
      ]
    },
    {
      "cell_type": "code",
      "source": [
        "# 대입: 이름이 'x3'인 Symbol을 1로 바꾸기\n",
        "# 대입 사전 정의\n",
        "subs_dict = {'x3': 1}\n",
        "\n",
        "# 항목 전체에 subs() 적용\n",
        "ev1 = [val.subs(subs_dict) for val in res[1]]\n",
        "Matrix(ev1)"
      ],
      "metadata": {
        "id": "7LSxW_4MuOvN",
        "outputId": "efd0cb87-5670-409b-9681-6a4e59858016",
        "colab": {
          "base_uri": "https://localhost:8080/",
          "height": 105
        }
      },
      "id": "7LSxW_4MuOvN",
      "execution_count": null,
      "outputs": [
        {
          "output_type": "execute_result",
          "data": {
            "text/plain": [
              "Matrix([\n",
              "[-1/2 + sqrt(5)/2],\n",
              "[               0],\n",
              "[               1],\n",
              "[ 3/2 - sqrt(5)/2]])"
            ],
            "text/latex": "$\\displaystyle \\left[\\begin{matrix}- \\frac{1}{2} + \\frac{\\sqrt{5}}{2}\\\\0\\\\1\\\\\\frac{3}{2} - \\frac{\\sqrt{5}}{2}\\end{matrix}\\right]$"
          },
          "metadata": {},
          "execution_count": 28
        }
      ]
    },
    {
      "cell_type": "code",
      "execution_count": null,
      "id": "26d4abca-682f-43c1-8488-4ed8f2e64dfa",
      "metadata": {
        "tags": [],
        "id": "26d4abca-682f-43c1-8488-4ed8f2e64dfa",
        "outputId": "7d4bbaf5-6892-4cc3-b8f8-12d2fe378100",
        "colab": {
          "base_uri": "https://localhost:8080/",
          "height": 88
        }
      },
      "outputs": [
        {
          "output_type": "execute_result",
          "data": {
            "text/plain": [
              "Matrix([\n",
              "[4,               0,               0],\n",
              "[0, 3/2 - sqrt(5)/2,               0],\n",
              "[0,               0, sqrt(5)/2 + 3/2]])"
            ],
            "text/latex": "$\\displaystyle \\left[\\begin{matrix}4 & 0 & 0\\\\0 & \\frac{3}{2} - \\frac{\\sqrt{5}}{2} & 0\\\\0 & 0 & \\frac{\\sqrt{5}}{2} + \\frac{3}{2}\\end{matrix}\\right]$"
          },
          "metadata": {},
          "execution_count": 29
        }
      ],
      "source": [
        "P,D=A.diagonalize()\n",
        "D"
      ]
    },
    {
      "cell_type": "code",
      "execution_count": null,
      "id": "53138aa9-ff0c-42eb-9a97-0d2a184677e6",
      "metadata": {
        "tags": [],
        "id": "53138aa9-ff0c-42eb-9a97-0d2a184677e6",
        "outputId": "e16f6a7e-681a-4ab5-892d-55052e8bdc87",
        "colab": {
          "base_uri": "https://localhost:8080/",
          "height": 81
        }
      },
      "outputs": [
        {
          "output_type": "execute_result",
          "data": {
            "text/plain": [
              "Matrix([\n",
              "[0, -1/2 + sqrt(5)/2, -sqrt(5)/2 - 1/2],\n",
              "[1,                0,                0],\n",
              "[0,                1,                1]])"
            ],
            "text/latex": "$\\displaystyle \\left[\\begin{matrix}0 & - \\frac{1}{2} + \\frac{\\sqrt{5}}{2} & - \\frac{\\sqrt{5}}{2} - \\frac{1}{2}\\\\1 & 0 & 0\\\\0 & 1 & 1\\end{matrix}\\right]$"
          },
          "metadata": {},
          "execution_count": 30
        }
      ],
      "source": [
        "P"
      ]
    },
    {
      "cell_type": "code",
      "execution_count": null,
      "id": "e7d381a3-00b4-4761-8e2c-5de1a88f783f",
      "metadata": {
        "tags": [],
        "id": "e7d381a3-00b4-4761-8e2c-5de1a88f783f",
        "outputId": "2b11b0c7-7394-4647-d0ef-24b8f709670a",
        "colab": {
          "base_uri": "https://localhost:8080/"
        }
      },
      "outputs": [
        {
          "output_type": "stream",
          "name": "stdout",
          "text": [
            "⎡0⎤\n",
            "⎢ ⎥\n",
            "⎢0⎥\n",
            "⎢ ⎥\n",
            "⎣0⎦\n",
            "⎡-0.e-124⎤\n",
            "⎢        ⎥\n",
            "⎢   0    ⎥\n",
            "⎢        ⎥\n",
            "⎣   0    ⎦\n",
            "⎡0.e-123⎤\n",
            "⎢       ⎥\n",
            "⎢   0   ⎥\n",
            "⎢       ⎥\n",
            "⎣   0   ⎦\n"
          ]
        }
      ],
      "source": [
        "from sympy import pprint\n",
        "# 고유벡터인지 검증\n",
        "for i in range(3):\n",
        "    out=A@P[:,i]-D[i,i]*P[:,i]\n",
        "    #pprint()를 사용하면 행렬 모양 출력\n",
        "    pprint(out.evalf())"
      ]
    },
    {
      "cell_type": "code",
      "execution_count": null,
      "id": "fbdf2829-d5e1-4e3b-9a3c-49e554606ede",
      "metadata": {
        "tags": [],
        "id": "fbdf2829-d5e1-4e3b-9a3c-49e554606ede",
        "outputId": "1c7e8598-1284-4f88-94c7-4a8d875bd26b",
        "colab": {
          "base_uri": "https://localhost:8080/"
        }
      },
      "outputs": [
        {
          "output_type": "stream",
          "name": "stdout",
          "text": [
            "[1.0]\n",
            "[1.38196601125011]\n",
            "[3.61803398874989]\n"
          ]
        }
      ],
      "source": [
        "# 고유벡터의 크기 출력\n",
        "for i in range(3):\n",
        "    out=P[:,i].T @ P[:,i]\n",
        "    pprint(out.evalf())"
      ]
    },
    {
      "cell_type": "code",
      "execution_count": null,
      "id": "c81de81a-5841-4bf9-8f5a-d44aca015bbc",
      "metadata": {
        "tags": [],
        "id": "c81de81a-5841-4bf9-8f5a-d44aca015bbc",
        "outputId": "64fa4cc1-5144-40b5-ac78-b316655b1e83",
        "colab": {
          "base_uri": "https://localhost:8080/",
          "height": 78
        }
      },
      "outputs": [
        {
          "output_type": "execute_result",
          "data": {
            "text/plain": [
              "Matrix([\n",
              "[1.0,                0,                0],\n",
              "[  0, 1.38196601125011,          0.e-125],\n",
              "[  0,          0.e-125, 3.61803398874989]])"
            ],
            "text/latex": "$\\displaystyle \\left[\\begin{matrix}1.0 & 0 & 0\\\\0 & 1.38196601125011 & 2.0 \\cdot 10^{-125}\\\\0 & 2.0 \\cdot 10^{-125} & 3.61803398874989\\end{matrix}\\right]$"
          },
          "metadata": {},
          "execution_count": 33
        }
      ],
      "source": [
        "O=P.T@P\n",
        "O.evalf()"
      ]
    },
    {
      "cell_type": "code",
      "execution_count": null,
      "id": "a3507af6-17ab-41dd-9fd7-e870e1da8c5f",
      "metadata": {
        "tags": [],
        "id": "a3507af6-17ab-41dd-9fd7-e870e1da8c5f",
        "outputId": "f969df46-10b8-4da3-e50e-9b808904ce15",
        "colab": {
          "base_uri": "https://localhost:8080/",
          "height": 115
        }
      },
      "outputs": [
        {
          "output_type": "execute_result",
          "data": {
            "text/plain": [
              "Matrix([\n",
              "[sqrt(5)*(-sqrt(5)/2 - 1/2)*(sqrt(5)/2 + 3/2)/5 - (-1/2 + sqrt(5)/2)*(1 - sqrt(5))*(3/2 - sqrt(5)/2)/(-5 + sqrt(5)) + 2, 0, -1 - (-1/2 + sqrt(5)/2)*(3/2 - sqrt(5)/2)/(5/2 - sqrt(5)/2) - (1/2 - sqrt(5)/10)*(-sqrt(5)/2 - 1/2)*(sqrt(5)/2 + 3/2)],\n",
              "[                                                                                                                     0, 0,                                                                                                                     0],\n",
              "[                                     -1 - (1 - sqrt(5))*(3/2 - sqrt(5)/2)/(-5 + sqrt(5)) + sqrt(5)*(sqrt(5)/2 + 3/2)/5, 0,                                       -(1/2 - sqrt(5)/10)*(sqrt(5)/2 + 3/2) - (3/2 - sqrt(5)/2)/(5/2 - sqrt(5)/2) + 1]])"
            ],
            "text/latex": "$\\displaystyle \\left[\\begin{matrix}\\frac{\\sqrt{5} \\left(- \\frac{\\sqrt{5}}{2} - \\frac{1}{2}\\right) \\left(\\frac{\\sqrt{5}}{2} + \\frac{3}{2}\\right)}{5} - \\frac{\\left(- \\frac{1}{2} + \\frac{\\sqrt{5}}{2}\\right) \\left(1 - \\sqrt{5}\\right) \\left(\\frac{3}{2} - \\frac{\\sqrt{5}}{2}\\right)}{-5 + \\sqrt{5}} + 2 & 0 & -1 - \\frac{\\left(- \\frac{1}{2} + \\frac{\\sqrt{5}}{2}\\right) \\left(\\frac{3}{2} - \\frac{\\sqrt{5}}{2}\\right)}{\\frac{5}{2} - \\frac{\\sqrt{5}}{2}} - \\left(\\frac{1}{2} - \\frac{\\sqrt{5}}{10}\\right) \\left(- \\frac{\\sqrt{5}}{2} - \\frac{1}{2}\\right) \\left(\\frac{\\sqrt{5}}{2} + \\frac{3}{2}\\right)\\\\0 & 0 & 0\\\\-1 - \\frac{\\left(1 - \\sqrt{5}\\right) \\left(\\frac{3}{2} - \\frac{\\sqrt{5}}{2}\\right)}{-5 + \\sqrt{5}} + \\frac{\\sqrt{5} \\left(\\frac{\\sqrt{5}}{2} + \\frac{3}{2}\\right)}{5} & 0 & - \\left(\\frac{1}{2} - \\frac{\\sqrt{5}}{10}\\right) \\left(\\frac{\\sqrt{5}}{2} + \\frac{3}{2}\\right) - \\frac{\\frac{3}{2} - \\frac{\\sqrt{5}}{2}}{\\frac{5}{2} - \\frac{\\sqrt{5}}{2}} + 1\\end{matrix}\\right]$"
          },
          "metadata": {},
          "execution_count": 34
        }
      ],
      "source": [
        "A-P@D@P.inv() # P.inv()는 P의 역함수"
      ]
    },
    {
      "cell_type": "code",
      "execution_count": null,
      "id": "8c93f8fc-0fd5-4e64-b1bc-c52ecee9987a",
      "metadata": {
        "tags": [],
        "id": "8c93f8fc-0fd5-4e64-b1bc-c52ecee9987a",
        "outputId": "5feb4f58-0a8b-499c-f698-dc0be2f20e7a",
        "colab": {
          "base_uri": "https://localhost:8080/",
          "height": 78
        }
      },
      "outputs": [
        {
          "output_type": "execute_result",
          "data": {
            "text/plain": [
              "Matrix([\n",
              "[-0.e-127, 0, 0.e-126],\n",
              "[       0, 0,       0],\n",
              "[ 0.e-126, 0, 0.e-125]])"
            ],
            "text/latex": "$\\displaystyle \\left[\\begin{matrix}-9.0 \\cdot 10^{-128} & 0 & 1.0 \\cdot 10^{-126}\\\\0 & 0 & 0\\\\1.0 \\cdot 10^{-126} & 0 & 2.0 \\cdot 10^{-125}\\end{matrix}\\right]$"
          },
          "metadata": {},
          "execution_count": 35
        }
      ],
      "source": [
        "_.evalf() # 도는 값들을 숫자로 계산"
      ]
    },
    {
      "cell_type": "code",
      "execution_count": null,
      "id": "d9b1ac86-bdbe-4e47-b79c-09cd014b9d82",
      "metadata": {
        "tags": [],
        "id": "d9b1ac86-bdbe-4e47-b79c-09cd014b9d82",
        "outputId": "6ddbf065-c9e8-42fe-a654-7f1e716d4b2e",
        "colab": {
          "base_uri": "https://localhost:8080/"
        }
      },
      "outputs": [
        {
          "output_type": "execute_result",
          "data": {
            "text/plain": [
              "[(x1, x2, x3, 1/2 - sqrt(4*sqrt(5) + 9)/2),\n",
              " (x1, x2, x3, 1/2 + sqrt(4*sqrt(5) + 9)/2)]"
            ]
          },
          "metadata": {},
          "execution_count": 36
        }
      ],
      "source": [
        "sol=solve(A@x-e*x,[x1,x2,x3,e])\n",
        "sol"
      ]
    },
    {
      "cell_type": "code",
      "execution_count": null,
      "id": "d9437165-ac3d-491f-8c3c-2e885d9d8ced",
      "metadata": {
        "tags": [],
        "id": "d9437165-ac3d-491f-8c3c-2e885d9d8ced",
        "outputId": "cc6d95fc-c877-4c1c-b855-2ea6039a0854",
        "colab": {
          "base_uri": "https://localhost:8080/",
          "height": 88
        }
      },
      "outputs": [
        {
          "output_type": "execute_result",
          "data": {
            "text/plain": [
              "Matrix([\n",
              "[0, -2 - (-1/2 + sqrt(5)/2)*(3/2 - sqrt(5)/2) + sqrt(5), -sqrt(5) - 2 - (-sqrt(5)/2 - 1/2)*(sqrt(5)/2 + 3/2)],\n",
              "[0,                                                   0,                                                   0],\n",
              "[0,                                                   0,                                                   0]])"
            ],
            "text/latex": "$\\displaystyle \\left[\\begin{matrix}0 & -2 - \\left(- \\frac{1}{2} + \\frac{\\sqrt{5}}{2}\\right) \\left(\\frac{3}{2} - \\frac{\\sqrt{5}}{2}\\right) + \\sqrt{5} & - \\sqrt{5} - 2 - \\left(- \\frac{\\sqrt{5}}{2} - \\frac{1}{2}\\right) \\left(\\frac{\\sqrt{5}}{2} + \\frac{3}{2}\\right)\\\\0 & 0 & 0\\\\0 & 0 & 0\\end{matrix}\\right]$"
          },
          "metadata": {},
          "execution_count": 37
        }
      ],
      "source": [
        "A@P-P@D"
      ]
    },
    {
      "cell_type": "markdown",
      "id": "b4e21fe1-de3f-4a65-9d5c-8152a738436a",
      "metadata": {
        "id": "b4e21fe1-de3f-4a65-9d5c-8152a738436a"
      },
      "source": [
        "## numpy를 이용한 고유값 분해"
      ]
    },
    {
      "cell_type": "code",
      "execution_count": null,
      "id": "d5409ffa-3828-4f3c-8fec-0c1ebbbcc408",
      "metadata": {
        "tags": [],
        "id": "d5409ffa-3828-4f3c-8fec-0c1ebbbcc408",
        "outputId": "ed04e4c5-928c-472e-e7f4-4de2d4705188",
        "colab": {
          "base_uri": "https://localhost:8080/"
        }
      },
      "outputs": [
        {
          "output_type": "execute_result",
          "data": {
            "text/plain": [
              "array([[ 2,  0, -1],\n",
              "       [ 0,  4,  0],\n",
              "       [-1,  0,  1]])"
            ]
          },
          "metadata": {},
          "execution_count": 38
        }
      ],
      "source": [
        "A=Matrix(3,3,[2,0,-1,0,4,0,-1,0,1])\n",
        "A=np.array(A).astype(int) # 심파이형태를 넘파이로 변환\n",
        "A"
      ]
    },
    {
      "cell_type": "code",
      "source": [
        "# eig()함수를 이용해 고유값과 고유벡터 계산\n",
        "D,P=np.linalg.eig(A)\n",
        "D"
      ],
      "metadata": {
        "id": "3qghFGFCBVGz",
        "outputId": "656a22cf-1495-4511-8264-fa5fc4041382",
        "colab": {
          "base_uri": "https://localhost:8080/"
        }
      },
      "id": "3qghFGFCBVGz",
      "execution_count": null,
      "outputs": [
        {
          "output_type": "execute_result",
          "data": {
            "text/plain": [
              "array([2.61803399, 0.38196601, 4.        ])"
            ]
          },
          "metadata": {},
          "execution_count": 39
        }
      ]
    },
    {
      "cell_type": "code",
      "execution_count": null,
      "id": "60545bbe-c124-4eb1-93d3-0da106c65cea",
      "metadata": {
        "tags": [],
        "id": "60545bbe-c124-4eb1-93d3-0da106c65cea",
        "outputId": "32f06399-b677-4804-9784-fee644925c04",
        "colab": {
          "base_uri": "https://localhost:8080/"
        }
      },
      "outputs": [
        {
          "output_type": "execute_result",
          "data": {
            "text/plain": [
              "array([[ 0.85065081,  0.52573111,  0.        ],\n",
              "       [ 0.        ,  0.        ,  1.        ],\n",
              "       [-0.52573111,  0.85065081,  0.        ]])"
            ]
          },
          "metadata": {},
          "execution_count": 40
        }
      ],
      "source": [
        "P"
      ]
    },
    {
      "cell_type": "code",
      "execution_count": null,
      "id": "20f81b09-260e-463b-8b36-fd33ccc3ddd3",
      "metadata": {
        "tags": [],
        "id": "20f81b09-260e-463b-8b36-fd33ccc3ddd3",
        "outputId": "80c81d9a-e56e-47da-c851-b8e4ecf434cb",
        "colab": {
          "base_uri": "https://localhost:8080/"
        }
      },
      "outputs": [
        {
          "output_type": "stream",
          "name": "stdout",
          "text": [
            "True\n",
            "True\n",
            "True\n"
          ]
        }
      ],
      "source": [
        "# np.allclose(A,0) A가 거의 0이면 True 리턴\n",
        "for i in range(3): #\n",
        "    print(np.allclose(A@P.T[i]-D[i]*P.T[i],0))"
      ]
    },
    {
      "cell_type": "code",
      "execution_count": null,
      "id": "277b2293-b9bc-40f1-b0dd-b7d011a6f6fd",
      "metadata": {
        "tags": [],
        "id": "277b2293-b9bc-40f1-b0dd-b7d011a6f6fd",
        "outputId": "9b077a3d-4bf7-4ff4-f534-96603a17819d",
        "colab": {
          "base_uri": "https://localhost:8080/"
        }
      },
      "outputs": [
        {
          "output_type": "execute_result",
          "data": {
            "text/plain": [
              "array([[2.61803399, 0.        , 0.        ],\n",
              "       [0.        , 0.38196601, 0.        ],\n",
              "       [0.        , 0.        , 4.        ]])"
            ]
          },
          "metadata": {},
          "execution_count": 42
        }
      ],
      "source": [
        "D=np.diag(D) #대각행렬로 변환\n",
        "D"
      ]
    },
    {
      "cell_type": "code",
      "execution_count": null,
      "id": "320d83a0-db58-4021-af4e-879451043e40",
      "metadata": {
        "tags": [],
        "id": "320d83a0-db58-4021-af4e-879451043e40",
        "outputId": "35eb7c02-7721-4bd4-e545-d883b7444fea",
        "colab": {
          "base_uri": "https://localhost:8080/"
        }
      },
      "outputs": [
        {
          "output_type": "execute_result",
          "data": {
            "text/plain": [
              "True"
            ]
          },
          "metadata": {},
          "execution_count": 43
        }
      ],
      "source": [
        "# AP-PD의 거의 모든 원소가 0에 가까운지 검증\n",
        "np.allclose(A@P-P@D,0)"
      ]
    },
    {
      "cell_type": "code",
      "execution_count": null,
      "id": "64383ac3-d162-4a1b-8751-056fba061865",
      "metadata": {
        "tags": [],
        "id": "64383ac3-d162-4a1b-8751-056fba061865",
        "outputId": "5038a487-6839-43a8-a7c4-8d5b1a714dba",
        "colab": {
          "base_uri": "https://localhost:8080/",
          "height": 78
        }
      },
      "outputs": [
        {
          "output_type": "execute_result",
          "data": {
            "text/plain": [
              "Matrix([\n",
              "[  0.85065080835204, 0.525731112119133, 0.0],\n",
              "[               0.0,               0.0, 1.0],\n",
              "[-0.525731112119133,  0.85065080835204, 0.0]])"
            ],
            "text/latex": "$\\displaystyle \\left[\\begin{matrix}0.85065080835204 & 0.525731112119133 & 0.0\\\\0.0 & 0.0 & 1.0\\\\-0.525731112119133 & 0.85065080835204 & 0.0\\end{matrix}\\right]$"
          },
          "metadata": {},
          "execution_count": 44
        }
      ],
      "source": [
        "Matrix(P)"
      ]
    },
    {
      "cell_type": "code",
      "execution_count": null,
      "id": "00a079b2-bf14-4556-839d-16c56efa33ce",
      "metadata": {
        "tags": [],
        "id": "00a079b2-bf14-4556-839d-16c56efa33ce",
        "outputId": "332d5aa0-0196-4ed5-e488-ab66af78486e",
        "colab": {
          "base_uri": "https://localhost:8080/",
          "height": 78
        }
      },
      "outputs": [
        {
          "output_type": "execute_result",
          "data": {
            "text/plain": [
              "Matrix([\n",
              "[ 2.22703272882321, 0.200811415886227, 0.0],\n",
              "[              0.0,               0.0, 4.0],\n",
              "[-1.37638192047117, 0.324919696232906, 0.0]])"
            ],
            "text/latex": "$\\displaystyle \\left[\\begin{matrix}2.22703272882321 & 0.200811415886227 & 0.0\\\\0.0 & 0.0 & 4.0\\\\-1.37638192047117 & 0.324919696232906 & 0.0\\end{matrix}\\right]$"
          },
          "metadata": {},
          "execution_count": 45
        }
      ],
      "source": [
        "Matrix(A@P)"
      ]
    },
    {
      "cell_type": "code",
      "execution_count": null,
      "id": "3aa1e160-7dce-4c08-a3cb-dc0f22dd8e96",
      "metadata": {
        "tags": [],
        "id": "3aa1e160-7dce-4c08-a3cb-dc0f22dd8e96",
        "outputId": "7e37329d-9df9-48f7-e4cc-1958c8624747",
        "colab": {
          "base_uri": "https://localhost:8080/",
          "height": 78
        }
      },
      "outputs": [
        {
          "output_type": "execute_result",
          "data": {
            "text/plain": [
              "Matrix([\n",
              "[ 2.22703272882321, 0.200811415886227, 0.0],\n",
              "[              0.0,               0.0, 4.0],\n",
              "[-1.37638192047117, 0.324919696232906, 0.0]])"
            ],
            "text/latex": "$\\displaystyle \\left[\\begin{matrix}2.22703272882321 & 0.200811415886227 & 0.0\\\\0.0 & 0.0 & 4.0\\\\-1.37638192047117 & 0.324919696232906 & 0.0\\end{matrix}\\right]$"
          },
          "metadata": {},
          "execution_count": 46
        }
      ],
      "source": [
        "Matrix(P@D)"
      ]
    },
    {
      "cell_type": "code",
      "execution_count": null,
      "id": "c841ad5d-5d6c-4846-b447-8a5e9d90a932",
      "metadata": {
        "tags": [],
        "id": "c841ad5d-5d6c-4846-b447-8a5e9d90a932",
        "outputId": "296a4d99-8ef5-49ee-e76e-af24910aede6",
        "colab": {
          "base_uri": "https://localhost:8080/",
          "height": 78
        }
      },
      "outputs": [
        {
          "output_type": "execute_result",
          "data": {
            "text/plain": [
              "Matrix([\n",
              "[ 2.22703272882321],\n",
              "[              0.0],\n",
              "[-1.37638192047117]])"
            ],
            "text/latex": "$\\displaystyle \\left[\\begin{matrix}2.22703272882321\\\\0.0\\\\-1.37638192047117\\end{matrix}\\right]$"
          },
          "metadata": {},
          "execution_count": 47
        }
      ],
      "source": [
        "Matrix(A@P.T[0])"
      ]
    },
    {
      "cell_type": "code",
      "execution_count": null,
      "id": "7d74e153-cfd3-4fcb-a649-ba1e907ac6cc",
      "metadata": {
        "tags": [],
        "id": "7d74e153-cfd3-4fcb-a649-ba1e907ac6cc",
        "outputId": "489e1fbe-47c0-40a7-def1-5f7eabde9372",
        "colab": {
          "base_uri": "https://localhost:8080/",
          "height": 78
        }
      },
      "outputs": [
        {
          "output_type": "execute_result",
          "data": {
            "text/plain": [
              "Matrix([\n",
              "[2.22703272882321],\n",
              "[             0.0],\n",
              "[             0.0]])"
            ],
            "text/latex": "$\\displaystyle \\left[\\begin{matrix}2.22703272882321\\\\0.0\\\\0.0\\end{matrix}\\right]$"
          },
          "metadata": {},
          "execution_count": 48
        }
      ],
      "source": [
        "Matrix(D[0]*P.T[0])"
      ]
    },
    {
      "cell_type": "code",
      "execution_count": null,
      "id": "61c24049-2c78-4f9c-8951-79a3f68d3d5e",
      "metadata": {
        "tags": [],
        "id": "61c24049-2c78-4f9c-8951-79a3f68d3d5e",
        "outputId": "8241130d-43ce-4004-9e63-160b7a8184da",
        "colab": {
          "base_uri": "https://localhost:8080/"
        }
      },
      "outputs": [
        {
          "output_type": "stream",
          "name": "stdout",
          "text": [
            "True\n",
            "True\n",
            "True\n"
          ]
        }
      ],
      "source": [
        "# np.allclose(A,0) A가 거의 0이면 True 리턴\n",
        "for i in range(3): # i는 0부터 2까지, 각 칼럼을 선택함\n",
        "    print(np.allclose(A@P.T[i]-D[i][i]*P.T[i],0))"
      ]
    },
    {
      "cell_type": "code",
      "execution_count": null,
      "id": "93938863-f829-48d4-8a4a-75b9767d9641",
      "metadata": {
        "tags": [],
        "id": "93938863-f829-48d4-8a4a-75b9767d9641",
        "outputId": "94317a0e-ab86-4ad2-e87b-a125712e261f",
        "colab": {
          "base_uri": "https://localhost:8080/",
          "height": 78
        }
      },
      "outputs": [
        {
          "output_type": "execute_result",
          "data": {
            "text/plain": [
              "Matrix([\n",
              "[1.0, 0.0, 0.0],\n",
              "[0.0, 1.0, 0.0],\n",
              "[0.0, 0.0, 1.0]])"
            ],
            "text/latex": "$\\displaystyle \\left[\\begin{matrix}1.0 & 0.0 & 0.0\\\\0.0 & 1.0 & 0.0\\\\0.0 & 0.0 & 1.0\\end{matrix}\\right]$"
          },
          "metadata": {},
          "execution_count": 50
        }
      ],
      "source": [
        "# 각 고유벡터의 크기 계산\n",
        "Matrix(P@P.T)"
      ]
    },
    {
      "cell_type": "code",
      "execution_count": null,
      "id": "a9bdac0a-8563-4e10-8dd7-14c82be918e6",
      "metadata": {
        "tags": [],
        "id": "a9bdac0a-8563-4e10-8dd7-14c82be918e6",
        "outputId": "a4672b31-d233-4db1-87b0-444d05c39dd4",
        "colab": {
          "base_uri": "https://localhost:8080/",
          "height": 78
        }
      },
      "outputs": [
        {
          "output_type": "execute_result",
          "data": {
            "text/plain": [
              "Matrix([\n",
              "[1.0, 0.0, 0.0],\n",
              "[0.0, 1.0, 0.0],\n",
              "[0.0, 0.0, 1.0]])"
            ],
            "text/latex": "$\\displaystyle \\left[\\begin{matrix}1.0 & 0.0 & 0.0\\\\0.0 & 1.0 & 0.0\\\\0.0 & 0.0 & 1.0\\end{matrix}\\right]$"
          },
          "metadata": {},
          "execution_count": 51
        }
      ],
      "source": [
        "Matrix(P.T@P)"
      ]
    },
    {
      "cell_type": "code",
      "source": [
        "# A^n?\n",
        "A=Matrix(3,3,[2,0,-1,0,4,0,-1,0,1])\n",
        "A"
      ],
      "metadata": {
        "id": "OJOEtNrCMJn3",
        "outputId": "f96a2abb-74ed-4c16-b754-4237d94f6039",
        "colab": {
          "base_uri": "https://localhost:8080/",
          "height": 78
        }
      },
      "id": "OJOEtNrCMJn3",
      "execution_count": null,
      "outputs": [
        {
          "output_type": "execute_result",
          "data": {
            "text/plain": [
              "Matrix([\n",
              "[ 2, 0, -1],\n",
              "[ 0, 4,  0],\n",
              "[-1, 0,  1]])"
            ],
            "text/latex": "$\\displaystyle \\left[\\begin{matrix}2 & 0 & -1\\\\0 & 4 & 0\\\\-1 & 0 & 1\\end{matrix}\\right]$"
          },
          "metadata": {},
          "execution_count": 101
        }
      ]
    },
    {
      "cell_type": "code",
      "source": [
        "P,D=A.diagonalize()\n",
        "P_inv = P.inv()"
      ],
      "metadata": {
        "id": "lXYxhUwIT2Oc"
      },
      "id": "lXYxhUwIT2Oc",
      "execution_count": null,
      "outputs": []
    },
    {
      "cell_type": "code",
      "source": [
        "res=A - P @ D @ P_inv\n",
        "np.allclose(res.evalf(),np.zeros(3))"
      ],
      "metadata": {
        "id": "Ly0vqHWVbEUR",
        "outputId": "b0261af2-e39b-4356-ea7d-57d248f64313",
        "colab": {
          "base_uri": "https://localhost:8080/"
        }
      },
      "id": "Ly0vqHWVbEUR",
      "execution_count": null,
      "outputs": [
        {
          "output_type": "execute_result",
          "data": {
            "text/plain": [
              "True"
            ]
          },
          "metadata": {},
          "execution_count": 108
        }
      ]
    },
    {
      "cell_type": "code",
      "source": [
        "res1=A.pow(100)\n",
        "res2=P @ D.pow(100)  @ P_inv\n",
        "np.allclose(res1.evalf()-res2.evalf(), np.zeros(3))"
      ],
      "metadata": {
        "id": "C_Ft6wuqZTyr",
        "outputId": "9096b418-0c5b-416f-f255-9b664fec99aa",
        "colab": {
          "base_uri": "https://localhost:8080/"
        }
      },
      "id": "C_Ft6wuqZTyr",
      "execution_count": null,
      "outputs": [
        {
          "output_type": "execute_result",
          "data": {
            "text/plain": [
              "True"
            ]
          },
          "metadata": {},
          "execution_count": 113
        }
      ]
    },
    {
      "cell_type": "code",
      "source": [
        "res2.evalf()"
      ],
      "metadata": {
        "id": "sPJ83pfSeXQ7",
        "outputId": "7b5a3860-61c9-4291-c722-97a949b3475b",
        "colab": {
          "base_uri": "https://localhost:8080/",
          "height": 78
        }
      },
      "id": "sPJ83pfSeXQ7",
      "execution_count": null,
      "outputs": [
        {
          "output_type": "execute_result",
          "data": {
            "text/plain": [
              "Matrix([\n",
              "[4.53973694165308e+41,                    0, -2.8057117299251e+41],\n",
              "[                   0, 1.60693804425899e+60,                    0],\n",
              "[-2.8057117299251e+41,                    0, 1.73402521172798e+41]])"
            ],
            "text/latex": "$\\displaystyle \\left[\\begin{matrix}4.53973694165308 \\cdot 10^{41} & 0 & -2.8057117299251 \\cdot 10^{41}\\\\0 & 1.60693804425899 \\cdot 10^{60} & 0\\\\-2.8057117299251 \\cdot 10^{41} & 0 & 1.73402521172798 \\cdot 10^{41}\\end{matrix}\\right]$"
          },
          "metadata": {},
          "execution_count": 111
        }
      ]
    },
    {
      "cell_type": "code",
      "source": [
        "# 상관계수가 -0.7인 정규분포 난수쌍 만들기\n",
        "# 평균과 공분산 정의\n",
        "mu = [0, 0]\n",
        "cov = [[1, -0.7], [-0.7, 1]]  # 상관계수 -0.7\n",
        "\n",
        "# 난수 생성\n",
        "X = np.random.multivariate_normal(mu, cov, size=100000)\n",
        "X = X.T # 100000 by 2 행렬로 전치\n",
        "C=np.corrcoef(X[0],X[1])"
      ],
      "metadata": {
        "id": "Gx7CC8ok6Cf6"
      },
      "id": "Gx7CC8ok6Cf6",
      "execution_count": null,
      "outputs": []
    },
    {
      "cell_type": "code",
      "source": [
        "C"
      ],
      "metadata": {
        "id": "8Ub12OCD6kTx",
        "outputId": "90a38aa2-c3e5-421c-a30e-f9450d9d13c1",
        "colab": {
          "base_uri": "https://localhost:8080/"
        }
      },
      "id": "8Ub12OCD6kTx",
      "execution_count": null,
      "outputs": [
        {
          "output_type": "execute_result",
          "data": {
            "text/plain": [
              "array([[ 1.        , -0.70179715],\n",
              "       [-0.70179715,  1.        ]])"
            ]
          },
          "metadata": {},
          "execution_count": 175
        }
      ]
    },
    {
      "cell_type": "code",
      "source": [
        "D,P=np.linalg.eig(C)\n",
        "P_inv=np.linalg.inv(P)\n",
        "Matrix(P)"
      ],
      "metadata": {
        "id": "u2H7tryU6xJM",
        "outputId": "a56cfb48-e090-4609-84fb-6d67127c4562",
        "colab": {
          "base_uri": "https://localhost:8080/",
          "height": 58
        }
      },
      "id": "u2H7tryU6xJM",
      "execution_count": null,
      "outputs": [
        {
          "output_type": "execute_result",
          "data": {
            "text/plain": [
              "Matrix([\n",
              "[ 0.707106781186548, 0.707106781186548],\n",
              "[-0.707106781186547, 0.707106781186547]])"
            ],
            "text/latex": "$\\displaystyle \\left[\\begin{matrix}0.707106781186548 & 0.707106781186548\\\\-0.707106781186547 & 0.707106781186547\\end{matrix}\\right]$"
          },
          "metadata": {},
          "execution_count": 176
        }
      ]
    },
    {
      "cell_type": "code",
      "source": [
        "Z=P_inv@X\n",
        "Z.shape"
      ],
      "metadata": {
        "id": "3C1HlFOj62th",
        "outputId": "73501879-8df2-401b-8696-5dd88b882aee",
        "colab": {
          "base_uri": "https://localhost:8080/"
        }
      },
      "id": "3C1HlFOj62th",
      "execution_count": null,
      "outputs": [
        {
          "output_type": "execute_result",
          "data": {
            "text/plain": [
              "(2, 100000)"
            ]
          },
          "metadata": {},
          "execution_count": 177
        }
      ]
    },
    {
      "cell_type": "code",
      "source": [
        "np.corrcoef(Z[0],Z[1])"
      ],
      "metadata": {
        "id": "WQGjVo1-7TPD",
        "outputId": "c63565ca-fd25-4480-e80a-b0ed485a36f4",
        "colab": {
          "base_uri": "https://localhost:8080/"
        }
      },
      "id": "WQGjVo1-7TPD",
      "execution_count": null,
      "outputs": [
        {
          "output_type": "execute_result",
          "data": {
            "text/plain": [
              "array([[ 1.        , -0.00190314],\n",
              "       [-0.00190314,  1.        ]])"
            ]
          },
          "metadata": {},
          "execution_count": 178
        }
      ]
    },
    {
      "cell_type": "markdown",
      "id": "cb7e9732-7d87-42ac-9a2c-33a705cf1964",
      "metadata": {
        "id": "cb7e9732-7d87-42ac-9a2c-33a705cf1964"
      },
      "source": [
        "# 블록행렬의 곱셈"
      ]
    },
    {
      "cell_type": "code",
      "execution_count": null,
      "id": "5ed6e263-d21a-44f6-8210-92b61ee46a1f",
      "metadata": {
        "tags": [],
        "id": "5ed6e263-d21a-44f6-8210-92b61ee46a1f",
        "outputId": "5c616245-deda-4ce0-813c-dba43429a4f5",
        "colab": {
          "base_uri": "https://localhost:8080/",
          "height": 98
        }
      },
      "outputs": [
        {
          "output_type": "execute_result",
          "data": {
            "text/plain": [
              "Matrix([[Matrix([\n",
              "[a, b],\n",
              "[c, d]]), Matrix([\n",
              "[e, f],\n",
              "[g, h]])]])*Matrix([\n",
              "[Matrix([\n",
              "[a, b],\n",
              "[c, d]])],\n",
              "[Matrix([\n",
              "[e, f],\n",
              "[g, h]])]])"
            ],
            "text/latex": "$\\displaystyle \\left[\\begin{matrix}\\left[\\begin{matrix}a & b\\\\c & d\\end{matrix}\\right] & \\left[\\begin{matrix}e & f\\\\g & h\\end{matrix}\\right]\\end{matrix}\\right] \\left[\\begin{matrix}\\left[\\begin{matrix}a & b\\\\c & d\\end{matrix}\\right]\\\\\\left[\\begin{matrix}e & f\\\\g & h\\end{matrix}\\right]\\end{matrix}\\right]$"
          },
          "metadata": {},
          "execution_count": 116
        }
      ],
      "source": [
        "from sympy import Matrix, BlockMatrix, symbols\n",
        "\n",
        "# 심볼 정의\n",
        "a, b, c, d, e, f, g, h = symbols('a b c d e f g h')\n",
        "\n",
        "# Block matrix A 정의\n",
        "A1 = Matrix([[a, b], [c, d]])\n",
        "A2 = Matrix([[e, f], [g, h]])\n",
        "A = BlockMatrix([[A1,A2]])\n",
        "\n",
        "# Block matrix B 정의\n",
        "B1 = Matrix([[a, b], [c, d]])\n",
        "B2 = Matrix([[e, f], [g, h]])\n",
        "B = BlockMatrix([[B1],[B2]])\n",
        "\n",
        "# Block matrix 곱셈\n",
        "A * B"
      ]
    },
    {
      "cell_type": "code",
      "execution_count": null,
      "id": "9deab310-c5f0-4f4c-bd5e-cd0b357b72bb",
      "metadata": {
        "tags": [],
        "id": "9deab310-c5f0-4f4c-bd5e-cd0b357b72bb"
      },
      "outputs": [],
      "source": [
        "from sympy import MatrixSymbol,symbols, BlockMatrix, Matrix\n",
        "p,q,r,s=symbols('p q r s',integer=True, positive=True)\n",
        "A1=MatrixSymbol('A1',p,q)\n",
        "A2=MatrixSymbol('A2',r,q)\n",
        "B1=MatrixSymbol('B1',q,r)\n",
        "B2=MatrixSymbol('B2',q,s)\n",
        "A=Matrix([[A1],[A2]])\n",
        "A"
      ]
    },
    {
      "cell_type": "code",
      "execution_count": null,
      "id": "8851d030-e407-4683-9226-951b3cb72ce9",
      "metadata": {
        "tags": [],
        "id": "8851d030-e407-4683-9226-951b3cb72ce9"
      },
      "outputs": [],
      "source": [
        "B=Matrix([[B1,B2]])\n",
        "B"
      ]
    },
    {
      "cell_type": "code",
      "execution_count": null,
      "id": "b4863f6b-13f1-4a96-bf17-66b33dbf7f16",
      "metadata": {
        "tags": [],
        "id": "b4863f6b-13f1-4a96-bf17-66b33dbf7f16"
      },
      "outputs": [],
      "source": [
        "A@B"
      ]
    },
    {
      "cell_type": "code",
      "execution_count": null,
      "id": "598e34e2-dc8c-4c2f-b35d-69f7062c15fa",
      "metadata": {
        "tags": [],
        "id": "598e34e2-dc8c-4c2f-b35d-69f7062c15fa"
      },
      "outputs": [],
      "source": [
        "B@A"
      ]
    },
    {
      "cell_type": "code",
      "execution_count": null,
      "id": "af12cd5d-26d8-412a-9b0d-67aec9401b2d",
      "metadata": {
        "tags": [],
        "id": "af12cd5d-26d8-412a-9b0d-67aec9401b2d"
      },
      "outputs": [],
      "source": [
        "from sympy import Matrix, BlockMatrix\n",
        "# Block matrix A 정의\n",
        "A1 = Matrix([[1, 2], [3, 4]])\n",
        "A2 = Matrix([[5, 6], [7, 8]])\n",
        "A = Matrix.vstack(A1,A2)\n",
        "\n",
        "# Block matrix B 정의\n",
        "B1 = Matrix([[1, 2], [3, 4]])\n",
        "B2 = Matrix([[5, 6], [7, 8]])\n",
        "B = Matrix.hstack(B1,B2)\n",
        "\n",
        "A@B"
      ]
    },
    {
      "cell_type": "code",
      "execution_count": null,
      "id": "65405f39-0ad2-4f7b-af85-1a7f65bbe942",
      "metadata": {
        "tags": [],
        "id": "65405f39-0ad2-4f7b-af85-1a7f65bbe942"
      },
      "outputs": [],
      "source": [
        "# numpy를 이용해서 검증\n",
        "A1=np.array(A1).astype(int)\n",
        "A2=np.array(A2).astype(int)\n",
        "A=np.vstack((A1,A2))\n",
        "B1=np.array(B1).astype(int)\n",
        "B2=np.array(B2).astype(int)\n",
        "B=np.hstack((B1,B2))\n",
        "Matrix(A@B)"
      ]
    },
    {
      "cell_type": "code",
      "execution_count": null,
      "id": "f916d051-0786-4d74-bfb9-f0984af95d85",
      "metadata": {
        "tags": [],
        "id": "f916d051-0786-4d74-bfb9-f0984af95d85"
      },
      "outputs": [],
      "source": [
        "A1*B1"
      ]
    },
    {
      "cell_type": "code",
      "execution_count": null,
      "id": "451a2499-13fd-4465-b9c8-3c0fa5d08a42",
      "metadata": {
        "tags": [],
        "id": "451a2499-13fd-4465-b9c8-3c0fa5d08a42"
      },
      "outputs": [],
      "source": [
        "A1*B2"
      ]
    },
    {
      "cell_type": "code",
      "execution_count": null,
      "id": "3051a7be-0bd1-4981-bf15-18511926b391",
      "metadata": {
        "tags": [],
        "id": "3051a7be-0bd1-4981-bf15-18511926b391"
      },
      "outputs": [],
      "source": [
        "A2*B1"
      ]
    },
    {
      "cell_type": "code",
      "execution_count": null,
      "id": "5aafb334-9c53-479a-9539-adcc397cdabf",
      "metadata": {
        "tags": [],
        "id": "5aafb334-9c53-479a-9539-adcc397cdabf"
      },
      "outputs": [],
      "source": [
        "A2*B2"
      ]
    },
    {
      "cell_type": "markdown",
      "id": "1ae4411a-3944-4420-b6a5-e42162cbb967",
      "metadata": {
        "id": "1ae4411a-3944-4420-b6a5-e42162cbb967"
      },
      "source": [
        "# 대칭행렬의 고유벡터 직교성 알아보기"
      ]
    },
    {
      "cell_type": "code",
      "execution_count": null,
      "id": "ac6b5f80-e850-4c78-b561-66518fc9acd4",
      "metadata": {
        "tags": [],
        "id": "ac6b5f80-e850-4c78-b561-66518fc9acd4",
        "outputId": "41d8be79-11b2-4844-d168-47303abec4b7",
        "colab": {
          "base_uri": "https://localhost:8080/",
          "height": 39
        }
      },
      "outputs": [
        {
          "output_type": "execute_result",
          "data": {
            "text/plain": [
              "B.T*A.T"
            ],
            "text/latex": "$\\displaystyle B^{T} A^{T}$"
          },
          "metadata": {},
          "execution_count": 190
        }
      ],
      "source": [
        "import sympy as smp\n",
        "\n",
        "n=smp.symbols('n') # 문자 기호 정의\n",
        "A=smp.MatrixSymbol('A',n,n) # 행렬 정의\n",
        "B=smp.MatrixSymbol('B',n,n) # 행렬 정의\n",
        "(A@B).T # 곱 행렬의 전치행렬"
      ]
    },
    {
      "cell_type": "code",
      "execution_count": null,
      "id": "818f2f76-da61-4575-bedd-5fb4f4fe3010",
      "metadata": {
        "tags": [],
        "id": "818f2f76-da61-4575-bedd-5fb4f4fe3010",
        "outputId": "dbd1586b-3580-44f9-fe9b-2b3187505365",
        "colab": {
          "base_uri": "https://localhost:8080/",
          "height": 39
        }
      },
      "outputs": [
        {
          "output_type": "execute_result",
          "data": {
            "text/plain": [
              "B**(-1)*A**(-1)"
            ],
            "text/latex": "$\\displaystyle B^{-1} A^{-1}$"
          },
          "metadata": {},
          "execution_count": 191
        }
      ],
      "source": [
        "(A@B).inv() # 곱 행렬의 역행렬"
      ]
    },
    {
      "cell_type": "code",
      "execution_count": null,
      "id": "1a8465e7-d36d-40f6-8e4b-17e08e12d290",
      "metadata": {
        "tags": [],
        "id": "1a8465e7-d36d-40f6-8e4b-17e08e12d290",
        "outputId": "0971eb7f-7cc0-49a5-ea2b-a1e7bbc18c39",
        "colab": {
          "base_uri": "https://localhost:8080/",
          "height": 78
        }
      },
      "outputs": [
        {
          "output_type": "execute_result",
          "data": {
            "text/plain": [
              "Matrix([\n",
              "[ 2, 0, -1],\n",
              "[ 0, 4,  0],\n",
              "[-1, 0,  1]])"
            ],
            "text/latex": "$\\displaystyle \\left[\\begin{matrix}2 & 0 & -1\\\\0 & 4 & 0\\\\-1 & 0 & 1\\end{matrix}\\right]$"
          },
          "metadata": {},
          "execution_count": 192
        }
      ],
      "source": [
        "import sympy as smp\n",
        "import numpy as np\n",
        "\n",
        "A=smp.Matrix(3,3,[2,0,-1,0,4,0,-1,0,1])\n",
        "A"
      ]
    },
    {
      "cell_type": "code",
      "execution_count": null,
      "id": "b3aaf004-6927-4995-a8a2-3b2044c7b07d",
      "metadata": {
        "tags": [],
        "id": "b3aaf004-6927-4995-a8a2-3b2044c7b07d",
        "outputId": "58e339a0-602e-4a01-8601-b87965861fe0",
        "colab": {
          "base_uri": "https://localhost:8080/",
          "height": 78
        }
      },
      "outputs": [
        {
          "output_type": "execute_result",
          "data": {
            "text/plain": [
              "Matrix([\n",
              "[0, 0, 0],\n",
              "[0, 0, 0],\n",
              "[0, 0, 0]])"
            ],
            "text/latex": "$\\displaystyle \\left[\\begin{matrix}0 & 0 & 0\\\\0 & 0 & 0\\\\0 & 0 & 0\\end{matrix}\\right]$"
          },
          "metadata": {},
          "execution_count": 193
        }
      ],
      "source": [
        "A-A.T #대칭행렬 검증"
      ]
    },
    {
      "cell_type": "code",
      "execution_count": null,
      "id": "1e54ece8-7987-47df-b01a-da5dfd65b303",
      "metadata": {
        "tags": [],
        "id": "1e54ece8-7987-47df-b01a-da5dfd65b303",
        "outputId": "26284153-a2c3-45e3-d259-d60602ad4eff",
        "colab": {
          "base_uri": "https://localhost:8080/",
          "height": 78
        }
      },
      "outputs": [
        {
          "output_type": "execute_result",
          "data": {
            "text/plain": [
              "Matrix([\n",
              "[2.61803398874989,               0.0, 0.0],\n",
              "[             0.0, 0.381966011250105, 0.0],\n",
              "[             0.0,               0.0, 4.0]])"
            ],
            "text/latex": "$\\displaystyle \\left[\\begin{matrix}2.61803398874989 & 0.0 & 0.0\\\\0.0 & 0.381966011250105 & 0.0\\\\0.0 & 0.0 & 4.0\\end{matrix}\\right]$"
          },
          "metadata": {},
          "execution_count": 194
        }
      ],
      "source": [
        "A=np.array(A).astype(int)\n",
        "D,P=np.linalg.eig(A)\n",
        "D=np.diag(D)\n",
        "smp.Matrix(D)"
      ]
    },
    {
      "cell_type": "code",
      "execution_count": null,
      "id": "8e8da6d8-2b2b-42a3-b0e9-dbc91af97539",
      "metadata": {
        "tags": [],
        "id": "8e8da6d8-2b2b-42a3-b0e9-dbc91af97539",
        "outputId": "5bc53dbd-c6ab-4673-ab45-8705f2143dc8",
        "colab": {
          "base_uri": "https://localhost:8080/"
        }
      },
      "outputs": [
        {
          "output_type": "stream",
          "name": "stdout",
          "text": [
            "0.9999999999999998\n",
            "0.9999999999999998\n",
            "1.0\n"
          ]
        }
      ],
      "source": [
        "# 서로 같은 고유벡터의 내적값 확인\n",
        "for i in range(3):\n",
        "     print(P.T[i]@P.T[i])# 내적의 값구하기"
      ]
    },
    {
      "cell_type": "code",
      "execution_count": null,
      "id": "eb6732b5-162c-4c94-b0eb-695f85bf0d81",
      "metadata": {
        "tags": [],
        "id": "eb6732b5-162c-4c94-b0eb-695f85bf0d81",
        "outputId": "39423594-220d-4ec7-8a0e-64d62da39864",
        "colab": {
          "base_uri": "https://localhost:8080/"
        }
      },
      "outputs": [
        {
          "output_type": "stream",
          "name": "stdout",
          "text": [
            "0.0\n",
            "0.0\n",
            "0.0\n"
          ]
        }
      ],
      "source": [
        "# 서로 다른 고유벡터의 내적값 확인\n",
        "for i in range(3): # i=0,1,2\n",
        "    for j in range(i): #j=0,..,i-1\n",
        "        print(P.T[j]@P.T[i])# 내적의 값구하기"
      ]
    },
    {
      "cell_type": "code",
      "execution_count": null,
      "id": "3473edfa-a57c-45a0-8a33-46a75b9a97a5",
      "metadata": {
        "tags": [],
        "id": "3473edfa-a57c-45a0-8a33-46a75b9a97a5",
        "outputId": "db43f6a2-fe21-425f-ed2d-080c85805637",
        "colab": {
          "base_uri": "https://localhost:8080/"
        }
      },
      "outputs": [
        {
          "output_type": "execute_result",
          "data": {
            "text/plain": [
              "array([[1., 0., 0.],\n",
              "       [0., 1., 0.],\n",
              "       [0., 0., 1.]])"
            ]
          },
          "metadata": {},
          "execution_count": 197
        }
      ],
      "source": [
        "P@P.T"
      ]
    },
    {
      "cell_type": "code",
      "execution_count": null,
      "id": "c1df935d-8f64-4d31-9be2-71ae961c6848",
      "metadata": {
        "tags": [],
        "id": "c1df935d-8f64-4d31-9be2-71ae961c6848",
        "outputId": "2b07f2a9-3491-4973-d182-5b406afbc9ca",
        "colab": {
          "base_uri": "https://localhost:8080/"
        }
      },
      "outputs": [
        {
          "output_type": "execute_result",
          "data": {
            "text/plain": [
              "True"
            ]
          },
          "metadata": {},
          "execution_count": 198
        }
      ],
      "source": [
        "np.allclose(np.linalg.inv(P)-P.T,0)"
      ]
    },
    {
      "cell_type": "code",
      "source": [
        "A=smp.Matrix(3,3,[2,0,-1,0,4,0,-1,0,1])\n",
        "A"
      ],
      "metadata": {
        "id": "29BQNUctCngG",
        "outputId": "3a4bf396-fc91-4d36-cdf5-d54261d8dc9c",
        "colab": {
          "base_uri": "https://localhost:8080/",
          "height": 78
        }
      },
      "id": "29BQNUctCngG",
      "execution_count": null,
      "outputs": [
        {
          "output_type": "execute_result",
          "data": {
            "text/plain": [
              "Matrix([\n",
              "[ 2, 0, -1],\n",
              "[ 0, 4,  0],\n",
              "[-1, 0,  1]])"
            ],
            "text/latex": "$\\displaystyle \\left[\\begin{matrix}2 & 0 & -1\\\\0 & 4 & 0\\\\-1 & 0 & 1\\end{matrix}\\right]$"
          },
          "metadata": {},
          "execution_count": 199
        }
      ]
    },
    {
      "cell_type": "code",
      "source": [
        "# 서로 같은 고유벡터의 내적값 확인\n",
        "for i in range(3):\n",
        "     print(P.T[i]@P.T[i])# 내적의 값구하기"
      ],
      "metadata": {
        "id": "maoeWQEKCs-P",
        "outputId": "28ceb2cf-d1a1-4796-e48e-4d391a4bc471",
        "colab": {
          "base_uri": "https://localhost:8080/"
        }
      },
      "id": "maoeWQEKCs-P",
      "execution_count": null,
      "outputs": [
        {
          "output_type": "stream",
          "name": "stdout",
          "text": [
            "0.9999999999999998\n",
            "0.9999999999999998\n",
            "1.0\n"
          ]
        }
      ]
    },
    {
      "cell_type": "code",
      "source": [
        "# 서로 다른 고유벡터의 내적값 확인\n",
        "for i in range(3): # i=0,1,2\n",
        "    for j in range(i): #j=0,..,i-1\n",
        "        print(P.T[j]@P.T[i])# 내적의 값구하기"
      ],
      "metadata": {
        "id": "BCOLWz2fC175",
        "outputId": "cb9e9cc5-0ac3-48c1-adb0-7b66c91d61f2",
        "colab": {
          "base_uri": "https://localhost:8080/"
        }
      },
      "id": "BCOLWz2fC175",
      "execution_count": null,
      "outputs": [
        {
          "output_type": "stream",
          "name": "stdout",
          "text": [
            "0.0\n",
            "0.0\n",
            "0.0\n"
          ]
        }
      ]
    },
    {
      "cell_type": "markdown",
      "id": "c938bd9c-13b6-4391-b9b9-2de556b2d55b",
      "metadata": {
        "id": "c938bd9c-13b6-4391-b9b9-2de556b2d55b"
      },
      "source": [
        "# Singular Value Decompostion"
      ]
    },
    {
      "cell_type": "code",
      "execution_count": null,
      "id": "d798f5b4-c083-4529-a233-f189e91fc503",
      "metadata": {
        "tags": [],
        "id": "d798f5b4-c083-4529-a233-f189e91fc503",
        "outputId": "6d446284-d0bd-4316-89ca-ac82363bc45a",
        "colab": {
          "base_uri": "https://localhost:8080/",
          "height": 58
        }
      },
      "outputs": [
        {
          "output_type": "execute_result",
          "data": {
            "text/plain": [
              "Matrix([\n",
              "[-1,  1, 0],\n",
              "[ 0, -1, 1]])"
            ],
            "text/latex": "$\\displaystyle \\left[\\begin{matrix}-1 & 1 & 0\\\\0 & -1 & 1\\end{matrix}\\right]$"
          },
          "metadata": {},
          "execution_count": 202
        }
      ],
      "source": [
        "from sympy import Matrix\n",
        "import numpy as np\n",
        "A=np.array([[-1,1,0],[0,-1,1]])\n",
        "Matrix(A)"
      ]
    },
    {
      "cell_type": "code",
      "execution_count": null,
      "id": "e40bf60a-5447-44a6-8e64-d45ca3b953b9",
      "metadata": {
        "tags": [],
        "id": "e40bf60a-5447-44a6-8e64-d45ca3b953b9",
        "outputId": "7e194d23-aca0-4069-ff46-cb1106594e32",
        "colab": {
          "base_uri": "https://localhost:8080/",
          "height": 58
        }
      },
      "outputs": [
        {
          "output_type": "execute_result",
          "data": {
            "text/plain": [
              "Matrix([\n",
              "[3.0, 0.0],\n",
              "[0.0, 1.0]])"
            ],
            "text/latex": "$\\displaystyle \\left[\\begin{matrix}3.0 & 0.0\\\\0.0 & 1.0\\end{matrix}\\right]$"
          },
          "metadata": {},
          "execution_count": 203
        }
      ],
      "source": [
        "D,P=np.linalg.eig(A@A.T)\n",
        "D=np.diag(D)\n",
        "Matrix(D)"
      ]
    },
    {
      "cell_type": "code",
      "execution_count": null,
      "id": "243f0cc2-37f5-47e0-b935-3f49c5ed4a2c",
      "metadata": {
        "tags": [],
        "id": "243f0cc2-37f5-47e0-b935-3f49c5ed4a2c",
        "outputId": "058ed6c9-e5af-4095-dbd5-9e2eff6850a6",
        "colab": {
          "base_uri": "https://localhost:8080/",
          "height": 58
        }
      },
      "outputs": [
        {
          "output_type": "execute_result",
          "data": {
            "text/plain": [
              "Matrix([\n",
              "[ 0.707106781186547, 0.707106781186547],\n",
              "[-0.707106781186547, 0.707106781186547]])"
            ],
            "text/latex": "$\\displaystyle \\left[\\begin{matrix}0.707106781186547 & 0.707106781186547\\\\-0.707106781186547 & 0.707106781186547\\end{matrix}\\right]$"
          },
          "metadata": {},
          "execution_count": 204
        }
      ],
      "source": [
        "Matrix(P)"
      ]
    },
    {
      "cell_type": "code",
      "source": [
        "Matrix(A)"
      ],
      "metadata": {
        "id": "NdRuTxq8EfJb",
        "outputId": "b1f9437a-a5e6-46e3-9451-2f4d6f768be5",
        "colab": {
          "base_uri": "https://localhost:8080/",
          "height": 58
        }
      },
      "id": "NdRuTxq8EfJb",
      "execution_count": null,
      "outputs": [
        {
          "output_type": "execute_result",
          "data": {
            "text/plain": [
              "Matrix([\n",
              "[-1,  1, 0],\n",
              "[ 0, -1, 1]])"
            ],
            "text/latex": "$\\displaystyle \\left[\\begin{matrix}-1 & 1 & 0\\\\0 & -1 & 1\\end{matrix}\\right]$"
          },
          "metadata": {},
          "execution_count": 210
        }
      ]
    },
    {
      "cell_type": "code",
      "execution_count": null,
      "id": "f958678d-c590-4f5d-b292-33a92e93875b",
      "metadata": {
        "tags": [],
        "id": "f958678d-c590-4f5d-b292-33a92e93875b"
      },
      "outputs": [],
      "source": [
        "U,S,Vt=np.linalg.svd(A)"
      ]
    },
    {
      "cell_type": "code",
      "execution_count": null,
      "id": "1e00b969-f556-4363-9e8b-a32521f8e8fb",
      "metadata": {
        "tags": [],
        "id": "1e00b969-f556-4363-9e8b-a32521f8e8fb",
        "outputId": "0129e9be-d601-4977-a542-6c601b8d1948",
        "colab": {
          "base_uri": "https://localhost:8080/",
          "height": 58
        }
      },
      "outputs": [
        {
          "output_type": "execute_result",
          "data": {
            "text/plain": [
              "Matrix([\n",
              "[-0.707106781186548, 0.707106781186547],\n",
              "[ 0.707106781186547, 0.707106781186548]])"
            ],
            "text/latex": "$\\displaystyle \\left[\\begin{matrix}-0.707106781186548 & 0.707106781186547\\\\0.707106781186547 & 0.707106781186548\\end{matrix}\\right]$"
          },
          "metadata": {},
          "execution_count": 212
        }
      ],
      "source": [
        "Matrix(U)"
      ]
    },
    {
      "cell_type": "code",
      "execution_count": null,
      "id": "483a563f-ad04-43b5-9f2b-7ec9e33af65b",
      "metadata": {
        "tags": [],
        "id": "483a563f-ad04-43b5-9f2b-7ec9e33af65b",
        "outputId": "78d5c8f8-84d0-4425-9400-45d55b9afbb2",
        "colab": {
          "base_uri": "https://localhost:8080/",
          "height": 58
        }
      },
      "outputs": [
        {
          "output_type": "execute_result",
          "data": {
            "text/plain": [
              "Matrix([\n",
              "[1.73205080756888],\n",
              "[             1.0]])"
            ],
            "text/latex": "$\\displaystyle \\left[\\begin{matrix}1.73205080756888\\\\1.0\\end{matrix}\\right]$"
          },
          "metadata": {},
          "execution_count": 214
        }
      ],
      "source": [
        "Matrix(S)"
      ]
    },
    {
      "cell_type": "code",
      "execution_count": null,
      "id": "3388b54b-1560-4faa-b9be-d3a75d981491",
      "metadata": {
        "tags": [],
        "id": "3388b54b-1560-4faa-b9be-d3a75d981491",
        "outputId": "7ac0968c-2a63-4c77-de45-68a0e0ba24ec",
        "colab": {
          "base_uri": "https://localhost:8080/",
          "height": 78
        }
      },
      "outputs": [
        {
          "output_type": "execute_result",
          "data": {
            "text/plain": [
              "Matrix([\n",
              "[ 0.408248290463863,    -0.816496580927726, 0.408248290463863],\n",
              "[-0.707106781186547, -2.78976253009266e-16, 0.707106781186548],\n",
              "[ 0.577350269189626,     0.577350269189626, 0.577350269189626]])"
            ],
            "text/latex": "$\\displaystyle \\left[\\begin{matrix}0.408248290463863 & -0.816496580927726 & 0.408248290463863\\\\-0.707106781186547 & -2.78976253009266 \\cdot 10^{-16} & 0.707106781186548\\\\0.577350269189626 & 0.577350269189626 & 0.577350269189626\\end{matrix}\\right]$"
          },
          "metadata": {},
          "execution_count": 215
        }
      ],
      "source": [
        "Matrix(Vt)"
      ]
    },
    {
      "cell_type": "code",
      "execution_count": null,
      "id": "497c2643-9d61-41a0-9ef5-1e91db4ce0d8",
      "metadata": {
        "tags": [],
        "id": "497c2643-9d61-41a0-9ef5-1e91db4ce0d8",
        "outputId": "3d651891-faaf-4b3e-beb0-01705d7d4803",
        "colab": {
          "base_uri": "https://localhost:8080/"
        }
      },
      "outputs": [
        {
          "output_type": "execute_result",
          "data": {
            "text/plain": [
              "array([3., 1.])"
            ]
          },
          "metadata": {},
          "execution_count": 216
        }
      ],
      "source": [
        "# 특이값의 제곱은 고유값이 된다.\n",
        "S**2"
      ]
    },
    {
      "cell_type": "code",
      "execution_count": null,
      "id": "17a200ad-604d-4396-9e8b-e49b92e816ac",
      "metadata": {
        "tags": [],
        "id": "17a200ad-604d-4396-9e8b-e49b92e816ac",
        "outputId": "5feb9796-7f03-4e42-d4ed-05ddade3e365",
        "colab": {
          "base_uri": "https://localhost:8080/"
        }
      },
      "outputs": [
        {
          "output_type": "execute_result",
          "data": {
            "text/plain": [
              "True"
            ]
          },
          "metadata": {},
          "execution_count": 217
        }
      ],
      "source": [
        "# U,V 행렬은 모두 직교행렬(orthogonal matrix)\n",
        "np.allclose(U@U.T,np.eye(2))"
      ]
    },
    {
      "cell_type": "code",
      "execution_count": null,
      "id": "08e92fcb-c9c4-41aa-b80a-c2275fdeffe5",
      "metadata": {
        "tags": [],
        "id": "08e92fcb-c9c4-41aa-b80a-c2275fdeffe5",
        "outputId": "7c215da8-1214-4592-eb4e-c24da7999366",
        "colab": {
          "base_uri": "https://localhost:8080/"
        }
      },
      "outputs": [
        {
          "output_type": "execute_result",
          "data": {
            "text/plain": [
              "True"
            ]
          },
          "metadata": {},
          "execution_count": 218
        }
      ],
      "source": [
        "np.allclose(Vt@Vt.T,np.eye(3))"
      ]
    },
    {
      "cell_type": "code",
      "source": [
        "Matrix(A)"
      ],
      "metadata": {
        "id": "_O3oRfmmF3W_",
        "outputId": "53ea7b28-f219-4723-c8d8-c909f815a354",
        "colab": {
          "base_uri": "https://localhost:8080/",
          "height": 58
        }
      },
      "id": "_O3oRfmmF3W_",
      "execution_count": null,
      "outputs": [
        {
          "output_type": "execute_result",
          "data": {
            "text/plain": [
              "Matrix([\n",
              "[-1,  1, 0],\n",
              "[ 0, -1, 1]])"
            ],
            "text/latex": "$\\displaystyle \\left[\\begin{matrix}-1 & 1 & 0\\\\0 & -1 & 1\\end{matrix}\\right]$"
          },
          "metadata": {},
          "execution_count": 222
        }
      ]
    },
    {
      "cell_type": "code",
      "execution_count": null,
      "id": "6f9f87ea-7f98-41e1-ba25-a19903098edb",
      "metadata": {
        "tags": [],
        "id": "6f9f87ea-7f98-41e1-ba25-a19903098edb",
        "outputId": "cfaa90d2-a6a5-4517-d24c-76e5bbbf90d0",
        "colab": {
          "base_uri": "https://localhost:8080/",
          "height": 58
        }
      },
      "outputs": [
        {
          "output_type": "execute_result",
          "data": {
            "text/plain": [
              "Matrix([\n",
              "[-0.707106781186548, 0.707106781186547],\n",
              "[ 0.707106781186547, 0.707106781186548]])"
            ],
            "text/latex": "$\\displaystyle \\left[\\begin{matrix}-0.707106781186548 & 0.707106781186547\\\\0.707106781186547 & 0.707106781186548\\end{matrix}\\right]$"
          },
          "metadata": {},
          "execution_count": 232
        }
      ],
      "source": [
        "# scipy를 이용한 SVD\n",
        "import scipy.linalg as LA\n",
        "u,s,vt=LA.svd(A)\n",
        "Matrix(u)"
      ]
    },
    {
      "cell_type": "code",
      "execution_count": null,
      "id": "db00cd69-cccb-48cb-bc8c-d6fcd0e56417",
      "metadata": {
        "tags": [],
        "id": "db00cd69-cccb-48cb-bc8c-d6fcd0e56417",
        "outputId": "fe9a837e-4055-4b9e-df2e-73637c779ded",
        "colab": {
          "base_uri": "https://localhost:8080/",
          "height": 58
        }
      },
      "outputs": [
        {
          "output_type": "execute_result",
          "data": {
            "text/plain": [
              "Matrix([\n",
              "[1.73205080756888],\n",
              "[             1.0]])"
            ],
            "text/latex": "$\\displaystyle \\left[\\begin{matrix}1.73205080756888\\\\1.0\\end{matrix}\\right]$"
          },
          "metadata": {},
          "execution_count": 233
        }
      ],
      "source": [
        "Matrix(s)"
      ]
    },
    {
      "cell_type": "code",
      "execution_count": null,
      "id": "58530610-27ce-493f-8622-1824dcebf1d6",
      "metadata": {
        "tags": [],
        "id": "58530610-27ce-493f-8622-1824dcebf1d6",
        "outputId": "06738975-136c-4bc1-9a24-0d201edf4018",
        "colab": {
          "base_uri": "https://localhost:8080/",
          "height": 78
        }
      },
      "outputs": [
        {
          "output_type": "execute_result",
          "data": {
            "text/plain": [
              "Matrix([\n",
              "[ 0.408248290463863,    -0.816496580927726, 0.408248290463863],\n",
              "[-0.707106781186547, -2.78976253009266e-16, 0.707106781186548],\n",
              "[ 0.577350269189626,     0.577350269189626, 0.577350269189626]])"
            ],
            "text/latex": "$\\displaystyle \\left[\\begin{matrix}0.408248290463863 & -0.816496580927726 & 0.408248290463863\\\\-0.707106781186547 & -2.78976253009266 \\cdot 10^{-16} & 0.707106781186548\\\\0.577350269189626 & 0.577350269189626 & 0.577350269189626\\end{matrix}\\right]$"
          },
          "metadata": {},
          "execution_count": 234
        }
      ],
      "source": [
        "Matrix(vt)"
      ]
    },
    {
      "cell_type": "code",
      "source": [
        "s"
      ],
      "metadata": {
        "id": "0YN7Nm20IFUx",
        "outputId": "5a85f88f-f56a-4f04-f0a8-3dcabeb8ae64",
        "colab": {
          "base_uri": "https://localhost:8080/"
        }
      },
      "id": "0YN7Nm20IFUx",
      "execution_count": null,
      "outputs": [
        {
          "output_type": "execute_result",
          "data": {
            "text/plain": [
              "array([1.73205081, 1.        ])"
            ]
          },
          "metadata": {},
          "execution_count": 236
        }
      ]
    },
    {
      "cell_type": "code",
      "source": [
        "S = np.zeros_like(A, dtype=float)\n",
        "np.fill_diagonal(S, s)  # s를 대각성분에 넣기\n",
        "Matrix(S)"
      ],
      "metadata": {
        "id": "xGW_-mlYGQLW",
        "outputId": "dc09e68b-0b53-4772-82a2-252754197ef5",
        "colab": {
          "base_uri": "https://localhost:8080/",
          "height": 58
        }
      },
      "id": "xGW_-mlYGQLW",
      "execution_count": null,
      "outputs": [
        {
          "output_type": "execute_result",
          "data": {
            "text/plain": [
              "Matrix([\n",
              "[1.73205080756888, 0.0, 0.0],\n",
              "[             0.0, 1.0, 0.0]])"
            ],
            "text/latex": "$\\displaystyle \\left[\\begin{matrix}1.73205080756888 & 0.0 & 0.0\\\\0.0 & 1.0 & 0.0\\end{matrix}\\right]$"
          },
          "metadata": {},
          "execution_count": 238
        }
      ]
    },
    {
      "cell_type": "code",
      "source": [
        "np.allclose(A , u@S@vt)"
      ],
      "metadata": {
        "id": "5MKsEsc5KCjd",
        "outputId": "520a1c71-3f5c-4f3d-a771-bc591935e522",
        "colab": {
          "base_uri": "https://localhost:8080/"
        }
      },
      "id": "5MKsEsc5KCjd",
      "execution_count": null,
      "outputs": [
        {
          "output_type": "execute_result",
          "data": {
            "text/plain": [
              "True"
            ]
          },
          "metadata": {},
          "execution_count": 240
        }
      ]
    },
    {
      "cell_type": "markdown",
      "id": "c57aa7db-d5b8-4025-9020-f31664262a33",
      "metadata": {
        "id": "c57aa7db-d5b8-4025-9020-f31664262a33"
      },
      "source": [
        "## Truncated SVD"
      ]
    },
    {
      "cell_type": "code",
      "execution_count": null,
      "id": "44548f0d-627c-4c10-8573-80d52818754a",
      "metadata": {
        "tags": [],
        "id": "44548f0d-627c-4c10-8573-80d52818754a",
        "outputId": "e8783397-117a-45d8-f095-8a466c37232d",
        "colab": {
          "base_uri": "https://localhost:8080/"
        }
      },
      "outputs": [
        {
          "output_type": "stream",
          "name": "stdout",
          "text": [
            "원본 데이터의 모양: (6, 6)\n",
            "축소된 데이터의 모양: (6, 2)\n"
          ]
        }
      ],
      "source": [
        "import numpy as np\n",
        "\n",
        "# 임의의 6x6 행렬 생성\n",
        "X = np.random.rand(6, 6)\n",
        "\n",
        "# numpy의 SVD 수행\n",
        "U, S, Vt = np.linalg.svd(X, full_matrices=False)\n",
        "\n",
        "# Truncated SVD: 상위 2개의 특이값만 사용하여 차원 축소\n",
        "n_components = 2\n",
        "X_reduced = np.dot(U[:, :n_components], np.diag(S[:n_components]))\n",
        "\n",
        "# 결과 확인\n",
        "print(\"원본 데이터의 모양:\", X.shape)\n",
        "print(\"축소된 데이터의 모양:\", X_reduced.shape)"
      ]
    },
    {
      "cell_type": "code",
      "execution_count": null,
      "id": "c508dd4f-b5bb-4b11-be93-ecc60727172b",
      "metadata": {
        "tags": [],
        "id": "c508dd4f-b5bb-4b11-be93-ecc60727172b",
        "outputId": "6e4ad81b-5271-4626-fea4-88988d3d3039",
        "colab": {
          "base_uri": "https://localhost:8080/"
        }
      },
      "outputs": [
        {
          "output_type": "execute_result",
          "data": {
            "text/plain": [
              "array([3.11915134, 1.12617559, 0.77896378, 0.47067063, 0.16680025,\n",
              "       0.10277704])"
            ]
          },
          "metadata": {},
          "execution_count": 248
        }
      ],
      "source": [
        "S"
      ]
    },
    {
      "cell_type": "code",
      "execution_count": null,
      "id": "05a7891b-87d4-4797-ab4d-f67c11586485",
      "metadata": {
        "tags": [],
        "id": "05a7891b-87d4-4797-ab4d-f67c11586485",
        "outputId": "0ac766f6-9712-4a40-a0bc-12ee0723a274",
        "colab": {
          "base_uri": "https://localhost:8080/"
        }
      },
      "outputs": [
        {
          "output_type": "execute_result",
          "data": {
            "text/plain": [
              "array([[-0.95440381,  0.36473648],\n",
              "       [-1.46270321, -0.41407476],\n",
              "       [-1.10614121,  0.29962638],\n",
              "       [-0.82961266, -0.85961692],\n",
              "       [-1.46131548,  0.36099525],\n",
              "       [-1.62218041,  0.06889162]])"
            ]
          },
          "metadata": {},
          "execution_count": 249
        }
      ],
      "source": [
        "X_reduced"
      ]
    },
    {
      "cell_type": "code",
      "execution_count": null,
      "id": "8d37d742-9982-4b34-a3f0-e7618b48394f",
      "metadata": {
        "tags": [],
        "id": "8d37d742-9982-4b34-a3f0-e7618b48394f",
        "outputId": "686f7677-9b92-463c-f95b-837e4e28aaf3",
        "colab": {
          "base_uri": "https://localhost:8080/"
        }
      },
      "outputs": [
        {
          "output_type": "execute_result",
          "data": {
            "text/plain": [
              "array([[ 1.21870476, -0.32332518],\n",
              "       [ 1.20371177, -0.66348395],\n",
              "       [ 1.71324606,  0.28632909],\n",
              "       [ 0.90247812,  0.6358452 ],\n",
              "       [ 1.70151094, -0.28374528],\n",
              "       [ 1.36527407,  0.44759402]])"
            ]
          },
          "metadata": {},
          "execution_count": 244
        }
      ],
      "source": [
        "from sklearn.decomposition import TruncatedSVD\n",
        "\n",
        "n_components = 2\n",
        "X_r = TruncatedSVD(n_components=n_components)\n",
        "X_r.fit_transform(X)"
      ]
    },
    {
      "cell_type": "code",
      "execution_count": null,
      "id": "5a27cda5-876f-454f-9253-66b5293a6789",
      "metadata": {
        "tags": [],
        "id": "5a27cda5-876f-454f-9253-66b5293a6789",
        "outputId": "41e9371c-66d1-41d8-dff9-6a5be813cceb",
        "colab": {
          "base_uri": "https://localhost:8080/"
        }
      },
      "outputs": [
        {
          "output_type": "execute_result",
          "data": {
            "text/plain": [
              "array([[0.38016392, 0.29096187],\n",
              "       [0.55037983, 0.01196665],\n",
              "       [0.53572204, 0.99246286],\n",
              "       [0.09670984, 0.96528981],\n",
              "       [0.82614584, 0.42950844],\n",
              "       [0.68499177, 0.91068381]])"
            ]
          },
          "metadata": {},
          "execution_count": 245
        }
      ],
      "source": [
        "X[:,:2]"
      ]
    },
    {
      "cell_type": "code",
      "execution_count": null,
      "id": "0d101509-51c0-4df8-9394-ec330f6d4ebc",
      "metadata": {
        "tags": [],
        "id": "0d101509-51c0-4df8-9394-ec330f6d4ebc",
        "outputId": "b995cff4-39e2-4d6d-b514-a4702df3c4ba",
        "colab": {
          "base_uri": "https://localhost:8080/"
        }
      },
      "outputs": [
        {
          "output_type": "execute_result",
          "data": {
            "text/plain": [
              "array([3.3827437 , 1.14537564])"
            ]
          },
          "metadata": {},
          "execution_count": 246
        }
      ],
      "source": [
        "X_r.singular_values_"
      ]
    },
    {
      "cell_type": "markdown",
      "id": "8b16aea0-2bb5-4a83-8a5c-99536024b6c9",
      "metadata": {
        "id": "8b16aea0-2bb5-4a83-8a5c-99536024b6c9"
      },
      "source": [
        "# SVD를 이용한 사진 압축예제"
      ]
    },
    {
      "cell_type": "code",
      "source": [],
      "metadata": {
        "id": "jNvsvhQ5QW0z"
      },
      "id": "jNvsvhQ5QW0z",
      "execution_count": null,
      "outputs": []
    },
    {
      "cell_type": "code",
      "execution_count": null,
      "id": "db66a3ae-12e1-4efc-ac5d-29cdb02ca5dd",
      "metadata": {
        "tags": [],
        "id": "db66a3ae-12e1-4efc-ac5d-29cdb02ca5dd"
      },
      "outputs": [],
      "source": [
        "file='C:\\Temp\\liberty.jpg'"
      ]
    },
    {
      "cell_type": "code",
      "execution_count": null,
      "id": "f326fbb3-75b4-4b1e-bab6-2d30356d5006",
      "metadata": {
        "tags": [],
        "id": "f326fbb3-75b4-4b1e-bab6-2d30356d5006"
      },
      "outputs": [],
      "source": [
        "from PIL import Image\n",
        "import matplotlib.pyplot as plt\n",
        "image=Image.open(file) # 파일열기\n",
        "plt.imshow(image) # 이미지 출력하기"
      ]
    },
    {
      "cell_type": "code",
      "execution_count": null,
      "id": "9ce99fb2-85cd-4769-abc5-3813741b823b",
      "metadata": {
        "tags": [],
        "id": "9ce99fb2-85cd-4769-abc5-3813741b823b"
      },
      "outputs": [],
      "source": [
        "# 읽어온 이미지의 크기 살펴보기\n",
        "image_N=np.array(image) # 이미지 파일을 넘파이 어레이로 변환\n",
        "image_N.shape # 변환된 어레이의 크기, 모양 보기"
      ]
    },
    {
      "cell_type": "code",
      "execution_count": null,
      "id": "12326b89-7ea7-4f2e-afcf-efa7dff5f574",
      "metadata": {
        "tags": [],
        "id": "12326b89-7ea7-4f2e-afcf-efa7dff5f574"
      },
      "outputs": [],
      "source": [
        "# 맨 왼쪽 상단의 픽셀정보보기\n",
        "C=image_N[0,0,:]\n",
        "C"
      ]
    },
    {
      "cell_type": "code",
      "execution_count": null,
      "id": "4d2ab6b9-bc57-4102-9a72-558bd02aa0f6",
      "metadata": {
        "tags": [],
        "id": "4d2ab6b9-bc57-4102-9a72-558bd02aa0f6"
      },
      "outputs": [],
      "source": [
        "# 위 색깔 정보를 색으로 표현하기\n",
        "D_img=np.zeros([5,5,3],dtype=np.uint8) # 가로 5, 세로 5 빈공간\n",
        "D_img[:,:,:]=C # 모든 픽셀을 C 값으로\n",
        "plt.imshow(D_img) # 이미지출력"
      ]
    },
    {
      "cell_type": "code",
      "execution_count": null,
      "id": "8723b831-abbf-434f-8985-44503b26b65c",
      "metadata": {
        "tags": [],
        "id": "8723b831-abbf-434f-8985-44503b26b65c"
      },
      "outputs": [],
      "source": [
        "# getdata()는 픽셀정보를 가져온다.\n",
        "# band=0는 RGB에서 R에 대한 정보를 가져온다.\n",
        "imageM=np.array(image.getdata(band=0),int)\n",
        "# 보통 이미지를 다루는 라이브러리는 픽셀을 열 기준으로 먼저 읽고\n",
        "# 넘파이는 행 기준으로 먼저 읽기 때문에, 넘파이의 가로, 세로를 바꿔줘야 함\n",
        "imageM.shape=(image.size[1],image.size[0])\n",
        "plt.imshow(imageM)"
      ]
    },
    {
      "cell_type": "code",
      "execution_count": null,
      "id": "f9468b46-ab14-4c50-8227-f8199297f3dc",
      "metadata": {
        "tags": [],
        "id": "f9468b46-ab14-4c50-8227-f8199297f3dc"
      },
      "outputs": [],
      "source": [
        "imageM.shape"
      ]
    },
    {
      "cell_type": "code",
      "execution_count": null,
      "id": "caf25816-1f0f-4a33-99e1-751101a0de2c",
      "metadata": {
        "tags": [],
        "id": "caf25816-1f0f-4a33-99e1-751101a0de2c"
      },
      "outputs": [],
      "source": [
        "from scipy.linalg import svd\n",
        "u,s,vt=svd(imageM) # svd 수행\n",
        "print(u.shape,s.shape,vt.shape)"
      ]
    },
    {
      "cell_type": "code",
      "execution_count": null,
      "id": "281d1677-41b1-4b45-96e6-50ce86f10cc7",
      "metadata": {
        "tags": [],
        "id": "281d1677-41b1-4b45-96e6-50ce86f10cc7"
      },
      "outputs": [],
      "source": [
        "# 특이값 10개의 값 그리기\n",
        "# svd를 수행하면 항상 특이값이 큰 순서부터 자동 정렬된다.\n",
        "plt.plot(s[:10])"
      ]
    },
    {
      "cell_type": "code",
      "execution_count": null,
      "id": "5b2de64b-283f-4054-97c4-8d1f0ccd89ae",
      "metadata": {
        "tags": [],
        "id": "5b2de64b-283f-4054-97c4-8d1f0ccd89ae"
      },
      "outputs": [],
      "source": [
        "plt.plot(s)"
      ]
    },
    {
      "cell_type": "code",
      "execution_count": null,
      "id": "c43c375b-89dd-40e4-9aae-a6a59027def6",
      "metadata": {
        "tags": [],
        "id": "c43c375b-89dd-40e4-9aae-a6a59027def6"
      },
      "outputs": [],
      "source": [
        "# 데이터의 일부를 발췌하여 이미지 다시 그려보기\n",
        "n=20 # 불러올 특이값 개수 설정\n",
        "IM=np.zeros([1517,1084])\n",
        "\n",
        "# 원래 행렬에서 특이값이 큰 순서대로 n개에 해당하는 행렬로 축약\n",
        "for i in range(n): # 첫번째 부터 n-1번째 특이값까지\n",
        "    # u 행렬의 i번째 열, vt행렬의 i번째 행을 불러서 행렬 곱 수행 (1517 by 1084 행렬이 됨)\n",
        "    # 이렇게 만든 행렬에 s[i]의 고유값을 곱해서 행렬 업데이트\n",
        "    # 업데이트된 행렬을 기존 행렬(IM)에 계속 더해감\n",
        "    IM+=s[i]*(u[:,i].reshape(-1,1)@vt[i,:].reshape(1,-1))\n",
        "plt.imshow(IM)\n",
        "plt.title(f'n={n}')"
      ]
    },
    {
      "cell_type": "code",
      "execution_count": null,
      "id": "8476fac5-8bae-4651-802d-de3fd33572a6",
      "metadata": {
        "tags": [],
        "id": "8476fac5-8bae-4651-802d-de3fd33572a6"
      },
      "outputs": [],
      "source": [
        "# 데이터의 일부를 발췌하여 이미지 다시 그려보기\n",
        "n=10 # 불러올 특이값 개수 설정\n",
        "IM=np.zeros([1517,1084])\n",
        "\n",
        "# 원래 행렬에서 특이값이 큰 순서대로 n개에 해당하는 행렬로 축약\n",
        "for i in range(n): # 첫번째 부터 n-1번째 특이값까지\n",
        "    # u 행렬의 i번째 열, vt행렬의 i번째 행을 불러서 행렬 곱 수행 (1517 by 1084 행렬이 됨)\n",
        "    # 이렇게 만든 행렬에 s[i]의 고유값을 곱해서 행렬 업데이트\n",
        "    # 업데이트된 행렬을 기존 행렬(IM)에 계속 더해감\n",
        "    IM+=s[i]*(u[:,i].reshape(-1,1)@vt[i,:].reshape(1,-1))\n",
        "plt.imshow(IM)\n",
        "plt.title(f'n={n}')"
      ]
    },
    {
      "cell_type": "code",
      "execution_count": null,
      "id": "0b9a481b-a62a-4125-b45e-c1a7df3c95e0",
      "metadata": {
        "tags": [],
        "id": "0b9a481b-a62a-4125-b45e-c1a7df3c95e0"
      },
      "outputs": [],
      "source": [
        "# 데이터의 일부를 발췌하여 이미지 다시 그려보기\n",
        "n=5 # 불러올 특이값 개수 설정\n",
        "IM=np.zeros([1517,1084])\n",
        "\n",
        "# 원래 행렬에서 특이값이 큰 순서대로 n개에 해당하는 행렬로 축약\n",
        "for i in range(n): # 첫번째 부터 n-1번째 특이값까지\n",
        "    # u 행렬의 i번째 열, vt행렬의 i번째 행을 불러서 행렬 곱 수행 (1517 by 1084 행렬이 됨)\n",
        "    # 이렇게 만든 행렬에 s[i]의 고유값을 곱해서 행렬 업데이트\n",
        "    # 업데이트된 행렬을 기존 행렬(IM)에 계속 더해감\n",
        "    IM+=s[i]*(u[:,i].reshape(-1,1)@vt[i,:].reshape(1,-1))\n",
        "plt.imshow(IM)\n",
        "plt.title(f'n={n}')"
      ]
    },
    {
      "cell_type": "code",
      "execution_count": null,
      "id": "7ac3e58e-ccc1-434b-883e-b0e9d16310d8",
      "metadata": {
        "tags": [],
        "id": "7ac3e58e-ccc1-434b-883e-b0e9d16310d8"
      },
      "outputs": [],
      "source": [
        "# 데이터의 일부를 발췌하여 이미지 다시 그려보기\n",
        "n=100 # 불러올 특이값 개수 설정\n",
        "IM=np.zeros([1517,1084])\n",
        "\n",
        "# 원래 행렬에서 특이값이 큰 순서대로 n개에 해당하는 행렬로 축약\n",
        "for i in range(n): # 첫번째 부터 n-1번째 특이값까지\n",
        "    # u 행렬의 i번째 열, vt행렬의 i번째 행을 불러서 행렬 곱 수행 (1517 by 1084 행렬이 됨)\n",
        "    # 이렇게 만든 행렬에 s[i]의 고유값을 곱해서 행렬 업데이트\n",
        "    # 업데이트된 행렬을 기존 행렬(IM)에 계속 더해감\n",
        "    IM+=s[i]*(u[:,i].reshape(-1,1)@vt[i,:].reshape(1,-1))\n",
        "plt.imshow(IM)\n",
        "plt.title(f'n={n}')"
      ]
    },
    {
      "cell_type": "markdown",
      "id": "20c0a2d0-379a-4f84-b1de-4ad6dc2d91be",
      "metadata": {
        "id": "20c0a2d0-379a-4f84-b1de-4ad6dc2d91be"
      },
      "source": [
        "# 잠재의미분석"
      ]
    },
    {
      "cell_type": "code",
      "execution_count": null,
      "id": "b1cc0c2b-0e72-449c-8158-c3b11f0bde79",
      "metadata": {
        "tags": [],
        "id": "b1cc0c2b-0e72-449c-8158-c3b11f0bde79"
      },
      "outputs": [],
      "source": [
        "# 예제 문서\n",
        "D = [\n",
        "    \"coke\",\n",
        "    \"coke hamburger pizza\",\n",
        "    \"hamburger\",\n",
        "    \"라면\",\n",
        "    \"짜장면 라면\",\n",
        "    \"라면 떡뽂이\"\n",
        "]"
      ]
    },
    {
      "cell_type": "code",
      "execution_count": null,
      "id": "94a5577d-7869-4ce5-bf02-16e9b7b22203",
      "metadata": {
        "tags": [],
        "id": "94a5577d-7869-4ce5-bf02-16e9b7b22203"
      },
      "outputs": [],
      "source": [
        "from sklearn.feature_extraction.text import TfidfVectorizer\n",
        "\n",
        "# TF-IDF 벡터화 객체 생성\n",
        "vectorizer = TfidfVectorizer()\n",
        "\n",
        "# TF-IDF 벡터화\n",
        "vectorizer = TfidfVectorizer()\n",
        "X = vectorizer.fit_transform(D)\n",
        "X = X.toarray() # 밀집행렬로 변환\n",
        "X.shape"
      ]
    },
    {
      "cell_type": "code",
      "execution_count": null,
      "id": "b4b24da8-5dbe-4bfa-90fe-f46465d3bba5",
      "metadata": {
        "tags": [],
        "id": "b4b24da8-5dbe-4bfa-90fe-f46465d3bba5"
      },
      "outputs": [],
      "source": [
        "X"
      ]
    },
    {
      "cell_type": "code",
      "execution_count": null,
      "id": "4d7338dc-e5fc-41ed-b310-9d2e1ceec93e",
      "metadata": {
        "tags": [],
        "id": "4d7338dc-e5fc-41ed-b310-9d2e1ceec93e"
      },
      "outputs": [],
      "source": [
        "from scipy.linalg import svd\n",
        "from sympy import Matrix\n",
        "import numpy as np\n",
        "\n",
        "u,s,vt=svd(X) # svd 수행\n",
        "\n",
        "M1=np.zeros([6,6])\n",
        "\n",
        "# 원래 행렬에서 특이값이 큰 순서대로 n개에 해당하는 행렬로 축약\n",
        "for i in range(2): # 첫번째 부터 n-1번째 특이값까지\n",
        "    M1+=s[i]*(u[:,i].reshape(-1,1)@vt[i,:].reshape(1,-1))\n",
        "\n",
        "Matrix(M1)"
      ]
    },
    {
      "cell_type": "code",
      "execution_count": null,
      "id": "e44ddbc9-48c4-4d57-a442-04f060ec2a27",
      "metadata": {
        "tags": [],
        "id": "e44ddbc9-48c4-4d57-a442-04f060ec2a27"
      },
      "outputs": [],
      "source": [
        "Matrix(lsa_topic_matrix)"
      ]
    },
    {
      "cell_type": "code",
      "execution_count": null,
      "id": "53923c36-1ebb-4d68-99af-b43b1e1f108c",
      "metadata": {
        "tags": [],
        "id": "53923c36-1ebb-4d68-99af-b43b1e1f108c"
      },
      "outputs": [],
      "source": [
        "from sklearn.decomposition import TruncatedSVD\n",
        "\n",
        "# LSA 수행\n",
        "num_topics = 2\n",
        "lsa_model = TruncatedSVD(n_components=num_topics)\n",
        "lsa_topic_matrix = lsa_model.fit_transform(X)\n",
        "\n",
        "# 단어 목록\n",
        "terms = vectorizer.get_feature_names_out()"
      ]
    },
    {
      "cell_type": "code",
      "execution_count": null,
      "id": "76f52cb8-47c9-4465-b4ac-b7a181095813",
      "metadata": {
        "tags": [],
        "id": "76f52cb8-47c9-4465-b4ac-b7a181095813"
      },
      "outputs": [],
      "source": [
        "terms"
      ]
    },
    {
      "cell_type": "code",
      "execution_count": null,
      "id": "5b55c635-d613-456d-9e06-3fd95dea680a",
      "metadata": {
        "tags": [],
        "id": "5b55c635-d613-456d-9e06-3fd95dea680a"
      },
      "outputs": [],
      "source": [
        "# 주제와 관련된 주요 단어 출력\n",
        "for i, topic in enumerate(lsa_model.components_):\n",
        "    top_keywords_idx = topic.argsort()[-3:][::-1]  # 주요 단어 3개 추출\n",
        "    top_keywords = [terms[idx] for idx in top_keywords_idx]\n",
        "    print(f\"Topic {i + 1}: {', '.join(top_keywords)}\")\n",
        "\n",
        "# 문서별 주제 할당\n",
        "document_topics = lsa_model.transform(X)\n",
        "print(\"\\nDocument-Topic Matrix:\")\n",
        "print(document_topics)"
      ]
    },
    {
      "cell_type": "code",
      "execution_count": null,
      "id": "c9746d9d-5891-40e1-af87-9d2474b016b4",
      "metadata": {
        "id": "c9746d9d-5891-40e1-af87-9d2474b016b4"
      },
      "outputs": [],
      "source": []
    }
  ],
  "metadata": {
    "kernelspec": {
      "display_name": "Python 3 (ipykernel)",
      "language": "python",
      "name": "python3"
    },
    "language_info": {
      "codemirror_mode": {
        "name": "ipython",
        "version": 3
      },
      "file_extension": ".py",
      "mimetype": "text/x-python",
      "name": "python",
      "nbconvert_exporter": "python",
      "pygments_lexer": "ipython3",
      "version": "3.10.12"
    },
    "colab": {
      "provenance": [],
      "include_colab_link": true
    }
  },
  "nbformat": 4,
  "nbformat_minor": 5
}