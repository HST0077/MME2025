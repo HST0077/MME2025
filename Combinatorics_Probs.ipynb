{
  "cells": [
    {
      "cell_type": "markdown",
      "id": "af8d4c6b-e5e1-4f36-8344-0136b4fae52e",
      "metadata": {
        "id": "af8d4c6b-e5e1-4f36-8344-0136b4fae52e"
      },
      "source": [
        "## S=[‘A’,’B’,’C’,’D’,’E’]에서 2개를 중복을 허락하지 않고 랜덤하게 추출하시오."
      ]
    },
    {
      "cell_type": "code",
      "execution_count": 1,
      "id": "59b97327-250a-4b4a-9eb5-dddd57f4e9d3",
      "metadata": {
        "tags": [],
        "colab": {
          "base_uri": "https://localhost:8080/"
        },
        "id": "59b97327-250a-4b4a-9eb5-dddd57f4e9d3",
        "outputId": "199c5ffd-0a82-4a17-dff4-46f305a938ca"
      },
      "outputs": [
        {
          "output_type": "execute_result",
          "data": {
            "text/plain": [
              "65"
            ]
          },
          "metadata": {},
          "execution_count": 1
        }
      ],
      "source": [
        "# ord()는 문자의 unicode를 반환하는 함수\n",
        "ord('A')"
      ]
    },
    {
      "cell_type": "code",
      "execution_count": 2,
      "id": "1ee8c412-2761-450a-8f53-94471c1a88de",
      "metadata": {
        "tags": [],
        "colab": {
          "base_uri": "https://localhost:8080/",
          "height": 35
        },
        "id": "1ee8c412-2761-450a-8f53-94471c1a88de",
        "outputId": "22d71a9e-1b06-4086-a62e-fa1c35342499"
      },
      "outputs": [
        {
          "output_type": "execute_result",
          "data": {
            "text/plain": [
              "'A'"
            ],
            "application/vnd.google.colaboratory.intrinsic+json": {
              "type": "string"
            }
          },
          "metadata": {},
          "execution_count": 2
        }
      ],
      "source": [
        "# 직전 셀의 결과를 다시 문자로 변환\n",
        "chr(_)"
      ]
    },
    {
      "cell_type": "code",
      "execution_count": 3,
      "id": "3483ee13-c6e2-43d2-8445-d44df4d34017",
      "metadata": {
        "tags": [],
        "colab": {
          "base_uri": "https://localhost:8080/"
        },
        "id": "3483ee13-c6e2-43d2-8445-d44df4d34017",
        "outputId": "f5508596-7ffd-4ebd-9e73-9b4969aa2e53"
      },
      "outputs": [
        {
          "output_type": "execute_result",
          "data": {
            "text/plain": [
              "['A', 'B', 'C', 'D', 'E']"
            ]
          },
          "metadata": {},
          "execution_count": 3
        }
      ],
      "source": [
        "# 알파벳 리스트 생성\n",
        "S=[chr(i) for i in range(ord('A'),ord('F'))]\n",
        "S"
      ]
    },
    {
      "cell_type": "code",
      "execution_count": 4,
      "id": "153e8d6a-21a2-4a43-85ff-2f8d00be047c",
      "metadata": {
        "tags": [],
        "colab": {
          "base_uri": "https://localhost:8080/"
        },
        "id": "153e8d6a-21a2-4a43-85ff-2f8d00be047c",
        "outputId": "68e52d90-d3ce-49b5-82b2-d75a158d6152"
      },
      "outputs": [
        {
          "output_type": "execute_result",
          "data": {
            "text/plain": [
              "['C', 'B']"
            ]
          },
          "metadata": {},
          "execution_count": 4
        }
      ],
      "source": [
        "from random import sample\n",
        "sample(S,2)"
      ]
    },
    {
      "cell_type": "code",
      "execution_count": 5,
      "id": "32ea0cf2-31e8-412f-821f-c5b1ac651fc9",
      "metadata": {
        "tags": [],
        "colab": {
          "base_uri": "https://localhost:8080/"
        },
        "id": "32ea0cf2-31e8-412f-821f-c5b1ac651fc9",
        "outputId": "3a5b021c-4fce-450d-febc-674169d11d6c"
      },
      "outputs": [
        {
          "output_type": "execute_result",
          "data": {
            "text/plain": [
              "['B', 'E', 'C', 'A']"
            ]
          },
          "metadata": {},
          "execution_count": 5
        }
      ],
      "source": [
        "from random import choices\n",
        "choices(S,k=4)"
      ]
    },
    {
      "cell_type": "markdown",
      "id": "7dc5e4a2-f4fd-42b9-ade6-2af18b83afa6",
      "metadata": {
        "id": "7dc5e4a2-f4fd-42b9-ade6-2af18b83afa6"
      },
      "source": [
        "## 정수 -5에서 5까지의 정수에서 랜덤하게 20개를 무작위 추출하고 히스토그램으로 그려보아라."
      ]
    },
    {
      "cell_type": "code",
      "execution_count": 12,
      "id": "eaa9468a-d1cd-4fad-96b5-cd26e5cbbebf",
      "metadata": {
        "tags": [],
        "colab": {
          "base_uri": "https://localhost:8080/"
        },
        "id": "eaa9468a-d1cd-4fad-96b5-cd26e5cbbebf",
        "outputId": "8386b54c-a4d8-42d0-8de2-4a36e449fde3"
      },
      "outputs": [
        {
          "output_type": "execute_result",
          "data": {
            "text/plain": [
              "[-3, 4, -4, -1, -4, 2, 2, 2, 5, 1, -2, -4, 2, -5, 1, 1, 4, -5, 2, -1]"
            ]
          },
          "metadata": {},
          "execution_count": 12
        }
      ],
      "source": [
        "import random as rd\n",
        "\n",
        "rd.seed(1)\n",
        "A=[rd.randint(-5,5) for _ in range(20)]\n",
        "A"
      ]
    },
    {
      "cell_type": "code",
      "source": [
        "import numpy as np\n",
        "np.histogram(A)"
      ],
      "metadata": {
        "colab": {
          "base_uri": "https://localhost:8080/"
        },
        "id": "EdgLp-8QnyQ5",
        "outputId": "f96e4e57-9a88-4c8a-e14d-4b0c9db23599"
      },
      "id": "EdgLp-8QnyQ5",
      "execution_count": 13,
      "outputs": [
        {
          "output_type": "execute_result",
          "data": {
            "text/plain": [
              "(array([2, 3, 1, 1, 2, 0, 3, 5, 0, 3]),\n",
              " array([-5., -4., -3., -2., -1.,  0.,  1.,  2.,  3.,  4.,  5.]))"
            ]
          },
          "metadata": {},
          "execution_count": 13
        }
      ]
    },
    {
      "cell_type": "code",
      "source": [
        "import matplotlib.pyplot as plt\n",
        "plt.hist(A)\n",
        "plt.show()"
      ],
      "metadata": {
        "colab": {
          "base_uri": "https://localhost:8080/",
          "height": 430
        },
        "id": "JcfirLoWoCnN",
        "outputId": "4b765b8b-5155-43a9-f5d1-05b2daa06894"
      },
      "id": "JcfirLoWoCnN",
      "execution_count": 14,
      "outputs": [
        {
          "output_type": "display_data",
          "data": {
            "text/plain": [
              "<Figure size 640x480 with 1 Axes>"
            ],
            "image/png": "[encoded data removed]"
          },
          "metadata": {}
        }
      ]
    },
    {
      "cell_type": "code",
      "execution_count": null,
      "id": "0ea115dd-6daf-4e46-afbf-d18120a10631",
      "metadata": {
        "tags": [],
        "id": "0ea115dd-6daf-4e46-afbf-d18120a10631",
        "outputId": "a6924920-19ca-4003-c1a2-162e1ad43144"
      },
      "outputs": [
        {
          "data": {
            "text/plain": [
              "array([ 5,  1, -4, -4, -2, -5, -5,  4, -2, -3,  0, -1,  1,  2, -1, -1, -3,\n",
              "       -3, -4,  0])"
            ]
          },
          "execution_count": 8,
          "metadata": {},
          "output_type": "execute_result"
        }
      ],
      "source": [
        "import numpy as np\n",
        "np.random.randint(-5,6,size=20)"
      ]
    },
    {
      "cell_type": "markdown",
      "id": "9d45f005-befd-43a8-9517-ba52909e87e1",
      "metadata": {
        "id": "9d45f005-befd-43a8-9517-ba52909e87e1"
      },
      "source": [
        "### 50명의 학생 중 자바언어를 아는 학생은 30명, C언어를 아는 학생은 18명, 파이썬 언어를 아는 학생은 26명이다. 9명은 자바와 C를 하고, 16명은 자바와 파이썬, 8명은 파이썬과 C를 안다고 한다. 적어도 하나의 언어를 아는 학생이 47명이라고 할 때, 자바는 알지만 C나 파이썬은 알지 못하는 학생 수는 모두 몇 명인가?"
      ]
    },
    {
      "cell_type": "code",
      "execution_count": 15,
      "id": "f34bd2d4-eb6e-4bbe-9f8f-b48d4f876c11",
      "metadata": {
        "colab": {
          "base_uri": "https://localhost:8080/",
          "height": 672
        },
        "id": "f34bd2d4-eb6e-4bbe-9f8f-b48d4f876c11",
        "outputId": "88df7a2f-685d-4a98-849a-a50246b4233b"
      },
      "outputs": [
        {
          "output_type": "display_data",
          "data": {
            "text/plain": [
              "<Figure size 800x800 with 1 Axes>"
            ],
            "image/png": "[encoded data removed]"
          },
          "metadata": {}
        },
        {
          "output_type": "execute_result",
          "data": {
            "text/plain": [
              "({'100': 11, '010': 7, '001': 8, '110': 3, '101': 10, '011': 2, '111': 6}, 3)"
            ]
          },
          "metadata": {},
          "execution_count": 15
        }
      ],
      "source": [
        "import matplotlib.pyplot as plt\n",
        "from matplotlib_venn import venn3\n",
        "\n",
        "# 주어진 값\n",
        "J = 30  # Java\n",
        "C = 18  # C\n",
        "P = 26  # Python\n",
        "\n",
        "JC = 9  # Java ∩ C\n",
        "JP = 16  # Java ∩ Python\n",
        "CP = 8  # C ∩ Python\n",
        "\n",
        "# 적어도 하나의 언어를 아는 학생 수\n",
        "at_least_one = 47\n",
        "\n",
        "# 세 언어 모두 아는 학생 수 (이미 계산으로 6명)\n",
        "JCP = 6\n",
        "\n",
        "# 나머지 교집합에서 JCP를 빼줘야 순수한 두 집합만 아는 학생 수\n",
        "JC_only = JC - JCP  # Java ∩ C only\n",
        "JP_only = JP - JCP  # Java ∩ Python only\n",
        "CP_only = CP - JCP  # C ∩ Python only\n",
        "\n",
        "# 각 집합 단독 (오직 한 언어만 아는 사람)\n",
        "J_only = J - JC_only - JP_only - JCP\n",
        "C_only = C - JC_only - CP_only - JCP\n",
        "P_only = P - JP_only - CP_only - JCP\n",
        "\n",
        "# 아무 언어도 모르는 학생 수\n",
        "none = 50 - at_least_one\n",
        "\n",
        "# 데이터 확인\n",
        "areas = {\n",
        "    '100': J_only,\n",
        "    '010': C_only,\n",
        "    '001': P_only,\n",
        "    '110': JC_only,\n",
        "    '101': JP_only,\n",
        "    '011': CP_only,\n",
        "    '111': JCP\n",
        "}\n",
        "\n",
        "# 벤 다이어그램 그리기\n",
        "plt.figure(figsize=(8, 8))\n",
        "venn3(subsets=areas, set_labels=('Java', 'C', 'Python'))\n",
        "plt.title(\"Venn Diagram of Students Knowing Programming Languages\")\n",
        "plt.show()\n",
        "\n",
        "# 각 영역 출력\n",
        "areas, none\n"
      ]
    },
    {
      "cell_type": "markdown",
      "id": "d76e7b29-c900-4085-a257-89729e0168cd",
      "metadata": {
        "id": "d76e7b29-c900-4085-a257-89729e0168cd"
      },
      "source": [
        "## 자연수 n,m 에 대하여, 3n+m=16를 만족하는 (n,m) 순서쌍은 모두 몇 개가 존재할까?"
      ]
    },
    {
      "cell_type": "code",
      "execution_count": 16,
      "id": "4cc095a2-6345-45f7-a6e4-41e7ede3c9c3",
      "metadata": {
        "colab": {
          "base_uri": "https://localhost:8080/",
          "height": 206
        },
        "id": "4cc095a2-6345-45f7-a6e4-41e7ede3c9c3",
        "outputId": "3977561f-fa06-4da6-e43a-2bda66cf6d05"
      },
      "outputs": [
        {
          "output_type": "execute_result",
          "data": {
            "text/plain": [
              "    B=1 B=2 B=3 B=4 B=5 B=6 B=7 B=8 B=9 B=10 B=11 B=12 B=13 B=14 B=15 B=16\n",
              "A=1   F   F   F   F   F   F   F   F   F    F    F    F    T    F    F    F\n",
              "A=2   F   F   F   F   F   F   F   F   F    T    F    F    F    F    F    F\n",
              "A=3   F   F   F   F   F   F   T   F   F    F    F    F    F    F    F    F\n",
              "A=4   F   F   F   T   F   F   F   F   F    F    F    F    F    F    F    F\n",
              "A=5   T   F   F   F   F   F   F   F   F    F    F    F    F    F    F    F"
            ],
            "text/html": [
              "\n",
              "  <div id=\"df-991d3f7c-3bb1-4246-b831-141796416572\" class=\"colab-df-container\">\n",
              "    <div>\n",
              "<style scoped>\n",
              "    .dataframe tbody tr th:only-of-type {\n",
              "        vertical-align: middle;\n",
              "    }\n",
              "\n",
              "    .dataframe tbody tr th {\n",
              "        vertical-align: top;\n",
              "    }\n",
              "\n",
              "    .dataframe thead th {\n",
              "        text-align: right;\n",
              "    }\n",
              "</style>\n",
              "<table border=\"1\" class=\"dataframe\">\n",
              "  <thead>\n",
              "    <tr style=\"text-align: right;\">\n",
              "      <th></th>\n",
              "      <th>B=1</th>\n",
              "      <th>B=2</th>\n",
              "      <th>B=3</th>\n",
              "      <th>B=4</th>\n",
              "      <th>B=5</th>\n",
              "      <th>B=6</th>\n",
              "      <th>B=7</th>\n",
              "      <th>B=8</th>\n",
              "      <th>B=9</th>\n",
              "      <th>B=10</th>\n",
              "      <th>B=11</th>\n",
              "      <th>B=12</th>\n",
              "      <th>B=13</th>\n",
              "      <th>B=14</th>\n",
              "      <th>B=15</th>\n",
              "      <th>B=16</th>\n",
              "    </tr>\n",
              "  </thead>\n",
              "  <tbody>\n",
              "    <tr>\n",
              "      <th>A=1</th>\n",
              "      <td>F</td>\n",
              "      <td>F</td>\n",
              "      <td>F</td>\n",
              "      <td>F</td>\n",
              "      <td>F</td>\n",
              "      <td>F</td>\n",
              "      <td>F</td>\n",
              "      <td>F</td>\n",
              "      <td>F</td>\n",
              "      <td>F</td>\n",
              "      <td>F</td>\n",
              "      <td>F</td>\n",
              "      <td>T</td>\n",
              "      <td>F</td>\n",
              "      <td>F</td>\n",
              "      <td>F</td>\n",
              "    </tr>\n",
              "    <tr>\n",
              "      <th>A=2</th>\n",
              "      <td>F</td>\n",
              "      <td>F</td>\n",
              "      <td>F</td>\n",
              "      <td>F</td>\n",
              "      <td>F</td>\n",
              "      <td>F</td>\n",
              "      <td>F</td>\n",
              "      <td>F</td>\n",
              "      <td>F</td>\n",
              "      <td>T</td>\n",
              "      <td>F</td>\n",
              "      <td>F</td>\n",
              "      <td>F</td>\n",
              "      <td>F</td>\n",
              "      <td>F</td>\n",
              "      <td>F</td>\n",
              "    </tr>\n",
              "    <tr>\n",
              "      <th>A=3</th>\n",
              "      <td>F</td>\n",
              "      <td>F</td>\n",
              "      <td>F</td>\n",
              "      <td>F</td>\n",
              "      <td>F</td>\n",
              "      <td>F</td>\n",
              "      <td>T</td>\n",
              "      <td>F</td>\n",
              "      <td>F</td>\n",
              "      <td>F</td>\n",
              "      <td>F</td>\n",
              "      <td>F</td>\n",
              "      <td>F</td>\n",
              "      <td>F</td>\n",
              "      <td>F</td>\n",
              "      <td>F</td>\n",
              "    </tr>\n",
              "    <tr>\n",
              "      <th>A=4</th>\n",
              "      <td>F</td>\n",
              "      <td>F</td>\n",
              "      <td>F</td>\n",
              "      <td>T</td>\n",
              "      <td>F</td>\n",
              "      <td>F</td>\n",
              "      <td>F</td>\n",
              "      <td>F</td>\n",
              "      <td>F</td>\n",
              "      <td>F</td>\n",
              "      <td>F</td>\n",
              "      <td>F</td>\n",
              "      <td>F</td>\n",
              "      <td>F</td>\n",
              "      <td>F</td>\n",
              "      <td>F</td>\n",
              "    </tr>\n",
              "    <tr>\n",
              "      <th>A=5</th>\n",
              "      <td>T</td>\n",
              "      <td>F</td>\n",
              "      <td>F</td>\n",
              "      <td>F</td>\n",
              "      <td>F</td>\n",
              "      <td>F</td>\n",
              "      <td>F</td>\n",
              "      <td>F</td>\n",
              "      <td>F</td>\n",
              "      <td>F</td>\n",
              "      <td>F</td>\n",
              "      <td>F</td>\n",
              "      <td>F</td>\n",
              "      <td>F</td>\n",
              "      <td>F</td>\n",
              "      <td>F</td>\n",
              "    </tr>\n",
              "  </tbody>\n",
              "</table>\n",
              "</div>\n",
              "    <div class=\"colab-df-buttons\">\n",
              "\n",
              "  <div class=\"colab-df-container\">\n",
              "    <button class=\"colab-df-convert\" onclick=\"convertToInteractive('df-991d3f7c-3bb1-4246-b831-141796416572')\"\n",
              "            title=\"Convert this dataframe to an interactive table.\"\n",
              "            style=\"display:none;\">\n",
              "\n",
              "  <svg xmlns=\"http://www.w3.org/2000/svg\" height=\"24px\" viewBox=\"0 -960 960 960\">\n",
              "    <path d=\"M120-120v-720h720v720H120Zm60-500h600v-160H180v160Zm220 220h160v-160H400v160Zm0 220h160v-160H400v160ZM180-400h160v-160H180v160Zm440 0h160v-160H620v160ZM180-180h160v-160H180v160Zm440 0h160v-160H620v160Z\"/>\n",
              "  </svg>\n",
              "    </button>\n",
              "\n",
              "  <style>\n",
              "    .colab-df-container {\n",
              "      display:flex;\n",
              "      gap: 12px;\n",
              "    }\n",
              "\n",
              "    .colab-df-convert {\n",
              "      background-color: #E8F0FE;\n",
              "      border: none;\n",
              "      border-radius: 50%;\n",
              "      cursor: pointer;\n",
              "      display: none;\n",
              "      fill: #1967D2;\n",
              "      height: 32px;\n",
              "      padding: 0 0 0 0;\n",
              "      width: 32px;\n",
              "    }\n",
              "\n",
              "    .colab-df-convert:hover {\n",
              "      background-color: #E2EBFA;\n",
              "      box-shadow: 0px 1px 2px rgba(60, 64, 67, 0.3), 0px 1px 3px 1px rgba(60, 64, 67, 0.15);\n",
              "      fill: #174EA6;\n",
              "    }\n",
              "\n",
              "    .colab-df-buttons div {\n",
              "      margin-bottom: 4px;\n",
              "    }\n",
              "\n",
              "    [theme=dark] .colab-df-convert {\n",
              "      background-color: #3B4455;\n",
              "      fill: #D2E3FC;\n",
              "    }\n",
              "\n",
              "    [theme=dark] .colab-df-convert:hover {\n",
              "      background-color: #434B5C;\n",
              "      box-shadow: 0px 1px 3px 1px rgba(0, 0, 0, 0.15);\n",
              "      filter: drop-shadow(0px 1px 2px rgba(0, 0, 0, 0.3));\n",
              "      fill: #FFFFFF;\n",
              "    }\n",
              "  </style>\n",
              "\n",
              "    <script>\n",
              "      const buttonEl =\n",
              "        document.querySelector('#df-991d3f7c-3bb1-4246-b831-141796416572 button.colab-df-convert');\n",
              "      buttonEl.style.display =\n",
              "        google.colab.kernel.accessAllowed ? 'block' : 'none';\n",
              "\n",
              "      async function convertToInteractive(key) {\n",
              "        const element = document.querySelector('#df-991d3f7c-3bb1-4246-b831-141796416572');\n",
              "        const dataTable =\n",
              "          await google.colab.kernel.invokeFunction('convertToInteractive',\n",
              "                                                    [key], {});\n",
              "        if (!dataTable) return;\n",
              "\n",
              "        const docLinkHtml = 'Like what you see? Visit the ' +\n",
              "          '<a target=\"_blank\" href=https://colab.research.google.com/notebooks/data_table.ipynb>data table notebook</a>'\n",
              "          + ' to learn more about interactive tables.';\n",
              "        element.innerHTML = '';\n",
              "        dataTable['output_type'] = 'display_data';\n",
              "        await google.colab.output.renderOutput(dataTable, element);\n",
              "        const docLink = document.createElement('div');\n",
              "        docLink.innerHTML = docLinkHtml;\n",
              "        element.appendChild(docLink);\n",
              "      }\n",
              "    </script>\n",
              "  </div>\n",
              "\n",
              "\n",
              "<div id=\"df-20e5a6f2-2bdb-482d-b7a3-757a02f659e0\">\n",
              "  <button class=\"colab-df-quickchart\" onclick=\"quickchart('df-20e5a6f2-2bdb-482d-b7a3-757a02f659e0')\"\n",
              "            title=\"Suggest charts\"\n",
              "            style=\"display:none;\">\n",
              "\n",
              "<svg xmlns=\"http://www.w3.org/2000/svg\" height=\"24px\"viewBox=\"0 0 24 24\"\n",
              "     width=\"24px\">\n",
              "    <g>\n",
              "        <path d=\"M19 3H5c-1.1 0-2 .9-2 2v14c0 1.1.9 2 2 2h14c1.1 0 2-.9 2-2V5c0-1.1-.9-2-2-2zM9 17H7v-7h2v7zm4 0h-2V7h2v10zm4 0h-2v-4h2v4z\"/>\n",
              "    </g>\n",
              "</svg>\n",
              "  </button>\n",
              "\n",
              "<style>\n",
              "  .colab-df-quickchart {\n",
              "      --bg-color: #E8F0FE;\n",
              "      --fill-color: #1967D2;\n",
              "      --hover-bg-color: #E2EBFA;\n",
              "      --hover-fill-color: #174EA6;\n",
              "      --disabled-fill-color: #AAA;\n",
              "      --disabled-bg-color: #DDD;\n",
              "  }\n",
              "\n",
              "  [theme=dark] .colab-df-quickchart {\n",
              "      --bg-color: #3B4455;\n",
              "      --fill-color: #D2E3FC;\n",
              "      --hover-bg-color: #434B5C;\n",
              "      --hover-fill-color: #FFFFFF;\n",
              "      --disabled-bg-color: #3B4455;\n",
              "      --disabled-fill-color: #666;\n",
              "  }\n",
              "\n",
              "  .colab-df-quickchart {\n",
              "    background-color: var(--bg-color);\n",
              "    border: none;\n",
              "    border-radius: 50%;\n",
              "    cursor: pointer;\n",
              "    display: none;\n",
              "    fill: var(--fill-color);\n",
              "    height: 32px;\n",
              "    padding: 0;\n",
              "    width: 32px;\n",
              "  }\n",
              "\n",
              "  .colab-df-quickchart:hover {\n",
              "    background-color: var(--hover-bg-color);\n",
              "    box-shadow: 0 1px 2px rgba(60, 64, 67, 0.3), 0 1px 3px 1px rgba(60, 64, 67, 0.15);\n",
              "    fill: var(--button-hover-fill-color);\n",
              "  }\n",
              "\n",
              "  .colab-df-quickchart-complete:disabled,\n",
              "  .colab-df-quickchart-complete:disabled:hover {\n",
              "    background-color: var(--disabled-bg-color);\n",
              "    fill: var(--disabled-fill-color);\n",
              "    box-shadow: none;\n",
              "  }\n",
              "\n",
              "  .colab-df-spinner {\n",
              "    border: 2px solid var(--fill-color);\n",
              "    border-color: transparent;\n",
              "    border-bottom-color: var(--fill-color);\n",
              "    animation:\n",
              "      spin 1s steps(1) infinite;\n",
              "  }\n",
              "\n",
              "  @keyframes spin {\n",
              "    0% {\n",
              "      border-color: transparent;\n",
              "      border-bottom-color: var(--fill-color);\n",
              "      border-left-color: var(--fill-color);\n",
              "    }\n",
              "    20% {\n",
              "      border-color: transparent;\n",
              "      border-left-color: var(--fill-color);\n",
              "      border-top-color: var(--fill-color);\n",
              "    }\n",
              "    30% {\n",
              "      border-color: transparent;\n",
              "      border-left-color: var(--fill-color);\n",
              "      border-top-color: var(--fill-color);\n",
              "      border-right-color: var(--fill-color);\n",
              "    }\n",
              "    40% {\n",
              "      border-color: transparent;\n",
              "      border-right-color: var(--fill-color);\n",
              "      border-top-color: var(--fill-color);\n",
              "    }\n",
              "    60% {\n",
              "      border-color: transparent;\n",
              "      border-right-color: var(--fill-color);\n",
              "    }\n",
              "    80% {\n",
              "      border-color: transparent;\n",
              "      border-right-color: var(--fill-color);\n",
              "      border-bottom-color: var(--fill-color);\n",
              "    }\n",
              "    90% {\n",
              "      border-color: transparent;\n",
              "      border-bottom-color: var(--fill-color);\n",
              "    }\n",
              "  }\n",
              "</style>\n",
              "\n",
              "  <script>\n",
              "    async function quickchart(key) {\n",
              "      const quickchartButtonEl =\n",
              "        document.querySelector('#' + key + ' button');\n",
              "      quickchartButtonEl.disabled = true;  // To prevent multiple clicks.\n",
              "      quickchartButtonEl.classList.add('colab-df-spinner');\n",
              "      try {\n",
              "        const charts = await google.colab.kernel.invokeFunction(\n",
              "            'suggestCharts', [key], {});\n",
              "      } catch (error) {\n",
              "        console.error('Error during call to suggestCharts:', error);\n",
              "      }\n",
              "      quickchartButtonEl.classList.remove('colab-df-spinner');\n",
              "      quickchartButtonEl.classList.add('colab-df-quickchart-complete');\n",
              "    }\n",
              "    (() => {\n",
              "      let quickchartButtonEl =\n",
              "        document.querySelector('#df-20e5a6f2-2bdb-482d-b7a3-757a02f659e0 button');\n",
              "      quickchartButtonEl.style.display =\n",
              "        google.colab.kernel.accessAllowed ? 'block' : 'none';\n",
              "    })();\n",
              "  </script>\n",
              "</div>\n",
              "\n",
              "  <div id=\"id_01e3d92f-395f-4188-9170-825bd6b3b67c\">\n",
              "    <style>\n",
              "      .colab-df-generate {\n",
              "        background-color: #E8F0FE;\n",
              "        border: none;\n",
              "        border-radius: 50%;\n",
              "        cursor: pointer;\n",
              "        display: none;\n",
              "        fill: #1967D2;\n",
              "        height: 32px;\n",
              "        padding: 0 0 0 0;\n",
              "        width: 32px;\n",
              "      }\n",
              "\n",
              "      .colab-df-generate:hover {\n",
              "        background-color: #E2EBFA;\n",
              "        box-shadow: 0px 1px 2px rgba(60, 64, 67, 0.3), 0px 1px 3px 1px rgba(60, 64, 67, 0.15);\n",
              "        fill: #174EA6;\n",
              "      }\n",
              "\n",
              "      [theme=dark] .colab-df-generate {\n",
              "        background-color: #3B4455;\n",
              "        fill: #D2E3FC;\n",
              "      }\n",
              "\n",
              "      [theme=dark] .colab-df-generate:hover {\n",
              "        background-color: #434B5C;\n",
              "        box-shadow: 0px 1px 3px 1px rgba(0, 0, 0, 0.15);\n",
              "        filter: drop-shadow(0px 1px 2px rgba(0, 0, 0, 0.3));\n",
              "        fill: #FFFFFF;\n",
              "      }\n",
              "    </style>\n",
              "    <button class=\"colab-df-generate\" onclick=\"generateWithVariable('df')\"\n",
              "            title=\"Generate code using this dataframe.\"\n",
              "            style=\"display:none;\">\n",
              "\n",
              "  <svg xmlns=\"http://www.w3.org/2000/svg\" height=\"24px\"viewBox=\"0 0 24 24\"\n",
              "       width=\"24px\">\n",
              "    <path d=\"M7,19H8.4L18.45,9,17,7.55,7,17.6ZM5,21V16.75L18.45,3.32a2,2,0,0,1,2.83,0l1.4,1.43a1.91,1.91,0,0,1,.58,1.4,1.91,1.91,0,0,1-.58,1.4L9.25,21ZM18.45,9,17,7.55Zm-12,3A5.31,5.31,0,0,0,4.9,8.1,5.31,5.31,0,0,0,1,6.5,5.31,5.31,0,0,0,4.9,4.9,5.31,5.31,0,0,0,6.5,1,5.31,5.31,0,0,0,8.1,4.9,5.31,5.31,0,0,0,12,6.5,5.46,5.46,0,0,0,6.5,12Z\"/>\n",
              "  </svg>\n",
              "    </button>\n",
              "    <script>\n",
              "      (() => {\n",
              "      const buttonEl =\n",
              "        document.querySelector('#id_01e3d92f-395f-4188-9170-825bd6b3b67c button.colab-df-generate');\n",
              "      buttonEl.style.display =\n",
              "        google.colab.kernel.accessAllowed ? 'block' : 'none';\n",
              "\n",
              "      buttonEl.onclick = () => {\n",
              "        google.colab.notebook.generateWithVariable('df');\n",
              "      }\n",
              "      })();\n",
              "    </script>\n",
              "  </div>\n",
              "\n",
              "    </div>\n",
              "  </div>\n"
            ],
            "application/vnd.google.colaboratory.intrinsic+json": {
              "type": "dataframe",
              "variable_name": "df",
              "summary": "{\n  \"name\": \"df\",\n  \"rows\": 5,\n  \"fields\": [\n    {\n      \"column\": \"B=1\",\n      \"properties\": {\n        \"dtype\": \"category\",\n        \"num_unique_values\": 2,\n        \"samples\": [\n          \"T\",\n          \"F\"\n        ],\n        \"semantic_type\": \"\",\n        \"description\": \"\"\n      }\n    },\n    {\n      \"column\": \"B=2\",\n      \"properties\": {\n        \"dtype\": \"category\",\n        \"num_unique_values\": 1,\n        \"samples\": [\n          \"F\"\n        ],\n        \"semantic_type\": \"\",\n        \"description\": \"\"\n      }\n    },\n    {\n      \"column\": \"B=3\",\n      \"properties\": {\n        \"dtype\": \"category\",\n        \"num_unique_values\": 1,\n        \"samples\": [\n          \"F\"\n        ],\n        \"semantic_type\": \"\",\n        \"description\": \"\"\n      }\n    },\n    {\n      \"column\": \"B=4\",\n      \"properties\": {\n        \"dtype\": \"category\",\n        \"num_unique_values\": 2,\n        \"samples\": [\n          \"T\"\n        ],\n        \"semantic_type\": \"\",\n        \"description\": \"\"\n      }\n    },\n    {\n      \"column\": \"B=5\",\n      \"properties\": {\n        \"dtype\": \"category\",\n        \"num_unique_values\": 1,\n        \"samples\": [\n          \"F\"\n        ],\n        \"semantic_type\": \"\",\n        \"description\": \"\"\n      }\n    },\n    {\n      \"column\": \"B=6\",\n      \"properties\": {\n        \"dtype\": \"category\",\n        \"num_unique_values\": 1,\n        \"samples\": [\n          \"F\"\n        ],\n        \"semantic_type\": \"\",\n        \"description\": \"\"\n      }\n    },\n    {\n      \"column\": \"B=7\",\n      \"properties\": {\n        \"dtype\": \"category\",\n        \"num_unique_values\": 2,\n        \"samples\": [\n          \"T\"\n        ],\n        \"semantic_type\": \"\",\n        \"description\": \"\"\n      }\n    },\n    {\n      \"column\": \"B=8\",\n      \"properties\": {\n        \"dtype\": \"category\",\n        \"num_unique_values\": 1,\n        \"samples\": [\n          \"F\"\n        ],\n        \"semantic_type\": \"\",\n        \"description\": \"\"\n      }\n    },\n    {\n      \"column\": \"B=9\",\n      \"properties\": {\n        \"dtype\": \"category\",\n        \"num_unique_values\": 1,\n        \"samples\": [\n          \"F\"\n        ],\n        \"semantic_type\": \"\",\n        \"description\": \"\"\n      }\n    },\n    {\n      \"column\": \"B=10\",\n      \"properties\": {\n        \"dtype\": \"category\",\n        \"num_unique_values\": 2,\n        \"samples\": [\n          \"T\"\n        ],\n        \"semantic_type\": \"\",\n        \"description\": \"\"\n      }\n    },\n    {\n      \"column\": \"B=11\",\n      \"properties\": {\n        \"dtype\": \"category\",\n        \"num_unique_values\": 1,\n        \"samples\": [\n          \"F\"\n        ],\n        \"semantic_type\": \"\",\n        \"description\": \"\"\n      }\n    },\n    {\n      \"column\": \"B=12\",\n      \"properties\": {\n        \"dtype\": \"category\",\n        \"num_unique_values\": 1,\n        \"samples\": [\n          \"F\"\n        ],\n        \"semantic_type\": \"\",\n        \"description\": \"\"\n      }\n    },\n    {\n      \"column\": \"B=13\",\n      \"properties\": {\n        \"dtype\": \"category\",\n        \"num_unique_values\": 2,\n        \"samples\": [\n          \"F\"\n        ],\n        \"semantic_type\": \"\",\n        \"description\": \"\"\n      }\n    },\n    {\n      \"column\": \"B=14\",\n      \"properties\": {\n        \"dtype\": \"category\",\n        \"num_unique_values\": 1,\n        \"samples\": [\n          \"F\"\n        ],\n        \"semantic_type\": \"\",\n        \"description\": \"\"\n      }\n    },\n    {\n      \"column\": \"B=15\",\n      \"properties\": {\n        \"dtype\": \"category\",\n        \"num_unique_values\": 1,\n        \"samples\": [\n          \"F\"\n        ],\n        \"semantic_type\": \"\",\n        \"description\": \"\"\n      }\n    },\n    {\n      \"column\": \"B=16\",\n      \"properties\": {\n        \"dtype\": \"category\",\n        \"num_unique_values\": 1,\n        \"samples\": [\n          \"F\"\n        ],\n        \"semantic_type\": \"\",\n        \"description\": \"\"\n      }\n    }\n  ]\n}"
            }
          },
          "metadata": {},
          "execution_count": 16
        }
      ],
      "source": [
        "import pandas as pd\n",
        "\n",
        "# 집합 A와 B 정의\n",
        "A = [1, 2, 3, 4, 5]  # n의 가능한 값\n",
        "B = list(range(1, 17))  # m의 가능한 값 (1부터 16까지)\n",
        "\n",
        "# 관계 R = {(n, m) | 3n + m = 16}\n",
        "relation = set()\n",
        "for n in A:\n",
        "    m = 16 - 3 * n\n",
        "    if m in B:\n",
        "        relation.add((n, m))\n",
        "\n",
        "# 논리 행렬 M 생성\n",
        "M = []\n",
        "for n in A:\n",
        "    row = []\n",
        "    for m in B:\n",
        "        if (n, m) in relation:\n",
        "            row.append(\"T\")  # 관계가 성립\n",
        "        else:\n",
        "            row.append(\"F\")  # 관계가 성립하지 않음\n",
        "    M.append(row)\n",
        "\n",
        "# 데이터프레임으로 변환\n",
        "df = pd.DataFrame(M, index=[f\"A={n}\" for n in A], columns=[f\"B={m}\" for m in B])\n",
        "df"
      ]
    },
    {
      "cell_type": "code",
      "execution_count": 18,
      "id": "296ffaf6-e4ea-497b-9ef7-59c11eef9898",
      "metadata": {
        "colab": {
          "base_uri": "https://localhost:8080/",
          "height": 290
        },
        "id": "296ffaf6-e4ea-497b-9ef7-59c11eef9898",
        "outputId": "6b5f49eb-9cc2-4fc0-a6fa-f7a605817141"
      },
      "outputs": [
        {
          "output_type": "display_data",
          "data": {
            "text/plain": [
              "<Figure size 300x300 with 1 Axes>"
            ],
            "image/png": "[encoded data removed]"
          },
          "metadata": {}
        }
      ],
      "source": [
        "import networkx as nx\n",
        "import matplotlib.pyplot as plt\n",
        "\n",
        "# 집합 A와 관계 R 정의\n",
        "A = [1, 2, 3]\n",
        "R = [(1, 1), (2, 2), (3, 3)]  # 자기 자신으로 가는 관계 (루프)\n",
        "\n",
        "# 방향 그래프 생성\n",
        "G = nx.DiGraph()  # 방향 그래프 (Directed Graph)\n",
        "G.add_nodes_from(A)  # 노드 추가\n",
        "G.add_edges_from(R)  # 엣지(관계) 추가\n",
        "\n",
        "# 그래프 시각화\n",
        "plt.figure(figsize=(3, 3))  # 그래프 크기 조절\n",
        "pos = nx.circular_layout(G)  # 원형 배치로 노드 위치 지정\n",
        "nx.draw_networkx_nodes(G, pos, node_size=70, node_color='lightblue')  # 노드 스타일\n",
        "nx.draw_networkx_labels(G, pos, font_size=6, font_family='sans-serif')  # 노드 라벨\n",
        "nx.draw_networkx_edges(G, pos, connectionstyle='arc3,rad=0.3', arrows=True, arrowsize=20)  # 엣지 스타일 (루프 표시)\n",
        "\n",
        "plt.title(\"Graph of R = {(1,1), (2,2), (3,3)} (Reflexive Relation)\")  # 제목\n",
        "plt.axis('off')  # 축 숨기기\n",
        "plt.show()  # 그래프 보여주기\n"
      ]
    },
    {
      "cell_type": "code",
      "execution_count": null,
      "id": "5396db7a-4e5d-4a41-be9d-58ad4cd81833",
      "metadata": {
        "id": "5396db7a-4e5d-4a41-be9d-58ad4cd81833",
        "outputId": "eb78dbb2-ac36-4f24-e051-8baa267fa2d5"
      },
      "outputs": [
        {
          "data": {
            "image/png": "[encoded data removed]",
            "text/plain": [
              "<Figure size 300x300 with 1 Axes>"
            ]
          },
          "metadata": {},
          "output_type": "display_data"
        }
      ],
      "source": [
        "import networkx as nx\n",
        "import matplotlib.pyplot as plt\n",
        "\n",
        "# 집합 A와 대칭적 관계 R 정의\n",
        "A = [1, 2, 3]  # 집합 A\n",
        "R = [(1, 2), (2, 1), (3, 3)]  # 대칭적 관계 (1↔2, 3 루프)\n",
        "\n",
        "# 방향 그래프(DiGraph) 생성\n",
        "G = nx.DiGraph()\n",
        "G.add_nodes_from(A)  # 노드 추가\n",
        "G.add_edges_from(R)  # 관계(엣지) 추가\n",
        "\n",
        "# 그래프 시각화\n",
        "plt.figure(figsize=(3, 3))  # 그래프 크기 조정\n",
        "pos = nx.circular_layout(G)  # 원형 배치로 노드 배치\n",
        "\n",
        "# 노드 그리기\n",
        "nx.draw_networkx_nodes(G, pos, node_size=70, node_color='lightgreen')\n",
        "\n",
        "# 노드 라벨 표시\n",
        "nx.draw_networkx_labels(G, pos, font_size=6, font_family='sans-serif')\n",
        "\n",
        "# 엣지(관계) 그리기 (화살표로 방향 표시, 곡선으로 교차 방지)\n",
        "nx.draw_networkx_edges(G, pos, connectionstyle='arc3,rad=0.2', arrows=True, arrowsize=20)\n",
        "\n",
        "# 그래프 제목 및 축 숨기기\n",
        "plt.title(\"Graph of Symmetric Relation R = {(1,2), (2,1), (3,3)}\")\n",
        "plt.axis('off')\n",
        "plt.show()\n"
      ]
    },
    {
      "cell_type": "code",
      "source": [
        "import networkx as nx\n",
        "import matplotlib.pyplot as plt\n",
        "\n",
        "# 집합 A와 비대칭적 관계 R의 예\n",
        "A = [1, 2, 3]  # 집합 A\n",
        "R = [(1,1), (2,2), (1,3), (2,3)]\n",
        "\n",
        "# 방향 그래프(DiGraph) 생성\n",
        "G = nx.DiGraph()\n",
        "G.add_nodes_from(A)  # 노드 추가\n",
        "G.add_edges_from(R)  # 관계(엣지) 추가\n",
        "\n",
        "# 그래프 시각화\n",
        "plt.figure(figsize=(3, 3))  # 그래프 크기 조정\n",
        "pos = nx.circular_layout(G)  # 원형 배치로 노드 배치\n",
        "\n",
        "# 노드 그리기\n",
        "nx.draw_networkx_nodes(G, pos, node_size=70, node_color='lightgreen')\n",
        "\n",
        "# 노드 라벨 표시\n",
        "nx.draw_networkx_labels(G, pos, font_size=6, font_family='sans-serif')\n",
        "\n",
        "# 엣지(관계) 그리기 (화살표로 방향 표시, 곡선으로 교차 방지)\n",
        "nx.draw_networkx_edges(G, pos, connectionstyle='arc3,rad=0.2', arrows=True, arrowsize=20)\n",
        "\n",
        "# 그래프 제목 및 축 숨기기\n",
        "plt.title(\"Graph of Antisymmetric Relation R = [(1,1),(2,2),(1,3),(2,3)]\")\n",
        "plt.axis('off')\n",
        "plt.show()"
      ],
      "metadata": {
        "colab": {
          "base_uri": "https://localhost:8080/",
          "height": 290
        },
        "id": "vwU1WrmaECAY",
        "outputId": "dcfe2206-9263-4fc3-99a0-645aa97c5cc0"
      },
      "id": "vwU1WrmaECAY",
      "execution_count": 21,
      "outputs": [
        {
          "output_type": "display_data",
          "data": {
            "text/plain": [
              "<Figure size 300x300 with 1 Axes>"
            ],
            "image/png": "[encoded data removed]"
          },
          "metadata": {}
        }
      ]
    },
    {
      "cell_type": "code",
      "source": [
        "import networkx as nx\n",
        "import matplotlib.pyplot as plt\n",
        "\n",
        "# 집합 A와 추이적 관계 R의 예\n",
        "A = [1, 2, 3]  # 집합 A\n",
        "R = [(1,2), (2,3), (1,3)]\n",
        "\n",
        "# 방향 그래프(DiGraph) 생성\n",
        "G = nx.DiGraph()\n",
        "G.add_nodes_from(A)  # 노드 추가\n",
        "G.add_edges_from(R)  # 관계(엣지) 추가\n",
        "\n",
        "# 그래프 시각화\n",
        "plt.figure(figsize=(3, 3))  # 그래프 크기 조정\n",
        "pos = nx.circular_layout(G)  # 원형 배치로 노드 배치\n",
        "\n",
        "# 노드 그리기\n",
        "nx.draw_networkx_nodes(G, pos, node_size=70, node_color='lightgreen')\n",
        "\n",
        "# 노드 라벨 표시\n",
        "nx.draw_networkx_labels(G, pos, font_size=6, font_family='sans-serif')\n",
        "\n",
        "# 엣지(관계) 그리기 (화살표로 방향 표시, 곡선으로 교차 방지)\n",
        "nx.draw_networkx_edges(G, pos, connectionstyle='arc3,rad=0.2', arrows=True, arrowsize=20)\n",
        "\n",
        "# 그래프 제목 및 축 숨기기\n",
        "plt.title(\"Graph of Transitive Relation R = [(1,2), (2,3), (1,3)]  \")\n",
        "plt.axis('off')\n",
        "plt.show()"
      ],
      "metadata": {
        "colab": {
          "base_uri": "https://localhost:8080/",
          "height": 290
        },
        "id": "99ya3GqfEsPs",
        "outputId": "5cfcbcb8-812a-4c0c-8d0f-96be17059c8c"
      },
      "id": "99ya3GqfEsPs",
      "execution_count": 22,
      "outputs": [
        {
          "output_type": "display_data",
          "data": {
            "text/plain": [
              "<Figure size 300x300 with 1 Axes>"
            ],
            "image/png": "[encoded data removed]"
          },
          "metadata": {}
        }
      ]
    },
    {
      "cell_type": "markdown",
      "id": "93552ac3-91bf-4e1b-93f7-6610b9888f8b",
      "metadata": {
        "id": "93552ac3-91bf-4e1b-93f7-6610b9888f8b"
      },
      "source": [
        "## binomial vs multinomial coefficients"
      ]
    },
    {
      "cell_type": "code",
      "execution_count": 1,
      "id": "c0c1fa70-4906-46c9-bf30-368024adae1b",
      "metadata": {
        "tags": [],
        "colab": {
          "base_uri": "https://localhost:8080/",
          "height": 58
        },
        "id": "c0c1fa70-4906-46c9-bf30-368024adae1b",
        "outputId": "34caae70-b8df-471d-f387-c05cd75848a3"
      },
      "outputs": [
        {
          "output_type": "execute_result",
          "data": {
            "text/plain": [
              "binomial(n, k)"
            ],
            "text/latex": "$\\displaystyle {\\binom{n}{k}}$"
          },
          "metadata": {},
          "execution_count": 1
        }
      ],
      "source": [
        "from sympy import binomial,symbols\n",
        "\n",
        "n,k=symbols('n k',integer=True, nonnegative=True)\n",
        "binomial(n,k)"
      ]
    },
    {
      "cell_type": "code",
      "execution_count": 2,
      "id": "20e0d398-d709-47fa-b30c-874e4454ac35",
      "metadata": {
        "tags": [],
        "colab": {
          "base_uri": "https://localhost:8080/",
          "height": 58
        },
        "id": "20e0d398-d709-47fa-b30c-874e4454ac35",
        "outputId": "ccc3ce0b-0053-4f65-cdae-b5a7c9b7621d"
      },
      "outputs": [
        {
          "output_type": "execute_result",
          "data": {
            "text/plain": [
              "binomial(n, 3)"
            ],
            "text/latex": "$\\displaystyle {\\binom{n}{3}}$"
          },
          "metadata": {},
          "execution_count": 2
        }
      ],
      "source": [
        "binomial(n,3)"
      ]
    },
    {
      "cell_type": "code",
      "execution_count": 3,
      "id": "db0147b1-f518-4d14-b312-c9d280f05359",
      "metadata": {
        "tags": [],
        "colab": {
          "base_uri": "https://localhost:8080/",
          "height": 55
        },
        "id": "db0147b1-f518-4d14-b312-c9d280f05359",
        "outputId": "8344992e-ccd9-4989-c157-48d82b77eb39"
      },
      "outputs": [
        {
          "output_type": "execute_result",
          "data": {
            "text/plain": [
              "factorial(k_1 + k_2 + k_3)/(factorial(k_1)*factorial(k_2)*factorial(k_3))"
            ],
            "text/latex": "$\\displaystyle \\frac{\\left(k_{1} + k_{2} + k_{3}\\right)!}{k_{1}! k_{2}! k_{3}!}$"
          },
          "metadata": {},
          "execution_count": 3
        }
      ],
      "source": [
        "from sympy import factorial,symbols\n",
        "\n",
        "n,k_1,k_2,k_3=symbols('n k_1 k_2 k_3',\n",
        "                      integer=True, nonnegative=True)\n",
        "\n",
        "def multinomial_coeff(*ks):\n",
        "    n = sum(ks)\n",
        "    numerator = factorial(n)\n",
        "    denominator = 1\n",
        "    for k in ks:\n",
        "        denominator *= factorial(k)\n",
        "    return numerator / denominator\n",
        "\n",
        "multinomial_coeff(k_1, k_2, k_3)"
      ]
    },
    {
      "cell_type": "code",
      "execution_count": 5,
      "id": "d11a02f0-95f0-46e2-bdd4-443a52319acd",
      "metadata": {
        "tags": [],
        "colab": {
          "base_uri": "https://localhost:8080/",
          "height": 37
        },
        "id": "d11a02f0-95f0-46e2-bdd4-443a52319acd",
        "outputId": "7bd3d5f2-7d37-4669-8a36-9a3037f0a688"
      },
      "outputs": [
        {
          "output_type": "execute_result",
          "data": {
            "text/plain": [
              "34650"
            ],
            "text/latex": "$\\displaystyle 34650$"
          },
          "metadata": {},
          "execution_count": 5
        }
      ],
      "source": [
        "multinomial_coeff(4, 4, 2, 1)"
      ]
    },
    {
      "cell_type": "markdown",
      "id": "bdd4f6a5-a88a-4d9c-8b82-c4e98dd89677",
      "metadata": {
        "id": "bdd4f6a5-a88a-4d9c-8b82-c4e98dd89677"
      },
      "source": [
        "## $ \\sum_{k=0}^{n} \\binom{n}{k} = 2^n $\n"
      ]
    },
    {
      "cell_type": "code",
      "execution_count": null,
      "id": "c353792f-08b8-47a9-97e5-e76476c60af6",
      "metadata": {
        "tags": [],
        "id": "c353792f-08b8-47a9-97e5-e76476c60af6",
        "outputId": "f2eab1b8-1de1-4b22-f73a-196127167699"
      },
      "outputs": [
        {
          "data": {
            "text/latex": [
              "$\\displaystyle 2^{n}$"
            ],
            "text/plain": [
              "2**n"
            ]
          },
          "execution_count": 1,
          "metadata": {},
          "output_type": "execute_result"
        }
      ],
      "source": [
        "from sympy import binomial,symbols,summation\n",
        "\n",
        "n,k=symbols('n k',integer=True, nonnegative=True)\n",
        "summation(binomial(n,k),(k,0,n))"
      ]
    },
    {
      "cell_type": "markdown",
      "id": "d317dc5e-264c-461c-86fe-932b8651434a",
      "metadata": {
        "id": "d317dc5e-264c-461c-86fe-932b8651434a"
      },
      "source": [
        "## $ \\sum_{k=0}^{n} k \\binom{n}{k} = n 2^{n-1} $\n"
      ]
    },
    {
      "cell_type": "code",
      "execution_count": null,
      "id": "ffc2731f-e84a-4877-824d-21f9351de7a9",
      "metadata": {
        "tags": [],
        "id": "ffc2731f-e84a-4877-824d-21f9351de7a9",
        "outputId": "4dff7dc1-5189-49e7-e075-9234c76edd08"
      },
      "outputs": [
        {
          "data": {
            "text/latex": [
              "$\\displaystyle \\begin{cases} \\frac{2^{n - 1} n!}{\\left(n - 1\\right)!} & \\text{for}\\: \\left(n \\leq 1 \\wedge n > 0\\right) \\vee n > 1 \\\\\\sum_{k=0}^{n} k {\\binom{n}{k}} & \\text{otherwise} \\end{cases}$"
            ],
            "text/plain": [
              "Piecewise((2**(n - 1)*factorial(n)/factorial(n - 1), (n > 1) | ((n <= 1) & (n > 0))), (Sum(k*binomial(n, k), (k, 0, n)), True))"
            ]
          },
          "execution_count": 5,
          "metadata": {},
          "output_type": "execute_result"
        }
      ],
      "source": [
        "summation(k*binomial(n,k),(k,0,n))"
      ]
    },
    {
      "cell_type": "code",
      "execution_count": null,
      "id": "33d3200c-fbb2-4cbe-a6e5-4821f7a46f70",
      "metadata": {
        "tags": [],
        "id": "33d3200c-fbb2-4cbe-a6e5-4821f7a46f70",
        "outputId": "52161ccc-192e-4752-98cf-c2faa6d6788a"
      },
      "outputs": [
        {
          "data": {
            "text/latex": [
              "$\\displaystyle 2^{n - 1} n$"
            ],
            "text/plain": [
              "2**(n - 1)*n"
            ]
          },
          "execution_count": 6,
          "metadata": {},
          "output_type": "execute_result"
        }
      ],
      "source": [
        "_.args[0][0].simplify()"
      ]
    },
    {
      "cell_type": "markdown",
      "id": "00dad275-44db-4691-a35f-d531ed1ce3f4",
      "metadata": {
        "id": "00dad275-44db-4691-a35f-d531ed1ce3f4"
      },
      "source": [
        "## $ \\sum_{k=0}^{n} \\frac{1}{k + 1} \\binom{n}{k} = n 2^{n-1} $\n"
      ]
    },
    {
      "cell_type": "code",
      "execution_count": null,
      "id": "df898a53-2228-452d-bdc8-267350f2723f",
      "metadata": {
        "tags": [],
        "id": "df898a53-2228-452d-bdc8-267350f2723f",
        "outputId": "4f9f681f-01c1-4fa1-b177-8c3d575f5ebd"
      },
      "outputs": [
        {
          "data": {
            "text/latex": [
              "$\\displaystyle \\frac{2^{n + 1}}{n + 1} - \\frac{1}{n + 1}$"
            ],
            "text/plain": [
              "2**(n + 1)/(n + 1) - 1/(n + 1)"
            ]
          },
          "execution_count": 9,
          "metadata": {},
          "output_type": "execute_result"
        }
      ],
      "source": [
        "from sympy import integrate\n",
        "\n",
        "x=symbols('x')\n",
        "integrate((x+1)**n,(x,0,1))"
      ]
    },
    {
      "cell_type": "code",
      "execution_count": null,
      "id": "914a1e75-9c3e-43e0-b4a5-a2ab94306cc6",
      "metadata": {
        "tags": [],
        "id": "914a1e75-9c3e-43e0-b4a5-a2ab94306cc6",
        "outputId": "8baf202b-4c44-46e3-838d-c354b96cae7f"
      },
      "outputs": [
        {
          "data": {
            "text/latex": [
              "$\\displaystyle \\frac{2^{n + 1}}{n + 1} - \\frac{1}{n + 1}$"
            ],
            "text/plain": [
              "2**(n + 1)/(n + 1) - 1/(n + 1)"
            ]
          },
          "execution_count": 7,
          "metadata": {},
          "output_type": "execute_result"
        }
      ],
      "source": [
        "summation((1/(k+1))*binomial(n,k),(k,0,n))"
      ]
    },
    {
      "cell_type": "markdown",
      "id": "b20bab82-8789-49be-80fb-b382e8e3d21f",
      "metadata": {
        "id": "b20bab82-8789-49be-80fb-b382e8e3d21f"
      },
      "source": [
        "## $ \\binom{n}{k} = \\binom{n-1}{k}+\\binom{n-1}{k-1} $"
      ]
    },
    {
      "cell_type": "code",
      "execution_count": null,
      "id": "3840a5a2-89c4-4af9-a1a4-7cb6e88fe896",
      "metadata": {
        "tags": [],
        "id": "3840a5a2-89c4-4af9-a1a4-7cb6e88fe896",
        "outputId": "25b6097b-49f4-403e-df26-7769b87a4cdb"
      },
      "outputs": [
        {
          "data": {
            "text/latex": [
              "$\\displaystyle {\\binom{n}{k}}$"
            ],
            "text/plain": [
              "binomial(n, k)"
            ]
          },
          "execution_count": 1,
          "metadata": {},
          "output_type": "execute_result"
        }
      ],
      "source": [
        "from sympy import binomial,symbols,summation\n",
        "\n",
        "n,k=symbols('n k',integer=True, nonnegative=True)\n",
        "expr=binomial(n-1,k)+binomial(n-1,k-1)\n",
        "expr.simplify()"
      ]
    },
    {
      "cell_type": "markdown",
      "id": "f5f16d00-81bc-460b-8016-6baabfdf879d",
      "metadata": {
        "id": "f5f16d00-81bc-460b-8016-6baabfdf879d"
      },
      "source": [
        "### (Stirling numbers of the 2nd kind) 20명의 학생을 10개의 그룹으로 나누는 모든 경우의 수를 구하여라. (단, 그룹에는 반드시 1명은 있어야 한다."
      ]
    },
    {
      "cell_type": "code",
      "execution_count": null,
      "id": "9d41a192-9da9-4ece-8cc8-df93b7ee780f",
      "metadata": {
        "id": "9d41a192-9da9-4ece-8cc8-df93b7ee780f"
      },
      "outputs": [],
      "source": [
        "# 제2종 스털링 수 S(n, k)를 재귀 함수로 구현\n",
        "\n",
        "def stirling_second_kind_recursive(n, k):\n",
        "    # 기본 조건\n",
        "    if n == k == 0:\n",
        "        return 1  # S(0,0) = 1\n",
        "    if n == 0 or k == 0:\n",
        "        return 0  # n 또는 k가 0이면 0\n",
        "\n",
        "    # 점화식: S(n, k) = S(n-1, k-1) + k * S(n-1, k)\n",
        "    result = stirling_second_kind_recursive(n - 1, k - 1) \\\n",
        "            + k * stirling_second_kind_recursive(n - 1, k)\n",
        "    return result"
      ]
    },
    {
      "cell_type": "code",
      "execution_count": null,
      "id": "94ba406a-574f-4427-bc9c-2503a35bf670",
      "metadata": {
        "id": "94ba406a-574f-4427-bc9c-2503a35bf670",
        "outputId": "d60dc3fd-f290-40bd-cf32-5b6464cf6e59"
      },
      "outputs": [
        {
          "data": {
            "text/plain": [
              "1"
            ]
          },
          "execution_count": 36,
          "metadata": {},
          "output_type": "execute_result"
        }
      ],
      "source": [
        "# S(1, 1) 재귀로 계산\n",
        "stirling_second_kind_recursive(1,1)"
      ]
    },
    {
      "cell_type": "code",
      "execution_count": null,
      "id": "08eeceb2-da4b-4574-b340-2cc66dbfce4a",
      "metadata": {
        "id": "08eeceb2-da4b-4574-b340-2cc66dbfce4a",
        "outputId": "c6064d55-60e1-43a7-c1ad-8504f49c3303"
      },
      "outputs": [
        {
          "data": {
            "text/plain": [
              "5917584964655"
            ]
          },
          "execution_count": 37,
          "metadata": {},
          "output_type": "execute_result"
        }
      ],
      "source": [
        "# S(20, 10) 재귀로 계산\n",
        "stirling_second_kind_recursive(20, 10)"
      ]
    },
    {
      "cell_type": "code",
      "execution_count": 6,
      "id": "05e57f37-50bc-4712-9c73-500b31bfc1f1",
      "metadata": {
        "id": "05e57f37-50bc-4712-9c73-500b31bfc1f1"
      },
      "outputs": [],
      "source": [
        "# 피보나치 수열과 메모이제이션\n",
        "\n",
        "memo = {}\n",
        "def fib(n):\n",
        "    if n in memo:\n",
        "        return memo[n]\n",
        "    if n <= 1:\n",
        "        return n\n",
        "    memo[n] = fib(n-1) + fib(n-2)\n",
        "    return memo[n]"
      ]
    },
    {
      "cell_type": "code",
      "execution_count": 7,
      "id": "e7dbd9d7-2d58-4c9e-804b-5e9557a9aa30",
      "metadata": {
        "colab": {
          "base_uri": "https://localhost:8080/"
        },
        "id": "e7dbd9d7-2d58-4c9e-804b-5e9557a9aa30",
        "outputId": "7f82b8e5-64c6-4955-c3dc-2973ce964d2e"
      },
      "outputs": [
        {
          "output_type": "execute_result",
          "data": {
            "text/plain": [
              "354224848179261915075"
            ]
          },
          "metadata": {},
          "execution_count": 7
        }
      ],
      "source": [
        "fib(100)"
      ]
    },
    {
      "cell_type": "code",
      "execution_count": 8,
      "id": "922269cd-f65f-4bb1-b205-ca0049172a03",
      "metadata": {
        "id": "922269cd-f65f-4bb1-b205-ca0049172a03"
      },
      "outputs": [],
      "source": [
        "# 제2종 스털링 수 S(n, k)를 재귀 함수로 구현 (메모이제이션 포함)\n",
        "\n",
        "def stirling_second_kind_recursive(n, k, memo={}):\n",
        "    # 메모이제이션: 이미 계산된 값이 있으면 반환\n",
        "    if (n, k) in memo:\n",
        "        return memo[(n, k)]\n",
        "\n",
        "    # 기본 조건\n",
        "    if n == k == 0:\n",
        "        return 1  # S(0,0) = 1\n",
        "    if n == 0 or k == 0:\n",
        "        return 0  # n 또는 k가 0이면 0\n",
        "\n",
        "    # 점화식: S(n, k) = S(n-1, k-1) + k * S(n-1, k)\n",
        "    result = stirling_second_kind_recursive(n - 1, k - 1, memo) \\\n",
        "            + k * stirling_second_kind_recursive(n - 1, k, memo)\n",
        "\n",
        "    # 메모이제이션 저장\n",
        "    memo[(n, k)] = result\n",
        "    return result"
      ]
    },
    {
      "cell_type": "code",
      "execution_count": 9,
      "id": "a85fcb07-90bb-4fe8-939b-497d54fd65c1",
      "metadata": {
        "colab": {
          "base_uri": "https://localhost:8080/"
        },
        "id": "a85fcb07-90bb-4fe8-939b-497d54fd65c1",
        "outputId": "fd53f90c-7abc-4633-ad5e-428aea8ec14b"
      },
      "outputs": [
        {
          "output_type": "execute_result",
          "data": {
            "text/plain": [
              "1"
            ]
          },
          "metadata": {},
          "execution_count": 9
        }
      ],
      "source": [
        "# S(1, 1) 재귀로 계산\n",
        "stirling_second_kind_recursive(1,1)"
      ]
    },
    {
      "cell_type": "code",
      "execution_count": 10,
      "id": "8f7e94ec-24ca-428f-9158-6da278b2404a",
      "metadata": {
        "colab": {
          "base_uri": "https://localhost:8080/"
        },
        "id": "8f7e94ec-24ca-428f-9158-6da278b2404a",
        "outputId": "e61a9589-c49e-4307-9187-bdc7279ad595"
      },
      "outputs": [
        {
          "output_type": "execute_result",
          "data": {
            "text/plain": [
              "5917584964655"
            ]
          },
          "metadata": {},
          "execution_count": 10
        }
      ],
      "source": [
        "# S(20, 10) 재귀로 계산\n",
        "stirling_second_kind_recursive(20, 10)"
      ]
    },
    {
      "cell_type": "markdown",
      "id": "d096c2af-18e9-44aa-8497-1ba25434c7f7",
      "metadata": {
        "id": "d096c2af-18e9-44aa-8497-1ba25434c7f7"
      },
      "source": [
        "### (Integer partition) 자연수 3을 최대 2이하의 자연수로 분할하는 방법은 1+1+1,1+2의 2가지 방법이 존재한다. 자연수 20을 최대 4이하의 정수로 분할하는 경우의 수를 구하여라."
      ]
    },
    {
      "cell_type": "code",
      "execution_count": 11,
      "id": "73dbd2d2-ffbc-431b-8cd6-f02983e4d7ff",
      "metadata": {
        "id": "73dbd2d2-ffbc-431b-8cd6-f02983e4d7ff"
      },
      "outputs": [],
      "source": [
        "def partition(n, k, memo={}):\n",
        "    if (n, k) in memo:\n",
        "        return memo[(n, k)]\n",
        "    if n == 0:\n",
        "        return 1\n",
        "    if n < 0 or k == 0:\n",
        "        return 0\n",
        "    result = partition(n - k, k, memo) + partition(n, k - 1, memo)\n",
        "    memo[(n, k)] = result\n",
        "    return result"
      ]
    },
    {
      "cell_type": "code",
      "execution_count": 12,
      "id": "d79fac34-4c55-4a13-9672-f6966f13e34e",
      "metadata": {
        "colab": {
          "base_uri": "https://localhost:8080/"
        },
        "id": "d79fac34-4c55-4a13-9672-f6966f13e34e",
        "outputId": "dcec10f7-7fa9-4c39-f3b3-ef46f2b8bfbf"
      },
      "outputs": [
        {
          "output_type": "execute_result",
          "data": {
            "text/plain": [
              "108"
            ]
          },
          "metadata": {},
          "execution_count": 12
        }
      ],
      "source": [
        "partition(20,4)"
      ]
    },
    {
      "cell_type": "markdown",
      "id": "a598f047-a283-471a-a1d3-2839471641b9",
      "metadata": {
        "id": "a598f047-a283-471a-a1d3-2839471641b9"
      },
      "source": [
        "### 주사위 2개를 동시에 던졌을 때, 두 주사위 눈의 합이 8보다 클 확률을 구하여라."
      ]
    },
    {
      "cell_type": "code",
      "execution_count": null,
      "id": "642afcb6-17d2-4dab-95ee-0100b579dead",
      "metadata": {
        "tags": [],
        "id": "642afcb6-17d2-4dab-95ee-0100b579dead",
        "outputId": "6003832b-65ec-4d05-de8f-4c22f603e29e"
      },
      "outputs": [
        {
          "data": {
            "text/latex": [
              "$\\displaystyle \\frac{1}{4}$"
            ],
            "text/plain": [
              "1/4"
            ]
          },
          "execution_count": 1,
          "metadata": {},
          "output_type": "execute_result"
        }
      ],
      "source": [
        "from sympy.stats import P, Die\n",
        "# 1부터 4의 자연수 확률분포\n",
        "X=Die('X',4)\n",
        "P(X<=1) # X가 1이하일 확률"
      ]
    },
    {
      "cell_type": "code",
      "execution_count": null,
      "id": "89402662-5df2-4ab3-b4ee-b928da57f3c4",
      "metadata": {
        "tags": [],
        "id": "89402662-5df2-4ab3-b4ee-b928da57f3c4",
        "outputId": "700a16bc-4d24-4f0a-e573-e988f58a365e"
      },
      "outputs": [
        {
          "data": {
            "text/latex": [
              "$\\displaystyle 1$"
            ],
            "text/plain": [
              "1"
            ]
          },
          "execution_count": 2,
          "metadata": {},
          "output_type": "execute_result"
        }
      ],
      "source": [
        "P(X<=4) # X가 4이하일 확률"
      ]
    },
    {
      "cell_type": "code",
      "execution_count": null,
      "id": "3d3f72ee-9fd5-48be-b6b1-8fc83502ad27",
      "metadata": {
        "tags": [],
        "id": "3d3f72ee-9fd5-48be-b6b1-8fc83502ad27",
        "outputId": "101c9a48-d4c4-4193-942a-c4d0189bfcc6"
      },
      "outputs": [
        {
          "data": {
            "text/plain": [
              "array([[2, 3, 2, 3, 4, 1, 1, 2, 1, 4]])"
            ]
          },
          "execution_count": 3,
          "metadata": {},
          "output_type": "execute_result"
        }
      ],
      "source": [
        "# X의 랜덤 샘플 10개 구하기\n",
        "from sympy.stats import sample\n",
        "\n",
        "sample(X,size=(1,10))"
      ]
    },
    {
      "cell_type": "code",
      "execution_count": null,
      "id": "05b30a66-89e6-46cc-ac39-9eb814884ca1",
      "metadata": {
        "tags": [],
        "id": "05b30a66-89e6-46cc-ac39-9eb814884ca1",
        "outputId": "2bafab5a-0233-4058-bd29-dde953a11d71"
      },
      "outputs": [
        {
          "data": {
            "text/plain": [
              "[4, 3, 2, 3, 3, 3, 3, 1, 4, 4]"
            ]
          },
          "execution_count": 4,
          "metadata": {},
          "output_type": "execute_result"
        }
      ],
      "source": [
        "# X의 랜덤 샘플 10개 구하기 (다른 방법)\n",
        "from sympy.stats import sample\n",
        "\n",
        "samples=[sample(X) for _ in range(10)]\n",
        "samples"
      ]
    },
    {
      "cell_type": "code",
      "execution_count": null,
      "id": "1ecc66a0-7db6-4ffc-b094-1d6d8d7c0ba5",
      "metadata": {
        "tags": [],
        "id": "1ecc66a0-7db6-4ffc-b094-1d6d8d7c0ba5",
        "outputId": "286aa4bd-97c9-49b6-cd3b-6ea053c5c2f9"
      },
      "outputs": [
        {
          "data": {
            "text/latex": [
              "$\\displaystyle \\begin{cases} \\frac{1}{4} & \\text{for}\\: k \\leq 4 \\\\0 & \\text{otherwise} \\end{cases}$"
            ],
            "text/plain": [
              "Piecewise((1/4, k <= 4), (0, True))"
            ]
          },
          "execution_count": 5,
          "metadata": {},
          "output_type": "execute_result"
        }
      ],
      "source": [
        "# 확률밀도 함수 표현하기\n",
        "from sympy.stats import density\n",
        "from sympy import symbols\n",
        "\n",
        "k=symbols('k',positive=True, integer=True)\n",
        "f=lambda k: density(X)(k)\n",
        "f(k)"
      ]
    },
    {
      "cell_type": "code",
      "execution_count": null,
      "id": "e2ce515b-018a-41cd-88ee-0ef4af60be89",
      "metadata": {
        "tags": [],
        "id": "e2ce515b-018a-41cd-88ee-0ef4af60be89",
        "outputId": "bf5067d5-79fe-4afd-bb4f-39057998b14e"
      },
      "outputs": [
        {
          "data": {
            "text/latex": [
              "$\\displaystyle \\frac{5}{2}$"
            ],
            "text/plain": [
              "5/2"
            ]
          },
          "execution_count": 6,
          "metadata": {},
          "output_type": "execute_result"
        }
      ],
      "source": [
        "# 평균과 분산\n",
        "from sympy.stats import E, variance\n",
        "\n",
        "E(X) # 평균"
      ]
    },
    {
      "cell_type": "code",
      "execution_count": null,
      "id": "e92f0560-1556-498c-903e-f83c7f72634a",
      "metadata": {
        "tags": [],
        "id": "e92f0560-1556-498c-903e-f83c7f72634a",
        "outputId": "1f2e8a20-c3d0-482d-f2af-b4c10fbca76e"
      },
      "outputs": [
        {
          "data": {
            "text/latex": [
              "$\\displaystyle \\frac{5}{4}$"
            ],
            "text/plain": [
              "5/4"
            ]
          },
          "execution_count": 7,
          "metadata": {},
          "output_type": "execute_result"
        }
      ],
      "source": [
        "variance(X) # 분산"
      ]
    },
    {
      "cell_type": "code",
      "execution_count": null,
      "id": "4e0895b9-a173-44eb-a99a-e9b0465f8817",
      "metadata": {
        "tags": [],
        "id": "4e0895b9-a173-44eb-a99a-e9b0465f8817",
        "outputId": "67f68e8d-0cb9-41c2-e509-1a756ffd87c8"
      },
      "outputs": [
        {
          "data": {
            "text/latex": [
              "$\\displaystyle \\frac{5}{18}$"
            ],
            "text/plain": [
              "5/18"
            ]
          },
          "execution_count": 10,
          "metadata": {},
          "output_type": "execute_result"
        }
      ],
      "source": [
        "from sympy.stats import P, Die\n",
        "\n",
        "# 두 개의 주사위를 정의합니다.\n",
        "D1 = Die('D1', 6)\n",
        "D2 = Die('D2', 6)\n",
        "\n",
        "# D1과 D2의 합이 8보다 클 확률\n",
        "P(D1 + D2 > 8)"
      ]
    },
    {
      "cell_type": "code",
      "execution_count": null,
      "id": "1307acc7-7c62-42f5-a31b-2ec846e4c1c0",
      "metadata": {
        "tags": [],
        "id": "1307acc7-7c62-42f5-a31b-2ec846e4c1c0",
        "outputId": "77c23942-a86e-4473-e9d7-a3e6ece9587a"
      },
      "outputs": [
        {
          "data": {
            "text/plain": [
              "36"
            ]
          },
          "execution_count": 7,
          "metadata": {},
          "output_type": "execute_result"
        }
      ],
      "source": [
        "# 검증\n",
        "# 주사위의 순서쌍 만들기\n",
        "dies=[(d1,d2) for d1 in range(1,7) for d2 in range(1,7)]\n",
        "len(dies) # 전체 사건의 수"
      ]
    },
    {
      "cell_type": "code",
      "execution_count": null,
      "id": "a8a9a04c-fccc-4ec6-9f05-621ce238b7d0",
      "metadata": {
        "tags": [],
        "id": "a8a9a04c-fccc-4ec6-9f05-621ce238b7d0",
        "outputId": "72133f8d-bbd3-4b51-a451-221d26618336"
      },
      "outputs": [
        {
          "data": {
            "text/plain": [
              "10"
            ]
          },
          "execution_count": 8,
          "metadata": {},
          "output_type": "execute_result"
        }
      ],
      "source": [
        "# (d1 + d2) > 8 인 경우 출력\n",
        "result = [(d1, d2) for d1, d2 in dies if (d1 + d2) > 8]\n",
        "len(result)"
      ]
    },
    {
      "cell_type": "markdown",
      "id": "c2e2d51b-63b1-46f4-9404-43a356251f20",
      "metadata": {
        "id": "c2e2d51b-63b1-46f4-9404-43a356251f20"
      },
      "source": [
        "### 앞문제에서 D1=5인 경우일 때, D1+D2>8일 확률을 구하여라."
      ]
    },
    {
      "cell_type": "code",
      "execution_count": null,
      "id": "839430dd-f142-4a85-8012-7f6898128138",
      "metadata": {
        "tags": [],
        "id": "839430dd-f142-4a85-8012-7f6898128138",
        "outputId": "f64e42a5-a20a-451e-fa4a-4a4e8c2320bf"
      },
      "outputs": [
        {
          "data": {
            "text/plain": [
              "3"
            ]
          },
          "execution_count": 12,
          "metadata": {},
          "output_type": "execute_result"
        }
      ],
      "source": [
        "# d1=5이고, (d1 + d2) > 8 인 경우 출력\n",
        "result = [(d1, d2) for d1,d2 in dies if (d1 + d2) > 8 and d1==5]\n",
        "len(result)"
      ]
    },
    {
      "cell_type": "code",
      "execution_count": null,
      "id": "eeddf9f0-5e16-46d7-8fc4-432eade72329",
      "metadata": {
        "tags": [],
        "id": "eeddf9f0-5e16-46d7-8fc4-432eade72329",
        "outputId": "7d6c599b-c5c1-4495-c97c-8063cdab4a25"
      },
      "outputs": [
        {
          "data": {
            "text/latex": [
              "$\\displaystyle \\frac{1}{2}$"
            ],
            "text/plain": [
              "1/2"
            ]
          },
          "execution_count": 13,
          "metadata": {},
          "output_type": "execute_result"
        }
      ],
      "source": [
        "from sympy import Rational\n",
        "Rational(3,36)/Rational(1,6)"
      ]
    },
    {
      "cell_type": "markdown",
      "id": "a4f7a34d-b6ad-4447-b6c1-faa055e57332",
      "metadata": {
        "id": "a4f7a34d-b6ad-4447-b6c1-faa055e57332"
      },
      "source": [
        "### 하나의 모자 안에 1부터 10까지 숫자가 각각 적힌 카드 10장이 들어있다. 카드를 무작위로 하나 추출한다고 할 때, 이 카드가 적어도 5일 확률은 얼마인가? 적어도 5인 상황에서 카드가 10일 확률은 어떻게 되는가?"
      ]
    },
    {
      "cell_type": "code",
      "execution_count": null,
      "id": "45da8b44-c0b3-4111-9184-079987d6b183",
      "metadata": {
        "tags": [],
        "id": "45da8b44-c0b3-4111-9184-079987d6b183",
        "outputId": "d4a3c835-154f-4524-e937-385dc7e78fa3"
      },
      "outputs": [
        {
          "data": {
            "text/latex": [
              "$\\displaystyle \\frac{3}{5}$"
            ],
            "text/plain": [
              "3/5"
            ]
          },
          "execution_count": 17,
          "metadata": {},
          "output_type": "execute_result"
        }
      ],
      "source": [
        "from sympy.stats import P, Die\n",
        "\n",
        "# 확률변수 정의\n",
        "X = Die('X', 10)\n",
        "\n",
        "P_A=P(X>=5)\n",
        "P_A"
      ]
    },
    {
      "cell_type": "code",
      "execution_count": null,
      "id": "0f4c0e8b-8a48-4f7e-910a-09ca1cc47aef",
      "metadata": {
        "tags": [],
        "id": "0f4c0e8b-8a48-4f7e-910a-09ca1cc47aef",
        "outputId": "ff1b9ebf-f338-4512-cfb1-b83f5f8a5cab"
      },
      "outputs": [
        {
          "data": {
            "text/latex": [
              "$\\displaystyle \\frac{1}{10}$"
            ],
            "text/plain": [
              "1/10"
            ]
          },
          "execution_count": 18,
          "metadata": {},
          "output_type": "execute_result"
        }
      ],
      "source": [
        "P_B=P(X>=10)\n",
        "P_B"
      ]
    },
    {
      "cell_type": "code",
      "execution_count": null,
      "id": "ec9e278c-dc85-4753-89af-702e1c5ce6fa",
      "metadata": {
        "tags": [],
        "id": "ec9e278c-dc85-4753-89af-702e1c5ce6fa",
        "outputId": "82bdb79f-a20e-4246-b86a-d4b78398590a"
      },
      "outputs": [
        {
          "data": {
            "text/latex": [
              "$\\displaystyle \\frac{1}{6}$"
            ],
            "text/plain": [
              "1/6"
            ]
          },
          "execution_count": 19,
          "metadata": {},
          "output_type": "execute_result"
        }
      ],
      "source": [
        "P_B/P_A"
      ]
    },
    {
      "cell_type": "markdown",
      "id": "33076911-1da3-478f-a356-d49caf370518",
      "metadata": {
        "id": "33076911-1da3-478f-a356-d49caf370518"
      },
      "source": [
        "### 세 사람이 방 안에 자신의 모자를 던져두고, 모자를 랜덤하게 섞은 후 한 사람씩 자신의 모자를 랜덤하게 선택하고 있다. 세 사람 모두 자신의 모자를 선택하지 못할 확률을 계산하시오."
      ]
    },
    {
      "cell_type": "code",
      "execution_count": null,
      "id": "23702b3c-7659-4c10-8c71-3f898bd41114",
      "metadata": {
        "tags": [],
        "id": "23702b3c-7659-4c10-8c71-3f898bd41114",
        "outputId": "8ac46583-5b7d-4032-f747-87800cf56cf1"
      },
      "outputs": [
        {
          "name": "stdout",
          "output_type": "stream",
          "text": [
            "('A', 'B', 'C')\n",
            "('A', 'C', 'B')\n",
            "('B', 'A', 'C')\n",
            "('B', 'C', 'A')\n",
            "('C', 'A', 'B')\n",
            "('C', 'B', 'A')\n"
          ]
        }
      ],
      "source": [
        "import itertools\n",
        "\n",
        "hats=['A','B','C']\n",
        "selected_hats=itertools.permutations(hats)\n",
        "for p in selected_hats:\n",
        "    print(p)"
      ]
    },
    {
      "cell_type": "markdown",
      "id": "84093427-a00e-42cb-8e5a-bfd4c0b52371",
      "metadata": {
        "id": "84093427-a00e-42cb-8e5a-bfd4c0b52371"
      },
      "source": [
        "### 두 개의 주사위를 던지는 실험을 한다. 사건 A를 첫번째 주사위의 눈이 4인 경우로 하고, 사건 B를 두 눈의 합이 7인 경우라고 하자. 이 때, P(B|A)를 구하여 보아라."
      ]
    },
    {
      "cell_type": "code",
      "execution_count": null,
      "id": "07b80a85-925b-4887-b776-4e2aa14c4047",
      "metadata": {
        "tags": [],
        "id": "07b80a85-925b-4887-b776-4e2aa14c4047",
        "outputId": "470dc978-5b57-4a23-b30b-3ddf099ef785"
      },
      "outputs": [
        {
          "data": {
            "text/latex": [
              "$\\displaystyle \\frac{1}{6}$"
            ],
            "text/plain": [
              "1/6"
            ]
          },
          "execution_count": 13,
          "metadata": {},
          "output_type": "execute_result"
        }
      ],
      "source": [
        "from sympy.stats import P, Die\n",
        "from sympy import Eq\n",
        "\n",
        "# 두 개의 주사위를 정의합니다.\n",
        "D1 = Die('D1', 6)\n",
        "D2 = Die('D2', 6)\n",
        "\n",
        "# D1과 D2의 합이 7일 확률\n",
        "P(Eq(D1 + D2, 7))"
      ]
    },
    {
      "cell_type": "code",
      "execution_count": null,
      "id": "fe7bc618-d630-4fe7-b7bb-f47eb783ee73",
      "metadata": {
        "tags": [],
        "id": "fe7bc618-d630-4fe7-b7bb-f47eb783ee73",
        "outputId": "2b06189e-b326-4a55-f5f7-fa1fc302e3ea"
      },
      "outputs": [
        {
          "data": {
            "text/latex": [
              "$\\displaystyle 0$"
            ],
            "text/plain": [
              "0"
            ]
          },
          "execution_count": 19,
          "metadata": {},
          "output_type": "execute_result"
        }
      ],
      "source": [
        "P(D1+D2==7)"
      ]
    },
    {
      "cell_type": "code",
      "execution_count": null,
      "id": "98af7b4d-4a85-40a5-81d4-02100e935fb3",
      "metadata": {
        "tags": [],
        "id": "98af7b4d-4a85-40a5-81d4-02100e935fb3",
        "outputId": "bff9e06e-8cb0-435a-9412-881fc3eb4d71"
      },
      "outputs": [
        {
          "data": {
            "text/latex": [
              "$\\displaystyle \\frac{1}{6}$"
            ],
            "text/plain": [
              "1/6"
            ]
          },
          "execution_count": 20,
          "metadata": {},
          "output_type": "execute_result"
        }
      ],
      "source": [
        "P(D1+D2>6)-P(D1+D2>7)"
      ]
    },
    {
      "cell_type": "code",
      "execution_count": null,
      "id": "617f3a85-3c9a-4d0c-9ffe-ea38b886bb4f",
      "metadata": {
        "tags": [],
        "id": "617f3a85-3c9a-4d0c-9ffe-ea38b886bb4f",
        "outputId": "aa22432e-c36c-47c1-8722-a833ecdb5940"
      },
      "outputs": [
        {
          "data": {
            "text/latex": [
              "$\\displaystyle \\frac{1}{36}$"
            ],
            "text/plain": [
              "1/36"
            ]
          },
          "execution_count": 21,
          "metadata": {},
          "output_type": "execute_result"
        }
      ],
      "source": [
        "P(Eq(D1,4) & Eq(D2,3))"
      ]
    },
    {
      "cell_type": "code",
      "execution_count": null,
      "id": "a3c7b2ea-d811-434e-9244-bfa4b0607dde",
      "metadata": {
        "tags": [],
        "id": "a3c7b2ea-d811-434e-9244-bfa4b0607dde",
        "outputId": "ce41fbc2-868d-4894-80a0-120505f2d5db"
      },
      "outputs": [
        {
          "data": {
            "text/plain": [
              "[(1, 6), (2, 5), (3, 4), (4, 3), (5, 2), (6, 1)]"
            ]
          },
          "execution_count": 18,
          "metadata": {},
          "output_type": "execute_result"
        }
      ],
      "source": [
        "# (d1 + d2) ==7 인 경우 출력\n",
        "dies=[(d1,d2) for d1 in range(1,7) for d2 in range(1,7)]\n",
        "result = [(d1, d2) for d1, d2 in dies if (d1 + d2) == 7]\n",
        "result"
      ]
    },
    {
      "cell_type": "code",
      "execution_count": null,
      "id": "f1b51eee-ad05-45d1-a50f-aac97916367d",
      "metadata": {
        "tags": [],
        "id": "f1b51eee-ad05-45d1-a50f-aac97916367d",
        "outputId": "da3db51b-db2a-4482-d019-389bf42e0583"
      },
      "outputs": [
        {
          "data": {
            "text/latex": [
              "$\\displaystyle \\left\\{A, B, C\\right\\}$"
            ],
            "text/plain": [
              "{A, B, C}"
            ]
          },
          "execution_count": 10,
          "metadata": {},
          "output_type": "execute_result"
        }
      ],
      "source": [
        "from sympy import symbols, Union, Intersection, Complement\n",
        "\n",
        "# 집합 기호 정의\n",
        "A, B, C = symbols('A B C', cls=FiniteSet)\n",
        "\n",
        "# 합집합 A ∪ B ∪ C\n",
        "A_union_B_union_C = Union(A, B, C)\n",
        "\n",
        "# 교집합\n",
        "A_intersect_B = Intersection(A, B)\n",
        "A_intersect_C = Intersection(A, C)\n",
        "B_intersect_C = Intersection(B, C)\n",
        "A_intersect_B_intersect_C = Intersection(A, B, C)\n",
        "A_union_B_union_C"
      ]
    },
    {
      "cell_type": "code",
      "execution_count": null,
      "id": "1f0c1af7-1e8f-49aa-833d-0d598a3b7cee",
      "metadata": {
        "tags": [],
        "id": "1f0c1af7-1e8f-49aa-833d-0d598a3b7cee",
        "outputId": "4fa11ee9-35d1-494e-ead3-e7b31ef46bda"
      },
      "outputs": [
        {
          "data": {
            "text/latex": [
              "$\\displaystyle \\left\\{A\\right\\} \\cap \\left\\{B\\right\\}$"
            ],
            "text/plain": [
              "Intersection({A}, {B})"
            ]
          },
          "execution_count": 12,
          "metadata": {},
          "output_type": "execute_result"
        }
      ],
      "source": [
        "Intersection(A,B)"
      ]
    },
    {
      "cell_type": "markdown",
      "id": "97cdb00a-be25-4d3a-849b-5eba947f1072",
      "metadata": {
        "tags": [],
        "id": "97cdb00a-be25-4d3a-849b-5eba947f1072"
      },
      "source": [
        "# 주사위 던지기"
      ]
    },
    {
      "cell_type": "code",
      "execution_count": null,
      "id": "3f6cfe2a-1b25-40b5-8519-63aabb94c613",
      "metadata": {
        "tags": [],
        "id": "3f6cfe2a-1b25-40b5-8519-63aabb94c613",
        "outputId": "47dc7b96-02a9-4a64-a5f3-bb846d9b5fb9"
      },
      "outputs": [
        {
          "data": {
            "text/latex": [
              "$\\displaystyle \\begin{cases} \\frac{1}{6} & \\text{for}\\: k \\leq 6 \\\\0 & \\text{otherwise} \\end{cases}$"
            ],
            "text/plain": [
              "Piecewise((1/6, k <= 6), (0, True))"
            ]
          },
          "execution_count": 8,
          "metadata": {},
          "output_type": "execute_result"
        }
      ],
      "source": [
        "from sympy import symbols\n",
        "from sympy.stats import Die, density\n",
        "k=symbols('k',integer=True, positive=True)\n",
        "X=Die('X')\n",
        "density(X)(k) # 확률질량함수 구하기"
      ]
    },
    {
      "cell_type": "code",
      "execution_count": null,
      "id": "ec409717-1baf-465f-a307-e0bc4db3cc0d",
      "metadata": {
        "tags": [],
        "id": "ec409717-1baf-465f-a307-e0bc4db3cc0d",
        "outputId": "0fea498c-8188-4fda-d52c-36cbce38a48c"
      },
      "outputs": [
        {
          "data": {
            "text/latex": [
              "$\\displaystyle \\frac{7}{2}$"
            ],
            "text/plain": [
              "7/2"
            ]
          },
          "execution_count": 9,
          "metadata": {},
          "output_type": "execute_result"
        }
      ],
      "source": [
        "from sympy.stats import E, variance\n",
        "E(X) # 평균구하기"
      ]
    },
    {
      "cell_type": "code",
      "execution_count": null,
      "id": "92c2aa22-cec1-4008-bb62-829471232c0f",
      "metadata": {
        "tags": [],
        "id": "92c2aa22-cec1-4008-bb62-829471232c0f",
        "outputId": "ddf0a1a5-50e3-41e9-fbce-98b3001aa61a"
      },
      "outputs": [
        {
          "data": {
            "text/latex": [
              "$\\displaystyle \\frac{35}{12}$"
            ],
            "text/plain": [
              "35/12"
            ]
          },
          "execution_count": 10,
          "metadata": {},
          "output_type": "execute_result"
        }
      ],
      "source": [
        "variance(X) # 분산구하기"
      ]
    },
    {
      "cell_type": "code",
      "execution_count": null,
      "id": "04966e5a-7f99-4f89-9c3d-08d5cf5a5d83",
      "metadata": {
        "tags": [],
        "id": "04966e5a-7f99-4f89-9c3d-08d5cf5a5d83",
        "outputId": "0c60c183-8de2-42ac-ac0f-b00afd5095bb"
      },
      "outputs": [
        {
          "data": {
            "text/plain": [
              "array([[5, 6, 4, 5],\n",
              "       [2, 3, 4, 3],\n",
              "       [3, 4, 5, 1]])"
            ]
          },
          "execution_count": 11,
          "metadata": {},
          "output_type": "execute_result"
        }
      ],
      "source": [
        "# sample 출력\n",
        "from sympy.stats import sample\n",
        "# size 인자는 출력되는 데이터의 형태를 지정해 준다.\n",
        "sample(X,size=(3,4))"
      ]
    },
    {
      "cell_type": "markdown",
      "id": "c03da9d5-f3c3-4913-a059-0a6c5176c4aa",
      "metadata": {
        "id": "c03da9d5-f3c3-4913-a059-0a6c5176c4aa"
      },
      "source": [
        "## 어떤 사람이 현재 k원이 있고, 매 게임마다 1원을 걸어 게임을 한다. 확률 p로 이기면 1원 증가, 확률 1-p 로 지면 1원 감소한다. 목표 금액 N원을 달성하거나, 파산하여 0원이 되면 게임은 끝나게 된다. 현재 k원을 가진 사람이 목표 금액 N원을 달성할 확률을 구하여라."
      ]
    },
    {
      "cell_type": "code",
      "execution_count": null,
      "id": "484b0878-66b1-41a7-b766-d5985141caed",
      "metadata": {
        "tags": [],
        "id": "484b0878-66b1-41a7-b766-d5985141caed",
        "outputId": "bad3f45b-aa63-4031-843f-8e3a974ef112"
      },
      "outputs": [
        {
          "data": {
            "text/latex": [
              "$\\displaystyle 2.45965442657986 \\cdot 10^{-18}$"
            ],
            "text/plain": [
              "2.45965442657986e-18"
            ]
          },
          "execution_count": 6,
          "metadata": {},
          "output_type": "execute_result"
        }
      ],
      "source": [
        "from sympy import symbols, Function, Eq, rsolve\n",
        "\n",
        "# 변수 및 함수 정의\n",
        "k= symbols('k', integer=True, positive=True)\n",
        "P = Function('P')\n",
        "p = 0.4\n",
        "\n",
        "# 차분 방정식 정의\n",
        "diff_eq = Eq(P(k), p*P(k+1)+(1-p)*P(k-1))\n",
        "\n",
        "# 초기 조건 추가(딕셔너리 자료형)\n",
        "init_conditions = {P(0):0, P(200):1}\n",
        "\n",
        "# 해 구하기\n",
        "solution = rsolve(diff_eq, P(k),init_conditions)\n",
        "solution.subs(k,100) #k=100 대입"
      ]
    },
    {
      "cell_type": "code",
      "execution_count": null,
      "id": "8af07f02-819b-47c4-a082-23aac78d3c61",
      "metadata": {
        "tags": [],
        "id": "8af07f02-819b-47c4-a082-23aac78d3c61",
        "outputId": "9dbdc0ad-3da6-4f8b-b02f-7a6994edffdd"
      },
      "outputs": [
        {
          "data": {
            "text/plain": [
              "2.4596544265798292e-18"
            ]
          },
          "execution_count": 8,
          "metadata": {},
          "output_type": "execute_result"
        }
      ],
      "source": [
        "C0=1/(1-1.5**200)\n",
        "C0-C0*(3/2)**100"
      ]
    },
    {
      "cell_type": "markdown",
      "id": "981da728-6b30-4550-a555-1ef6da13b69d",
      "metadata": {
        "id": "981da728-6b30-4550-a555-1ef6da13b69d"
      },
      "source": [
        "# 이항분포"
      ]
    },
    {
      "cell_type": "code",
      "execution_count": null,
      "id": "50a998ba-2627-4e6d-904d-ad171f53cd2b",
      "metadata": {
        "id": "50a998ba-2627-4e6d-904d-ad171f53cd2b",
        "outputId": "a5d766ef-46d8-41e8-c669-604f06b3171c"
      },
      "outputs": [
        {
          "data": {
            "text/latex": [
              "$\\displaystyle 2^{n}$"
            ],
            "text/plain": [
              "2**n"
            ]
          },
          "execution_count": 36,
          "metadata": {},
          "output_type": "execute_result"
        }
      ],
      "source": [
        "from sympy import summation, symbols, binomial\n",
        "n,k=symbols('n k', integer=True,nonnegative=True)\n",
        "p=symbols('p',nonnegative=True)\n",
        "summation(binomial(n,k),(k,0,n))"
      ]
    },
    {
      "cell_type": "code",
      "execution_count": null,
      "id": "e386b12b-1c5d-4d1d-8b60-71ca9efbe9f1",
      "metadata": {
        "id": "e386b12b-1c5d-4d1d-8b60-71ca9efbe9f1",
        "outputId": "47b94192-b327-4d21-a1a6-d382e7cc18af"
      },
      "outputs": [
        {
          "data": {
            "text/latex": [
              "$\\displaystyle \\begin{cases} 1 & \\text{for}\\: \\frac{p}{\\left|{p - 1}\\right|} \\leq 1 \\wedge \\left(n = 0 \\vee n > 0\\right) \\\\\\sum_{k=0}^{n} p^{k} \\left(1 - p\\right)^{- k + n} {\\binom{n}{k}} & \\text{otherwise} \\end{cases}$"
            ],
            "text/plain": [
              "Piecewise((1, (Eq(n, 0) | (n > 0)) & (p/Abs(p - 1) <= 1)), (Sum(p**k*(1 - p)**(-k + n)*binomial(n, k), (k, 0, n)), True))"
            ]
          },
          "execution_count": 40,
          "metadata": {},
          "output_type": "execute_result"
        }
      ],
      "source": [
        "from sympy import summation, symbols, binomial\n",
        "n,k=symbols('n k', integer=True,nonnegative=True)\n",
        "p=symbols('p',nonnegative=True)\n",
        "# 확률이 1이 됨을 증명\n",
        "summation(binomial(n,k)*p**k*(1-p)**(n-k),(k,0,n)).simplify()"
      ]
    },
    {
      "cell_type": "code",
      "execution_count": null,
      "id": "7af523e6-4024-4064-b590-066cbf17e8f3",
      "metadata": {
        "id": "7af523e6-4024-4064-b590-066cbf17e8f3",
        "outputId": "56b792af-6655-461b-f321-b774cc19dc0d"
      },
      "outputs": [
        {
          "data": {
            "text/latex": [
              "$\\displaystyle \\begin{cases} n p & \\text{for}\\: \\left(n = 0 \\wedge \\frac{p}{\\left|{p - 1}\\right|} < 1\\right) \\vee \\left(\\frac{p}{\\left|{p - 1}\\right|} \\leq 1 \\wedge n > 0\\right) \\vee \\left(\\frac{p}{\\left|{p - 1}\\right|} \\leq 1 \\wedge n > 1\\right) \\\\n! \\sum_{k=0}^{n} \\frac{p^{k} \\left(1 - p\\right)^{- k + n}}{\\left(- k + n\\right)! \\left(k - 1\\right)!} & \\text{otherwise} \\end{cases}$"
            ],
            "text/plain": [
              "Piecewise((n*p, (Eq(n, 0) & (p/Abs(p - 1) < 1)) | ((n > 0) & (p/Abs(p - 1) <= 1)) | ((n > 1) & (p/Abs(p - 1) <= 1))), (factorial(n)*Sum(p**k*(1 - p)**(-k + n)/(factorial(-k + n)*factorial(k - 1)), (k, 0, n)), True))"
            ]
          },
          "execution_count": 41,
          "metadata": {},
          "output_type": "execute_result"
        }
      ],
      "source": [
        "# 이항분포의 평균 검증\n",
        "summation(k*binomial(n,k)*p**k*(1-p)**(n-k),(k,0,n)).simplify()"
      ]
    },
    {
      "cell_type": "code",
      "execution_count": null,
      "id": "c62d7e56-0aea-4ba6-b907-616d853ea220",
      "metadata": {
        "collapsed": true,
        "jupyter": {
          "outputs_hidden": true
        },
        "id": "c62d7e56-0aea-4ba6-b907-616d853ea220",
        "outputId": "742595a7-4f06-4c2e-d42e-dadb3abaf6b2"
      },
      "outputs": [
        {
          "ename": "KeyboardInterrupt",
          "evalue": "",
          "output_type": "error",
          "traceback": [
            "\u001b[1;31m---------------------------------------------------------------------------\u001b[0m",
            "\u001b[1;31mKeyError\u001b[0m                                  Traceback (most recent call last)",
            "File \u001b[1;32mC:\\ProgramData\\anaconda3\\Lib\\site-packages\\sympy\\core\\assumptions.py:499\u001b[0m, in \u001b[0;36mmake_property.<locals>.getit\u001b[1;34m(self)\u001b[0m\n\u001b[0;32m    498\u001b[0m \u001b[38;5;28;01mtry\u001b[39;00m:\n\u001b[1;32m--> 499\u001b[0m     \u001b[38;5;28;01mreturn\u001b[39;00m \u001b[38;5;28mself\u001b[39m\u001b[38;5;241m.\u001b[39m_assumptions[fact]\n\u001b[0;32m    500\u001b[0m \u001b[38;5;28;01mexcept\u001b[39;00m \u001b[38;5;167;01mKeyError\u001b[39;00m:\n",
            "\u001b[1;31mKeyError\u001b[0m: 'zero'",
            "\nDuring handling of the above exception, another exception occurred:\n",
            "\u001b[1;31mKeyError\u001b[0m                                  Traceback (most recent call last)",
            "File \u001b[1;32mC:\\ProgramData\\anaconda3\\Lib\\site-packages\\sympy\\core\\assumptions.py:499\u001b[0m, in \u001b[0;36mmake_property.<locals>.getit\u001b[1;34m(self)\u001b[0m\n\u001b[0;32m    498\u001b[0m \u001b[38;5;28;01mtry\u001b[39;00m:\n\u001b[1;32m--> 499\u001b[0m     \u001b[38;5;28;01mreturn\u001b[39;00m \u001b[38;5;28mself\u001b[39m\u001b[38;5;241m.\u001b[39m_assumptions[fact]\n\u001b[0;32m    500\u001b[0m \u001b[38;5;28;01mexcept\u001b[39;00m \u001b[38;5;167;01mKeyError\u001b[39;00m:\n",
            "\u001b[1;31mKeyError\u001b[0m: 'zero'",
            "\nDuring handling of the above exception, another exception occurred:\n",
            "\u001b[1;31mKeyError\u001b[0m                                  Traceback (most recent call last)",
            "File \u001b[1;32mC:\\ProgramData\\anaconda3\\Lib\\site-packages\\sympy\\core\\assumptions.py:499\u001b[0m, in \u001b[0;36mmake_property.<locals>.getit\u001b[1;34m(self)\u001b[0m\n\u001b[0;32m    498\u001b[0m \u001b[38;5;28;01mtry\u001b[39;00m:\n\u001b[1;32m--> 499\u001b[0m     \u001b[38;5;28;01mreturn\u001b[39;00m \u001b[38;5;28mself\u001b[39m\u001b[38;5;241m.\u001b[39m_assumptions[fact]\n\u001b[0;32m    500\u001b[0m \u001b[38;5;28;01mexcept\u001b[39;00m \u001b[38;5;167;01mKeyError\u001b[39;00m:\n",
            "\u001b[1;31mKeyError\u001b[0m: 'zero'",
            "\nDuring handling of the above exception, another exception occurred:\n",
            "\u001b[1;31mKeyError\u001b[0m                                  Traceback (most recent call last)",
            "File \u001b[1;32mC:\\ProgramData\\anaconda3\\Lib\\site-packages\\sympy\\core\\assumptions.py:499\u001b[0m, in \u001b[0;36mmake_property.<locals>.getit\u001b[1;34m(self)\u001b[0m\n\u001b[0;32m    498\u001b[0m \u001b[38;5;28;01mtry\u001b[39;00m:\n\u001b[1;32m--> 499\u001b[0m     \u001b[38;5;28;01mreturn\u001b[39;00m \u001b[38;5;28mself\u001b[39m\u001b[38;5;241m.\u001b[39m_assumptions[fact]\n\u001b[0;32m    500\u001b[0m \u001b[38;5;28;01mexcept\u001b[39;00m \u001b[38;5;167;01mKeyError\u001b[39;00m:\n",
            "\u001b[1;31mKeyError\u001b[0m: 'zero'",
            "\nDuring handling of the above exception, another exception occurred:\n",
            "\u001b[1;31mKeyError\u001b[0m                                  Traceback (most recent call last)",
            "File \u001b[1;32mC:\\ProgramData\\anaconda3\\Lib\\site-packages\\sympy\\core\\assumptions.py:499\u001b[0m, in \u001b[0;36mmake_property.<locals>.getit\u001b[1;34m(self)\u001b[0m\n\u001b[0;32m    498\u001b[0m \u001b[38;5;28;01mtry\u001b[39;00m:\n\u001b[1;32m--> 499\u001b[0m     \u001b[38;5;28;01mreturn\u001b[39;00m \u001b[38;5;28mself\u001b[39m\u001b[38;5;241m.\u001b[39m_assumptions[fact]\n\u001b[0;32m    500\u001b[0m \u001b[38;5;28;01mexcept\u001b[39;00m \u001b[38;5;167;01mKeyError\u001b[39;00m:\n",
            "\u001b[1;31mKeyError\u001b[0m: 'zero'",
            "\nDuring handling of the above exception, another exception occurred:\n",
            "\u001b[1;31mKeyError\u001b[0m                                  Traceback (most recent call last)",
            "File \u001b[1;32mC:\\ProgramData\\anaconda3\\Lib\\site-packages\\sympy\\core\\assumptions.py:499\u001b[0m, in \u001b[0;36mmake_property.<locals>.getit\u001b[1;34m(self)\u001b[0m\n\u001b[0;32m    498\u001b[0m \u001b[38;5;28;01mtry\u001b[39;00m:\n\u001b[1;32m--> 499\u001b[0m     \u001b[38;5;28;01mreturn\u001b[39;00m \u001b[38;5;28mself\u001b[39m\u001b[38;5;241m.\u001b[39m_assumptions[fact]\n\u001b[0;32m    500\u001b[0m \u001b[38;5;28;01mexcept\u001b[39;00m \u001b[38;5;167;01mKeyError\u001b[39;00m:\n",
            "\u001b[1;31mKeyError\u001b[0m: 'zero'",
            "\nDuring handling of the above exception, another exception occurred:\n",
            "\u001b[1;31mKeyError\u001b[0m                                  Traceback (most recent call last)",
            "File \u001b[1;32mC:\\ProgramData\\anaconda3\\Lib\\site-packages\\sympy\\core\\assumptions.py:499\u001b[0m, in \u001b[0;36mmake_property.<locals>.getit\u001b[1;34m(self)\u001b[0m\n\u001b[0;32m    498\u001b[0m \u001b[38;5;28;01mtry\u001b[39;00m:\n\u001b[1;32m--> 499\u001b[0m     \u001b[38;5;28;01mreturn\u001b[39;00m \u001b[38;5;28mself\u001b[39m\u001b[38;5;241m.\u001b[39m_assumptions[fact]\n\u001b[0;32m    500\u001b[0m \u001b[38;5;28;01mexcept\u001b[39;00m \u001b[38;5;167;01mKeyError\u001b[39;00m:\n",
            "\u001b[1;31mKeyError\u001b[0m: 'zero'",
            "\nDuring handling of the above exception, another exception occurred:\n",
            "\u001b[1;31mKeyError\u001b[0m                                  Traceback (most recent call last)",
            "File \u001b[1;32mC:\\ProgramData\\anaconda3\\Lib\\site-packages\\sympy\\core\\assumptions.py:499\u001b[0m, in \u001b[0;36mmake_property.<locals>.getit\u001b[1;34m(self)\u001b[0m\n\u001b[0;32m    498\u001b[0m \u001b[38;5;28;01mtry\u001b[39;00m:\n\u001b[1;32m--> 499\u001b[0m     \u001b[38;5;28;01mreturn\u001b[39;00m \u001b[38;5;28mself\u001b[39m\u001b[38;5;241m.\u001b[39m_assumptions[fact]\n\u001b[0;32m    500\u001b[0m \u001b[38;5;28;01mexcept\u001b[39;00m \u001b[38;5;167;01mKeyError\u001b[39;00m:\n",
            "\u001b[1;31mKeyError\u001b[0m: 'zero'",
            "\nDuring handling of the above exception, another exception occurred:\n",
            "\u001b[1;31mKeyError\u001b[0m                                  Traceback (most recent call last)",
            "File \u001b[1;32mC:\\ProgramData\\anaconda3\\Lib\\site-packages\\sympy\\core\\assumptions.py:499\u001b[0m, in \u001b[0;36mmake_property.<locals>.getit\u001b[1;34m(self)\u001b[0m\n\u001b[0;32m    498\u001b[0m \u001b[38;5;28;01mtry\u001b[39;00m:\n\u001b[1;32m--> 499\u001b[0m     \u001b[38;5;28;01mreturn\u001b[39;00m \u001b[38;5;28mself\u001b[39m\u001b[38;5;241m.\u001b[39m_assumptions[fact]\n\u001b[0;32m    500\u001b[0m \u001b[38;5;28;01mexcept\u001b[39;00m \u001b[38;5;167;01mKeyError\u001b[39;00m:\n",
            "\u001b[1;31mKeyError\u001b[0m: 'zero'",
            "\nDuring handling of the above exception, another exception occurred:\n",
            "\u001b[1;31mKeyError\u001b[0m                                  Traceback (most recent call last)",
            "File \u001b[1;32mC:\\ProgramData\\anaconda3\\Lib\\site-packages\\sympy\\core\\assumptions.py:499\u001b[0m, in \u001b[0;36mmake_property.<locals>.getit\u001b[1;34m(self)\u001b[0m\n\u001b[0;32m    498\u001b[0m \u001b[38;5;28;01mtry\u001b[39;00m:\n\u001b[1;32m--> 499\u001b[0m     \u001b[38;5;28;01mreturn\u001b[39;00m \u001b[38;5;28mself\u001b[39m\u001b[38;5;241m.\u001b[39m_assumptions[fact]\n\u001b[0;32m    500\u001b[0m \u001b[38;5;28;01mexcept\u001b[39;00m \u001b[38;5;167;01mKeyError\u001b[39;00m:\n",
            "\u001b[1;31mKeyError\u001b[0m: 'zero'",
            "\nDuring handling of the above exception, another exception occurred:\n",
            "\u001b[1;31mKeyError\u001b[0m                                  Traceback (most recent call last)",
            "File \u001b[1;32mC:\\ProgramData\\anaconda3\\Lib\\site-packages\\sympy\\core\\assumptions.py:499\u001b[0m, in \u001b[0;36mmake_property.<locals>.getit\u001b[1;34m(self)\u001b[0m\n\u001b[0;32m    498\u001b[0m \u001b[38;5;28;01mtry\u001b[39;00m:\n\u001b[1;32m--> 499\u001b[0m     \u001b[38;5;28;01mreturn\u001b[39;00m \u001b[38;5;28mself\u001b[39m\u001b[38;5;241m.\u001b[39m_assumptions[fact]\n\u001b[0;32m    500\u001b[0m \u001b[38;5;28;01mexcept\u001b[39;00m \u001b[38;5;167;01mKeyError\u001b[39;00m:\n",
            "\u001b[1;31mKeyError\u001b[0m: 'zero'",
            "\nDuring handling of the above exception, another exception occurred:\n",
            "\u001b[1;31mKeyError\u001b[0m                                  Traceback (most recent call last)",
            "File \u001b[1;32mC:\\ProgramData\\anaconda3\\Lib\\site-packages\\sympy\\core\\assumptions.py:499\u001b[0m, in \u001b[0;36mmake_property.<locals>.getit\u001b[1;34m(self)\u001b[0m\n\u001b[0;32m    498\u001b[0m \u001b[38;5;28;01mtry\u001b[39;00m:\n\u001b[1;32m--> 499\u001b[0m     \u001b[38;5;28;01mreturn\u001b[39;00m \u001b[38;5;28mself\u001b[39m\u001b[38;5;241m.\u001b[39m_assumptions[fact]\n\u001b[0;32m    500\u001b[0m \u001b[38;5;28;01mexcept\u001b[39;00m \u001b[38;5;167;01mKeyError\u001b[39;00m:\n",
            "\u001b[1;31mKeyError\u001b[0m: 'zero'",
            "\nDuring handling of the above exception, another exception occurred:\n",
            "\u001b[1;31mKeyError\u001b[0m                                  Traceback (most recent call last)",
            "File \u001b[1;32mC:\\ProgramData\\anaconda3\\Lib\\site-packages\\sympy\\core\\assumptions.py:499\u001b[0m, in \u001b[0;36mmake_property.<locals>.getit\u001b[1;34m(self)\u001b[0m\n\u001b[0;32m    498\u001b[0m \u001b[38;5;28;01mtry\u001b[39;00m:\n\u001b[1;32m--> 499\u001b[0m     \u001b[38;5;28;01mreturn\u001b[39;00m \u001b[38;5;28mself\u001b[39m\u001b[38;5;241m.\u001b[39m_assumptions[fact]\n\u001b[0;32m    500\u001b[0m \u001b[38;5;28;01mexcept\u001b[39;00m \u001b[38;5;167;01mKeyError\u001b[39;00m:\n",
            "\u001b[1;31mKeyError\u001b[0m: 'zero'",
            "\nDuring handling of the above exception, another exception occurred:\n",
            "\u001b[1;31mKeyError\u001b[0m                                  Traceback (most recent call last)",
            "File \u001b[1;32mC:\\ProgramData\\anaconda3\\Lib\\site-packages\\sympy\\core\\assumptions.py:499\u001b[0m, in \u001b[0;36mmake_property.<locals>.getit\u001b[1;34m(self)\u001b[0m\n\u001b[0;32m    498\u001b[0m \u001b[38;5;28;01mtry\u001b[39;00m:\n\u001b[1;32m--> 499\u001b[0m     \u001b[38;5;28;01mreturn\u001b[39;00m \u001b[38;5;28mself\u001b[39m\u001b[38;5;241m.\u001b[39m_assumptions[fact]\n\u001b[0;32m    500\u001b[0m \u001b[38;5;28;01mexcept\u001b[39;00m \u001b[38;5;167;01mKeyError\u001b[39;00m:\n",
            "\u001b[1;31mKeyError\u001b[0m: 'zero'",
            "\nDuring handling of the above exception, another exception occurred:\n",
            "\u001b[1;31mKeyError\u001b[0m                                  Traceback (most recent call last)",
            "File \u001b[1;32mC:\\ProgramData\\anaconda3\\Lib\\site-packages\\sympy\\core\\assumptions.py:499\u001b[0m, in \u001b[0;36mmake_property.<locals>.getit\u001b[1;34m(self)\u001b[0m\n\u001b[0;32m    498\u001b[0m \u001b[38;5;28;01mtry\u001b[39;00m:\n\u001b[1;32m--> 499\u001b[0m     \u001b[38;5;28;01mreturn\u001b[39;00m \u001b[38;5;28mself\u001b[39m\u001b[38;5;241m.\u001b[39m_assumptions[fact]\n\u001b[0;32m    500\u001b[0m \u001b[38;5;28;01mexcept\u001b[39;00m \u001b[38;5;167;01mKeyError\u001b[39;00m:\n",
            "\u001b[1;31mKeyError\u001b[0m: 'zero'",
            "\nDuring handling of the above exception, another exception occurred:\n",
            "\u001b[1;31mKeyError\u001b[0m                                  Traceback (most recent call last)",
            "File \u001b[1;32mC:\\ProgramData\\anaconda3\\Lib\\site-packages\\sympy\\core\\assumptions.py:499\u001b[0m, in \u001b[0;36mmake_property.<locals>.getit\u001b[1;34m(self)\u001b[0m\n\u001b[0;32m    498\u001b[0m \u001b[38;5;28;01mtry\u001b[39;00m:\n\u001b[1;32m--> 499\u001b[0m     \u001b[38;5;28;01mreturn\u001b[39;00m \u001b[38;5;28mself\u001b[39m\u001b[38;5;241m.\u001b[39m_assumptions[fact]\n\u001b[0;32m    500\u001b[0m \u001b[38;5;28;01mexcept\u001b[39;00m \u001b[38;5;167;01mKeyError\u001b[39;00m:\n",
            "\u001b[1;31mKeyError\u001b[0m: 'zero'",
            "\nDuring handling of the above exception, another exception occurred:\n",
            "\u001b[1;31mKeyError\u001b[0m                                  Traceback (most recent call last)",
            "File \u001b[1;32mC:\\ProgramData\\anaconda3\\Lib\\site-packages\\sympy\\core\\assumptions.py:499\u001b[0m, in \u001b[0;36mmake_property.<locals>.getit\u001b[1;34m(self)\u001b[0m\n\u001b[0;32m    498\u001b[0m \u001b[38;5;28;01mtry\u001b[39;00m:\n\u001b[1;32m--> 499\u001b[0m     \u001b[38;5;28;01mreturn\u001b[39;00m \u001b[38;5;28mself\u001b[39m\u001b[38;5;241m.\u001b[39m_assumptions[fact]\n\u001b[0;32m    500\u001b[0m \u001b[38;5;28;01mexcept\u001b[39;00m \u001b[38;5;167;01mKeyError\u001b[39;00m:\n",
            "\u001b[1;31mKeyError\u001b[0m: 'zero'",
            "\nDuring handling of the above exception, another exception occurred:\n",
            "\u001b[1;31mKeyError\u001b[0m                                  Traceback (most recent call last)",
            "File \u001b[1;32mC:\\ProgramData\\anaconda3\\Lib\\site-packages\\sympy\\core\\assumptions.py:499\u001b[0m, in \u001b[0;36mmake_property.<locals>.getit\u001b[1;34m(self)\u001b[0m\n\u001b[0;32m    498\u001b[0m \u001b[38;5;28;01mtry\u001b[39;00m:\n\u001b[1;32m--> 499\u001b[0m     \u001b[38;5;28;01mreturn\u001b[39;00m \u001b[38;5;28mself\u001b[39m\u001b[38;5;241m.\u001b[39m_assumptions[fact]\n\u001b[0;32m    500\u001b[0m \u001b[38;5;28;01mexcept\u001b[39;00m \u001b[38;5;167;01mKeyError\u001b[39;00m:\n",
            "\u001b[1;31mKeyError\u001b[0m: 'zero'",
            "\nDuring handling of the above exception, another exception occurred:\n",
            "\u001b[1;31mKeyError\u001b[0m                                  Traceback (most recent call last)",
            "File \u001b[1;32mC:\\ProgramData\\anaconda3\\Lib\\site-packages\\sympy\\core\\assumptions.py:499\u001b[0m, in \u001b[0;36mmake_property.<locals>.getit\u001b[1;34m(self)\u001b[0m\n\u001b[0;32m    498\u001b[0m \u001b[38;5;28;01mtry\u001b[39;00m:\n\u001b[1;32m--> 499\u001b[0m     \u001b[38;5;28;01mreturn\u001b[39;00m \u001b[38;5;28mself\u001b[39m\u001b[38;5;241m.\u001b[39m_assumptions[fact]\n\u001b[0;32m    500\u001b[0m \u001b[38;5;28;01mexcept\u001b[39;00m \u001b[38;5;167;01mKeyError\u001b[39;00m:\n",
            "\u001b[1;31mKeyError\u001b[0m: 'zero'",
            "\nDuring handling of the above exception, another exception occurred:\n",
            "\u001b[1;31mKeyError\u001b[0m                                  Traceback (most recent call last)",
            "File \u001b[1;32mC:\\ProgramData\\anaconda3\\Lib\\site-packages\\sympy\\core\\assumptions.py:499\u001b[0m, in \u001b[0;36mmake_property.<locals>.getit\u001b[1;34m(self)\u001b[0m\n\u001b[0;32m    498\u001b[0m \u001b[38;5;28;01mtry\u001b[39;00m:\n\u001b[1;32m--> 499\u001b[0m     \u001b[38;5;28;01mreturn\u001b[39;00m \u001b[38;5;28mself\u001b[39m\u001b[38;5;241m.\u001b[39m_assumptions[fact]\n\u001b[0;32m    500\u001b[0m \u001b[38;5;28;01mexcept\u001b[39;00m \u001b[38;5;167;01mKeyError\u001b[39;00m:\n",
            "\u001b[1;31mKeyError\u001b[0m: 'zero'",
            "\nDuring handling of the above exception, another exception occurred:\n",
            "\u001b[1;31mKeyboardInterrupt\u001b[0m                         Traceback (most recent call last)",
            "Cell \u001b[1;32mIn[43], line 2\u001b[0m\n\u001b[0;32m      1\u001b[0m \u001b[38;5;66;03m# E(X(X-1)) 계산\u001b[39;00m\n\u001b[1;32m----> 2\u001b[0m summation(k\u001b[38;5;241m*\u001b[39m(k\u001b[38;5;241m-\u001b[39m\u001b[38;5;241m1\u001b[39m)\u001b[38;5;241m*\u001b[39mbinomial(n,k)\u001b[38;5;241m*\u001b[39mp\u001b[38;5;241m*\u001b[39m\u001b[38;5;241m*\u001b[39mk\u001b[38;5;241m*\u001b[39m(\u001b[38;5;241m1\u001b[39m\u001b[38;5;241m-\u001b[39mp)\u001b[38;5;241m*\u001b[39m\u001b[38;5;241m*\u001b[39m(n\u001b[38;5;241m-\u001b[39mk),(k,\u001b[38;5;241m1\u001b[39m,n))\u001b[38;5;241m.\u001b[39msimplify()\n",
            "File \u001b[1;32mC:\\ProgramData\\anaconda3\\Lib\\site-packages\\sympy\\core\\basic.py:1853\u001b[0m, in \u001b[0;36mBasic.simplify\u001b[1;34m(self, **kwargs)\u001b[0m\n\u001b[0;32m   1851\u001b[0m \u001b[38;5;250m\u001b[39m\u001b[38;5;124;03m\"\"\"See the simplify function in sympy.simplify\"\"\"\u001b[39;00m\n\u001b[0;32m   1852\u001b[0m \u001b[38;5;28;01mfrom\u001b[39;00m \u001b[38;5;21;01msympy\u001b[39;00m\u001b[38;5;21;01m.\u001b[39;00m\u001b[38;5;21;01msimplify\u001b[39;00m\u001b[38;5;21;01m.\u001b[39;00m\u001b[38;5;21;01msimplify\u001b[39;00m \u001b[38;5;28;01mimport\u001b[39;00m simplify\n\u001b[1;32m-> 1853\u001b[0m \u001b[38;5;28;01mreturn\u001b[39;00m simplify(\u001b[38;5;28mself\u001b[39m, \u001b[38;5;241m*\u001b[39m\u001b[38;5;241m*\u001b[39mkwargs)\n",
            "File \u001b[1;32mC:\\ProgramData\\anaconda3\\Lib\\site-packages\\sympy\\simplify\\simplify.py:666\u001b[0m, in \u001b[0;36msimplify\u001b[1;34m(expr, ratio, measure, rational, inverse, doit, **kwargs)\u001b[0m\n\u001b[0;32m    664\u001b[0m expr \u001b[38;5;241m=\u001b[39m piecewise_fold(expr)\n\u001b[0;32m    665\u001b[0m \u001b[38;5;66;03m# Apply doit, if doit=True\u001b[39;00m\n\u001b[1;32m--> 666\u001b[0m expr \u001b[38;5;241m=\u001b[39m done(expr)\n\u001b[0;32m    667\u001b[0m \u001b[38;5;66;03m# Still a Piecewise?\u001b[39;00m\n\u001b[0;32m    668\u001b[0m \u001b[38;5;28;01mif\u001b[39;00m expr\u001b[38;5;241m.\u001b[39mhas(Piecewise):\n\u001b[0;32m    669\u001b[0m     \u001b[38;5;66;03m# Fold into a single Piecewise, in case doit lead to some\u001b[39;00m\n\u001b[0;32m    670\u001b[0m     \u001b[38;5;66;03m# expressions being Piecewise\u001b[39;00m\n",
            "File \u001b[1;32mC:\\ProgramData\\anaconda3\\Lib\\site-packages\\sympy\\simplify\\simplify.py:585\u001b[0m, in \u001b[0;36msimplify.<locals>.done\u001b[1;34m(e)\u001b[0m\n\u001b[0;32m    584\u001b[0m \u001b[38;5;28;01mdef\u001b[39;00m \u001b[38;5;21mdone\u001b[39m(e):\n\u001b[1;32m--> 585\u001b[0m     rv \u001b[38;5;241m=\u001b[39m e\u001b[38;5;241m.\u001b[39mdoit() \u001b[38;5;28;01mif\u001b[39;00m doit \u001b[38;5;28;01melse\u001b[39;00m e\n\u001b[0;32m    586\u001b[0m     \u001b[38;5;28;01mreturn\u001b[39;00m shorter(rv, collect_abs(rv))\n",
            "File \u001b[1;32mC:\\ProgramData\\anaconda3\\Lib\\site-packages\\sympy\\functions\\elementary\\piecewise.py:213\u001b[0m, in \u001b[0;36mPiecewise.doit\u001b[1;34m(self, **hints)\u001b[0m\n\u001b[0;32m    211\u001b[0m \u001b[38;5;28;01mif\u001b[39;00m hints\u001b[38;5;241m.\u001b[39mget(\u001b[38;5;124m'\u001b[39m\u001b[38;5;124mdeep\u001b[39m\u001b[38;5;124m'\u001b[39m, \u001b[38;5;28;01mTrue\u001b[39;00m):\n\u001b[0;32m    212\u001b[0m     \u001b[38;5;28;01mif\u001b[39;00m \u001b[38;5;28misinstance\u001b[39m(e, Basic):\n\u001b[1;32m--> 213\u001b[0m         newe \u001b[38;5;241m=\u001b[39m e\u001b[38;5;241m.\u001b[39mdoit(\u001b[38;5;241m*\u001b[39m\u001b[38;5;241m*\u001b[39mhints)\n\u001b[0;32m    214\u001b[0m         \u001b[38;5;28;01mif\u001b[39;00m newe \u001b[38;5;241m!=\u001b[39m \u001b[38;5;28mself\u001b[39m:\n\u001b[0;32m    215\u001b[0m             e \u001b[38;5;241m=\u001b[39m newe\n",
            "File \u001b[1;32mC:\\ProgramData\\anaconda3\\Lib\\site-packages\\sympy\\core\\operations.py:455\u001b[0m, in \u001b[0;36mAssocOp.doit\u001b[1;34m(self, **hints)\u001b[0m\n\u001b[0;32m    453\u001b[0m \u001b[38;5;28;01mdef\u001b[39;00m \u001b[38;5;21mdoit\u001b[39m(\u001b[38;5;28mself\u001b[39m, \u001b[38;5;241m*\u001b[39m\u001b[38;5;241m*\u001b[39mhints):\n\u001b[0;32m    454\u001b[0m     \u001b[38;5;28;01mif\u001b[39;00m hints\u001b[38;5;241m.\u001b[39mget(\u001b[38;5;124m'\u001b[39m\u001b[38;5;124mdeep\u001b[39m\u001b[38;5;124m'\u001b[39m, \u001b[38;5;28;01mTrue\u001b[39;00m):\n\u001b[1;32m--> 455\u001b[0m         terms \u001b[38;5;241m=\u001b[39m [term\u001b[38;5;241m.\u001b[39mdoit(\u001b[38;5;241m*\u001b[39m\u001b[38;5;241m*\u001b[39mhints) \u001b[38;5;28;01mfor\u001b[39;00m term \u001b[38;5;129;01min\u001b[39;00m \u001b[38;5;28mself\u001b[39m\u001b[38;5;241m.\u001b[39margs]\n\u001b[0;32m    456\u001b[0m     \u001b[38;5;28;01melse\u001b[39;00m:\n\u001b[0;32m    457\u001b[0m         terms \u001b[38;5;241m=\u001b[39m \u001b[38;5;28mself\u001b[39m\u001b[38;5;241m.\u001b[39margs\n",
            "File \u001b[1;32mC:\\ProgramData\\anaconda3\\Lib\\site-packages\\sympy\\core\\operations.py:455\u001b[0m, in \u001b[0;36m<listcomp>\u001b[1;34m(.0)\u001b[0m\n\u001b[0;32m    453\u001b[0m \u001b[38;5;28;01mdef\u001b[39;00m \u001b[38;5;21mdoit\u001b[39m(\u001b[38;5;28mself\u001b[39m, \u001b[38;5;241m*\u001b[39m\u001b[38;5;241m*\u001b[39mhints):\n\u001b[0;32m    454\u001b[0m     \u001b[38;5;28;01mif\u001b[39;00m hints\u001b[38;5;241m.\u001b[39mget(\u001b[38;5;124m'\u001b[39m\u001b[38;5;124mdeep\u001b[39m\u001b[38;5;124m'\u001b[39m, \u001b[38;5;28;01mTrue\u001b[39;00m):\n\u001b[1;32m--> 455\u001b[0m         terms \u001b[38;5;241m=\u001b[39m [term\u001b[38;5;241m.\u001b[39mdoit(\u001b[38;5;241m*\u001b[39m\u001b[38;5;241m*\u001b[39mhints) \u001b[38;5;28;01mfor\u001b[39;00m term \u001b[38;5;129;01min\u001b[39;00m \u001b[38;5;28mself\u001b[39m\u001b[38;5;241m.\u001b[39margs]\n\u001b[0;32m    456\u001b[0m     \u001b[38;5;28;01melse\u001b[39;00m:\n\u001b[0;32m    457\u001b[0m         terms \u001b[38;5;241m=\u001b[39m \u001b[38;5;28mself\u001b[39m\u001b[38;5;241m.\u001b[39margs\n",
            "File \u001b[1;32mC:\\ProgramData\\anaconda3\\Lib\\site-packages\\sympy\\core\\operations.py:455\u001b[0m, in \u001b[0;36mAssocOp.doit\u001b[1;34m(self, **hints)\u001b[0m\n\u001b[0;32m    453\u001b[0m \u001b[38;5;28;01mdef\u001b[39;00m \u001b[38;5;21mdoit\u001b[39m(\u001b[38;5;28mself\u001b[39m, \u001b[38;5;241m*\u001b[39m\u001b[38;5;241m*\u001b[39mhints):\n\u001b[0;32m    454\u001b[0m     \u001b[38;5;28;01mif\u001b[39;00m hints\u001b[38;5;241m.\u001b[39mget(\u001b[38;5;124m'\u001b[39m\u001b[38;5;124mdeep\u001b[39m\u001b[38;5;124m'\u001b[39m, \u001b[38;5;28;01mTrue\u001b[39;00m):\n\u001b[1;32m--> 455\u001b[0m         terms \u001b[38;5;241m=\u001b[39m [term\u001b[38;5;241m.\u001b[39mdoit(\u001b[38;5;241m*\u001b[39m\u001b[38;5;241m*\u001b[39mhints) \u001b[38;5;28;01mfor\u001b[39;00m term \u001b[38;5;129;01min\u001b[39;00m \u001b[38;5;28mself\u001b[39m\u001b[38;5;241m.\u001b[39margs]\n\u001b[0;32m    456\u001b[0m     \u001b[38;5;28;01melse\u001b[39;00m:\n\u001b[0;32m    457\u001b[0m         terms \u001b[38;5;241m=\u001b[39m \u001b[38;5;28mself\u001b[39m\u001b[38;5;241m.\u001b[39margs\n",
            "File \u001b[1;32mC:\\ProgramData\\anaconda3\\Lib\\site-packages\\sympy\\core\\operations.py:455\u001b[0m, in \u001b[0;36m<listcomp>\u001b[1;34m(.0)\u001b[0m\n\u001b[0;32m    453\u001b[0m \u001b[38;5;28;01mdef\u001b[39;00m \u001b[38;5;21mdoit\u001b[39m(\u001b[38;5;28mself\u001b[39m, \u001b[38;5;241m*\u001b[39m\u001b[38;5;241m*\u001b[39mhints):\n\u001b[0;32m    454\u001b[0m     \u001b[38;5;28;01mif\u001b[39;00m hints\u001b[38;5;241m.\u001b[39mget(\u001b[38;5;124m'\u001b[39m\u001b[38;5;124mdeep\u001b[39m\u001b[38;5;124m'\u001b[39m, \u001b[38;5;28;01mTrue\u001b[39;00m):\n\u001b[1;32m--> 455\u001b[0m         terms \u001b[38;5;241m=\u001b[39m [term\u001b[38;5;241m.\u001b[39mdoit(\u001b[38;5;241m*\u001b[39m\u001b[38;5;241m*\u001b[39mhints) \u001b[38;5;28;01mfor\u001b[39;00m term \u001b[38;5;129;01min\u001b[39;00m \u001b[38;5;28mself\u001b[39m\u001b[38;5;241m.\u001b[39margs]\n\u001b[0;32m    456\u001b[0m     \u001b[38;5;28;01melse\u001b[39;00m:\n\u001b[0;32m    457\u001b[0m         terms \u001b[38;5;241m=\u001b[39m \u001b[38;5;28mself\u001b[39m\u001b[38;5;241m.\u001b[39margs\n",
            "File \u001b[1;32mC:\\ProgramData\\anaconda3\\Lib\\site-packages\\sympy\\concrete\\summations.py:252\u001b[0m, in \u001b[0;36mSum.doit\u001b[1;34m(self, **hints)\u001b[0m\n\u001b[0;32m    249\u001b[0m     a, b \u001b[38;5;241m=\u001b[39m b \u001b[38;5;241m+\u001b[39m \u001b[38;5;241m1\u001b[39m, a \u001b[38;5;241m-\u001b[39m \u001b[38;5;241m1\u001b[39m\n\u001b[0;32m    250\u001b[0m     f \u001b[38;5;241m=\u001b[39m \u001b[38;5;241m-\u001b[39mf\n\u001b[1;32m--> 252\u001b[0m newf \u001b[38;5;241m=\u001b[39m eval_sum(f, (i, a, b))\n\u001b[0;32m    253\u001b[0m \u001b[38;5;28;01mif\u001b[39;00m newf \u001b[38;5;129;01mis\u001b[39;00m \u001b[38;5;28;01mNone\u001b[39;00m:\n\u001b[0;32m    254\u001b[0m     \u001b[38;5;28;01mif\u001b[39;00m f \u001b[38;5;241m==\u001b[39m \u001b[38;5;28mself\u001b[39m\u001b[38;5;241m.\u001b[39mfunction:\n",
            "File \u001b[1;32mC:\\ProgramData\\anaconda3\\Lib\\site-packages\\sympy\\concrete\\summations.py:1048\u001b[0m, in \u001b[0;36meval_sum\u001b[1;34m(f, limits)\u001b[0m\n\u001b[0;32m   1045\u001b[0m     \u001b[38;5;28;01mreturn\u001b[39;00m \u001b[38;5;28;01mNone\u001b[39;00m\n\u001b[0;32m   1046\u001b[0m \u001b[38;5;66;03m# Try to do it symbolically. Even when the number of terms is\u001b[39;00m\n\u001b[0;32m   1047\u001b[0m \u001b[38;5;66;03m# known, this can save time when b-a is big.\u001b[39;00m\n\u001b[1;32m-> 1048\u001b[0m value \u001b[38;5;241m=\u001b[39m eval_sum_symbolic(f\u001b[38;5;241m.\u001b[39mexpand(), (i, a, b))\n\u001b[0;32m   1049\u001b[0m \u001b[38;5;28;01mif\u001b[39;00m value \u001b[38;5;129;01mis\u001b[39;00m \u001b[38;5;129;01mnot\u001b[39;00m \u001b[38;5;28;01mNone\u001b[39;00m:\n\u001b[0;32m   1050\u001b[0m     \u001b[38;5;28;01mreturn\u001b[39;00m value\n",
            "File \u001b[1;32mC:\\ProgramData\\anaconda3\\Lib\\site-packages\\sympy\\concrete\\summations.py:1252\u001b[0m, in \u001b[0;36meval_sum_symbolic\u001b[1;34m(f, limits)\u001b[0m\n\u001b[0;32m   1249\u001b[0m     \u001b[38;5;28;01mif\u001b[39;00m r \u001b[38;5;129;01mnot\u001b[39;00m \u001b[38;5;129;01min\u001b[39;00m (\u001b[38;5;28;01mNone\u001b[39;00m, S\u001b[38;5;241m.\u001b[39mNaN):\n\u001b[0;32m   1250\u001b[0m         \u001b[38;5;28;01mreturn\u001b[39;00m r\n\u001b[1;32m-> 1252\u001b[0m h \u001b[38;5;241m=\u001b[39m eval_sum_hyper(f_orig, (i, a, b))\n\u001b[0;32m   1253\u001b[0m \u001b[38;5;28;01mif\u001b[39;00m h \u001b[38;5;129;01mis\u001b[39;00m \u001b[38;5;129;01mnot\u001b[39;00m \u001b[38;5;28;01mNone\u001b[39;00m:\n\u001b[0;32m   1254\u001b[0m     \u001b[38;5;28;01mreturn\u001b[39;00m h\n",
            "File \u001b[1;32mC:\\ProgramData\\anaconda3\\Lib\\site-packages\\sympy\\concrete\\summations.py:1343\u001b[0m, in \u001b[0;36meval_sum_hyper\u001b[1;34m(f, i_a_b)\u001b[0m\n\u001b[0;32m   1341\u001b[0m \u001b[38;5;28;01mif\u001b[39;00m res1 \u001b[38;5;129;01mis\u001b[39;00m \u001b[38;5;28;01mNone\u001b[39;00m \u001b[38;5;129;01mor\u001b[39;00m n_illegal(res1) \u001b[38;5;241m>\u001b[39m had:\n\u001b[0;32m   1342\u001b[0m     \u001b[38;5;28;01mreturn\u001b[39;00m\n\u001b[1;32m-> 1343\u001b[0m res2 \u001b[38;5;241m=\u001b[39m _eval_sum_hyper(f, i, b \u001b[38;5;241m+\u001b[39m \u001b[38;5;241m1\u001b[39m)\n\u001b[0;32m   1344\u001b[0m \u001b[38;5;28;01mif\u001b[39;00m res2 \u001b[38;5;129;01mis\u001b[39;00m \u001b[38;5;28;01mNone\u001b[39;00m \u001b[38;5;129;01mor\u001b[39;00m n_illegal(res2) \u001b[38;5;241m>\u001b[39m had:\n\u001b[0;32m   1345\u001b[0m     \u001b[38;5;28;01mreturn\u001b[39;00m\n",
            "File \u001b[1;32mC:\\ProgramData\\anaconda3\\Lib\\site-packages\\sympy\\concrete\\summations.py:1268\u001b[0m, in \u001b[0;36m_eval_sum_hyper\u001b[1;34m(f, i, a)\u001b[0m\n\u001b[0;32m   1266\u001b[0m \u001b[38;5;250m\u001b[39m\u001b[38;5;124;03m\"\"\" Returns (res, cond). Sums from a to oo. \"\"\"\u001b[39;00m\n\u001b[0;32m   1267\u001b[0m \u001b[38;5;28;01mif\u001b[39;00m a \u001b[38;5;241m!=\u001b[39m \u001b[38;5;241m0\u001b[39m:\n\u001b[1;32m-> 1268\u001b[0m     \u001b[38;5;28;01mreturn\u001b[39;00m _eval_sum_hyper(f\u001b[38;5;241m.\u001b[39msubs(i, i \u001b[38;5;241m+\u001b[39m a), i, \u001b[38;5;241m0\u001b[39m)\n\u001b[0;32m   1270\u001b[0m \u001b[38;5;28;01mif\u001b[39;00m f\u001b[38;5;241m.\u001b[39msubs(i, \u001b[38;5;241m0\u001b[39m) \u001b[38;5;241m==\u001b[39m \u001b[38;5;241m0\u001b[39m:\n\u001b[0;32m   1271\u001b[0m     \u001b[38;5;28;01mfrom\u001b[39;00m \u001b[38;5;21;01msympy\u001b[39;00m\u001b[38;5;21;01m.\u001b[39;00m\u001b[38;5;21;01msimplify\u001b[39;00m\u001b[38;5;21;01m.\u001b[39;00m\u001b[38;5;21;01msimplify\u001b[39;00m \u001b[38;5;28;01mimport\u001b[39;00m simplify\n",
            "File \u001b[1;32mC:\\ProgramData\\anaconda3\\Lib\\site-packages\\sympy\\concrete\\summations.py:1274\u001b[0m, in \u001b[0;36m_eval_sum_hyper\u001b[1;34m(f, i, a)\u001b[0m\n\u001b[0;32m   1272\u001b[0m     \u001b[38;5;28;01mif\u001b[39;00m simplify(f\u001b[38;5;241m.\u001b[39msubs(i, Dummy(\u001b[38;5;124m'\u001b[39m\u001b[38;5;124mi\u001b[39m\u001b[38;5;124m'\u001b[39m, integer\u001b[38;5;241m=\u001b[39m\u001b[38;5;28;01mTrue\u001b[39;00m, positive\u001b[38;5;241m=\u001b[39m\u001b[38;5;28;01mTrue\u001b[39;00m))) \u001b[38;5;241m==\u001b[39m \u001b[38;5;241m0\u001b[39m:\n\u001b[0;32m   1273\u001b[0m         \u001b[38;5;28;01mreturn\u001b[39;00m S\u001b[38;5;241m.\u001b[39mZero, \u001b[38;5;28;01mTrue\u001b[39;00m\n\u001b[1;32m-> 1274\u001b[0m     \u001b[38;5;28;01mreturn\u001b[39;00m _eval_sum_hyper(f\u001b[38;5;241m.\u001b[39msubs(i, i \u001b[38;5;241m+\u001b[39m \u001b[38;5;241m1\u001b[39m), i, \u001b[38;5;241m0\u001b[39m)\n\u001b[0;32m   1276\u001b[0m \u001b[38;5;28;01mfrom\u001b[39;00m \u001b[38;5;21;01msympy\u001b[39;00m\u001b[38;5;21;01m.\u001b[39;00m\u001b[38;5;21;01msimplify\u001b[39;00m\u001b[38;5;21;01m.\u001b[39;00m\u001b[38;5;21;01msimplify\u001b[39;00m \u001b[38;5;28;01mimport\u001b[39;00m hypersimp\n\u001b[0;32m   1277\u001b[0m hs \u001b[38;5;241m=\u001b[39m hypersimp(f, i)\n",
            "File \u001b[1;32mC:\\ProgramData\\anaconda3\\Lib\\site-packages\\sympy\\concrete\\summations.py:1274\u001b[0m, in \u001b[0;36m_eval_sum_hyper\u001b[1;34m(f, i, a)\u001b[0m\n\u001b[0;32m   1272\u001b[0m     \u001b[38;5;28;01mif\u001b[39;00m simplify(f\u001b[38;5;241m.\u001b[39msubs(i, Dummy(\u001b[38;5;124m'\u001b[39m\u001b[38;5;124mi\u001b[39m\u001b[38;5;124m'\u001b[39m, integer\u001b[38;5;241m=\u001b[39m\u001b[38;5;28;01mTrue\u001b[39;00m, positive\u001b[38;5;241m=\u001b[39m\u001b[38;5;28;01mTrue\u001b[39;00m))) \u001b[38;5;241m==\u001b[39m \u001b[38;5;241m0\u001b[39m:\n\u001b[0;32m   1273\u001b[0m         \u001b[38;5;28;01mreturn\u001b[39;00m S\u001b[38;5;241m.\u001b[39mZero, \u001b[38;5;28;01mTrue\u001b[39;00m\n\u001b[1;32m-> 1274\u001b[0m     \u001b[38;5;28;01mreturn\u001b[39;00m _eval_sum_hyper(f\u001b[38;5;241m.\u001b[39msubs(i, i \u001b[38;5;241m+\u001b[39m \u001b[38;5;241m1\u001b[39m), i, \u001b[38;5;241m0\u001b[39m)\n\u001b[0;32m   1276\u001b[0m \u001b[38;5;28;01mfrom\u001b[39;00m \u001b[38;5;21;01msympy\u001b[39;00m\u001b[38;5;21;01m.\u001b[39;00m\u001b[38;5;21;01msimplify\u001b[39;00m\u001b[38;5;21;01m.\u001b[39;00m\u001b[38;5;21;01msimplify\u001b[39;00m \u001b[38;5;28;01mimport\u001b[39;00m hypersimp\n\u001b[0;32m   1277\u001b[0m hs \u001b[38;5;241m=\u001b[39m hypersimp(f, i)\n",
            "    \u001b[1;31m[... skipping similar frames: _eval_sum_hyper at line 1274 (68 times)]\u001b[0m\n",
            "File \u001b[1;32mC:\\ProgramData\\anaconda3\\Lib\\site-packages\\sympy\\concrete\\summations.py:1274\u001b[0m, in \u001b[0;36m_eval_sum_hyper\u001b[1;34m(f, i, a)\u001b[0m\n\u001b[0;32m   1272\u001b[0m     \u001b[38;5;28;01mif\u001b[39;00m simplify(f\u001b[38;5;241m.\u001b[39msubs(i, Dummy(\u001b[38;5;124m'\u001b[39m\u001b[38;5;124mi\u001b[39m\u001b[38;5;124m'\u001b[39m, integer\u001b[38;5;241m=\u001b[39m\u001b[38;5;28;01mTrue\u001b[39;00m, positive\u001b[38;5;241m=\u001b[39m\u001b[38;5;28;01mTrue\u001b[39;00m))) \u001b[38;5;241m==\u001b[39m \u001b[38;5;241m0\u001b[39m:\n\u001b[0;32m   1273\u001b[0m         \u001b[38;5;28;01mreturn\u001b[39;00m S\u001b[38;5;241m.\u001b[39mZero, \u001b[38;5;28;01mTrue\u001b[39;00m\n\u001b[1;32m-> 1274\u001b[0m     \u001b[38;5;28;01mreturn\u001b[39;00m _eval_sum_hyper(f\u001b[38;5;241m.\u001b[39msubs(i, i \u001b[38;5;241m+\u001b[39m \u001b[38;5;241m1\u001b[39m), i, \u001b[38;5;241m0\u001b[39m)\n\u001b[0;32m   1276\u001b[0m \u001b[38;5;28;01mfrom\u001b[39;00m \u001b[38;5;21;01msympy\u001b[39;00m\u001b[38;5;21;01m.\u001b[39;00m\u001b[38;5;21;01msimplify\u001b[39;00m\u001b[38;5;21;01m.\u001b[39;00m\u001b[38;5;21;01msimplify\u001b[39;00m \u001b[38;5;28;01mimport\u001b[39;00m hypersimp\n\u001b[0;32m   1277\u001b[0m hs \u001b[38;5;241m=\u001b[39m hypersimp(f, i)\n",
            "File \u001b[1;32mC:\\ProgramData\\anaconda3\\Lib\\site-packages\\sympy\\concrete\\summations.py:1272\u001b[0m, in \u001b[0;36m_eval_sum_hyper\u001b[1;34m(f, i, a)\u001b[0m\n\u001b[0;32m   1270\u001b[0m \u001b[38;5;28;01mif\u001b[39;00m f\u001b[38;5;241m.\u001b[39msubs(i, \u001b[38;5;241m0\u001b[39m) \u001b[38;5;241m==\u001b[39m \u001b[38;5;241m0\u001b[39m:\n\u001b[0;32m   1271\u001b[0m     \u001b[38;5;28;01mfrom\u001b[39;00m \u001b[38;5;21;01msympy\u001b[39;00m\u001b[38;5;21;01m.\u001b[39;00m\u001b[38;5;21;01msimplify\u001b[39;00m\u001b[38;5;21;01m.\u001b[39;00m\u001b[38;5;21;01msimplify\u001b[39;00m \u001b[38;5;28;01mimport\u001b[39;00m simplify\n\u001b[1;32m-> 1272\u001b[0m     \u001b[38;5;28;01mif\u001b[39;00m simplify(f\u001b[38;5;241m.\u001b[39msubs(i, Dummy(\u001b[38;5;124m'\u001b[39m\u001b[38;5;124mi\u001b[39m\u001b[38;5;124m'\u001b[39m, integer\u001b[38;5;241m=\u001b[39m\u001b[38;5;28;01mTrue\u001b[39;00m, positive\u001b[38;5;241m=\u001b[39m\u001b[38;5;28;01mTrue\u001b[39;00m))) \u001b[38;5;241m==\u001b[39m \u001b[38;5;241m0\u001b[39m:\n\u001b[0;32m   1273\u001b[0m         \u001b[38;5;28;01mreturn\u001b[39;00m S\u001b[38;5;241m.\u001b[39mZero, \u001b[38;5;28;01mTrue\u001b[39;00m\n\u001b[0;32m   1274\u001b[0m     \u001b[38;5;28;01mreturn\u001b[39;00m _eval_sum_hyper(f\u001b[38;5;241m.\u001b[39msubs(i, i \u001b[38;5;241m+\u001b[39m \u001b[38;5;241m1\u001b[39m), i, \u001b[38;5;241m0\u001b[39m)\n",
            "File \u001b[1;32mC:\\ProgramData\\anaconda3\\Lib\\site-packages\\sympy\\simplify\\simplify.py:645\u001b[0m, in \u001b[0;36msimplify\u001b[1;34m(expr, ratio, measure, rational, inverse, doit, **kwargs)\u001b[0m\n\u001b[0;32m    643\u001b[0m expr \u001b[38;5;241m=\u001b[39m Mul(\u001b[38;5;241m*\u001b[39mpowsimp(expr)\u001b[38;5;241m.\u001b[39mas_content_primitive())\n\u001b[0;32m    644\u001b[0m _e \u001b[38;5;241m=\u001b[39m cancel(expr)\n\u001b[1;32m--> 645\u001b[0m expr1 \u001b[38;5;241m=\u001b[39m shorter(_e, _mexpand(_e)\u001b[38;5;241m.\u001b[39mcancel())  \u001b[38;5;66;03m# issue 6829\u001b[39;00m\n\u001b[0;32m    646\u001b[0m expr2 \u001b[38;5;241m=\u001b[39m shorter(together(expr, deep\u001b[38;5;241m=\u001b[39m\u001b[38;5;28;01mTrue\u001b[39;00m), together(expr1, deep\u001b[38;5;241m=\u001b[39m\u001b[38;5;28;01mTrue\u001b[39;00m))\n\u001b[0;32m    648\u001b[0m \u001b[38;5;28;01mif\u001b[39;00m ratio \u001b[38;5;129;01mis\u001b[39;00m S\u001b[38;5;241m.\u001b[39mInfinity:\n",
            "File \u001b[1;32mC:\\ProgramData\\anaconda3\\Lib\\site-packages\\sympy\\core\\expr.py:3791\u001b[0m, in \u001b[0;36mExpr.cancel\u001b[1;34m(self, *gens, **args)\u001b[0m\n\u001b[0;32m   3789\u001b[0m \u001b[38;5;250m\u001b[39m\u001b[38;5;124;03m\"\"\"See the cancel function in sympy.polys\"\"\"\u001b[39;00m\n\u001b[0;32m   3790\u001b[0m \u001b[38;5;28;01mfrom\u001b[39;00m \u001b[38;5;21;01msympy\u001b[39;00m\u001b[38;5;21;01m.\u001b[39;00m\u001b[38;5;21;01mpolys\u001b[39;00m\u001b[38;5;21;01m.\u001b[39;00m\u001b[38;5;21;01mpolytools\u001b[39;00m \u001b[38;5;28;01mimport\u001b[39;00m cancel\n\u001b[1;32m-> 3791\u001b[0m \u001b[38;5;28;01mreturn\u001b[39;00m cancel(\u001b[38;5;28mself\u001b[39m, \u001b[38;5;241m*\u001b[39mgens, \u001b[38;5;241m*\u001b[39m\u001b[38;5;241m*\u001b[39margs)\n",
            "File \u001b[1;32mC:\\ProgramData\\anaconda3\\Lib\\site-packages\\sympy\\polys\\polytools.py:6840\u001b[0m, in \u001b[0;36mcancel\u001b[1;34m(f, _signsimp, *gens, **args)\u001b[0m\n\u001b[0;32m   6838\u001b[0m     \u001b[38;5;28;01mif\u001b[39;00m f\u001b[38;5;241m.\u001b[39mis_Number \u001b[38;5;129;01mor\u001b[39;00m \u001b[38;5;28misinstance\u001b[39m(f, Relational) \u001b[38;5;129;01mor\u001b[39;00m \u001b[38;5;129;01mnot\u001b[39;00m \u001b[38;5;28misinstance\u001b[39m(f, Expr):\n\u001b[0;32m   6839\u001b[0m         \u001b[38;5;28;01mreturn\u001b[39;00m f\n\u001b[1;32m-> 6840\u001b[0m     f \u001b[38;5;241m=\u001b[39m factor_terms(f, radical\u001b[38;5;241m=\u001b[39m\u001b[38;5;28;01mTrue\u001b[39;00m)\n\u001b[0;32m   6841\u001b[0m     p, q \u001b[38;5;241m=\u001b[39m f\u001b[38;5;241m.\u001b[39mas_numer_denom()\n\u001b[0;32m   6843\u001b[0m \u001b[38;5;28;01melif\u001b[39;00m \u001b[38;5;28mlen\u001b[39m(f) \u001b[38;5;241m==\u001b[39m \u001b[38;5;241m2\u001b[39m:\n",
            "File \u001b[1;32mC:\\ProgramData\\anaconda3\\Lib\\site-packages\\sympy\\core\\exprtools.py:1267\u001b[0m, in \u001b[0;36mfactor_terms\u001b[1;34m(expr, radical, clear, fraction, sign)\u001b[0m\n\u001b[0;32m   1265\u001b[0m     \u001b[38;5;28;01mreturn\u001b[39;00m rv\n\u001b[0;32m   1266\u001b[0m expr \u001b[38;5;241m=\u001b[39m sympify(expr)\n\u001b[1;32m-> 1267\u001b[0m \u001b[38;5;28;01mreturn\u001b[39;00m do(expr)\n",
            "File \u001b[1;32mC:\\ProgramData\\anaconda3\\Lib\\site-packages\\sympy\\core\\exprtools.py:1242\u001b[0m, in \u001b[0;36mfactor_terms.<locals>.do\u001b[1;34m(expr)\u001b[0m\n\u001b[0;32m   1240\u001b[0m cont, p \u001b[38;5;241m=\u001b[39m expr\u001b[38;5;241m.\u001b[39mas_content_primitive(radical\u001b[38;5;241m=\u001b[39mradical, clear\u001b[38;5;241m=\u001b[39mclear)\n\u001b[0;32m   1241\u001b[0m \u001b[38;5;28;01mif\u001b[39;00m p\u001b[38;5;241m.\u001b[39mis_Add:\n\u001b[1;32m-> 1242\u001b[0m     list_args \u001b[38;5;241m=\u001b[39m [do(a) \u001b[38;5;28;01mfor\u001b[39;00m a \u001b[38;5;129;01min\u001b[39;00m Add\u001b[38;5;241m.\u001b[39mmake_args(p)]\n\u001b[0;32m   1243\u001b[0m     \u001b[38;5;66;03m# get a common negative (if there) which gcd_terms does not remove\u001b[39;00m\n\u001b[0;32m   1244\u001b[0m     \u001b[38;5;28;01mif\u001b[39;00m \u001b[38;5;129;01mnot\u001b[39;00m \u001b[38;5;28many\u001b[39m(a\u001b[38;5;241m.\u001b[39mas_coeff_Mul()[\u001b[38;5;241m0\u001b[39m]\u001b[38;5;241m.\u001b[39mextract_multiplicatively(\u001b[38;5;241m-\u001b[39m\u001b[38;5;241m1\u001b[39m) \u001b[38;5;129;01mis\u001b[39;00m \u001b[38;5;28;01mNone\u001b[39;00m\n\u001b[0;32m   1245\u001b[0m                \u001b[38;5;28;01mfor\u001b[39;00m a \u001b[38;5;129;01min\u001b[39;00m list_args):\n",
            "File \u001b[1;32mC:\\ProgramData\\anaconda3\\Lib\\site-packages\\sympy\\core\\exprtools.py:1242\u001b[0m, in \u001b[0;36m<listcomp>\u001b[1;34m(.0)\u001b[0m\n\u001b[0;32m   1240\u001b[0m cont, p \u001b[38;5;241m=\u001b[39m expr\u001b[38;5;241m.\u001b[39mas_content_primitive(radical\u001b[38;5;241m=\u001b[39mradical, clear\u001b[38;5;241m=\u001b[39mclear)\n\u001b[0;32m   1241\u001b[0m \u001b[38;5;28;01mif\u001b[39;00m p\u001b[38;5;241m.\u001b[39mis_Add:\n\u001b[1;32m-> 1242\u001b[0m     list_args \u001b[38;5;241m=\u001b[39m [do(a) \u001b[38;5;28;01mfor\u001b[39;00m a \u001b[38;5;129;01min\u001b[39;00m Add\u001b[38;5;241m.\u001b[39mmake_args(p)]\n\u001b[0;32m   1243\u001b[0m     \u001b[38;5;66;03m# get a common negative (if there) which gcd_terms does not remove\u001b[39;00m\n\u001b[0;32m   1244\u001b[0m     \u001b[38;5;28;01mif\u001b[39;00m \u001b[38;5;129;01mnot\u001b[39;00m \u001b[38;5;28many\u001b[39m(a\u001b[38;5;241m.\u001b[39mas_coeff_Mul()[\u001b[38;5;241m0\u001b[39m]\u001b[38;5;241m.\u001b[39mextract_multiplicatively(\u001b[38;5;241m-\u001b[39m\u001b[38;5;241m1\u001b[39m) \u001b[38;5;129;01mis\u001b[39;00m \u001b[38;5;28;01mNone\u001b[39;00m\n\u001b[0;32m   1245\u001b[0m                \u001b[38;5;28;01mfor\u001b[39;00m a \u001b[38;5;129;01min\u001b[39;00m list_args):\n",
            "File \u001b[1;32mC:\\ProgramData\\anaconda3\\Lib\\site-packages\\sympy\\core\\exprtools.py:1263\u001b[0m, in \u001b[0;36mfactor_terms.<locals>.do\u001b[1;34m(expr)\u001b[0m\n\u001b[0;32m   1257\u001b[0m     p \u001b[38;5;241m=\u001b[39m gcd_terms(p,\n\u001b[0;32m   1258\u001b[0m         isprimitive\u001b[38;5;241m=\u001b[39m\u001b[38;5;28;01mTrue\u001b[39;00m,\n\u001b[0;32m   1259\u001b[0m         clear\u001b[38;5;241m=\u001b[39mclear,\n\u001b[0;32m   1260\u001b[0m         fraction\u001b[38;5;241m=\u001b[39mfraction)\u001b[38;5;241m.\u001b[39mxreplace(special)\n\u001b[0;32m   1261\u001b[0m \u001b[38;5;28;01melif\u001b[39;00m p\u001b[38;5;241m.\u001b[39margs:\n\u001b[0;32m   1262\u001b[0m     p \u001b[38;5;241m=\u001b[39m p\u001b[38;5;241m.\u001b[39mfunc(\n\u001b[1;32m-> 1263\u001b[0m         \u001b[38;5;241m*\u001b[39m[do(a) \u001b[38;5;28;01mfor\u001b[39;00m a \u001b[38;5;129;01min\u001b[39;00m p\u001b[38;5;241m.\u001b[39margs])\n\u001b[0;32m   1264\u001b[0m rv \u001b[38;5;241m=\u001b[39m _keep_coeff(cont, p, clear\u001b[38;5;241m=\u001b[39mclear, sign\u001b[38;5;241m=\u001b[39msign)\n\u001b[0;32m   1265\u001b[0m \u001b[38;5;28;01mreturn\u001b[39;00m rv\n",
            "File \u001b[1;32mC:\\ProgramData\\anaconda3\\Lib\\site-packages\\sympy\\core\\exprtools.py:1263\u001b[0m, in \u001b[0;36m<listcomp>\u001b[1;34m(.0)\u001b[0m\n\u001b[0;32m   1257\u001b[0m     p \u001b[38;5;241m=\u001b[39m gcd_terms(p,\n\u001b[0;32m   1258\u001b[0m         isprimitive\u001b[38;5;241m=\u001b[39m\u001b[38;5;28;01mTrue\u001b[39;00m,\n\u001b[0;32m   1259\u001b[0m         clear\u001b[38;5;241m=\u001b[39mclear,\n\u001b[0;32m   1260\u001b[0m         fraction\u001b[38;5;241m=\u001b[39mfraction)\u001b[38;5;241m.\u001b[39mxreplace(special)\n\u001b[0;32m   1261\u001b[0m \u001b[38;5;28;01melif\u001b[39;00m p\u001b[38;5;241m.\u001b[39margs:\n\u001b[0;32m   1262\u001b[0m     p \u001b[38;5;241m=\u001b[39m p\u001b[38;5;241m.\u001b[39mfunc(\n\u001b[1;32m-> 1263\u001b[0m         \u001b[38;5;241m*\u001b[39m[do(a) \u001b[38;5;28;01mfor\u001b[39;00m a \u001b[38;5;129;01min\u001b[39;00m p\u001b[38;5;241m.\u001b[39margs])\n\u001b[0;32m   1264\u001b[0m rv \u001b[38;5;241m=\u001b[39m _keep_coeff(cont, p, clear\u001b[38;5;241m=\u001b[39mclear, sign\u001b[38;5;241m=\u001b[39msign)\n\u001b[0;32m   1265\u001b[0m \u001b[38;5;28;01mreturn\u001b[39;00m rv\n",
            "File \u001b[1;32mC:\\ProgramData\\anaconda3\\Lib\\site-packages\\sympy\\core\\exprtools.py:1233\u001b[0m, in \u001b[0;36mfactor_terms.<locals>.do\u001b[1;34m(expr)\u001b[0m\n\u001b[0;32m   1231\u001b[0m     \u001b[38;5;28;01mif\u001b[39;00m newargs \u001b[38;5;241m==\u001b[39m args:\n\u001b[0;32m   1232\u001b[0m         \u001b[38;5;28;01mreturn\u001b[39;00m expr\n\u001b[1;32m-> 1233\u001b[0m     \u001b[38;5;28;01mreturn\u001b[39;00m expr\u001b[38;5;241m.\u001b[39mfunc(\u001b[38;5;241m*\u001b[39mnewargs)\n\u001b[0;32m   1235\u001b[0m \u001b[38;5;28;01mif\u001b[39;00m \u001b[38;5;28misinstance\u001b[39m(expr, (Sum, Integral)):\n\u001b[0;32m   1236\u001b[0m     \u001b[38;5;28;01mreturn\u001b[39;00m _factor_sum_int(expr,\n\u001b[0;32m   1237\u001b[0m         radical\u001b[38;5;241m=\u001b[39mradical, clear\u001b[38;5;241m=\u001b[39mclear,\n\u001b[0;32m   1238\u001b[0m         fraction\u001b[38;5;241m=\u001b[39mfraction, sign\u001b[38;5;241m=\u001b[39msign)\n",
            "File \u001b[1;32mC:\\ProgramData\\anaconda3\\Lib\\site-packages\\sympy\\core\\cache.py:72\u001b[0m, in \u001b[0;36m__cacheit.<locals>.func_wrapper.<locals>.wrapper\u001b[1;34m(*args, **kwargs)\u001b[0m\n\u001b[0;32m     69\u001b[0m \u001b[38;5;129m@wraps\u001b[39m(func)\n\u001b[0;32m     70\u001b[0m \u001b[38;5;28;01mdef\u001b[39;00m \u001b[38;5;21mwrapper\u001b[39m(\u001b[38;5;241m*\u001b[39margs, \u001b[38;5;241m*\u001b[39m\u001b[38;5;241m*\u001b[39mkwargs):\n\u001b[0;32m     71\u001b[0m     \u001b[38;5;28;01mtry\u001b[39;00m:\n\u001b[1;32m---> 72\u001b[0m         retval \u001b[38;5;241m=\u001b[39m cfunc(\u001b[38;5;241m*\u001b[39margs, \u001b[38;5;241m*\u001b[39m\u001b[38;5;241m*\u001b[39mkwargs)\n\u001b[0;32m     73\u001b[0m     \u001b[38;5;28;01mexcept\u001b[39;00m \u001b[38;5;167;01mTypeError\u001b[39;00m \u001b[38;5;28;01mas\u001b[39;00m e:\n\u001b[0;32m     74\u001b[0m         \u001b[38;5;28;01mif\u001b[39;00m \u001b[38;5;129;01mnot\u001b[39;00m e\u001b[38;5;241m.\u001b[39margs \u001b[38;5;129;01mor\u001b[39;00m \u001b[38;5;129;01mnot\u001b[39;00m e\u001b[38;5;241m.\u001b[39margs[\u001b[38;5;241m0\u001b[39m]\u001b[38;5;241m.\u001b[39mstartswith(\u001b[38;5;124m'\u001b[39m\u001b[38;5;124munhashable type:\u001b[39m\u001b[38;5;124m'\u001b[39m):\n",
            "File \u001b[1;32mC:\\ProgramData\\anaconda3\\Lib\\site-packages\\sympy\\core\\power.py:371\u001b[0m, in \u001b[0;36mPow.__new__\u001b[1;34m(cls, b, e, evaluate)\u001b[0m\n\u001b[0;32m    367\u001b[0m         \u001b[38;5;28;01mif\u001b[39;00m s\u001b[38;5;241m.\u001b[39mis_Number \u001b[38;5;129;01mand\u001b[39;00m s \u001b[38;5;129;01mand\u001b[39;00m den \u001b[38;5;241m==\u001b[39m \\\n\u001b[0;32m    368\u001b[0m                 log(\u001b[38;5;241m-\u001b[39mfactor_terms(b, sign\u001b[38;5;241m=\u001b[39m\u001b[38;5;28;01mFalse\u001b[39;00m)) \u001b[38;5;241m+\u001b[39m s\u001b[38;5;241m*\u001b[39mS\u001b[38;5;241m.\u001b[39mImaginaryUnit\u001b[38;5;241m*\u001b[39mS\u001b[38;5;241m.\u001b[39mPi:\n\u001b[0;32m    369\u001b[0m             \u001b[38;5;28;01mreturn\u001b[39;00m S\u001b[38;5;241m.\u001b[39mExp1\u001b[38;5;241m*\u001b[39m\u001b[38;5;241m*\u001b[39m(c\u001b[38;5;241m*\u001b[39mnum)\n\u001b[1;32m--> 371\u001b[0m obj \u001b[38;5;241m=\u001b[39m b\u001b[38;5;241m.\u001b[39m_eval_power(e)\n\u001b[0;32m    372\u001b[0m \u001b[38;5;28;01mif\u001b[39;00m obj \u001b[38;5;129;01mis\u001b[39;00m \u001b[38;5;129;01mnot\u001b[39;00m \u001b[38;5;28;01mNone\u001b[39;00m:\n\u001b[0;32m    373\u001b[0m     \u001b[38;5;28;01mreturn\u001b[39;00m obj\n",
            "File \u001b[1;32mC:\\ProgramData\\anaconda3\\Lib\\site-packages\\sympy\\core\\mul.py:724\u001b[0m, in \u001b[0;36mMul._eval_power\u001b[1;34m(self, e)\u001b[0m\n\u001b[0;32m    721\u001b[0m cargs, nc \u001b[38;5;241m=\u001b[39m \u001b[38;5;28mself\u001b[39m\u001b[38;5;241m.\u001b[39margs_cnc(split_1\u001b[38;5;241m=\u001b[39m\u001b[38;5;28;01mFalse\u001b[39;00m)\n\u001b[0;32m    723\u001b[0m \u001b[38;5;28;01mif\u001b[39;00m e\u001b[38;5;241m.\u001b[39mis_Integer:\n\u001b[1;32m--> 724\u001b[0m     \u001b[38;5;28;01mreturn\u001b[39;00m Mul(\u001b[38;5;241m*\u001b[39m[Pow(b, e, evaluate\u001b[38;5;241m=\u001b[39m\u001b[38;5;28;01mFalse\u001b[39;00m) \u001b[38;5;28;01mfor\u001b[39;00m b \u001b[38;5;129;01min\u001b[39;00m cargs]) \u001b[38;5;241m*\u001b[39m \\\n\u001b[0;32m    725\u001b[0m         Pow(Mul\u001b[38;5;241m.\u001b[39m_from_args(nc), e, evaluate\u001b[38;5;241m=\u001b[39m\u001b[38;5;28;01mFalse\u001b[39;00m)\n\u001b[0;32m    726\u001b[0m \u001b[38;5;28;01mif\u001b[39;00m e\u001b[38;5;241m.\u001b[39mis_Rational \u001b[38;5;129;01mand\u001b[39;00m e\u001b[38;5;241m.\u001b[39mq \u001b[38;5;241m==\u001b[39m \u001b[38;5;241m2\u001b[39m:\n\u001b[0;32m    727\u001b[0m     \u001b[38;5;28;01mif\u001b[39;00m \u001b[38;5;28mself\u001b[39m\u001b[38;5;241m.\u001b[39mis_imaginary:\n",
            "File \u001b[1;32mC:\\ProgramData\\anaconda3\\Lib\\site-packages\\sympy\\core\\decorators.py:236\u001b[0m, in \u001b[0;36m_SympifyWrapper.make_wrapped.<locals>._func\u001b[1;34m(self, other)\u001b[0m\n\u001b[0;32m    234\u001b[0m \u001b[38;5;28;01mif\u001b[39;00m \u001b[38;5;129;01mnot\u001b[39;00m \u001b[38;5;28misinstance\u001b[39m(other, expectedcls):\n\u001b[0;32m    235\u001b[0m     \u001b[38;5;28;01mreturn\u001b[39;00m retval\n\u001b[1;32m--> 236\u001b[0m \u001b[38;5;28;01mreturn\u001b[39;00m func(\u001b[38;5;28mself\u001b[39m, other)\n",
            "File \u001b[1;32mC:\\ProgramData\\anaconda3\\Lib\\site-packages\\sympy\\core\\decorators.py:106\u001b[0m, in \u001b[0;36mcall_highest_priority.<locals>.priority_decorator.<locals>.binary_op_wrapper\u001b[1;34m(self, other)\u001b[0m\n\u001b[0;32m    104\u001b[0m         \u001b[38;5;28;01mif\u001b[39;00m f \u001b[38;5;129;01mis\u001b[39;00m \u001b[38;5;129;01mnot\u001b[39;00m \u001b[38;5;28;01mNone\u001b[39;00m:\n\u001b[0;32m    105\u001b[0m             \u001b[38;5;28;01mreturn\u001b[39;00m f(\u001b[38;5;28mself\u001b[39m)\n\u001b[1;32m--> 106\u001b[0m \u001b[38;5;28;01mreturn\u001b[39;00m func(\u001b[38;5;28mself\u001b[39m, other)\n",
            "File \u001b[1;32mC:\\ProgramData\\anaconda3\\Lib\\site-packages\\sympy\\core\\expr.py:218\u001b[0m, in \u001b[0;36mExpr.__mul__\u001b[1;34m(self, other)\u001b[0m\n\u001b[0;32m    215\u001b[0m \u001b[38;5;129m@sympify_return\u001b[39m([(\u001b[38;5;124m'\u001b[39m\u001b[38;5;124mother\u001b[39m\u001b[38;5;124m'\u001b[39m, \u001b[38;5;124m'\u001b[39m\u001b[38;5;124mExpr\u001b[39m\u001b[38;5;124m'\u001b[39m)], \u001b[38;5;28mNotImplemented\u001b[39m)\n\u001b[0;32m    216\u001b[0m \u001b[38;5;129m@call_highest_priority\u001b[39m(\u001b[38;5;124m'\u001b[39m\u001b[38;5;124m__rmul__\u001b[39m\u001b[38;5;124m'\u001b[39m)\n\u001b[0;32m    217\u001b[0m \u001b[38;5;28;01mdef\u001b[39;00m \u001b[38;5;21m__mul__\u001b[39m(\u001b[38;5;28mself\u001b[39m, other):\n\u001b[1;32m--> 218\u001b[0m     \u001b[38;5;28;01mreturn\u001b[39;00m Mul(\u001b[38;5;28mself\u001b[39m, other)\n",
            "File \u001b[1;32mC:\\ProgramData\\anaconda3\\Lib\\site-packages\\sympy\\core\\cache.py:72\u001b[0m, in \u001b[0;36m__cacheit.<locals>.func_wrapper.<locals>.wrapper\u001b[1;34m(*args, **kwargs)\u001b[0m\n\u001b[0;32m     69\u001b[0m \u001b[38;5;129m@wraps\u001b[39m(func)\n\u001b[0;32m     70\u001b[0m \u001b[38;5;28;01mdef\u001b[39;00m \u001b[38;5;21mwrapper\u001b[39m(\u001b[38;5;241m*\u001b[39margs, \u001b[38;5;241m*\u001b[39m\u001b[38;5;241m*\u001b[39mkwargs):\n\u001b[0;32m     71\u001b[0m     \u001b[38;5;28;01mtry\u001b[39;00m:\n\u001b[1;32m---> 72\u001b[0m         retval \u001b[38;5;241m=\u001b[39m cfunc(\u001b[38;5;241m*\u001b[39margs, \u001b[38;5;241m*\u001b[39m\u001b[38;5;241m*\u001b[39mkwargs)\n\u001b[0;32m     73\u001b[0m     \u001b[38;5;28;01mexcept\u001b[39;00m \u001b[38;5;167;01mTypeError\u001b[39;00m \u001b[38;5;28;01mas\u001b[39;00m e:\n\u001b[0;32m     74\u001b[0m         \u001b[38;5;28;01mif\u001b[39;00m \u001b[38;5;129;01mnot\u001b[39;00m e\u001b[38;5;241m.\u001b[39margs \u001b[38;5;129;01mor\u001b[39;00m \u001b[38;5;129;01mnot\u001b[39;00m e\u001b[38;5;241m.\u001b[39margs[\u001b[38;5;241m0\u001b[39m]\u001b[38;5;241m.\u001b[39mstartswith(\u001b[38;5;124m'\u001b[39m\u001b[38;5;124munhashable type:\u001b[39m\u001b[38;5;124m'\u001b[39m):\n",
            "File \u001b[1;32mC:\\ProgramData\\anaconda3\\Lib\\site-packages\\sympy\\core\\operations.py:98\u001b[0m, in \u001b[0;36mAssocOp.__new__\u001b[1;34m(cls, evaluate, _sympify, *args)\u001b[0m\n\u001b[0;32m     95\u001b[0m \u001b[38;5;28;01mif\u001b[39;00m \u001b[38;5;28mlen\u001b[39m(args) \u001b[38;5;241m==\u001b[39m \u001b[38;5;241m1\u001b[39m:\n\u001b[0;32m     96\u001b[0m     \u001b[38;5;28;01mreturn\u001b[39;00m args[\u001b[38;5;241m0\u001b[39m]\n\u001b[1;32m---> 98\u001b[0m c_part, nc_part, order_symbols \u001b[38;5;241m=\u001b[39m \u001b[38;5;28mcls\u001b[39m\u001b[38;5;241m.\u001b[39mflatten(args)\n\u001b[0;32m     99\u001b[0m is_commutative \u001b[38;5;241m=\u001b[39m \u001b[38;5;129;01mnot\u001b[39;00m nc_part\n\u001b[0;32m    100\u001b[0m obj \u001b[38;5;241m=\u001b[39m \u001b[38;5;28mcls\u001b[39m\u001b[38;5;241m.\u001b[39m_from_args(c_part \u001b[38;5;241m+\u001b[39m nc_part, is_commutative)\n",
            "File \u001b[1;32mC:\\ProgramData\\anaconda3\\Lib\\site-packages\\sympy\\core\\mul.py:285\u001b[0m, in \u001b[0;36mMul.flatten\u001b[1;34m(cls, seq)\u001b[0m\n\u001b[0;32m    283\u001b[0m     seq \u001b[38;5;241m=\u001b[39m [a, b]\n\u001b[0;32m    284\u001b[0m \u001b[38;5;28;01massert\u001b[39;00m a \u001b[38;5;129;01mis\u001b[39;00m \u001b[38;5;129;01mnot\u001b[39;00m S\u001b[38;5;241m.\u001b[39mOne\n\u001b[1;32m--> 285\u001b[0m \u001b[38;5;28;01mif\u001b[39;00m \u001b[38;5;129;01mnot\u001b[39;00m a\u001b[38;5;241m.\u001b[39mis_zero \u001b[38;5;129;01mand\u001b[39;00m a\u001b[38;5;241m.\u001b[39mis_Rational:\n\u001b[0;32m    286\u001b[0m     r, b \u001b[38;5;241m=\u001b[39m b\u001b[38;5;241m.\u001b[39mas_coeff_Mul()\n\u001b[0;32m    287\u001b[0m     \u001b[38;5;28;01mif\u001b[39;00m b\u001b[38;5;241m.\u001b[39mis_Add:\n",
            "File \u001b[1;32mC:\\ProgramData\\anaconda3\\Lib\\site-packages\\sympy\\core\\assumptions.py:503\u001b[0m, in \u001b[0;36mmake_property.<locals>.getit\u001b[1;34m(self)\u001b[0m\n\u001b[0;32m    501\u001b[0m \u001b[38;5;28;01mif\u001b[39;00m \u001b[38;5;28mself\u001b[39m\u001b[38;5;241m.\u001b[39m_assumptions \u001b[38;5;129;01mis\u001b[39;00m \u001b[38;5;28mself\u001b[39m\u001b[38;5;241m.\u001b[39mdefault_assumptions:\n\u001b[0;32m    502\u001b[0m     \u001b[38;5;28mself\u001b[39m\u001b[38;5;241m.\u001b[39m_assumptions \u001b[38;5;241m=\u001b[39m \u001b[38;5;28mself\u001b[39m\u001b[38;5;241m.\u001b[39mdefault_assumptions\u001b[38;5;241m.\u001b[39mcopy()\n\u001b[1;32m--> 503\u001b[0m \u001b[38;5;28;01mreturn\u001b[39;00m _ask(fact, \u001b[38;5;28mself\u001b[39m)\n",
            "File \u001b[1;32mC:\\ProgramData\\anaconda3\\Lib\\site-packages\\sympy\\core\\assumptions.py:559\u001b[0m, in \u001b[0;36m_ask\u001b[1;34m(fact, obj)\u001b[0m\n\u001b[0;32m    557\u001b[0m handler_i \u001b[38;5;241m=\u001b[39m handler_map\u001b[38;5;241m.\u001b[39mget(fact_i)\n\u001b[0;32m    558\u001b[0m \u001b[38;5;28;01mif\u001b[39;00m handler_i \u001b[38;5;129;01mis\u001b[39;00m \u001b[38;5;129;01mnot\u001b[39;00m \u001b[38;5;28;01mNone\u001b[39;00m:\n\u001b[1;32m--> 559\u001b[0m     fact_i_value \u001b[38;5;241m=\u001b[39m handler_i(obj)\n\u001b[0;32m    561\u001b[0m \u001b[38;5;66;03m# If we get a new value for fact_i then we should update our knowledge\u001b[39;00m\n\u001b[0;32m    562\u001b[0m \u001b[38;5;66;03m# of fact_i as well as any related facts that can be inferred using the\u001b[39;00m\n\u001b[0;32m    563\u001b[0m \u001b[38;5;66;03m# inference rules connecting the fact_i and any other fact values that\u001b[39;00m\n\u001b[0;32m    564\u001b[0m \u001b[38;5;66;03m# are already known.\u001b[39;00m\n\u001b[0;32m    565\u001b[0m \u001b[38;5;28;01mif\u001b[39;00m fact_i_value \u001b[38;5;129;01mis\u001b[39;00m \u001b[38;5;129;01mnot\u001b[39;00m \u001b[38;5;28;01mNone\u001b[39;00m:\n",
            "File \u001b[1;32mC:\\ProgramData\\anaconda3\\Lib\\site-packages\\sympy\\core\\mul.py:1347\u001b[0m, in \u001b[0;36mMul._eval_is_zero\u001b[1;34m(self)\u001b[0m\n\u001b[0;32m   1344\u001b[0m \u001b[38;5;28;01mdef\u001b[39;00m \u001b[38;5;21m_eval_is_zero\u001b[39m(\u001b[38;5;28mself\u001b[39m):\n\u001b[0;32m   1345\u001b[0m     \u001b[38;5;66;03m# True iff any arg is zero and no arg is infinite but need to handle\u001b[39;00m\n\u001b[0;32m   1346\u001b[0m     \u001b[38;5;66;03m# three valued logic carefully.\u001b[39;00m\n\u001b[1;32m-> 1347\u001b[0m     seen_zero, seen_infinite \u001b[38;5;241m=\u001b[39m \u001b[38;5;28mself\u001b[39m\u001b[38;5;241m.\u001b[39m_eval_is_zero_infinite_helper()\n\u001b[0;32m   1349\u001b[0m     \u001b[38;5;28;01mif\u001b[39;00m seen_zero \u001b[38;5;129;01mis\u001b[39;00m \u001b[38;5;28;01mFalse\u001b[39;00m:\n\u001b[0;32m   1350\u001b[0m         \u001b[38;5;28;01mreturn\u001b[39;00m \u001b[38;5;28;01mFalse\u001b[39;00m\n",
            "File \u001b[1;32mC:\\ProgramData\\anaconda3\\Lib\\site-packages\\sympy\\core\\mul.py:1324\u001b[0m, in \u001b[0;36mMul._eval_is_zero_infinite_helper\u001b[1;34m(self)\u001b[0m\n\u001b[0;32m   1321\u001b[0m seen_zero \u001b[38;5;241m=\u001b[39m seen_infinite \u001b[38;5;241m=\u001b[39m \u001b[38;5;28;01mFalse\u001b[39;00m\n\u001b[0;32m   1323\u001b[0m \u001b[38;5;28;01mfor\u001b[39;00m a \u001b[38;5;129;01min\u001b[39;00m \u001b[38;5;28mself\u001b[39m\u001b[38;5;241m.\u001b[39margs:\n\u001b[1;32m-> 1324\u001b[0m     \u001b[38;5;28;01mif\u001b[39;00m a\u001b[38;5;241m.\u001b[39mis_zero:\n\u001b[0;32m   1325\u001b[0m         \u001b[38;5;28;01mif\u001b[39;00m seen_infinite \u001b[38;5;129;01mis\u001b[39;00m \u001b[38;5;129;01mnot\u001b[39;00m \u001b[38;5;28;01mFalse\u001b[39;00m:\n\u001b[0;32m   1326\u001b[0m             \u001b[38;5;28;01mreturn\u001b[39;00m \u001b[38;5;28;01mNone\u001b[39;00m, \u001b[38;5;28;01mNone\u001b[39;00m\n",
            "File \u001b[1;32mC:\\ProgramData\\anaconda3\\Lib\\site-packages\\sympy\\core\\assumptions.py:503\u001b[0m, in \u001b[0;36mmake_property.<locals>.getit\u001b[1;34m(self)\u001b[0m\n\u001b[0;32m    501\u001b[0m \u001b[38;5;28;01mif\u001b[39;00m \u001b[38;5;28mself\u001b[39m\u001b[38;5;241m.\u001b[39m_assumptions \u001b[38;5;129;01mis\u001b[39;00m \u001b[38;5;28mself\u001b[39m\u001b[38;5;241m.\u001b[39mdefault_assumptions:\n\u001b[0;32m    502\u001b[0m     \u001b[38;5;28mself\u001b[39m\u001b[38;5;241m.\u001b[39m_assumptions \u001b[38;5;241m=\u001b[39m \u001b[38;5;28mself\u001b[39m\u001b[38;5;241m.\u001b[39mdefault_assumptions\u001b[38;5;241m.\u001b[39mcopy()\n\u001b[1;32m--> 503\u001b[0m \u001b[38;5;28;01mreturn\u001b[39;00m _ask(fact, \u001b[38;5;28mself\u001b[39m)\n",
            "File \u001b[1;32mC:\\ProgramData\\anaconda3\\Lib\\site-packages\\sympy\\core\\assumptions.py:559\u001b[0m, in \u001b[0;36m_ask\u001b[1;34m(fact, obj)\u001b[0m\n\u001b[0;32m    557\u001b[0m handler_i \u001b[38;5;241m=\u001b[39m handler_map\u001b[38;5;241m.\u001b[39mget(fact_i)\n\u001b[0;32m    558\u001b[0m \u001b[38;5;28;01mif\u001b[39;00m handler_i \u001b[38;5;129;01mis\u001b[39;00m \u001b[38;5;129;01mnot\u001b[39;00m \u001b[38;5;28;01mNone\u001b[39;00m:\n\u001b[1;32m--> 559\u001b[0m     fact_i_value \u001b[38;5;241m=\u001b[39m handler_i(obj)\n\u001b[0;32m    561\u001b[0m \u001b[38;5;66;03m# If we get a new value for fact_i then we should update our knowledge\u001b[39;00m\n\u001b[0;32m    562\u001b[0m \u001b[38;5;66;03m# of fact_i as well as any related facts that can be inferred using the\u001b[39;00m\n\u001b[0;32m    563\u001b[0m \u001b[38;5;66;03m# inference rules connecting the fact_i and any other fact values that\u001b[39;00m\n\u001b[0;32m    564\u001b[0m \u001b[38;5;66;03m# are already known.\u001b[39;00m\n\u001b[0;32m    565\u001b[0m \u001b[38;5;28;01mif\u001b[39;00m fact_i_value \u001b[38;5;129;01mis\u001b[39;00m \u001b[38;5;129;01mnot\u001b[39;00m \u001b[38;5;28;01mNone\u001b[39;00m:\n",
            "File \u001b[1;32mC:\\ProgramData\\anaconda3\\Lib\\site-packages\\sympy\\core\\power.py:620\u001b[0m, in \u001b[0;36mPow._eval_is_zero\u001b[1;34m(self)\u001b[0m\n\u001b[0;32m    619\u001b[0m \u001b[38;5;28;01mdef\u001b[39;00m \u001b[38;5;21m_eval_is_zero\u001b[39m(\u001b[38;5;28mself\u001b[39m):\n\u001b[1;32m--> 620\u001b[0m     \u001b[38;5;28;01mif\u001b[39;00m \u001b[38;5;28mself\u001b[39m\u001b[38;5;241m.\u001b[39mbase\u001b[38;5;241m.\u001b[39mis_zero:\n\u001b[0;32m    621\u001b[0m         \u001b[38;5;28;01mif\u001b[39;00m \u001b[38;5;28mself\u001b[39m\u001b[38;5;241m.\u001b[39mexp\u001b[38;5;241m.\u001b[39mis_extended_positive:\n\u001b[0;32m    622\u001b[0m             \u001b[38;5;28;01mreturn\u001b[39;00m \u001b[38;5;28;01mTrue\u001b[39;00m\n",
            "File \u001b[1;32mC:\\ProgramData\\anaconda3\\Lib\\site-packages\\sympy\\core\\assumptions.py:503\u001b[0m, in \u001b[0;36mmake_property.<locals>.getit\u001b[1;34m(self)\u001b[0m\n\u001b[0;32m    501\u001b[0m \u001b[38;5;28;01mif\u001b[39;00m \u001b[38;5;28mself\u001b[39m\u001b[38;5;241m.\u001b[39m_assumptions \u001b[38;5;129;01mis\u001b[39;00m \u001b[38;5;28mself\u001b[39m\u001b[38;5;241m.\u001b[39mdefault_assumptions:\n\u001b[0;32m    502\u001b[0m     \u001b[38;5;28mself\u001b[39m\u001b[38;5;241m.\u001b[39m_assumptions \u001b[38;5;241m=\u001b[39m \u001b[38;5;28mself\u001b[39m\u001b[38;5;241m.\u001b[39mdefault_assumptions\u001b[38;5;241m.\u001b[39mcopy()\n\u001b[1;32m--> 503\u001b[0m \u001b[38;5;28;01mreturn\u001b[39;00m _ask(fact, \u001b[38;5;28mself\u001b[39m)\n",
            "File \u001b[1;32mC:\\ProgramData\\anaconda3\\Lib\\site-packages\\sympy\\core\\assumptions.py:559\u001b[0m, in \u001b[0;36m_ask\u001b[1;34m(fact, obj)\u001b[0m\n\u001b[0;32m    557\u001b[0m handler_i \u001b[38;5;241m=\u001b[39m handler_map\u001b[38;5;241m.\u001b[39mget(fact_i)\n\u001b[0;32m    558\u001b[0m \u001b[38;5;28;01mif\u001b[39;00m handler_i \u001b[38;5;129;01mis\u001b[39;00m \u001b[38;5;129;01mnot\u001b[39;00m \u001b[38;5;28;01mNone\u001b[39;00m:\n\u001b[1;32m--> 559\u001b[0m     fact_i_value \u001b[38;5;241m=\u001b[39m handler_i(obj)\n\u001b[0;32m    561\u001b[0m \u001b[38;5;66;03m# If we get a new value for fact_i then we should update our knowledge\u001b[39;00m\n\u001b[0;32m    562\u001b[0m \u001b[38;5;66;03m# of fact_i as well as any related facts that can be inferred using the\u001b[39;00m\n\u001b[0;32m    563\u001b[0m \u001b[38;5;66;03m# inference rules connecting the fact_i and any other fact values that\u001b[39;00m\n\u001b[0;32m    564\u001b[0m \u001b[38;5;66;03m# are already known.\u001b[39;00m\n\u001b[0;32m    565\u001b[0m \u001b[38;5;28;01mif\u001b[39;00m fact_i_value \u001b[38;5;129;01mis\u001b[39;00m \u001b[38;5;129;01mnot\u001b[39;00m \u001b[38;5;28;01mNone\u001b[39;00m:\n",
            "File \u001b[1;32mC:\\ProgramData\\anaconda3\\Lib\\site-packages\\sympy\\core\\add.py:863\u001b[0m, in \u001b[0;36mAdd._eval_is_extended_negative\u001b[1;34m(self)\u001b[0m\n\u001b[0;32m    861\u001b[0m \u001b[38;5;28;01mif\u001b[39;00m \u001b[38;5;129;01mnot\u001b[39;00m c\u001b[38;5;241m.\u001b[39mis_zero:\n\u001b[0;32m    862\u001b[0m     \u001b[38;5;28;01mfrom\u001b[39;00m \u001b[38;5;21;01m.\u001b[39;00m\u001b[38;5;21;01mexprtools\u001b[39;00m \u001b[38;5;28;01mimport\u001b[39;00m _monotonic_sign\n\u001b[1;32m--> 863\u001b[0m     v \u001b[38;5;241m=\u001b[39m _monotonic_sign(a)\n\u001b[0;32m    864\u001b[0m     \u001b[38;5;28;01mif\u001b[39;00m v \u001b[38;5;129;01mis\u001b[39;00m \u001b[38;5;129;01mnot\u001b[39;00m \u001b[38;5;28;01mNone\u001b[39;00m:\n\u001b[0;32m    865\u001b[0m         s \u001b[38;5;241m=\u001b[39m v \u001b[38;5;241m+\u001b[39m c\n",
            "File \u001b[1;32mC:\\ProgramData\\anaconda3\\Lib\\site-packages\\sympy\\core\\exprtools.py:121\u001b[0m, in \u001b[0;36m_monotonic_sign\u001b[1;34m(self)\u001b[0m\n\u001b[0;32m    119\u001b[0m     x0 \u001b[38;5;241m=\u001b[39m S\u001b[38;5;241m.\u001b[39mZero\n\u001b[0;32m    120\u001b[0m \u001b[38;5;28;01mif\u001b[39;00m x0 \u001b[38;5;129;01mis\u001b[39;00m \u001b[38;5;129;01mnot\u001b[39;00m \u001b[38;5;28;01mNone\u001b[39;00m:\n\u001b[1;32m--> 121\u001b[0m     d \u001b[38;5;241m=\u001b[39m \u001b[38;5;28mself\u001b[39m\u001b[38;5;241m.\u001b[39mdiff(x)\n\u001b[0;32m    122\u001b[0m     \u001b[38;5;28;01mif\u001b[39;00m d\u001b[38;5;241m.\u001b[39mis_number:\n\u001b[0;32m    123\u001b[0m         currentroots \u001b[38;5;241m=\u001b[39m []\n",
            "File \u001b[1;32mC:\\ProgramData\\anaconda3\\Lib\\site-packages\\sympy\\core\\expr.py:3586\u001b[0m, in \u001b[0;36mExpr.diff\u001b[1;34m(self, *symbols, **assumptions)\u001b[0m\n\u001b[0;32m   3584\u001b[0m \u001b[38;5;28;01mdef\u001b[39;00m \u001b[38;5;21mdiff\u001b[39m(\u001b[38;5;28mself\u001b[39m, \u001b[38;5;241m*\u001b[39msymbols, \u001b[38;5;241m*\u001b[39m\u001b[38;5;241m*\u001b[39massumptions):\n\u001b[0;32m   3585\u001b[0m     assumptions\u001b[38;5;241m.\u001b[39msetdefault(\u001b[38;5;124m\"\u001b[39m\u001b[38;5;124mevaluate\u001b[39m\u001b[38;5;124m\"\u001b[39m, \u001b[38;5;28;01mTrue\u001b[39;00m)\n\u001b[1;32m-> 3586\u001b[0m     \u001b[38;5;28;01mreturn\u001b[39;00m _derivative_dispatch(\u001b[38;5;28mself\u001b[39m, \u001b[38;5;241m*\u001b[39msymbols, \u001b[38;5;241m*\u001b[39m\u001b[38;5;241m*\u001b[39massumptions)\n",
            "File \u001b[1;32mC:\\ProgramData\\anaconda3\\Lib\\site-packages\\sympy\\core\\function.py:1909\u001b[0m, in \u001b[0;36m_derivative_dispatch\u001b[1;34m(expr, *variables, **kwargs)\u001b[0m\n\u001b[0;32m   1907\u001b[0m     \u001b[38;5;28;01mfrom\u001b[39;00m \u001b[38;5;21;01msympy\u001b[39;00m\u001b[38;5;21;01m.\u001b[39;00m\u001b[38;5;21;01mtensor\u001b[39;00m\u001b[38;5;21;01m.\u001b[39;00m\u001b[38;5;21;01marray\u001b[39;00m\u001b[38;5;21;01m.\u001b[39;00m\u001b[38;5;21;01marray_derivatives\u001b[39;00m \u001b[38;5;28;01mimport\u001b[39;00m ArrayDerivative\n\u001b[0;32m   1908\u001b[0m     \u001b[38;5;28;01mreturn\u001b[39;00m ArrayDerivative(expr, \u001b[38;5;241m*\u001b[39mvariables, \u001b[38;5;241m*\u001b[39m\u001b[38;5;241m*\u001b[39mkwargs)\n\u001b[1;32m-> 1909\u001b[0m \u001b[38;5;28;01mreturn\u001b[39;00m Derivative(expr, \u001b[38;5;241m*\u001b[39mvariables, \u001b[38;5;241m*\u001b[39m\u001b[38;5;241m*\u001b[39mkwargs)\n",
            "File \u001b[1;32mC:\\ProgramData\\anaconda3\\Lib\\site-packages\\sympy\\core\\function.py:1438\u001b[0m, in \u001b[0;36mDerivative.__new__\u001b[1;34m(cls, expr, *variables, **kwargs)\u001b[0m\n\u001b[0;32m   1435\u001b[0m         expr \u001b[38;5;241m*\u001b[39m\u001b[38;5;241m=\u001b[39m old_v\u001b[38;5;241m.\u001b[39mdiff(old_v)\n\u001b[0;32m   1437\u001b[0m obj \u001b[38;5;241m=\u001b[39m \u001b[38;5;28mcls\u001b[39m\u001b[38;5;241m.\u001b[39m_dispatch_eval_derivative_n_times(expr, v, count)\n\u001b[1;32m-> 1438\u001b[0m \u001b[38;5;28;01mif\u001b[39;00m obj \u001b[38;5;129;01mis\u001b[39;00m \u001b[38;5;129;01mnot\u001b[39;00m \u001b[38;5;28;01mNone\u001b[39;00m \u001b[38;5;129;01mand\u001b[39;00m obj\u001b[38;5;241m.\u001b[39mis_zero:\n\u001b[0;32m   1439\u001b[0m     \u001b[38;5;28;01mreturn\u001b[39;00m obj\n\u001b[0;32m   1441\u001b[0m nderivs \u001b[38;5;241m+\u001b[39m\u001b[38;5;241m=\u001b[39m count\n",
            "File \u001b[1;32mC:\\ProgramData\\anaconda3\\Lib\\site-packages\\sympy\\core\\assumptions.py:503\u001b[0m, in \u001b[0;36mmake_property.<locals>.getit\u001b[1;34m(self)\u001b[0m\n\u001b[0;32m    501\u001b[0m \u001b[38;5;28;01mif\u001b[39;00m \u001b[38;5;28mself\u001b[39m\u001b[38;5;241m.\u001b[39m_assumptions \u001b[38;5;129;01mis\u001b[39;00m \u001b[38;5;28mself\u001b[39m\u001b[38;5;241m.\u001b[39mdefault_assumptions:\n\u001b[0;32m    502\u001b[0m     \u001b[38;5;28mself\u001b[39m\u001b[38;5;241m.\u001b[39m_assumptions \u001b[38;5;241m=\u001b[39m \u001b[38;5;28mself\u001b[39m\u001b[38;5;241m.\u001b[39mdefault_assumptions\u001b[38;5;241m.\u001b[39mcopy()\n\u001b[1;32m--> 503\u001b[0m \u001b[38;5;28;01mreturn\u001b[39;00m _ask(fact, \u001b[38;5;28mself\u001b[39m)\n",
            "File \u001b[1;32mC:\\ProgramData\\anaconda3\\Lib\\site-packages\\sympy\\core\\assumptions.py:559\u001b[0m, in \u001b[0;36m_ask\u001b[1;34m(fact, obj)\u001b[0m\n\u001b[0;32m    557\u001b[0m handler_i \u001b[38;5;241m=\u001b[39m handler_map\u001b[38;5;241m.\u001b[39mget(fact_i)\n\u001b[0;32m    558\u001b[0m \u001b[38;5;28;01mif\u001b[39;00m handler_i \u001b[38;5;129;01mis\u001b[39;00m \u001b[38;5;129;01mnot\u001b[39;00m \u001b[38;5;28;01mNone\u001b[39;00m:\n\u001b[1;32m--> 559\u001b[0m     fact_i_value \u001b[38;5;241m=\u001b[39m handler_i(obj)\n\u001b[0;32m    561\u001b[0m \u001b[38;5;66;03m# If we get a new value for fact_i then we should update our knowledge\u001b[39;00m\n\u001b[0;32m    562\u001b[0m \u001b[38;5;66;03m# of fact_i as well as any related facts that can be inferred using the\u001b[39;00m\n\u001b[0;32m    563\u001b[0m \u001b[38;5;66;03m# inference rules connecting the fact_i and any other fact values that\u001b[39;00m\n\u001b[0;32m    564\u001b[0m \u001b[38;5;66;03m# are already known.\u001b[39;00m\n\u001b[0;32m    565\u001b[0m \u001b[38;5;28;01mif\u001b[39;00m fact_i_value \u001b[38;5;129;01mis\u001b[39;00m \u001b[38;5;129;01mnot\u001b[39;00m \u001b[38;5;28;01mNone\u001b[39;00m:\n",
            "File \u001b[1;32mC:\\ProgramData\\anaconda3\\Lib\\site-packages\\sympy\\core\\add.py:779\u001b[0m, in \u001b[0;36mAdd._eval_is_extended_positive\u001b[1;34m(self)\u001b[0m\n\u001b[0;32m    777\u001b[0m \u001b[38;5;28;01mif\u001b[39;00m \u001b[38;5;129;01mnot\u001b[39;00m c\u001b[38;5;241m.\u001b[39mis_zero:\n\u001b[0;32m    778\u001b[0m     \u001b[38;5;28;01mfrom\u001b[39;00m \u001b[38;5;21;01m.\u001b[39;00m\u001b[38;5;21;01mexprtools\u001b[39;00m \u001b[38;5;28;01mimport\u001b[39;00m _monotonic_sign\n\u001b[1;32m--> 779\u001b[0m     v \u001b[38;5;241m=\u001b[39m _monotonic_sign(a)\n\u001b[0;32m    780\u001b[0m     \u001b[38;5;28;01mif\u001b[39;00m v \u001b[38;5;129;01mis\u001b[39;00m \u001b[38;5;129;01mnot\u001b[39;00m \u001b[38;5;28;01mNone\u001b[39;00m:\n\u001b[0;32m    781\u001b[0m         s \u001b[38;5;241m=\u001b[39m v \u001b[38;5;241m+\u001b[39m c\n",
            "File \u001b[1;32mC:\\ProgramData\\anaconda3\\Lib\\site-packages\\sympy\\core\\exprtools.py:121\u001b[0m, in \u001b[0;36m_monotonic_sign\u001b[1;34m(self)\u001b[0m\n\u001b[0;32m    119\u001b[0m     x0 \u001b[38;5;241m=\u001b[39m S\u001b[38;5;241m.\u001b[39mZero\n\u001b[0;32m    120\u001b[0m \u001b[38;5;28;01mif\u001b[39;00m x0 \u001b[38;5;129;01mis\u001b[39;00m \u001b[38;5;129;01mnot\u001b[39;00m \u001b[38;5;28;01mNone\u001b[39;00m:\n\u001b[1;32m--> 121\u001b[0m     d \u001b[38;5;241m=\u001b[39m \u001b[38;5;28mself\u001b[39m\u001b[38;5;241m.\u001b[39mdiff(x)\n\u001b[0;32m    122\u001b[0m     \u001b[38;5;28;01mif\u001b[39;00m d\u001b[38;5;241m.\u001b[39mis_number:\n\u001b[0;32m    123\u001b[0m         currentroots \u001b[38;5;241m=\u001b[39m []\n",
            "File \u001b[1;32mC:\\ProgramData\\anaconda3\\Lib\\site-packages\\sympy\\core\\expr.py:3586\u001b[0m, in \u001b[0;36mExpr.diff\u001b[1;34m(self, *symbols, **assumptions)\u001b[0m\n\u001b[0;32m   3584\u001b[0m \u001b[38;5;28;01mdef\u001b[39;00m \u001b[38;5;21mdiff\u001b[39m(\u001b[38;5;28mself\u001b[39m, \u001b[38;5;241m*\u001b[39msymbols, \u001b[38;5;241m*\u001b[39m\u001b[38;5;241m*\u001b[39massumptions):\n\u001b[0;32m   3585\u001b[0m     assumptions\u001b[38;5;241m.\u001b[39msetdefault(\u001b[38;5;124m\"\u001b[39m\u001b[38;5;124mevaluate\u001b[39m\u001b[38;5;124m\"\u001b[39m, \u001b[38;5;28;01mTrue\u001b[39;00m)\n\u001b[1;32m-> 3586\u001b[0m     \u001b[38;5;28;01mreturn\u001b[39;00m _derivative_dispatch(\u001b[38;5;28mself\u001b[39m, \u001b[38;5;241m*\u001b[39msymbols, \u001b[38;5;241m*\u001b[39m\u001b[38;5;241m*\u001b[39massumptions)\n",
            "File \u001b[1;32mC:\\ProgramData\\anaconda3\\Lib\\site-packages\\sympy\\core\\function.py:1909\u001b[0m, in \u001b[0;36m_derivative_dispatch\u001b[1;34m(expr, *variables, **kwargs)\u001b[0m\n\u001b[0;32m   1907\u001b[0m     \u001b[38;5;28;01mfrom\u001b[39;00m \u001b[38;5;21;01msympy\u001b[39;00m\u001b[38;5;21;01m.\u001b[39;00m\u001b[38;5;21;01mtensor\u001b[39;00m\u001b[38;5;21;01m.\u001b[39;00m\u001b[38;5;21;01marray\u001b[39;00m\u001b[38;5;21;01m.\u001b[39;00m\u001b[38;5;21;01marray_derivatives\u001b[39;00m \u001b[38;5;28;01mimport\u001b[39;00m ArrayDerivative\n\u001b[0;32m   1908\u001b[0m     \u001b[38;5;28;01mreturn\u001b[39;00m ArrayDerivative(expr, \u001b[38;5;241m*\u001b[39mvariables, \u001b[38;5;241m*\u001b[39m\u001b[38;5;241m*\u001b[39mkwargs)\n\u001b[1;32m-> 1909\u001b[0m \u001b[38;5;28;01mreturn\u001b[39;00m Derivative(expr, \u001b[38;5;241m*\u001b[39mvariables, \u001b[38;5;241m*\u001b[39m\u001b[38;5;241m*\u001b[39mkwargs)\n",
            "File \u001b[1;32mC:\\ProgramData\\anaconda3\\Lib\\site-packages\\sympy\\core\\function.py:1438\u001b[0m, in \u001b[0;36mDerivative.__new__\u001b[1;34m(cls, expr, *variables, **kwargs)\u001b[0m\n\u001b[0;32m   1435\u001b[0m         expr \u001b[38;5;241m*\u001b[39m\u001b[38;5;241m=\u001b[39m old_v\u001b[38;5;241m.\u001b[39mdiff(old_v)\n\u001b[0;32m   1437\u001b[0m obj \u001b[38;5;241m=\u001b[39m \u001b[38;5;28mcls\u001b[39m\u001b[38;5;241m.\u001b[39m_dispatch_eval_derivative_n_times(expr, v, count)\n\u001b[1;32m-> 1438\u001b[0m \u001b[38;5;28;01mif\u001b[39;00m obj \u001b[38;5;129;01mis\u001b[39;00m \u001b[38;5;129;01mnot\u001b[39;00m \u001b[38;5;28;01mNone\u001b[39;00m \u001b[38;5;129;01mand\u001b[39;00m obj\u001b[38;5;241m.\u001b[39mis_zero:\n\u001b[0;32m   1439\u001b[0m     \u001b[38;5;28;01mreturn\u001b[39;00m obj\n\u001b[0;32m   1441\u001b[0m nderivs \u001b[38;5;241m+\u001b[39m\u001b[38;5;241m=\u001b[39m count\n",
            "    \u001b[1;31m[... skipping similar frames: _ask at line 559 (1 times), make_property.<locals>.getit at line 503 (1 times)]\u001b[0m\n",
            "File \u001b[1;32mC:\\ProgramData\\anaconda3\\Lib\\site-packages\\sympy\\core\\add.py:863\u001b[0m, in \u001b[0;36mAdd._eval_is_extended_negative\u001b[1;34m(self)\u001b[0m\n\u001b[0;32m    861\u001b[0m \u001b[38;5;28;01mif\u001b[39;00m \u001b[38;5;129;01mnot\u001b[39;00m c\u001b[38;5;241m.\u001b[39mis_zero:\n\u001b[0;32m    862\u001b[0m     \u001b[38;5;28;01mfrom\u001b[39;00m \u001b[38;5;21;01m.\u001b[39;00m\u001b[38;5;21;01mexprtools\u001b[39;00m \u001b[38;5;28;01mimport\u001b[39;00m _monotonic_sign\n\u001b[1;32m--> 863\u001b[0m     v \u001b[38;5;241m=\u001b[39m _monotonic_sign(a)\n\u001b[0;32m    864\u001b[0m     \u001b[38;5;28;01mif\u001b[39;00m v \u001b[38;5;129;01mis\u001b[39;00m \u001b[38;5;129;01mnot\u001b[39;00m \u001b[38;5;28;01mNone\u001b[39;00m:\n\u001b[0;32m    865\u001b[0m         s \u001b[38;5;241m=\u001b[39m v \u001b[38;5;241m+\u001b[39m c\n",
            "    \u001b[1;31m[... skipping similar frames: Derivative.__new__ at line 1438 (2 times), _ask at line 559 (2 times), _derivative_dispatch at line 1909 (2 times), _monotonic_sign at line 121 (2 times), Expr.diff at line 3586 (2 times), make_property.<locals>.getit at line 503 (2 times), Add._eval_is_extended_negative at line 863 (1 times)]\u001b[0m\n",
            "File \u001b[1;32mC:\\ProgramData\\anaconda3\\Lib\\site-packages\\sympy\\core\\add.py:779\u001b[0m, in \u001b[0;36mAdd._eval_is_extended_positive\u001b[1;34m(self)\u001b[0m\n\u001b[0;32m    777\u001b[0m \u001b[38;5;28;01mif\u001b[39;00m \u001b[38;5;129;01mnot\u001b[39;00m c\u001b[38;5;241m.\u001b[39mis_zero:\n\u001b[0;32m    778\u001b[0m     \u001b[38;5;28;01mfrom\u001b[39;00m \u001b[38;5;21;01m.\u001b[39;00m\u001b[38;5;21;01mexprtools\u001b[39;00m \u001b[38;5;28;01mimport\u001b[39;00m _monotonic_sign\n\u001b[1;32m--> 779\u001b[0m     v \u001b[38;5;241m=\u001b[39m _monotonic_sign(a)\n\u001b[0;32m    780\u001b[0m     \u001b[38;5;28;01mif\u001b[39;00m v \u001b[38;5;129;01mis\u001b[39;00m \u001b[38;5;129;01mnot\u001b[39;00m \u001b[38;5;28;01mNone\u001b[39;00m:\n\u001b[0;32m    781\u001b[0m         s \u001b[38;5;241m=\u001b[39m v \u001b[38;5;241m+\u001b[39m c\n",
            "    \u001b[1;31m[... skipping similar frames: Derivative.__new__ at line 1438 (12 times), _ask at line 559 (12 times), _derivative_dispatch at line 1909 (12 times), _monotonic_sign at line 121 (12 times), Expr.diff at line 3586 (12 times), make_property.<locals>.getit at line 503 (12 times), Add._eval_is_extended_positive at line 779 (7 times), Add._eval_is_extended_negative at line 863 (4 times)]\u001b[0m\n",
            "File \u001b[1;32mC:\\ProgramData\\anaconda3\\Lib\\site-packages\\sympy\\core\\add.py:779\u001b[0m, in \u001b[0;36mAdd._eval_is_extended_positive\u001b[1;34m(self)\u001b[0m\n\u001b[0;32m    777\u001b[0m \u001b[38;5;28;01mif\u001b[39;00m \u001b[38;5;129;01mnot\u001b[39;00m c\u001b[38;5;241m.\u001b[39mis_zero:\n\u001b[0;32m    778\u001b[0m     \u001b[38;5;28;01mfrom\u001b[39;00m \u001b[38;5;21;01m.\u001b[39;00m\u001b[38;5;21;01mexprtools\u001b[39;00m \u001b[38;5;28;01mimport\u001b[39;00m _monotonic_sign\n\u001b[1;32m--> 779\u001b[0m     v \u001b[38;5;241m=\u001b[39m _monotonic_sign(a)\n\u001b[0;32m    780\u001b[0m     \u001b[38;5;28;01mif\u001b[39;00m v \u001b[38;5;129;01mis\u001b[39;00m \u001b[38;5;129;01mnot\u001b[39;00m \u001b[38;5;28;01mNone\u001b[39;00m:\n\u001b[0;32m    781\u001b[0m         s \u001b[38;5;241m=\u001b[39m v \u001b[38;5;241m+\u001b[39m c\n",
            "File \u001b[1;32mC:\\ProgramData\\anaconda3\\Lib\\site-packages\\sympy\\core\\exprtools.py:121\u001b[0m, in \u001b[0;36m_monotonic_sign\u001b[1;34m(self)\u001b[0m\n\u001b[0;32m    119\u001b[0m     x0 \u001b[38;5;241m=\u001b[39m S\u001b[38;5;241m.\u001b[39mZero\n\u001b[0;32m    120\u001b[0m \u001b[38;5;28;01mif\u001b[39;00m x0 \u001b[38;5;129;01mis\u001b[39;00m \u001b[38;5;129;01mnot\u001b[39;00m \u001b[38;5;28;01mNone\u001b[39;00m:\n\u001b[1;32m--> 121\u001b[0m     d \u001b[38;5;241m=\u001b[39m \u001b[38;5;28mself\u001b[39m\u001b[38;5;241m.\u001b[39mdiff(x)\n\u001b[0;32m    122\u001b[0m     \u001b[38;5;28;01mif\u001b[39;00m d\u001b[38;5;241m.\u001b[39mis_number:\n\u001b[0;32m    123\u001b[0m         currentroots \u001b[38;5;241m=\u001b[39m []\n",
            "File \u001b[1;32mC:\\ProgramData\\anaconda3\\Lib\\site-packages\\sympy\\core\\expr.py:3586\u001b[0m, in \u001b[0;36mExpr.diff\u001b[1;34m(self, *symbols, **assumptions)\u001b[0m\n\u001b[0;32m   3584\u001b[0m \u001b[38;5;28;01mdef\u001b[39;00m \u001b[38;5;21mdiff\u001b[39m(\u001b[38;5;28mself\u001b[39m, \u001b[38;5;241m*\u001b[39msymbols, \u001b[38;5;241m*\u001b[39m\u001b[38;5;241m*\u001b[39massumptions):\n\u001b[0;32m   3585\u001b[0m     assumptions\u001b[38;5;241m.\u001b[39msetdefault(\u001b[38;5;124m\"\u001b[39m\u001b[38;5;124mevaluate\u001b[39m\u001b[38;5;124m\"\u001b[39m, \u001b[38;5;28;01mTrue\u001b[39;00m)\n\u001b[1;32m-> 3586\u001b[0m     \u001b[38;5;28;01mreturn\u001b[39;00m _derivative_dispatch(\u001b[38;5;28mself\u001b[39m, \u001b[38;5;241m*\u001b[39msymbols, \u001b[38;5;241m*\u001b[39m\u001b[38;5;241m*\u001b[39massumptions)\n",
            "File \u001b[1;32mC:\\ProgramData\\anaconda3\\Lib\\site-packages\\sympy\\core\\function.py:1909\u001b[0m, in \u001b[0;36m_derivative_dispatch\u001b[1;34m(expr, *variables, **kwargs)\u001b[0m\n\u001b[0;32m   1907\u001b[0m     \u001b[38;5;28;01mfrom\u001b[39;00m \u001b[38;5;21;01msympy\u001b[39;00m\u001b[38;5;21;01m.\u001b[39;00m\u001b[38;5;21;01mtensor\u001b[39;00m\u001b[38;5;21;01m.\u001b[39;00m\u001b[38;5;21;01marray\u001b[39;00m\u001b[38;5;21;01m.\u001b[39;00m\u001b[38;5;21;01marray_derivatives\u001b[39;00m \u001b[38;5;28;01mimport\u001b[39;00m ArrayDerivative\n\u001b[0;32m   1908\u001b[0m     \u001b[38;5;28;01mreturn\u001b[39;00m ArrayDerivative(expr, \u001b[38;5;241m*\u001b[39mvariables, \u001b[38;5;241m*\u001b[39m\u001b[38;5;241m*\u001b[39mkwargs)\n\u001b[1;32m-> 1909\u001b[0m \u001b[38;5;28;01mreturn\u001b[39;00m Derivative(expr, \u001b[38;5;241m*\u001b[39mvariables, \u001b[38;5;241m*\u001b[39m\u001b[38;5;241m*\u001b[39mkwargs)\n",
            "File \u001b[1;32mC:\\ProgramData\\anaconda3\\Lib\\site-packages\\sympy\\core\\function.py:1438\u001b[0m, in \u001b[0;36mDerivative.__new__\u001b[1;34m(cls, expr, *variables, **kwargs)\u001b[0m\n\u001b[0;32m   1435\u001b[0m         expr \u001b[38;5;241m*\u001b[39m\u001b[38;5;241m=\u001b[39m old_v\u001b[38;5;241m.\u001b[39mdiff(old_v)\n\u001b[0;32m   1437\u001b[0m obj \u001b[38;5;241m=\u001b[39m \u001b[38;5;28mcls\u001b[39m\u001b[38;5;241m.\u001b[39m_dispatch_eval_derivative_n_times(expr, v, count)\n\u001b[1;32m-> 1438\u001b[0m \u001b[38;5;28;01mif\u001b[39;00m obj \u001b[38;5;129;01mis\u001b[39;00m \u001b[38;5;129;01mnot\u001b[39;00m \u001b[38;5;28;01mNone\u001b[39;00m \u001b[38;5;129;01mand\u001b[39;00m obj\u001b[38;5;241m.\u001b[39mis_zero:\n\u001b[0;32m   1439\u001b[0m     \u001b[38;5;28;01mreturn\u001b[39;00m obj\n\u001b[0;32m   1441\u001b[0m nderivs \u001b[38;5;241m+\u001b[39m\u001b[38;5;241m=\u001b[39m count\n",
            "File \u001b[1;32mC:\\ProgramData\\anaconda3\\Lib\\site-packages\\sympy\\core\\assumptions.py:503\u001b[0m, in \u001b[0;36mmake_property.<locals>.getit\u001b[1;34m(self)\u001b[0m\n\u001b[0;32m    501\u001b[0m \u001b[38;5;28;01mif\u001b[39;00m \u001b[38;5;28mself\u001b[39m\u001b[38;5;241m.\u001b[39m_assumptions \u001b[38;5;129;01mis\u001b[39;00m \u001b[38;5;28mself\u001b[39m\u001b[38;5;241m.\u001b[39mdefault_assumptions:\n\u001b[0;32m    502\u001b[0m     \u001b[38;5;28mself\u001b[39m\u001b[38;5;241m.\u001b[39m_assumptions \u001b[38;5;241m=\u001b[39m \u001b[38;5;28mself\u001b[39m\u001b[38;5;241m.\u001b[39mdefault_assumptions\u001b[38;5;241m.\u001b[39mcopy()\n\u001b[1;32m--> 503\u001b[0m \u001b[38;5;28;01mreturn\u001b[39;00m _ask(fact, \u001b[38;5;28mself\u001b[39m)\n",
            "File \u001b[1;32mC:\\ProgramData\\anaconda3\\Lib\\site-packages\\sympy\\core\\assumptions.py:559\u001b[0m, in \u001b[0;36m_ask\u001b[1;34m(fact, obj)\u001b[0m\n\u001b[0;32m    557\u001b[0m handler_i \u001b[38;5;241m=\u001b[39m handler_map\u001b[38;5;241m.\u001b[39mget(fact_i)\n\u001b[0;32m    558\u001b[0m \u001b[38;5;28;01mif\u001b[39;00m handler_i \u001b[38;5;129;01mis\u001b[39;00m \u001b[38;5;129;01mnot\u001b[39;00m \u001b[38;5;28;01mNone\u001b[39;00m:\n\u001b[1;32m--> 559\u001b[0m     fact_i_value \u001b[38;5;241m=\u001b[39m handler_i(obj)\n\u001b[0;32m    561\u001b[0m \u001b[38;5;66;03m# If we get a new value for fact_i then we should update our knowledge\u001b[39;00m\n\u001b[0;32m    562\u001b[0m \u001b[38;5;66;03m# of fact_i as well as any related facts that can be inferred using the\u001b[39;00m\n\u001b[0;32m    563\u001b[0m \u001b[38;5;66;03m# inference rules connecting the fact_i and any other fact values that\u001b[39;00m\n\u001b[0;32m    564\u001b[0m \u001b[38;5;66;03m# are already known.\u001b[39;00m\n\u001b[0;32m    565\u001b[0m \u001b[38;5;28;01mif\u001b[39;00m fact_i_value \u001b[38;5;129;01mis\u001b[39;00m \u001b[38;5;129;01mnot\u001b[39;00m \u001b[38;5;28;01mNone\u001b[39;00m:\n",
            "File \u001b[1;32mC:\\ProgramData\\anaconda3\\Lib\\site-packages\\sympy\\core\\add.py:863\u001b[0m, in \u001b[0;36mAdd._eval_is_extended_negative\u001b[1;34m(self)\u001b[0m\n\u001b[0;32m    861\u001b[0m \u001b[38;5;28;01mif\u001b[39;00m \u001b[38;5;129;01mnot\u001b[39;00m c\u001b[38;5;241m.\u001b[39mis_zero:\n\u001b[0;32m    862\u001b[0m     \u001b[38;5;28;01mfrom\u001b[39;00m \u001b[38;5;21;01m.\u001b[39;00m\u001b[38;5;21;01mexprtools\u001b[39;00m \u001b[38;5;28;01mimport\u001b[39;00m _monotonic_sign\n\u001b[1;32m--> 863\u001b[0m     v \u001b[38;5;241m=\u001b[39m _monotonic_sign(a)\n\u001b[0;32m    864\u001b[0m     \u001b[38;5;28;01mif\u001b[39;00m v \u001b[38;5;129;01mis\u001b[39;00m \u001b[38;5;129;01mnot\u001b[39;00m \u001b[38;5;28;01mNone\u001b[39;00m:\n\u001b[0;32m    865\u001b[0m         s \u001b[38;5;241m=\u001b[39m v \u001b[38;5;241m+\u001b[39m c\n",
            "File \u001b[1;32mC:\\ProgramData\\anaconda3\\Lib\\site-packages\\sympy\\core\\exprtools.py:126\u001b[0m, in \u001b[0;36m_monotonic_sign\u001b[1;34m(self)\u001b[0m\n\u001b[0;32m    124\u001b[0m \u001b[38;5;28;01melse\u001b[39;00m:\n\u001b[0;32m    125\u001b[0m     \u001b[38;5;28;01mtry\u001b[39;00m:\n\u001b[1;32m--> 126\u001b[0m         currentroots \u001b[38;5;241m=\u001b[39m real_roots(d)\n\u001b[0;32m    127\u001b[0m     \u001b[38;5;28;01mexcept\u001b[39;00m (PolynomialError, \u001b[38;5;167;01mNotImplementedError\u001b[39;00m):\n\u001b[0;32m    128\u001b[0m         currentroots \u001b[38;5;241m=\u001b[39m [r \u001b[38;5;28;01mfor\u001b[39;00m r \u001b[38;5;129;01min\u001b[39;00m roots(d, x) \u001b[38;5;28;01mif\u001b[39;00m r\u001b[38;5;241m.\u001b[39mis_extended_real]\n",
            "File \u001b[1;32mC:\\ProgramData\\anaconda3\\Lib\\site-packages\\sympy\\polys\\polytools.py:6693\u001b[0m, in \u001b[0;36mreal_roots\u001b[1;34m(f, multiple)\u001b[0m\n\u001b[0;32m   6689\u001b[0m \u001b[38;5;28;01mexcept\u001b[39;00m GeneratorsNeeded:\n\u001b[0;32m   6690\u001b[0m     \u001b[38;5;28;01mraise\u001b[39;00m PolynomialError(\n\u001b[0;32m   6691\u001b[0m         \u001b[38;5;124m\"\u001b[39m\u001b[38;5;124mCannot compute real roots of \u001b[39m\u001b[38;5;132;01m%s\u001b[39;00m\u001b[38;5;124m, not a polynomial\u001b[39m\u001b[38;5;124m\"\u001b[39m \u001b[38;5;241m%\u001b[39m f)\n\u001b[1;32m-> 6693\u001b[0m \u001b[38;5;28;01mreturn\u001b[39;00m F\u001b[38;5;241m.\u001b[39mreal_roots(multiple\u001b[38;5;241m=\u001b[39mmultiple)\n",
            "File \u001b[1;32mC:\\ProgramData\\anaconda3\\Lib\\site-packages\\sympy\\polys\\polytools.py:3606\u001b[0m, in \u001b[0;36mPoly.real_roots\u001b[1;34m(f, multiple, radicals)\u001b[0m\n\u001b[0;32m   3590\u001b[0m \u001b[38;5;28;01mdef\u001b[39;00m \u001b[38;5;21mreal_roots\u001b[39m(f, multiple\u001b[38;5;241m=\u001b[39m\u001b[38;5;28;01mTrue\u001b[39;00m, radicals\u001b[38;5;241m=\u001b[39m\u001b[38;5;28;01mTrue\u001b[39;00m):\n\u001b[0;32m   3591\u001b[0m \u001b[38;5;250m    \u001b[39m\u001b[38;5;124;03m\"\"\"\u001b[39;00m\n\u001b[0;32m   3592\u001b[0m \u001b[38;5;124;03m    Return a list of real roots with multiplicities.\u001b[39;00m\n\u001b[0;32m   3593\u001b[0m \n\u001b[1;32m   (...)\u001b[0m\n\u001b[0;32m   3604\u001b[0m \n\u001b[0;32m   3605\u001b[0m \u001b[38;5;124;03m    \"\"\"\u001b[39;00m\n\u001b[1;32m-> 3606\u001b[0m     reals \u001b[38;5;241m=\u001b[39m sympy\u001b[38;5;241m.\u001b[39mpolys\u001b[38;5;241m.\u001b[39mrootoftools\u001b[38;5;241m.\u001b[39mCRootOf\u001b[38;5;241m.\u001b[39mreal_roots(f, radicals\u001b[38;5;241m=\u001b[39mradicals)\n\u001b[0;32m   3608\u001b[0m     \u001b[38;5;28;01mif\u001b[39;00m multiple:\n\u001b[0;32m   3609\u001b[0m         \u001b[38;5;28;01mreturn\u001b[39;00m reals\n",
            "File \u001b[1;32mC:\\ProgramData\\anaconda3\\Lib\\site-packages\\sympy\\polys\\rootoftools.py:412\u001b[0m, in \u001b[0;36mComplexRootOf.real_roots\u001b[1;34m(cls, poly, radicals)\u001b[0m\n\u001b[0;32m    409\u001b[0m \u001b[38;5;129m@classmethod\u001b[39m\n\u001b[0;32m    410\u001b[0m \u001b[38;5;28;01mdef\u001b[39;00m \u001b[38;5;21mreal_roots\u001b[39m(\u001b[38;5;28mcls\u001b[39m, poly, radicals\u001b[38;5;241m=\u001b[39m\u001b[38;5;28;01mTrue\u001b[39;00m):\n\u001b[0;32m    411\u001b[0m \u001b[38;5;250m    \u001b[39m\u001b[38;5;124;03m\"\"\"Get real roots of a polynomial. \"\"\"\u001b[39;00m\n\u001b[1;32m--> 412\u001b[0m     \u001b[38;5;28;01mreturn\u001b[39;00m \u001b[38;5;28mcls\u001b[39m\u001b[38;5;241m.\u001b[39m_get_roots(\u001b[38;5;124m\"\u001b[39m\u001b[38;5;124m_real_roots\u001b[39m\u001b[38;5;124m\"\u001b[39m, poly, radicals)\n",
            "File \u001b[1;32mC:\\ProgramData\\anaconda3\\Lib\\site-packages\\sympy\\polys\\rootoftools.py:771\u001b[0m, in \u001b[0;36mComplexRootOf._get_roots\u001b[1;34m(cls, method, poly, radicals)\u001b[0m\n\u001b[0;32m    769\u001b[0m \u001b[38;5;28;01mfor\u001b[39;00m x \u001b[38;5;129;01min\u001b[39;00m chain((symbols(\u001b[38;5;124m'\u001b[39m\u001b[38;5;124mx\u001b[39m\u001b[38;5;124m'\u001b[39m),), numbered_symbols(\u001b[38;5;124m'\u001b[39m\u001b[38;5;124mx\u001b[39m\u001b[38;5;124m'\u001b[39m)):\n\u001b[0;32m    770\u001b[0m     \u001b[38;5;28;01mif\u001b[39;00m x\u001b[38;5;241m.\u001b[39mname \u001b[38;5;129;01mnot\u001b[39;00m \u001b[38;5;129;01min\u001b[39;00m free_names:\n\u001b[1;32m--> 771\u001b[0m         poly \u001b[38;5;241m=\u001b[39m poly\u001b[38;5;241m.\u001b[39mxreplace({d: x})\n\u001b[0;32m    772\u001b[0m         \u001b[38;5;28;01mbreak\u001b[39;00m\n\u001b[0;32m    773\u001b[0m coeff, poly \u001b[38;5;241m=\u001b[39m \u001b[38;5;28mcls\u001b[39m\u001b[38;5;241m.\u001b[39m_preprocess_roots(poly)\n",
            "File \u001b[1;32mC:\\ProgramData\\anaconda3\\Lib\\site-packages\\sympy\\core\\basic.py:1230\u001b[0m, in \u001b[0;36mBasic.xreplace\u001b[1;34m(self, rule)\u001b[0m\n\u001b[0;32m   1168\u001b[0m \u001b[38;5;28;01mdef\u001b[39;00m \u001b[38;5;21mxreplace\u001b[39m(\u001b[38;5;28mself\u001b[39m, rule):\n\u001b[0;32m   1169\u001b[0m \u001b[38;5;250m    \u001b[39m\u001b[38;5;124;03m\"\"\"\u001b[39;00m\n\u001b[0;32m   1170\u001b[0m \u001b[38;5;124;03m    Replace occurrences of objects within the expression.\u001b[39;00m\n\u001b[0;32m   1171\u001b[0m \n\u001b[1;32m   (...)\u001b[0m\n\u001b[0;32m   1228\u001b[0m \n\u001b[0;32m   1229\u001b[0m \u001b[38;5;124;03m    \"\"\"\u001b[39;00m\n\u001b[1;32m-> 1230\u001b[0m     value, _ \u001b[38;5;241m=\u001b[39m \u001b[38;5;28mself\u001b[39m\u001b[38;5;241m.\u001b[39m_xreplace(rule)\n\u001b[0;32m   1231\u001b[0m     \u001b[38;5;28;01mreturn\u001b[39;00m value\n",
            "File \u001b[1;32mC:\\ProgramData\\anaconda3\\Lib\\site-packages\\sympy\\core\\basic.py:1245\u001b[0m, in \u001b[0;36mBasic._xreplace\u001b[1;34m(self, rule)\u001b[0m\n\u001b[0;32m   1243\u001b[0m _xreplace \u001b[38;5;241m=\u001b[39m \u001b[38;5;28mgetattr\u001b[39m(a, \u001b[38;5;124m'\u001b[39m\u001b[38;5;124m_xreplace\u001b[39m\u001b[38;5;124m'\u001b[39m, \u001b[38;5;28;01mNone\u001b[39;00m)\n\u001b[0;32m   1244\u001b[0m \u001b[38;5;28;01mif\u001b[39;00m _xreplace \u001b[38;5;129;01mis\u001b[39;00m \u001b[38;5;129;01mnot\u001b[39;00m \u001b[38;5;28;01mNone\u001b[39;00m:\n\u001b[1;32m-> 1245\u001b[0m     a_xr \u001b[38;5;241m=\u001b[39m _xreplace(rule)\n\u001b[0;32m   1246\u001b[0m     args\u001b[38;5;241m.\u001b[39mappend(a_xr[\u001b[38;5;241m0\u001b[39m])\n\u001b[0;32m   1247\u001b[0m     changed \u001b[38;5;241m|\u001b[39m\u001b[38;5;241m=\u001b[39m a_xr[\u001b[38;5;241m1\u001b[39m]\n",
            "File \u001b[1;32mC:\\ProgramData\\anaconda3\\Lib\\site-packages\\sympy\\core\\basic.py:1252\u001b[0m, in \u001b[0;36mBasic._xreplace\u001b[1;34m(self, rule)\u001b[0m\n\u001b[0;32m   1250\u001b[0m     args \u001b[38;5;241m=\u001b[39m \u001b[38;5;28mtuple\u001b[39m(args)\n\u001b[0;32m   1251\u001b[0m     \u001b[38;5;28;01mif\u001b[39;00m changed:\n\u001b[1;32m-> 1252\u001b[0m         \u001b[38;5;28;01mreturn\u001b[39;00m \u001b[38;5;28mself\u001b[39m\u001b[38;5;241m.\u001b[39mfunc(\u001b[38;5;241m*\u001b[39margs), \u001b[38;5;28;01mTrue\u001b[39;00m\n\u001b[0;32m   1253\u001b[0m \u001b[38;5;28;01mreturn\u001b[39;00m \u001b[38;5;28mself\u001b[39m, \u001b[38;5;28;01mFalse\u001b[39;00m\n",
            "File \u001b[1;32mC:\\ProgramData\\anaconda3\\Lib\\site-packages\\sympy\\core\\cache.py:72\u001b[0m, in \u001b[0;36m__cacheit.<locals>.func_wrapper.<locals>.wrapper\u001b[1;34m(*args, **kwargs)\u001b[0m\n\u001b[0;32m     69\u001b[0m \u001b[38;5;129m@wraps\u001b[39m(func)\n\u001b[0;32m     70\u001b[0m \u001b[38;5;28;01mdef\u001b[39;00m \u001b[38;5;21mwrapper\u001b[39m(\u001b[38;5;241m*\u001b[39margs, \u001b[38;5;241m*\u001b[39m\u001b[38;5;241m*\u001b[39mkwargs):\n\u001b[0;32m     71\u001b[0m     \u001b[38;5;28;01mtry\u001b[39;00m:\n\u001b[1;32m---> 72\u001b[0m         retval \u001b[38;5;241m=\u001b[39m cfunc(\u001b[38;5;241m*\u001b[39margs, \u001b[38;5;241m*\u001b[39m\u001b[38;5;241m*\u001b[39mkwargs)\n\u001b[0;32m     73\u001b[0m     \u001b[38;5;28;01mexcept\u001b[39;00m \u001b[38;5;167;01mTypeError\u001b[39;00m \u001b[38;5;28;01mas\u001b[39;00m e:\n\u001b[0;32m     74\u001b[0m         \u001b[38;5;28;01mif\u001b[39;00m \u001b[38;5;129;01mnot\u001b[39;00m e\u001b[38;5;241m.\u001b[39margs \u001b[38;5;129;01mor\u001b[39;00m \u001b[38;5;129;01mnot\u001b[39;00m e\u001b[38;5;241m.\u001b[39margs[\u001b[38;5;241m0\u001b[39m]\u001b[38;5;241m.\u001b[39mstartswith(\u001b[38;5;124m'\u001b[39m\u001b[38;5;124munhashable type:\u001b[39m\u001b[38;5;124m'\u001b[39m):\n",
            "File \u001b[1;32mC:\\ProgramData\\anaconda3\\Lib\\site-packages\\sympy\\core\\operations.py:98\u001b[0m, in \u001b[0;36mAssocOp.__new__\u001b[1;34m(cls, evaluate, _sympify, *args)\u001b[0m\n\u001b[0;32m     95\u001b[0m \u001b[38;5;28;01mif\u001b[39;00m \u001b[38;5;28mlen\u001b[39m(args) \u001b[38;5;241m==\u001b[39m \u001b[38;5;241m1\u001b[39m:\n\u001b[0;32m     96\u001b[0m     \u001b[38;5;28;01mreturn\u001b[39;00m args[\u001b[38;5;241m0\u001b[39m]\n\u001b[1;32m---> 98\u001b[0m c_part, nc_part, order_symbols \u001b[38;5;241m=\u001b[39m \u001b[38;5;28mcls\u001b[39m\u001b[38;5;241m.\u001b[39mflatten(args)\n\u001b[0;32m     99\u001b[0m is_commutative \u001b[38;5;241m=\u001b[39m \u001b[38;5;129;01mnot\u001b[39;00m nc_part\n\u001b[0;32m    100\u001b[0m obj \u001b[38;5;241m=\u001b[39m \u001b[38;5;28mcls\u001b[39m\u001b[38;5;241m.\u001b[39m_from_args(c_part \u001b[38;5;241m+\u001b[39m nc_part, is_commutative)\n",
            "File \u001b[1;32mC:\\ProgramData\\anaconda3\\Lib\\site-packages\\sympy\\core\\add.py:381\u001b[0m, in \u001b[0;36mAdd.flatten\u001b[1;34m(cls, seq)\u001b[0m\n\u001b[0;32m    378\u001b[0m             \u001b[38;5;28;01mbreak\u001b[39;00m\n\u001b[0;32m    380\u001b[0m \u001b[38;5;66;03m# order args canonically\u001b[39;00m\n\u001b[1;32m--> 381\u001b[0m _addsort(newseq)\n\u001b[0;32m    383\u001b[0m \u001b[38;5;66;03m# current code expects coeff to be first\u001b[39;00m\n\u001b[0;32m    384\u001b[0m \u001b[38;5;28;01mif\u001b[39;00m coeff \u001b[38;5;129;01mis\u001b[39;00m \u001b[38;5;129;01mnot\u001b[39;00m S\u001b[38;5;241m.\u001b[39mZero:\n",
            "File \u001b[1;32mC:\\ProgramData\\anaconda3\\Lib\\site-packages\\sympy\\core\\add.py:38\u001b[0m, in \u001b[0;36m_addsort\u001b[1;34m(args)\u001b[0m\n\u001b[0;32m     36\u001b[0m \u001b[38;5;28;01mdef\u001b[39;00m \u001b[38;5;21m_addsort\u001b[39m(args):\n\u001b[0;32m     37\u001b[0m     \u001b[38;5;66;03m# in-place sorting of args\u001b[39;00m\n\u001b[1;32m---> 38\u001b[0m     args\u001b[38;5;241m.\u001b[39msort(key\u001b[38;5;241m=\u001b[39m_args_sortkey)\n",
            "File \u001b[1;32mC:\\ProgramData\\anaconda3\\Lib\\site-packages\\sympy\\core\\basic.py:266\u001b[0m, in \u001b[0;36mBasic.compare\u001b[1;34m(self, other)\u001b[0m\n\u001b[0;32m    264\u001b[0m n1 \u001b[38;5;241m=\u001b[39m \u001b[38;5;28mself\u001b[39m\u001b[38;5;241m.\u001b[39m\u001b[38;5;18m__class__\u001b[39m\n\u001b[0;32m    265\u001b[0m n2 \u001b[38;5;241m=\u001b[39m other\u001b[38;5;241m.\u001b[39m\u001b[38;5;18m__class__\u001b[39m\n\u001b[1;32m--> 266\u001b[0m c \u001b[38;5;241m=\u001b[39m _old_compare(n1, n2)\n\u001b[0;32m    267\u001b[0m \u001b[38;5;28;01mif\u001b[39;00m c:\n\u001b[0;32m    268\u001b[0m     \u001b[38;5;28;01mreturn\u001b[39;00m c\n",
            "File \u001b[1;32mC:\\ProgramData\\anaconda3\\Lib\\site-packages\\sympy\\core\\basic.py:36\u001b[0m, in \u001b[0;36m_old_compare\u001b[1;34m(x, y)\u001b[0m\n\u001b[0;32m     30\u001b[0m     \u001b[38;5;28;01mexcept\u001b[39;00m SympifyError:\n\u001b[0;32m     31\u001b[0m         \u001b[38;5;28;01mraise\u001b[39;00m \u001b[38;5;167;01mTypeError\u001b[39;00m(\n\u001b[0;32m     32\u001b[0m             \u001b[38;5;124m'\u001b[39m\u001b[38;5;124mArgument must be a Basic object, not `\u001b[39m\u001b[38;5;132;01m%s\u001b[39;00m\u001b[38;5;124m`\u001b[39m\u001b[38;5;124m'\u001b[39m \u001b[38;5;241m%\u001b[39m func_name(\n\u001b[0;32m     33\u001b[0m             expr))\n\u001b[1;32m---> 36\u001b[0m \u001b[38;5;28;01mdef\u001b[39;00m \u001b[38;5;21m_old_compare\u001b[39m(x: \u001b[38;5;28mtype\u001b[39m, y: \u001b[38;5;28mtype\u001b[39m) \u001b[38;5;241m-\u001b[39m\u001b[38;5;241m>\u001b[39m \u001b[38;5;28mint\u001b[39m:\n\u001b[0;32m     37\u001b[0m     \u001b[38;5;66;03m# If the other object is not a Basic subclass, then we are not equal to it.\u001b[39;00m\n\u001b[0;32m     38\u001b[0m     \u001b[38;5;28;01mif\u001b[39;00m \u001b[38;5;129;01mnot\u001b[39;00m \u001b[38;5;28missubclass\u001b[39m(y, Basic):\n\u001b[0;32m     39\u001b[0m         \u001b[38;5;28;01mreturn\u001b[39;00m \u001b[38;5;241m-\u001b[39m\u001b[38;5;241m1\u001b[39m\n",
            "\u001b[1;31mKeyboardInterrupt\u001b[0m: "
          ]
        }
      ],
      "source": [
        "# E(X(X-1)) 계산\n",
        "summation(k*(k-1)*binomial(n,k)*p**k*(1-p)**(n-k),(k,1,n)).simplify()"
      ]
    },
    {
      "cell_type": "markdown",
      "id": "a35ca62e-31f7-4fe4-9759-265518d8b1e7",
      "metadata": {
        "id": "a35ca62e-31f7-4fe4-9759-265518d8b1e7"
      },
      "source": [
        "# 동전을 던져서 앞면이 나올 확률은 1/2이다. 100번을 던졌을 때 동전의 앞면이 20번이하로 나올 확률을 구하여라."
      ]
    },
    {
      "cell_type": "code",
      "execution_count": null,
      "id": "51ae7108-c846-45ee-8140-d1df03065c4d",
      "metadata": {
        "id": "51ae7108-c846-45ee-8140-d1df03065c4d",
        "outputId": "ee4bf2de-096b-4287-8980-18241b2ec80b"
      },
      "outputs": [
        {
          "data": {
            "text/latex": [
              "$\\displaystyle 5.57954452862598 \\cdot 10^{-10}$"
            ],
            "text/plain": [
              "5.57954452862598e-10"
            ]
          },
          "execution_count": 44,
          "metadata": {},
          "output_type": "execute_result"
        }
      ],
      "source": [
        "# P(X<=20) 직접구하기\n",
        "n,p=100,0.5\n",
        "summation(binomial(n,k)*p**k*(1-p)**(n-k),(k,0,20)).simplify()"
      ]
    },
    {
      "cell_type": "code",
      "execution_count": null,
      "id": "0cd03cfe-b52c-4ed5-9645-24800caec439",
      "metadata": {
        "tags": [],
        "id": "0cd03cfe-b52c-4ed5-9645-24800caec439",
        "outputId": "c4214cae-55df-4228-e5df-e2ff61663041"
      },
      "outputs": [
        {
          "data": {
            "text/latex": [
              "$\\displaystyle 5.57954452862598 \\cdot 10^{-10}$"
            ],
            "text/plain": [
              "5.57954452862598e-10"
            ]
          },
          "execution_count": 52,
          "metadata": {},
          "output_type": "execute_result"
        }
      ],
      "source": [
        "from sympy.stats import Binomial,P\n",
        "# 확률변수 X를 이항분포로 정의\n",
        "X=Binomial('X',100,1/2)\n",
        "P(X<=20)"
      ]
    },
    {
      "cell_type": "code",
      "execution_count": null,
      "id": "9ebdb45f-8d7b-4fe6-b49b-f116df838916",
      "metadata": {
        "tags": [],
        "id": "9ebdb45f-8d7b-4fe6-b49b-f116df838916",
        "outputId": "fd6df0ba-f13b-4420-8853-6eef7dac4344"
      },
      "outputs": [
        {
          "data": {
            "text/latex": [
              "$\\displaystyle \\begin{cases} 0.5^{n} 0.5^{100 - n} {\\binom{100}{n}} & \\text{for}\\: n \\leq 100 \\\\0 & \\text{otherwise} \\end{cases}$"
            ],
            "text/plain": [
              "Piecewise((0.5**n*0.5**(100 - n)*binomial(100, n), n <= 100), (0, True))"
            ]
          },
          "execution_count": 46,
          "metadata": {},
          "output_type": "execute_result"
        }
      ],
      "source": [
        "from sympy.stats import density\n",
        "# 확률질량함수 구하기\n",
        "n=symbols('n',integer=True,nonnegative=True)\n",
        "density(X)(n)"
      ]
    },
    {
      "cell_type": "code",
      "execution_count": null,
      "id": "d2243003-cf1f-4441-b49b-f14702d489c8",
      "metadata": {
        "tags": [],
        "id": "d2243003-cf1f-4441-b49b-f14702d489c8",
        "outputId": "5a77c77d-b56c-4d06-d480-473dc7fdfc47"
      },
      "outputs": [
        {
          "data": {
            "text/latex": [
              "$\\displaystyle 1.0$"
            ],
            "text/plain": [
              "1.00000000000000"
            ]
          },
          "execution_count": 28,
          "metadata": {},
          "output_type": "execute_result"
        }
      ],
      "source": [
        "# 확률값 검증\n",
        "P(X<=100)"
      ]
    },
    {
      "cell_type": "code",
      "execution_count": null,
      "id": "0ba02351-e038-4463-998d-91cab65783bd",
      "metadata": {
        "tags": [],
        "id": "0ba02351-e038-4463-998d-91cab65783bd",
        "outputId": "6fa79145-6e1b-4f01-9006-aa85f12589de"
      },
      "outputs": [
        {
          "data": {
            "text/latex": [
              "$\\displaystyle 0.5^{n} 0.5^{100 - n} {\\binom{100}{n}}$"
            ],
            "text/plain": [
              "0.5**n*0.5**(100 - n)*binomial(100, n)"
            ]
          },
          "execution_count": 47,
          "metadata": {},
          "output_type": "execute_result"
        }
      ],
      "source": [
        "out=density(X)(n)\n",
        "# 사용자 정의 함수로 정의\n",
        "f=lambda n: out.args[0][0]\n",
        "f(n)"
      ]
    },
    {
      "cell_type": "code",
      "execution_count": null,
      "id": "d39d786c-e186-4a15-8f32-bad071b68acd",
      "metadata": {
        "tags": [],
        "id": "d39d786c-e186-4a15-8f32-bad071b68acd",
        "outputId": "1a1e7f9a-33d2-448b-b107-63afd6561d10"
      },
      "outputs": [
        {
          "data": {
            "text/latex": [
              "$\\displaystyle 1.0$"
            ],
            "text/plain": [
              "1.00000000000000"
            ]
          },
          "execution_count": 48,
          "metadata": {},
          "output_type": "execute_result"
        }
      ],
      "source": [
        "from sympy import summation\n",
        "summation(f(n),(n,0,100))"
      ]
    },
    {
      "cell_type": "code",
      "execution_count": null,
      "id": "4323f4ba-95f9-414b-aa17-4b6c46a5e917",
      "metadata": {
        "id": "4323f4ba-95f9-414b-aa17-4b6c46a5e917",
        "outputId": "d67e51e6-0d9b-4013-d7ac-39ca5d6bc277"
      },
      "outputs": [
        {
          "data": {
            "text/latex": [
              "$\\displaystyle 5.57954452862598 \\cdot 10^{-10}$"
            ],
            "text/plain": [
              "5.57954452862598e-10"
            ]
          },
          "execution_count": 49,
          "metadata": {},
          "output_type": "execute_result"
        }
      ],
      "source": [
        "# P(X<=20) 구하기\n",
        "summation(f(n),(n,0,20))"
      ]
    },
    {
      "cell_type": "code",
      "execution_count": null,
      "id": "b53d12cf-e4da-44d2-8f17-3eae102e4683",
      "metadata": {
        "id": "b53d12cf-e4da-44d2-8f17-3eae102e4683",
        "outputId": "646ab5e5-a165-4d65-fdf5-f0874656f420"
      },
      "outputs": [
        {
          "data": {
            "text/plain": [
              "8"
            ]
          },
          "execution_count": 35,
          "metadata": {},
          "output_type": "execute_result"
        }
      ],
      "source": [
        "# def 함수 착성\n",
        "def hst_fun(x,y):\n",
        "    return x**2+y**2\n",
        "hst_fun(2,2)"
      ]
    },
    {
      "cell_type": "code",
      "execution_count": null,
      "id": "cc1e0ac3-774c-476e-894c-adb43e904efb",
      "metadata": {
        "tags": [],
        "id": "cc1e0ac3-774c-476e-894c-adb43e904efb",
        "outputId": "91769669-52ca-4727-8043-4ecc724f985e"
      },
      "outputs": [
        {
          "data": {
            "text/plain": [
              "8"
            ]
          },
          "execution_count": 37,
          "metadata": {},
          "output_type": "execute_result"
        }
      ],
      "source": [
        "# lambda 함수 작성\n",
        "hst_fun=lambda x,y: x**2+y**2\n",
        "hst_fun(2,2)"
      ]
    },
    {
      "cell_type": "code",
      "execution_count": null,
      "id": "323eca04-5ca0-449f-b7b2-7fbfdb50ac5b",
      "metadata": {
        "tags": [],
        "id": "323eca04-5ca0-449f-b7b2-7fbfdb50ac5b",
        "outputId": "4fb0654a-25db-4956-fe0b-5f4acf22193e"
      },
      "outputs": [
        {
          "data": {
            "text/latex": [
              "$\\displaystyle {\\binom{100}{n}}$"
            ],
            "text/plain": [
              "binomial(100, n)"
            ]
          },
          "execution_count": 32,
          "metadata": {},
          "output_type": "execute_result"
        }
      ],
      "source": [
        "from sympy import binomial\n",
        "# 서로 다른 100개에서 n개를 순서와 상관없이 고르는 방법\n",
        "binomial(100,n)"
      ]
    },
    {
      "cell_type": "code",
      "execution_count": null,
      "id": "54efe1b4-d09e-4a41-8162-ee5fc0754df9",
      "metadata": {
        "tags": [],
        "id": "54efe1b4-d09e-4a41-8162-ee5fc0754df9",
        "outputId": "553bab2f-1970-48f1-fbc3-1ff6b8a99792"
      },
      "outputs": [
        {
          "data": {
            "text/latex": [
              "$\\displaystyle 10$"
            ],
            "text/plain": [
              "10"
            ]
          },
          "execution_count": 33,
          "metadata": {},
          "output_type": "execute_result"
        }
      ],
      "source": [
        "# 서로 다른 5개에서 순서 무관 2개\n",
        "binomial(5,2)"
      ]
    },
    {
      "cell_type": "code",
      "execution_count": null,
      "id": "3bccf7a1-4568-4254-bca6-1dc350a69cc3",
      "metadata": {
        "tags": [],
        "id": "3bccf7a1-4568-4254-bca6-1dc350a69cc3",
        "outputId": "9c7950ee-2e2d-4637-d237-4b54d03b1153"
      },
      "outputs": [
        {
          "data": {
            "text/latex": [
              "$\\displaystyle 50.0$"
            ],
            "text/plain": [
              "50.0000000000000"
            ]
          },
          "execution_count": 54,
          "metadata": {},
          "output_type": "execute_result"
        }
      ],
      "source": [
        "from sympy.stats import E, variance\n",
        "# 평균 구하기\n",
        "E(X)"
      ]
    },
    {
      "cell_type": "code",
      "execution_count": null,
      "id": "a6a223e0-c339-4ff6-8931-565667e0b203",
      "metadata": {
        "tags": [],
        "id": "a6a223e0-c339-4ff6-8931-565667e0b203",
        "outputId": "48fcc044-ffb9-4733-e41c-1f3fbbbedb45"
      },
      "outputs": [
        {
          "data": {
            "text/latex": [
              "$\\displaystyle 25.0$"
            ],
            "text/plain": [
              "25.0000000000000"
            ]
          },
          "execution_count": 55,
          "metadata": {},
          "output_type": "execute_result"
        }
      ],
      "source": [
        "# 분산 구하기\n",
        "variance(X)"
      ]
    },
    {
      "cell_type": "markdown",
      "id": "05c69b75-0e86-4baf-89f4-b829b5e3c4b2",
      "metadata": {
        "id": "05c69b75-0e86-4baf-89f4-b829b5e3c4b2"
      },
      "source": [
        "### 어떤 항공기를 예약한 승객 중 탑승 당일 취소할 확률이 5%라고 한다. 50좌석의 항공기인데, 좌석은 52개가 팔렸다. 실제 이 항공기의 탑승객이 모두 좌석을 가질 확률은 얼마나 될까?"
      ]
    },
    {
      "cell_type": "code",
      "execution_count": null,
      "id": "36580d96-6beb-47c5-a21a-00a60e50d8a0",
      "metadata": {
        "id": "36580d96-6beb-47c5-a21a-00a60e50d8a0",
        "outputId": "8c624cd2-9e42-41cb-b29d-62ed7a66d428"
      },
      "outputs": [
        {
          "data": {
            "text/latex": [
              "$\\displaystyle 0.740503070879285$"
            ],
            "text/plain": [
              "0.740503070879285"
            ]
          },
          "execution_count": 69,
          "metadata": {},
          "output_type": "execute_result"
        }
      ],
      "source": [
        "X=Binomial('X',52,0.95)\n",
        "P(X<=50)"
      ]
    },
    {
      "cell_type": "markdown",
      "id": "2927ee41-0a92-4a64-a99a-645e07d2ef47",
      "metadata": {
        "id": "2927ee41-0a92-4a64-a99a-645e07d2ef47"
      },
      "source": [
        "### 한 시간 동안 평균적으로 5건의 전화가 오는 콜센터에서 특정 시간에 3건의 전화가 올 확률은 얼마나 될까?"
      ]
    },
    {
      "cell_type": "code",
      "execution_count": null,
      "id": "588c4f8e-0f51-4d33-9a42-3e1de7ff2d47",
      "metadata": {
        "id": "588c4f8e-0f51-4d33-9a42-3e1de7ff2d47",
        "outputId": "752de1f8-eeff-452e-d9f1-fd1ec0ab2b8d"
      },
      "outputs": [
        {
          "data": {
            "text/latex": [
              "$\\displaystyle 1$"
            ],
            "text/plain": [
              "1"
            ]
          },
          "execution_count": 2,
          "metadata": {},
          "output_type": "execute_result"
        }
      ],
      "source": [
        "from sympy import summation, symbols, factorial, exp, oo\n",
        "n,k=symbols('n k', integer=True,nonnegative=True)\n",
        "lamda=symbols('λ',positive=True)\n",
        "summation(exp(-lamda)*lamda**k/factorial(k),(k,0,oo))"
      ]
    },
    {
      "cell_type": "code",
      "execution_count": null,
      "id": "b04fab9b-418e-4976-9e94-5513d4085b94",
      "metadata": {
        "id": "b04fab9b-418e-4976-9e94-5513d4085b94",
        "outputId": "bc9535ce-18d4-4839-a9d0-252167382ae0"
      },
      "outputs": [
        {
          "data": {
            "text/latex": [
              "$\\displaystyle λ$"
            ],
            "text/plain": [
              "λ"
            ]
          },
          "execution_count": 3,
          "metadata": {},
          "output_type": "execute_result"
        }
      ],
      "source": [
        "# E(X) 구하기\n",
        "summation(k*exp(-lamda)*lamda**k/factorial(k),(k,0,oo))"
      ]
    },
    {
      "cell_type": "code",
      "execution_count": null,
      "id": "c7c002ff-0dab-45f8-adde-2cf5d2cfef7a",
      "metadata": {
        "id": "c7c002ff-0dab-45f8-adde-2cf5d2cfef7a",
        "outputId": "2bb38dfc-1621-4dcd-df66-53cbccb912ee"
      },
      "outputs": [
        {
          "data": {
            "text/latex": [
              "$\\displaystyle λ^{2}$"
            ],
            "text/plain": [
              "λ**2"
            ]
          },
          "execution_count": 6,
          "metadata": {},
          "output_type": "execute_result"
        }
      ],
      "source": [
        "# E(X(X-1)) 구하기\n",
        "S=summation(k*(k-1)*exp(-lamda)*lamda**k/factorial(k),(k,0,oo))\n",
        "S.simplify()"
      ]
    },
    {
      "cell_type": "code",
      "execution_count": null,
      "id": "7652fb50-70f7-47bc-bad8-6dc833f49874",
      "metadata": {
        "id": "7652fb50-70f7-47bc-bad8-6dc833f49874",
        "outputId": "bfa49599-bda2-49dd-f601-86143274eed8"
      },
      "outputs": [
        {
          "data": {
            "text/latex": [
              "$\\displaystyle \\frac{λ^{k} e^{- λ}}{k!}$"
            ],
            "text/plain": [
              "λ**k*exp(-λ)/factorial(k)"
            ]
          },
          "execution_count": 7,
          "metadata": {},
          "output_type": "execute_result"
        }
      ],
      "source": [
        "from sympy.stats import Poisson,density\n",
        "\n",
        "X=Poisson('X',lamda)\n",
        "density(X)(k)"
      ]
    },
    {
      "cell_type": "code",
      "execution_count": null,
      "id": "63ab8c09-a635-44ae-9ece-de7cb1de24bc",
      "metadata": {
        "id": "63ab8c09-a635-44ae-9ece-de7cb1de24bc",
        "outputId": "6b3ab15b-3c22-4cf7-8e52-dcf76fe17047"
      },
      "outputs": [
        {
          "data": {
            "text/plain": [
              "(λ, λ)"
            ]
          },
          "execution_count": 8,
          "metadata": {},
          "output_type": "execute_result"
        }
      ],
      "source": [
        "# 평균과 분산\n",
        "from sympy.stats import E,variance\n",
        "E(X),variance(X)"
      ]
    },
    {
      "cell_type": "code",
      "execution_count": null,
      "id": "c116556d-3266-4c7c-9ccf-501eb18eb0fb",
      "metadata": {
        "id": "c116556d-3266-4c7c-9ccf-501eb18eb0fb",
        "outputId": "abcefda7-0097-45fb-c598-ffb9fab6d4a2"
      },
      "outputs": [
        {
          "data": {
            "text/latex": [
              "$\\displaystyle \\frac{125}{6 e^{5}}$"
            ],
            "text/plain": [
              "125*exp(-5)/6"
            ]
          },
          "execution_count": 21,
          "metadata": {},
          "output_type": "execute_result"
        }
      ],
      "source": [
        "from sympy.stats import P\n",
        "from sympy import Eq\n",
        "\n",
        "X=Poisson('X',5)\n",
        "P(Eq(X,3))"
      ]
    },
    {
      "cell_type": "code",
      "execution_count": null,
      "id": "896f84d2-8461-49ae-9096-a9423675509d",
      "metadata": {
        "id": "896f84d2-8461-49ae-9096-a9423675509d",
        "outputId": "59d01cf5-fc79-4d9d-8be8-4cf79aa12ac7"
      },
      "outputs": [
        {
          "data": {
            "text/latex": [
              "$\\displaystyle 0.140373895814281$"
            ],
            "text/plain": [
              "0.140373895814281"
            ]
          },
          "execution_count": 23,
          "metadata": {},
          "output_type": "execute_result"
        }
      ],
      "source": [
        "from sympy import N\n",
        "# 직접계산하여 수치로 표현\n",
        "lamda,k=5,3\n",
        "out=exp(-lamda)*lamda**k/factorial(k)\n",
        "N(out)"
      ]
    },
    {
      "cell_type": "markdown",
      "id": "20e518f1-f1d5-4db0-9115-33fe0e6f8987",
      "metadata": {
        "id": "20e518f1-f1d5-4db0-9115-33fe0e6f8987"
      },
      "source": [
        "# 지수분포"
      ]
    },
    {
      "cell_type": "code",
      "execution_count": null,
      "id": "7f3c57d4-388b-4e8b-a80d-389604f3d9ba",
      "metadata": {
        "id": "7f3c57d4-388b-4e8b-a80d-389604f3d9ba",
        "outputId": "f5f4b74c-0402-4432-9ea2-2a6a58700b0a"
      },
      "outputs": [
        {
          "data": {
            "text/latex": [
              "$\\displaystyle \\begin{cases} 1 & \\text{for}\\: \\left|{\\arg{\\left(λ \\right)}}\\right| < \\frac{\\pi}{2} \\\\\\int\\limits_{0}^{\\infty} λ e^{- x λ}\\, dx & \\text{otherwise} \\end{cases}$"
            ],
            "text/plain": [
              "Piecewise((1, Abs(arg(λ)) < pi/2), (Integral(λ*exp(-x*λ), (x, 0, oo)), True))"
            ]
          },
          "execution_count": 37,
          "metadata": {},
          "output_type": "execute_result"
        }
      ],
      "source": [
        "from sympy import integrate, oo, exp\n",
        "\n",
        "lamda,x=symbols('λ x', nonnegative=True)\n",
        "integrate(lamda*exp(-lamda*x),(x,0,oo))"
      ]
    },
    {
      "cell_type": "code",
      "execution_count": null,
      "id": "c80e7b56-8a7d-43d0-bf09-8246e7a42b69",
      "metadata": {
        "id": "c80e7b56-8a7d-43d0-bf09-8246e7a42b69",
        "outputId": "6f8d2fda-e89b-402a-b034-b4779ee32547"
      },
      "outputs": [
        {
          "data": {
            "text/latex": [
              "$\\displaystyle λ e^{- x λ}$"
            ],
            "text/plain": [
              "λ*exp(-x*λ)"
            ]
          },
          "execution_count": 25,
          "metadata": {},
          "output_type": "execute_result"
        }
      ],
      "source": [
        "from sympy.stats import Exponential, density\n",
        "\n",
        "lamda,x=symbols('λ x', nonnegative=True)\n",
        "\n",
        "X=Exponential('X',lamda)\n",
        "density(X)(x)"
      ]
    },
    {
      "cell_type": "code",
      "execution_count": null,
      "id": "4e3e0ad2-d82a-42b5-a4fa-e76572bba04b",
      "metadata": {
        "id": "4e3e0ad2-d82a-42b5-a4fa-e76572bba04b",
        "outputId": "319bfd55-e529-46d9-e32a-ff29d2116d5a"
      },
      "outputs": [
        {
          "data": {
            "text/plain": [
              "(1/λ, λ**(-2))"
            ]
          },
          "execution_count": 26,
          "metadata": {},
          "output_type": "execute_result"
        }
      ],
      "source": [
        "# 평균, 분산\n",
        "E(X),variance(X)"
      ]
    },
    {
      "cell_type": "code",
      "execution_count": null,
      "id": "d18ee929-c385-4717-97b9-013f65c18c71",
      "metadata": {
        "id": "d18ee929-c385-4717-97b9-013f65c18c71",
        "outputId": "9cd455fd-8d1c-46ad-9d5b-9616dc18d880"
      },
      "outputs": [
        {
          "data": {
            "text/latex": [
              "$\\displaystyle 0.77686983985157$"
            ],
            "text/plain": [
              "0.776869839851570"
            ]
          },
          "execution_count": 40,
          "metadata": {},
          "output_type": "execute_result"
        }
      ],
      "source": [
        "# 포아송분포로 변환하여 풀기\n",
        "Y=Poisson('Y',(1/10)*15)\n",
        "1-P(Eq(Y,0))"
      ]
    },
    {
      "cell_type": "code",
      "execution_count": null,
      "id": "7c189418-35d4-4a6c-954c-f5fd5e699bb4",
      "metadata": {
        "id": "7c189418-35d4-4a6c-954c-f5fd5e699bb4",
        "outputId": "2b99ac57-d6c1-4487-a6ef-805e263e88ae"
      },
      "outputs": [
        {
          "data": {
            "text/latex": [
              "$\\displaystyle 0.77686983985157$"
            ],
            "text/plain": [
              "0.776869839851570"
            ]
          },
          "execution_count": 35,
          "metadata": {},
          "output_type": "execute_result"
        }
      ],
      "source": [
        "from sympy.stats import P\n",
        "X=Exponential('X',0.1)\n",
        "P(X<=15)"
      ]
    },
    {
      "cell_type": "markdown",
      "id": "8ac8a12d-99f5-4e0e-b611-6fb667a58a59",
      "metadata": {
        "id": "8ac8a12d-99f5-4e0e-b611-6fb667a58a59"
      },
      "source": [
        "# 정규분포"
      ]
    },
    {
      "cell_type": "code",
      "execution_count": null,
      "id": "c6e49246-1b17-436f-bbf2-6415bfac385b",
      "metadata": {
        "id": "c6e49246-1b17-436f-bbf2-6415bfac385b",
        "outputId": "3bbb5765-0ff0-4f7a-84df-27f897576ec5"
      },
      "outputs": [
        {
          "data": {
            "text/latex": [
              "$\\displaystyle \\frac{\\sqrt{2} e^{- \\frac{0.5 \\left(x - μ\\right)^{2}}{σ^{2}}}}{2 \\sqrt{\\pi} σ}$"
            ],
            "text/plain": [
              "sqrt(2)*exp(-0.5*(x - μ)**2/σ**2)/(2*sqrt(pi)*σ)"
            ]
          },
          "execution_count": 56,
          "metadata": {},
          "output_type": "execute_result"
        }
      ],
      "source": [
        "from sympy import integrate,oo,sqrt, pi, exp\n",
        "mu,x=symbols('μ x')\n",
        "sig=symbols('σ',positive=True)\n",
        "f=lambda x: (1/(sig*sqrt(2*pi)))*exp(-(1/2)*((x-mu)/sig)**2)\n",
        "f(x)"
      ]
    },
    {
      "cell_type": "code",
      "execution_count": null,
      "id": "d84a6518-2433-4787-918b-cb0772868854",
      "metadata": {
        "id": "d84a6518-2433-4787-918b-cb0772868854",
        "outputId": "603e43fb-70c8-429f-90cd-e3745d1b8560"
      },
      "outputs": [
        {
          "data": {
            "text/latex": [
              "$\\displaystyle 1.0$"
            ],
            "text/plain": [
              "1.00000000000000"
            ]
          },
          "execution_count": 58,
          "metadata": {},
          "output_type": "execute_result"
        }
      ],
      "source": [
        "# 학률값이 1이 되는지 검증\n",
        "integrate(f(x),(x,-oo,oo)).evalf()"
      ]
    },
    {
      "cell_type": "markdown",
      "id": "fe6af1f4-65b6-4722-b3a9-787e65b2f48a",
      "metadata": {
        "id": "fe6af1f4-65b6-4722-b3a9-787e65b2f48a"
      },
      "source": [
        "# 확률변수 X가 평균 4, 표준편차 3인 정규분포를 따른다고 할 때, X의 확률밀도 함수를 그리고, skewness와 kurtosis 등을 구해 보아라."
      ]
    },
    {
      "cell_type": "code",
      "execution_count": null,
      "id": "40cb83e1-917e-40bb-b440-e4ba38fd7f44",
      "metadata": {
        "id": "40cb83e1-917e-40bb-b440-e4ba38fd7f44",
        "outputId": "204a40eb-eee9-4240-84b1-87554f77b70e"
      },
      "outputs": [
        {
          "data": {
            "text/latex": [
              "$\\displaystyle \\frac{\\sqrt{2} e^{- \\frac{\\left(x - μ\\right)^{2}}{2 σ^{2}}}}{2 \\sqrt{\\pi} σ}$"
            ],
            "text/plain": [
              "sqrt(2)*exp(-(x - μ)**2/(2*σ**2))/(2*sqrt(pi)*σ)"
            ]
          },
          "execution_count": 59,
          "metadata": {},
          "output_type": "execute_result"
        }
      ],
      "source": [
        "from sympy.stats import Normal, density\n",
        "\n",
        "X=Normal('X',mu,sig)\n",
        "density(X)(x)"
      ]
    },
    {
      "cell_type": "code",
      "execution_count": null,
      "id": "474aa1ce-31db-4e3e-916d-b35cc3af4abc",
      "metadata": {
        "tags": [],
        "id": "474aa1ce-31db-4e3e-916d-b35cc3af4abc",
        "outputId": "dd9c2cce-2e8e-43a4-bbcc-ab49f9bafa9e"
      },
      "outputs": [
        {
          "data": {
            "text/plain": [
              "(4, 9)"
            ]
          },
          "execution_count": 60,
          "metadata": {},
          "output_type": "execute_result"
        }
      ],
      "source": [
        "# 평균 4, 표준편차 3인 정규분포 X 설정\n",
        "from sympy.stats import E, variance\n",
        "X=Normal('X',4,3)\n",
        "E(X),variance(X)"
      ]
    },
    {
      "cell_type": "code",
      "execution_count": null,
      "id": "921ccab5-759a-460d-8214-52eadd673bbd",
      "metadata": {
        "tags": [],
        "id": "921ccab5-759a-460d-8214-52eadd673bbd",
        "outputId": "d01e5df0-0faa-4ff9-ed19-88b4c2324e15"
      },
      "outputs": [
        {
          "data": {
            "text/latex": [
              "$\\displaystyle \\frac{\\sqrt{2} e^{- \\frac{\\left(x - 4\\right)^{2}}{18}}}{6 \\sqrt{\\pi}}$"
            ],
            "text/plain": [
              "sqrt(2)*exp(-(x - 4)**2/18)/(6*sqrt(pi))"
            ]
          },
          "execution_count": 61,
          "metadata": {},
          "output_type": "execute_result"
        }
      ],
      "source": [
        "f=lambda x: density(X)(x)\n",
        "f(x)"
      ]
    },
    {
      "cell_type": "code",
      "execution_count": null,
      "id": "1cc47124-f7d0-4282-904f-0331bd8e6efc",
      "metadata": {
        "tags": [],
        "id": "1cc47124-f7d0-4282-904f-0331bd8e6efc",
        "outputId": "7b015423-7f75-449d-bb72-747e6459e513"
      },
      "outputs": [
        {
          "data": {
            "image/png": "[encoded data removed]",
            "text/plain": [
              "<Figure size 300x300 with 1 Axes>"
            ]
          },
          "metadata": {},
          "output_type": "display_data"
        },
        {
          "data": {
            "text/plain": [
              "<sympy.plotting.plot.Plot at 0x16a6aa6f790>"
            ]
          },
          "execution_count": 63,
          "metadata": {},
          "output_type": "execute_result"
        }
      ],
      "source": [
        "from sympy import plot\n",
        "# sympy 내장함수 plot()을 이용하여 그래프로\n",
        "# 정의역 x는 -10에서 20까지 영역으로\n",
        "plot(density(X)(x),(x,-10,20),size=(3, 3))"
      ]
    },
    {
      "cell_type": "code",
      "execution_count": null,
      "id": "5b4b5d41-9345-4e02-910b-02f4ec3711eb",
      "metadata": {
        "tags": [],
        "id": "5b4b5d41-9345-4e02-910b-02f4ec3711eb",
        "outputId": "d4208b54-1fc0-4c73-ca2b-289e96663165"
      },
      "outputs": [
        {
          "data": {
            "text/latex": [
              "$\\displaystyle 0$"
            ],
            "text/plain": [
              "0"
            ]
          },
          "execution_count": 64,
          "metadata": {},
          "output_type": "execute_result"
        }
      ],
      "source": [
        "from sympy.stats import skewness,kurtosis\n",
        "skewness(X)"
      ]
    },
    {
      "cell_type": "code",
      "execution_count": null,
      "id": "de2f10fa-f6a4-492f-99a2-da7fe8c9328e",
      "metadata": {
        "id": "de2f10fa-f6a4-492f-99a2-da7fe8c9328e",
        "outputId": "a978dd69-cb79-4bc0-ddcb-0a7d5fa20003"
      },
      "outputs": [
        {
          "data": {
            "text/latex": [
              "$\\displaystyle 0$"
            ],
            "text/plain": [
              "0"
            ]
          },
          "execution_count": 67,
          "metadata": {},
          "output_type": "execute_result"
        }
      ],
      "source": [
        "# skewness 계산\n",
        "E(((X-4)/3)**3)"
      ]
    },
    {
      "cell_type": "code",
      "execution_count": null,
      "id": "471dd451-722a-4143-98d2-22f2c8b2cff9",
      "metadata": {
        "tags": [],
        "id": "471dd451-722a-4143-98d2-22f2c8b2cff9",
        "outputId": "6b138a20-2212-4c8c-d9c2-a6e67147625d"
      },
      "outputs": [
        {
          "data": {
            "text/latex": [
              "$\\displaystyle 3$"
            ],
            "text/plain": [
              "3"
            ]
          },
          "execution_count": 65,
          "metadata": {},
          "output_type": "execute_result"
        }
      ],
      "source": [
        "kurtosis(X)"
      ]
    },
    {
      "cell_type": "code",
      "execution_count": null,
      "id": "84413d8a-1a9d-4479-98e7-ee04be80ea12",
      "metadata": {
        "id": "84413d8a-1a9d-4479-98e7-ee04be80ea12",
        "outputId": "9f1e0bf1-e5b4-4bd5-ca73-9c32b663fca7"
      },
      "outputs": [
        {
          "data": {
            "text/latex": [
              "$\\displaystyle 3$"
            ],
            "text/plain": [
              "3"
            ]
          },
          "execution_count": 68,
          "metadata": {},
          "output_type": "execute_result"
        }
      ],
      "source": [
        "# kurtosis 계산\n",
        "E(((X-4)/3)**4)"
      ]
    },
    {
      "cell_type": "code",
      "execution_count": null,
      "id": "6e49c1f0-6835-4e40-b657-ef94d1929b0e",
      "metadata": {
        "tags": [],
        "id": "6e49c1f0-6835-4e40-b657-ef94d1929b0e",
        "outputId": "42f56427-5b25-419e-ec46-c216d76d81b0"
      },
      "outputs": [
        {
          "data": {
            "text/latex": [
              "$\\displaystyle 9$"
            ],
            "text/plain": [
              "9"
            ]
          },
          "execution_count": 44,
          "metadata": {},
          "output_type": "execute_result"
        }
      ],
      "source": [
        "st.E((X-4)**2) # 분산"
      ]
    },
    {
      "cell_type": "code",
      "execution_count": null,
      "id": "f9a1173d-ca48-4a82-9a7e-b61e298f9d2c",
      "metadata": {
        "tags": [],
        "id": "f9a1173d-ca48-4a82-9a7e-b61e298f9d2c",
        "outputId": "43956104-fb8a-4803-9256-76f4643756f6"
      },
      "outputs": [
        {
          "data": {
            "text/latex": [
              "$\\displaystyle 0$"
            ],
            "text/plain": [
              "0"
            ]
          },
          "execution_count": 46,
          "metadata": {},
          "output_type": "execute_result"
        }
      ],
      "source": [
        "st.E(((X-4)/3)**3) # skewness"
      ]
    },
    {
      "cell_type": "code",
      "execution_count": null,
      "id": "962d9d22-c485-491d-b3d7-947bca30f903",
      "metadata": {
        "tags": [],
        "id": "962d9d22-c485-491d-b3d7-947bca30f903",
        "outputId": "24ae5ca1-55da-489e-ee6c-e19e2c59d7b5"
      },
      "outputs": [
        {
          "data": {
            "text/latex": [
              "$\\displaystyle 3$"
            ],
            "text/plain": [
              "3"
            ]
          },
          "execution_count": 47,
          "metadata": {},
          "output_type": "execute_result"
        }
      ],
      "source": [
        "st.E(((X-4)/3)**4) # kurtosis"
      ]
    },
    {
      "cell_type": "code",
      "execution_count": null,
      "id": "fb894393-95df-429f-ad13-86dc85cbb406",
      "metadata": {
        "tags": [],
        "id": "fb894393-95df-429f-ad13-86dc85cbb406",
        "outputId": "85636177-5cf7-41e8-fa2d-190cf1e2e5b5"
      },
      "outputs": [
        {
          "data": {
            "text/latex": [
              "$\\displaystyle 0.841344746068543$"
            ],
            "text/plain": [
              "0.841344746068543"
            ]
          },
          "execution_count": 55,
          "metadata": {},
          "output_type": "execute_result"
        }
      ],
      "source": [
        "st.P(X>=1).evalf()"
      ]
    },
    {
      "cell_type": "code",
      "execution_count": null,
      "id": "408b8b7c-f649-4a28-92bc-b5236c82d4ba",
      "metadata": {
        "tags": [],
        "id": "408b8b7c-f649-4a28-92bc-b5236c82d4ba",
        "outputId": "9913f360-76d6-42b3-e4ea-a487a9d7f7ba"
      },
      "outputs": [
        {
          "data": {
            "text/plain": [
              "array([[ 1.28039774, -1.67775887,  4.60971552,  6.81007243,  2.80754458],\n",
              "       [-2.15131477,  2.80748263,  5.39552229, 11.64809185,  2.51650993]])"
            ]
          },
          "execution_count": 57,
          "metadata": {},
          "output_type": "execute_result"
        }
      ],
      "source": [
        "st.sample(X,size=(2,5))"
      ]
    },
    {
      "cell_type": "code",
      "execution_count": null,
      "id": "7a390968-d9c4-40d6-bf6b-1c320a5ccbcb",
      "metadata": {
        "tags": [],
        "id": "7a390968-d9c4-40d6-bf6b-1c320a5ccbcb",
        "outputId": "8b35a71c-f6a7-46d1-fe21-1ae047493d3c"
      },
      "outputs": [
        {
          "data": {
            "text/latex": [
              "$\\displaystyle \\frac{\\sqrt{2} e^{- \\frac{\\left(- \\mu + x\\right)^{2}}{2 \\sigma^{2}}}}{2 \\sqrt{\\pi} \\sigma}$"
            ],
            "text/plain": [
              "sqrt(2)*exp(-(-mu + x)**2/(2*sigma**2))/(2*sqrt(pi)*sigma)"
            ]
          },
          "execution_count": 15,
          "metadata": {},
          "output_type": "execute_result"
        }
      ],
      "source": [
        "mu=sp.symbols('mu')\n",
        "sigma=sp.symbols('sigma',positive=True)\n",
        "x=sp.symbols('x',real=True)\n",
        "X=st.Normal('X',mu,sigma)\n",
        "st.density(X)(x)"
      ]
    },
    {
      "cell_type": "markdown",
      "id": "efba9407-9304-416c-9dbe-04f6e34581c9",
      "metadata": {
        "id": "efba9407-9304-416c-9dbe-04f6e34581c9"
      },
      "source": [
        "### 어느 회사의 입사시험에서 전체 지원자 5000명의 시험 점수는 평균이 345점, 표준편차가 10점인 정규분포를 따른다고 한다. 점수가 365점 이상인 지원자는 몇 명이나 될까?"
      ]
    },
    {
      "cell_type": "code",
      "execution_count": null,
      "id": "ca023237-3350-4e19-9476-74034e945c26",
      "metadata": {
        "id": "ca023237-3350-4e19-9476-74034e945c26",
        "outputId": "fa76bbac-6c8d-457d-d0e3-fe5155a0d33b"
      },
      "outputs": [
        {
          "data": {
            "text/latex": [
              "$\\displaystyle 113.750659740896$"
            ],
            "text/plain": [
              "113.750659740896"
            ]
          },
          "execution_count": 72,
          "metadata": {},
          "output_type": "execute_result"
        }
      ],
      "source": [
        "X=Normal('X',345,10)\n",
        "P(X>=365).evalf()*5000"
      ]
    },
    {
      "cell_type": "code",
      "execution_count": null,
      "id": "883baa9d-7fd2-4235-9960-ee1294718ef9",
      "metadata": {
        "id": "883baa9d-7fd2-4235-9960-ee1294718ef9",
        "outputId": "e205e577-f7dd-4eba-bc4f-edd44f61dd89"
      },
      "outputs": [
        {
          "data": {
            "text/plain": [
              "(345, 100)"
            ]
          },
          "execution_count": 73,
          "metadata": {},
          "output_type": "execute_result"
        }
      ],
      "source": [
        "E(X),variance(X)"
      ]
    },
    {
      "cell_type": "code",
      "execution_count": null,
      "id": "02dc7027-5e10-4088-9be9-d8ae6672f35e",
      "metadata": {
        "tags": [],
        "id": "02dc7027-5e10-4088-9be9-d8ae6672f35e",
        "outputId": "982f79b4-e0e6-4e91-bbb7-ff6697884f39"
      },
      "outputs": [
        {
          "data": {
            "text/html": [
              "<div>\n",
              "<style scoped>\n",
              "    .dataframe tbody tr th:only-of-type {\n",
              "        vertical-align: middle;\n",
              "    }\n",
              "\n",
              "    .dataframe tbody tr th {\n",
              "        vertical-align: top;\n",
              "    }\n",
              "\n",
              "    .dataframe thead th {\n",
              "        text-align: right;\n",
              "    }\n",
              "</style>\n",
              "<table border=\"1\" class=\"dataframe\">\n",
              "  <thead>\n",
              "    <tr style=\"text-align: right;\">\n",
              "      <th></th>\n",
              "      <th>X1</th>\n",
              "      <th>X2</th>\n",
              "      <th>Prob</th>\n",
              "    </tr>\n",
              "  </thead>\n",
              "  <tbody>\n",
              "    <tr>\n",
              "      <th>0</th>\n",
              "      <td>1</td>\n",
              "      <td>1</td>\n",
              "      <td>0.027778</td>\n",
              "    </tr>\n",
              "    <tr>\n",
              "      <th>1</th>\n",
              "      <td>1</td>\n",
              "      <td>2</td>\n",
              "      <td>0.055556</td>\n",
              "    </tr>\n",
              "    <tr>\n",
              "      <th>2</th>\n",
              "      <td>1</td>\n",
              "      <td>3</td>\n",
              "      <td>0.083333</td>\n",
              "    </tr>\n",
              "    <tr>\n",
              "      <th>3</th>\n",
              "      <td>2</td>\n",
              "      <td>1</td>\n",
              "      <td>0.055556</td>\n",
              "    </tr>\n",
              "    <tr>\n",
              "      <th>4</th>\n",
              "      <td>2</td>\n",
              "      <td>2</td>\n",
              "      <td>0.111111</td>\n",
              "    </tr>\n",
              "    <tr>\n",
              "      <th>5</th>\n",
              "      <td>2</td>\n",
              "      <td>3</td>\n",
              "      <td>0.166667</td>\n",
              "    </tr>\n",
              "    <tr>\n",
              "      <th>6</th>\n",
              "      <td>3</td>\n",
              "      <td>1</td>\n",
              "      <td>0.083333</td>\n",
              "    </tr>\n",
              "    <tr>\n",
              "      <th>7</th>\n",
              "      <td>3</td>\n",
              "      <td>2</td>\n",
              "      <td>0.166667</td>\n",
              "    </tr>\n",
              "    <tr>\n",
              "      <th>8</th>\n",
              "      <td>3</td>\n",
              "      <td>3</td>\n",
              "      <td>0.250000</td>\n",
              "    </tr>\n",
              "  </tbody>\n",
              "</table>\n",
              "</div>"
            ],
            "text/plain": [
              "   X1  X2      Prob\n",
              "0   1   1  0.027778\n",
              "1   1   2  0.055556\n",
              "2   1   3  0.083333\n",
              "3   2   1  0.055556\n",
              "4   2   2  0.111111\n",
              "5   2   3  0.166667\n",
              "6   3   1  0.083333\n",
              "7   3   2  0.166667\n",
              "8   3   3  0.250000"
            ]
          },
          "execution_count": 75,
          "metadata": {},
          "output_type": "execute_result"
        }
      ],
      "source": [
        "import pandas as pd\n",
        "import numpy as np\n",
        "df=pd.DataFrame(data={'X1':[1,1,1,2,2,2,3,3,3],\n",
        "                      'X2':[1,2,3,1,2,3,1,2,3]})\n",
        "\n",
        "# 확률값을 계산하는 칼럼 추가\n",
        "df['Prob']=df.X1*df.X2/36\n",
        "df"
      ]
    },
    {
      "cell_type": "code",
      "execution_count": null,
      "id": "517fbc53-093b-4ceb-af01-f4c0c46f6bc2",
      "metadata": {
        "tags": [],
        "id": "517fbc53-093b-4ceb-af01-f4c0c46f6bc2",
        "outputId": "cc24d76c-64bf-41a5-e5bc-366878a1bb4d"
      },
      "outputs": [
        {
          "data": {
            "text/plain": [
              "1.0"
            ]
          },
          "execution_count": 59,
          "metadata": {},
          "output_type": "execute_result"
        }
      ],
      "source": [
        "df.Prob.sum()"
      ]
    },
    {
      "cell_type": "code",
      "execution_count": null,
      "id": "1453e1fa-40fa-45e0-ae1d-a6de370239e9",
      "metadata": {
        "tags": [],
        "id": "1453e1fa-40fa-45e0-ae1d-a6de370239e9",
        "outputId": "1e7fb5c6-e7d8-4e9c-fefd-9e249d74b788"
      },
      "outputs": [
        {
          "data": {
            "text/html": [
              "<div>\n",
              "<style scoped>\n",
              "    .dataframe tbody tr th:only-of-type {\n",
              "        vertical-align: middle;\n",
              "    }\n",
              "\n",
              "    .dataframe tbody tr th {\n",
              "        vertical-align: top;\n",
              "    }\n",
              "\n",
              "    .dataframe thead th {\n",
              "        text-align: right;\n",
              "    }\n",
              "</style>\n",
              "<table border=\"1\" class=\"dataframe\">\n",
              "  <thead>\n",
              "    <tr style=\"text-align: right;\">\n",
              "      <th></th>\n",
              "      <th>Prob</th>\n",
              "    </tr>\n",
              "    <tr>\n",
              "      <th>X1</th>\n",
              "      <th></th>\n",
              "    </tr>\n",
              "  </thead>\n",
              "  <tbody>\n",
              "    <tr>\n",
              "      <th>1</th>\n",
              "      <td>0.166667</td>\n",
              "    </tr>\n",
              "    <tr>\n",
              "      <th>2</th>\n",
              "      <td>0.333333</td>\n",
              "    </tr>\n",
              "    <tr>\n",
              "      <th>3</th>\n",
              "      <td>0.500000</td>\n",
              "    </tr>\n",
              "  </tbody>\n",
              "</table>\n",
              "</div>"
            ],
            "text/plain": [
              "        Prob\n",
              "X1          \n",
              "1   0.166667\n",
              "2   0.333333\n",
              "3   0.500000"
            ]
          },
          "execution_count": 76,
          "metadata": {},
          "output_type": "execute_result"
        }
      ],
      "source": [
        "# X1에 대한 marginal pmf\n",
        "df.pivot_table(values='Prob',index='X1',aggfunc='sum')"
      ]
    },
    {
      "cell_type": "code",
      "execution_count": null,
      "id": "5e565e9c-7f55-4800-bbc8-10eaa7615e0b",
      "metadata": {
        "tags": [],
        "id": "5e565e9c-7f55-4800-bbc8-10eaa7615e0b",
        "outputId": "851ddd57-6b9b-4cd4-b44f-f86af86c3728"
      },
      "outputs": [
        {
          "data": {
            "text/latex": [
              "$\\displaystyle \\frac{x_{1}}{6}$"
            ],
            "text/plain": [
              "x1/6"
            ]
          },
          "execution_count": 77,
          "metadata": {},
          "output_type": "execute_result"
        }
      ],
      "source": [
        "import sympy as sp\n",
        "x1,x2=sp.symbols('x1 x2',integer=True)\n",
        "p=lambda x1,x2: x1*x2/36 # joint pmf\n",
        "sp.summation(p(x1,x2),(x2,1,3))"
      ]
    },
    {
      "cell_type": "code",
      "execution_count": null,
      "id": "048041c0-c13d-4f64-9c70-eefcc9ede60a",
      "metadata": {
        "id": "048041c0-c13d-4f64-9c70-eefcc9ede60a",
        "outputId": "a14063aa-be8f-4ec8-b90a-a81fe2f414c4"
      },
      "outputs": [
        {
          "name": "stdout",
          "output_type": "stream",
          "text": [
            "x1=1,prob= 0.16666666666666666\n",
            "x1=2,prob= 0.3333333333333333\n",
            "x1=3,prob= 0.5\n"
          ]
        }
      ],
      "source": [
        "for i in range(3):\n",
        "    print(f'x1={i+1},prob=',(i+1)/6)"
      ]
    },
    {
      "cell_type": "code",
      "execution_count": null,
      "id": "5b3d44d0-e742-4e55-ac4c-8c4aa0f29f00",
      "metadata": {
        "id": "5b3d44d0-e742-4e55-ac4c-8c4aa0f29f00"
      },
      "outputs": [],
      "source": []
    }
  ],
  "metadata": {
    "kernelspec": {
      "display_name": "Python 3 (ipykernel)",
      "language": "python",
      "name": "python3"
    },
    "language_info": {
      "codemirror_mode": {
        "name": "ipython",
        "version": 3
      },
      "file_extension": ".py",
      "mimetype": "text/x-python",
      "name": "python",
      "nbconvert_exporter": "python",
      "pygments_lexer": "ipython3",
      "version": "3.10.12"
    },
    "colab": {
      "provenance": []
    }
  },
  "nbformat": 4,
  "nbformat_minor": 5
}