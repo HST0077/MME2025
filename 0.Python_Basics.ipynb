{
  "cells": [
    {
      "cell_type": "markdown",
      "metadata": {
        "id": "view-in-github",
        "colab_type": "text"
      },
      "source": [
        "<a href=\"https://colab.research.google.com/github/HST0077/MME2025/blob/main/0.Python_Basics.ipynb\" target=\"_parent\"><img src=\"https://colab.research.google.com/assets/colab-badge.svg\" alt=\"Open In Colab\"/></a>"
      ]
    },
    {
      "cell_type": "markdown",
      "source": [
        "## 필요한 라이브러리 설치"
      ],
      "metadata": {
        "id": "IEj5U5QPjrlJ"
      },
      "id": "IEj5U5QPjrlJ"
    },
    {
      "cell_type": "code",
      "source": [
        "!pip install hst_funcs"
      ],
      "metadata": {
        "colab": {
          "base_uri": "https://localhost:8080/"
        },
        "id": "vpviIWOGj4Wb",
        "outputId": "a3958492-eca7-4d70-ba20-4929aa01c393"
      },
      "id": "vpviIWOGj4Wb",
      "execution_count": 2,
      "outputs": [
        {
          "output_type": "stream",
          "name": "stdout",
          "text": [
            "Collecting hst_funcs\n",
            "  Downloading hst_funcs-0.0.10-py3-none-any.whl.metadata (417 bytes)\n",
            "Downloading hst_funcs-0.0.10-py3-none-any.whl (29 kB)\n",
            "Installing collected packages: hst_funcs\n",
            "Successfully installed hst_funcs-0.0.10\n"
          ]
        }
      ]
    },
    {
      "cell_type": "code",
      "source": [
        "import numpy as np # 별명으로 불러오기\n",
        "np.random.randint(1,100,size=5)"
      ],
      "metadata": {
        "colab": {
          "base_uri": "https://localhost:8080/"
        },
        "id": "PRisPK_xkOtg",
        "outputId": "d4e7aba7-e943-427a-c149-11a9cadf6bba"
      },
      "id": "PRisPK_xkOtg",
      "execution_count": 3,
      "outputs": [
        {
          "output_type": "execute_result",
          "data": {
            "text/plain": [
              "array([69, 76, 37,  5, 10])"
            ]
          },
          "metadata": {},
          "execution_count": 3
        }
      ]
    },
    {
      "cell_type": "code",
      "source": [
        "# numpy.random 패키지에서 randint 함수만 불러오기\n",
        "from numpy.random import randint\n",
        "randint(1,100,size=5)"
      ],
      "metadata": {
        "colab": {
          "base_uri": "https://localhost:8080/"
        },
        "id": "3SDrjDRxklzM",
        "outputId": "535490ad-1001-4fbb-f157-1d8735cdc732"
      },
      "id": "3SDrjDRxklzM",
      "execution_count": 4,
      "outputs": [
        {
          "output_type": "execute_result",
          "data": {
            "text/plain": [
              "array([66, 78, 52, 56, 70])"
            ]
          },
          "metadata": {},
          "execution_count": 4
        }
      ]
    },
    {
      "cell_type": "markdown",
      "source": [
        "# 숫자와 문자열의 이해"
      ],
      "metadata": {
        "id": "FqGmwZPgkzb2"
      },
      "id": "FqGmwZPgkzb2"
    },
    {
      "cell_type": "code",
      "execution_count": null,
      "id": "eafe4e7f-60ce-422b-8391-cc3bb7fd924b",
      "metadata": {
        "tags": [],
        "id": "eafe4e7f-60ce-422b-8391-cc3bb7fd924b",
        "outputId": "1a9e01c2-55cb-4c40-bf84-a2dd5040f9f8"
      },
      "outputs": [
        {
          "name": "stdout",
          "output_type": "stream",
          "text": [
            "3 3\n"
          ]
        }
      ],
      "source": [
        "a,b=3,'3'\n",
        "print(a,b)"
      ]
    },
    {
      "cell_type": "code",
      "execution_count": null,
      "id": "535b67d7-914f-4d86-83ac-493ace8a747e",
      "metadata": {
        "tags": [],
        "id": "535b67d7-914f-4d86-83ac-493ace8a747e",
        "outputId": "82095bef-6a40-473f-c2c2-e554f3b340d2"
      },
      "outputs": [
        {
          "data": {
            "text/plain": [
              "3"
            ]
          },
          "execution_count": 7,
          "metadata": {},
          "output_type": "execute_result"
        }
      ],
      "source": [
        "# int() 함수를 이용해 문자를 숫자로 변환\n",
        "b=int(b)\n",
        "b"
      ]
    },
    {
      "cell_type": "code",
      "execution_count": null,
      "id": "d662d1ae-764c-4dc5-ad76-9b9dce4d63cd",
      "metadata": {
        "tags": [],
        "id": "d662d1ae-764c-4dc5-ad76-9b9dce4d63cd",
        "outputId": "b1ea9ce8-aa85-4bd7-c44e-ee5e3bbbef4d"
      },
      "outputs": [
        {
          "data": {
            "text/plain": [
              "'3'"
            ]
          },
          "execution_count": 8,
          "metadata": {},
          "output_type": "execute_result"
        }
      ],
      "source": [
        "# str()함수를 이용해 숫자를 문자로 변환\n",
        "a=str(a)\n",
        "a"
      ]
    },
    {
      "cell_type": "markdown",
      "id": "778e4fd1-aeeb-46fa-8132-8934e483ece6",
      "metadata": {
        "id": "778e4fd1-aeeb-46fa-8132-8934e483ece6"
      },
      "source": [
        "# 1111….1111은 1이 2020번 반복된 큰 숫자이다. 이 숫자를 11,111,111로 나눈 나머지를 구해보아라."
      ]
    },
    {
      "cell_type": "code",
      "execution_count": 1,
      "id": "4731be3f-a777-4c68-8e91-174911890e67",
      "metadata": {
        "colab": {
          "base_uri": "https://localhost:8080/"
        },
        "id": "4731be3f-a777-4c68-8e91-174911890e67",
        "outputId": "5fc6804d-1406-491a-d111-f7ec001d62eb"
      },
      "outputs": [
        {
          "output_type": "execute_result",
          "data": {
            "text/plain": [
              "1111"
            ]
          },
          "metadata": {},
          "execution_count": 1
        }
      ],
      "source": [
        "B_N='1'*2020 # '1'이라는 문자를 2020번 반복한다.\n",
        "N=int(B_N) # B_N이란 문자열을 integer형으로 변환시킨다.\n",
        "N%11111111 # N을 11,111,111로 나눈 나머지를 구한다."
      ]
    },
    {
      "cell_type": "code",
      "execution_count": null,
      "id": "8a75ba4f-63ee-41de-8705-89c943637814",
      "metadata": {
        "id": "8a75ba4f-63ee-41de-8705-89c943637814",
        "outputId": "9bac10b6-941f-4130-ac8d-23dba9ccfac6"
      },
      "outputs": [
        {
          "data": {
            "text/plain": [
              "1243"
            ]
          },
          "execution_count": 7,
          "metadata": {},
          "output_type": "execute_result"
        }
      ],
      "source": [
        "A=\"1243\"\n",
        "int(A)"
      ]
    },
    {
      "cell_type": "code",
      "execution_count": null,
      "id": "7b9adfb0-5e3e-4690-90d0-2838e7840e34",
      "metadata": {
        "id": "7b9adfb0-5e3e-4690-90d0-2838e7840e34",
        "outputId": "87975174-9acf-44e9-9749-20c902a9e310"
      },
      "outputs": [
        {
          "data": {
            "text/plain": [
              "'1243'"
            ]
          },
          "execution_count": 9,
          "metadata": {},
          "output_type": "execute_result"
        }
      ],
      "source": [
        "str(1243)"
      ]
    },
    {
      "cell_type": "code",
      "execution_count": null,
      "id": "895a2a57",
      "metadata": {
        "id": "895a2a57",
        "outputId": "ae654d84-0e5b-4f35-c0f4-9d40b440961b"
      },
      "outputs": [
        {
          "data": {
            "text/plain": [
              "7"
            ]
          },
          "execution_count": 2,
          "metadata": {},
          "output_type": "execute_result"
        }
      ],
      "source": [
        "15//2 # 몫을 구함"
      ]
    },
    {
      "cell_type": "code",
      "execution_count": null,
      "id": "62749b97-b423-4524-96eb-4577fd37acfd",
      "metadata": {
        "id": "62749b97-b423-4524-96eb-4577fd37acfd",
        "outputId": "639b5789-f189-4388-fd88-8d5116ab54c8"
      },
      "outputs": [
        {
          "data": {
            "text/plain": [
              "3"
            ]
          },
          "execution_count": 3,
          "metadata": {},
          "output_type": "execute_result"
        }
      ],
      "source": [
        "15%4 # 나머지를 구함"
      ]
    },
    {
      "cell_type": "code",
      "execution_count": null,
      "id": "548e14cd-38a4-4dfb-af58-9df1b7bddb1e",
      "metadata": {
        "id": "548e14cd-38a4-4dfb-af58-9df1b7bddb1e",
        "outputId": "c3db99fd-8fb0-4525-dbb8-2b11a9caffb4"
      },
      "outputs": [
        {
          "data": {
            "text/plain": [
              "64"
            ]
          },
          "execution_count": 6,
          "metadata": {},
          "output_type": "execute_result"
        }
      ],
      "source": [
        "4**3 # 거듭제곱구하기"
      ]
    },
    {
      "cell_type": "code",
      "execution_count": null,
      "id": "489d1dc0-ac5a-4e11-a400-7760d97bb7d4",
      "metadata": {
        "id": "489d1dc0-ac5a-4e11-a400-7760d97bb7d4",
        "outputId": "0267d03c-3923-4f81-af30-d5bbfaffcad8"
      },
      "outputs": [
        {
          "data": {
            "text/plain": [
              "'컴퓨터파이썬'"
            ]
          },
          "execution_count": 14,
          "metadata": {},
          "output_type": "execute_result"
        }
      ],
      "source": [
        "a,b='컴퓨터','파이썬'\n",
        "a+b"
      ]
    },
    {
      "cell_type": "code",
      "execution_count": null,
      "id": "2bde1446-6182-4307-a100-381008ccb3ae",
      "metadata": {
        "id": "2bde1446-6182-4307-a100-381008ccb3ae",
        "outputId": "77691fb1-9763-4634-c21c-7081eca3f397"
      },
      "outputs": [
        {
          "data": {
            "text/plain": [
              "'컴퓨터컴퓨터컴퓨터'"
            ]
          },
          "execution_count": 15,
          "metadata": {},
          "output_type": "execute_result"
        }
      ],
      "source": [
        "a*3"
      ]
    },
    {
      "cell_type": "markdown",
      "id": "bce3aa4d-6621-4f93-aca8-af69e509bd7f",
      "metadata": {
        "id": "bce3aa4d-6621-4f93-aca8-af69e509bd7f"
      },
      "source": [
        "# 1부터 10000사이의 정수 1000개가 random하게 흩어져 있다. 이 숫자를 작은 순서대로 정렬하여 5번째의 숫자를 출력해 보자."
      ]
    },
    {
      "cell_type": "code",
      "execution_count": null,
      "id": "e338e75d-c846-4d45-9eb6-345cac216159",
      "metadata": {
        "tags": [],
        "id": "e338e75d-c846-4d45-9eb6-345cac216159",
        "outputId": "e6039c87-89ab-4566-b179-bc72f88e2b34"
      },
      "outputs": [
        {
          "name": "stdout",
          "output_type": "stream",
          "text": [
            "5번째 작은 수는 37 입니다\n",
            "5번째 큰 수는 9950 입니다.\n"
          ]
        }
      ],
      "source": [
        "import numpy as np # numpy라는 패키지를 np의 별명으로 불러온다.\n",
        "# numpy.random 아래에 있는 randint()함수를 호출한다.\n",
        "# randint(a,b,size=c)는 a부터 b-1까지의 정수를 c개 무작위 추출시킨다.\n",
        "D=np.random.randint(1,10000,size=1000)\n",
        "sort_1=sorted(D) # 오름차순 정렬\n",
        "sort_2=sorted(D,reverse=True) # 내림차순 정렬\n",
        "print('5번째 작은 수는',sort_1[4],'입니다')\n",
        "print('5번째 큰 수는',sort_2[4],'입니다.')"
      ]
    },
    {
      "cell_type": "markdown",
      "source": [
        "# 자료의 인덱싱과 슬라이싱"
      ],
      "metadata": {
        "id": "2qYxFWkUpt5A"
      },
      "id": "2qYxFWkUpt5A"
    },
    {
      "cell_type": "code",
      "source": [
        "D=np.random.randint(1,10,size=10)\n",
        "D"
      ],
      "metadata": {
        "colab": {
          "base_uri": "https://localhost:8080/"
        },
        "id": "ToYHEQoboffO",
        "outputId": "622bf1a0-f928-4e9d-f434-938259ca7b21"
      },
      "id": "ToYHEQoboffO",
      "execution_count": 7,
      "outputs": [
        {
          "output_type": "execute_result",
          "data": {
            "text/plain": [
              "array([6, 2, 7, 8, 2, 1, 7, 3, 8, 9])"
            ]
          },
          "metadata": {},
          "execution_count": 7
        }
      ]
    },
    {
      "cell_type": "code",
      "execution_count": 8,
      "id": "d4a08e8e-958e-4add-993a-7a05ec9f4521",
      "metadata": {
        "tags": [],
        "colab": {
          "base_uri": "https://localhost:8080/"
        },
        "id": "d4a08e8e-958e-4add-993a-7a05ec9f4521",
        "outputId": "9e60880d-3ca8-4dd9-a682-a3a4276891e3"
      },
      "outputs": [
        {
          "output_type": "execute_result",
          "data": {
            "text/plain": [
              "6"
            ]
          },
          "metadata": {},
          "execution_count": 8
        }
      ],
      "source": [
        "# 첫번째 숫자: 방법 1\n",
        "D[0]"
      ]
    },
    {
      "cell_type": "code",
      "execution_count": 9,
      "id": "7138d12a-b241-4b08-9b56-cb6296c3de15",
      "metadata": {
        "tags": [],
        "colab": {
          "base_uri": "https://localhost:8080/"
        },
        "id": "7138d12a-b241-4b08-9b56-cb6296c3de15",
        "outputId": "738da625-52a6-4f1b-b9bd-4d4bf2837066"
      },
      "outputs": [
        {
          "output_type": "execute_result",
          "data": {
            "text/plain": [
              "6"
            ]
          },
          "metadata": {},
          "execution_count": 9
        }
      ],
      "source": [
        "# # 첫번째 숫자: 방법 2\n",
        "D[-10]"
      ]
    },
    {
      "cell_type": "code",
      "execution_count": 10,
      "id": "b2f64c74-6ceb-4cb8-a121-aa3b2bf70410",
      "metadata": {
        "tags": [],
        "colab": {
          "base_uri": "https://localhost:8080/"
        },
        "id": "b2f64c74-6ceb-4cb8-a121-aa3b2bf70410",
        "outputId": "42408223-5854-442f-cc9d-35684ad166e0"
      },
      "outputs": [
        {
          "output_type": "execute_result",
          "data": {
            "text/plain": [
              "9"
            ]
          },
          "metadata": {},
          "execution_count": 10
        }
      ],
      "source": [
        "# 마지막 숫자: 방법 1\n",
        "D[9]"
      ]
    },
    {
      "cell_type": "code",
      "execution_count": 11,
      "id": "701c5509-d803-4b68-b6ba-e310d79f3d97",
      "metadata": {
        "tags": [],
        "colab": {
          "base_uri": "https://localhost:8080/"
        },
        "id": "701c5509-d803-4b68-b6ba-e310d79f3d97",
        "outputId": "3fd5c331-7f07-46fa-c32e-72687506a5e6"
      },
      "outputs": [
        {
          "output_type": "execute_result",
          "data": {
            "text/plain": [
              "9"
            ]
          },
          "metadata": {},
          "execution_count": 11
        }
      ],
      "source": [
        "# 마지막 숫자: 방법 2\n",
        "D[-1]"
      ]
    },
    {
      "cell_type": "code",
      "execution_count": 12,
      "id": "96fc3be4-02a3-4faa-894d-adaa123e3520",
      "metadata": {
        "tags": [],
        "colab": {
          "base_uri": "https://localhost:8080/"
        },
        "id": "96fc3be4-02a3-4faa-894d-adaa123e3520",
        "outputId": "9ed2abb0-71a0-4092-fd53-087894902de9"
      },
      "outputs": [
        {
          "output_type": "execute_result",
          "data": {
            "text/plain": [
              "array([6, 2, 7, 8, 2])"
            ]
          },
          "metadata": {},
          "execution_count": 12
        }
      ],
      "source": [
        "# 처음부터 5번째까지의 숫자\n",
        "D[:5]"
      ]
    },
    {
      "cell_type": "code",
      "execution_count": 13,
      "id": "7e68975d-36c3-4134-b56c-4c97201f3e37",
      "metadata": {
        "tags": [],
        "colab": {
          "base_uri": "https://localhost:8080/"
        },
        "id": "7e68975d-36c3-4134-b56c-4c97201f3e37",
        "outputId": "1cf0ca4a-d950-4b24-d928-4ac74ab552b9"
      },
      "outputs": [
        {
          "output_type": "execute_result",
          "data": {
            "text/plain": [
              "array([7, 8, 2])"
            ]
          },
          "metadata": {},
          "execution_count": 13
        }
      ],
      "source": [
        "# 3번째 부터 5번째까지의 숫자\n",
        "D[2:5]"
      ]
    },
    {
      "cell_type": "code",
      "execution_count": 14,
      "id": "8f7f0de0-cee4-4d1c-bda1-d0d1748dd427",
      "metadata": {
        "tags": [],
        "colab": {
          "base_uri": "https://localhost:8080/"
        },
        "id": "8f7f0de0-cee4-4d1c-bda1-d0d1748dd427",
        "outputId": "7378cff4-996f-4f36-e986-2b5333876c21"
      },
      "outputs": [
        {
          "output_type": "execute_result",
          "data": {
            "text/plain": [
              "array([1, 7, 3, 8, 9])"
            ]
          },
          "metadata": {},
          "execution_count": 14
        }
      ],
      "source": [
        "# 마지막 5개 숫자\n",
        "D[-5:]"
      ]
    },
    {
      "cell_type": "markdown",
      "source": [
        "# 자료형의 종류"
      ],
      "metadata": {
        "id": "1sV6Fj79p5RY"
      },
      "id": "1sV6Fj79p5RY"
    },
    {
      "cell_type": "code",
      "source": [
        "# 리스트(list)\n",
        "L=[1,2,3]\n",
        "L[0]"
      ],
      "metadata": {
        "colab": {
          "base_uri": "https://localhost:8080/"
        },
        "id": "KH6JkKeUp9NO",
        "outputId": "52a0e992-90a5-4298-90a2-d47a17d7add6"
      },
      "id": "KH6JkKeUp9NO",
      "execution_count": 16,
      "outputs": [
        {
          "output_type": "execute_result",
          "data": {
            "text/plain": [
              "1"
            ]
          },
          "metadata": {},
          "execution_count": 16
        }
      ]
    },
    {
      "cell_type": "code",
      "source": [
        "# Dictionary 자료형은 인덱싱을 문자열로 한다는 차이가 있다.\n",
        "A={'사과':0,'배':2,'오렌지':11} # 사과,배,오렌지는 key값이라고 부른다.\n",
        "A['사과']"
      ],
      "metadata": {
        "colab": {
          "base_uri": "https://localhost:8080/"
        },
        "id": "35d4-zxPqIrU",
        "outputId": "99a45359-4476-47cb-cfa6-30fd0fcdc19f"
      },
      "id": "35d4-zxPqIrU",
      "execution_count": 22,
      "outputs": [
        {
          "output_type": "execute_result",
          "data": {
            "text/plain": [
              "0"
            ]
          },
          "metadata": {},
          "execution_count": 22
        }
      ]
    },
    {
      "cell_type": "code",
      "source": [
        "# 튜플형(tuple)\n",
        "T=(1,2,3)\n",
        "T[0]"
      ],
      "metadata": {
        "colab": {
          "base_uri": "https://localhost:8080/"
        },
        "id": "iydQ04GxqiUS",
        "outputId": "7048f9c9-f8d6-4a7a-c750-78e1d86e9f94"
      },
      "id": "iydQ04GxqiUS",
      "execution_count": 20,
      "outputs": [
        {
          "output_type": "execute_result",
          "data": {
            "text/plain": [
              "1"
            ]
          },
          "metadata": {},
          "execution_count": 20
        }
      ]
    },
    {
      "cell_type": "code",
      "source": [
        "# 집합형(set)\n",
        "S1,S2={1,2,3},{3,4,5}\n",
        "StopAsyncIteration(S1)"
      ],
      "metadata": {
        "colab": {
          "base_uri": "https://localhost:8080/"
        },
        "id": "46YUcB48qoe_",
        "outputId": "07c5d3da-b785-47a3-dfee-0a9d13704ba5"
      },
      "id": "46YUcB48qoe_",
      "execution_count": 21,
      "outputs": [
        {
          "output_type": "execute_result",
          "data": {
            "text/plain": [
              "StopAsyncIteration({1, 2, 3})"
            ]
          },
          "metadata": {},
          "execution_count": 21
        }
      ]
    },
    {
      "cell_type": "markdown",
      "id": "7f7dd4a1-ff58-4668-8b2b-aecd0c38c717",
      "metadata": {
        "id": "7f7dd4a1-ff58-4668-8b2b-aecd0c38c717"
      },
      "source": [
        "# 집합 A={1,2,3}, 집합 B={3,4,5}라고 한다. 차집합 A-B, 합집합 A∪B, 교집합 A∩B 등을 구하여 보아라."
      ]
    },
    {
      "cell_type": "code",
      "execution_count": 24,
      "id": "9c98043c-f05d-4892-bafc-443c6b22efc4",
      "metadata": {
        "tags": [],
        "colab": {
          "base_uri": "https://localhost:8080/"
        },
        "id": "9c98043c-f05d-4892-bafc-443c6b22efc4",
        "outputId": "b700555c-636f-429b-d72c-f8f76d130f8f"
      },
      "outputs": [
        {
          "output_type": "execute_result",
          "data": {
            "text/plain": [
              "{1, 2}"
            ]
          },
          "metadata": {},
          "execution_count": 24
        }
      ],
      "source": [
        "A,B=[1,2,3],[3,4,5]\n",
        "# 내장함수 set()을 이용하여 집합으로 변형\n",
        "A,B=set(A),set(B)\n",
        "A-B"
      ]
    },
    {
      "cell_type": "code",
      "execution_count": null,
      "id": "9009ba79-2297-456d-9fa8-208bd1cf25f3",
      "metadata": {
        "tags": [],
        "id": "9009ba79-2297-456d-9fa8-208bd1cf25f3",
        "outputId": "43a97a65-41cd-4725-c93b-e11282d73166"
      },
      "outputs": [
        {
          "data": {
            "text/plain": [
              "{1, 2}"
            ]
          },
          "execution_count": 34,
          "metadata": {},
          "output_type": "execute_result"
        }
      ],
      "source": [
        "A,B={1,2,3},{3,4,5}\n",
        "A-B"
      ]
    },
    {
      "cell_type": "code",
      "execution_count": null,
      "id": "3640aff6-bbbd-4b31-8380-128542162d75",
      "metadata": {
        "tags": [],
        "id": "3640aff6-bbbd-4b31-8380-128542162d75",
        "outputId": "0618c9ba-1284-4b7a-a860-7fc266b0ddea"
      },
      "outputs": [
        {
          "data": {
            "text/plain": [
              "{1, 2, 3, 4, 5}"
            ]
          },
          "execution_count": 32,
          "metadata": {},
          "output_type": "execute_result"
        }
      ],
      "source": [
        "A.union(B) # 내장함수 union() 사용"
      ]
    },
    {
      "cell_type": "code",
      "execution_count": null,
      "id": "bb3b000d-c2b0-43ef-b255-98c4f6049fd5",
      "metadata": {
        "tags": [],
        "id": "bb3b000d-c2b0-43ef-b255-98c4f6049fd5",
        "outputId": "34471cf3-1cfc-4313-ddf9-e394cadc2561"
      },
      "outputs": [
        {
          "data": {
            "text/plain": [
              "{3}"
            ]
          },
          "execution_count": 33,
          "metadata": {},
          "output_type": "execute_result"
        }
      ],
      "source": [
        "A.intersection(B) # 내장함수 intersection() 사용"
      ]
    },
    {
      "cell_type": "code",
      "execution_count": 25,
      "id": "beb21bdc-768e-4960-a8ca-eeeb2f693196",
      "metadata": {
        "tags": [],
        "colab": {
          "base_uri": "https://localhost:8080/"
        },
        "id": "beb21bdc-768e-4960-a8ca-eeeb2f693196",
        "outputId": "7c4efa5f-9b03-48c6-c2e5-d33b14bf96cb"
      },
      "outputs": [
        {
          "output_type": "execute_result",
          "data": {
            "text/plain": [
              "[3, 4, 5]"
            ]
          },
          "metadata": {},
          "execution_count": 25
        }
      ],
      "source": [
        "# 자료형의 변환\n",
        "list(B)"
      ]
    },
    {
      "cell_type": "markdown",
      "source": [
        "# 행렬과 텐서"
      ],
      "metadata": {
        "id": "c4dHogRVtN5j"
      },
      "id": "c4dHogRVtN5j"
    },
    {
      "cell_type": "code",
      "source": [
        "# 행렬의 표현\n",
        "A=np.array([[1,2,3],[4,5,6]])\n",
        "A"
      ],
      "metadata": {
        "colab": {
          "base_uri": "https://localhost:8080/"
        },
        "id": "5cygTaY_tUJy",
        "outputId": "7a10d77a-9272-4c48-a608-008493101cb0"
      },
      "id": "5cygTaY_tUJy",
      "execution_count": 26,
      "outputs": [
        {
          "output_type": "execute_result",
          "data": {
            "text/plain": [
              "array([[1, 2, 3],\n",
              "       [4, 5, 6]])"
            ]
          },
          "metadata": {},
          "execution_count": 26
        }
      ]
    },
    {
      "cell_type": "code",
      "source": [
        "# 행렬의 표현 2\n",
        "from sympy import Matrix\n",
        "Matrix(A)"
      ],
      "metadata": {
        "colab": {
          "base_uri": "https://localhost:8080/",
          "height": 58
        },
        "id": "nwaGeT2ft9Gz",
        "outputId": "312bfe4a-a14a-4309-e816-834c1ac39d2f"
      },
      "id": "nwaGeT2ft9Gz",
      "execution_count": 27,
      "outputs": [
        {
          "output_type": "execute_result",
          "data": {
            "text/plain": [
              "Matrix([\n",
              "[1, 2, 3],\n",
              "[4, 5, 6]])"
            ],
            "text/latex": "$\\displaystyle \\left[\\begin{matrix}1 & 2 & 3\\\\4 & 5 & 6\\end{matrix}\\right]$"
          },
          "metadata": {},
          "execution_count": 27
        }
      ]
    },
    {
      "cell_type": "code",
      "source": [
        "# 3차원 텐서의 예\n",
        "B=np.array([[[1,2,3],[4,5,6]],[[7,8,9],[10,11,12]]])\n",
        "B"
      ],
      "metadata": {
        "colab": {
          "base_uri": "https://localhost:8080/"
        },
        "id": "iWX8GJxquEpA",
        "outputId": "e916ede1-845d-4d99-a3fd-5a090ee16c95"
      },
      "id": "iWX8GJxquEpA",
      "execution_count": 28,
      "outputs": [
        {
          "output_type": "execute_result",
          "data": {
            "text/plain": [
              "array([[[ 1,  2,  3],\n",
              "        [ 4,  5,  6]],\n",
              "\n",
              "       [[ 7,  8,  9],\n",
              "        [10, 11, 12]]])"
            ]
          },
          "metadata": {},
          "execution_count": 28
        }
      ]
    },
    {
      "cell_type": "markdown",
      "source": [
        "# 반복문과 제어문"
      ],
      "metadata": {
        "id": "AFM5sENiuPao"
      },
      "id": "AFM5sENiuPao"
    },
    {
      "cell_type": "code",
      "source": [
        "# range 이해하기\n",
        "for i in range(5):\n",
        "    print(i)"
      ],
      "metadata": {
        "colab": {
          "base_uri": "https://localhost:8080/"
        },
        "id": "PD8caK4evC8C",
        "outputId": "fcd41248-9017-4c4c-be26-92f900e1dcfb"
      },
      "id": "PD8caK4evC8C",
      "execution_count": 33,
      "outputs": [
        {
          "output_type": "stream",
          "name": "stdout",
          "text": [
            "0\n",
            "1\n",
            "2\n",
            "3\n",
            "4\n"
          ]
        }
      ]
    },
    {
      "cell_type": "code",
      "source": [
        "# range 이해하기\n",
        "for i in range(2,5):\n",
        "    print(i)"
      ],
      "metadata": {
        "colab": {
          "base_uri": "https://localhost:8080/"
        },
        "id": "GabsVNUPvKnl",
        "outputId": "05c9389f-9a51-4b16-ed44-4152fdb4db75"
      },
      "id": "GabsVNUPvKnl",
      "execution_count": 34,
      "outputs": [
        {
          "output_type": "stream",
          "name": "stdout",
          "text": [
            "2\n",
            "3\n",
            "4\n"
          ]
        }
      ]
    },
    {
      "cell_type": "code",
      "source": [
        "# range 이해하기\n",
        "for i in range(5,0,-1):\n",
        "    print(i)"
      ],
      "metadata": {
        "colab": {
          "base_uri": "https://localhost:8080/"
        },
        "id": "ZpMuJ6hdvPGj",
        "outputId": "471a4357-9486-438c-bd1f-66cefb9a24fe"
      },
      "id": "ZpMuJ6hdvPGj",
      "execution_count": 35,
      "outputs": [
        {
          "output_type": "stream",
          "name": "stdout",
          "text": [
            "5\n",
            "4\n",
            "3\n",
            "2\n",
            "1\n"
          ]
        }
      ]
    },
    {
      "cell_type": "code",
      "source": [
        "# 1부터 10까지 더하기\n",
        "sum=0\n",
        "for i in range(1,11):\n",
        "    sum=sum+i\n",
        "print(sum)"
      ],
      "metadata": {
        "colab": {
          "base_uri": "https://localhost:8080/"
        },
        "id": "IRgoRsQ7uORy",
        "outputId": "170b4257-4967-4ba4-ef91-2c65038c7c99"
      },
      "id": "IRgoRsQ7uORy",
      "execution_count": 29,
      "outputs": [
        {
          "output_type": "stream",
          "name": "stdout",
          "text": [
            "55\n"
          ]
        }
      ]
    },
    {
      "cell_type": "code",
      "source": [
        "# 1부터 20까지의 짝수 더하기: 방법 1\n",
        "sum=0\n",
        "for i in range(1,21):\n",
        "    if i%2==0:\n",
        "        sum=sum+i\n",
        "print(sum)"
      ],
      "metadata": {
        "colab": {
          "base_uri": "https://localhost:8080/"
        },
        "id": "jQyHRLqGubzj",
        "outputId": "991370d2-372f-4b90-829d-018beaf87b1e"
      },
      "id": "jQyHRLqGubzj",
      "execution_count": 30,
      "outputs": [
        {
          "output_type": "stream",
          "name": "stdout",
          "text": [
            "110\n"
          ]
        }
      ]
    },
    {
      "cell_type": "code",
      "source": [
        "# 1부터 20까지의 짝수 더하기: 방법 2\n",
        "sum=0\n",
        "for i in range(0,21,2):\n",
        "  sum=sum+i\n",
        "print(sum)"
      ],
      "metadata": {
        "colab": {
          "base_uri": "https://localhost:8080/"
        },
        "id": "sf46wdCfukm5",
        "outputId": "78a3b22c-bc66-4914-9570-138eab0c1185"
      },
      "id": "sf46wdCfukm5",
      "execution_count": 32,
      "outputs": [
        {
          "output_type": "stream",
          "name": "stdout",
          "text": [
            "110\n"
          ]
        }
      ]
    },
    {
      "cell_type": "code",
      "source": [
        "# for 와 in, not in 사용하기\n",
        "A,B=[1,2,3,4,5],[4,5,6,7]\n",
        "for i in A:\n",
        "  if i not in B:\n",
        "    print(i)"
      ],
      "metadata": {
        "colab": {
          "base_uri": "https://localhost:8080/"
        },
        "id": "pY3le3Q4xJ_Q",
        "outputId": "5db4fbf9-adb3-4ce9-d5ba-9c07d02da756"
      },
      "id": "pY3le3Q4xJ_Q",
      "execution_count": 41,
      "outputs": [
        {
          "output_type": "stream",
          "name": "stdout",
          "text": [
            "1\n",
            "2\n",
            "3\n"
          ]
        }
      ]
    },
    {
      "cell_type": "code",
      "source": [
        "# 자료형 안에서 사용하는 for 문\n",
        "A=[2*x for x in range(1,10,3)]\n",
        "A"
      ],
      "metadata": {
        "colab": {
          "base_uri": "https://localhost:8080/"
        },
        "id": "Z--DQCR8vjKB",
        "outputId": "18fc5e1c-f511-43f4-8522-0a8fb25c58d9"
      },
      "id": "Z--DQCR8vjKB",
      "execution_count": 36,
      "outputs": [
        {
          "output_type": "execute_result",
          "data": {
            "text/plain": [
              "[2, 8, 14]"
            ]
          },
          "metadata": {},
          "execution_count": 36
        }
      ]
    },
    {
      "cell_type": "code",
      "source": [
        "# while 문 예제\n",
        "sum,i=0,0\n",
        "while i <= 10:\n",
        "  sum=sum+i\n",
        "  i=i+1\n",
        "print(sum)"
      ],
      "metadata": {
        "colab": {
          "base_uri": "https://localhost:8080/"
        },
        "id": "8hvM-BkAy_VC",
        "outputId": "75ab7ee1-832b-48a3-f124-f12982269887"
      },
      "id": "8hvM-BkAy_VC",
      "execution_count": 43,
      "outputs": [
        {
          "output_type": "stream",
          "name": "stdout",
          "text": [
            "55\n"
          ]
        }
      ]
    },
    {
      "cell_type": "code",
      "source": [
        "# if, elif, else 구문으로 학점 판단하기\n",
        "\n",
        "score = int(input(\"점수를 입력하세요: \"))\n",
        "\n",
        "if score >= 90:\n",
        "    print(\"A 학점\")\n",
        "elif score >= 80:\n",
        "    print(\"B 학점\")\n",
        "elif score >= 70:\n",
        "    print(\"C 학점\")\n",
        "elif score >= 60:\n",
        "    print(\"D 학점\")\n",
        "else:\n",
        "    print(\"F 학점\")"
      ],
      "metadata": {
        "colab": {
          "base_uri": "https://localhost:8080/"
        },
        "id": "j14jHRCt1h5b",
        "outputId": "3615cbc4-3d3c-44a1-e543-e587d66eb2d5"
      },
      "id": "j14jHRCt1h5b",
      "execution_count": 45,
      "outputs": [
        {
          "output_type": "stream",
          "name": "stdout",
          "text": [
            "점수를 입력하세요: 85\n",
            "B 학점\n"
          ]
        }
      ]
    },
    {
      "cell_type": "markdown",
      "id": "7b4ee48a-6f5d-442a-b172-2596d1b8be83",
      "metadata": {
        "id": "7b4ee48a-6f5d-442a-b172-2596d1b8be83"
      },
      "source": [
        "# 아래와 같은 자료를 생성해 보아라."
      ]
    },
    {
      "cell_type": "code",
      "execution_count": 37,
      "id": "6c813fc1-7ccb-48ca-8a86-f3cc120c2aed",
      "metadata": {
        "tags": [],
        "colab": {
          "base_uri": "https://localhost:8080/"
        },
        "id": "6c813fc1-7ccb-48ca-8a86-f3cc120c2aed",
        "outputId": "b7952b38-3f33-47ec-9f5c-491c0a7ed036"
      },
      "outputs": [
        {
          "output_type": "execute_result",
          "data": {
            "text/plain": [
              "[[11, 12, 13, 14, 15, 16, 17, 18, 19, 20, 21],\n",
              " [12, 13, 14, 15, 16, 17, 18, 19, 20, 21, 22],\n",
              " [13, 14, 15, 16, 17, 18, 19, 20, 21, 22, 23],\n",
              " [14, 15, 16, 17, 18, 19, 20, 21, 22, 23, 24],\n",
              " [15, 16, 17, 18, 19, 20, 21, 22, 23, 24, 25],\n",
              " [16, 17, 18, 19, 20, 21, 22, 23, 24, 25, 26],\n",
              " [17, 18, 19, 20, 21, 22, 23, 24, 25, 26, 27],\n",
              " [18, 19, 20, 21, 22, 23, 24, 25, 26, 27, 28],\n",
              " [19, 20, 21, 22, 23, 24, 25, 26, 27, 28, 29],\n",
              " [20, 21, 22, 23, 24, 25, 26, 27, 28, 29, 30]]"
            ]
          },
          "metadata": {},
          "execution_count": 37
        }
      ],
      "source": [
        "# i는 10부터 20까지 1씩 증가\n",
        "# j는 1부터 10까지 1씩 증가\n",
        "[[i+j for i in range(10,21)] for j in range(1,11)]"
      ]
    },
    {
      "cell_type": "markdown",
      "id": "947024e8-3ba1-46ae-840f-99a15820fa16",
      "metadata": {
        "tags": [],
        "id": "947024e8-3ba1-46ae-840f-99a15820fa16"
      },
      "source": [
        "# C_pairs=[‘USDJPY’,’USDGBP’,’USDCHF’,’USDCAD’,’AUDUSD’,’NZDUSD’,’KRWUSD’,’KRWJPY’]는 여러나라의 화폐단위 정보가 Mixing되어 들어 있다. 몇 종류의 화폐 정보가 들어 있는지 출력해 보아라."
      ]
    },
    {
      "cell_type": "code",
      "source": [
        "# len() 함수의 이해\n",
        "D2=[(i,2*i) for i in range(10)]\n",
        "len(D2)"
      ],
      "metadata": {
        "colab": {
          "base_uri": "https://localhost:8080/"
        },
        "id": "xwDdES5V2nx7",
        "outputId": "dbe4449d-a103-43c4-b390-b948fa0741ef"
      },
      "id": "xwDdES5V2nx7",
      "execution_count": 49,
      "outputs": [
        {
          "output_type": "execute_result",
          "data": {
            "text/plain": [
              "10"
            ]
          },
          "metadata": {},
          "execution_count": 49
        }
      ]
    },
    {
      "cell_type": "code",
      "execution_count": 50,
      "id": "707afe69-3329-456c-a6e0-6505c270a988",
      "metadata": {
        "tags": [],
        "colab": {
          "base_uri": "https://localhost:8080/"
        },
        "id": "707afe69-3329-456c-a6e0-6505c270a988",
        "outputId": "13ae6657-427f-4297-e7a3-e3ff7b82a5fc"
      },
      "outputs": [
        {
          "output_type": "execute_result",
          "data": {
            "text/plain": [
              "1"
            ]
          },
          "metadata": {},
          "execution_count": 50
        }
      ],
      "source": [
        "D2=[[(i,2*i) for i in range(10)]]\n",
        "len(D2)"
      ]
    },
    {
      "cell_type": "code",
      "execution_count": 51,
      "id": "e443f742-5b31-4a4f-8da4-d064074af7b9",
      "metadata": {
        "tags": [],
        "colab": {
          "base_uri": "https://localhost:8080/"
        },
        "id": "e443f742-5b31-4a4f-8da4-d064074af7b9",
        "outputId": "7abad877-cfe3-47f7-d890-060053c549c5"
      },
      "outputs": [
        {
          "output_type": "execute_result",
          "data": {
            "text/plain": [
              "10"
            ]
          },
          "metadata": {},
          "execution_count": 51
        }
      ],
      "source": [
        "len(D2[0]) # D2의 첫번째에 들어 있는 원소의 개수"
      ]
    },
    {
      "cell_type": "code",
      "execution_count": 52,
      "id": "0c757481-56aa-4539-8e08-3d1bd032d768",
      "metadata": {
        "tags": [],
        "colab": {
          "base_uri": "https://localhost:8080/"
        },
        "id": "0c757481-56aa-4539-8e08-3d1bd032d768",
        "outputId": "9e3f5db9-3863-40a2-e299-e1f6b8f6557c"
      },
      "outputs": [
        {
          "output_type": "execute_result",
          "data": {
            "text/plain": [
              "(6, 3)"
            ]
          },
          "metadata": {},
          "execution_count": 52
        }
      ],
      "source": [
        "D4=[1,2,2,2,3,3] # 리스트 자료형\n",
        "D5=set(D4) # set 형태로 변환\n",
        "(len(D4),len(D5))"
      ]
    },
    {
      "cell_type": "code",
      "execution_count": null,
      "id": "2414b879-8977-4ebe-9cb5-9edf9266df61",
      "metadata": {
        "tags": [],
        "id": "2414b879-8977-4ebe-9cb5-9edf9266df61",
        "outputId": "605a29c6-3af0-4b3b-d625-537f2f8ce849"
      },
      "outputs": [
        {
          "name": "stdout",
          "output_type": "stream",
          "text": [
            "{'GBP', 'USD', 'CAD', 'KRW', 'AUD', 'JPY', 'CHF', 'NZD'}\n",
            "화폐의 종류는 총 8개입니다.\n"
          ]
        }
      ],
      "source": [
        "C_pairs=['USDJPY','USDGBP','USDCHF','USDCAD','AUDUSD','NZDUSD','KRWUSD','KRWJPY']\n",
        "L=[] # 빈 list 자료 생성\n",
        "for item in C_pairs: # C_pairs에 있는 item을 하나씩 가져와서\n",
        "    L.append(item[:3]) # item의 첫 세글자를 선택하여 L 리스트에 추가\n",
        "    L.append(item[-3:]) # item의 마지막 세글자를 L리스트에 추가\n",
        "L=set(L) # 리스트 L을 집합으로 바꾸면 중복되는 것들을 제거할 수 있다.\n",
        "print(L) # 집합 L 출력\n",
        "print('화폐의 종류는 총 {0}개입니다.'.format(len(L)))"
      ]
    },
    {
      "cell_type": "code",
      "execution_count": null,
      "id": "ace9d08c-d798-467a-9e2c-9c6089337a01",
      "metadata": {
        "tags": [],
        "id": "ace9d08c-d798-467a-9e2c-9c6089337a01",
        "outputId": "757d02fe-e615-494a-e342-6ec46c57ace5"
      },
      "outputs": [
        {
          "name": "stdout",
          "output_type": "stream",
          "text": [
            "출력되는 숫자는 0 입니다\n",
            "출력되는 숫자는 1 입니다\n",
            "출력되는 숫자는 2 입니다\n",
            "출력되는 숫자는 3 입니다\n",
            "출력되는 숫자는 4 입니다\n"
          ]
        }
      ],
      "source": [
        "# 연결해서 사용\n",
        "for i in range(5): #i를 0부터 4까지 증가\n",
        "    print('출력되는 숫자는', i, '입니다')"
      ]
    },
    {
      "cell_type": "code",
      "execution_count": null,
      "id": "b69a2f49-319d-423d-baba-3bab92b0ac78",
      "metadata": {
        "tags": [],
        "id": "b69a2f49-319d-423d-baba-3bab92b0ac78",
        "outputId": "92d15469-2633-4fd7-f543-09c331deda00"
      },
      "outputs": [
        {
          "name": "stdout",
          "output_type": "stream",
          "text": [
            "출력되는 숫자는 0입니다\n",
            "출력되는 숫자는 1입니다\n",
            "출력되는 숫자는 2입니다\n",
            "출력되는 숫자는 3입니다\n",
            "출력되는 숫자는 4입니다\n"
          ]
        }
      ],
      "source": [
        "# f''형태로 사용\n",
        "for i in range(5): #i를 0부터 4까지 증가\n",
        "    print(f'출력되는 숫자는 {i}입니다')"
      ]
    },
    {
      "cell_type": "code",
      "execution_count": null,
      "id": "391f0695-ea9a-4a0a-86e0-50df92b0ffec",
      "metadata": {
        "tags": [],
        "id": "391f0695-ea9a-4a0a-86e0-50df92b0ffec",
        "outputId": "d14ddae6-14bc-4242-d80d-f24da83618b7"
      },
      "outputs": [
        {
          "name": "stdout",
          "output_type": "stream",
          "text": [
            "출력되는 숫자는 0입니다\n",
            "출력되는 숫자는 1입니다\n",
            "출력되는 숫자는 2입니다\n",
            "출력되는 숫자는 3입니다\n",
            "출력되는 숫자는 4입니다\n"
          ]
        }
      ],
      "source": [
        "# format과 같이 사용\n",
        "for i in range(5): #i를 0부터 4까지 증가\n",
        "    print('출력되는 숫자는 {0}입니다'.format(i))"
      ]
    },
    {
      "cell_type": "code",
      "execution_count": null,
      "id": "3a01dfc0-fa64-4a83-8bf3-9aff0332e317",
      "metadata": {
        "tags": [],
        "id": "3a01dfc0-fa64-4a83-8bf3-9aff0332e317",
        "outputId": "bd1cf57c-8eb4-4d8c-ec0b-3e5300f49dbb"
      },
      "outputs": [
        {
          "name": "stdout",
          "output_type": "stream",
          "text": [
            "출력되는 숫자는 0 \n",
            "그리고 이 수의 2배인 0\n",
            "출력되는 숫자는 1 \n",
            "그리고 이 수의 2배인 2\n",
            "출력되는 숫자는 2 \n",
            "그리고 이 수의 2배인 4\n",
            "출력되는 숫자는 3 \n",
            "그리고 이 수의 2배인 6\n",
            "출력되는 숫자는 4 \n",
            "그리고 이 수의 2배인 8\n"
          ]
        }
      ],
      "source": [
        "for i in range(5): #i를 0부터 4까지 증가\n",
        "    print('출력되는 숫자는 {0} \\n그리고 이 수의 2배인 {1}'.format(i,2*i))"
      ]
    },
    {
      "cell_type": "markdown",
      "id": "85da2d7a-f4f4-40fb-aa2c-9d3037bfa584",
      "metadata": {
        "id": "85da2d7a-f4f4-40fb-aa2c-9d3037bfa584"
      },
      "source": [
        "# 아래와 같은 사전형의 자료가 있다. 사전의 key값에 해당하는 value 값을 모두 10배씩 바꾸려면 어떻게 해야 하는가?"
      ]
    },
    {
      "cell_type": "code",
      "execution_count": 53,
      "id": "3966863c-69ff-433f-b847-e314498a8b43",
      "metadata": {
        "tags": [],
        "colab": {
          "base_uri": "https://localhost:8080/"
        },
        "id": "3966863c-69ff-433f-b847-e314498a8b43",
        "outputId": "af22ba3f-2a1b-43c6-ce98-01d5fef9b4b6"
      },
      "outputs": [
        {
          "output_type": "execute_result",
          "data": {
            "text/plain": [
              "{'C00': 0.6271571770349901,\n",
              " 'C01': 0.15598570457406158,\n",
              " 'C02': 0.14583168704978233,\n",
              " 'C03': 0.14736328092952622,\n",
              " 'C04': 0.9721461926589238,\n",
              " 'C05': 0.18589544701775806,\n",
              " 'C06': 0.9882027762452303,\n",
              " 'C07': 0.03972531144693536,\n",
              " 'C08': 0.12342610695787193,\n",
              " 'C09': 0.5518695482246295}"
            ]
          },
          "metadata": {},
          "execution_count": 53
        }
      ],
      "source": [
        "import numpy as np\n",
        "dic={f'C0{i}':np.random.rand() for i in range(10)}\n",
        "dic"
      ]
    },
    {
      "cell_type": "code",
      "execution_count": null,
      "id": "9ac628b3-b308-4d90-ba4f-96a07a950207",
      "metadata": {
        "tags": [],
        "id": "9ac628b3-b308-4d90-ba4f-96a07a950207",
        "outputId": "8bd067a8-06bb-4886-d4e8-fe35c5a7b131"
      },
      "outputs": [
        {
          "data": {
            "text/plain": [
              "{'C00': 9.773725462810825,\n",
              " 'C01': 0.6347890962042713,\n",
              " 'C02': 2.3589006723320805,\n",
              " 'C03': 5.699004843210257,\n",
              " 'C04': 9.712382877250477,\n",
              " 'C05': 0.18380358352138026,\n",
              " 'C06': 8.42347168005328,\n",
              " 'C07': 3.0793618408109102,\n",
              " 'C08': 8.4532916726042,\n",
              " 'C09': 7.560001002869453}"
            ]
          },
          "execution_count": 14,
          "metadata": {},
          "output_type": "execute_result"
        }
      ],
      "source": [
        "# value 값을 모두 10배 하려면...\n",
        "# 아래 반복문에서 i에는 key값이, j에는 해당하는 value값이 읽어진다.\n",
        "for i,j in dic.items():\n",
        "    dic[i]=j*10\n",
        "dic"
      ]
    },
    {
      "cell_type": "markdown",
      "id": "2fa966d1-eb27-44c3-8624-0ee47e9ed92d",
      "metadata": {
        "tags": [],
        "id": "2fa966d1-eb27-44c3-8624-0ee47e9ed92d"
      },
      "source": [
        "# 1부터 10까지 더하여라."
      ]
    },
    {
      "cell_type": "code",
      "execution_count": null,
      "id": "6898a9b0-0dad-4b1a-a52e-7a719547adf5",
      "metadata": {
        "tags": [],
        "id": "6898a9b0-0dad-4b1a-a52e-7a719547adf5",
        "outputId": "ff2ebde6-31d3-4a0f-d85e-ab1f95f18a02"
      },
      "outputs": [
        {
          "name": "stdout",
          "output_type": "stream",
          "text": [
            "A\n",
            "B\n",
            "C\n",
            "D\n"
          ]
        }
      ],
      "source": [
        "# for 문의 형식\n",
        "L=['A','B','C','D']\n",
        "# L에 있는 원소들을 하나씩 변화시켜 가면서 모두 선택하고 끝낸다.\n",
        "for item in L: # 반드시 ':'을 뒤에 붙일 것!\n",
        "    print(item) # indentation 필요"
      ]
    },
    {
      "cell_type": "code",
      "execution_count": null,
      "id": "f53ef081-11c7-4793-bcf0-922899185856",
      "metadata": {
        "id": "f53ef081-11c7-4793-bcf0-922899185856",
        "outputId": "99090e97-46af-4291-c6a6-2a2ce8ea69e1"
      },
      "outputs": [
        {
          "data": {
            "text/plain": [
              "55"
            ]
          },
          "execution_count": 11,
          "metadata": {},
          "output_type": "execute_result"
        }
      ],
      "source": [
        "Ans=0\n",
        "# 반복문에서 사용하는 range(N)은 0부터 N-1까지 1씩 증가시킨다.\n",
        "for i in range(11): # 반드시 ':'을 조건 뒤에 붙일 것!\n",
        "    Ans=Ans+i\n",
        "Ans"
      ]
    },
    {
      "cell_type": "code",
      "execution_count": null,
      "id": "33cbcd43-8ef5-4dfe-a241-1fb7c5cf5351",
      "metadata": {
        "id": "33cbcd43-8ef5-4dfe-a241-1fb7c5cf5351",
        "outputId": "a144fb61-c9b1-4d85-cce6-d15a20977f00"
      },
      "outputs": [
        {
          "name": "stdout",
          "output_type": "stream",
          "text": [
            "D1= [0, 1, 2, 3, 4, 5, 6, 7, 8, 9, 10]\n",
            "D1 자료의 총합은: 55\n"
          ]
        }
      ],
      "source": [
        "import numpy as np\n",
        "# 리스트[]의 자료안에 for 문을 사용하여 자료를 미리 만든 후\n",
        "# numpy.sum() 함수를 활용해 답을 구한다.\n",
        "D1=[i for i in range(11)]\n",
        "print('D1=',D1)\n",
        "print('D1 자료의 총합은:',np.sum(D1))"
      ]
    },
    {
      "cell_type": "code",
      "execution_count": null,
      "id": "53e766b4-71e6-4bcf-97a8-dc0322d26a0d",
      "metadata": {
        "tags": [],
        "id": "53e766b4-71e6-4bcf-97a8-dc0322d26a0d",
        "outputId": "8cbc844a-62a6-4e64-88e6-8f64f520049c"
      },
      "outputs": [
        {
          "data": {
            "text/plain": [
              "55"
            ]
          },
          "execution_count": 17,
          "metadata": {},
          "output_type": "execute_result"
        }
      ],
      "source": [
        "# while 문의 사용\n",
        "i,Ans=1,0 # i=1, Ans=0을 대입\n",
        "while i <=10: # i가 10이하면 계속 수행, 문장 끝에 ':'붙인다.\n",
        "    Ans=Ans+i # 직전 Ans에 i를 더한다\n",
        "    i=i+1 # 직전 i에 1을 더한다.\n",
        "Ans"
      ]
    },
    {
      "cell_type": "markdown",
      "id": "011b0f29-91a6-48c5-887f-d1f1ad906877",
      "metadata": {
        "id": "011b0f29-91a6-48c5-887f-d1f1ad906877"
      },
      "source": [
        "# 1부터 1000까지의 자연수 중 3의 배수가 아닌 숫자들을 모두 더하여라."
      ]
    },
    {
      "cell_type": "code",
      "execution_count": null,
      "id": "484e653a-ebe0-4e43-9686-2b7872563f9f",
      "metadata": {
        "tags": [],
        "id": "484e653a-ebe0-4e43-9686-2b7872563f9f",
        "outputId": "2f1fa92f-61cf-4fea-a480-1c7699788046"
      },
      "outputs": [
        {
          "data": {
            "text/plain": [
              "333667"
            ]
          },
          "execution_count": 14,
          "metadata": {},
          "output_type": "execute_result"
        }
      ],
      "source": [
        "Ans=0\n",
        "# 반복문에서 사용되는 객체 range(a,b,c)는 a부터 b-1까지 c씩 증가하는 숫자를 만들어낸다.\n",
        "# range(a,b)는 a부터 b-1까지 1씩 증가하는 숫자를 만들어낸다.\n",
        "# range(a)는 0부터 시작해서 a-1까지 1씩 증가하는 숫자를 만들어낸다.\n",
        "for i in range(1,1001,1):\n",
        "    if i%3!=0: #i를 3으로 나눈 나머지가 0이 아니면 아래행 실행\n",
        "        Ans=Ans+i\n",
        "Ans"
      ]
    },
    {
      "cell_type": "code",
      "execution_count": null,
      "id": "2ba734fb-ecc5-4f4d-ab11-2bc014bd32c6",
      "metadata": {
        "tags": [],
        "id": "2ba734fb-ecc5-4f4d-ab11-2bc014bd32c6",
        "outputId": "a7c79ae0-0562-42f4-bf46-151a41e7527d"
      },
      "outputs": [
        {
          "name": "stdout",
          "output_type": "stream",
          "text": [
            "10보다 작은 숫자입니다\n"
          ]
        }
      ],
      "source": [
        "# if 문의 사용법\n",
        "num=9\n",
        "if num>10: # 뒤에 반드시 ':'을 붙여야 한다.\n",
        "    print('10보다 큰 숫자입니다') # indentation 사용\n",
        "elif num<10: # 뒤에 반드시 ':'을 붙여야 한다.\n",
        "    print('10보다 작은 숫자입니다')\n",
        "else: # 뒤에 반드시 ':'을 붙여야 한다.\n",
        "    print('10인 것 같습니다')\n"
      ]
    },
    {
      "cell_type": "markdown",
      "id": "1ba20c88-f9f6-4d56-b6b7-29d854bbb4d3",
      "metadata": {
        "id": "1ba20c88-f9f6-4d56-b6b7-29d854bbb4d3"
      },
      "source": [
        "![image.png](attachment:cb61e573-613b-49f4-a5c5-1206db6ece77.png)"
      ]
    },
    {
      "cell_type": "code",
      "execution_count": null,
      "id": "ac1ef58c-bb99-4409-ba3d-029b648f1ee4",
      "metadata": {
        "tags": [],
        "id": "ac1ef58c-bb99-4409-ba3d-029b648f1ee4",
        "outputId": "b8510238-c5fe-445f-a5a5-2938fcbd5379"
      },
      "outputs": [
        {
          "name": "stdout",
          "output_type": "stream",
          "text": [
            "1\n",
            "3\n",
            "5\n",
            "7\n",
            "9\n"
          ]
        }
      ],
      "source": [
        "# not in 연산자의 활용\n",
        "A=[i for i in range(1,11)] #1부터 10까지의 자연수\n",
        "B=[2*i for i in range(1,6)] # 2,4,6,8,10의 짝수\n",
        "for i in A: # A를 하나씩 증가시켜가면서 반복\n",
        "    if i not in B: # i가 만일 B에 없으면, 즉 홀수이면\n",
        "        print(i) # i 값을 출력"
      ]
    },
    {
      "cell_type": "code",
      "execution_count": null,
      "id": "3f80c736-b63b-4f49-bc96-1ff5cde897ed",
      "metadata": {
        "tags": [],
        "id": "3f80c736-b63b-4f49-bc96-1ff5cde897ed",
        "outputId": "26ead4d4-1316-4e0a-fe16-2f9a10832409"
      },
      "outputs": [
        {
          "data": {
            "text/plain": [
              "4"
            ]
          },
          "execution_count": 17,
          "metadata": {},
          "output_type": "execute_result"
        }
      ],
      "source": [
        "# 문장이 길 때 '\\'를 사용하여 줄바꿈 표시를 할 수 있다.\n",
        "D =\"햄릿은 윌리엄 셰익스피어의 대표작 중 하나입니다.\\\n",
        "햄릿은 왕자인 햄릿이 왕국의 문제와 자신의 내면 갈등을 다루는 이야기입니다.\\\n",
        "햄릿은 윌리엄 셰익스피어의 뛰어난 연극 작품 중 하나로 꼽힙니다.\"\n",
        "\n",
        "# len(D)는 문자열의 길이를 return 하는 내장함수\n",
        "Ans=0\n",
        "for i in range(len(D)): # 0부터 문자열 길이-1 까지 증가시킴\n",
        "    if D[i:i+2]=='햄릿': # 차례로 두 글자씩 선택해서 '햄릿'이면\n",
        "        Ans+=1 # Ans=Ans+1을 Ans +=1로 쓸 수 있음\n",
        "Ans"
      ]
    },
    {
      "cell_type": "code",
      "execution_count": null,
      "id": "eca75e16-1208-4bd0-90ef-0df6080d3f31",
      "metadata": {
        "tags": [],
        "id": "eca75e16-1208-4bd0-90ef-0df6080d3f31",
        "outputId": "5a94d895-c4a1-49b3-cbc2-b4a463a9bf22"
      },
      "outputs": [
        {
          "data": {
            "text/plain": [
              "str"
            ]
          },
          "execution_count": 21,
          "metadata": {},
          "output_type": "execute_result"
        }
      ],
      "source": [
        "# D라는 변수가 어떤 형태인지 확인하는 내장함수 type()을 사용\n",
        "type(D)"
      ]
    },
    {
      "cell_type": "code",
      "execution_count": null,
      "id": "df92860b-c1b2-49de-93f9-59f6de218f5b",
      "metadata": {
        "tags": [],
        "id": "df92860b-c1b2-49de-93f9-59f6de218f5b",
        "outputId": "205d4a74-6af5-476f-e075-a7819f01af96"
      },
      "outputs": [
        {
          "data": {
            "text/plain": [
              "105"
            ]
          },
          "execution_count": 24,
          "metadata": {},
          "output_type": "execute_result"
        }
      ],
      "source": [
        "len(D)"
      ]
    },
    {
      "cell_type": "code",
      "execution_count": null,
      "id": "b554164f-4b5b-4156-a2b1-8a95cf2dc4dd",
      "metadata": {
        "tags": [],
        "id": "b554164f-4b5b-4156-a2b1-8a95cf2dc4dd",
        "outputId": "8343125b-44a2-4ef9-afef-6dd359db574c"
      },
      "outputs": [
        {
          "data": {
            "text/plain": [
              "' '"
            ]
          },
          "execution_count": 25,
          "metadata": {},
          "output_type": "execute_result"
        }
      ],
      "source": [
        "# 빈칸을 세는지 확인\n",
        "D[3]"
      ]
    },
    {
      "cell_type": "code",
      "execution_count": null,
      "id": "b84bcad5-efc0-4109-ac18-0ebea01957e4",
      "metadata": {
        "tags": [],
        "id": "b84bcad5-efc0-4109-ac18-0ebea01957e4",
        "outputId": "96a657b9-bb58-4ac1-d37b-364e2491a87e"
      },
      "outputs": [
        {
          "data": {
            "text/plain": [
              "20"
            ]
          },
          "execution_count": 23,
          "metadata": {},
          "output_type": "execute_result"
        }
      ],
      "source": [
        "import numpy as np\n",
        "# 0포함 99까지의 자연수를 임의로 20 by 100 by 5 차원의 값으로 출력시킴\n",
        "D1=np.random.randint(100,size=(20,100,5))\n",
        "len(D1)"
      ]
    },
    {
      "cell_type": "code",
      "execution_count": null,
      "id": "99faf95e-b221-47d1-823b-597c3a844ea7",
      "metadata": {
        "tags": [],
        "id": "99faf95e-b221-47d1-823b-597c3a844ea7",
        "outputId": "1e97a991-9920-422a-9230-442512f410f3"
      },
      "outputs": [
        {
          "name": "stdout",
          "output_type": "stream",
          "text": [
            "문자열 D에서 '햄릿'의 개수: 4\n"
          ]
        }
      ],
      "source": [
        "# '햄릿'의 개수를 세기\n",
        "count_hamlet = D.count('햄릿')\n",
        "\n",
        "print(\"문자열 D에서 '햄릿'의 개수:\", count_hamlet)"
      ]
    },
    {
      "cell_type": "markdown",
      "id": "9cf8b5f6-16d4-4956-9f00-f7129359050a",
      "metadata": {
        "id": "9cf8b5f6-16d4-4956-9f00-f7129359050a"
      },
      "source": [
        "# 0,1,1,2,3,5,8,…과 같은 피보나치(Fibonacci) 수열의 합 중 10000보다 큰 수 중 가장 작은 수를 구하여라."
      ]
    },
    {
      "cell_type": "code",
      "execution_count": null,
      "id": "24270b93-fe95-4066-a261-37b8dfef1140",
      "metadata": {
        "tags": [],
        "id": "24270b93-fe95-4066-a261-37b8dfef1140",
        "outputId": "5cc685a8-7c1d-4630-9372-82c6207d8e44"
      },
      "outputs": [
        {
          "name": "stdout",
          "output_type": "stream",
          "text": [
            "20번째 수열까지의 합이 처음으로 10000을 넘었습니다. 그 값은 10945.0입니다.\n"
          ]
        }
      ],
      "source": [
        "# 피보나치 수열을 생성함과 동시에 부분합의 크기를 체크하면서 10000이 넘는 순간 중단 시킨다.\n",
        "import numpy as np\n",
        "F=np.zeros(10000) # 피보나치 수열 10000개를 담기 위한 numpy array를 만듭니다.\n",
        "F[0],F[1]=0,1 # F[0]=0, F[1]=1 값을 초기값으로 저장\n",
        "Ans=F[0]+F[1]\n",
        "for i in range(2,10001): # 2부터 시작해서 10000까지 1씩 증가시킨다.\n",
        "    F[i]=F[i-1]+F[i-2] # 피보나치 수열의 정의: 직전 2개의 항의 합으로 현재의 항을 생성\n",
        "    Ans+=F[i] # i번째 항까지의 부분합을 구한다.\n",
        "    if Ans > 10000: # 부분합이 10000을 넘는다면,\n",
        "        print(f'{i+1}번째 수열까지의 합이 처음으로 10000을 넘었습니다. 그 값은 {Ans}입니다.')\n",
        "        break # for 문을 exit 시킨다.\n"
      ]
    },
    {
      "cell_type": "code",
      "execution_count": null,
      "id": "fa536138-f928-47cd-96eb-c43381b2b02e",
      "metadata": {
        "tags": [],
        "id": "fa536138-f928-47cd-96eb-c43381b2b02e",
        "outputId": "ef9964c1-07e3-4f74-a0bb-5886eb84f503"
      },
      "outputs": [
        {
          "data": {
            "text/plain": [
              "10945.0"
            ]
          },
          "execution_count": 4,
          "metadata": {},
          "output_type": "execute_result"
        }
      ],
      "source": [
        "np.sum(F[:20]) # 처음 20개의 합"
      ]
    },
    {
      "cell_type": "code",
      "execution_count": null,
      "id": "1f4564e2-f9b2-4729-b7b6-3a6976b95bb7",
      "metadata": {
        "tags": [],
        "id": "1f4564e2-f9b2-4729-b7b6-3a6976b95bb7",
        "outputId": "d2e20f5f-8e4f-4fdf-faff-5aae4224ef51"
      },
      "outputs": [
        {
          "data": {
            "text/plain": [
              "6764.0"
            ]
          },
          "execution_count": 5,
          "metadata": {},
          "output_type": "execute_result"
        }
      ],
      "source": [
        "np.sum(F[:19]) # 처음 19개의 합"
      ]
    },
    {
      "cell_type": "code",
      "execution_count": null,
      "id": "e9c42883-2964-4d67-ae18-e69a817e4c9e",
      "metadata": {
        "tags": [],
        "id": "e9c42883-2964-4d67-ae18-e69a817e4c9e",
        "outputId": "e9461377-2a96-4196-ea93-b236ed38dfa0"
      },
      "outputs": [
        {
          "name": "stdout",
          "output_type": "stream",
          "text": [
            "a=5,b=10\n",
            "a= 5 b= 10\n",
            "b=10,a=5\n"
          ]
        }
      ],
      "source": [
        "# print(f'') 이해하기\n",
        "# 변수를 print()문과 함께 출력하는 방법은 여러가지가 있다.\n",
        "a,b=5,10 # a=5, b=10\n",
        "print(f'a={a},b={b}') # f'{}' 사용\n",
        "print('a=',a,'b=',b) # 분리해서 사용\n",
        "print('b={1},a={0}'.format(a,b)) # {}.format() 사용"
      ]
    },
    {
      "cell_type": "markdown",
      "id": "760fc0fb-9633-4965-b4e4-f0842f15e0ac",
      "metadata": {
        "id": "760fc0fb-9633-4965-b4e4-f0842f15e0ac"
      },
      "source": [
        "# 1부터 100까지 더할 때, 7로 끝나는 숫자를 제외하고 더하여 보아라."
      ]
    },
    {
      "cell_type": "code",
      "execution_count": null,
      "id": "9153e047-6d04-4da5-9230-ba9fead86eda",
      "metadata": {
        "tags": [],
        "id": "9153e047-6d04-4da5-9230-ba9fead86eda",
        "outputId": "13a6c2d5-3511-402d-e05f-a1b0601875cf"
      },
      "outputs": [
        {
          "data": {
            "text/plain": [
              "4530"
            ]
          },
          "execution_count": 8,
          "metadata": {},
          "output_type": "execute_result"
        }
      ],
      "source": [
        "Ans=0\n",
        "for i in range(101): #0부터 100까지 1씩 증가시킴\n",
        "    if str(i)[-1]=='7': # 숫자 i를 문자열로 만든 str(i)의 마지막 문자열 [-1]이 '7'이면\n",
        "        continue # 아무 것도 하지 않고 건너 뛴다\n",
        "    else:\n",
        "        Ans+=i # Ans의 기존값에 현재의 i를 더한다.\n",
        "Ans"
      ]
    },
    {
      "cell_type": "code",
      "execution_count": null,
      "id": "3f1d10e8-307b-497d-9cad-1c2464ea30e5",
      "metadata": {
        "tags": [],
        "id": "3f1d10e8-307b-497d-9cad-1c2464ea30e5",
        "outputId": "b974b708-809c-4fc5-a9bb-76549edd7e85"
      },
      "outputs": [
        {
          "data": {
            "text/plain": [
              "4530"
            ]
          },
          "execution_count": 9,
          "metadata": {},
          "output_type": "execute_result"
        }
      ],
      "source": [
        "# 위 결과의 검증\n",
        "A1=[i for i in range(1,101)] # 1부터 100까지를 list로 만든다.\n",
        "A2=[i*10+7 for i in range(10)] # 7,17,...,97의 list를 만든다.\n",
        "np.sum(A1)-np.sum(A2)"
      ]
    },
    {
      "cell_type": "markdown",
      "id": "e84d34f0-01a9-42a2-b822-f56c8f76620c",
      "metadata": {
        "id": "e84d34f0-01a9-42a2-b822-f56c8f76620c"
      },
      "source": [
        "# 사용자 정의 함수 만들기"
      ]
    },
    {
      "cell_type": "code",
      "execution_count": null,
      "id": "101b9414-bc18-471e-971b-050ead7cc3ec",
      "metadata": {
        "tags": [],
        "id": "101b9414-bc18-471e-971b-050ead7cc3ec",
        "outputId": "383a79ed-78ee-42dc-eaf6-2b9d6517d715"
      },
      "outputs": [
        {
          "data": {
            "text/plain": [
              "3"
            ]
          },
          "execution_count": 10,
          "metadata": {},
          "output_type": "execute_result"
        }
      ],
      "source": [
        "# 사용자 정의 함수 만들기\n",
        "# a 문자열에서 b 문자열의 개수를 반환하는 함수 만들기\n",
        "def ff(a,b): # def 함수이름(인자들): 의 형식을 취할 것\n",
        "    return a.count(b) #반환하거자 하는 값을 return 다음에 쓸 것\n",
        "\n",
        "# 사용자 정의 함수 호출하기\n",
        "ff('oh my mm god','m')"
      ]
    },
    {
      "cell_type": "code",
      "execution_count": null,
      "id": "eebc82f2-0d41-44b8-b547-2eb73114e11d",
      "metadata": {
        "tags": [],
        "id": "eebc82f2-0d41-44b8-b547-2eb73114e11d",
        "outputId": "a058cb4f-58eb-45cd-ef1c-e1a3d72c3f1b"
      },
      "outputs": [
        {
          "data": {
            "text/plain": [
              "1002"
            ]
          },
          "execution_count": 1,
          "metadata": {},
          "output_type": "execute_result"
        }
      ],
      "source": [
        "# 사용자의 정의 함수 만들기 예제 2\n",
        "# 인자 c=1000 이라는 디폴트 값을 정의할 수 있음.\n",
        "def hst(a,b,c=1000):\n",
        "    return a+b+c\n",
        "\n",
        "# c값을 입력하지 않으면 c=1000이라고 인식함\n",
        "hst(1,1)"
      ]
    },
    {
      "cell_type": "code",
      "execution_count": null,
      "id": "9af8751c-f501-45a9-9449-c111b7836e24",
      "metadata": {
        "tags": [],
        "id": "9af8751c-f501-45a9-9449-c111b7836e24",
        "outputId": "98d27588-a88e-405e-e5f3-7b1380193efc"
      },
      "outputs": [
        {
          "data": {
            "text/plain": [
              "3"
            ]
          },
          "execution_count": 2,
          "metadata": {},
          "output_type": "execute_result"
        }
      ],
      "source": [
        "# c 값을 입력하면 디폴트 값을 무시하게 됨\n",
        "hst(1,1,1)"
      ]
    },
    {
      "cell_type": "code",
      "execution_count": null,
      "id": "5ebe40a7-3779-4ed8-83ce-5d40cc227195",
      "metadata": {
        "id": "5ebe40a7-3779-4ed8-83ce-5d40cc227195",
        "outputId": "f0f7f353-8910-4240-9cd3-8c7487660284"
      },
      "outputs": [
        {
          "data": {
            "text/plain": [
              "8"
            ]
          },
          "execution_count": 3,
          "metadata": {},
          "output_type": "execute_result"
        }
      ],
      "source": [
        "# lamda를 이용한 inline 함수 작성\n",
        "f=lambda x,y:x**2+y**2\n",
        "f(2,2)"
      ]
    },
    {
      "cell_type": "markdown",
      "id": "39af8561-d5ec-4c4c-a679-8c9872c113ae",
      "metadata": {
        "id": "39af8561-d5ec-4c4c-a679-8c9872c113ae"
      },
      "source": [
        "## 에라토스테네스의 체"
      ]
    },
    {
      "cell_type": "code",
      "execution_count": null,
      "id": "14a99f3b-6ec5-414c-903c-04d3d70d5426",
      "metadata": {
        "id": "14a99f3b-6ec5-414c-903c-04d3d70d5426",
        "outputId": "f24a58bd-ef28-4490-b533-7c1fd2cc37ad"
      },
      "outputs": [
        {
          "name": "stdout",
          "output_type": "stream",
          "text": [
            "10000 이하의 소수의 개수: 1229\n",
            "Elapsed time is 66.485364 seconds.\n"
          ]
        }
      ],
      "source": [
        "from pytictoc impot TicToc\n",
        "import numpy as np\n",
        "timer=TicToc() # 시간측정 객체 만들기\n",
        "timer.tic() # 측정 시작\n",
        "n=10000\n",
        "G_pot=[] # 소수 리스트\n",
        "for i in range(2,n+1):\n",
        "    i_pot=[] # i의 약수 리스트\n",
        "    for j in range(1,i+1):\n",
        "        if np.mod(i,j)==0: #j는 i의 약수\n",
        "            i_pot.append(j)\n",
        "    if len(i_pot) == 2:\n",
        "        G_pot.append(i)\n",
        "print(f\"{n} 이하의 소수의 개수: {len(G_pot)}\")\n",
        "timer.toc() # 측정후 시간 출력"
      ]
    },
    {
      "cell_type": "code",
      "execution_count": null,
      "id": "26f132b4-2506-4bc4-b877-ec596e92e943",
      "metadata": {
        "id": "26f132b4-2506-4bc4-b877-ec596e92e943"
      },
      "outputs": [],
      "source": [
        "def sieve_of_eratosthenes(n):\n",
        "    # 0부터 n까지 모두 True인 리스트 생성\n",
        "    is_prime = [True] * (n + 1)\n",
        "\n",
        "    # 첫번째, 두번째는 False로 설정\n",
        "    is_prime[0] = is_prime[1] = False\n",
        "\n",
        "    # 세번째 부터 n의 절반(자연수)까지\n",
        "    for i in range(2, int(n**0.5) + 1):\n",
        "        if is_prime[i]: # i번째가 True이면\n",
        "            # i,2i,3i,....를 모두 False로 설정\n",
        "            for j in range(i * i, n + 1, i):\n",
        "                is_prime[j] = False\n",
        "    # is_prime의 index(num),값(prime)을 하나씩 빼서\n",
        "    # prime이 True면 index만 추출\n",
        "    primes = [num for num, prime in enumerate(is_prime) if prime]\n",
        "    return primes # 총 index를 리턴"
      ]
    },
    {
      "cell_type": "code",
      "execution_count": null,
      "id": "08264140-68cc-40cb-a95f-12b2504ba343",
      "metadata": {
        "id": "08264140-68cc-40cb-a95f-12b2504ba343",
        "outputId": "f2dd1b83-a094-4c50-e494-139f38355a7d"
      },
      "outputs": [
        {
          "name": "stdout",
          "output_type": "stream",
          "text": [
            "10000 이하의 소수의 개수: 1229\n",
            "Elapsed time is 0.002025 seconds.\n"
          ]
        }
      ],
      "source": [
        "# 사용 예시\n",
        "n = 10000\n",
        "timer.tic()\n",
        "result = sieve_of_eratosthenes(n)\n",
        "print(f\"{n} 이하의 소수의 개수: {len(result)}\")\n",
        "\n",
        "timer.toc()"
      ]
    },
    {
      "cell_type": "code",
      "execution_count": null,
      "id": "a50d3151-ec0a-4795-8671-79a38da9a47a",
      "metadata": {
        "id": "a50d3151-ec0a-4795-8671-79a38da9a47a",
        "outputId": "057a7ca9-75b2-4c68-f050-534afe369242"
      },
      "outputs": [
        {
          "name": "stdout",
          "output_type": "stream",
          "text": [
            "10000 이하의 소수의 개수: 78498\n",
            "Elapsed time is 0.169341 seconds.\n"
          ]
        }
      ],
      "source": [
        "timer.tic()\n",
        "result = sieve_of_eratosthenes(1000000)\n",
        "print(f\"{n} 이하의 소수의 개수: {len(result)}\")\n",
        "timer.toc()"
      ]
    },
    {
      "cell_type": "markdown",
      "id": "662d9077-59ae-4d02-97a8-b4fb808f57dd",
      "metadata": {
        "id": "662d9077-59ae-4d02-97a8-b4fb808f57dd"
      },
      "source": [
        "## 하노이 타워"
      ]
    },
    {
      "cell_type": "markdown",
      "id": "d5685e82-e318-472e-b886-5db34910f98e",
      "metadata": {
        "id": "d5685e82-e318-472e-b886-5db34910f98e"
      },
      "source": [
        "![image.png](attachment:df4e091f-54b5-4909-ba43-e5d8ddd1b784.png)"
      ]
    },
    {
      "cell_type": "code",
      "execution_count": null,
      "id": "ee0c7c22-5ac3-47aa-a320-eff7bd215cc5",
      "metadata": {
        "tags": [],
        "id": "ee0c7c22-5ac3-47aa-a320-eff7bd215cc5"
      },
      "outputs": [],
      "source": [
        "# Recursive Python function to solve the tower of hanoi\n",
        "Min_Move=0\n",
        "def TowerOfHanoi(n , source, destination, auxiliary):\n",
        "    if n==1: # 만일 n=1이면 한번에 끝난다.\n",
        "        print (f'1 번째 원반을 {source}에서 {destination}으로 옮긴다')\n",
        "        return # 리턴 값이 없으면 그냥 공란으로 두면 된다.\n",
        "    # 만일 n>=2이면 n-1개를 먼저 2번기둥으로 옮기는 문제를 풀고\n",
        "    TowerOfHanoi(n-1, source, auxiliary, destination)\n",
        "    # n번째 원반을 3번기둥으로 옮긴다.\n",
        "    print (f'{n} 번째 원반을 {source}에서 {destination}으로 옮긴다')\n",
        "    # 2번 기둥에 있던 n-1개의 원반을 이제 3번 기둥으로 옮긴다\n",
        "    TowerOfHanoi(n-1, auxiliary, destination, source)"
      ]
    },
    {
      "cell_type": "code",
      "execution_count": null,
      "id": "697738c3-139e-49fc-98b7-67cfea4ce953",
      "metadata": {
        "tags": [],
        "id": "697738c3-139e-49fc-98b7-67cfea4ce953",
        "outputId": "8461792b-ec06-46bf-df26-f3f76d5ec124"
      },
      "outputs": [
        {
          "name": "stdout",
          "output_type": "stream",
          "text": [
            "1 번째 원반을 1번기둥에서 3번기둥으로 옮긴다\n",
            "2 번째 원반을 1번기둥에서 2번기둥으로 옮긴다\n",
            "1 번째 원반을 3번기둥에서 2번기둥으로 옮긴다\n",
            "3 번째 원반을 1번기둥에서 3번기둥으로 옮긴다\n",
            "1 번째 원반을 2번기둥에서 1번기둥으로 옮긴다\n",
            "2 번째 원반을 2번기둥에서 3번기둥으로 옮긴다\n",
            "1 번째 원반을 1번기둥에서 3번기둥으로 옮긴다\n"
          ]
        }
      ],
      "source": [
        "# 하노이 타워 문제 풀기\n",
        "n = 3\n",
        "TowerOfHanoi(n,'1번기둥','3번기둥','2번기둥')"
      ]
    },
    {
      "cell_type": "code",
      "execution_count": null,
      "id": "3d8fff6c-9d02-4987-a3b3-d6b0d9a61a19",
      "metadata": {
        "tags": [],
        "id": "3d8fff6c-9d02-4987-a3b3-d6b0d9a61a19",
        "outputId": "ec0d9769-c1c0-431a-cfca-0a001cd05714"
      },
      "outputs": [
        {
          "data": {
            "text/plain": [
              "15"
            ]
          },
          "execution_count": 25,
          "metadata": {},
          "output_type": "execute_result"
        }
      ],
      "source": [
        "# 최소 움직임 회수만 계산해 보자.\n",
        "def HTowerMove(n):\n",
        "    if n==1: # n=1이면\n",
        "        return 1 # 답 1을 return한다.\n",
        "    else: # n>=2이면\n",
        "        # n-1일 때 회수의 2배에 1을 더해 주면 된다.\n",
        "        return 2*HTowerMove(n-1)+1\n",
        "HTowerMove(4)"
      ]
    },
    {
      "cell_type": "markdown",
      "id": "5171bbea-822a-4d4b-b98b-c0588201cdf1",
      "metadata": {
        "id": "5171bbea-822a-4d4b-b98b-c0588201cdf1"
      },
      "source": [
        "# 5!를 계산하는 프로그램을 재귀함수를 이용하여 작성해 보아라."
      ]
    },
    {
      "cell_type": "code",
      "execution_count": null,
      "id": "50cd1bdc-b404-49fa-9ce8-229ce576fd65",
      "metadata": {
        "tags": [],
        "id": "50cd1bdc-b404-49fa-9ce8-229ce576fd65",
        "outputId": "91ad636a-1738-4718-a52e-09969bcd6108"
      },
      "outputs": [
        {
          "data": {
            "text/plain": [
              "120"
            ]
          },
          "execution_count": 26,
          "metadata": {},
          "output_type": "execute_result"
        }
      ],
      "source": [
        "def fun_factorial(n):\n",
        "    if n==0 or n==1:\n",
        "        return 1\n",
        "    else:\n",
        "        return n*fun_factorial(n-1)\n",
        "fun_factorial(5)"
      ]
    },
    {
      "cell_type": "code",
      "execution_count": null,
      "id": "63a80fa9-9d55-474f-a959-17688b1ed9bf",
      "metadata": {
        "tags": [],
        "id": "63a80fa9-9d55-474f-a959-17688b1ed9bf",
        "outputId": "7c0a6c55-5019-44c3-c217-339b4b517395"
      },
      "outputs": [
        {
          "data": {
            "text/plain": [
              "120"
            ]
          },
          "execution_count": 28,
          "metadata": {},
          "output_type": "execute_result"
        }
      ],
      "source": [
        "Ans=1\n",
        "for i in range(1,6): # 1부터 5까지 1씩 증가\n",
        "    Ans*=i # Ana=Ans*i를 왼쪽과 같이 쓸 수 있다.\n",
        "Ans"
      ]
    },
    {
      "cell_type": "code",
      "execution_count": null,
      "id": "b16560c4-6e5d-4958-a935-31167b4a5b1d",
      "metadata": {
        "id": "b16560c4-6e5d-4958-a935-31167b4a5b1d"
      },
      "outputs": [],
      "source": []
    }
  ],
  "metadata": {
    "hide_input": false,
    "kernelspec": {
      "display_name": "Python 3 (ipykernel)",
      "language": "python",
      "name": "python3"
    },
    "language_info": {
      "codemirror_mode": {
        "name": "ipython",
        "version": 3
      },
      "file_extension": ".py",
      "mimetype": "text/x-python",
      "name": "python",
      "nbconvert_exporter": "python",
      "pygments_lexer": "ipython3",
      "version": "3.10.12"
    },
    "colab": {
      "provenance": [],
      "include_colab_link": true
    }
  },
  "nbformat": 4,
  "nbformat_minor": 5
}