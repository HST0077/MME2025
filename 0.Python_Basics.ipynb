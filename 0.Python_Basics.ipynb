{
  "cells": [
    {
      "cell_type": "markdown",
      "metadata": {
        "id": "view-in-github",
        "colab_type": "text"
      },
      "source": [
        "<a href=\"https://colab.research.google.com/github/HST0077/MME2025/blob/main/0.Python_Basics.ipynb\" target=\"_parent\"><img src=\"https://colab.research.google.com/assets/colab-badge.svg\" alt=\"Open In Colab\"/></a>"
      ]
    },
    {
      "cell_type": "markdown",
      "source": [
        "## 필요한 라이브러리 설치"
      ],
      "metadata": {
        "id": "IEj5U5QPjrlJ"
      },
      "id": "IEj5U5QPjrlJ"
    },
    {
      "cell_type": "code",
      "source": [
        "!pip install hst_funcs"
      ],
      "metadata": {
        "colab": {
          "base_uri": "https://localhost:8080/"
        },
        "id": "vpviIWOGj4Wb",
        "outputId": "a3958492-eca7-4d70-ba20-4929aa01c393"
      },
      "id": "vpviIWOGj4Wb",
      "execution_count": 2,
      "outputs": [
        {
          "output_type": "stream",
          "name": "stdout",
          "text": [
            "Collecting hst_funcs\n",
            "  Downloading hst_funcs-0.0.10-py3-none-any.whl.metadata (417 bytes)\n",
            "Downloading hst_funcs-0.0.10-py3-none-any.whl (29 kB)\n",
            "Installing collected packages: hst_funcs\n",
            "Successfully installed hst_funcs-0.0.10\n"
          ]
        }
      ]
    },
    {
      "cell_type": "code",
      "source": [
        "import numpy as np # 별명으로 불러오기\n",
        "np.random.randint(1,100,size=5)"
      ],
      "metadata": {
        "colab": {
          "base_uri": "https://localhost:8080/"
        },
        "id": "PRisPK_xkOtg",
        "outputId": "d4e7aba7-e943-427a-c149-11a9cadf6bba"
      },
      "id": "PRisPK_xkOtg",
      "execution_count": 3,
      "outputs": [
        {
          "output_type": "execute_result",
          "data": {
            "text/plain": [
              "array([69, 76, 37,  5, 10])"
            ]
          },
          "metadata": {},
          "execution_count": 3
        }
      ]
    },
    {
      "cell_type": "code",
      "source": [
        "# numpy.random 패키지에서 randint 함수만 불러오기\n",
        "from numpy.random import randint\n",
        "randint(1,100,size=5)"
      ],
      "metadata": {
        "colab": {
          "base_uri": "https://localhost:8080/"
        },
        "id": "3SDrjDRxklzM",
        "outputId": "535490ad-1001-4fbb-f157-1d8735cdc732"
      },
      "id": "3SDrjDRxklzM",
      "execution_count": 4,
      "outputs": [
        {
          "output_type": "execute_result",
          "data": {
            "text/plain": [
              "array([66, 78, 52, 56, 70])"
            ]
          },
          "metadata": {},
          "execution_count": 4
        }
      ]
    },
    {
      "cell_type": "markdown",
      "source": [
        "# 숫자와 문자열의 이해"
      ],
      "metadata": {
        "id": "FqGmwZPgkzb2"
      },
      "id": "FqGmwZPgkzb2"
    },
    {
      "cell_type": "code",
      "execution_count": null,
      "id": "eafe4e7f-60ce-422b-8391-cc3bb7fd924b",
      "metadata": {
        "tags": [],
        "id": "eafe4e7f-60ce-422b-8391-cc3bb7fd924b",
        "outputId": "1a9e01c2-55cb-4c40-bf84-a2dd5040f9f8"
      },
      "outputs": [
        {
          "name": "stdout",
          "output_type": "stream",
          "text": [
            "3 3\n"
          ]
        }
      ],
      "source": [
        "a,b=3,'3'\n",
        "print(a,b)"
      ]
    },
    {
      "cell_type": "code",
      "execution_count": null,
      "id": "535b67d7-914f-4d86-83ac-493ace8a747e",
      "metadata": {
        "tags": [],
        "id": "535b67d7-914f-4d86-83ac-493ace8a747e",
        "outputId": "82095bef-6a40-473f-c2c2-e554f3b340d2"
      },
      "outputs": [
        {
          "data": {
            "text/plain": [
              "3"
            ]
          },
          "execution_count": 7,
          "metadata": {},
          "output_type": "execute_result"
        }
      ],
      "source": [
        "# int() 함수를 이용해 문자를 숫자로 변환\n",
        "b=int(b)\n",
        "b"
      ]
    },
    {
      "cell_type": "code",
      "execution_count": null,
      "id": "d662d1ae-764c-4dc5-ad76-9b9dce4d63cd",
      "metadata": {
        "tags": [],
        "id": "d662d1ae-764c-4dc5-ad76-9b9dce4d63cd",
        "outputId": "b1ea9ce8-aa85-4bd7-c44e-ee5e3bbbef4d"
      },
      "outputs": [
        {
          "data": {
            "text/plain": [
              "'3'"
            ]
          },
          "execution_count": 8,
          "metadata": {},
          "output_type": "execute_result"
        }
      ],
      "source": [
        "# str()함수를 이용해 숫자를 문자로 변환\n",
        "a=str(a)\n",
        "a"
      ]
    },
    {
      "cell_type": "markdown",
      "id": "778e4fd1-aeeb-46fa-8132-8934e483ece6",
      "metadata": {
        "id": "778e4fd1-aeeb-46fa-8132-8934e483ece6"
      },
      "source": [
        "# 1111….1111은 1이 2020번 반복된 큰 숫자이다. 이 숫자를 11,111,111로 나눈 나머지를 구해보아라."
      ]
    },
    {
      "cell_type": "code",
      "execution_count": 1,
      "id": "4731be3f-a777-4c68-8e91-174911890e67",
      "metadata": {
        "colab": {
          "base_uri": "https://localhost:8080/"
        },
        "id": "4731be3f-a777-4c68-8e91-174911890e67",
        "outputId": "5fc6804d-1406-491a-d111-f7ec001d62eb"
      },
      "outputs": [
        {
          "output_type": "execute_result",
          "data": {
            "text/plain": [
              "1111"
            ]
          },
          "metadata": {},
          "execution_count": 1
        }
      ],
      "source": [
        "B_N='1'*2020 # '1'이라는 문자를 2020번 반복한다.\n",
        "N=int(B_N) # B_N이란 문자열을 integer형으로 변환시킨다.\n",
        "N%11111111 # N을 11,111,111로 나눈 나머지를 구한다."
      ]
    },
    {
      "cell_type": "code",
      "execution_count": null,
      "id": "8a75ba4f-63ee-41de-8705-89c943637814",
      "metadata": {
        "id": "8a75ba4f-63ee-41de-8705-89c943637814",
        "outputId": "9bac10b6-941f-4130-ac8d-23dba9ccfac6"
      },
      "outputs": [
        {
          "data": {
            "text/plain": [
              "1243"
            ]
          },
          "execution_count": 7,
          "metadata": {},
          "output_type": "execute_result"
        }
      ],
      "source": [
        "A=\"1243\"\n",
        "int(A)"
      ]
    },
    {
      "cell_type": "code",
      "execution_count": null,
      "id": "7b9adfb0-5e3e-4690-90d0-2838e7840e34",
      "metadata": {
        "id": "7b9adfb0-5e3e-4690-90d0-2838e7840e34",
        "outputId": "87975174-9acf-44e9-9749-20c902a9e310"
      },
      "outputs": [
        {
          "data": {
            "text/plain": [
              "'1243'"
            ]
          },
          "execution_count": 9,
          "metadata": {},
          "output_type": "execute_result"
        }
      ],
      "source": [
        "str(1243)"
      ]
    },
    {
      "cell_type": "code",
      "execution_count": null,
      "id": "895a2a57",
      "metadata": {
        "id": "895a2a57",
        "outputId": "ae654d84-0e5b-4f35-c0f4-9d40b440961b"
      },
      "outputs": [
        {
          "data": {
            "text/plain": [
              "7"
            ]
          },
          "execution_count": 2,
          "metadata": {},
          "output_type": "execute_result"
        }
      ],
      "source": [
        "15//2 # 몫을 구함"
      ]
    },
    {
      "cell_type": "code",
      "execution_count": null,
      "id": "62749b97-b423-4524-96eb-4577fd37acfd",
      "metadata": {
        "id": "62749b97-b423-4524-96eb-4577fd37acfd",
        "outputId": "639b5789-f189-4388-fd88-8d5116ab54c8"
      },
      "outputs": [
        {
          "data": {
            "text/plain": [
              "3"
            ]
          },
          "execution_count": 3,
          "metadata": {},
          "output_type": "execute_result"
        }
      ],
      "source": [
        "15%4 # 나머지를 구함"
      ]
    },
    {
      "cell_type": "code",
      "execution_count": null,
      "id": "548e14cd-38a4-4dfb-af58-9df1b7bddb1e",
      "metadata": {
        "id": "548e14cd-38a4-4dfb-af58-9df1b7bddb1e",
        "outputId": "c3db99fd-8fb0-4525-dbb8-2b11a9caffb4"
      },
      "outputs": [
        {
          "data": {
            "text/plain": [
              "64"
            ]
          },
          "execution_count": 6,
          "metadata": {},
          "output_type": "execute_result"
        }
      ],
      "source": [
        "4**3 # 거듭제곱구하기"
      ]
    },
    {
      "cell_type": "code",
      "execution_count": null,
      "id": "489d1dc0-ac5a-4e11-a400-7760d97bb7d4",
      "metadata": {
        "id": "489d1dc0-ac5a-4e11-a400-7760d97bb7d4",
        "outputId": "0267d03c-3923-4f81-af30-d5bbfaffcad8"
      },
      "outputs": [
        {
          "data": {
            "text/plain": [
              "'컴퓨터파이썬'"
            ]
          },
          "execution_count": 14,
          "metadata": {},
          "output_type": "execute_result"
        }
      ],
      "source": [
        "a,b='컴퓨터','파이썬'\n",
        "a+b"
      ]
    },
    {
      "cell_type": "code",
      "execution_count": null,
      "id": "2bde1446-6182-4307-a100-381008ccb3ae",
      "metadata": {
        "id": "2bde1446-6182-4307-a100-381008ccb3ae",
        "outputId": "77691fb1-9763-4634-c21c-7081eca3f397"
      },
      "outputs": [
        {
          "data": {
            "text/plain": [
              "'컴퓨터컴퓨터컴퓨터'"
            ]
          },
          "execution_count": 15,
          "metadata": {},
          "output_type": "execute_result"
        }
      ],
      "source": [
        "a*3"
      ]
    },
    {
      "cell_type": "markdown",
      "id": "bce3aa4d-6621-4f93-aca8-af69e509bd7f",
      "metadata": {
        "id": "bce3aa4d-6621-4f93-aca8-af69e509bd7f"
      },
      "source": [
        "# 1부터 10000사이의 정수 1000개가 random하게 흩어져 있다. 이 숫자를 작은 순서대로 정렬하여 5번째의 숫자를 출력해 보자."
      ]
    },
    {
      "cell_type": "code",
      "execution_count": null,
      "id": "e338e75d-c846-4d45-9eb6-345cac216159",
      "metadata": {
        "tags": [],
        "id": "e338e75d-c846-4d45-9eb6-345cac216159",
        "outputId": "e6039c87-89ab-4566-b179-bc72f88e2b34"
      },
      "outputs": [
        {
          "name": "stdout",
          "output_type": "stream",
          "text": [
            "5번째 작은 수는 37 입니다\n",
            "5번째 큰 수는 9950 입니다.\n"
          ]
        }
      ],
      "source": [
        "import numpy as np # numpy라는 패키지를 np의 별명으로 불러온다.\n",
        "# numpy.random 아래에 있는 randint()함수를 호출한다.\n",
        "# randint(a,b,size=c)는 a부터 b-1까지의 정수를 c개 무작위 추출시킨다.\n",
        "D=np.random.randint(1,10000,size=1000)\n",
        "sort_1=sorted(D) # 오름차순 정렬\n",
        "sort_2=sorted(D,reverse=True) # 내림차순 정렬\n",
        "print('5번째 작은 수는',sort_1[4],'입니다')\n",
        "print('5번째 큰 수는',sort_2[4],'입니다.')"
      ]
    },
    {
      "cell_type": "markdown",
      "source": [
        "# 자료의 인덱싱과 슬라이싱"
      ],
      "metadata": {
        "id": "2qYxFWkUpt5A"
      },
      "id": "2qYxFWkUpt5A"
    },
    {
      "cell_type": "code",
      "source": [
        "D=np.random.randint(1,10,size=10)\n",
        "D"
      ],
      "metadata": {
        "colab": {
          "base_uri": "https://localhost:8080/"
        },
        "id": "ToYHEQoboffO",
        "outputId": "622bf1a0-f928-4e9d-f434-938259ca7b21"
      },
      "id": "ToYHEQoboffO",
      "execution_count": 7,
      "outputs": [
        {
          "output_type": "execute_result",
          "data": {
            "text/plain": [
              "array([6, 2, 7, 8, 2, 1, 7, 3, 8, 9])"
            ]
          },
          "metadata": {},
          "execution_count": 7
        }
      ]
    },
    {
      "cell_type": "code",
      "execution_count": 8,
      "id": "d4a08e8e-958e-4add-993a-7a05ec9f4521",
      "metadata": {
        "tags": [],
        "colab": {
          "base_uri": "https://localhost:8080/"
        },
        "id": "d4a08e8e-958e-4add-993a-7a05ec9f4521",
        "outputId": "9e60880d-3ca8-4dd9-a682-a3a4276891e3"
      },
      "outputs": [
        {
          "output_type": "execute_result",
          "data": {
            "text/plain": [
              "6"
            ]
          },
          "metadata": {},
          "execution_count": 8
        }
      ],
      "source": [
        "# 첫번째 숫자: 방법 1\n",
        "D[0]"
      ]
    },
    {
      "cell_type": "code",
      "execution_count": 9,
      "id": "7138d12a-b241-4b08-9b56-cb6296c3de15",
      "metadata": {
        "tags": [],
        "colab": {
          "base_uri": "https://localhost:8080/"
        },
        "id": "7138d12a-b241-4b08-9b56-cb6296c3de15",
        "outputId": "738da625-52a6-4f1b-b9bd-4d4bf2837066"
      },
      "outputs": [
        {
          "output_type": "execute_result",
          "data": {
            "text/plain": [
              "6"
            ]
          },
          "metadata": {},
          "execution_count": 9
        }
      ],
      "source": [
        "# # 첫번째 숫자: 방법 2\n",
        "D[-10]"
      ]
    },
    {
      "cell_type": "code",
      "execution_count": 10,
      "id": "b2f64c74-6ceb-4cb8-a121-aa3b2bf70410",
      "metadata": {
        "tags": [],
        "colab": {
          "base_uri": "https://localhost:8080/"
        },
        "id": "b2f64c74-6ceb-4cb8-a121-aa3b2bf70410",
        "outputId": "42408223-5854-442f-cc9d-35684ad166e0"
      },
      "outputs": [
        {
          "output_type": "execute_result",
          "data": {
            "text/plain": [
              "9"
            ]
          },
          "metadata": {},
          "execution_count": 10
        }
      ],
      "source": [
        "# 마지막 숫자: 방법 1\n",
        "D[9]"
      ]
    },
    {
      "cell_type": "code",
      "execution_count": 11,
      "id": "701c5509-d803-4b68-b6ba-e310d79f3d97",
      "metadata": {
        "tags": [],
        "colab": {
          "base_uri": "https://localhost:8080/"
        },
        "id": "701c5509-d803-4b68-b6ba-e310d79f3d97",
        "outputId": "3fd5c331-7f07-46fa-c32e-72687506a5e6"
      },
      "outputs": [
        {
          "output_type": "execute_result",
          "data": {
            "text/plain": [
              "9"
            ]
          },
          "metadata": {},
          "execution_count": 11
        }
      ],
      "source": [
        "# 마지막 숫자: 방법 2\n",
        "D[-1]"
      ]
    },
    {
      "cell_type": "code",
      "execution_count": 12,
      "id": "96fc3be4-02a3-4faa-894d-adaa123e3520",
      "metadata": {
        "tags": [],
        "colab": {
          "base_uri": "https://localhost:8080/"
        },
        "id": "96fc3be4-02a3-4faa-894d-adaa123e3520",
        "outputId": "9ed2abb0-71a0-4092-fd53-087894902de9"
      },
      "outputs": [
        {
          "output_type": "execute_result",
          "data": {
            "text/plain": [
              "array([6, 2, 7, 8, 2])"
            ]
          },
          "metadata": {},
          "execution_count": 12
        }
      ],
      "source": [
        "# 처음부터 5번째까지의 숫자\n",
        "D[:5]"
      ]
    },
    {
      "cell_type": "code",
      "execution_count": 13,
      "id": "7e68975d-36c3-4134-b56c-4c97201f3e37",
      "metadata": {
        "tags": [],
        "colab": {
          "base_uri": "https://localhost:8080/"
        },
        "id": "7e68975d-36c3-4134-b56c-4c97201f3e37",
        "outputId": "1cf0ca4a-d950-4b24-d928-4ac74ab552b9"
      },
      "outputs": [
        {
          "output_type": "execute_result",
          "data": {
            "text/plain": [
              "array([7, 8, 2])"
            ]
          },
          "metadata": {},
          "execution_count": 13
        }
      ],
      "source": [
        "# 3번째 부터 5번째까지의 숫자\n",
        "D[2:5]"
      ]
    },
    {
      "cell_type": "code",
      "execution_count": 14,
      "id": "8f7f0de0-cee4-4d1c-bda1-d0d1748dd427",
      "metadata": {
        "tags": [],
        "colab": {
          "base_uri": "https://localhost:8080/"
        },
        "id": "8f7f0de0-cee4-4d1c-bda1-d0d1748dd427",
        "outputId": "7378cff4-996f-4f36-e986-2b5333876c21"
      },
      "outputs": [
        {
          "output_type": "execute_result",
          "data": {
            "text/plain": [
              "array([1, 7, 3, 8, 9])"
            ]
          },
          "metadata": {},
          "execution_count": 14
        }
      ],
      "source": [
        "# 마지막 5개 숫자\n",
        "D[-5:]"
      ]
    },
    {
      "cell_type": "markdown",
      "source": [
        "# 자료형의 종류"
      ],
      "metadata": {
        "id": "1sV6Fj79p5RY"
      },
      "id": "1sV6Fj79p5RY"
    },
    {
      "cell_type": "code",
      "source": [
        "# 리스트(list)\n",
        "L=[1,2,3]\n",
        "L[0]"
      ],
      "metadata": {
        "colab": {
          "base_uri": "https://localhost:8080/"
        },
        "id": "KH6JkKeUp9NO",
        "outputId": "52a0e992-90a5-4298-90a2-d47a17d7add6"
      },
      "id": "KH6JkKeUp9NO",
      "execution_count": 16,
      "outputs": [
        {
          "output_type": "execute_result",
          "data": {
            "text/plain": [
              "1"
            ]
          },
          "metadata": {},
          "execution_count": 16
        }
      ]
    },
    {
      "cell_type": "code",
      "source": [
        "# Dictionary 자료형은 인덱싱을 문자열로 한다는 차이가 있다.\n",
        "A={'사과':0,'배':2,'오렌지':11} # 사과,배,오렌지는 key값이라고 부른다.\n",
        "A['사과']"
      ],
      "metadata": {
        "colab": {
          "base_uri": "https://localhost:8080/"
        },
        "id": "35d4-zxPqIrU",
        "outputId": "99a45359-4476-47cb-cfa6-30fd0fcdc19f"
      },
      "id": "35d4-zxPqIrU",
      "execution_count": 22,
      "outputs": [
        {
          "output_type": "execute_result",
          "data": {
            "text/plain": [
              "0"
            ]
          },
          "metadata": {},
          "execution_count": 22
        }
      ]
    },
    {
      "cell_type": "code",
      "source": [
        "# 튜플형(tuple)\n",
        "T=(1,2,3)\n",
        "T[0]"
      ],
      "metadata": {
        "colab": {
          "base_uri": "https://localhost:8080/"
        },
        "id": "iydQ04GxqiUS",
        "outputId": "7048f9c9-f8d6-4a7a-c750-78e1d86e9f94"
      },
      "id": "iydQ04GxqiUS",
      "execution_count": 20,
      "outputs": [
        {
          "output_type": "execute_result",
          "data": {
            "text/plain": [
              "1"
            ]
          },
          "metadata": {},
          "execution_count": 20
        }
      ]
    },
    {
      "cell_type": "code",
      "source": [
        "# 집합형(set)\n",
        "S1,S2={1,2,3},{3,4,5}\n",
        "StopAsyncIteration(S1)"
      ],
      "metadata": {
        "colab": {
          "base_uri": "https://localhost:8080/"
        },
        "id": "46YUcB48qoe_",
        "outputId": "07c5d3da-b785-47a3-dfee-0a9d13704ba5"
      },
      "id": "46YUcB48qoe_",
      "execution_count": 21,
      "outputs": [
        {
          "output_type": "execute_result",
          "data": {
            "text/plain": [
              "StopAsyncIteration({1, 2, 3})"
            ]
          },
          "metadata": {},
          "execution_count": 21
        }
      ]
    },
    {
      "cell_type": "markdown",
      "id": "7f7dd4a1-ff58-4668-8b2b-aecd0c38c717",
      "metadata": {
        "id": "7f7dd4a1-ff58-4668-8b2b-aecd0c38c717"
      },
      "source": [
        "# 집합 A={1,2,3}, 집합 B={3,4,5}라고 한다. 차집합 A-B, 합집합 A∪B, 교집합 A∩B 등을 구하여 보아라."
      ]
    },
    {
      "cell_type": "code",
      "execution_count": 24,
      "id": "9c98043c-f05d-4892-bafc-443c6b22efc4",
      "metadata": {
        "tags": [],
        "colab": {
          "base_uri": "https://localhost:8080/"
        },
        "id": "9c98043c-f05d-4892-bafc-443c6b22efc4",
        "outputId": "b700555c-636f-429b-d72c-f8f76d130f8f"
      },
      "outputs": [
        {
          "output_type": "execute_result",
          "data": {
            "text/plain": [
              "{1, 2}"
            ]
          },
          "metadata": {},
          "execution_count": 24
        }
      ],
      "source": [
        "A,B=[1,2,3],[3,4,5]\n",
        "# 내장함수 set()을 이용하여 집합으로 변형\n",
        "A,B=set(A),set(B)\n",
        "A-B"
      ]
    },
    {
      "cell_type": "code",
      "execution_count": null,
      "id": "9009ba79-2297-456d-9fa8-208bd1cf25f3",
      "metadata": {
        "tags": [],
        "id": "9009ba79-2297-456d-9fa8-208bd1cf25f3",
        "outputId": "43a97a65-41cd-4725-c93b-e11282d73166"
      },
      "outputs": [
        {
          "data": {
            "text/plain": [
              "{1, 2}"
            ]
          },
          "execution_count": 34,
          "metadata": {},
          "output_type": "execute_result"
        }
      ],
      "source": [
        "A,B={1,2,3},{3,4,5}\n",
        "A-B"
      ]
    },
    {
      "cell_type": "code",
      "execution_count": null,
      "id": "3640aff6-bbbd-4b31-8380-128542162d75",
      "metadata": {
        "tags": [],
        "id": "3640aff6-bbbd-4b31-8380-128542162d75",
        "outputId": "0618c9ba-1284-4b7a-a860-7fc266b0ddea"
      },
      "outputs": [
        {
          "data": {
            "text/plain": [
              "{1, 2, 3, 4, 5}"
            ]
          },
          "execution_count": 32,
          "metadata": {},
          "output_type": "execute_result"
        }
      ],
      "source": [
        "A.union(B) # 내장함수 union() 사용"
      ]
    },
    {
      "cell_type": "code",
      "execution_count": null,
      "id": "bb3b000d-c2b0-43ef-b255-98c4f6049fd5",
      "metadata": {
        "tags": [],
        "id": "bb3b000d-c2b0-43ef-b255-98c4f6049fd5",
        "outputId": "34471cf3-1cfc-4313-ddf9-e394cadc2561"
      },
      "outputs": [
        {
          "data": {
            "text/plain": [
              "{3}"
            ]
          },
          "execution_count": 33,
          "metadata": {},
          "output_type": "execute_result"
        }
      ],
      "source": [
        "A.intersection(B) # 내장함수 intersection() 사용"
      ]
    },
    {
      "cell_type": "code",
      "execution_count": 25,
      "id": "beb21bdc-768e-4960-a8ca-eeeb2f693196",
      "metadata": {
        "tags": [],
        "colab": {
          "base_uri": "https://localhost:8080/"
        },
        "id": "beb21bdc-768e-4960-a8ca-eeeb2f693196",
        "outputId": "7c4efa5f-9b03-48c6-c2e5-d33b14bf96cb"
      },
      "outputs": [
        {
          "output_type": "execute_result",
          "data": {
            "text/plain": [
              "[3, 4, 5]"
            ]
          },
          "metadata": {},
          "execution_count": 25
        }
      ],
      "source": [
        "# 자료형의 변환\n",
        "list(B)"
      ]
    },
    {
      "cell_type": "markdown",
      "source": [
        "# 행렬과 텐서"
      ],
      "metadata": {
        "id": "c4dHogRVtN5j"
      },
      "id": "c4dHogRVtN5j"
    },
    {
      "cell_type": "code",
      "source": [
        "# 행렬의 표현\n",
        "A=np.array([[1,2,3],[4,5,6]])\n",
        "A"
      ],
      "metadata": {
        "colab": {
          "base_uri": "https://localhost:8080/"
        },
        "id": "5cygTaY_tUJy",
        "outputId": "7a10d77a-9272-4c48-a608-008493101cb0"
      },
      "id": "5cygTaY_tUJy",
      "execution_count": 26,
      "outputs": [
        {
          "output_type": "execute_result",
          "data": {
            "text/plain": [
              "array([[1, 2, 3],\n",
              "       [4, 5, 6]])"
            ]
          },
          "metadata": {},
          "execution_count": 26
        }
      ]
    },
    {
      "cell_type": "code",
      "source": [
        "# 행렬의 표현 2\n",
        "from sympy import Matrix\n",
        "Matrix(A)"
      ],
      "metadata": {
        "colab": {
          "base_uri": "https://localhost:8080/",
          "height": 58
        },
        "id": "nwaGeT2ft9Gz",
        "outputId": "312bfe4a-a14a-4309-e816-834c1ac39d2f"
      },
      "id": "nwaGeT2ft9Gz",
      "execution_count": 27,
      "outputs": [
        {
          "output_type": "execute_result",
          "data": {
            "text/plain": [
              "Matrix([\n",
              "[1, 2, 3],\n",
              "[4, 5, 6]])"
            ],
            "text/latex": "$\\displaystyle \\left[\\begin{matrix}1 & 2 & 3\\\\4 & 5 & 6\\end{matrix}\\right]$"
          },
          "metadata": {},
          "execution_count": 27
        }
      ]
    },
    {
      "cell_type": "code",
      "source": [
        "# 3차원 텐서의 예\n",
        "B=np.array([[[1,2,3],[4,5,6]],[[7,8,9],[10,11,12]]])\n",
        "B"
      ],
      "metadata": {
        "colab": {
          "base_uri": "https://localhost:8080/"
        },
        "id": "iWX8GJxquEpA",
        "outputId": "e916ede1-845d-4d99-a3fd-5a090ee16c95"
      },
      "id": "iWX8GJxquEpA",
      "execution_count": 28,
      "outputs": [
        {
          "output_type": "execute_result",
          "data": {
            "text/plain": [
              "array([[[ 1,  2,  3],\n",
              "        [ 4,  5,  6]],\n",
              "\n",
              "       [[ 7,  8,  9],\n",
              "        [10, 11, 12]]])"
            ]
          },
          "metadata": {},
          "execution_count": 28
        }
      ]
    },
    {
      "cell_type": "markdown",
      "source": [
        "# 반복문과 제어문"
      ],
      "metadata": {
        "id": "AFM5sENiuPao"
      },
      "id": "AFM5sENiuPao"
    },
    {
      "cell_type": "code",
      "source": [
        "# range 이해하기\n",
        "for i in range(5):\n",
        "    print(i)"
      ],
      "metadata": {
        "colab": {
          "base_uri": "https://localhost:8080/"
        },
        "id": "PD8caK4evC8C",
        "outputId": "fcd41248-9017-4c4c-be26-92f900e1dcfb"
      },
      "id": "PD8caK4evC8C",
      "execution_count": 33,
      "outputs": [
        {
          "output_type": "stream",
          "name": "stdout",
          "text": [
            "0\n",
            "1\n",
            "2\n",
            "3\n",
            "4\n"
          ]
        }
      ]
    },
    {
      "cell_type": "code",
      "source": [
        "# range 이해하기\n",
        "for i in range(2,5):\n",
        "    print(i)"
      ],
      "metadata": {
        "colab": {
          "base_uri": "https://localhost:8080/"
        },
        "id": "GabsVNUPvKnl",
        "outputId": "05c9389f-9a51-4b16-ed44-4152fdb4db75"
      },
      "id": "GabsVNUPvKnl",
      "execution_count": 34,
      "outputs": [
        {
          "output_type": "stream",
          "name": "stdout",
          "text": [
            "2\n",
            "3\n",
            "4\n"
          ]
        }
      ]
    },
    {
      "cell_type": "code",
      "source": [
        "# range 이해하기\n",
        "for i in range(5,0,-1):\n",
        "    print(i)"
      ],
      "metadata": {
        "colab": {
          "base_uri": "https://localhost:8080/"
        },
        "id": "ZpMuJ6hdvPGj",
        "outputId": "471a4357-9486-438c-bd1f-66cefb9a24fe"
      },
      "id": "ZpMuJ6hdvPGj",
      "execution_count": 35,
      "outputs": [
        {
          "output_type": "stream",
          "name": "stdout",
          "text": [
            "5\n",
            "4\n",
            "3\n",
            "2\n",
            "1\n"
          ]
        }
      ]
    },
    {
      "cell_type": "code",
      "source": [
        "# 1부터 10까지 더하기\n",
        "sum=0\n",
        "for i in range(1,11):\n",
        "    sum=sum+i\n",
        "print(sum)"
      ],
      "metadata": {
        "colab": {
          "base_uri": "https://localhost:8080/"
        },
        "id": "IRgoRsQ7uORy",
        "outputId": "170b4257-4967-4ba4-ef91-2c65038c7c99"
      },
      "id": "IRgoRsQ7uORy",
      "execution_count": 29,
      "outputs": [
        {
          "output_type": "stream",
          "name": "stdout",
          "text": [
            "55\n"
          ]
        }
      ]
    },
    {
      "cell_type": "code",
      "source": [
        "# 1부터 20까지의 짝수 더하기: 방법 1\n",
        "sum=0\n",
        "for i in range(1,21):\n",
        "    if i%2==0:\n",
        "        sum=sum+i\n",
        "print(sum)"
      ],
      "metadata": {
        "colab": {
          "base_uri": "https://localhost:8080/"
        },
        "id": "jQyHRLqGubzj",
        "outputId": "991370d2-372f-4b90-829d-018beaf87b1e"
      },
      "id": "jQyHRLqGubzj",
      "execution_count": 30,
      "outputs": [
        {
          "output_type": "stream",
          "name": "stdout",
          "text": [
            "110\n"
          ]
        }
      ]
    },
    {
      "cell_type": "code",
      "source": [
        "# 1부터 20까지의 짝수 더하기: 방법 2\n",
        "sum=0\n",
        "for i in range(0,21,2):\n",
        "  sum=sum+i\n",
        "print(sum)"
      ],
      "metadata": {
        "colab": {
          "base_uri": "https://localhost:8080/"
        },
        "id": "sf46wdCfukm5",
        "outputId": "78a3b22c-bc66-4914-9570-138eab0c1185"
      },
      "id": "sf46wdCfukm5",
      "execution_count": 32,
      "outputs": [
        {
          "output_type": "stream",
          "name": "stdout",
          "text": [
            "110\n"
          ]
        }
      ]
    },
    {
      "cell_type": "code",
      "source": [
        "# for 와 in, not in 사용하기\n",
        "A,B=[1,2,3,4,5],[4,5,6,7]\n",
        "for i in A:\n",
        "  if i not in B:\n",
        "    print(i)"
      ],
      "metadata": {
        "colab": {
          "base_uri": "https://localhost:8080/"
        },
        "id": "pY3le3Q4xJ_Q",
        "outputId": "5db4fbf9-adb3-4ce9-d5ba-9c07d02da756"
      },
      "id": "pY3le3Q4xJ_Q",
      "execution_count": 41,
      "outputs": [
        {
          "output_type": "stream",
          "name": "stdout",
          "text": [
            "1\n",
            "2\n",
            "3\n"
          ]
        }
      ]
    },
    {
      "cell_type": "code",
      "source": [
        "# 자료형 안에서 사용하는 for 문\n",
        "A=[2*x for x in range(1,10,3)]\n",
        "A"
      ],
      "metadata": {
        "colab": {
          "base_uri": "https://localhost:8080/"
        },
        "id": "Z--DQCR8vjKB",
        "outputId": "18fc5e1c-f511-43f4-8522-0a8fb25c58d9"
      },
      "id": "Z--DQCR8vjKB",
      "execution_count": 36,
      "outputs": [
        {
          "output_type": "execute_result",
          "data": {
            "text/plain": [
              "[2, 8, 14]"
            ]
          },
          "metadata": {},
          "execution_count": 36
        }
      ]
    },
    {
      "cell_type": "code",
      "source": [
        "# while 문 예제\n",
        "sum,i=0,0\n",
        "while i <= 10:\n",
        "  sum=sum+i\n",
        "  i=i+1\n",
        "print(sum)"
      ],
      "metadata": {
        "colab": {
          "base_uri": "https://localhost:8080/"
        },
        "id": "8hvM-BkAy_VC",
        "outputId": "75ab7ee1-832b-48a3-f124-f12982269887"
      },
      "id": "8hvM-BkAy_VC",
      "execution_count": 43,
      "outputs": [
        {
          "output_type": "stream",
          "name": "stdout",
          "text": [
            "55\n"
          ]
        }
      ]
    },
    {
      "cell_type": "code",
      "source": [
        "# if, elif, else 구문으로 학점 판단하기\n",
        "\n",
        "score = int(input(\"점수를 입력하세요: \"))\n",
        "\n",
        "if score >= 90:\n",
        "    print(\"A 학점\")\n",
        "elif score >= 80:\n",
        "    print(\"B 학점\")\n",
        "elif score >= 70:\n",
        "    print(\"C 학점\")\n",
        "elif score >= 60:\n",
        "    print(\"D 학점\")\n",
        "else:\n",
        "    print(\"F 학점\")"
      ],
      "metadata": {
        "colab": {
          "base_uri": "https://localhost:8080/"
        },
        "id": "j14jHRCt1h5b",
        "outputId": "3615cbc4-3d3c-44a1-e543-e587d66eb2d5"
      },
      "id": "j14jHRCt1h5b",
      "execution_count": 45,
      "outputs": [
        {
          "output_type": "stream",
          "name": "stdout",
          "text": [
            "점수를 입력하세요: 85\n",
            "B 학점\n"
          ]
        }
      ]
    },
    {
      "cell_type": "markdown",
      "id": "7b4ee48a-6f5d-442a-b172-2596d1b8be83",
      "metadata": {
        "id": "7b4ee48a-6f5d-442a-b172-2596d1b8be83"
      },
      "source": [
        "# 아래와 같은 자료를 생성해 보아라."
      ]
    },
    {
      "cell_type": "markdown",
      "id": "773973f3-b4ae-4a7b-9c0c-201414d96e60",
      "metadata": {
        "id": "773973f3-b4ae-4a7b-9c0c-201414d96e60"
      },
      "source": [
        "![image.png](data:image/png;base64,iVBORw0KGgoAAAANSUhEUgAAAXkAAACyCAYAAACnW7/+AAAAAXNSR0IArs4c6QAAAARnQU1BAACxjwv8YQUAAAAJcEhZcwAAFxEAABcRAcom8z8AAP+lSURBVHhe7J13eFXF9v5PktN7TkvvvRCSEHpvoaiAKIjYEbCAqKA0RQULCqJXELCCgoIKWOktoQTSgdBr6L33In5+z+xzAmlICtf7vffHH+/jI/tkZk9be2bNWu8r8/T05C7u4i7u4i7+NyEr/Q93cRd3cRd38b+Du0b+Lu7iLu7ifxh3jfxd3MVd3MX/MMoaebMZc3GUel7imdlcpsC7uIu7uIv/f1HKfppLP//nUdLIm82YtGpUajUarRatTo/B5HpmsWAyGtGoVag1GrRaHTqDsdRHwIzZZMRoNGIq7wNgNkllGI2mO9540aGi3rJli3cyuZ45cac/TjfabCpZrtlcsl6jqfS7VR+mG/1d9plA0btJdZfzvMooPpYlnhX9e3GU/k31cGM8TWU3IWK8i/rE+ZvSz6sBsT7KmWNlxvlG3eW9X9Vwo44y4ygMyb+vXoEbc6x0X97oj6J6S79bNXBjft1qHEv2eem1Vx2Uthfl2bJb9YnZbECn06LVqlGrNWj1Zcv/p3HTyOt1aAIjSBg1k4yMDAkrZn/KK+2FMTejUcqp2aQdkxY7n2VkLGHqgEepI1eiFX9vMmLQGaTBsFgsZSoyGQ3oDWISWLBYyr5I1SEWtR6DwSh9iCylnpuNJumdbHYvvL0d2Kye0m/vyKQwmzEYnB/Csm2yYLHacXh54eXljbfDjk1MTJMRU+lyqgQjBr3e1Z9l+/vG4jeZb/G86nCOpei/W4ylxYJNarcLDjvW0r+pEkwYDTqpTeWNtXMOGjFbHDi8vKW6HfZyfldpCGPmnGPmcuq12mw32+rlhbfDhlX0S3l9U1kIQ6o3YDCUN45FRtaCze6Nt7c3DrsNT7GRMZrKllVZmJ1zzCTG2bNk3dJHx2DAbLHhEPU67FL/m8Q6LF1OpWHCYDLhaXU4+9RmxVOscaNrzUrvJZ7bnWNss0ibGYOxdDlVgMkg2Qab3XHDXog2mW/YC1G3TtpUlRwPI3qdN0Ghb/H9EpeNTP+Jj18QHwRTmY/BP4mbRl6nQRlWkybLDsOeZYxp0ZymjVOIDzFJDVK6y2jY5Vl2X71G+rcDqVOvAQ3iI/EThlt8vSxadLaHGfRBNtu25jPlsXbEeiicHwCDVjJGfo+8y9TMHWzLm0bjlCiUam2ZF6oULJ4YDZ6olWZadXuGJdu2sHn+2/Rs5IFCKyaiGo2+Cc8Pn0vehjXk5Gxg47oF9O7WVPrKVmtXbTZh1qkwRdalzUeL2LZ1A7PGvYBGq8ds1qGSh9Gw/YfMzc0lNzeHnLUFZM95h2caa9FoqrnTMnuiVVkJjk7i07n5bNucwVfP+mG3OD+y4jdmnQaFd01afLiYndu3kvH1MO5Va9CXsyupFPRazBY7gU99yMzcHWzL/IbaCWHS6c5osOLlM5wZqzayMT+PPKntuayY8SGP2qyS4anyB85iRq+zotfbefrNceRv38rqzx+gSaQHSp34jRmtpwWH7+tMmZPNujU55OTm8uuYGoQHaNBVdUdlEYvcjFZlolG3Pswq2MbWVcN55h4PPFSeqOVy2vcezHxXW0Wbs/ILWL91BwU/d6BJggdKTTnlVggmjJ5qlJ61afPAL6zbso2Vnw+hvUqDTnIFaFBrmvNo39msKcghJyeHdevXk/bac7TRqFBVY6zF2tCpTQTF1mb4z8459v0bdiyezh27TisnvnF7fszaxvqcHNauy2PF56/TzqBHWa11ZcZksOH31Fh+y17DmvwccrdsYtEX9YgP0aHXG9Cr/IiqOZYF6zeSm7+GNZvX88enT+Njd20ASpdZUZjNqIxmeo78nFUb1pKTU8CmzemM79iUYI0WrdmMTmPFJyCC96YvZfO2DcwYFEOQQ4PeKDwGVuyOGqTUb8dDT/zB3suHWDHeKu36/88YeVVoAo0X7OBE1rf0UMjxUKrRur6OKg8Z9Tv3YsvxI3zzWmtkMhkanQGTxYRRbsbr0eGMz13H1vx9nLl0llX9HyJR5o7abERj96f3uFms3JBB/t7zcDyb9k3i8VBqyrxQZWAyKjGam9Cz/3LW7chj28FTXN39LYNTZbhrPNEqPEjq8ipzli1mRJ8WBAY8yYTfj3Pp1EK6p8bhrqhi/WKw9UZCGnXgi5UF5GzM5ODZv1j729uoNTppl2My2fDyCSO2Rg1qhAXh1+1VRh07z5mJA3lA5o6idJkVhXRst1Kz3lcszVtD3vptXP5zPwuHBeFlcbnXTFq0Si/qdZzM6rNw7twxTi6ZSHelWjIOZcqsKExGtF7B9P1iNqs2rGTNgUv8dWgFzeqID7Yag96Gb/Ak8vdvZ05qE1KiooipUYP46DD8S5dVSZiMcqy+vfhoUh5rNudz+MIlji3uTbs4GR4aMyadO47HP2ZOwQ7yZ6TSMMmBt28owaE2rNaq+0ZNJjV6cz2eHPwr69blsm37RS6encywh2XI5M6jvW9gsHOcayQQH+FP5PMTyTgPe355mLqhbqi0Zcu9PcyYNEZMNTvw+II8tucXsPPIn5xcOJaH5Cq0ZjVyt0Q69s5i38EZfNTXCx8/H3q8NZHzF08y8pl7kLkpyim3ApDcPw4SGn/AgrxsNmTs4ASHWfmZF1ZPPRqlluCkDny/5SCHVkzgiYBAWjzxIgVnzzPvw+cwylRV3MQIQ2nAoO/Emz+sYuHnnWleO5zYjzM5cGEvy96LxMdiwJLwNku2nmbPz68Tn9KAZh8s4dT5rcx6LwjN37gubwu1AvfO/Zm0YiFDn72PoMCuTFh0kGsnV/Nwk3gUHnLC4sfw+/I15BZs5Pz10+R8nESYlxqdwVmG2azCTWYkKOZfZB/azsKP/o8a+ZM53/OsOP4U87EVGfnNx4/y3Vv34SYvMpBq5PIWPPXqd4zv247eT79DwbULrHzxQWrKPFDr1aha9GXc9K/p0DSG/l8v5erxXNo3ikNeTSOvUSpIbHU/X04aTY8erXlq3imu7fyKV1qJhe/c8VrtdhwOm+RiEB+mR0Z8x3VO8tKjLaq+CIx6NN5h1BrwOV9/3JfEhi3JOHSJnFlvuYx80bFSi0ohk+qVRXfgnS3n2TNpOKkyN1Sly6wgxISx2L0ZNH4Kn77agOS357Dr1G7mD3UZeaNJ+vj6NnuU2dsOsXXdDD5aUciR+WPpVi0jb8as16BpO4DPfviCdg1jeP2HLC4fXEmz2pE3jXzI56zams2XXgbcRbsFFHqMZcqrHNQKOff2eYvpn/Skaa++jN9yjZMLn6ZNrBtyjQmteyBv/1zAtrw3GfhMS9rf24k2reoTo3Lu/kxVdJ3oVHKimj/C2Gnv8Fybxjw28DBXLnzFkK6iXc7fiLml02rR6dTIZEbuf28upw4t4al2cbjfWCeVhR6NOozkxv9i8meDeLZhG6bvucTh2R/RReE08m6yJB4fsoY/ry5i7D2ibhkNBn/P6T93M+alJshkqnLKvT1Ee6zegfT+eApfvlGLlJQf2XRyL8smeGP1VCL3iKZh2zxOXMvju/5uKMUY2xrQ+ZtCTq2axAueHiirZdRseDkc2Dx1qFUaFOoPSdt9lT0LaxASbiNl2gZOH8zgLU+l1Oa4+3qx8dxf7F46hqBq+efNeNq9sDvsknvOQybjvndmcpRz/NqhMcEyd3p+OIlJw1pQc9A35B4/TvaYREKLGXlPTwNatTfRyePJPfw/Y+SdR+miTmnSdwxb/7x4w8hrxHOzCb1Oi9zdnaHTMrh64s4YeQGxazbIZcii2tJ7yWn+LG7ki3yHwr+n8kBmD+TlWflwcgW974tGVuUF6CrbaEDuJiMipTmrj1wuZeTFwg8hPvlRnnmmN6Om/MzRI5m8+UhNZDKt02dbTpkVhVGvQmG0EzhsEXvPFhl5AzqVAoN3BD3mHOHMju957PHatMvYx4kF46pp5F0QY6nVoFIpefvXNVw+VMrIB01h4+lTbHh7GIP69KHvk/fTOFKOQlPdS2fhdzWgF2PdciCTdoldrTDyMuRKNergEfyy7iz7T+9n6ZKlzJk7n+OXD7NmwNM0t4pL+WpcCoo5phcfrBb0HHaEq6WMfNH7mQwybBGDmJ1zniVfPkCctwx1Vd1ELghXqMpNRkDtVH7af7mYkRcuJAU16jZlxJzlLP/tZ8a/Np5pOetY9k17mtWUodKW9uFXDiajGrmHg9CYWWw7U2Tk1cjd/anfdhKHrm5har8wydC6a2rz6viDXDj6I28/4I5cXba8iuPmha7K3Z2U1B/Zcu48q96LJizIm7cX7mB39iTMze7n2dffZNnesxzYeYoTeTN4xWgoYbcqDemkbMJslCNzhNN3+lquXlrMR6nReCu06Axa1Fodpud/oOD0if+PjLw0Gc3SZGz+wkdljbx0OWpCrVLy2vQ7a+SlHabaA1lce54tx8hLF3Qad2SWMOpOWMXOa/ksHJlElLcHWkP1FoFw24gL6ei6Lcsx8jrUyjgatn6fKT9MYdKXS1g0cwE/jKpLSowCrb56dZuNerQWH0LeKGbkzRo8zF5E9XmLrVuy+bi5HzJrHC1X7uX47FG0FzsudXmXxJWBM3pFfLTf+a24kddgMlqwOx5h8OjPmDR1KlNn/cLsk0fZ9ltfHmrgdG1Ux9BLIWlqd2Spg5hcZORjZHi4q1A9PY7Fpy5w+Pv3qWF1nto6T1jJ8T93831KLH4qDfpyyqwYhLtHjkzWit5vlG/kLRZRZyS9x+dz9cJPPNw6AJmbrswlbeVhRqv0IKReW2YUN/KenhjUcoICgug05jumLM1i9pIc1hUu5vu32hEeEYhCZ6xW/WazOE34EhH/czEjb0CrkeMdUosxP5zm+OF1jBjxNpO++pYDZ/dxNOcbBsW5o6jmx03yj7vLqHHvk2ScPM/hb9/nQaMnNpsfIxfu5MTRLXy6Yx8bp3/DmNFv8MSUtZxY9xvDxdysjpGXggkUyGQRNHx9GQf/PMbcTxoS6OeGWqxZ6YLXhLXv/4dGXhoUNxnNinby/R4gQfjkXc8lI69UMNRl5Ns1jMVDoS5Rhlktx00mw81DVW7Y0q0gGfnYdjzjMvIDWspwV7uiP4RR8K1Jy09Ws+/aGRaNT8XXKsNDXRQZYsGiV6NwFzs1D1TiK14miuFWcBr5qDotXEb+TVRqreu4KMo3oNO4OV0WMg1tev3KFQr4uE8EMneddDuv16idbg0PLXrjLaJVyoNk5L0JLtrJDwnEonHDMyqFDw4Cl/awYtwEvpo1m8VHL3B5/0aWjh9Ij3s1aHSeWEwGdEp3ZDI3PNRajOVEjdwKYtLqtBredhn5pikRKFTO+WA2K6QxdLZZi7nrYo79eYS0t7yxmMXFsDMUV+pvN7nkr65wm6UPujuy1gNdRr4HqTEy3BUqVPGjmbPzONkv1yJeK0OuMyJ7chLZJ3extE4CweLSWfy9ViH1t5uHKyqsopCMfEt6uXbyg7sIn3zRHLVg0MgIbfI2abtg59ddaOwtQ1liE6FHpRD9LUOuFn7jis8xycjXbeMy8mN4UK5Eo1Pj5hXNI1+kwZX1fP9QIHKtH7HjFpHNeVYO606MzAOtGFe9RgqcEP0twp7LRuncApKR9yE8zmXkx3thMeulCDGNygdvv4d59Z33GfvhSIYOG83HC7PZ8fsEHhfrSNRrEac+53wQ9kJX0fltNqP2kFG724ssOQZn8kbylEONyl2B1ieADvN3cPXiIdb1eYAkyVXkR69Vh9i/4mtSxAnAbMYijL1CrD03FCptBdss3k+McyJtuy/h4Nlz/P7Fc9jNJmnMpHeXjLwRSx+Xkf+wJiEOVbFQyb8z8hYsIjJIeBXE6UepwVCJdVdV3BkjbxHHYZ304o2e+5BtXGFl347EyGR4CFeJGGydRhrswdMyuH4qj9Z1IiSjKu16RVyq1YZ3vw+YOmsm0z7qh7ePXerM0i9cGmJ3qBcTOKI1PZechV1f8nJTYTQNmLQq5FHN6PLNeg5c3s8PH3aXok6Er1KEc0oXNAYt2ha9eXPSLGbOHMtzNSPx0egq5EMWOx3hogpJasLqY9fInTnMuZB0BizChWXSodVo0MjdkPnG8+S0bK4cmMtr9/vipjCgUSpp3f05vpk1kxn/upcmCU6jV7qe8mDUqvDQWfB9bRH7z+9l/iBvDGp3zHZ/Oj/Sm97P9eXlAf156f1xTNp3jkvbVvBtny60baBDp1KjDK9Pu7emMGvmD3zYowM1hSunnHrKQhh4cYx3Z/iva7l2ZCUNagZJ9xvSWBqcbVYpPTCY/Xl94g5OH1rFqLp2KbRPq9UQGpfEyCmzmPn9e7z4oEqKfLn9Dl98HAzo3GTImr/CpEI4vfAJWoQLY6tHLYvn43nbubDnGxrG25DJ3HnqmxxOH8+lR2IEJpUKndUL/0feZvKsmfzw6RA62m1SxM/tdn0WcYTXiY9WU3q8dozrl75k4P3i/50fLYtFzO1GDPq2kKtXJjOwuRd6WdE9gCuU1dCWl0aK/v6RUT2iCfbSoa9AyJ9w1yhkMvySW/LTwWscnf0hncS6EnM+qQsv5QBHxvNSe+eHNaLrq2QAB0f2pZVMhlKjQnnPU7wq+vuH0TSpF4tCrStTT3kw61V4uFkJjJzF9nP7WfapJzqt+MAIw2REo3R9zN1MBPefxvIdq/jx5QT8lAaM0kk2hpb3v8f3M2fy3cjutIpVopIioW4NKd9Fr6bl82+TeeI6R9KG8HCKDJnKQ3IJKg0++N0/l4OXjpMz/BFkbmaC4kex6fQRVk9ugEr45MX8i0qk8YfTmDlzinSJqtBUpM1aFO7N6d43i0Pnj/LVR73QKsWu3gOdXoyjBZNeuCpV6J6dzvqzp8gZHYuf2Q2FpuiD/zdG3qBFFViDBgO/YNbMn5jw8iPUrdYJs2K4A0Zei1KeQIcenzNvWTprt+/jItc5s2MjuemzeP/e2vjL76X/mLksX76cwqNn+OvaOQrW5LBs5mgSY4LRSMlVZuxNf2YfwMWVPBPsh1lE75Tz0kXQq5WE1mnBezOWkZ5TwLZTf8KlQ+xcl868r16gfZiMpKfeZcN1UegJ1mWvYP6iNFZlZPDz+/dQP1wu+ZbdfZ/ju3V/AX+yrG1Dom67y9Oj1fgTFf8+Py1fRnb+Os5e/Ytzx3azfPl8Pnm9C3J5NM3u+YrFK1eycnk66Wu3s3nD74x9OgAfixqjCFGTyXA8O4ol4vWu/k7vDiHIPP5+MooJ42m18cjI71iUsYrMwlNc/vMyJ3dlsmrx97zdxYJSGMKi3XRgEqkZ+zk+ZzT3ih2VxhOLUYFMXYuHRqwXNXN+6rs8JJPdNuJHhIZq1I/y5vj5rFixgj3Hz/PX1TOszcsibdo7REQE4/niOH5ftpIVy5eTmZ3Jni2zuT+1PiFqk7RDM6rc0cbVo982UfNZ0sa3QqESYadl6ysOrVJO7Yde4NuFy0hft4vDl+Daya0UZKczfXgrkgJk+EcP4Lfco6xbm0f6smUc35nOM91T0QifulGPTmvBp+F4NouqrxQw3tuBp+Hv55inRok8uSUPfruQ9PR1bC28yl/XD7FrYzpLf3iers3kyOUy2jw9kR0nIPft+6iplyEXxr94v6mCGfz7Lqm/z8xvREKIQjpRlanvBoRbxJfopIF8u3gZmfkFHLvyF1dP7GPjsiVMH/Y0DXRWfJ8YwYSd+9mzNZ309HS2FW5h4+RRdA/wxmIwYtS5IfPpz9dZouZzfNu9Nf5uir83LOLuw+5N4GtfMXfZKrJyjnHxz8ucPrCKjLTpvN9LjU9UIoOnpLNy+TLSctazZvliJjWNJ9jHA41ZtN2AXKalydMfI7X65HgGdCh9j1EaIrpGjNNTfJtzUeqrszvTWLp0KenLRd7OeHoF+mJxT+HeRxZTeOkEK1fmkJu5k8yfWlI3TikZU7NBgUyXTPuhe6QyDvz+AQ3cFbfdxOiUbtTp9glrTjv7Knf1ChYsXirFvM/+tDEJoXJSB4xnzvKVZGw/yvk/r3F2Xy6ZK37lXz2D8bGJ6La/MfJGFe6qKFr2Wc6fwF9pX/OszANlOe9yJ1GukT+RNYUeSgVylRpdqRDKzceP8O1rqZIB0UpRC2aMBl/CYurRIjWVFk0bU79uXRo0bU7L1GbUDvXDZgilRu3mtE5NpWmjBtSt14DmLVqS2rQ2vt52qRMcfmHUiBnN6kOXOLR2Cin+3hj0hjIvXBzi2O/wD6JW01RSWzanWcN61K3fmKYtUmnZIJ5QbyMBoZHUrV+XunUb0LR5S1JTW9O6dWua1grF36FH7x2Ar3cUY+as58rFXUxukkSQQv33i0DyS4sQyVo0SU2lVcsWNKhXlwaNmtC6dQvqJEZgMIjEiPq0bC3qc75fo8QgvExK6TLObLbja7Xj+dBbfLv7Gle2D6NLEx3uytsksUhuLAuRtRrRsnUrWjVpSL269WnYtBWtWzSiVqQ4lrri8EUop90bv4RapMRH4i8yIUUcst2B0dOfh/qO5tBf19gw6gVauHnccK3dGiILMYqkui2kPmzS0DmWLVq2onXjWnh52fGMr0uzVs4+btWqJXXiQ1CIUFwprtuCzWzHXjuVzr8dgYsrmDTYF1UFLmXFLt4vIp6GLVNJbdGURvXrUq9hM1q0TKVJcjB+DiMquYPgmNo0b9lKGufGKdHodLobiXJG7wASarZm7t6LnN3wOwO97JhFYlw59d2A2Oz4BRPeUMydFjRrUo+6dRvTtHkqrZvEEREkEpWMhMXF06BRHaK9fLDqhMuvqAxhuHwICPSn5sR0dl8+xbrxKUT5qdDe8OOWB+cc8/ZNoGEr5xxrVE+0uTHNU1vRODmWIL0WtacV74SGNGmWSmpqKs2bNiDO14ZR2iGa8fKz4+X5OB/NPMiVy+vpc09dNHLV37dZjJXFij2xAS3EHGvZiPp169GgcStat2xMSqwRq5cvNRu2cs7tVi1oHB+Gt5sCtUEYePHuDrxMngQ8PpAvj1/nat6bPNbADffbXsiKeRJDQlI96tWtS/3GLWnZKtU5n5rVI9ZhxWzQoFaHUbNuY1q3bkXL5rWICVSgEvknZjNWuxmbrT6dH1vAOc4z99N+WG/XZpc9CYyOoXYDMcb1aSbZC2fdzeoG4uswEJxQj+ZiTTdtRP16ok9a0qpVM+rGOLBZROi0CneZieDYT0qGUIo4epsNg9WPdt1eYftf19k95S06eihc95b/PpSTDHWI64VLeL9hA+rXrUl0kDPG+EYy1JWrLPn6ZWompZASE4av5MMW0QfOY0xJiDh78Vwc8Us/U0n+a6O0AG089uEMsvM3sH7RRJLiw9CUoUwoBxZnpptWXU7ZGj1Gcbwy6FGXfqZSodYaMGrUqJ54k8+XZ7Fx6xLG3tuEKK0OQ4XuA8Ti1ZZbttblrjEaS/WJRodB2uFpUchr8VC/qaxcu4FNSwbwZDs1WpGteRtjVwSDoJ8oU7e6jOGQXA2inVqXC0otdqateGB6BuvW57JgdH/aGgxSm2/b3wLSPUPpep1jKblr9JoSfSIuop1/K3Y4vkQnDuHH3LWsWzubLwZ7YbfqKxbXLGg1DHo0peuVxtLp47ZI86xYv4j7EckdaERv88L/jSmsyM9h84rvGRAdhrc42peupwwskn/XUG6bRciqM+PYqNdJ/6Z1ZcU6/1asHR06bS9GT80ga9Nm5o5qSe0wnZQxfPv+FnNMnALK1q3W6Z33KOLdSs1/jbT5skinn4ZPDmLG6nVs3DCfpx9qjlLMgwrNb2dCXel6pTkmLiDNppLzQKybG+0WYdX1uP+JmWSv20DO7OE809zgcnmUracsxEm5dL2iv0UynzNBTfTrzXkm3sn5t3qNisCEeoz4JZ91BXlMH/uSM5GuImGV0hwrXu5NqEXOgtmC8ZZ9Igy8Fbs9mpq1WnL/w79SeOkgKz51GXmNGkV0bZp9tZS1BXmsmDSCB0Wi3R2moCgPZWgNan78Gzk52WRlZpIxdwID73HSGqiVchKb3cPU5TlkZ2eRmZnO968+Rt0iWoNqwu7ti5+fD142TymuuWKTobowY7aLJBJ/fMQuVC98rP/+Thcwm63YvXzx9/XB2+ZMES/Lz/HvgBmz1Ybd1x9fXx9sUnp6RYzdnYHF6oWvnx++XiJVvWJ+6TsFi5eYY3542YVvVfiNy/7m3wORmOWHv7cXNrMzl+GfmGNiR251eOHr74uPl801x25zUrxDkOa3wzW/pRDWf25+W6xWqb99fcVFsQn9HaFauB1ctAZhI5ienklmZjY5q35l3MtFtAbO05HNxx8/X1/snuLu4TauwjuEMgRlZr1OIh/TiwlRIntM7JpFOrMWnV5/xwmJxNfOIHaUd4JzozIQl76iXmHoKrjDuTNwkrkVtfmf+ai5IMZZxBO7Fv2dGsMKwcV54uQPKuf5vxM3+vuf+6g5IdxcRf39T84xF9mWq7/vNDHf3+M/O79v9vc/bE8k4jRRd5EdLf7sP7PuyqUadn55XF+fEoPjZHQsev7PTpq7uIu7uIv/6yhuI0vbz/8Myhr5u7iLu7iLu/ifQeWMfCn+6H/i0uAu7uIu7uK/CcL1/O/gua8qKmfkpWgBcbFhw263Y7NaS2VrCd+jHr1exIuW+gAI/5ze+Ux6LkKKypRfdUgcNqJsybde7JnwARerVyKruqMd7/SzOdt0C/+fCGU0OOu/0z5Co6vcG+IuEm6+U3Hc8v2qghvjWf4leVF7JdwuFr2SEBsNZ7nFfL2l5lfx8RY5CaXLqApuzDF92fsEyf9cqt47584U6841nmUuyYV7tfhY39n5XTS/yq1b3O0Uf64X2aZly6gSSvenpF9Q8jc35vgdvli9Mb9cKBmNJO44Sra5tB2z2e3Y7TYplPTOzYGqo8JGXqPwILllR2blb2b9OsHNvoIfBj3hiq4RoVx6iX/aYvcnMDAAX7sN640G6tFZ7fiEhBMRFUVYSBC+NhG2Vw1+cRekUEWDRvpo+AYGEujnjcNWFCduxuzlg39YJJGRkURGhRMa7OvMkjWaqp9OLMLIdHr0Nj9nm328yvxGZAYaLJ5YfAOkWGkhoHEnBl5k24pLcIdvAIEB/vg4bqZtC+5+q5cfAUEhhIl2S4ggOND3jtRtFPHZJjs+/oEEBvhitVpuTnSz4H3XYvEOICTCWXdEaBA+5ZRTWYgQSb1WjdnqwD8wEH8fOzaLcyGZvfwJDi9qqxMhwUEEBvjha61m6rhrjulNnngHBBLoL8Q5ivytFinL1+xpwy80TJrfUeGhBPs5JGNb7YgSKQRWfKB9CJTaLCJ0nGMoaAOEeIbZ04+Q0AiipPntg0WMgUHMvXLKqyik7GU9Dr8gIsQYRoQQ6OvAotPffC8RMeMdSEh4FBHh4QT5ObCYdRhKCYxUHkZ0nnZ8g8KluiNDgvATOS1SVJII3xRzTIfO6iutO3/fsuuuanCOpcXmRXBYuNSfIcF+2IuJsBh0QrMgiHBpbodIbRa042IOCjER36Aw3puxgty8PNZvXMfcrwdK/vk7vbmrDCps5AVZUMMHn2HXpYvMnfCMNLCxoYF4iV2DiFl1mLCEPcfIz7dx5NAOZj19H/FucrTiy6cSHCtTmL9miyQwsG3PHlZ/eT+NA/TotVXf0QsDr9da0WoDeOC5QeQdOciBjA/p08wNuaAHUMuRt3qMV+fkkZeXS27OZrZvW8Wrve+RdvfV2vGYjJh1ahzJqXSbnM3hw/tYMOlVl2hI0SI0o3dXo2z8JEPyT3DyyHpG9n8ANzdl2fIqAWFcNAo/4uu04LuV2zlysIBpL/rjEFTDOi0q32hqv7+Y3fsL2ZIn2i6wnM+GP4lKLQjUypZZUQihFKtvEAn9v2TR9mMc2TSDeonhUg6A5M7TKglJqMsHCwrYsXYN+bl5rJxZfdEQ0ZdatQOrPZwBH09h19FDbPyuGy2i3JErnBTIn87PcrVVYDXb9hzg+K4lDIwLx67RVi1k0mLGoBOL24f2z77Okr2HObRhFP06ueGmdBo7udFMu6FjWV2wWZrfOVt3sGfdjzxxTzxarcgfKKfcCkDwnOgtGlR+LXmoZxqFBw9T8N0IOkgUFCYpxV6rbk+ft7LYUbiRnJzN7Fi/gndfaIRBJ68EP04pCINlNOJfuynTs7ayJn8ta9btZueq6bwcFYxO7KB1OhQp7Xl8wUb2bclh7abN7Nn4I+/eb8PsUTwZrJKQTr2+RL44hfRN6ylYm0vevn1k/9iaetGCa9657uyx9Wk/dimFhw+R9+u70q5ZsEeWKa8yMBlR2Hzp/9mPrNkm+nMLhfvW8P3j7QkV68qgJyCqP9OWbWZDwVpy8/axO/sHmtaNkiJmRHSe8HKEhEdSr3UHZu04z55l45wRfP8VRr54xuvrbSVuEEnj1WLE4OEgpPe/mLo+nw2rt3Ds/ClW9u9KouCTF+o1yod5Y/Jcpj3anhSTkfvHL+XI9ZMs61KXSK2gTS1bX0VgNCiwOFoxYEQe67evIn/XMS7tmsyg1CI+eZFl5sDLL4CAAC/Mhga8NnkDV0+v4ul7E8qSrFUUZhNag5mINo/xQ94mVmUvovDkNfJ/GXGThVIkVmhl6DSNGPDRFvbzFxeP7+WL4Y8ik1WRx14y8CJ01UbDtj+RuT6P5TnrOXd5D/Nfc/HJazUo/RNoOmktR9b8RD8fQSTlh3+AP77ejiobHAkiZTswnqE/prN6zUJW7zzNtf3LnKIhKo3TBxldl+9yt7Ft9kR6eFkxqLUYzBYcpcuqJIwGD3wjXuLrn9aTU7CKXafOc2RhL0k0RC4yHUW+g78Y5wD8/HyxeSbxddZhrhd+T/0YP9Qa1w60kjAZlJgczej3/kI25K9kzZoznDv9Na93c6bom+RuWJ56h/mnDzGv7wPEqrWomr3NjJ3XODz/YZpEuKOsIB9RSYgdvBlrrUfpl7GeHZmr2Lj/Csfmf0JXwUJpVOFhqE2Xt3K4cHQdY3vWRW9oxqsfF3Ll1GT6djYhk1fxtCrRGvgSPnwys38cSURgBDEpb5J96jJ7lo4lVCtHExzP47/s5+SBdIa01xKc0oEv8y5xftl4XrDLUJiq8oEpEg3pwLDJC/hpZHMSI2z4DVvK7gsnyP4oFn+7Cnvte/kqYz2rs+ex6cg19iwfj1VKPqymIdUo8Oj8EuPnzeT5ro0wGlvxwW+7uX5xLU81r4nKTc79b3zD/J9G0jAxAm+/N1ix9wJHsj4iMsgLrd4o2Ry13A1raDwTcw+zZeFH/41GvjR3jRqFohmP9Z3Ie90b8Ojjwykoh2pY8t3phEtHhuyBj1ly8k8OTW9BUqAC9d9yeNwaWpWSmi3u5V+fDKFz1yY8Orcs1bCY5EL4wcnloqPnR+lcPvwrvdsG4ab4e56YW0IwQHqHkvTCx4x54xEiazVmZQnREMEPo0VmNtNyxNec2rGeRd9NYXHhAb5+q3v1jLwkGuLFy2PG8U6vGkS/WUo0RDLyNWj6ZTa7l39GlxuMkO4oxU6jnDIrBjGGWrSt+zHm8w9omBDIkOmZN6iGFQoVRouD2h8sYc/OlXz1XD+e7dmTXk92pU29MDxU5opltt4CaoWC9r0H8tmIB0h69FnGbS7ik3ed2ori7/XCjSUjpM4X5BYeZPKgmvhZVVVOutKplUQ17cL7X7zCw/Xq0K1/SaphrYeMhGc/YeuVq8wY9zRaNxmGgKGk74Q9Ux6igY87yirR7oqsz1CS6r/HpyN70z25OdP2FhMNEaR3qY8x+PRlzn7+Ove5xtmv2yuknTjOtEFdMcvkVTu9FEG4NfV6yVVr9Qng/ZyTXNo8l74qHbENe7DuzBnSP79fqtdN1Ymhn54AljPhJTtuiuoYNac+hV4kaKr1KD1GsWTXZfYsSSAk2IzfIyMZN6oPkXEJ/LLlFDvTP5XcdtU28gKCX0nYKiFjKJNxz9s/cphzzOnQlAi5Ao3InhZzTKPGqJTzr/TdXNq7mLiIACnTXZQhstF9o5P5Iu9/xsgXpZM7VVqa3IJPXvKbmo14yMJo9NZC9l0/zqRB9fGvxgIU6eRiMqjEBI8sn09eGL3oRu3p99abvPHGIvI2H+PHUa3w95ShMpa+OK44JH4OrUpqc+QNqmGnkRc+RY3MgK3FW3x36SgF77akS5MeZB0/WW0jXwStoAnWOQgqIRoijLwahdjJf7uN62e3M//ddxkxYjj9u7SmpiAhE/cD5ZRXMViwGLQoFXJUSlUJPnkPuVL6+HywuJCrZw6yZf0MfvztV+bsvc7prdN5JFW4xypO21AaYqwNgnpDjHXLYnzyRUbe9TvxEVS6NWDU0p0cyX2XGmEOlJpqXMy55phaYlwsh0/eoEURWZ82z3/HirWbmDV1DL+sXMjPM8fzQGQo3qqKMZqWB4nJ1OhUfPK/QTXsMvIaD2SRD/LK3HNcXD6c+73F+3kS+uQ3pF06z5ZhT9O4GgpkEsSaNenRGFRYW/dh0cHTHEl/hsYKf5Kaz2D9oeX8+oGae5/5iOk/FXDowi52HdvHDx88gcyjaqpUTrg4lkxCNMSNpl1/ZeeFMywbFk+wVYNOLVSxZPiFxzN7x5k7buQl0W6jBzL/RF75ZTN/nvuFd1qGYlc4KU/EnZ5B5Y682UPMLbzAifTXiQqyStQGooz/QSN/E2r3W4mGOCGXCb/+eLaev8r2LwYRabOXFDaQPgRVuJHWyG8pGiK4LOJadGboxxMZ96+R/Jw+lynTP+PhxBgCNVoMrjKK6q3s/YBQ5yktGqLXumMLa8ao6btZt/gtIq0yrK2fJf/ocSYM6iAt2uLc2s66y5b9txB88NZSoiHCyBsM6B0BhHXow/D3R/PhJx8zZeZs9h3aw7JeXWkqsvCKyqhim0WUSWnREGHkrQ4fJmUf4uTuRfRt7jROnu1fYd2JM2yZ2RarRYSVOce2qv3tKYxbcdGQEkZe7MLcqd11JttOnGJ+r3hCjQq0pSOPqjLHPAUvelkjbzHq8AhJotGjn7Nk6VR+nf4zOVv28vPUT3hIBAIonJzhooyqtlmcREPLiIbo0cj8ienyLYuv7Wdb9gQmTJzHb/OOc2lfId8N7IavzKPM/C5d9t/DKBlUjbUno/LPc3nPLJ5q74bMI4Dkpt9TcGY3x/Z8T8HmZYx6szeD3uxP2u6TzPqwRzEjX9Tfpcv+e4i/UXm4Uaf7y6w5f549nwzhPqMVsyuaRaiTBUQm/L2Rv2FPypb/d3Byytek3cg8Tlw/wPR3auPt5YZGkK+Jj4/aA/c63RlUcJ7zez6m/z0GrKabHEy3NfJVfK+q4o4ZebHwxS6raR+naMiKfp2pIXYSoiFms0R/m/rUQArOXmT/p6/TQaNCp9SUvIjTqVEqFJIARYWP9qLTVW7IYtrSe7Ew8l8yoIU4Pt5cTEISr4h6V9H+TZb99Rf7X3mUBq6djlioGpVCcjloRSZvhS+NTKjl7kTWbs6qI5fJnvkmCqUcd5k3Tbp9zmHg+M58vp02i6XZ6zh95Qq7N2Uz9f1HaFdDgUoviK2EDqxosw6DseICGmaDDo2nF0HDFkpGft6QAOxmLTpBgCaMsJDJK3LVOGLpteoMbPiNtzwU0phI4gUaJQqFApXWSXZVuo7y4eQh0ahVLvm/FTSpFY6buxyL3YfRS3dycPV4LFa7c7fl48tPG0+xefbwGwtR7ISEPq/ob0nApEwdt4A01jJkrVzyfwueonV0kUCM2MXrUHp04vOsk5zdNZSukRYMqpJhf0KntmiO/T3TaHGI3ZsQeiiS//uSwQ8KzQKztLGp98I4dgO/jm2DVuZOcI3hLN38F9eWTKBdlA9yrbgPEER6Rf0tQj8r3t8ahRvBdVzyf3+M4QF3OWqjGYtRiXtgENEP9qX/q8N49cUn6D9mCpu3rOXtfi0l3QSLOH2J+e3qbxGhIk4nZespDXE6F/w+L/DZz8e5cmQZD6fGSmI3CrmRhEa92HgZ9uT9QtMaVolzPbndBPaez+XLgUIvweSMfLvR30XkfKXrKQdmk+Qiatr7LTJPw5H0V3nAIkep1EqRaqJPRF+KnfwfwsinjXNeUgufuFSGcw0YXfNbLfq/Qm0WvxG2oiFdn1/NsfPH+faDRzFodU7REDH3RZlNejMy8xQcTefFzp64K5TFlKH+zsi73kurkt5LKXQrKvRe1cMdM/IWixWt3J1WL41lF9fI7P8QSULJxeIpsUR2e3U0hRdhz6jX6CL4b7R6TDaXu0TExFrteL86gdlpacyfNJQAX4eTIracdykJCxadEvca99Fn2QXY+w2D2rij0LomlMWC1WqVoFN4kDr4K/ZcOMSHT6Ti6abAYNCiaf0io2elkZY2hVdrxeAnLgvL1FMehLKTitj6qeScvM6a395GqxPMmr4Ehzfjngc689DDj/FE924MHfsd+y9eZvnP43mgdRI1gnR4uCto22MAv6SlsfTbrrSqJQa+dB3lQ0wWg92PsOFpHLp0gMXDQvCx3YxTFiRNVqsJvdqf2KajWXL0DPkz3yZUocaoUyKPaEyn0b+TlraQr/t2JcUlKVe6nrJwTkrhtxw5Zz3Xj2fSsm60xMRntNhJem8pe0/u4Mvng7HY7US++A2FJwtZ+HYiVuHGUqkJS0jhkz/SSJs3ntce06LVVXBXI8ZSp8C93VCm7oNzS3vTPt4Dpc4ZVmfQa7ln4EIOnTvK70/E4meQoym6AJTmmDcBT30s9fei70fSrYKiIdIcs6rwcG/Dc8NPwtVveP1hd9xVFhRuMnq8O5k/ucL3Pe4jUHxUk/ry1bqrsP917mmox10c8w33MnS86O/FfNEvjlBvoQRWup7yIFSnlIQ3uIdfjlznhBBkL/pAif4QQirCPy+T4Vv7Hr7N30LBpBHc62NCaTBJfPiKjs8z/Pc00hZ9SdvGCZJSUtl6isOEwWDFJ+AtZq44y5UTS3kwNRl3hdZpLLUKDAm16ZN3mdO7f+Wle2V4hKXy+JJTXF71FQP8ZCiMOpSKWNp2G8vctDTmTezJPQmK215CS5rMej0dBo9n40U4sqg/XWqrUJtFkEeRe9XJ+hkUncj8PRfZu/IzHDbBreU6qWjVKKNTaDFxHmlpc3j/la4SI2npuspCfJDu4bk3NnHmz6NMGNkDo06PRmfEZnVKbhrvG8KXzhej74O1JXpjwXZbXLP5lkbeoEEZlEjTN38iLW0J09/oReMKi/VUHXfAyAva3Jp06jWJpZmZrN++h5Pnz3Fsx2bWZs5mTNvaeCc9ypfrT3Ht2hUO52ayemUGq3NzyZkzlqTYENRCPUltwJI8jZ2Cr/9SBs8H++F5W9EQBWF1WzHqtywy125k25GznD+1nx0bMlk65SU6RsuJuqc3U9JzyMnJITMzk92FGbw7oDsGsxGtmBQ6BW6ej/F19mXgOssrLBoSQHSND/ktK4s1BRs4duY8xw8VkpWdxoThj0tCEh5u7ri7OyXfwtv2JGPPPj4ZcJ/0/yLmWi/++9S7zBYKAtfm0LtjaIVFQx4f/SPLc3LJ33WE0+dOc3hnHrnLf+LdBw34hsfw6tTlLjbRNWzcsIVl371CeIgfKpPYASqQucfReYikJMH5796jW4VFQ57g7S/SyM7OpvDQCc6fOSblTaz+ZTQxYX64+cXTZFomB/blk5ufx5pdm5nzXj3iA8XpzIxR6YYiKoWnCpzCDGnj21RMNEQhp273l5i2LJPMDTvZf+o8Z49sZcOaTH5+rzXJ/nI8Wr3KjB0nOJzxKC3CdGjVxVwjZoOUx+FI/IC1QkTmynom+Diw3C5RS61AXqs1D01bRmbmBrbtOsP5c/vZuTmTVT+/QNembnh6deCdbwo4uGMz6zMzydy2l53Zg3mmg7iHEAlwOlQKL/rOkORKOLuggqIhal9iag1l+sos8gs2cvD0ec4c3sPmrJX8/M7T1JYH0rDzJyzIySFr9Wo27srny7EDibCYsIpQWXGfIBStjH2YmC6NNN89kkqAm/xvTzHiDsLT7sezE9dzkaucPbqT9GUryMoWzIqzGNvPhFavR9miO31XFXJqbyaZ6zeTt2QaIwL9cajFaViIhsip/di7bBBVn5rAgI4VFQ3pxeSME1y7dplj2zPIEOI4WblkLZhIL/8QgnxfY2paFnlr1nL41DlOHd1LTk4GP3zSTzopmvRyZIoatH5hq9Tfh34fRSN3+W2NqRANqffYR2QfucafV4+zJieT5StXkZuby8LPG5MQ4s6TX6zi1LVrXDq2nZUZGazOzCI3cz4Tnw3BVxINubWRtwiuefcQmjw1DyGJ8lfaJJ77R0VDbgOnke/NluNHmDyklWSonMd8cUHiRUBwHEkpKSTVrEFsdDRxNRNJTkkk2s8bq3cwIdGxREdHE5uYRHJKCrVq1aJWzRi87FZMZhMBkUk0bvgpeYfPsz3jc+L9vG4rGiKO/TZvX6JqppCSnEjNuGiiY+JJSEohOT4Uf7sJu38IcUm1pPpSUlKoGR+BVRh4vUHyrxmDo4iKSWHiko1cPL6BCQ0SCFDe7igvdp6CSlVwR6eQnJREbEw0sfEJ1KqVRExEUIkYfLE7Ee8pEpNEIo1TRMCbYP8wwnqO5qe9Fziz7mU6NlBLUShl6ytZt9jJBEXXILlWLZIT4oiJjiEuIZlaSTWIDDBjtdkJi09y9nFKMkmJ0QR6e7pi2U0Yvf2wB8fRc8hYDl+9QM7wXjR2l1dAvEAswiAiY51lJ8TFEh0TR1JSMrVqRuOwWaXjucY3hGjxPuL94iMIsGlu8G07rEGEterCU/OOcP30XD59yYZacl+UrqskxFh7B4YSn5xCSlIC8THRxMTVJDE5hZpRvnhZTZj8womMjSMyyKlhcNN4C5pXC+bQWBo368SS/ec5njmdfg5bBURDTJi8/AiMTyYlJYmaCTFER8eTkJhCrZqhBPkJXnVBlR1CjDTnU0hJTCA2VJx2nC44symE6LgEGn6zmj3nD7D6wyQifIqLP5cH0deCjjqcGslijiW62lyDxJRaJEQG420Su+1oEqVxFmsvFh+bWXIDCD55cQntGxpERHgfPptziDOnsngyNQWVXP33pxcRhWWxEBwdTYxAbA3nXBJITiAmTESYObNNjUFRxLvWX40gX6wqDTrpwtiHQK8Q4vuM4Nvjlzm3YiAP1XG/cVd2a4i1FUJYRIxUd2yNJGmeS3UnxhJstWGzhhOfVIvk5GTiXH1Sq1YyNWJCpbVl9bIRFNaWJ/ukcebaCX4Y1Ruj4jZtds0x3+BgouLEGMdSMzGJlBRn3YmxggbdRHBYBDEx0UTH1iApuahPEokJsUlhnMLXLuQajQFRjM8+dNPIGw2YHN5YQmJ4qPcwdl27zOaJg2nnoazAuqseKmzki0RD9lz/i1U/DadVm7a0ToknUKR4uzReJT3TEtA6yfqFv0ynLfVMIyUOidhqT4uVRz6YzsrMbDJmvk9kqJ8kGlL6HcqDlL2qLV2vRgpnEskgYqIL0embdeokuldx7DMLgYlHX2fC0gyyc3/l7SbJBKu1tzHwxeo2ix196bq15aRZF72HFoNB+CrF6SeZLn2/IT0rm+yfe9G5iXDVVPwGXhxXy9QtLlWFC0C4Lor3t1a8k6tsIWeX1ILOU5eRlb2CGa/3pLFYmOXUUT7KH0utrthuXKJZLfVOkpydD1GJA/l+VRZZK79n1PPiIrZ8WoSycGm8ljPWOinrU2RdG6S5oBXKTMXLlERDHPi/PpklmavInjOBXoF+WG9n4F1waryW1+YijVcRvllyPMQ7OO+VxM60ByMnp5ORk80Pr9Uh1l97GwN/E4LOoGybBd23cF84Qw1v1quVqCuK7nWEaEiDx19l+vIscjJ/pEv7OsjFfVc59ZSHW84x17tLl5DF+kVsnJyRRBoU8rp0evwHVmVls+z7ATxcVwiLlK2jfNxijgl7IT4CnqJPSj8XfWKQxF0CE+ry5oxMsrKX8dnbT0tz01DNOeacU043Udk+EevLyd5rc3hRp3kbuvXsw9JD1ziQMd5J9yzuY6JSaPb5QrKyMpjz0QDair6s0HtVDxU28iKKJL5ha8b9uoCFixazdOk8vn7xYWpX2Jf79xBfwCIOjor54u8QXDfdBomPQvCc3G4nfecg3bAbXRwdxXlY/gmIU4yLo6O4lu+/H84QNCf/h0jsKv383wgXjfYNjqPSz/9tcM4xJ5+PQeJ1KvubfxOk+S143Z11Vz7Cpuowi3b/h+a3OD0Lgy2dNv6h8EXBIe8TGMob38xj6ZIlLFrwB1++19v5LkX97iJ5lNZdhe6Dqo8KG3kpJt1gQCn3QC6XVyEq4+8hdYSLg7n0s38rxCIo4scv/ezfDOeHzcU7Xc7zfx+KcV7/g4veiWJt/gcXvYT/ZH8Xze//WJv/WSMrcLPN/3R/O0/4/wnNC1GfM1JPgdzDo+wl93+gTyps5G/gRoznP9t5d3EXd3EX/x34v2UjK2/k7+Iu7uIu7uK/BpUy8pLvuhjP8j/lU7qLu7iLu/hvQXG++Tuq4VBFVNzISzSaThX0gMBgwkJDCfL1lritiwy9xG8tkotExIP4ANxIEBCXXSVvw0VI3R37QLjCxaRbb3FPUB4DnisCwnlTLoRFyvlNleAk7pLaXCLk0xVRU/omXkRkmCuY+VcB6HWuyIJyEmuET7R4pICIyCj9myqjKApB62LddP17iaieG6h4NMltYbFIi0iMtWD9KzmOggK3ZL36O+b7LDaeIhO0RPamMyqjeNRFyflfHZgxFV87N6KVXJAibIpHfJSMsKkenNoAN+euiG4p+RuJ4kKaY6Xeq7owiqikm/2p1ZccR7MgL7vR5jtYd7H5dWMOFc+CL/HMaW9u3nWI0FMr/kGhhIaEEODvi7eXvWwd/zAqbORF+n5Kmy4s2H6AnVs3kJubwU+Dn6CeEA2xiNRpLWq5J15+0cTFxRAmPgDSBZe4+PEjPCaJ2nXqUKdOXeokJRDpZ8Rgvk0iSgUgPix6nQKD2UpEfDxxkUJgoNQlk8Q7b8HhF05sbBwxob5SzGu1L6JMRucE84skPj6WiJCAGwZPTH67lzcRsQkkJtelbl3R9jqkJIQT6F1KvaoKMJu1aNRqAiJiiYuNJsxfGDuXsRUL36CWQvxC45KoK/V7CvFRIXfkYlsiQbP4ExYTR1xMGHaR6yDKtViIrJEstVOgbp3a1E6sIb1feHDZcioHEaooEoTkEiNidFwc0aHO2GXnOOrRqBwEhieRUtvZ34kJUQSKfIhq7qZEer5Bp0TvaSMkNo646CD8vV2XqGKDodNgsfsSkZhMSt26pCTWIEzMe2EUqxWYYMIgeOP9I6lZqy51a6dQKzYYP4fKyaNiER95TzytwcQn1qJu3RSSEiPxslmkzUS1DL3ZhKdeR0BkDWnd1q6dSGx4AHaJgK9ISEUtfWgDouKJjwmTcgaqvaYk6NHY/AmPr0VtYS8SaxAZqENncF5YmkRYamAkCbXrUKd2bRJjw/G3VyYM+BYQY6lVS6IgCckp1K1bi8SESPxFdI6ITBLrLiyWmqJeaY4nUSMy0BmubbopGjJyZgZr1q5jx95Clk9/wykH+A9F+JSHCht5kQzV4MFn2Hn+LL98+AieNm8CpZ28JxaTGqWPDd9agxk/7SAXzhxk7rP3k+Am+OR1qJUt6PfBb2RkZ5OdlUnWngPkTn+CeyJE/HHVd/TCwOvUdgzGWHoMeY9t509zes04XmrhdjPpQho4GVpTW978egPnr15i589P0S7ODfltEzNuDSE95qnTENS0C8/9somzZ0+x/PuhN/jkBblS/Y5PsvrIUfZuX83qzGwpSzRtSj8erCVHUeGY4bIwm8RHN4x6rR/g97UHuHB2B7+8EuAUDRE7V4MFkyaA9o8/R8buQ2RmZpGdvZTxbz5RfdEQjQKv0FiajPiRVYcucX73bBomRyBXqLDaHAz+ajarxThnZ5GZnUvmzqOcP7eTtDEOLJ5iB1y2zIpAjLVa4YtPYAojvv6FoxfOUjjrUVrFCIIyES7nRVjMh/y6IpeCNc7+3n98C/O6tCVMnDqq+HGThF/UFszmCB4eNJqck+c4W/gJAx50w00hYvO1yDytdPzge7Zu2cHG1avZcngPecOeo53O6IrhL1vu7SFYTg2YozvQ+9eNHNmxitUFG9lyZAU/vh2Ov6Cw0Htg0Nei77ur2LJ/O6tXb2b3vkK+fP9pLGYDWsFvU6bcCkAoL5lMBDS7j9kb95CXk0/emoMcWj+bYcnRaEXegU58YIJp82R/Fu4+y9ljcxnfT478tsl8t4FEaxBC0uu/kbtrA+vyVpN15Dgb5z1Iy5qCb8mAKaA5neduYH9uDvl5azh0qIBfhyYRoa3m5sloQO4XzrBpc1m/cwOrVm1l/9Ht/NG3KxFGPQqdDuPzHzJ9RTZZIr8lZy/7C2ZzX8skKSxSEg2xWPHy8iKmbnO+33SaXWljyxKU/cOolJEvojWY8kZ7ZDK5K77agM7dn7h+XzNrUxb5S/M5cPYkK17uIomGlMjmkpInNHi8Op3caydY07YB0YKkqpz6KgKDXo4joD1vfbyBgs1LWL75CBd2TmJg6yIWSrEI1cj0djqN+ZWDO09y4eJZNi98jg41hNhE2TIrBJExa7QQfX8f/tiwiSVpP7P16BVyfx5ezMjLaNJtAOv3pzGujxvuQkWodDlVgIh5NpnspHadw9qNq5m7Io+TFwqZVyQaYtChNIZS49Gf2HFkM6Ne7uQiKvNAqbnJfFklCGKy8Lq8NyeLjNU/k7bxCJf3ptO0TiTKUtwgZqMWvZcXzT9bx6lT6xn5sENizqzqIjTo3AmpOZSfZm9kZc5SNh49x6EFvWgbK0Ou1qJWvcA3GRfYu6QlNcNkuLkpeOuPjVw6sIo6NcJQayrCXVIWRr0Ci38bhk5YzoashaxYeZIzp77itYdEir4QzLEQ1OcL0v88T+aL3YiVyaj15FdsOnmGZf3bES8ENqr0YRPuHz9i6wzl6xnjebWVO24hTeny2zk4NYfRD7kjU9u4d/DnnLu2j88GN0Qmi+KxwRmcZwfjnm2JwU1ZtZOyEO6w+xL22md8//kgfDy9CYx+meXHr3Bw1edEG1QYrDV5Ysh8Nm5YTNqcQk5cWcbXA6pr5EVEikHi+Rk8fgZfDKpFmLcG0wtz2XHhPAUTYgmwGvEKfo0vv/+MV7w88QqMYfDK41zdv5JPY1wEeGXKrSAknp8XGP3jJB5pk4CHW23e+HEb169v5vnWtdDLVa7+FKcYI1ZHJ34qOMXx/PFEB7tEQ6QkNA8c4Ql89r8jGqJBqWxMt6c/YPC9CTz4yJsUXL9UDtWwCg8XK2LA89+y8fRexrWug49CVUEysLIQxGc1mqbyzjvP0eqe+jw89wzXi1MNC557mYWIrhNZfv44C8fM4Kc5O9m17Hnui6+GkRf+Qq8QEnq9wxv97iOoRgNWHr5JNVxk5Bt3G8CaXXMZ+chNRkiFWi/lHJQps4IQfmGr3Yvn336HV7qFE/p6SdEQnUqJZ3wiL606wM4l3/L4wMG8+fprDH2uA00SZBKplmeVDL3z7kHX4hmGjxpKzXAHg6ZlcvlwhkQ1XGTknfHJBrQqA572B/hp8362zujlPM66aIarAo1SSepTfRn1Smsiu/Tmky3XOSVRDQsjL06L9zEl+xSXNv6Lnj4eyLwbMibrFJe3jyYlxoFa8/cUGbeCXq0isnFHXv+wF+3jk+jy0hGuXSyiGlbhLmvLkImH+ev4ZLq3sSKTuIq68v6sExzIeoLW8W4oqjrPRJq8SYtaKdwzQrsgjsZt1nKBFUx+UYYstisvF1zmUtpwHnTIkBm8ue+zPzgCbB7SiyaCZbVKYy1gllwXQvFLZM7aff14L/sEFzfP5xWd4GZJ4YUPhtCjRSj1713LmWtpfNm/uka+CIJnSCnRcGi1RtSyD1i88xJ70pKIDFRLkopSnwhiQrsfIe9lc/bCJv54xZngV9WNhDj1W8S9nVIlZe9qhGjIiB84+Nd55nVoRqRcgU4oP3m41rNbPabkHeDA/OeJCvD8X+aTF7tD4Q8VVKwyGvf7mG2l+OQl0WlNO3oM+ITPPvuM7H1HOLjgZcIDzbgJ8e8qTkRhLEWaseCpl0XeU4pPXrBTypBFPMjbK05zOX0UjXyeZtA3Rzm0+nnulWTjypZZMbgoQ9VOxamoUnzywsgLGoim3fqx49pptq/+lPETJzJ+zEu0TglE5q6ulqEXC1Bo7sq0pUVDhKCHJzEpvck+cZ0rWwvI/uRffDLjdxZfPsmOOY/QOlZc0lZ1IVqw6NV4uLujVKp49/ebfPLFd/KC8tdksXN//3z2Fq7g6eaCq6ei9AXlQ/SXWPjSRqHlYL4pLMknL1wX9dt34cXFm9kw6xemL9nKmqVjePUhHXabpvzL+ApASgLUa1FIC7s1z7xZnE/egEIWxOMfpHHs4nw+6uArzUXfxq8ye/MlLmx4nLZ13JCry5ZbWWiVMjwddfjgl7Oc3zOTIUkyZI0eZfCOfWz65hP6dB7MmPQc0ucdYd/Co+z8dRAPBcqQV0mVqhhMetRGLY5Or7Hy6Cn2LXicJp7OKDul1Cc1afNQwR028k4IX7baw4N7npnP3gvHWfBSLIGWIvZO4ao1ovfqzPCMo5zcN4/ujQRHjJNvvnRZlYKYpwZ3ZOGNeWN+IddPfsvQ5gFYFM5L2JY9h/Cvz7/i68n7Obo7g56tzWgNaimgQvz9/6CRv4lbi4aIqIcmPPDUEIa/9QaDXl7Akjk/8PXwCEL9NDe4MG5kg1XWf1quaIgWpSyRtm8uZ+2B6QxvrEMm68A7P5zkwIqnaR0mQ6YUHxgnTe2NrMDSZd8G5YmGOENNtYTEJNC9zwAGDn2NwYOmMmfJSXaumcT9TWMk37j4+ypnvZYrGqJCqQggvu53bLx0kPzv2pAk7TgCqPf6Ws5dzGHyCx7IJf71qme9licactPIi2gLTxy+L7HkyEm2/nGvkz7BULKOKmdh3kI0xKDyoHX35/kgI59548cycsVWtq/5ji+HdMbu45Au7aS/LzbHKtXf5YqGWDDqZHhFPcrkjHNc3LyOxT/+QEbWUnZfPMmO+d1peWMnX7y/S5f99xCiISafUIb+msHlI+uY2jTFSWncvBsvbTjJ8SOn2PLbEv7o34eubV7n05l7OPDLELp4y5CLtVU8q7tSdYsTmQ6TzwC+2nqJs5u/5f4mClTCkErlqJG7/72RL57JXpn+FidWtUJO8+ffYeuVs2x98zlaaD0xiTsOceGsVaE3+zFk0jaunN3El50a4aEqOZernPVqFpu3hnQft4Wz13Yw4dWaWKzuaAzOMhs82JvBb77JWyOG8uuK5Xw+7m0e8PPG5qLKuJ2R/6czge+QkXdKdYldTOPnP2SLEA3pez9xMpmkK+p8LhZJkdsikA+XnuBa4Sc0TrCjvHGUFhwbwidXCV4RwcGikCGLakMvIRqy4wtebuaqp35fPloHXNxMXsYcFizaxJ4jV7l8egtr0ybSpnFNV9qxCEMTPBeV464R/nGxYw+v1dQpGjLjDTzkKun9nXJ1TnnAIrTo+TWXOcbEV1oic3Mp50japC4ulUrUbdJrUBntBLy+kD1nC5k3yA+rUYVcrieqdncy9h9myafNkAmjKPOnfutZ7Lywmm8GyYsZeSevSOXyHUSYrA6VUsGIX/Ml0ZBGSaG4yVVSGYIwy2jx5emx2zhzNJdPmnliFf9WwrgIThNXf1figy4WmEGIobR4ha93CtGQJ2kZIT5iapTNn2f2gatcyXiFdjYZMr8kUmfv5OLVzXyaHIXXDY0AZ3+LMSodDnhLSLwzYgyb8fTrwsh/wcAHRL2i30yo3R2ExjTj/kce46mej/FA85HMzN1N5pAHqa/1QOXyyYvLOWd/V3xx6zUKHGFxvPH7Wk6f38zMvpF4y2TIFW7IkjvRZ/UVOLGQT7t4o5VOOc/x8akz7HqzNw1vuGuKeFwqM79FuKgFh+/r/LD0JKd3/E5qnWBkbk5mTecYCmMYR8sH13Hm2lI+Fy4kDxFpcrMciR9emt8V/7hJpGwaNfcMHEvB2T8p/K0HrYwyPBTOMTTqNFi9/BgxI51Tp7czq3VtAmRu6EpwXrk4eyo5v80mcVpsQ+/XCzhxdi9jBnZAKVchVzmNtFNe8uaajhyxlLN/7mFmjQh8NDrp/W5v5IveqxJ2rhq4A0ZedKYNh3cAXhYzHYd+wV7+Iv/1p2hi9sTmsGExO/D1DyYkOJigAD98HxnOoj2H2PxdV2oG6dFo9BgsdnyGTmVlQQE5v4wkXFAN346ozOyk1fXzsmFu0I1XV1+Gg9N5q7OI6XdgiwgjqlFTmjZPpd09rWnRbBSzMq5ybts4Xn8yBT8/P/QaJeo2g5i4ZB0FBX8wom48/qrbi4YIRjqr1U+Kg63b+n7WnYWN8z/E28cXPx+Hi4o4gOCQEEJErGxqV17L2c2FNRN5vpUed5VQlfKg/XPDWFJQwLrfe9C+rhKFS+XodvDy8cU3LJrEURkcu3qE5e8lEBnig8OoQhcRR5dl+zizbg5DHBY8U9ryWNoBzq+Ywqs+StRqBR4Rzej66XIKCvKYNegJ6t+WQ19AjLU3vv6B+Pv58q9FW+B0Ph1a1sbhsGOVwlmthNcYy5qzZ9nyU2OixSVesV28TqMiLKken68ooCB7Gu8/Y0SjvT2PjdiN2bx8CPS2Yn7wbX46BBdXvkSXemYn6+Uj45h3HM6s6ETTWiasZjuvzNnAmdMb+bJmJL4qJWqrN4G9vyStoIC8uePpIaiGBf94OfXdgNht2ex4BdrwNHdmwKizcH067z5txmwVIZxmPB12bF42LJLoxP0MGLWZ7WsG0aOB+CiJj7cQGO/A21NWUFCwhhlDEwj3EbH05dRXDHqNloDYhnyy+hB/XStk3ogUYkNteAWHEORjRqVK5P7+6Zw5f4jl73Uj2ZxI13dXcehiAe8/1RiNuwqTGOv7+/PhsgIK8mfSuUUSSmXZU3hJiM2WnZDof5G2+Rp/Hl/C/al1sNi8CQ4KxN9HUDdbsfk7sFma0KXndq6QxbQ3bNgcvvh4ifHUovSI474nvmZ1QQFZ01+gc7LHbaPKxEfBoLPQ/f0f2AccXdCPLg1s2AP8CQwKwG404B0Sw/hlW/jz2lHmd2pFLU8bPsFBBPj7OMsRyksxdUn9JpOCgtV89uYTaJWa2xp6s1n4+R9i6Nj9XOMYY9/ugZfDGx/fAIID7NisZhy+AQSFhBAUGEBIWCTvLtjM/k2/0zLcH6POGWZ5SyOvV6MIrEXLkQsoKFjL/NEv0vIOETz+He6AkRe0uYnc/8w3LMvNZf3m7ew7dJA9WzayLnc+/+pYF395RwZ9mkZ+Xh55AtsKSZ/YiSZRKhc7nTiaaTGFf8XGq07RkD4VEA0Rsn5h9Vrz4excctduYPPuAxzat4Mt63NZ/v0Augm/pcxJFqQQu31ZR4ZO3Mya37rTJEhIBJrw1MmRqToxftkZQeNfOdGQhI+YnZfL2oL17DlwkD27tpKXt5zPhndDLo+hRYfvyMjPJz83h9zN21n1xQf08jJgsorJYEInVO4ffpOfhILAtbk80zGswqIhT4yZKZW9Zutu9h/cT+HWNeSvnMXoR2zodBq866YyIW0Hu3NzyV2/gex5k3nN2wurVogUC4mzUO7ttxihV1Ip0RDVk7z71XJpHLcV7uXg/j2sX7eW7N/HSHHrepODET+so7BgNkNjrZj0+ptjKGKrhSB2aCIPZoqaz5E+oW3FRUMe6c8PK0V7trBz3yEO7N7E+rW5/DayFclhntgHTmbh1g0UrMslNzefPVsW8VHLeoTpRVSPAa1ChzViKKsvOUVDJlZUNCQllW4/rCQ3dz2btx7g4MEdbN2YS9ZvL/JwfTny5r15Y0E++fm55OTsIPeHvjzUUIVa8MkLP61Zg8LdwGNT13BNtHphY2reVjREXCYHk9ToK9YcO83xAzvZlL+SVVminix+e+95mrop0Kjr8fiAOWwu3MH63AK2rV3EO31aoRM7RbMnJq3YXffgX/PEwjrPNJdoyN/FlItdv8Xhx7OfZXH49DEO7N5CxqrV0pjnZ/7Kp33UyENrUH/iAnJz17F+414OHNrNji255C4Zw4CugjZbiIbIiHvoNSRpmlMTeKWioiG63nyxaA/Hjx9lz6ZMMrOyycnLJ3fh5/QKDSXsaaE7cZqjBwrZnLGK1cKm5K9mxrgXb4qGyKJo/qQ4xsPhP0ZJegl/12YBndKdBk98wPLC4xw/tof8nGxWZ2WTn5/P4i+bkhgmp92Qr0jLzXf2RX4+O1ZNpUntGFTSSdxZTvlG3ixF+rnJfKjf9UdOC2uT/n9YNGTS4BbOSBFJo1Dsdmx4+QQSEhomfen9fH3xDwomJCyEALHDMXvhGxBCaGioE0EB+FgNN49wFjMRtZrTqdM3rD9ymty5Ywj3qYD8n7STd+AfHEpYSDBB/r74+gUQFBxGaJBIeCq5Q5ROHF4++Hi7CP7F8TkmmTpNWjElYzNnClczunYsfhXdydv8CQ4NJSQkWNrZ+gcEEhoaQoCfl2snL/pEtDmMsOAg/G2eGMWpRTrC+hMVlUK9AZ8xZ/9xDq56mra1K76T9/YPksoOCfTHz9cP/0CRZSeSdIRRMWE2GLB6+xMo6hZ9I047WqGzacTgH0JAcmNeef8Ljpw/TvrAR6nroahAKKtzJ+8X6BzLwAB/fP38pdNKaHAAVtdlsp94J8mAui6xXH9rMtrw9oqldtfe9E87wuXD0xjZ21Txnby3L0EhoVJfBvj54ucfRHBIGMFiRym4/T2tOPyCCQkJc76fnzcWF5WyyWLFM6E+HR98nIxDZ9i/8Et6OqzSHPhbIy/t5B14BYUSFhZMUKAfvr4BBIo5FuyDl92M2e6DX7BrbocF4ecljuNFOQHCVRJL7YYtuGfGGvac3MzC4QmEet9+Jy/mkDgt+vmJee1PYFEdItvczweH5HoS9djxDQyS1ltwgLd0XyOtLaOBwNg46jYYwndLD3No/xIeaFYTpeJ2O3lnpIm3v5+0lv38A26u3ZAgAsRO3mrFLq3pEIKDRZ/4EyBlevrj6yVcQwFEBNei6dB/8ePxMxyZ35eOiR4VjDTywcfXVXdgiGsNhUpzzMdqxeLtf7NPip6FhhAU4CO5xOy+3sTX6c5Lr6/i1MX9fPbGYxXcyZux+3jjJ+yIrx9BwSFSZr8o/+ZOvmhNOxHgY5cy3cXfChet+K8IDtD5RvBpcdEQ4SL09sc7qSHPDhrJnktnyBvdjxby/0M7eeF7btTlWfYCa+d+QvdHH6VL0xRCpVRnJxd8cV4bJ4p8rk5llOLPivySws8qjn7d3vmWJcvSmDdpKH4+9hsxp7eF8MkX44q4gXJ9gM6JL4Q7JKOiU6N6eDCfzEsjbekUXk2OxqcSAs9FvrUybZYyLMWupHSbi3yDWpTyJB549ksWpqex5JuHaF3Lrcyl1d+hiCu7TN1F/tBS/XLjnkOjQp7YjE6TFpOetoCvXuhKsntFDHwRnIalTN2Gm1EN0vMyO2SnaEhkzQF8szSd9HkTeO1RVYVUoYog+eRL11vcx+26YyjRH6Js8e82B36Dv2DusjSWTBP6rlZMFb37ucEFX7rNrjlW5He+8T5F4yw+XiI9X0gmLnTqu74QR4jjdqpQN1H+HCtVR/F2i3533XNoVXLqPfIyUxYX6bvWwL0CCklF+Ps5VnSvUrpPRB6HBoWiNvc9MpX09DTmTujJvTXcKxHNVrI/S5QtnpcZ55t9YtCqCIyvw+vT0klPn80Hr3TFQ6kuxxaUjxJ9WaJsl70S9qPUOxX1pzhl2718aNn5EfoOHEbmib84tGqCVKZRrUIZmUyTT+eQnr6Y6W/2ovE/YOAFKmzkRfhaTJ0mvPP1NH6c8TO//z6Dcc89SPIdEqIVRxyVSolCqXYZybK/ufNwxsVqVSIqRYmmjGH690Hi+RGXp0rR5jvI7XJbiAQxkTmoQqkUscjaCqrm3BmI8EqNSimFYKorsIO/kxD0A87+VqOtQiRV1SHceypUQoNBU/Ws30pD0oBw9bdCVYpb6d8LJ4+Vs7+Vqn92fovNgLBXYn6LJLhKR9dUEeLD5B0QzMAJM/jt11/4afq3jB786A3RECns2rXulGqNxKtUuox/Byps5Iti0osSmmQyNzxExIJIICjn95XGDZ76cp79m+Gs95/p8JL4z7X5Rn+X/vd/AEX9/c/XXdTf//xY/+fafHd+l3n2b4Nw15hQerjdiL5xl6tL/uY/YOcqbOTv4i7u4i7u4r8PlTLy4gsk/K3OWHahVflPHnnv4i7u4i7+76OEjfzHXM+3RqWMvOCTd3j74OcfSLCIcPDxKsMnb5S41UXq8S34tIt4oiUe5jt1hLzJ9S1oP4unsFvExVVpjnOtzhnSVKacqkBwughua6EWX/ayWPLDFeMDl97vjnHZO/nbBZdHcT5tKZmkPMV5rYg0KVtGlSAybm8xjiUV7cvvlyqjBJ+88HUW70vBjliyr+/Msdg1v270qfAxG4vNb3HPYXDxqrvqLvNuVYVzft3oTzGGpaJypHVndM3BEu9VXTj55J11a9GW4pO/ySVfNM538E5Lml9FYynKLuZ6MRvR33gm5vUd5JP3LM0nr0NfbrZu0VwTfX5z/gu3tm9AEEEiytDHGy+HrZw6/llU2MirFYJP/kHmbd3Lji3ry+GT16FRiHT2CGJioggRH4DSnSPirL39CYmKJjoqFLvNWsZAVBZOPnmlxCcfFhNDdHggvkV88iIqwu6Df2gUsQk1SUpJoVatWtRKjpfCHEVqcenyKgXBJy8mmG+41OawYL9i7RF9opcESixBMSQkpZBSqxZJ8aEEeJUX+VM5FPHJ+4VFEx0dSYifk0/ebLJgd4QRn1TL2dZaKaQkJ5EYG0NUpAjvrL4/UFySKz19CYkU4xhycxwFdFocgRHEJzvrT64RQ1iAA61ICS+nrIpDcCQZJT55EUIXGRNDZLA3DmtRewTXvAP/kFiSkmuRUiuBGBG3r/es3kWnCIsz6LBabETE1yQlJZnEhBiCHVY8tXoXqZUWtdWBX1RNEpNTSEqIJ8LfyXtu9KyOoTdhFJd2fuHEJ7rGMToQH7sarcQnLz4uerQKIxaHmINCV8AHe+l1VxWIsdTr8A+PJblWMsnJNYgO9cfm4pMXUSYWk0mi7hB9kpQYJyUwWsTzan9k9GhtfoTGJpJcK4VaNWIJ9xd88iJyRyQhBhNTM9m1lpNJignDz3aH+OR1Guw+AcQlJpGSkkiN+HD8hJ0Q4dzF2mXQ2vEPiyImOopQfysWic/nJp98/tp1bN+9k/Rpw/4b+eTP8etHj2Hz8iPYzwe7FKKmQeltxSfxVcZ9t59zp/cz55lOJLjJi4XmmVDJHAS9NYOckxe5uHs2TWpHSzfvpeuqKATXt05jx2CI4omB77Dl7ClO5Y/lxRYurni1B271nmTEin0c37WVdZmZZOXkkLNyGp1TayFXlLoUqQREeKQIwQxo1JleMzdw+swJln035AZ3jcWsR2PSo2/7Au8u2cr+LavJzMohfcqLd4hPPoTaLTrxa/4+zp3exiyJT16DWuVNRPwApi7PIScnh9zsLDLWFLD2+FkubJzBO80VKHVV/7CatQocwdE0fHMaKw9c4Oyu32mQHIFKrZWioozxdXhv7hp25+eRk5PLmoMHKJg9nMQwS7VoYIv45L39k3jzy1kcPneanTOcfPIKnQmTykZQ+Af8kbeHjRvyycw6xL7sb+nQzFtSK6vyh01wjHva6Tj4fdbs28nqzAK2FR4kf/xQWtrMyI1GNHoL9hc/5bedu9i6NpMtB46wY35/ukYb0StvcaK9LVx88lH38vSs9RzevprM9RvZcmgZ04eH4mcVpG9a1A4jlrhneHvsTs6eOs6KN56mntBxKFNeJVDEJ9+kPb+v301ebj75aw5wcN3vvJYYidagR2n0pM6jfcjYvZ/VmWvYuOUQO/74lEf8vfAwmap+SpZOvsHUHPoz2Ts3sC4/k+zDR1k/+36aJ4gdtic+Ab2YOHc1OdlZZOWvZV1hLrOGJBJhqgYDpYAYa99QXvvuD9bv3MjqzK3sP7KVX597kAijAbUUmmrGpFHiFzWQ39ad4OyFAyx4M4oghwa94O+3WPHx8SW+fkumbz5DYfp/K5/8sHZOPnlp0Qo+eT9iXviCmZuyWZu+loNl+OQtEr9MUMxI0rYfZ9uZy1zZtYhW9WNd3DFl66sIjHo5dv92vDFmPQVb0li55QgXi/PJq92RNXqecZv3smbE09R1V6C1igQTa5WZLyWYTU4++U7P8tv6TaQt+5Vtx66SV8Qn72nE6K7D2qwvI7cfYuusnrQRHCsyd2cCmbXqEUlFfPKtHvyD/I2ZzM/I51RxPnlp1yp2O6KdNjxV7hhrNmFg4WXOLp9IV5FGXdXTk+CTD6vNO3+sZlXWb6RvPsblfU4+eYVcidHmRZMf1nB41wJ6+FjR6HwIfmYJhy7sYPZQL0nIoqq7asEnH1xjMD/8vpFVuelsOnaTT95DpUUd0Y+p+ac5s+QjGkd6odQ9y6/rTnNoZXeiwgyotFVcZBol8pS2PPXtDD548R7k7kE8OGAulzjLt4O7oZfJsHUayO+HYdOs56nrJyP2/rHkHoNtb9xDPYMMVZUYMIv45F9j0qzPGJwqxyOsOQ/9cR5OzmZUN3c8ZA5Cur3PlxvXsDEtk12nzrP+g+doKHOvnpEv4pN//XN++GooflZfgmMHsPL4FQ5kfEaMTmS8JtJy3HQmvfckcg8fGnb6nAN/XWX5lwOwe1SRx16KxnHyyQ+ZOIuvh9YmwleH50vz2HnhHGvHxxMiJZFZJNex1ahDHRRH8q87uFy4jAmC570aGwlprDv1Y8zMb3m8fSJyj3q8+dN2rv+5kedaJ6OTqzAKfqjgJN5ZVMjlbfs4cvUgS9+PI1gy8s5yBJ+8/X+NT16hbMLDvT7ktQ6JdHm0NJ+8BU+DEllMHT7N38ul2Z8x9pds9uxIo02DmGoZeRHfXqNpG0a+15fU+xrQfe7pknzywsg3fJZPNuxg1YD7CS0K/xQJT9UJ/RRuGK9QEnq/x/CXOxGcIPjkL91koTSqcDfWputbGRw4sITJbzzNi68OZeCAZ+iUHIWvTCEZ+jLlVgBFfPJ93h3JoO6RhA0rySfvNPIuZkuDDpnWQmKvEezds5XvutdBpjUUy0KtDJx88toWz/L2h8NIivBy8skfcvLJCyNvsnnx6PStXDxbQJ8uCchkWjo8l8O585v4trNTNKQkUVnFIfjk2/Tox5iBbYju2puxRXzyMTI8ZAqU788k/6+DLGhYh2CRjW2Q0WB8Ggf2ZNC9ZgRGtbaKi9+ZV6BXq1FrDShlMmp0fo6sa7Dzg+dJlpl5dPR8rl1YQY82flKbw5InsHwT/LlnCO3qGSR2xLLlVgCWorwC4Z5ROvnk27r45Ie4IXNPpv2DoxjxRGPub/sMK6/8yfqRz9CgukbeBSmvQK29wSc/0sUnP8jiiUlcKmrU0nwXvOvBtVsy8yic+PljurrJq1m/uF9TSWVLfPJuxfnkhVaxuPtzUpvLtF50/H4zhzfN44nqGnmXi1X0t7hfULv45A8h+OSbEuHugcojihZjVrH//Da+fGkG2YU7SBsVX8LIl09rUMU5cAdwB4y8k09eq74Vn7wRhSyUxp+uZd+lXxhd206v9+dwdH9GtY18ST750lTDnniq3JA16cunOy9zaU0aP370L8Z8NJK+iVH4iiNtNQx9CT75OqWohgW3fnJ7nsw4wqW/jrJqyTwmTJjF6rUX+DPvV3rWjUKm0VW5bmFwJeGCMnzyxS9WLRiUbthjGvLe2jPs+O0dGsncK5zNWz7+hk9epZF2b7raXXnprQVs27GW777/mnVbVjD0ua4kicSnaviKxVjrNS7hmeJ88sLIy1WoWnxGxp7T5Lybgr9gqpS14NHZWzlxYS2TxHirtdVru/g4GRTIbEHcM3oJp/9cw6z+NXHIGtLv00Mc3Pg0w4c0ov9789m+bQMbDx3g5K50HmydKGWZlimvwijKXpVhtqXw3owzXNj/M681kKPQi8tJ5xxMemQQOZev3VEjL7VZ4pPXYL9vEMuPnOLAoh40E3NfZICK50Y1MrOFxH6TKbyyn6xxrYiWO9kYy5RXKTiZbVUe7rR9ei57Lpxk0StxBFlEEp0dv4AevP7hWL6aOo09p/ewYGQzZMrKMbneCs52uSMLbcBrc3dy/dT3vN48AE/BPtn8QzIOnmLte08S4viEBVv3seLD/3kjfxPl8cnLtTJqdhrF2q37+OSVBNzdZHT61xJO7l1G45qByGRqiQdGKqOIW72yA1Uun7xYlDq0ock0e7Qfg4a9xRtvDmPGqo0czVnOV42SCRdfbFe9Tu7pyhuhcvnklR7IGnak95YLnMv5np5xJmkh2jt8wJIrl1g15jnCXAZX+O+rxC1dLp98MSNv1CP39KfO4CmcObuFaf3DkWlLRrkU8VpX9vK7XD55l5HXN3qK10bPIyfjQyZMyGLnwQ18PLwvHdV6abIXtfFGf1d2Z18en7zGgEGWROrX6zn45yqWLvieadPWkZV7nIt7FvBQjTBMaq3ThVBV/n6JTz6I5O6/sOHKFVZOeYTIQPExacXLH2/hxPEVnDy0gBk/T2DAY/UYNGU+B3Zn8lDrBNwlrhjR1qpwujv55I1eQQyauYxLxzYwrWVdgtxvRrqID37t7gNvbeSrPL8Fn7wWg/eLTNx0iXPbvqNL81J88jIbgQ3GsfTEdXYtfZ26seIUdXPzVNX5Ld5XrfCgSe832Xz5HNvfeYHWOiHgIsIS7fj4P0z/EW8z/M2PGPPealbNG8bL3UTUXLGdfBXnt6en+HDWo+u/NnLmz118OSQRi1WG0r0TLy7ezsalL5Cqk6Fwe58lO/eT/l4Idr2gOnb+/W2NfDE++bJ133ncISPv5M8QO+omfVx88i/cT7zkHqnD6z9tFaTuZK1cyR+z57Nh3wmuXjpFbuZiPu0TS6i3UCtyGS4RsqUrxlx4O5TDJ9+/uVMQxCztPDUoinG6u7cdytzrcHTQkzSTuTkZ4CR+EHE0FKyBlZiMgk/ew43wlGZOPvmZb0iC1gaFO24J7emVfZCTP73Hg4L/W+wCWjzOGwdOc/jjfjQXXN9SlIIzFMup+F5OHbeAUCtSmZx88nsFn/xgwSevkaJYxHO9yh3fhCZM2XmdwhWfUDPAoxR3uyAME+GszrC7Cve3xCuiQ61S3uCTb5wciszNA7PNm0EL9nHldBbdmqqRycJp//QfHLt2gby3u2EVO0DxDmLMivq7EipVYuFLY93y1Rt88q0ihfvNjKdJjiwmhRZdetKr93M880xn3v5pLQezvqZGrD8qEQkjyhGhjq45VnE+eSHzF02je39l667zLP9xKH4WHTIPLR4yKz3encl1/uS7D3pjEiybskhen7aLU9tf5956OhcXucgx0bn6u+JzTPDJ24KjGfpzHqcvbufXl2LwFfPJNZbijkasu+SHXiH78jUK3u1JXeGuKm7Qi83vivP3C5eJoHcewneLTnJ291zuaRCGzK0ohFNQCfsRlfgZWWsvsGvFeOKDrcjcSoatigAF0WYRZVbR+S3aJKQ92/Yfw5qzf7F3zjO0Nbnd4JOXqJD1N7NKLUGPkHP2Ght/6uyU/ytyWRpFm7Ul+GVuB8En7y5rRY9Bazhx7gBjX+uMSsg8uqvQPjmDzRfh0r40Fi+Zy8Klezl58TInC1cy7+vBBPh6SXX9vZEXnD9F6+4Ohpz+De6IkXcyLvpK4hD3DprIHq6TO+QJGoi4WUskNZKa0KJVKvd16ESnDh34eMEmrpzZxuv9e9CohgNvTx06Tzs+Q74hPS+P1TPeIbSCfPIWqw0fmxl9nS70z7gEB77njY56TFYv7FYzFrvgsg8gIMCB1dSCp8dkcejiNt54uAUGdwVGvQZ1m1f5dEEe+Xm/8GaduArxyXuaxeWPD3arJ7VadGDNaVg/dxQ2uwMfhwEPdTztX1jKiRNbmNS3GQZDPJ1eWcCeS9uY2C8Vg7sKpVxO+2eGslBQpf78BO3qCBbKcuoqBw4vL7yCIqjx/gqOXjnMsnfipFBFu815glH7xpE6bgVXz6/ly2cCpY/eDV+8ToU8ohkPjk0jLy+LH195jLoiFLacekrDbHZIXPbeXg4+WrgZTuVyT7NkJ/uflw+Tsg9z5chKXggLxe7wJ+rFBRy6dJBV3yZi8TRK+plhiXX5LC2PvFVTeLenHo2uAjt6wTjq8MLPbkJ//3B+OAgXlr9A59pijglWURteIgTOFaPf8bXPyN2ZzzedmxBodBJ36QWffK/PWJSfT9bvn/BEhfjkBadSCvc8voJjZ66R8ctIIgL9MFu9CPT3xqqW4fnk6/x88grblz5PuyQNxm6fMvfYObYMaEdtnQylJBbSgeGT08jPz2b6oATCKsAnb9Bo8Y+ux5gV+7h2dbfEJx8TbMLqH4CftwOr2YLN7oPVpKdZz7dYD2z/5GVaC44awe8vdooaBfL7X+KDJXnkZf1Ap+aJFeSTtxEU8SELC65w7cQS7m9dG4PZhr+/Hz5eInw3jNrNZ7Lz4HX25U4mJT4co6edQH8XM6fgk5fHce/jX7AiP4+MqX3olHT7qDInn7wnD73zHYV/wtGF/STNAIuvN75+vtIYWyxC0yCAAF9v7KExNHx3FgeOFvDTKzFOI68RfPJ1aD1pJXl5K/h02KNoVLdrs3Os1ZoHGThmN1c4xri3n8JmtWNz+ODvY8WSXIsGLVqR2q4DHTs+yEMPz2HLibNs/fUZurevJV0GS1rGtzLygk8+KJkW784hLy+X2SNfoIXgFCr9HncYd8DIu/jke08mPTeH9Vt3cvDoUfZt3cS6nHn8q1Mj6SJMJpfj4eH023d+fxbb1v5O/Xh/SdVHfLk1Sh2mqElsFoTbFeWTVws++VYSn3zOug1s2XeEo4cK2bYhh2Xf9adTjJyoe59h6nLBYy+4vjeze+0fvPJkc9QGk5MgSPDJax5g4spzleeTr/ERf+QKPvkN7D98lP17tpObu5yJI55AIVegVbfiqQEr2b5nMzk5BWxfv5Kxgzo4GTnNQmRchvyRt5h5uRp88tv3cujIIfZuE3zyMxn1iAWdyk5YrREs2H2YlT8Ow9tTUUwRSFwuiUu8CDq8nMb1yvLJq5/knS+XSXzaO/Yc4OjhfawvWEvWb6OJCg0kMHogP+fuYveafPLy17B213oWTkwiOkQjHU8Fn7xbWBIP5fxVZT75nA3bKDx0lCN7t7BhbQ6/jWxODe/G9Pt4PtkuzYKd62bzYPv62MTilrIOjeiUeqzRb5B9peJ88jqVO+ENuzI5+yTnzh5h68Y1rMhYLXGJ5/zej+7N3ZGJj9RzH/DDth1s35hDzo4tLOz3OKkqwVQo4uXFrtfEU9+vk/r77MJGleCT/5qCUxc4faSQzWtWkFHEJ/9uT2rLA2n0wDgW5uZQsGkb+48e5cCOLRTkLOWrHh1IkCtRCZ1jZU/GLhAL6zzfV5RP3i745HM5dv4UR/ZtZWXGanIlPvlf+Ph5Jd6RdXh39kHOnz/O7u3rWb7S2Sd5S0vyydd4eBi5Lj75AZXgk/9y6X5Onz7J/i2ZZGZmk5ObT86iz+ntH0KQ7zCmudZ07poCCjav5rsBUQR5aaUQSrOklxBDi6fFZ6+yfPKjWLn3NGdO7WdNbjarMp188ku+akatEHFykCOXu+MmLpd1I/g1p4DfXgvCpne/rbvGYhInQj8aPDyTs/9tfPKCp93bL4SIqCjCwwSvcwBBoWFERIUTJO04Sh5P7d6++Pv7YrM6+ZfF4IYlNuaee76m4MgZ1i78F5G+t+eTF38rIk2CwiOJiggnLDiQAMF1Hh5FRKg/3jYzVm8/QiIiiYyMJDIqnNAgb8lNIY5VwjdmiEokuX4zJq/YzNm92XxUNw4/leY2O3mxU7FgswURFhlJRES4pBQTFBxKZGQEwYG+kiiIURIS8CU4NJyoqAjCQvywCuMu0RH7ERlek1ovjuf3fac4ktWb9nVULmm+0vWVhW9QKBGi7tBgAgMDCQ6NIDIijCAf0S/i3fwJCQ7Ex8tWcscoGCj9gvCrUZ+X3vmMIxdOsWLIE9SrMJ+8L4HBEVJ/hoqs58AgwiMiiAwLwmq1SPquXn6BhLr6PCIkAG+byFgUNM82vB1RJHbuQb8lR7l69CdGP2uuEBulGGu7j79UblS44NF3crqHR0QRFigUihz4BYU7xzkykrBAkQilRycdk4WSkQXPuNq079idFQfPcnDJJJ6RdvJ/76oS9dq8HASItgY4NROiolzzKUzsakXUkR6t2YLdP5SwiCiiwoLxE/0sfUDE8TyK5LqNafNDHntOb2fJOzUJE6GAf8vMKPrEis0WKM2tgEChz+CqNzKCsEBf7GYLDu8gwiOjiAgLvbHuwqMiCPF1cun7R0eTnDKQbxcf5uihdLqKnXxF6IZF5mZQIIGin4NCbvSrNMf8zFhsNvylPhFKSWLeu56HB+HvIyiI/QkLTKDBwA+Zfvwcxxe9yP3JHhWkG/bD3z+QQKnsCGmeO8sOxs9ixWoJuDG/RF9EBPvh8HS6fIXb2O7rRXRSV/oOXsnpS4f4avgT6JS3b7MYa4efmN+BBAQEERYeTpSr7vBgh+QZKDlPxelC8OeXvIMQwQF6v9J88gaM3n541ahLzwHvsPvyOdZ+9BKt/gG64Qob+eJ88vl/fETXbt3o3LhWCT750hzMEg9zOZc9RXqTokNu8Mm/O4Wly9NZ+M0wAv0cFeaTF2WUx//s1Ewtj4NcqAQ5PyxmQW/cfTBj56ezbNn3DJYEQyrDJ3+LNt/gqyjdL0X8+jonn/xzX7Jw2TLSpnanbW33CguGCIgQttL1FueTF6cj6V1KfyglPvnmdJq8mGXLFjL5pYepfduTS3HcgutbjKfreenxcPpwnXzyUYJPPm0ZyxZ+zhtPaNDoii7xbo9bcX2LJBSz5PMu9T5F5Rbjk5+3PJ20H0bxiJcdcwXvIiQXQuk6JRRLvhFZjcXb7Jr3Tj75JyU++fRlS/nqpRoVMPDF6y5vnEWbnReMpTULbtZvQqNSUP+R/kxdsoxlS77mnmY1K8cnX+44u8bzVjoO0hy8ySe/bNky5n3+DB1r3t5VcxOCprh0uc6yneNVeh7cnPc3+eSXsWzZXD4c1A2FCAqo7hwT9yhlyijSanWu2yI++eYdu/HsgKGsPv4XByU+eRGJp0IZVYsm4+ewbNkSfhzxLE0FTXuZMu88KmzkBT9zbN1mjPz2R2b9/BtzZs9i/PNdqHWHfEqCg0UtOkKl+Qf55IX/Wi+JBquUKjR3knvjNrjB86NWoZL4titu4KsHEfdtwqgV2bEqVEJ8+B+65RcQRk+rFn5uNZpKCIbcEQgOIbUapYiqqlY8dWXh5PkRl9Xqf5xP3sVlr/rn+eTF/JbmmPqfnN/Oj7Jeq5bqLspAL/2bfwfER88nIITBn83ijz9+Z9aM7/jotcdL8MmbdEXrTvt/lE/eoL/BJ+/m5oZcpLJXI9a8BG7wLP8zDb+Jm/X+c4u+CEV1l/73fwD/AV5rJ/6D/f0fm2POE+d/ur/LPvt34z/V5v9Ufzv55FXF+OQ9SudI/Afeq8JG/i7u4i7u4i7++3DXyN/FXdzFXfwPo1JGXlwgSIkkIrnBlUTzjx+57+Iu7uIu/q9CBIIUt5EVDCD5d6LCRl74kWwOB0FhEUTHxlOzZgIxIQF43UgjdvJ963XiUk2FVhIvcNEVWCxSw8W/F4dGd4cuv8QFk6AClS55dBhMJe8JijhupOcSNFIETLWYKG/ALF2mSO0pyqp0kVoJ0d7SbRYXjiLyR7xT2bIqC0G17CxTqy/pcxW+QZE1eLNeEdFxJ+p0QegHSOWK2OSSdYtLrxv1qu8Az7cLkji0q6+L2iQu6W+OoxD2KF532XerElzzy9leJ6RL+uJjKH5TNMeky9U7c1dlEbQAJdosNldFZVucojgl2iyiPcRaLFtWpWEuml8uCNF36Zmot/R7CU4ZvRRSXaacquDG/Coquxw/tvBtu9ou6i5TRlUgbJXIJr9Rt+uSvmisJWH0Yn0i9XkRlbUzOTM8NoGEGjWIiQwnJNCvbB3/MCps5NVyN+q078aKAyfZt2sT2dkr+HFQMdEQgwalmxW/kFrUq1eb+CA/HDfCvEwER8VSu0EzWrRMJbV1a1q3bkmDBF+8rNUR0BCT2YRO447R4qBm/frUTYwk2KcotM354dEo3bH6hlC/WQtSU1Np3bKhJPBRPWkuiyScIAZYH5JI/Xp1SIgJdV5wiTAsn0BCG7SgtdTW1qSmtqR50wbUrVuLiNCAakcQmU1icisJq1lHKjMuxClcIN5LRFSIGO3Y2k1onZpKassWNK8TS6i/Ek2V+/om9GoFHrZQ4lPqUjclHm+HzWlMBbRq/KKSaNiqFa1ataJx7XiCxQemmsZW0g5Q2fANTqRx81akpjajcf14bJ5mNDqDZNQ0SgfBMbVp3lI8b0LD5EgpokT6oJdTZoVQJCRh9ya5UTNSU1vRrGld4vy9sKq00uJ3zjE3zH6hJNatS72agfh6VTyN/1YQGcJ6TxPm0EQaNS8ax2hCfBWodcLQ6tFYbHjH1qOpWFctmtE4KQAvm/gIVc/Qi02CEIAJT6xPq9ataNWyCXVqROAjCAVFdJbNG/+aDWklze1UWjZvSnJEAHal5qZBrCrMOtTeodSo15yWrVJp3aQBiRFCNESEPxf9xoTRYkAfUZN69eqSFB9RtpzKQoy1RolvcCQNmrUkNbUFTRomESYlTeqdtiwwioSU+jRu0ZJWqc613bJREg67VfJyCNGQ92asIG/tOvYePULOL+/8l4mGPPAM28+c5sd3O6PUGCVFIIuUQalC7u9LaLN3+fa3U/x5+QSL+zwgEZSpBWOiwp3+Xy/k2NmtFOSls2z5SlauTOObV5KIEOndFYwZLg1h4DUqL8yWOvR7bxz7rl3i8qbPGFBEUCZ2fkovfP1TGP3DH6zfs5m0tHRWLvmWTq2Skd82vftWEAZeL4XkRbbvwaCFhVy5comsGW84Q7bUSuQJjbn364WsXLmSlRkrWLY4mw2bTvEXB/jXaw8ikynKKbdiEKIhKo9YWnTuwZItx/nz6j5mDw7EYRHxvCZJjajFw71J27afFcvSSc9dy6bjecz9IJ4QlbHinC3lwKz2wC8mhXs//oM1J+HPQwtplOIkKDMa1WhqNefTVYWcyFpN1uosDhxdz6w2DYlUV4+QyahX4BX+JF/8sYMd23NJS9/FoYM7GDm4K3ZxglTJCI3rz295R1m3Npf0ZYc5v3c1Pbs0QGsUi6yKdYuIMrs/D703kc2HdpCWnsfW3SfZNnUk7f3suBsMaOQOAsIb8frk2RzgTy6u7UXH+oLnvpzyKgwR5mrEGvcQ/Rft4Pj2NNLzC9h8Oo/ZY2oQ5qXHoDTj23oIE9fu5sC6dNI37WTf4R8Z90IQDsHLXtWPjAhBNJkJavcwaTsPkLkqi8ycw5zckcbIRjXRaFUo/WKoM3gqy1auZPmydPI3rGf3ku94NjoIVXU2MJJoSCQN3lvMhr3ryMtcxorjZ9i57Ek61BZ8NGLjaMaoMaC0NaNr+kH48zI7Fn3ojEevjjEVYx1Sg5G/pbFxxzrS0jdz8NQ+lgx+kmjBpqvVYHz6K1YfOcPBNTmsXr6cFStXsvj74YRKyXdO14zY/AXVqMvk9SfYufSTsgRl/zAqZeSLaA2mvnEPMjeli9VOj9YthFqvTGP2phVkzs1gz5kTLH+pSzEj78GrU1ZRmPkUrRJEaFGRTmb1wugMOjk+oR0Y9fkW1hTMZn7BIc7v+JpXXaIhFkEN63s/w2buYGvODzSI8XKFNsmllHJrVXc6QvbPZCPu4YEs3LyR2bOnsvFwMRbKGzGxTh1KQRMrU9Smy0cbuL4nnbdaR+Om+nv6gltBEg0xO+jYYwkbNqQzY0kWx87tZK6LhVKtVBKa1JgFu8+T90N/Z3uDa9Jy2VHImsmbcgWqqhpbwbUd25yPl+SzLO075q05wMU9RaIhKkz2utw/bycnDq5kkK9ITHHw9LgtnDq0kg9q2/EU2aVVPEnoVApSuvbh8y9H0aGhj8QSOGLabriWyWNt4pA54pmwajdXCyfTKM6KTNaOCSuOcmXvDDrFBmLQOHdipcu9LTQqlMmt6T7+a4Y+2RiZzEr7PrM4x0V+GPYoZpkMv8QXmbZ0FZm//cbKgssc3/Icnatt5IXryZeYWgMYN2kkz9aXIfOqS8fpZwQvAh8/JkPmHkGz+0fx1cQ+dAwXJH2P8lYOsGsUzzaX4VbV+sVJ1O5LyKv/4vPRz2PWmHCE9GbxkSscyZ1EksTbbpT0CrQarTTHolt0ZM1ZWPzNUGTuyrJlVgjCJWPEaGhH/9GTGNMnBl+zG+qnfmHr+Sts+jKBUB+hc6vFqLLRqXcGh66fYMPek2xdOEY6fVTLmIqxvu9ZRnw9lk6NI5DJYhk4dRPX2cHLbWqhE8yxvb4he18un9WOxiZzQyFpCZek5RBz1SuiJp//74iGCP9VAx54ZBh9m0XQsfsbJURDioz8K9+uZMfKbjQIK2KEVEhZe9U5UurUauIaNmfI4Eep36ou3eaeKSYaYkHvLiP8+eEsLdzL71M/5uXh7zF29Eje6FWDUD8xQFU80gpmPa9g4h4bSv+nWuAXW4+VpYy89DtXLLjgqPFr8SQ/HDlNxqgexMlk6Kp4pBW7FUG61mPoIJ65L5CA1+aw6/RNqmGtUoUjoQEf7PqL05vGc28NGYrgp/ls+3kOpU2kqVxVxSQMp6C0rsmTDBzWj6gATwYK0ZDDQjQkAg+5Brv32ywvPM+23+/D4itYKG04vMaSdWQnCz/wxupZ9UQg6V5Fp8bDQ45GL6QkZTw16geu/XmEp+9JQvb4RDLOnmL1i/F4i/lVrwNfbj3Mn39u49uY6EplMpeApF+sRyv3QKnWS0ISNTo/S+Y12PVBPxoJPYGOPXl9aCOiLR1589srXNz9PPdX28g7XVQmcUr2kKPWi/6Mp0nqWs6znMlDPPBQCZF6BR4eKrSChVPWimfeOMVf18fySlfBF1W2zIrDjEmlkLj6BdWxSPd/T4iGbJrPEMnImyWlMJ27cz2HNR5G7okd/DymEW7y6vrH9ZLNkKsEa6cJjex9Fu+8yG4hGuKvwF2nw+uJwWw6cpiNHw5lQtYBNgljWl0jL8Zap0EpzTEDWpmM9iOmc/Cvc8zv0JhwwRzbczKZe1YzNs5fmgui7UICsrjE4624a8rU9w/hDhh5p2iIWuUuNbi0aIgw8iq5G0OmreLipVzS537LlO++5fM3HybAy1NS26mSob1xoSroXoVoyD08t7Q4n7wed1kITw/7ldOn4fScWUx/+21GLFvPnsurmfN2bSK9heJO2XJvD+EPNWEQ4iBiF1OaT76YERV3FTJHHI9+s4iLWb/xUrwXMiHuXabMysCMUlAXaxwEvbG4BJ+84MvRejkwtXqRdz/MYueWWcxbtIkNyybQqlENZPrq1C0WgSBZcnOJhqy9wScvjIHV0ZyJeYc4lDuUTmY3PDyMPDB8FYfPHWTF515YqmHkS0DQ+dZqy0d5h2HzZ3ROtiJ7+Vsyjxcw+Zm3eOe9iUw9eJTNYzdxYH8hi/olEGoRF2jllFUZ6OXIvKN5YEIm565mMLVvHN7uOjQaBe6SsevJv36+woXCO2Pki0OjlGH3b8DYBec5t+0HBiTJUepvPhfzIaxWT+ZshMMLXuOBEBnyYs+rDCEaYjLg89C75Bw/wa7ZXagnjKlGgzo0jjpvTmDKt7NJzzjN0dVjeSpUhswo3LjllFVJSMEUCgUPDljCgfOH+ePZaHy1SjT2LgzbdIr9Sx+lc2AE41cfZMvijyTfd/Xu2W7CrHdHFtOGd5fu48+jn9G/iTcmNxW6Z79n/YVL7Fs4m5lTp/LNZ8N5yuKJUdA4u/72f9DI30R5oiGC9EpkyiY2bk33Hs/Rp28/XuizhG27D5L+40Cigr1u8tSICwpB5FPZgSpXNESFm6wZz767g/NnfuGjB+zOL6+lM+8tvca1rf3p0kCGu1iIktKN0JasvLJMuaIhN8qwoHGTEXNfHzIuwNLRvaVdpsgSLvp7yY8opNSKlHbKqaNc3Eo0RKdD4x9A2Etf8OtPS5jz2VuMHruZPZuXMqZvNxopda4drSDOcpJoCX91ZVwZ5YmGKFQqjCYdiW0nsObIVQ6mLyVt4Vw2bV1H4cnt/D7MC2uRxqvgPRH9fYP7u4IQER1iMxF3L8+lHeXsqSm895gFq1KGfPBUMs6cYd/BoxSMfJ+3HutAo3u+IXv3ThY9UpMQowa9qMs1x5z6xOXUcQuYzUI0JIZmvZZQ+OdZ5n7aGX8vGSoRySL9RvCQP83Hs25l5MWu/GZ/ly7/7yA0Q63Bcby7eC1X9q3m85Q4fDxEdI+zT1TuMoLq3MP0HXu5nD6NQUF+eCr0zueiDOE6dM3vymW+6tEoTdiD3uDH3Zc5vuYzWtd2iYYYDOj8Q4l+6Fn69+nNk++8zwerclna/xnaK4tIt4rcL841XZn5LUUzqdW0HzSO3ddOsa7/Y9RXCEPqQ6+Pcjm8ZQHtUmRogqP5NPswWxaNkXhkdIabvFHO+S3mWGXaLPimxFi35pmvCzl/ZQMfPB+H0eyOVriX4xpzT7en6NmnDy8OGMDc7Yc4PHcqwwRhnODQua2Rd2pvOOdB5eZgVXGHjLxTgMJdJqPRc6Ml0ZDlfToSUyRuYDFLf1+U6iuT+TNqyQHYP4OmiYHSMVgqx2HHbrdJ7JQV5ZCRyKNE2RGt6blIiIZ8zktNxVFVvI+BrsOmcezkcgZ0CXLV3ZyhU45yaufLdG3kWog2Gza7HZt0kVy2jltBkEcJOtXQpCZkHL5M9oxhuLkrbnKEaBTIAuvQa9Y2OPg7AztYkKlKRnrYrFYcUpvNruiYsvWUB6NOhcJgxW/oAvacLWTuQB889R54uDsIq/0uiy9dZ8+SwQRoRJvb0PedI3B1BeMekTuJ0IQQstRmwcVeGdeRCJPVoJB7MPyXfC4fXE7DmsHIPBTSYtLJ/Yir05y2He/jnnaP8vijv7Bu53I+jXVIPnmh8SpOYFKbbc7oqLJ1lA+jVolHnYd5ddEBTp7I5q0no3Fzk+HhrkD52KeknYHTK16mg8M5zxSj57Pr5Do+j4/GW2gECKNnvznHSpd/K4hIJg/3WtzzyBJ27z3OL+Ofx6RWIHN3+WLFohWUvrIn+HDGFS7s6s29KcJnXtywifYW9XfZOsqHWRIN8YutzQeLt3D6RDaTe/hJ9wBy6SNlQqt0J7pVF6Zv3s+5Xd/xWlOtJJKjLG7YRHsdzvkt3AoVMyxCuMNBQOhIZmed5NC6adSLE3chGvQGEfnjKUVSCc1b57qK5d73DvLXid95u54bcolGWYjJ27GL9VUJ8XpBNyyM4IMjJrPl7EU2fvcA9aX+VWMN6MXvhRe4cmovS9IyWJ2Tz6FzV7l46gCr5n/F0I4GJ3mbcL242izmW0XticmoRinvTP8PtnD81BaGPdPKSS8sCb9YMAnd6BttlhHx1mKOcpDfa0Ti6wox/VsjL95LzEExDyoxB6uDO2DkxZfPgV9gJGFBATw84lsOAuvf6UO7AEHs74XV5EtweBw14uOJi44i6p2vydxziHXj2xAXqEWjNWCw2PF9fSZrdhWyZdEnxPrfXjREGHiblw9hoSEEtO7BsNxrcPRnPnhU0P4G46uVoenYh69PXGTfJ6/TJSCAwL7j+O3gcTa9/AD1NR4odWrUbYYxefUuCgvTGF0/gQDl7fy3YodixWYPJyw8lBadHmHjBdi65FOJFjU8xF+S91KqNTTq/RZ7/rzOH/96BL3KDVOR1KEk2+ZO+35vs2pXIbuW9qFjAzVyoXJUpr6yCAgNJ7JmCo3GZnPy+nFWf9SAWjWC8fH0JSZ5LBtPXGHL0k8kSl6/xvfxxJIzXD3wE+88pEDpocA9oiXdv8hjV+E2FrzRi8buFaUaDiAkIoboqCgmLtsJ59bzcIdmhAUHSAvKMyiYkJAA/HwjiE+cyPzMPBZ+VpNw165dxO6HJTdgUt4uCjf/zif9hMvu9qcYs1qOvnlvPlwneNF3MmFYN0JCo4iMjicm1IrR2o0Pf9vLpdNZTOzUjOTQPkzKP0Th6rHUi/CRhETEySfo2alk7Spk27LJPOew355q2KRErW3Iwy+u58r1v1j58/vER0cRFhFNQmwQ/l4mTN6BhMSGERQwhClLgONv8mznAAIDhICG0bmL1ndk1E95FBbuYO7bSUT4qm8TVWZGr9YRVKM1X284B9cLmfd2PZLiQ4kQMdihAZjlKmq2f4bFJ/6Ek/OZ+GyMRO8dFR9PVIAvdrFTVMtxv38Q47J3Ubh9Ho+kpqC6LROl2GnaiUr6itz98NeJpXRu14ig0Aji46OJCDRjstnxioilRo0aRIUH07hDb37fcJrt096ko6cCjUmLwj2OTj2nUlBYyKbfX+GhOu63pRp2ioZ48/Sn8zgOHFvwAg81CyY0JobYmCiC7ZHEJSSRnFKHBvXq0Pr+7vy26yJH1v5EkwbJxASZpDBIeXR92n1fQGHhBqa+3wtDRaiGTUr05icZ+e0J4ASfjOhJcEgYUdGxxEV647CZ8AmOJK5GPHGxcSQkDmZa3gF2r/meeiF+GHROJtZbGnm9CnlgCqkfrmBX4U5WjhtE2wqK9VQHd8DIFxMNyclhTcEGtmzfxuaCteTnzOPjDnXxl3dg0Lil5ObmOrElm+/aNyfRoMIgdq9mIdirRu87nrUXKy8aMvqPXHLy11KweRvbt26kYI0QDXmZh2p5IFOqadDzdeZlb6AgJ4ecjWv549luNFNo0Ar+aa3wq7fm40XHnKIh7SojGjJGEg3JX7OGzVu3sWXTenJzlzFx+JOohEhKYnMemb2eXelj6N1UiUzl2gG54vfFhazsgaFMFQoClRQNefzDGawUAhnrN7N121Y2rc8jb8VMRnUXyUgR1Gn6DSs2byRXtHntWvJWfcvwByxOd5RBiIb406b3Hwi9kvPfV1Y0JF0ax/WbtrBt62bWrMkn65fRREaG4DngMxZkiXHOIz9rGVNejSHIS1wMil2M2SmPFxjPPcuFcocQDWlTIdEQtdyddn1GkLFrN4XbN5CbnUVmVo4kEPL7+6nU8leiNXTjgx9z2bRWzL0NrP39PerXDEIl0Q4b0XmoMQe8yDKhD3NlQwVFQzyIaNSZz5fvYs/ubazLzyVjdaZUb/bv/Xi4nhx58168MV+I0qxjw6ZtbNtawNo1OaR904768QpUajVyNyWdv87ikmj1wsYVEg3RqIJJrP85qwr3smvbBtbmZLA6S4hlZPLru09Ryz2Gtk/8xubde9i5eS25WavIzBbP0/jqKZdoiFbsOB9l9K9iYZ1nWkVFQxy+PDMhnR17d7Ft0zoyVq2Wxjxv9S+Me16NPLQG9ScscK5nad3nkf7lMDrojc6dvsV5yg3rPIB0oZRyaiKvVEI05NPfN1G4ayeb165mtSQakkf2oq94PsQHo4cHCqlPZZj8wnnz51UsmDwItVqNRrhUJNGQMBo/lH1DNKRRhURDPGj45Nss3FhI4a7N5GSJOZYtjfWiL5qSGCan3eCvWJLjtGN5eZvI/fktkmMDUBXL/i/XyIuIO5MaN5mN2h0nI6zN9f+zoiHHDvP1oGbSUcVDOgKLnakFq82Bl7e3dAwXsfNWuwOHt5DgE8/FrtcLLyFZJyB2fFLCjosdz2ImvkkHnnjqR7YcPU7ajHcI9LbfdicvYLFYsXt5S3J0Ul0WG3aHN14O17HYJHZSRjxtdhze3niL95P8wUJM14i+ZiNadOjMjLytHN+wmBFJUfioKyD/J9Vtd7bH4ZBcHlarTfp/4Q6QfmOxYrHZsYiElhIXL4LrPYgaNZvT/q0pLD1wgJ2LH6ZFolDUKVtPeRAyg1LddudxVIineIk+sDnDLA16Z/adGBOpbyxOP7hRb0AfFEF4s/sY/ukUjp48wLwXupBc4R2F6F/nOApXk+h/h/h/h92ZxSt2eEXj7LBK+QROPnlRvw1f3xRa9nqF4RlHOL/nc4Y9rquY/J+np3S8lcZUjLnDgbe3sx6RiCJlw0r87hYpM9vL247V0+TU9xSiyWIs6qXyeM/nyT18ip0/f8JjdvF+t5H/E+Ms6rU557lwuRTVe2OOWW3Yvbzw9rZjszrnhUOag+K9hE86iWZtH+Dh2RvZeySXX4bEEuzQoL/tRbBwcbjqsJRcQ0XrzCJJH4rnznnvXfTcZpUycEOSUmh9z3vMWnWYwm1/0L5hHIoK5odYpX4V7XfOaydcEpOS26Ho30Rb7c7sW4mjX8zvEOKiW9Bh5Jf8cvwYu3/pSbt4OcoKccqLNjldp5b/x95bh0eRrV3fnXZPx92QBEJwCwR3CU5wd2dwGdxtcBl0cHd3d9fBXYK7jf6+a1d1ICRhaOTM857z8ce6Zuju7F1b6q5dt6wl7Eq8vt0/4eoSDyjPAH+yFW5Kj8GHePTsMsM6VJKqoxP+NimIdZbdKK4f7DF5LcX38a/Hvsfs2gVi/4s3EeG2NngnZ8yBeKIhgpPeN4iAPCXo2G8kN18+YHevhuTW6D/58PlaOGzk44uGnN02jRYtW1K/WBShQoxZeo0XwUtrIsQJdEhVX4k+lwOPQjSkYo+JrF63ioWjWkm6qY6KhkjBuCT6lYIadsMh8Tkn6FsUVIhKRn2ltgxZto5VK8bTNDxEqtgzf2IjvcdHxhznDxX9SJ8lDDqZ0GnSU6bBWFasWcXyMaXIFSHHBxz3WybuVx6b/TeJ1sNeWSz0L9PlodSEVaxZvZQR9aJJI7KgHPbLJ17LuPal78WGTup6JGFoH1KmbcXENWtZs2gwrcuLNDnH3FMCH9tj7wPHCa4t7sEaJxrSdgxL1q1h2c8/UlrwMDnKvfSxPRa3rh/7XtqDZsym6nQfs4K1K5fyU73k+Ll9RlbXJ8b8sTkRe1wkBWSr3ILJq9awaulw8mYNxUmtx8XB/f2pPZbo+3eBRANaTWZKVJ7MujWrWTi4GgXC5LRmx/b3x/dYUusVv6JUnKID0mSh47R1rFkzj+5NolGotEn+XVL42Hy+m+8E+zt+1ozYA54+fpSu04Ju/Ydx/DnE7psgz5Ogh0iZkVw/LWbtmhVMbFeNrE5qDC6O3ndfDoeNvBDWCM2Ug07DxzNp6nTmzvmFwfVKk16omyTx+8+FKCBQKp1wUslFVgm//49AyovVo1UJzUaV9Mr1LiPhPwq7u0ak3jmJMcu8Ml+aSvpZkPK+LZg1YsxK1J+UOvx2kPO+DWiUSpyUaoffWr4VbIKOQfQtpA4/M6Poa+DqakSnUUprrdZZsMaLy/wnIdcWiPl2kjRJRULAt+FM+hTieKzU0piVavmh5piB/0qI07SzVXLvKZ2UaAQNQ8Lf/Icgsgi9/YNoNewXZs+ayeSfR9G9ZQW7aIiLxGdl0aqk61Jp9Z+I+307OGzk40i+xKtIXGTZSWuQ3DX/yuJ9x3d8x3f8Pw3ZXaMRNSxxNlKlS+J3/y4cNvLf8R3f8R3f8d+H70b+O77jO77jfxiOG3lRUCCIud5xlOsTc2p/x3d8x3f8/xkSB/97fv/3GhP/d3DYyIuospePHxGZspIjKg8FCuQjMiIlfu+KSUSwRajSC8IktZSb/OEDQHDOG9Fr1KhUKuk3WoMISHz9Q0KqaLOY0Yp2tQZMUqm5XE1pNgmCJ9Hfh9Do5QDY18YTJLZJg1Yej94Urz27oIMI9r3rV6SQCWGFr+9Xgs2GQatGpRb84vGC1VLwyRmd5n2/GpEW+k0eyDKJk04df0wii+R92zZDvDmXri1hG18Ce7DaqI3XthaLRZDcxR+XCb2YE5UWg5S5lbCdz0eciL32gzEL2gB5HcX3FqMBzbt11qCPL5rzxZA5kqyiuOfdmIXYjhykT3xdKlQaI+ZvFcSP21/2ttVJBAule89qka9BBFi/ksf+Hczx95ggh5P3mNR2guuK2wuGb8DVI8YjRG/e24yk19Koe78mYl7ihMNF6niGnPnIny8fObNnkTQmEvbxb8NhIy/y5CNL1+TI09+4e+00O3dtZnb7GmSLEw0xa1EpPEkWXpCSJYuSIzQYbyln1p7RoVfj5BlKlqIVqVy1OtWrV6FkzkB83D+Tv+QDyDe+QafA2cOPPCVLUjxvBlIFCF4IkasbQHjm4lSqVo1qAtWrU71iOcoUL0GBqBQE+n4FYZYwpFYzalErEJ6X6JJFyZU1zbvMIFebEZ2rGz6ZilC+kjzemArFyZkyCE+N4avfgER1nlajJm3uYpQoXojI1CJvWmSMyAFyQVSWpXBZYqpXp0rlihTKHIavSvf1GSXOWlQp0pOrXGWqVK9OTNkS5AyzYHExSwUfziYd2jQ5KVa+KlWrVqV8ibxkCNaiF7UCCdv6DEjaARohCpKXsjFVqV49hnIlo/B2d0VnMMuG3qBGqUhB5jzFKFEyLxl8RLX11/UrvcEatHj7BJK/TAzVq1eV1jEyuT8eGr20js46FYEp01KiYmWqV69M+TIFSO/hhpvelMg4fA5cbRZMQm0oIi9lYqpTvUplYoplJTxYicYoG/jgsLSUqmLf21ViKFcwlAAvNVr7gyBhm45CZKiIh3n6PCWpWq0qVauUo1iu9ASKatk4/hsxdpMBT3dPIouUoGSR7KQP/Yp7Kg42Axr/CKJKVKJK1epUK1eKvBlMGM2i5sKGm7sHmfMUpVTZqlSrVl2+t2NKkDuNrGD3xestxqNVEZQqI9ExYi0rUa5MPtKK2gfBSSWtpRGtyonQrAWIqSL2YXUql8orCeeYTEZ8gpLRZ85m9h86yp3nLzizfsh/m2hIIy48ecjsHsVRKFSYBVGRKHyyaHAKSUa6iuNYvlWqoWRX60pkUCjlPFCrFqdUmSgwdg8XbhzjwPZVrF67mgmt0pPiq0RDRKqULx4+Rek5YRaP+AuuTKNTEQVKgwmtJi0la41k6YYNbNiwgY1rVrPoxBViRdXhjHoUD/hSpj5XiXZXUNBmqtqOIftj+Rs4vryPTFDmYsGscscvRydGHj7H1ROrWLVqHycvvuDmmjFUTeaJxtE6gEQQaYhiPbJSrkFHDlwT5bL32NgtUCIoM5vFm4KJYk26cebuK86uWsXuQ4d5enoTXbKnRuFAgdlHYbNg1mWl+PwjnD9ylF0rV3L+8XNubGpP5QAXrDoz6vTFqLntMs9ubGX79q3c+eMBxyaXJad4axMkbAnbdBBCO8A/XTPmb7/FhV93snLVBWLv3uHnQXXx93LBZHJCkS4XpRut5shVUed4jomRab+cYjgOIqPMNwW1x87lUuw5Vq7azenLL7izchzlU/qhMJlQhmZl8Lrd/HrpECtXHeHGoyccH92BzN7uqL+Y9dMZi8GGV/p69N5/i8dnVrJq7yFOvj7PzklRpA0wo1FryFyoLJNWb2DDmlWsOnCaK7Frmdk9DUEeJgeKrT4CQUBncyWkUlMO3Y5ly8atbN0Ry8s7hxhTMid6e668q9WIwmYmc4t+3BZT/nIzP//gJJP+JWzTUQiDaE5HsTEHuHzrILu3rmbdg5fcPtKWmnndsBh0eAeFsuDcc17GbmXTxnWsW7+BdUvG0rGU7YP6mM+GWOvwHIzedpDTZw+wcuVxbj97yKHBLYnwckMjqqPVKcgdXZs9V66ze892Vq9Zy4rJXQkO8JbqLsT9adAocU+elolHH3Bx88j/ThbKWT1FgUHcE92E3ikVubutYNPJDWxdtJHLkmhIHAulFbMiGblG7+bM1ZWMrW7BKS4NU2OWVIy+7CYQ5fsqAlNXYPyc8xzYP4+Fh+7w8uIUOtj55CV3jSC1UipRqmRaYK+GP7H/jwcsqVOUYIX6ywyAswWDixfp6vdj57njzJ09lhN3XnNwcU/ZyJvVOLkXou7k+7w5PpZ6rjK5UqGaU3jGPUZ3KIpC8WWpVeKEZXPxpHrbPZw9sZrJq3dz99kl1nQRLJQGdBpXQrN0YNezF1xcWp10grs+dS5+vvaay+tGkEmhw/KFN4Eo7DGZyvNDj0G0Sx+Ci0JBpj6rufH3Ww7WyUAyFy3RU0/y4skFupQyS26NIm0P8fjZZZaVFmXdwkWWuF1HYNLryFimLoMGdyZ/eheJEKvr9AvAUeqUjEChyEH1pcc4un0Wq9ef5cmDk/yc4xsYeaEhmj4f5foPo2nZjBJBV/4Gs3jMHyzvUxsfUfldoBqthvalZPZAFAofGozez+/cZUBMXmxKzRcqccmiIWEZmtJ/aAeqpFWgsGSg2KTH8GY7Y+vJPDDirU2jUsqpzaYStFv8G9wYTjNB0velxlYSDfEhuFlfBnapht5Ji9W3Kqtv/8ajE7PIIRUrCW59N1yzdGfijYf8ee9XrtzayPhWyq+gWI5jrSxI025D+bFaEC46BU7l5nPm+V9cmpmeIHcl7oFpmHfsIjsnuGMUNBkKcX9r0H/RgS0exFoXrUP7ob0omNEPhSKQFlOO8yfX+bFENqxOSpR5h7D98k3mDm8UL51cI729xL05mQ06fMIyMjEhd03C/v4lfJGR/5C7xoTekJUSZVpQPbMfxav15NTf8URDLFrUadqx4MRNzu+YzpSx45gyfQZTxnahor83HkJs+QtfK81GI6my5aRZ45JE5MpG5Q9EQz78ravZgCI4FwN2nOH5gmGUCHb5cl53ZwtmzyBSlW9O3bJZ8U6V7UPRELMWpUcklcec5vfb55hbKBPOtkAqLz3Anw820SPGD4XGzlT5mYgTDancvBGV8nvj20WIhly3Uw1rUKtTkiXvEe6/PsyM5gq0RjUKfQYifzjK48srGCSoEyxfWmwmHpxycY3KaMJs0aGoNpE9j19xYVpW0iYvwKKTD7m2qTYmjRMKZTHaDL3Ci7+fcXRRUdxcRbXgl/Ut+b0NWpzE26HJLhoydD5//HGX+uUiUTjlpV6DhpTwt9Fg7CYevDzHxG9h5CX9YnGQUUgiFoKuOl2FZuz/Ha4MakF+hRN6kx619F8LBoWCQl2mcoM37KhejHClqGpMol0HIIrHrBYNSoUSrV00JG9RWTRkWmcVSq3sxjKbhKtUgcIvhm6bnxC7pAulvRVovvANWYYNZ1Ewp9RKmr6eAX520ZC1dHEV9McKPP2yM2rxMy4fXEvnLvO58HAzE1p+jZGPgwmtSoFSK4uGmBSDJdGQq1szEOKtxD3AbuTHxxl5J9TaODHtr4BYa6NOWkuhGyxEQ0r2nc+dv56xrlRukikUFJm7lxun9jJi6s9MmDadOVPG8mMtUXVrstN3fIS75r/byIsb/71oSJ6EoiE6FcqmY1j39CWv7x5j5ODeNG++gLMPXnN31XDSJ/NFZ/qyCLRcoGWUn6iJREPi/9ZVujlztpnE+efXGV0pEleF6gNe98/DJ0RDBIuf3gMf94w0HDiRIxcus2/vSXZvWsXwXMkI9NFgdv7SvgXei4YEfyAaYkSrsRGevTHHnzxk54Sa0vX5JsvFpI1PePtgDUNrCH6cLzO08fu3Wkzo1PlpMfcsz1+coFmZ1Hh6dGL5qVhOLk5BtwkzWb/xOg9id7D1yiPObxwp8bp8tlZAItiwiQdI3ipM+PUhfx0bRplsbqikalYheaejwfQ9PH5x9tsY+XiwmVQoAjJTY8ZpXr3eyIRGyXBTibdR8b1NJrtLW5oBO27z192xtCnoibPmnwnQHIVeo8AvtADT973hybHpNA/ToLOIStpQ8pUdyIKVK1l56jzXHy9iWIwXRsWXH54+gLMJnbMLQfXHcfrJfX5dVJQMZh1OLv7k7L+Ap7f30j91TsKLreb6002Mby7e0L/cLRcfIpnCqDdQr/8e7j+/wYJqYXgbVXhK7poXvIzdwqYNa1izej5DWxfFYDB/th5E0rDhLNYyUwwj99/j95uDaZTDDYNTPibvuM3vzx7w66C+9PihHZ1PPeTFvUX8VNsPDyHa4/w/aeTfIynREGHkVe0msvXFAw52qECI9HpjI+WIbdz67RxDc6XDM660XpTbm0zv+dgdRZKiIQm+T1eOEYce8fZwX0pl0aPQC/52+/fi9dRswmSSg4eJ2v8HJC0aIjI8Qsicvxtr9+xi1uRBNOw1imO/nuHA9EbEFNSis1+f4LuQx2znlkmijyTxEdEQs0WP1RZM+Qb7uPHiATu3b2Pv5i1cvHyMGwcW0MVLi04Eh0WQ1CLcL8J3+3nBSeEiMBqNNBm+nWevYlnToDjuGgsWtzasPPeC14+OcfnIfOpUL0XJwlHMOnGPM2t74C6RpAmfqc0+34IoLnH7H4XIVhKHhqzV6XrwGS9ix9KpvAWb2SBlSkk0tWYTDX/Z/XEjH2+POW58RRxEjZMiM6V/OMCdP+8zb0AJPFwVGKRMLiH8okGliKb11Os8f3ucvg3SYrIqMTnHuSPFb+Lm23EjKObKoFHhEx7J6AOX+O3CRoaFJcNdI9x2Yt/6Epq2CDE1K1O+5A+MmLCG40d+pnqJTGi09pL+ePv7s4ygTXAsuROQ6ic2xL7lxu5hREYocdJ4kirPaDbfv87u8WnwVwRTuPpGbjzdyqQ2egwmkQQg2hBuHYs0ZpNEHpdEHx+B2GPibyoNmEPsn/fYW78smYTcocUq8bFnyVecMuUrEVOxMW06HOPhs3NM6xMjJRxI/Uj7W4xZnLA/x8CKddKiVpan8/xYXr48QJeaoRjMCnSGJsza94x7J1oQ7Se7atTp+rPj9m9cXBRBiK8cX/xnIx/vvnOUO+kr8U2MvHhltFpkQd+cjYfIoiFNSxEmynp1SlRlB7H2yX2O1C4qCYkolBqM/VZx/ukZpudKh5+dv901MJDg4GCC/H2wOiRuIPNUmMSpNnlB6m18wp+XfqZ1bgUKJ/FUFTeYFaVSSckeM3nyx0OGNs8nKe28J/KyYfP2w1/0G+SPt2DIdGgzCv+hTPMQnD6XJBpyYOGPkn/QIKTgMkTT+NSfcGg+TSW6VwUF24zlFr9xdHA10goxcZsNHx9fQoKDCPJ3x8NNKPck7CdpWATvjdGGd5f1XH92lTUdPLEaROqquEGEXFwAqTNkIkdkdjKWa07njSe4vGowFRQ6jDZnbIJNLzCY4KAg/L09cXPw5rdZjNLctZuwhDv3b7ChQgFCxZo6qXHxCGXCkUf8cecQ5aK8pTFbQ7tz6EEse0alkDReRXaEEM6Q1jnQDx9PmYM7YT+JYZPUqPT5m9B/733u39xEi7IhMhuqXhhNZ0ziVVvpRO3JO3n04gzjMqbEVaF8L1wuXsf9xB4LIijAF89EfSQBIe1mEXTaeajabB+3bt5kSt/qcum60iQZTfE2qTdUpcvIi8TGnqBtLSH4rUApDPG71FIf/APk+fbzEgyLjsy3iClpCMlagPH7rvH4xnqGV3SW3kpVgvlQ3CPOwn32vow+a/1pPOUpY9oXQ6HQyvvb1xe/ELG//XB1d3PoICN84wZdAGHpxrHjzEPO7xxPqgCb3I9bOLn67uHx83tcO7+dXQdOcPbiU3778xn3ru1ikdAnEFl3Ng+8vIOk+Q7085KYUB1Za5uzEZubB3VHLeXK0wfsG1uACL2YbzmFU9x37+J6CgWuaWI49OwPzi1pLhOoiYOEhweewWK+A/Hx8cTiwJjFWgtlNaOxNr0nXuHu3UM0jckur6VaPDB86Lv+AvdOjCR7Cot0r1u8OrH26lPOzI0gxMf4z0ZerIVgLLXvgwAfL9wdua6vxDcw8sLP6k1waGayZExPk+ELJa7k8yM7UyV9WlIFeWDWFqPzlEu8uL6FNrWKkSFDJxYdus2FPaPJkdpfeiUzC9GQ7qu58OARd/ZPJqO/N5ZPnOiFgffwDSBdxsykj/mBwacEb/VaxjZLT4Z0qUjmY8Wqs+BW/EcW3/mbJ7u6UCiVCqd3p3gbNrMItvRh3okHPH50hPG5MhKURD7whxAnFEHjm55M2bJQvnZTLv0GV/dMI1v2bGRI5o0iY0FqH3rEX7fWM65BBOnSlqftkP08e3GDAc3KYlBqpVSs4u2GcPTBIx4e6kjFPEZU2k+cOqRN4UqKtJnJnq8w0VNP8IJnHJtYgoK5MxEebJOodlNlzkrW9BGE5y1DzZlHuLB7Fn0qiE0s2Dc1KFMUpuYv53j46C57B7Ygv5MafcK+EkAifvIMps+SAxJP95XubaieISNZo3KRK2sEbl5uBA9aybGnTzm+oDB5ixeh/NrL3N+/jAGBQvhZFNNpSZYlFzPOPeTRnW1M7uiF3vDpjAiRpuhSog1TpMyZqxJnf4aM2ckZlYfIdAF4u/kTmi47OXPmYOCG8/zFfVbXrUTRTGlJIWhwxelJiIY0Xcjph4+5e3Qhbbw8sMWl+X4EQgrOaM1Po17XpTHvWTaMbFmykj1HFHkiUxHiq8boVofhC19J/PjTfmpDhgyZyZEzF7myCINukeTvzOYyjFx1jkeP77Prp8yE+X2KidKGSW8mWcbyLBLUr1xjw6B85MqZjcg8uYlMmxJfqzt+IRnImScPefJkJUOGpvz0yxXuXe5N3aIGlFobLnoVTmW7M/nUQx7d203DEtkxqD+RSivemKxepM+zkEsvgcfbqVS2KJmzRpInVzbSh7vjHhhC8uQpCU0VRrKgfNRofZCnfx9hUd9A/LwD8ZbUtMIp32QBVx4+4ta2H6mZ0wmVPon+4kE8XMymYFrP3Cdx7z/a9AO1SmYki5jPnJkIFepabmnImisPeXJEkq1EWWpsOsOj4+sYU9tTlpQUdSthUZRacIVHj26wfFQLXDW6f1xnAWerBptXM8avEhmCTxjTrznpM2QhZ1QuojL5STEv905TOfzsPnvrVqFo1hwUWHCY62d2Mjl9MN4ixfOffPJCNCQgG8VHHOHBo4ecnNqT0qKeI4lr+Zb4BkbeiFYtaHMns3nfPvbvP8DBgwc5sH8/+/etYphQOVcKStma9J60nQMH9rNv30H2L+hJtjT+aI3iJGdF66TBYPuJg8+A13to6oBoiFmvJXm2ggxato99+/ZLBP8HhZjE/n1smd6KipnVqNUZqdhqAQcPr6Nh+Ryo1dr3bUi51SKWEMng1SIJ7HNEQ/wJSzuEZfuEqMF+Dhw8yMEDB9i3bzNjetRErdaQMldJRqw9wIGD4voOcODAOjo3LIFaY8AWJxoS3Z7JQojm9zU0LpPMYdGQGoPnsU30fSBuvvexb+t8+law4Js8Ne2mb2WfdG0H2D59KE2sJoxWeyGWVYiGuFGg1jyEfsYLh0RDxAPRgL5wa8asF2Idh9i/axe79uxl77597FkyhNTJfVFa3QjsMYPth/azf/9+9myYThdfL1yNoqDELhrik5r8G2WjuH1cETR6R0RDVBRr1IX1R49y5NB+du/aze49e9m/bx9L+uUjrXcumg9dyW6xB+PPyaYptAoLwctoQO+kweJRl42PhWjIKcY7JBqiJmWu0oxad5RjRw+yd89udu3eI+2xPUuaUy6rmtSl27Jgz1GOHDnw/rr272PTlKJEptGgNwjxcwWFx+9EbO8XGxwRDTFj0IWQLttoNhw9xpGD+9m7eye79oi9tIvFveuSRR1AznIjWCvWWcJB9q9oT83CKtR6Z4mD3iK9RcYwYIHUM7OrF8Hf6Z+zyuJEQxqMWsWh44c5uH8vO3fulvvYuZCRLYV6kwGDwYjRKPRQ/chccBQrt46lY4zwyTvj4maVREN8SzVnrdCHeTyBdg6KhphNDRg2dy9HjxzmwN6d7Npt32Nrx9HAP5ggny7M2LzXvr/3s2vlZNpJ2gBmKZfdZlVLmTE5Su2SHsyxq4YQ5ZBoiJqctX5k6b6jHDks1nLXu7VcNyEPGUM1KPXOxPSZzg5hb0T/e5cwMFUyfPXC1Su3k6SRfycaYiFDkdGSet7/26IhHfNKrzDvWShl/mehyyj8nUJqzWgS/mGRMieLgsiKL0Ypj9sS5yuzyP5Z8ZqUNbo27Tqs4eqDWJZN6Yy3l7v0VE54HYkgXpeFMLMQ8TXKG0/4WyVREGnSBae7+E5UAibwgYnTXWQxytdvyLozF7mzdymdIpLjZXivvP5PkMQ5pFOaMPoGjIJb3y7QK82JCBwZ7dcj+eGMdr+oqAxORtac5akzchn771zkxPJootJo0DkkqiDfiKJN4cIwxJ9vqRBF9C2+l+dFrInwu0vzYTFhTJaGiPJ1GTVrCfdjL7KobjRpHRUvsIt4S32KtuP6iZtbSe9U3Pxyzr7k/5aqop0lSbmAwHzEdB7A6CP3eHJuED9U1GN0SDRE3Lxi3uLWWNYBlSD5uIXfXP63WGvJAEnXJ4rtnLG6ueNeuBI/dOnK6fsPOD2tHxXdRbWmA/EIydcfN8/yGsuwV2xLp09xXQZpfd9fl9jfwpWZk9JVmtB82yVu3NjCjFahBHgYHcpjFzrCJoN9zCKGEb9t+9vV++ux+3rN8puRcCOF5shH5brj2HDsLqeOzCNPljCp+jlhP0nBWRwMRN/i3ok334mKncTD21n8Vuwz4Z4Sa5CSTBkrUn/8AtY/uMGZmVXJJ4LF//hgi4N4iMTb19L9I+8x+YEcb8zx95hNDtZ6B4dQsEo3Rkw6yf0Hp/ixSSmHx2wTMYSP7jFZL0Hs/7i9L/Vtscr2wi4aImyjziuE0fFFQ8TvApKTvEwtBo2byp3HN9nQrhrZPik1+vVw2MjLoiGNES+tVw8tpW+/PnSoWIhwvdHuJxOGXKgtxUf8m1cu+333XQLRkNLthzF73nTG96wt3awi6JLwGj4Gia85Qd/xK9/kfhMaElk0xFCmKT2nz2P61H5UC/HFRRINcTTz5WNjfu9n+/Da4q5BBGYjKF5jIDNnz2Bq7/xkSiFSxhyvUkxyvqXS6vffJzUXkvhymhwUHTqb2TOn0L1iPlIolJJoiGPppLJATML5/iCgF//a3vUt8r69SZ6mIcNmz2H2z52pI4rWhEshUR8fQVJj/kAcJt7+it+/JBrigW/TAUybO4cpA5pTwGjCmPCh/1F8fMzS30vznvh7ad5FAZmpIm0HzGDeL5PpVtEPD2fhqvmaPWY/HMX1ndQ1SbUFWjKVbcDw2bOYPrkbWdIE4aTWOcwpn+R8JrqP4l3nu/1nRKfNQKFyw5k/ayY/d44me7AoUHR0fyewFYnGlmC+441ZvGH4p8pIy1FzmT1rLC2r5kPhpJEOCYn7SQIfXcv3v/nw3nvft1Be8/INoEa7Poya+AvnXwvRkPF20RA9+uRpiewzjTmzpjOwfikipDoiR++7L4fDRl6cVJJHZKJhl570HzSM0aOH0aVyEdIIf3oSv/9ciCoxKZDipJEm7j89cAnCsAn/nRTAcUKTBEfFfwYyHYMxTvnd6d8WDTFjtAfr/k1NAFk0RHZdiKCV5hP+2W8LGzatfb7tQe/Ev/lPIK62QJ5vpdYinf7/nfkWtQU6e5DSCaPp3xQNEW8gTvJ8K3XSQ+3f2t/ijU9KMRYBaq3hXxqz3cj7BVCv2zBGjhjOgD7daF6z2LtDligGNKvsAWO17jMOk18Hh438d9GQ7/iO7/iOf8J30ZDv+I7v+I7v+JfhuJG3ayca9Xr0dhgT0Ql/x3d8x3f8/xh2Pvk4G2n4wmr+bwmHjbwINHh6+5IqXUayZs9B7txRZEmdHN8k+ORF+qA+7gEg0RDLPPJqdQJo9d/E/y7zyQtOa9GmyFp470KS/JImkeb5vl+NzoxFFEp9Ax+hqwgQCY5ztQadIX76YxyfvPgubryiWOLb9CtS7PRaMddxY4qfPSDzyYtq3HffS7UI3+KBbOeTf7eeIiPoQz55Ocdb3gc647fzfUvi0EYdmrj51OikLJN3Ple7XkHcmAUH+bfSK5B52+ONWWRJSf3aYxzx5lqk6Rq+UXxH4pMXRV7vxmznbP/gd66yv1e6BnFt3+jwJapt4++hd9XDYg+L+Ir+/VrEzbnITPsWfUuUDfHbTVhLIRIn4vWv0X1DPnlDvHFpMYhMJsktbUmwzu/3g9BzEAFgQYOcNmsUuaKiyJopA+GhwYn6+LfhsJGX+ORL1eDg4zfEXjvD7j1bmdOhJtnj+OQtOlQKD4JT5aVIkQJkSxGEl0h5EmltabKRr2wMMTFxKEPJYoUpnDcbvt6eUpQ6YX+OIR6fvLsPOYsUoXBUOkL95TQvsWAi91VwXRQqXY5KlSpRqUw0RbP74umlw/iu5PwLYOeTF8bVEhZF0SIFyZEpVTw+eZOUseKVLj/RZSpRqUJZSudPRZC36uu5vm0icyKIDHlKULFiRSpWLEG+rKkk0RIpTdJqxsViISxnUUpVqkSF8uUolDmcIKVYq8TtfRacdaiTRRAZXY4KlSpRpmQRsqe0YBZ88tLDxYBWqyEkSz6KFCpAjvTukkFIOiPDcYg2jBpPAsOiKFm2ApUqlSG6aHa83FzQGSwSf7/GN4wsBctSvmIlKpUqTp70FswWk/RAT9iew5D45HV4efuTu0RZKlWqQNnShcga4ou7xK1uxRyYhmxFy8t7u1IlSkfnJ62H0FD4Wj55q8Qn75I6FyXKij1UjrIFMxIWqERrjNu74jBhQufuQ3Dm/BQuXIjIVMnw+USR16cQxycfEVWUijEVqVghmkKRaQnQGuTsE6snvn5ZyVesBKXe3dcVKBGVkWRf2beLzYjWL5zshctRoWIlYqKLEZVW8MnbhX5ESqtehz5ZFgqVqij3XbYIOVPbM18Stuco4rQBQtNRrGx5KlUqR3SJXKQR94xBVHqnIrJgGSq+G28MFUsWo0ihfGRP74HNasA7MDl9523l4JFj3H76jFNrB/838sk/Yk6vknZ6TZGr64qbVYMyOJg0ZUaxeNNr+PsFO1rFkEFw1xh1aCu0ZuDyzWzeLLCJjauOc/sp8HwzubKkRPvBKdRxSHzyGh/cvQry45hfeMAf/HVpCh2LyNw1VrMZ98BU9Jm+jCMXjrNu3TrWnbvJnVuT6FPKDzd1HLnU50Lmkxc55+ljWtN/z23++vsvji7rLXHXiDxho5MLrpnbM/rkZe5eXMu6Pee4cm8383ulJNBV98UEZcKoONvcyRUzm9O3b7Jr+w627XjGw8sbqVQso3RdWmcj/lVaseXiE+6sW8u+w8d5dXkfk7KnxV9kdyTRrkOQ+OQzUXjOQc4eO87etWu5+PgZ19b/QAWJT94iEWYVrNKa1Wce8jcvOPxLEF7uQuwhifY+A4JP3i9NY+ZsucHFc3tYu/Yid+/eYmy/Wvh6WDDpUpJn8HbO3jrOge1rWX/vBXeOd6RuQXfJYH0Ob8oHsJhQ+iSj5qiZXLx7nrVr9/LrlefcXDaKssl8cNKo0GauQKtJq6X9vWHdOi7GXuTg0I7k8HZH98X8/TKfvGe62nTfc4PHZ9eydv8RTr06y7YJkYT7ibdRmVLEoDDjlq8TEy+K0p8XHO7dkBwiLTZRmw5C4pN3IbhCQ/bfjGX71h3s2H2XF7f2M7JodvRWofwVTp7oHTx885DLQq9BurfXMaNrXaK0DtZcJAWJTz6CQiP3cvHWYfbuWM/Ghy+5ebAlVXO5ybUtQpAnX1Varb7Mw+vb2LJ5IxuXTaBz6a/kkxdrnSobIzbt58z5w6xde5I7z+6zv39Twt2tKA1F6TBiCRvFWDdtYuPmLay5+Zy/ecK+pqEEuBoxO8sFdF4p0zP52AMubvlv5pNX6uy5uiYMTmFEdV3GxtOb2bF0C1ckPvkYmU8+vrtGyGWJqLNPc+aceczdXzqSxd8N/WfkxMeH4JMPSFWesTPPc+jQQpYeEXzyU+188i5oFArKdBrPi9c3aVcxixzxLt6RaS//5knbOhRUOH1ZtZngk7d5ka5uL7afO8HC+T9z8s4bDi6WCcosJhWu/sXoPeslf1yeRtt0ChTGVNScfpg/7q2ne3mvr6IadnH3pEKnwQztVBaLVo/Foxn77r/l/r6heIgCs9RV6XXlDY/3TKSoKMxIkYFBp9/y+tQcWibTov9Cul+ZT74i7foMo3Om5LgJrpT+a7n59xsO1M5AMouZAg2XcfLsShaO2cr553fZOy0Y729g5E06HZnK1een4d0olNENhSIt3WZehL+PUKdkWhROkTT+cRR9G6TGR1R5lprBkadwY0EOUgd8hTScUYcuQwEqDB5FS2kPmSjYcA5P+Z2lvWvjpVBjFe4arfzqLvZYxQEL+P2vBzSomAeFMl6F9WdB5pNPlbE5g0d2pUYGBQrnjBSf+gReb2NMHaV8kNErcPEtxJDFN7jy5Bm3717gcN9GRH6NkY/jk285gKE9amEU2hF+NVhz5zceHp9Jdhc9Kqdw8sds4/Kh+bSX0iSVKL/aXSPe+ASffGFa9BpJr1ohuBkUKGMW8uuLP7kwPR0hblpM7kVotOcmN3f2kOfFnsmi/NI1joNY6+L16TSyH0UyB6BQhNBq2gn+5BqdS2TDplais7trVPYMmjyzjnDvwU46JA/CVUhCSnzyWrxD/6f45AU5Uzaiy7ehdrYASlTr8QGffHxeBvFQEHmiBYes5dqTg3TNkhI3lU4iI0vYnyMQlYCps0fRqnkZ0udJzCdvUipI1XQw+35/w4G5pQlxNpGmwVIu//2YOY1L4yfUrZJo95MQ/k+vIFLHtKZhTCQ+CfjkxVyli67Noddv2T2qJe4KwVCoIGv5ppx9/IhxncvK5FEJ23UYsvqMk0ovFbx4e9mYc/Ipd4/NxGYOIW3kEu68vMSSH5NLIhcuqXsw9eyf8Hw9Yxor0Oi/zMi/z/mOzyf/M3sev+by9KyEB5kpUL8VDUp54eM/laP37nHgl29j5N/lfDspMZjj88nfo3753DipFOjUghRMZpjUKnqz6sxv3NkfRdpkQlA5cZsOwc4nb1A6odbLfPJpKzS188m3pIDCCZ34jYhTSLnw/tQZeYjHsVOpWtQHpfrLA28yn7wWpZPqPZ98kfd88iqVAYV7KKXHbublw62MnDmUn8/e4Uy/hl9n5CUICgqVxCcv4iue/vH45CUjn5q8Mdu4dHAebePSqpXfQLhDQtJ88te2piXY3xn/UrM4++ACm6cPYuyEKUyZMp5BP1Qhm1r3zl36RYjjkxd7LI5Pvo/gk3/O+tJ5CVNrZLoTwaJqsWLKW5ftl29wvF0FfNysGO19J0lr8N9t5O188lq58CEhn/x7Iy9zn6hy1GLZlRtc6lGX1G4WtNYvD7xKATHTx/nkXa0m1MmSE1Z8JCs37OXEnh2cO3mYaYPr4+7r+RXSbHa/oDZpPnmLTolzljL0P/ySW/t+onAKwdyXkZif9/D09weM6VpNcnclbvczIcQsLFZ82o7j8pOHHPm5EBZDMOmj1nH+1lGWda3CoDnb2bf5MLHnhnH+7mXm98uJSvvlhkeGCLqJQGQemsw6w7OXZ2hTKQ2uFr1UGa1QuBOQfC6nHn07I/8egk9egSJXRcadfsBfJ0ZQNrs7Kp38ZiQKYcRbY+XOm7jz8gGrG2cg2KbHlLAU/0sg+OT9M1Ltl5O8erOFSY1T4C745A1aNEVq0W7WcpYtPcaNB4/Z2S0fEVYFWqnMP4m2PhMGjQLfFPmYuus1T0/OpGW4Rtp7oSWbsvn+W3YMLYpHqcr0v/2I833rk008fL7UbREfEp+8jYC6ozn5+AHnlpQko008eMLJU3o3j98+5MKKFaxYuZxFY1tRPqMCtahsTdjOF0BQFBh0emr32sW95zdZXC0FHh7uBE06yLO/XnDt8Dq6durL4BHH+e1tLKu71sAo0Rt8haGXILSKVSgylOenPXf5/dZPNMvlibPd1SlVsJrN1FvwK7GXllPZ3wNnEX+x//3/oJF/j6T45OOMvDjFi5uvxsRdvHh1hsbZUmFSaiW61HdtCK5vO99Iwrb/ER/jkzdo0OQqRf2p+zi9ehR9mwxm/qqLHNq1lB75s5Iyznco8W3b9VE/c4MkxScvTvpqk40MtXty8P5j7p7ZxpYDO9l4Ppbrl08wvE1hFE5ykYQIyshj/kw+eZFJYnXFp8HPbHjyhkvrypArTIFGHUz6yFVcffOKp9cOs2tlDKWLFKVa7SGcenSC2d0CUeus7/jkJU4SR/hb4kEIhhgMehoO2crT13dZ16gUXgYreot4YAseFy+CUsz5qJEXe0Ge7yR4UP4JItNEp8IpcxU67X/Ki3vj6VrRiotF5pMXGTCCa6XUjxO58dcjjrWuRk6d4MwR2RH2NsRbmL1vx2MTosRe8MlnpGSrfdz+8yELB0Xj6aaQ1kBiuEyTjfxV6lK3WjlKjJ/Hsr27mV8oitRanZ3sTuaTl+f7M4KDNptEje2dKisj913gt0ubGR6eAg+FEkXGwrTd+yvP1o8nxsuEonhrxtx7yIUBTYhSq98H2e1GSRrz5+xvkTygccMvbAhr77zl1t7hRKUV7j7B5+KFX2AuipevSJWqlanQZQjjbzzj7o5u1I7S2jlqZD75uHv6c/a3zCdvpmK/Gdz+8z77G5Uni9KIzt2P0AUneHL7IOPzpJTfIDxzU+fwfZ6dmkc5qxVLHK1vvP2dsP2Pw84n71SGDnNv8+rVIbrVToXJWS3H0SSuLBMuFXtz+OFTTk0ujJ+PEUM8tbV/NvIyl5Y0J5JGdsL+vz2+iZGXXyvtfPJN7HzyzUpLfPIqKf3IBZtOhaFEZzbcecX1JTVIl8yAxvThhnMN8CcwMAB/X6/P4JN3fs8nvyken7xSsONlpFK/w7zlBmNaZJKuT+3elYWH4M9TLSmbwc5F7u2DX2AgAQG+eLmJhUzYT1IQ/kM7n3yGD/nkRfm4MDyCtyQwTVay5chNzuwZaTtsJmfPzadzZQNOQj3HZsPb24egwAACfN1wF3zyifpJAs7OGNx8SdbyF3bffsKVjf1IGyxTBShVvqTJPoHzv//JxU09SeUpPg8kX7XTPHq2nqEVFHI6mrsHnv6BBAYE4Ovl8Rl88iaszjbajF3EnYe32Fy5MKnEOmv0stE061ErrXj5z+TEw7vsm+yNs0n4au1/b5P55APFfPv74O3haGzCJvGS6PI2pM/uezy4vZUfKiST1lSsobNNfkBXGTCb80+ecmxaKbKYxdh18YKArrj6ynsswM8bj0R9JA1ni0ipy0Xlxnu5efMWvwyohU4p5A0F2ZxIX7RiUdtL+AXMPzDvPDxYUpO8fk5oJYPnjW/cfHsKPvnE/SSGzCcfnDkfY/Zc5fGtTYyq7CJJDIp+0ldoxKYnb3hy+VeO7dzD/gvXiP39D97cvsKJRQ0pn0eNWmfD5uODb5C8vwWfvCPGVuaT9yNlxGi2nXrEpT0TSRPsKmkVyymcIj34vT9coUhD+T6x/P18DQNKOqEyiP3tgadXgHxP+3h+Bp+8CWdXd2oPX8zlp484MKEw6aS+VGjcfEnZfxu3Y/czzs9DZnL1S0PuLdd5dWwOjYWRF6d5d3c8pHvaH28vD8d0jYV2gBDEMdSg5/jL3Lt/lJZVc0iUECqtrPUgrs3g4kG3dVd4fXszJbP7SYRl8YO9HzXy4sEj+OTt+8DvM3QcvgbfwMjLfPJBKTKSIV0EDYct4D5w7qeOxESEExrkh4fFgt4nkJ5rz8KzA1QtkAKtVv9+wZ0tWCQ++VWcv/eAW3smksFhPnl/ItJlIKJ8Swae/Bser2F0kwgi0gTiZsxCtXb7ePv2AeP7NCN1mtSEtZvE2ntPubO8EvlSK1GrBZ98b+Yeu8eDBwcZmyuDw3zynl5pSZ8pA2VqNObiW7iyewqZs2QmXepgrM5e+PmnI1PGDISlSE7lll04cflXhnWqgNmgkjaFXvDJtx3MkXsPuH+gPRUEn7zuE4suTmUubqTtsZorfwm2uEVUK1uA9JkiyRmZmVR+RvxCs/DTrls8v3+YyS0iKBjTlNUXn3BhVi9Km/WYDGo7n/yv3H9wh939m5PPQT55g0cgPRfulShcL3f/gWpp05EpMpIcWdPi6emBS1haMmXNR9HoLdz+8y2X1hUjf+6MRKQUbgsbxjg++V/v8eDmFia290Qv5dkn7i8+RGqbrVhrJl6SmOyZ0KsWadNlIVv2KLKm8cPV5E2DcZslKt/nOzpRLzotGbJFkiMyI2Ef8Mkv4OS9B9w5PJ8fHOCTt0l88vlo0P2KnU9+KFkyZSJz1uxEZQslxNeK1T8FqbNFESXlRqej+YhVXL1xnrlVcpFCr8EgvaGWYcQKMd932TH0c/jkyzL/2t8Sn/z6gXnJmT0TWaJySjUqyTy8SBEaSlh4GtKlDCG4yQDmvP6de5N6UMHPFXdvZ5x1apTlujHp5D0exO6kfvHs6NXx7r2kILGrepI213zOiwl9tJ2Y0oVJnzELOXNkIV1KZ6weXvimzy6NOXPGdFRq0IFDdx6xe0IHihuFYIgRtcQnP59L9x9wY0tXauRwlE8+kJa/7EGQUT/a1JoaxdORIXskObKnI8TmgX/Kzqw4+ohrW4eRK3t+isdM59j9m6wdVx8PYeCFFGSqKKIXXOL+g2ssHdEcF5HumkR/H/TtrMHZswljlr0W3MiM7teUiLQZyZY9B5EZ/PH2ECdwf8I7LOLab8/Z9VMu/N0Nidbxo0bezidfbMQh7j64x7HJ3Sn138Inr5H45KewReJVF1zjRzgs8Xmv5qdSeUghCgZq/MiUfUfZMrgAafy06D+gHLXzybsO59Dzz+GT15A8e0EGLbdzyR8+IvGcHzywn60zWlMxswattigNO63l0KGDEr/5/iOHWT8uhgKpRAGDcOkI0qoohqwVDM+fwycfQFjaoSwXYz5wgMNizIcPsX//Fsb2qIRanYr80dPZLvrcv59DexbTrWE+NILvx+qKmwjUiFNIqQ5MEfzmn8En7+rmQcdpGzl2QvCM77Pzm+/nwLYFDKrqjtWoxjd1Fnou2s+xw/s5cGgfG3/uQklB/2sVsQrBJ+9BwToLEJoQn8UnX6Q14zYd5cTxYxzcvZs9e2VO+72LBxEqCj/ajGPtHsGdf0iek0MHOLBnJePbe0jFcmbhT/dNTYFNX8An3/hHNp04wXGJ132P1LeY+yX98xDhXYEek/dK13V4v+B0l7n0D2ye+iGfvGcDNj35XD75MozZcIKTJ46yf99edu/eK/W7d2kLKkeqUeerz4+r5XUWOHxsHSNK5yalCIxL4xI1JAqKTdiN2N6fxSeffQybT57i+JGD7N+7i917xdzuZknfpuRRadAYBa2zUd5LuSrRduNWljYpQ7gQFre5YZX45CsxcKHo+SVzPodPfvRajp46LvH379pl32O7FjGyiQGNqJUYs+bdmA8d3sqEvnUw6IW7Ui6MFHzyfqVbsP53mU++vYN88iZTQ36af0Bay0P7Bae7vJZ7102kaYgPNrU7QaEDWbL/sKwdcGAXCwbXwE2oh4nTtsQnH0SOMrulB/Ndh/nkVUTV7s7ygyc4cfwwe3a/32Prf85DxpSiqLAcfWbt4vCWCWQM88NgTHy/Jmnk3/HJW8lYbCyx/y188kqhzWonKIuj55Q4rQWHup1X/Z0PME7XU8iWJaDtFP/NXKIGrduu4sr9u6z8pSs+n8EnLwyfVHQluOwlPu/3FKCCH9psFpkgFpkaVOJgt/uhBR90tiKUqV2PNacvEntgBV3SpsDbQT558RYjNFoF+5zEFS98+oK33R5ll7jExffSvIjrENcgvhPpccnIElmGGj8tZu+dy5xeWZpcEaJqNmEfSUPSiRTzLHRppWsQeO/XFxXAso6kuAbZLyqP2YwpJJzwMjUZPn0R9+9eZkn9UqTTxHdr/APs6yjx5Ase7bi+43yOUqGM+EzmNheU0fJ1CV+nB/4BeSjfoS8jDt/j6YVhtKtkcJBPXn6TkLi8Jd5+seZy3/KcCpehfU6Erz/enEh7U/DJF6hAyw6dOHX/IWdmDCDGXRS0ORKPENcuxiy42sUaxo3Zft32PRjX37t4g1SYI/42ByVjGtB4y0Vu3NzO7B/CCHSYT94+ZrsmaNy44lPcvoPE5S+41eUxCT75lJF5qFhzNOuO3OXMsQVS0dyH1dEfh2Rw/2GPCVdp3GeS+pX4nVQ7IyrfU5AxfTlqj5nH2ge3ODununSwcoxPXvZ7y2v54R6Tx2zXy323zvZ4mrMcZ/IOCiZ/xS4MG3+CBw/P0KN5GYf55KW3GGl/J7XH5GuL02i1JMrkkQnKBOun3ivZh3zywvb5JydZdDX6jZ7E7Se32NShBpFag2P33VfAYSMfxycvlMgu719I957d+aFcAVIbjJLkVZL8z/ELE+I4mBPczHF88mU7jWT+ojlM6Vtf1m39jNz5pPi243NMJ+KHlh4sdj75ci3oM3sxc2YNolZyP1yFq8bhPN+Pjfn9g+395/ENmQmdNi0law1l7oK5zBxQkCyhn8snn7jfhFzfSXJuCz75iCiKD1/Agnkz6FO5ICk/h08+IX95vL7jvk/8nZgTmU8+RZrGjFiwkAVTu1G/2OfxyX9sj70Th/nYnEh88p74thjCzEULmTG0NYXtYg+JDGWS+PiY5b9P/L28DuKaxKGiEh2GzGXRnOn0qhyAp+3z+OQT9xvv8JTUddq/E+m1mcs3YtT8+cyZ3ptsaYMlVkRHqXeTns/493TCz+OuSfDJZ6RIhdEsnj+Xqd3KkDPkc/nkE/f74YPtwzmP61vik0+didbjFrFg/kTa1Cz4+XzyifqNb7firi3x/IuDpqevP1VbdWPY2EmcfQV34/HJ61KkI0f/mSycP4dhjcuS7v85PnmjgRRps9C0R3+G/jSKCRNG0b1aMSLe8Vl8HYxxfPJKmU8+4ff/Edj55MVrpQiuaL8R38inEccnL6dg/l/yySv/Rbro/3s++bj5/j/gk7fziP9f8MnHzfe/zycfd0//H/DJ2/e3WuKTT+J3/wHIfPKBNOw1inFjxzJ0YG9a1y0pPRTEw0kE6OP45J003/nkv+M7vuM7/svwnU/+O77jO77jO/5lfDfy3/Ed3/Ed/8Nw2MhLnO1WwTKoQWOHzmj+CjKi7/iO7/iO/y2IALDg4H9nI0VKaRK/+zfhsJEXqUQ+AUFky1uQoiVKUb58GQpniSDwXXm4zGEjgomCREpjFy54x3ltMaBVOeHkFAc1ejsZf8K+PheyqIMJtWhXrccoSs3twZY4EQDVu34Fn3v8a/tSyPw1VkHiFNe2Sov+naCDHFw1m9Qo475XqjGYrN8o+CWEUJTv+hYVpx9kioiHsrNVIhNzUgniqK8d7/t2BYmT1K7UtxK1XpSsx825oK94PydKoTeQsI0vgjyfJv2H8ynSCqX5dHWVKCbefSfmRGu/rkRtfR7i4lHS/rKPWWNnW4zftqRfIAKd0j78FsI09j2mV7/fY0otesEl72o/eAlq6Q/uK7He3yaQLwyWLt4eU6oTpNnag5y6eP2r4qVVJ2zvs2DWx9tjTqh1sjCNqwigiwKv+OO1r4kIsiZq5zPxwRpKUEl00bJoiPwbgzZ+/8p31yb88e6eXuQsWoZyZctQrFB+cmROjU1ccxJ9/Vtw2MhLefJl63DqDdy/epwNG1cztXVVsmp0smiIWdAI+JIqU1mqVYuhUJqU+EoPAFH2rcHJP4Lc5evTuFkLWrRoSJ1qxcgkvjNZPuSv+SzIN75eo8DFO4gS1atRJToH6YLjuLZdMaid8E+ZjnL1G9K0RQsa1q1ErkAv3DWGr1LPcbWZMbo745K3HPVatKBZk8bUKpeHDELQQTJ4JnQaN3wCi1KjfmNaNG1E/apFSJPMB5VWqBklbtNR2JxtGHVh5C5Ti2bNmtGsWS3KF8qEWmeUMpNEFovZqJAq8QrEVKdquUJkDxV5xonb+myItQyPpGidxvJ81q5KkfTOWFxNmAVHiEFLlqKVaCJdVz2qlowipUaPy1dmTAnedL3Kh5QZS1K7YVNpD9WtVgR/L3c0OpNkbHIUr0ij5s1pLtCgNmVzO2OxfqgU9tkQBl6vwTcgGaVrNaRFi6Y0rF+FQuHBeKm07/eQ+J3GiZQZclC+ShWqlAgjmf/XEbO52iwS/4x7lmhqNWxBi6aNaVgpL5lSCm4mYeDN+CZPTYHy1akj9liLFtLYm9XKTeZUokYhcZuOIk40JHuJajRr3oxmTetSqVgkydV2inGRuWPUY7C6kr1sHRpKfTelZrEowkS+fBJtOgybHnVIFopUaUTTZi1oXrcG0TnMGEUtiosH3kWr0KiZfZ1bNKNpk7rUqFqJ6ILZZdEQB2oukoR9DVOkz0n1hk1o0aIxdWuVIpunG25CkMfVRbInEXmiadCkGS3EXNepRolIEyY3C0azGZ/AZHSftpode/YT+/o3Lm0ZLqdQ/tcQlFVoxPlHD5jRtZAUOZbdNW64WVQoQlOTvcF0Nu4VtfZv2dumMhklulMLZkVa8vXYwJEbe9i2bi5z553m7vMH7O5Ri9QeNoyfRSD0HiJNS6fyxzcohqGzl0rVhNyYTpeick6u1aTGI0Uahqw+yKOLp9g4dy4nb13h+pxh5An2RiFSypJo99MQvB1u+GZpy7CL97m9YD6rN+/g0Zub7BxYmEwqAwatDV/fZoxbHMvtq7uYu+4Q5169Zcfs2kQECwP8ZQ+YONGQIvWXc/neNdauXM2K1U94dmcvjSvlkIQ9DDpPbC4l6TRiMrff/AUv9zKxpg6dKDpKok2HIfjkdbmpuPw0l/btZeMcwTT5krt7elM3yA2rzop31ZYcvnObtavWsHzVdV49OcecWkUxixPpV6QtWowqgrO2YcX+WH49vp65c09z++4j5oxrRoivK1qtjkpt+zNnyWIWL17MkrP3uXN2AG3KeeNm+0witPgwG1EGhtNg2nKu3D7J3LkbOXr+FY+3TKdKRDAKoxlX6U1VhSJ5OnqvPSpVWf51uh5lcihQaZNo0yEI9SMXfDM1Z9jxWB4em8vczbs49PY6h2cXJWuIeLNQkDGmFQee/c2tX3cyd/5ClixZwqIJNYnOoX3HF/TZsDljcnEjWZ0OnLx7h1XLVrNq3S1ePzzN1MoF0Ds7Yzbo8HRzp8GQKZy+c5/j8xewcMkCxrWpRuTXpFVLBV1ZKD/lBNdv7WTjqvksuveK+2d60qSgK1Y3d3xbDmP2kiUsWbqYRfOXsXbVZURR7bXdQ+QCpi89UIi1zlCQSfuOc+LEDubOPcCNp884Pb4z6Xw9UBqMpC8Sw7oT59i0aQ3zFi5mRexz7h5tQ7VkbtjMco2C0LGwBqRi/OF7XNg04r+XhVKh0tu/M6JTpKNwr3VsO7KMtTNXckESDZFZKPVmDar0A1h38xVnu0YSJKUWBdBvxRXexq4kd6ZgSbYuYX+OwGRQEZK+EtMWn2PntilM3y9EQ+JYKE2oFGHU6LOXF+xnYtUQqbQ8qOFwTvOCefXL4C/45L/oRC2YI/1IGd6MHu3rkk+MyScNLXe/hOtbGBauQOGVi5g51+HWVvqks6FQOFN8wDr+/vsoQ1ulRqE0fdEDRhYN8aBk8050blgQnUKJwVadHbFveXxoNB42Ax4BWej381mO7ZvG2A2/8vzeZkZX00s6lF9j5KVKRnM0jdt2pXEqX8wKBeHdlnPt79852iQzyV1MuNboQJfWMRhVKjTWYsw+/5KXl5dTxMsNq8PFR4lhNuhJV6IKP3ZrRmSYWRJ06DD1DHCKeqUzSTQbhrg8eIHQoWyP/Zsrc3IS7vcVoiEmA/q0uSjRpSc1i4RLJFm5ak/hAX+xtl89AhQq6S1GqUhDnsGHuHD/BHcfPuDSvgaUjlSg1iXRpkMQrj4fUkbUoUv3JkSHKlBoIyg06iH8tosJDeUc9AwxP7DvyjlGNsv2fuxOdhKxL9rbdn4kD28C63WiS/MyqBVKTJ7lWHrjLU9OzyOf1YST1ZtsbUdz/fYZphXPhOu71Go1FjdHCdgSwi4aYs1L3R+607KMj5xXXnQ2J5/BlbkZSOGjx6CMt84KCx7l53Dl7kVWVckhV6d+6UlerHWBqjTt3pacqT1QKDxp/PMh/uAWvUpkw6pwou+Gy7y+OJ8Qd5mQUdFlBVdfxbItIhR/o1F6uInaBJ+wjIm5axL29y/hi438e+4aEwZjRgoWrUOZcA+KVO8piYbssVMN6y06NKFN+eX4Y15sX0THYG/0hWuy5OYz7q1pQubkVvSmL5sAs8lEyoxZqFUtHymyZ6PKuviiIWIjVKP7hN94dbkDVbIqUKhUKCwNGbr9Mffm1qe4rxPqfySJ+jhk5k3hK1WhN2lR+EUQOeUSfz7fzphKClxzV+GXB284/nNr/BQKPMKzMXzNfv7gT9b2aUQKhfLLTzvC7y1YD1U6qarRy8eNuaeecvfoHDxdnfEOCqFq7TJkyxJCtikXefNgyzcx8rJ7TLBMKmTRECFkUX0Se5+84uL07JIx1TsppQpDs1GLm48nPXfc4fXlzfR0gAzsnyAX9gjOHSHo4IxWoaDeTwv58/dY6peLknzVEl2EKG5TKdGWm8GhW1dZXj0DQRa9xGmSsE2HYBcN0TsJgy2LhqSLacHBP+DyoObkVwgfuIJspYdzKfYV0/sOY/ji89w62eQrjXzcHhNuUCVak+A9iSB/iRO8ZAdTO8qGThj5/dcuMO6H3NK/tVotRuPX6gUI2HAWBYpKrcQR5RkYyKBDj3h9ZhXtDRpc0uShx857PDq+mqnjZ7NgxXKWzh1F43KZUKjNX/6AkWBEo3wvGmJRDmHLlddc2ZyBlAGGd24oYUw9glPT98BdruwYRk61XqI2SNyeg7DHm1QKJwwmM0YnBdH9FhD71xPWlspFMoWC7FP3cPvFVeZ1T46Hax5aL77Es7s7qBYahM1olu6vJLlr/ruNvBxwNejkTZdYNMQZq8aPsIg8DNx4mCunjrL31m32dG1DpZRGbK4yXWvC/hxBXEBMkhRMJBpiRaXwpGbPBbx8cZofa0bipFZRstZITt3+g3tb61IsnRPqL32ljYPNjFbpRvJsfdh0/xVnNw8npbuCVIWrs+/STWasnkjOUSs5euEE+4+cY/fJm1wb24nynyQEcwBmIzqbO8G95nLz6W12/5QHTzdniTdFvDIqvDJSeOalb2jk4yD4a4wY9MXpvOwSLx4fpn7JVNgsQuxY6AKY0FncCGz4M6ce3+fM4kKkdxM8IN+gf+H2EcanWEN+ufyIt/t7UzKzDZXOiNlYjHbDl7J1+3Z2PHzO9d21KRxoxqR3hJ/mU7DhLA4OyXLTcNFlXj9fwfC6/tgUTijSlGb4ycs8mt6FLNoitPollgdnGlAiiygY/AqjEwehxaBWEJK+OAuPv+Xh3ok0DNagUCrIUK4p2+/9xp3Lx9i8ZRvbt82jQcXcKL9VEY7ViNbZk5QtZ3DxWSxHZ+cmmUZJaLYCbLn7B3/d38uS0VWp2mYQE8/9xbPLk2hU0unLXUXxIHPKW2k5+jAPH19kZrlQ/KxGmTbYakbv4k2ajtO5ffMk03OEohWn+CTa+Xw4YzWoccpRl4nHHvHmci9qR7pg1hpxSpWF/GWX8eulgxw5eI17JxdTp1wO1FahL2unVvjfM/LvkZRoiN4mTvoFaTFoCadOb6Vlkxp0m7OBi4cPsXFUJOmTGTHHvUpLXM4GDPYnYsL2P4okRUNEyqcCi3sMQ6bf4MbVC+zfs4v9azdx9dlFDnepSV6dE1qxYZwFoZIBg0EI8Tp+UwrXiU7tRMqsRVh+9g0v98+haYifRJEQVrgSS2/9xsNnd9k2+2fa5cxI8iqtGXbhAVdGtCGvYAmUsiMs9jELX6LjAULBCKl18SF5m3kcePGCE4vykzFYgzVOv1VkJwR+3MhLWRsmIwaDyMSwSkGlhH18DGaTXiJnajdlPy+fXWNh5QJ46iwYRN9CZFnjSXD4KLbGvuXKjqFkTW3A4PzeVSOyEOT5FqRbidv/GFzFOuk1aPI0ZvDJVzy/NohmxQ0SKZfwhTo7JydTVGFKlChBiYK9WbJzJ7tXdCdVMh+MJpkLSfDhx+0xR4ODIuhrsYiMilxU63qSB3/cZFLXQjhbFCjUOag78iL3n86hf4wvPpZyDF3+kAfn2lK9iA1nszuuUixCJhqT59vxh53YY0LqMTBzQaaevs2bk0vpE+iHi04E86x4+geTPkdeChYpQP7cjRgy81ce3z9Fy6oFUEmGXtBYWKQMMzHfUmA+iX6Sgs0mMrhEsPtn9jx6w/kNfUiXUoeTWkmaqKLsv/+Cg3Nb4W2QXSeZq//IzVd3WdgvHwqV0U5jIQRmDJKcnhB2cbRvi9GAxcWdumNX8eCPG2ypXJgIrUUSXBHfi/F4pMzEL2dfcnvPWMIMRokoLe7vxf52FtxUYr4/QwFOYko16dHrajJg5UNePN5Oiwop0JvVmMw23JoNZc6WX9kzpSG1Ymaw6+gF9m+ZQquUfngIwrRPGHmxF5zFAclgwCgSUz7jvvtSfBMjL90EkgalgshGgzj752t2NIkmpThNqhQ4NZnETuBWh3KkEJ9pfGm/8gL8fZzBOVLjqTVIPA6uoWGEpwkndYogKT3tkzeC+I3gOBdtBuen7sYn/HlxAi2jxKYzYbW5YNQ6Y7b4kDx5CsLSpCNti0lsvHGcVXWKkkqhwSii8f4hpAxPQ3h4SgI9427KJPqLDxEg0mtIn7cEqy/e4M7GX2hr1UtvFTrxap+pDK3O/A5HltDVS/bfJS/fmzOvHzCjW2nUCq208AGBwUSkCSc8pZckoOFIZoC48QXLXdquSzgee4+jC9oT5CH7QyXfszCigrvDLYxcUy/w5v5Gfiovvrenl4obwNMHv7A0pAlPTYpAXzySYjVMAjaTHjdPH3rO2sDdG+dYXCgLgWL+JX1NK0ZtIOEZJ7L77H1ObR5JMh+rdF16u8aqyH7w8PQidZo0hKdOTpDfp2mGBcSaiIeRpUR7Rh19yO0LS6hRUDxQBRuqOKkLgY34vlofOq26w193lpE9IkDKVxZpcG4hodIeCw8NwdeRG8xVZt3U6YrRqNMxbt+4wNB2Zd73k742fdZd4e7NUxw/vo/9By9w59Ef/PH6Khd+XUbfPJllfQJbIMlDw0kTHk6KAA/cHBHQkBgRtYTlLc3047d5cG4+PUtoJZZDpRCNdhMGRZYBjENky2k84wFjOhSTdYQFuVZQMMkjxP5OgYckoPHp/S2JhmiTkyHHdA5evs/h1YPxcxP7WINKqSEgcyHmnn/B6WXdMAn6aGHkK/3A1eePmNezqJTK7Cw0FQLCSCPu6eQB+Lh/WjdA6tvZgJtPAM2nbOTGo+tsHJCFENGHkz0d12rC6OxB1gFbePjsAjNaBGNyFpxAcfNmw9nLC59wsb9TERzki9mBMYu1NhuET78Zw+fe4Ob1bVQtmlYam0hLNRprMuHIS/6+v4h8qQ2SII1f5EKuvP2Lc9PTEOQlmFn/wciL6/LwxDtlOBHh4YQG++Pp4H33NfgGRl6ccvwIjchLgfz56PDzKp4KLYtJ/WiULxeZ/d0x1ujKooe/8WpHd1pVyUvuvP1Zf+oBV47OJzI8RNJxNAvRkG4buPHqDU9PzCIywEcSDfmnCRDFWV4ByYjMW5B89bsx9rwg697KtE75yJszAyl9LPikSEPuIkUpki+KHC1GMnfPJY5OrEL+1KKYS3Ck69EV7s/isy95++Ys0/JmJljzCdEQmzNGs5WwIjU4IsL6Ly6xvGwpShQpSonSJcidNRlOygjylF/PzRtP2T6vD7nztWDMtGvcv9SDOkU1OOnEm48TRTsO59TLN7w+05PK+c0otf/8WielY7m6k33ITh6JNI7ryyTJuUJFSlKqREGyh9lw9/IhU+6CFKrShM67nsPf51k7uAiF8+cgXTLBiKfBKXkR6sy8yqs3zzk2rA2FRWwhif4S9q33S8XQDb9KGSTXenekQd78FC4ZTXThbHi6e5M270KuvBGaAAepXyOGgoWLUiq6CLkz2UVDdFpCsuZh5tVXvHl6gJk/+qMTSlWfuPmtWiWe5bqw4J7UM5MHNCFPviKUKFmawpEh+LoFkT5HUUqVLkV0yRJEl1rAwfOn2D49Cyn8BT2xBZOrD8FNlnHx1Vuen1tJJy8PXD4RJ3C2qjG7FqHNTw+kMe9bOYr8+QtSvERJShVOT6oULrh6+uDrG0BgkA8ertUZu+F3fr/diVrFLFhNbpJrwWwqxZj1V3n99iWHx2Ultb8g7Urc33s4Y9JZSZmlJmvlhWbzTyUoWqwoxUtHUzhbBAEWD4JCoyhWujSlixYgX7MBTD95l1sH2lIlvxaViAeIupXSvZh+/hVvXhylZamcGFW6fxyzUDSzWr3IVnwNd0XXT3ZRs4rYY8UoFV2IqAgDOt/U5Byxk/OPTrKiVz7yVW3LgD03uX9wME3y6dAajaicUlGx+WJuv37DkwO9qZvbCeUnSOkkamVjGJ0Xn5bm+8nW9jSslJ9CJaKJLpaHdB5uWMxWAotUYd+jv7i1tQ++7uKEH+++MWpRheaizKLbvH7ziI0/t8FTHEKS6C8+nC1q3ALbMnO76PkZ4we1JXfegpQoWZJiufzxcitLvxk3+OPZSZrVr0q+IkUos+xX7t49wIL2wfi4m6SU2Y8aebMOlX92So46xYs3r7k0uz/llZr/DtEQrSYdpeqMY8327WzbupXNmzazZes2tm1fwqCSuQhSKcnRsAdzN4nPtrN9+3a2LhpC+lRBaA0iSGRFo1ChMwxkjxDQeL2bRsF+2EQOfRLXEgezUBnKmp++C7azfds2tm7ZzKbNW9i6bTvrJjenZJiG0KJ1mbhW7nP79s38ElOUjE5OaIVbRuQ464VsW3r6Lb8mEt/Y4YhoiGBx9AomdYsJrN22jS2bN7FZ9Cv1sZbhXauj16tQO6UhT8mJrLePedui9lQvINLqbLjGiYYU/YFxwnD9torGZYI/KRoi5S+7edBmzCK2bN3CZtH3lq3y+NbNpGdZC77JU9F68jq2b9/Gti2bpWvbsm07mxcMoHEBA0aDOP1ZyFtlmvRAfj6nP5U/GSMQmplGDIWaM2TxZmmupXXetk3qe/OcPqQODaZCr2ls2G6/rs1b5OvavIiRrWXREIs4kXmGknO1pOHEtnEFHRMN0WgoWrcti7dtleZbXme573k985DGOyeNByxmi32upc/7R5DMV4vR7CLJ1ZlElohzZdYI6bK3pxjnkGiIhpRRJRi8ZBtbt25mk31vS3t4XhMq5lGh1MTpxupQO2WnbrfFLJ4aTY7UTmgk37ROOn1HjdwqPZifr3dMNMSoDyYiy1CW2PdY3N4W+3hO91pk1gSQo/QQlsUb86px9SgeLsS0Rb2EGxbJlVKW3rPEjfWCmdUL4ycC44n6ew9RcyAeXHWGzmdzwrXcNJshzWw467UogyOIHL70Xd8b5/akTk6VNGY3N1k0xK14Q5YKoaVHE2hX2gHREJuYy7r0m7zevsfE/rbP97LRNAzwxtnVm5BeM1m3dhZ9Y9ykQs13p3ipQEuIhviRregWhKbWnZWDiVRqPsnbLtY6R432zNq4lS3ClmzazDb7HlsxOhcZUqhQqcW1rWWbtA7b2b51GT/VDcTbVfDLy+0kaeTfiYboSZtvMNeBP7dPpcn/k6IhD4VoSB75FUZioXSzu2sM6LRatBoNaqEEpRGqTOK0IvtiLQa9VOYrov9arQaNVifltMqFFS7kqtySPgO2cvP+dWaMaIW7eGJ/Kn/e7q4Rp0OpTdGvWrStlV7PLaIKTQRopO/l3+gE2X/chhD+2bzlqdW+A9svXeLaxpm0ShWMpwP+WlF552zS2/tUS33Kfegkf6+cXSD8e9p34xaqUMLgiM+NhpREFaxDm6kbOH7nJPvmFCBr2Hu3xqcgsmqkeVbHzakWrU6WlBNzatLr5D419uvTiO+NmA0mjCkzkKluG6YtXcO9ayeYXrkQqRzMbXa1mtBr49Y4bsxatHqhc2nDIqphE16XmBOTcD14EhRSggaDxjL9VCz3jv9Iw2idNCefMvJykF34iOONx96+XsQzhM/bKI85bq21ent+vIg/CG3NMvXpOXgQFx7EcmhUF6LdRFXwJ4Ky0h6zSFWOcr/xxqUXxU4fpipKVblCQF4rRCzEZ2LcBajSsAtd993gxsXljGuYHD9x6vtE7r7k03Y2fGTMZpyl7Bv7fRc3Zp3sMhB/L7jVw/OVoGG7mez8NZb9O6aQLX1yNA6lLAvXRRJ7TKt//3ASvn6phP/9d0azcIsI5bRUROZoQLtZq9l27wKHfi5LzhQ69A6lsopEjiT2mNij9n1iMwp7IhTmPrQRIljrkzwlpRsPZcrcs8TeOkirWoVRGxwYs4iRiWSG+PeMvW+d5MaR4xQ6Mc9x1yTRu8jfiT0q4k3CNuo8Qz4UDRHCL0FhpKrRivEz5xF77yLLGpcjo7gnE17HN4bDRl7wM0dVbMRV4Vs/uYEx40bRu0YJ0r4zDrIwdULEbyOp7+JEQ4o17834iaMY2KairChkcVw0RCL6T4SP9Pvu74SrxoixeF06jJnEqOEdKePvibOdPjlRH0kiYZ8J+0j4m7jPxIMnnEIx3Rk3fjTD20USHiR8y5+R25ywTzv++Xs5F1iXOhsFe01g3Jjh/FA8O0GfIxqScD4TjS3h53ZIgUcvkqWqSe/xExg3uDkVcwte7cTt/xMStSu1/ZG+4z4XN5mbBz51f2TUzxP4qXMtcuhEteZn5O0n7FNCEr+TEPed+K84mZam6Y9jmThyKK1LeOJi0cu0A4n+Likk7PMTY453TaJgKX2JGvQZP45RQ1uTNoWv5Ct3mFYjYZ+J+k74m7jPTeh1aclbsi+Txo1hSPMCpPf7HNGQhO2+x/vfJPy3DGFM/ULT0aD/z4wf2586pSOlOILDoiEf22Px1zrhd3F9W80Sn3yjXqOYPm8xV9/Cnb3jZBerkJ9MloasnUYxYdxoulQuSOhn3ndfCoeNvEiZC06VlipNW9Ohczf69OlOi9L5SGVXhkr4+8+FKBeWgkdOGilT4j89cAmSaIhGTsEU7op/VTTEglFnF1X4vxANsXNe/5uaAHK2hRw4lEVD/qUxS7BhixOmEam9SRiI/wze1xbI8/1t+HQcQVxtgTzfTlI2h8MG/qtg398G+z39fyAaIqUQKxSoNEI05N8Ys10ZysefKq2606tnDzq2aUHN8vnePQhEdpjZvg9EooKUbJJEO98aDhv5D3LS7Yiv8Zrw99/xHd/xHf//gl00JM6QCxupjmMG+L+Dw0b+O77jO77jO/778N3If8d3fMd3/A/DYSMvuWssZjRKJUo7kuLU/o7v+I7v+P8nhLtG5uCPs5HfguP+a+GwkRcG3j8kJYXKxlCtZl0aN6pHTN4sJHvHHR3HYSMHW9RSipf9ASDxzes/FLhVi/S2rw3GiL8X6ZuCxCmubSeJ1TIu2CIFn4z6DwTIlcZv8XCyCzpo7MElKYCqRmeK167oQ5Tiq+Xv41/XV8Nm+MD3J8jK5AwAMSciwKn7YMyyav036FsKVms/iM2odO+DiTZRaBXvO4Uo9vhoFsrnIEGwWoJSLllPOC5T3PUp0X0DYRppD5mMH8ynSm+07yFxXSKtNN4+kOCERipb/5p9Ju8xywdjVqO1i4a8+42rBZMh3m++loXSDmGwRFZd/LUU9SNiPkSQUeTBfzhmAZFS+PV9v19DGUqNoPGV25XSl/UiFz5ev5+qbXEQYmwiJft9205ozR+KhujV8ddDhV6quXGRKr49vHwoUrkeDRvUp3rl8hTNmymJzKB/Fw4bebHYOcvX5/yfcO/ifhYtnseYphXJpNVjkoy4KCkPIkOuerRs2ZjymcLxlx4AwtCpUYRkpVjdjvzYvTe9u7anYSlPXF3sUfck+nMEwsAbNB74hRSjYccf6d27G1061Sd3ppRSRF96+9A44ReWmUo/dKZb79506dCayqFBeIkN+xU3oKuzGYOHC+7R9enYqxc9uv9Im3rR5EyhQG0XLHEWRUdmH0KjG9GyZQMK50qHyfS1DIE2u2hIOkrUbkOPnj3o2aMtDSrklkVDRCm80Q1X91xUa92F3r27061rM8rkTy/PSaL2PhOi0CRTISq1+5HuYj7btSAmhwtWFz1GmxseearR6see9OrVi549utOqZnHSCtWqryzfFvnnWid/0kZVo22X7vTu3YUOLWMI8fNEpRU8KbIhtwnBiVR5qdiwJS2aVSN/gC/un6hq/UcIA69VEZgsNbXayvPZpVMzymcKw9dJg1UYWFMEUYXq0bpjZ37s3ZtePXvSs+cPVE4fhq84UCRs00EIYRqDmxteeWvQtmtvenf/kS5NoskdoUApZSaJe0uLUuFJinR16dClN7179aTHD0WJSiv4YhK36ShEhoqbyUjBai2kPdajeweaVi5MuMgKMRnxTx5GnfZinD3p2asXvXv8SJe2LWnRsBT5s4gU6MRtOgqxhqqwvFRs1pXuPXrRq0NrahSxYLKYsFicsbgYMWYuQ+MOou+e9OjeniYxBQlXG77OmIq1VilIk6MILbt0o3fvH+nQthYFfD1x1xmkPaRXKchaohptunWnR6+etGtcniwmEy5mCxaLGe+AYNqPmceajVu5/dvfXN85+r9QNOThPYk2QDzFxGlGFEO5mZQoIjJTqNNSdkuaCX9woF2Vd6IhGkVmig84xPWX21i/dCxjd9/n/u0ZDKjtjbeL8ZNFIR+DxajGO7Q4wxdd5+bVjYwdu4bdx37n3IFpFMwSgkEY2RQZaLjqEC+OH2Ht2LHsuXSLV5sX0TksGe5aE5YvOnFYMes9CMjWnYnX7nHl5/HMWbqGu78/4MioCkQpLRj0KryDw6g6bD6b74m6u9+ZN6yBdBJL3J7jEBvG2cWD0q3Xc+P+BebNnM2MOQ948eg4nRsUwGrS4uKTjh9GneLu/YOMG7uI1Ztec//yWqoUTSudfBO26ShskmhIYequu8CVLRtYNGYsB+6+4PGJkbRM5omL3opbyVYMnDCVyZMmMmPOfO7cu8SKVpVwd7F9lWiI2aAkZd7ObDp+j6N7FjJ27AGu3nnBqtkdSRXsgdFkkbhedIoIosce445UFH+WiVkj8NXqvzzN12TAKXlGmi7YyJWr+xg7dhG7T7zk1YHF1MkWhkI6Qddl+LLn/HF6D2vGjmPC1KlMnTqEZtnTEiDukYRtOgSxx9wIyNqen8/eJXb3WMYuXceO3+5xdlkM+VKJwjYjKr8UpK02n+27z3Bu7xjGjJvCpEExFMmqQ+dgYV0iOFsxubiTvFlfzt2/waxfZjN7wWXePL/M/IalUOt1BIRF0GGEGOdUpk6awOg5K9kgOBD+2sTERiJVNIl2PwlxgBGiIVHUnHOOW9fWsnjWBCbdeMHjKyPpVNYTFyH041mLLpvOc+3MdKZM/IV5S27w8uEZfqkS9dV88k6RpZlx7AwH961i7NjNXHr0kitz+5M5yBulXkGmsnXZdeMJ15YvYtbEydx+coPdPRri6e6KSZzobc7SG5/RJzljDt7l/H+zaMh7WgMDWkVmSvfdzPZdM1k4YQHnnj9mp52FUm1QkansJM48+IOTA/KQXLhsfHMy5ehjnu3tSWQqV6liLGF/jkAUPgRGZKFWi6aUzOYlETLlqzGN33jFzD7lUCi8ydlhNRd5zKKG+SUOcnP5Hmx/Azem1iKPlxOaLzpxWLFYfEkWWpNW9cuTVby2eaaiwdZncHs7IzIpUXilpcqYVezZM5+Bo8Zx59lzpverJdUBJG7PcYgULRc3dwrWakyjSpEyIZq1DFtuv+XpkfF4uVpx8w+hfJPmVCucQnoYp8zelVt//8XBuW1QacVpJ3G7jsGC2VKI6vWaUDnYXeJWD+m4mEt//cnJttkIc9FKlaHvXrHNzow68JCHZxfh4+lABfM/QLAShhcoRbNm1UgXLMihvGgz8ZhkyBuUySK9pVi0TkRWm8z5h0/YfuwKj2/sYnTWNPiIVN8k2nQIomAudTbyN21FmZzJpHFlrz6WWGDLwAYSx7hCUZOhyy9zrFMlMsVzIai/SktYuCG9SZ6qIk2bVyFfkHDDpCJ//7vw5x4mNVFKbrHQUi1Ydf0826emw8/83sWgMbvh9kUHGHuFsLsX/pWa0rh6Aakfg3tR5l99y/OzCynmKms5xHdfKZJnp/+Bp/y6cQiZAtSYv1T2UJDnWSOJqducmgXdpD2miPqFY0/g+oIIAn1dCKq7k4dPTzItvdy3xask2+695dc1nWQj/xlMsh9ArHWuMlRvXo8MIbLQT90xe/mNWAaVzIpNUYwJB17y/HIPyvvKfReYsJcHz4/TMUUIbgazdNpPktbgv9vImzGZ05AzV1nyBVspWLM3p/9+845qWKF2ouqYlbx4c55W+TKhVjihUyhoPG0Xj29sJ1+WlFJJfML+HIHkErELeGt0ZqkAInf1Ftz9C37pVx6FIh9dRt/jzdXRVM0pWDILUq3fXq6+grfHGlImUviTE7frCN6JhigFFYEQDUlP7l+u8MezbYypqUbjEUqGYuXJktxGuuhG3Pn9N2Z8AyMvw4ZBCCyr9BL1rqe/DwvOPOPu4Rn4erlLN6BWKcS9jeiUCsJzF+TYM9g770fJN//lRl64CEQswEkSDTGZjKhqTeHA01ecnZqNVH520i2bKO234Ze8BSvP3eDw3Dy4u4tX1i+8+d4V9ugkkRaDUS52aTByKX/9dov65XJIN5wmb1MWXH3C3S0tKDl1DaduHOHnbF9p5IWRtpgwKJ3Q6IUKmoL0lX/g8B9wcWAT8kpGrhbDVtzg174NKCiMu9WCxSwoD77WRSX2mBalJD4vi4YULnOKV+xgSjsRA4igRsv1XH12io1Lp7B8teCO2siMOmXJrlSiS6JNx2HDWYjUq7SYDGo8gpMx9MgjXp9eRnvxViZiHdLvjKgVIeSvtJQ7T/Yyqk4gCicRJ0nY3udAiJPLoiFGgwWbbhjbrr3m8vq0BPta8Mk/lsP3HnJxUh/K+AUSMXgedx6cY3mXNFi+5iQv1too+IeEMI1Jcs2UHriYe3/dZ2V0NoIUfVlz/jVn52QgubcoaLJiTDuJA3dusKt1KgJcBVX5/6SRtwfE7IGQhKIhOoMGtyqD2BT7kkOzqpIzlQ3Xin1YeuE5f9zdSq5MoV9s5OMgB0CVKLKWos2BW/xxZTbtSooncVk6jbnJtb2zWTxxNOv3X+bK1l7sPrqKOxeWUrNoME5qBzgt/gE2ZxMapTsR+Uew/+lLji/vR4i3URJZNtlPtQVqtefOb2+/oZGXIWh/Ne7+pB6+hrtPL7KhbxY8XO2C3YLWVKdGkSIrZVac5u397YypH4DO+AmuFocghMJ1mJ0rMmjTTV7G7qRSgVDJCJtcPfHrOoX1ew5w6Ggs965tYUBWNzzEqfZLb754kKoGNWpUMR1YcOsRz7e1o0g6EwqVgYbT93L77GoqZbeh6LWQ0/eOMj5DCtyUn2AVdQAi/mMVwjhhxWmzLpbXj+bSu6o7ZrUaJ0UVek2+zJOr5zm5ezd7jh5hzcjS5A7VfbnsYDzIugUKUkdVZN3F34hdP4IangoUKUrRcMlD3vx2nwVj+1O4cCH6TFnOs0d3WVO3BGlUcqA0YXufA5tVj8YaQLquy7n5/Aa7JmYimXAZ2l2sRq0a/3TlmXfoGQeXd8LHqvhiEaCEEMbS6urJj7NO8yT2JBMKJ8fbZMSsCSJn6erMO3uX6ydOceb6WRYXy0k68QbxFS7BdxD8Q4KXpuAPzDn3jOen21Ehk3jwhDBk1VmeXVxOocjUePoE0m/aKZ68fcT2AaEEeAjR+P9JI/8eSYmGGGzOaM0uxAyax5lrZzlz4jB7Dqxm9bH73Ds8llwZ/NBJTJTCJ6aXyZYksqvE15AY9uwVnRpVhrK02vKYJ09WMKCeGbOdfa/t4Kv8+eYZdw/2pU3dlAS6FaT7jAvcv9Sdynl0qHQ2iXTLIJGY6TFJXDoJ+0kagv1Oq3IifcGKbL31O4/Wj6emlztq0/uNpnVSkL9muySNfFwVsTzmz8k2smEz6VB7JiNDr/VceP2Y3VMzE+orOOrtr9uCriFZTsrNPM/j18eZ+aM37laD3dCKrA2rZJQlsiu7WyFxP0nDqNfg4uVL32WneXP/NFOKZcNda8YogquCsz0sPVmzZiZDrnwUmH6AS3tXMzSFBy6Sco8g/HJ+N98iCyRh+0lD0DEIAQo9ppKdmXL5N5782pVqedTolUo8O07l9Nv7HOhQm5wpU5Fm4nauPPqV+RWKkyVQuLhk/hEhtiLNt4OEbO+yV4wa1JritBh0madvzjG4eS4MRpVkVJydfQgISk26TFnIliktYZ3nsO3hYy7PiSZ7MpFxJdoRZf5x8+3og1bOYtELJaZ8FVl07Qkv902jnZsbFqUSRXhZWux8xLO1o6grBEzEW0XWuoy4+YpHozpQRrxV2N9EZBI/vXQCd3iPOetRq0LIlHc+Z1685NCiDiT3N2CMc7vZxHhCiW5wiBe/72NiEwsKtfM795T0YBTiNnFkbp8hiiMYZm3egbSes5dnv51jebHspNAYMZjc8E3TnkV7j3No6RjylyjF+C1nuXpsMzN7BOFrP8lLBz+9TCImBEscG3NchqAJq3MLft72nCe3V1G9cAhaoxazVYdPQE+W7LnGqZPHObx3NzvXbuLa45PMyRKKryA//Ed3jT0jz06kpxNEiJ9x330pvoGRl9MYhaan2GRZGwzk7J+v2N6ouOyvFOlHzjr0ep0kWCH+JiJLFPP2XWDH3BKkDdFiFIpFwjhkzEJUrihyZEqNVTAEfuKpLCbMZHHGGFWTDptvcvv6FjpWTSdvdpUIiGWgbr9D/M1NJrXLIfsQ1Y2ZtvdP7qyvR5FkItXTGedk4WTMmYuoqMyE+Xji5kAmiMg+sBq05CxTne03Yrk8Zyh17CmiguUvLrVTmpMKzbj121smd6so/VvedK6S/zBFaDi5ckURlSmAAG+xuT696MJIagPSkmvwJi7evcamCfWwGWVfrODIF75vfdoi1Jx3mgexRxnfvqDdd6qVs5mEWLJPACGZo8gVlZOMoSF4v3v9/mc4G7T4Bqdk+Mr93D1zgEkZU+Am2lZq5fX6IL1ST5roLdz7/QqL63jJp3CrM94+vmSPykVUjvSkTmaXDEyir/gQa613dsejcn9mnn3EpcOTKZbZ3d6PkpqDZ3Po7GmO7d/Pwf0HOHTnCa9/f8W9U0dZOjCMEF9hnNxwD89MzlxR5MwSQbC4wT7Rt7S3DVZM5hg6DTzHrSuH6VArr9yvkwGz1RU3q/6DdEK1RwdWn4W7y6uTO9AJrdjfthSkzZxTnu+UXni4fppDX5CbWax6Mpaqw9IL97l9YBQtcsl9OAmKbGVWav94jFcPFtIujyyY4pSjEb/EvubKT63JLcVrrFhDU5MuVy6icmbEx88LswOnSkmMRxNBnuJL+fX2LTZM72hP5VRJ0n7ClaRXGQjMUIu1d19xY2V7iuo0mN6NyRmr1ZfgFFmlezoyQwoCPa2SkE/CvhLCZtXhnSw1XRcf4E7scea3S46HPZVT6elP2MJL/PbqPLMjLNJnluTFWBj7N3+cmkF5q4iXWbD4+BIQKe7pSNKkCsbo/P7h8zGItTZq3fHy7cK0tXe4cGYphbIGy/OqFm+iruhVevQGi9SWW3geSkzcxeVf59ExuT9uRpm2+qNGXhh4T18CMuYgd1QUWdKkwNfB++5r8A2MvGAXDCJttjJUqVKZAfO28UpwOM8fS5fKZSkYkQxPUwS5ilWjVq1aVKtShWW793No82QypgpELyhAxc3v4oFf562IRJQ/Li0mf6AP1k+IhojXZ9espeh/RmRS/MXhFUOpUKk6des1oHb5KFJ7KEhdtDqLLsby9tpiRrapTJ+FO7lx8QDjC2cjWC1obvVoCwxkxZW/gBvMy5+VZBrdP3NP25wxWFwIL9eCi6Lr11dZW7MmNWrVpm6D2kQXyIDJJIRUyslzMnmRlOtxZN0UKlcpS64sqTGZLNKbT8HOozkrkm+uDaF6IRtOmn8OQksPF1d3Ck04jtAr4fZaWjapT/WadalfO4ZCaQzYkqWn4aaXUp+xB6ZSrXpN6tSpT72qxciZyoJFyCUGF6XeLJGD8jcXxnSkuMgpT6K/hH3rQjIzYb+cu3JrcC/axlSmRr361KtcFF9fb1xylaJ6vfrUrVOLxq3aseHCLX6dPYgqHoI4yhmjTkNQtrzMEE38cZqFfZJLNK6fMngWjROBVfuyQWwubjFzREfKx9SgXr0GVCmSimRClccsbhhxsnbGbewu7v5xhdlR6fHTG7CINz4hGtJoFdf/hr9ubJLExT8lGmI1q3D2jqbHL0IJBQ6vm0SFCpWpW7ce9avkJGMyE6bQbOSvVp/69etTo2oV5m7bx8nTO+mRO4OkCiVUi8ymEozfas/5mZad8ACZYjlhf+8hDI6NVJHN2S0t9C12TKhK1Rp1qNugHpULRUqKXOny12X3pVfs2TCFypUrM2bRKq5ePkidMpGoNXpchC5tib7MufK3JB7TuVxuLOKBnKi/95BEQ5y9yVdlp3Qv8+wATRrWo0bN2tSvW4kSUYKwUIuLRw7aj3gCb7YzKkaJWh//cGREpQglptVSiUP/99MDaZRfIYnlJOwvYd9mYyb6bbgpzdWL3T1o27gK1aT9W4JMfv4k7zWLiy+ecWFxI+rWaMgPnTdz69ktZgxtLr1di1oNZYrclFv4UAgHsOeXzvirtJ9MZRVr7ZOqGytOiJ5fMnVkD8rHVKVevfrUKJWSIB8T4XmiqVqrJtVr1qLerD2c3raeifWD8I5HHf1RI2/RovLNTvSo8/wpbOTiYVR20nxSrOdr8Q2MvAmdJg3Fqg1lwapVLF+6mPnz5rFg6TJWrJpJzyKZ8NMUoWnvuaxatUrCopFNCQ10RaMT/nBxchWiIUo0ql5sF4IOL3dS1wHREKNeR5rseRk6awHz581n4eKlrFy5Uupj4cgGlMqgReWkIDR/RQbMXMrylatYsWwKHXOnx1dI/7m62UVDktNj4QVB4882h0VDggirP5RZC+Yzb/4CFq9YwUppfAvo16Y0Gk1KogqPYLGYk2VLpTlZtGQZq1b9QsNK+dDpNLJoSIEWjLwl9uIyGpUOlJTuE/UXD7JoiDvN+v/MvPnzmL9gMcuXr5DnduEEOpS0EpQijG4TFsrrsHAJK1bIc7JsWnfq5DFiMoi3Lh1RFcYiboNns/sR46BoiDFfQ7pNmv9ujZfb13TFxK4kTx6ES6MBzFwufybWYt6odhSTqKOFG0wE84QsYQoyLxEiFk/YOiYvGv2nZQ+Fe6dglUZMXjifefMWsGTpcvt8r2JK57ykCxBFOCIzQw56OtfozE8TB9EwNAh3KevBGZN4izKWYJmwtW9OMMZH0P7+s2iIWa8jRWQhuk9dyPz581i4aMm7PbZicl3KZG9zB7gAACOQSURBVNagyVmN1jPka5Hmee4gcmYIQaHSY5P2t8wEmX7oBoQ+zLO1uUnniGiIIZjwDL2YIsY8fwGLlqxg5UrRx1ImdahFTr3Y30FkLtCFqUuWS30vXzKemCIZpaIkV+HWkdyWJeg+TdxYz5hWrTA+nxQNseLm6U3V3uOZt2A+8+cvfL/Hlk6kd31Z4St5umwMmb+QnzvUJFIteNHj3rxlF5cIjpsK12b2C+DBeNqWclA0xFKdzkNms2DePOYvWsbyFfY9NmswNf298DA7U7breOYvlddh5Yr5jOhcRXLBibW0WcUbtDeZ863jD/F4XDGQLMp/HrOAWacle+WmjJm7gHnz5rNk6bJ3e2z2wEjShGjI32wQc+3Xs3LxWNr4e2FTf+j6S9LIS6IhBpwUKsKjunNZPPi2TaHR/3OiIRWEaMg9pnaUX1dlFkqRqiWyKUQA6v0ra9xrtNYkqsVM6ONXhqq0kktB+MlkPnlXCjfqwfjJB7h79zzDe9TF5u76yZQ7yeVhMaOOV0kbB8GbbZIEHeSK1/cuBCc0ki9MTpkyFK1Nq8FDOHTzMmfnj6JuMn/cTXIqVML+Puhb+GITVt3Fta+Lc9ckPSd6ow6jIZyCZdoycMkezt/ew7rx2YiQbvxPu2sEPqy6s8NJJfl/JXdO/EpFO5yUIsXRiD51VqLaDWTZlm3EntnN6OI5SO5QPre9cjmJtsWaSqlres2HqXVSxau4+WU++ZCUleg4eS4rzt/i2u4mVM6vweSgaIjgR/+gbTtUQqAjIX2vuA4xH+J1WBIN8cCrRntGT53E9fvX2dazKQWkKsV/ds3FZXAlPWY7RbQQ7vjgexUmidbX7nIxlaRRx+EMPxHLtRPT6F9VKAkJH3Xi/j7sW2SxJKggluCEKo4B1lWIosffZ0r0BiFaI+ZLT/rileg8ZAVHLt9mw4qfSJMqUNr/CftKDJskIJ5ozE4qNHr7vIiqVydxr+kwi73x7m8Fn3wEeQt2YvCqney7fYzNQwqSMUgvvQEn7utDiAwukV2TqG/7XhIFT/o4anI7BNujWEchLOMXGk6Nrr+wZO0lrl/YSs2yUaiEkE8SfX3Yr7AVug8qbd+1r5FjZuYP9rcSjRRnimtDZqEUa6H3TsaYg7Hv8+SFkHpIGtK17MO8lauJvX6M6aK4zCD78RNey7eEw0ZeEg2p0ICLf8Pd87uZM28mIxqVI6N4HU3i945CrlBzI3+tNvQb0IP2dYqi1xswf45oyJfCYsKUvxKNew+kR9eGFPR0wWK/eRL99ptCBOFCyR3dir59e/JjvfQk9xHpnI4GXr8C4sEWmpFcbfrTp9eP1M6dDh+FEsMX53M7CvHQ8yQoZQXa9OtHn47VKZr5Uye7bwS7MpR3pZb07N+fLo3KkkGjw/Av+EPlmooi1GzZh4HdO1Mrj6skei8dQBL99ttC1BakKVCedv360KNzLVIGeKDUfIZoyBfDjMGQmhwF2zOoT086Vc9OmJcC1eeIhnwhZGWocKp26E/f3u0oX0DE6DT/wphl6hdR8dpm+EyWr9nArd/g5q4x70RDhDJUhqa96NenJ41LREpiPf/5++4zjLwYQEDyMIpXrk7dBk1o1aoZ1QtmJ4UDUnmOwBB30v/XRUPiAoVOaP9V0RArRv3/oWhIXCDrX9QEiBMNkU9C/weiIdq4+Vb/y6Ih73mGlPF4fhL/9tviXW2Bfb6T5Pn5j8CekfRONEQvJV38K2ttFw0RWW2i72/G2eQAJO4ab19K1mxGi+bNqFerKqUKZftQNCTuDUWj/39UNES4RpROODnJUL8jaUr8++/4ju/4jv9/QXbX6NTxbOR/Ewvld3zHd3zHd/z34buR/47v+I7v+B+Gw0Y+rjrzQ41XwUL53V3zHd/xHd8R566Jn9n2XuNVzoQSGXfvs3a+Eff+J+CwkbeYTQSFpqFig2a0btuJ7t0707hkbsJECpAUzJPJsN4N4INgoj34FD8tykmkUdq+coD2iTN9mMqYUJxD/L9JbxcCUAkSoW8xsfYSZbsgiAxBJGV/6MUFOOOndzppMXyrAKvN8KFog1IrpyFKHOMJr0ukgH2jrArRfoI0SSdt4mCiCDbFicQotd8iyCkH8wwfiHM4vQ8mijXWylWfH0Cd+No+F1IA02T8IJVRHHDix6PklEU5Hz7uN+pvIhpildg1349JVJyKuRDrbMaYYJ3fXd83UG2Lv4YSRMDa/p3oXwQ4P/heqvaW0zcTtvXZMMYF6O2IW8d3oiEfrvWXEg1+ADFfFkPiMSVYR+MHqaVOaOxp4CKl1NPHj5hmnfmxaxd+aNGYqqVz20VDRJFXIGERdejQvSudOrSkWd2S5M1owuxAWunXwGEjL6VQVmzIFVFkeXozP08aT//a0aQT2RkWLU6B6cnfuC/DR49n/Ihh9GuembBAJ9TShhQR/qxE1+rJyNFjGT9iKH2bl8DL3R290VEujcQQGSoGtTchqSrTeehIxo8fxfCfOlEid4RkUKUbwdUsbZZUUSXo1LcvXevkJF2QeAAlbu9zIHhU9F7ueFfvyLBx4xk7ehQDO9agSBrBQijyybUog1OSvkU/ho8fz5gRP9GrcSEyBStQfYVQisQOaLVh0kdSre0Axowdy9gxg+jUoITE+SPol03+yUjVvC9jx45j3PgxjBrZh7plc6Bw0iXR3mfCokKRuzyNB41izPjxDB/cm8aFPXBxM2CyE1OJze5uMVO2WU/69ulCo7IeuLp8uoz/nyAX14SQrWgLBo4Yw/jxIxjSpzGpk/mh1BhwtljIUro2nfoOYuToMYwbN46xY8fSu0lKAn1MWL6U+lYYb42S5OGZ+GHgCMaPH8OIYT1pkCc9gQqVPVfdVaKxDsxenDaDRzJ6/HjGje1Lw6wR+BscqT9IGq7OJvSC8je6FQNHjGf86FGM6F6DEtkUOKmMGIIzkrf5AGmc8lqPZ8RPQ+jbpytNC2Qn1CAKlBK36wji1rBci97SHhszZig9mlYgs1ookNkk/hUPTz9KtxnEiPHjGT9mFCP6taFM3jAU2q9joRQ0KKr00TTsOYLRYlxD+9OqogtWZ6OUWm12NWHOXYsug8YybuwYRg9sS42CStSGr9tjLhYD+vTFqdVjJGPHjWPcuPH8NLg9ZUN88dQYpCxCZ42SjKUb0GPUaMaMG8fQPq0oJ2gUTGZMVgve/kE07Tee2YuWc/03uL1nnF00xIhRn4x02ToxYuJCNux6Cn9vZ/IP4gCWxLV8Qzhs5OWKV1EMdZepHfNITzEnrUi/M6NXJidf2zUciz3M5ok96LHmMJd+O8zmITkJ99OhVaSldL3N3HhwgyUzR9Fj5QWevrrJnD5pCfDSfPGTzGxQ45umFBPW3OLy6YX06DGLdbt+48aZhZTNE4pOL4pnslCo4lC2HDstlUn/tr8tFTMIwZPE7TkOCya9FyGRA5lz/TYn+/Zm1JTZXPv9OWen1qOIUovWKQVZ6y9g25XzbOrRgwkrtvHkr0tsaVuEDAo9xi+8CWzO4lThScyP27h15xhjh49k+OgbvHh2gSHtomUSL58gQut3YdCgfvTpPYbpC69w6+ZumlXKLolrfOmNYLMJoqvStNxyhUvLFzCxRw82XXvK84sz+DHMH0+9KEqyYrSZ8WjYh0tSOf7vnJjui4ebWSZPS6JdR2DSKQkv1oOdZ2LZtXYCPXps5Nfrb9i1qg8ZUnqhVimp/8s+Xr+5xrxpo+ndtz+DBg2iY53kBPgI2t/EbToEow6nVJG0WrmT82c20KPHz6zd84w/zmygab50KHRGjCoF2YpWYcXZ21zduIyfu/Wg98BO1MyYGj/jlxa7WDHpPAiJ7M6sS7e5vKYHPSbPY+WrJ1zf1JDoNEqUfmmJqv+jNM5BgwbTu0cXFm07JO3zFT1qS/UPX2TkhWiIqycp2o/k4t0LjBw6ilETTvHy9W1WdayKyWRA5ZOM7MNmcfH8Gdb16EGP8bNZGfuGm7sGUjyt+gvZNwUpmjCYBWi6+BI3z81h4sjeDDj7hKd3ZjKgmg+uJgsWt6YMPRjLoyvDGDhyDJNPP+H+iR7Uz2uQKZC/cH+7WIzoIwpRuX0/aU779u7FrkuXuLVyEvnCAlBrlajLNGXx9Yc8nD6Zcf36c+75U25O6UuMm6DIEJWtzpJt1HmGMPpAbDxaA+G1EO4acfp3J1vptVx/upFxzZWovkhgxXF8ppFPitZAyJ8lI0vuSlQplZZAvQKFqSaDtwI3O1E9qyjdH8Ca57/zcHA9UotXHGsoo/fcgdtTicroK73iJezPEVjNZvzC0lK6WiVyR7hJk5un6hje8Buz+lWV/p27ykB2bl3D8MlDmXP2JY+2taRMOgVqQ+L2HIczFqs3QclKU6NcQdKIMbmHUX3dY7i7g1F5Vah0IaTNHEP1wlkIEN+nLc1AwZxwaAzNwxUo/7Gk/eOQisfc3MlRJoaKRdJKbyk6S0HW33jD02OTJHEOMS9CxizulTIoc31+ffWWvdPqotY6yvCZFKxYrDkpVa4SRX1t0unV54f5nPvjT850zUYqNw1anRVXn/ZMuPiShydXcereFbaN88PzK428xWQiNEd+qlQuQaivDoXCSsvx+4GLNCibVRpnrfFbuHF0OlmSm9+/Tn+tu0YUzKVMT/bK1cmX3l9qM3PVYdwAdg1qRCqFE4rwaIbv/5Ur80ZSySZ0C+x96+PpHH82nLFYvAhKUZQqVYqRxUe0GUberrfh771MaaFCrTElcNcEUKXLLp7eWUDz4p4oNDKRVuK2PwEh3OHuiW/xKsSUyCa1bXDLw4xLr3l5bgnRehVumQoy9sbvXFneDWep71AKdrjMH89XMayC05cfokTfzhkpVq4K0dmcpT2mSD+Jww/h+uIIUgS5U3vYed48OMyoKNkF61GwIccePOfgz6W/TjTE7q6R+rSj3OCVvP39KpWLC6qIKH7YeJfn99dR3V/eYxkG7uQ+91nbJCV+Lo7wyRvRKEMpXH0TN59uYOx/h5EXr6syrYFKbcBoFv7Dqgye+ye/3W1PxUwKsnRfxJ0X52ldKDNmtZ6K3cdw8t4z/nrzK32yp8XrS0UdpJJzMxqVCp1eDgrnqdOe+3/+ybQ+1SQfYmjGjOTN4IUub12G/voXL3d8CyP/vrBHpdZINAUK30wUmn2N359u5afqOvRmQU+rRiXodAV7X5rytN37lr8ujaJJPqHRmbjNz4Hg8VZp9BLNskdICIvPviD24BRZgckiSurd8PL1xMU5LcWqLOXa3e0Mr+mOxmGa26Qg1tqITq1CYxKCDmYM9aZz+PlLjk/MRgpPBTqbPwMWXOfxqc3ElBrKlquX2TXR/6uNvBT4F/QUKg0moxmVUkGjsav4++1V6pWRDVGdSTu4e345ZfNFYBPaqB6umAXJ3dcUPsXFVtTCF26UimwyVu/E8T//5OyA+pIqWNrmozh6M5YL+zawatM2dh0+ypE1wymaI+SrtBLiBNnVKg06k/BRp6FE5V95xXYmthIHiffjEgIXqYt3Yd/lx8weVBFXvUKiekjYpuOQ9QhUap10b7snT83IY495dWo+rUw6jMEZqT7nLHdvHWPAD4VIk6Mcq04+5uySflR01aD/irWW+bBUqHVmDHoT7s4j2XXzNeeXpiEs1Iu+u+/w6Phs0tlsUgzEM3k6Zp16xNn1QyWCsi828hJs2Dy88Pb1xNUWzcCl17h9pBX5M+hRqHqw/uRTzs8rSWiQC64+3Zi8/zYv/3zFqdkRBPkYJTfw/6CRt0PchCYjGo2Oat1nEfvwOVtalSJMp6DsgEU8vnWYmsvXM2XrUa7e2M+Emfu5cOdX1ufNTIqvokaQOeXNaiXKvDXofuY+b38dR7OCFokVTwTMhJqPIk9rxp//kxffyMjHwdlqRK30JFupqZx59YJ9s7ri7WqUN5qUkaRB5ZSKCh028/jVfaZ3ryJxvTtCr/vPsGETKjY+KckydQ+Pn5xgaefUuLtYMRr0+IZl4Mf5ezh08CTnLt7hwJohhPlZHaJR/jRsMqe8Z21+3nefF1fWUSJbMDqdGynazuLX29uYkCYUd9eebLp2jZ3jXTGbNBi/6sYXsHPKa3UY6g1g9cOH3F/dkHyp9TgpdcQMWsiZm9c5ffIYhw+f5dKe2eTPEWE39Anb+jyImIBZrUKZthI9dj3l1Z3JtC9nkU591XpO4P5vb7i5pSsNotOTvuFYtsa+IXZnLXKn1aA1fI3RsVdwqhRkLF6H3bd/4/rC/lRw1WKQ5lPQJatQafLSevQ1nl2eQMPsOhSab1E1bsPZokNtTUnkoG08eHmZtcPD8LdaMNpc0AcWoXH71Vx+fJFzVy9zcMsYMgYH4Ks2OazJ8E8QyRIuPkEMXn2JZ1f3MSxbIG5WNyJ6ruHa46ss7ZGZ8CyRFBy+lfsvXnF23TAsglX0a4y8XoM6pi3DNh/m8MHzXH12lRUti5NZr0Rn6MuK4w84OWcU63Zs4eDx65xYWZ3NF65yYWMHkge4SUyo/5NGXso+MOikIGr5XtO4/udDTnauSpRSh0qlpNDAuVz663ceXtzBhOiCpHPX49l3Kb/eP8uYqPR420/yNoMWtUpsWL2DN6V8yjJoNWhz1KbH/tc8vzeHjpW06AWzYdzvRCQ+XyvGJWnkxSuafDoVp0SJz8SR7AB7BbBWpSRH+XocfPQHd+YPpIIgB7MI/5srZqMerUZHxY7DuPXyJcf7NiRSK5R2RIZAHCGSwT5mERx0NPPGhrNRg9IvgtzD9xL7Jpa1I1MR4KHDapVdOq7uHgQmDyNFkB/pC5dj3Mm7XFg0jBpanXSDujpbMYuTmkqF1vh5mRhCxMIrKCWjt13m7fUDjMgZjk1lxDm8D5tj4f6h+lQskJuS5WZw7N5dTiwvRZFc6UhuX1NR/i3PtxDQcLBfcX2CFtpowbXyIJbc/oP7h1oSndUJvZ2qWJSUBwSHkCJFCkJD6jP38H2eXFpDhtTBMqV1nNiKNN+foJN+Bzl4b9ALkYdKdB93h+cvjtClZlY0OvEAV1Cjzy88e3yaNjEZ3r3mt5iyldexm4kpkBKlVpzmxT61z7cUIHRsj4k3VXGqTV+qAevvv+bp5uE0MgkXqWzIhJ9XrdCTpeIgTvz2jIODYsjo5PQuC0aeNyN6+3xbLCLRwYG+pQC/DpUynDyl1nL9zVM2T22Kj6dREj8xJ8tIxamnuHFhBX2aRlCg1FT2/XqDc4vH0czbHW2cDzpuvrWfl9Um3lTdg1PTffWvvHp5hFlREQQK95TZjEtgKB3m7uH8mSMcPLiTTTtWsu3UHY7NrflOyFvsb4tWjFmNzvBhtt0/QhAP+gQQnDKMsBBf3BpOYM21W+yrlZtUuvbMP/KG35/Fsn16QbKm88HLvRUrzt7j5OIshPgKttX/yZO82Ig6XLy8qSUCMY/Osnt0YSJs8mZXqRQ4VRjLtt/+5sGQxrL/WogwL7rC29tzyJspAK1OPPldcc+Vn5KloymRNzNWdzcHREOsGJxdsRZuQf99d7lxbgn1isvi1YIvw+TsirPZIOf2Z6rPT7/+yfPN9SggRJEVgv/ZLqCRKgu5i5cmOjo/Gf19cPskcZU4XZlxNuopXKsFh+7e4/SozpS13+BqnUnqVyxu7R4/ceX2RXY2qygLfguGOsGIJwy8xUJ4+ixEl44mOl9ykvkZJEOfuL/4EMEpZ7QpIikxfh+37p5lfv8K79K+tHYWSrFe73y1Xulps/8pbw7OpLKgUbaasfglI1W+kpSKLkHe9Knw+wSvehysejUh4ZmYvO0Usfs2MjjES6ZMVmhxqzSABVv3snvndrbv3MO+gzd4+vYtT+/sZdPMvsSIB5/ZjI9/IIVLliK6eC6ypNa/k5L7J4ibVuvqS2CDsSy/+pCTW4eSLaUsGiF8z84ulg9TeN3D6bf9Ln/emEa2NL6SO8/Z1R2PzHkpUTqakgWyEyaJhnxijwkhCZ0LNtd6DJxwlRvnt1EvWvhnRT9CLMSJTM1GcfH5UyZ3KCjR6yo0nnRdfobfri6gXE5/ycjbnNMQKc13SfKk88XTzfkTb3NCQUsEso3krP4DG68/5Mrm7lTLYB+flPTgirNRgcFSmO7T3/D7jQm0yK1AET+dUGR+pM1EjujSRJfMQ0CQr6Ts9M8PVpmT36DJRnTVjVy5f4W5wxvZ00OFO1ZNRJ4SnP4Lzi3rjlX63J88LUXQN5aFvSJRqPVYLAGEpilAdKloiueOIIWP5ZPMmwLOVg0BEdkYtOEMd69tZ0J9D4kmWvQrlOacrap316LR6Ymu15FDl47yU0sX2chbrFj8A0lWtBSloouRLWMY+k+O2f5ANH3ok9f79WDTjT+5OKUE6d3yMGz7M/58sIkaueS9Fxi5kAvP7rKhbUr8HNJ4/a808mZUiiAqdVvDbyKs/3At0wc1olnrTnTu3JLKmYVyUEHqdjzC/d8fMXPSEFq02Mb5cztYNDwVIb56SUBDEg1puwPBMs6tVRQP9MX6CT55i1aJZ45yjL4qJRRwfMMEGjZtTadOnWlbrwiZA40EZMxH3RataTl+NUdFtsf91Uwf2pL6ZTORyt+AyaBHm2cgq66LFu6ztGA2kgs/ZBL9vYNQzRGvjdW7clv82dsbbG3RklYdOtCxc1uql8yOyuxFqV6zEHognNvN3IaNad5JzElziuZOh9FoxuCkIE+XcZwTv7k3llpF3VA4IBri7OpBmZkiiiv+bgtdO7WnTduOdG7XiHLZnPH0C6RYvXZ07tyZtj+05qeJU7hy61e6NSuNWpxoRV1BYFHqzxTs5nDj5x+JFrTQSfT3Yd9mdKnyMv3Uc+nv7o4ZSq9mLWnTuTOdmsYQ5OOKRq1Gp9OidrLik2w4x54/58RMT+kgYHIWnN0aArLlY6qgN+cyKwaFo9V/WjTErFaQsu4Q9koTGsvCif1o3OwHaYxNy6chxCM1hSq1oGOnTnTq2IFOq85y9dJmZvUMJsDHILlsTC4+BNdbLa/Z/Z309/40n7zVpMQ1sByDl8jTfXzLbBo2ai7tsU5NC5Ej1AlFaGFqrrnE3VtrmTWwJS2n7uPEtYOs6CWUxjRSfMZsKsKEHdKguTonkjSB2k9koFgxaF1JE9WZY9JfxbJvRlOat+5Ix84daFKuAGmMRlTuwZT7aR0vuce27gVIrtBiin9aNihRFO7HfOkeuU6fCnmxKf9ZQENkuFhtPhRreEQe9IujdGzfjrbtOtC5QxMq5NXhlyKSsevv8vL2MRa0aEGLAeOYc/4Bt460pWYRNTqjiJElJ6b1Ep6JNi4NpVkh8XBK3F/Cvk3GKIbvkiwBrw8MolfnlvzQvjOdWlUnn5cvPp7R1P2hA21at6bXwEGcuXqK8T1rozeKU7wNF5MGZUhuys99KrVxdE53kjkgGiIYWo1ZClGuVWc6d+5Eux9aM//wKa7uXkqXtCnxUDuRt2kf9j74k2dHhjOwVwfWXbzOubnDqOHlhatZPij9Dxp5Izp9dopVGMC4MWMYM34yU6fPZvasWcyaNYb2BbISohNPxVxUbvoTv0yfwezZUxjcIhgfN5k/XQRuhWiI1qkbW+4KbYNtVA/2w/kTRl4Y6NSZc9B91DjGjBnLxMnT7P3OYnK/GuRPriNZnor0nTyb2dOnMGncaMZMmMovM2Yzul0+MoXoMUq87P78OO9XKd1vc7GchH5KNERsRK9AUlTvwcixYxgzbgKTZsr9zpo1iS4NiqLzSUPO5kMZP2YMY3+exFT7dc2aNYqaZaLQ67Xy6SRvM34SD5hXC2kY7eeAaIizJBpSt9NAxoi2x09ixoyZcttThtCiiBXv4BTU6TdF+mz27NnMmD6B1jXySRV2ciBRZICoyFl2mCRi8XhmHyqIU1ES/b2HEA0xYcpVk9aDRN70GMZP+4UZs2dL/cwY3paUwb6YTGZsooDH7Iq3fzna9OlD2+qeuLlYZdUmsRfcUpBhwQNxImDTqBySvu2njLwQiMlbtjpDxo9hzJgJTJk2ndmz5Tkd3jIbYV6ZqdpuNDPi5nnqGDqW9cJFBAklWl+7aIg+P4tv/A0vjzHSEdEQg57kWXPzw0/j5T02aeq7fmcMr0rxSL381pS5CNUGTeWXmfJe6183giA3JTqTG64uMg9+2KC10gPmyapcpAsW2qOJ+3uP/6+9s41p6grjOC+3vX27BctbIQjiS9UIzjBkwOSDAtOKCAIiJjhgOEReCiyL21KTLTr2FsiyQKeAilSyGM1ciJk6jS5hWUhGNC7GZS6+TbeoJPuwJcuWLNl/ec69LdCC1AkNNufD79O99HhPTx/PfZ7nf/4U7BKxNPl1+Zm7DqD7sGsN9aGjoQzpoghxcQY2vNmDAx+WITeN7CwnCrQkZgu5HvbeB8yk5eD2XEQHqx7b6EB93RHRMSje04bOrk50ObrR71TWWF873qgwQlRFIjZhK+yOHhwZGMCA8yiOdNSiMJPeZCIQEWFkO2J1TgUOU6x95EBr/nRHS8uiIUkqRYP9E3R1dsLR3Yd+p7LGHHaUxM1HvHkn3u1x4tjAAJz93bBXrYGgEllhn4m0wsg0JAbPZ59mG8+7X7ThOR9MQ6hdVszZjsZP5Xmm305f737ssCRgHjszfx60QgjSy1vQ0dMPp/MYDrW3YkO4EQbdmAfFsx3kS2px47dRHH1L9gxVM1UdmYaQ+e24V+VxCGTAwQQjHorXUPkQfmqZolTNptZ2fHbyezz65Sr22kohmUj84INpiEE/qZFEUAjtHE0I02smv05ONlo9tIW7Ye89hGsPbuLygX0om2+GiRRuk4w3hqJ2ZZ6X3p9N+UdKA+mnUCOKWjW0mhRYy99B9/kruH3vLI5/sAJL4tXQ+2hsPampAjNEkX+kE00sglidg+UlqU6QnIV1+w/iwvAw7n93Fm3Zq5DgUz83vc6KE5W2bgSlF1i5lxnCyMFNVrzSD8GMRcuq0HbiS1y8dQc/nCuHNcM3nQT9292qZU9UlNYwQPRU+bqUuJSfjYyGuXYfnJ8fx68Pb+C0rQKZLC3x+EI0jRtm0E/xzGThp6hPdRo5VeNCkNOBFKwNejpDvw99P47i5nAH9myOQ/Q8Wv/e441BnxsGI4nPvMYNQrDrqNowA7RsLajk+sa4XTzNV2pRFd4/dBHX7/2Mk/1vY2FSHNTkMew1ngdkzDHFGhOY70E4jJKnoYlLjauDqF6FvPz30Pv1CC7f/Qan9mZgeZzcfeI1lgcmkwbCZCYtQaHQULwIn6iGHV8flPRaxC9biV0fncL5oTv46eogCnJSIfjyzOx7FCd+j9MqXkMgMgN7uc5G9TBaK1K8BY6Rh2OmIbQ5Y98n/U0cXiw+h/t/XICjcY4F+awt1bj+NzB6+wrOnB1Er60caT4XsCZHbm8zIaOoEraWOlQWZkKkQuw0rlAzgmSAIcOKbY2tqNtZgnRqBVWOT/a6d0ahXdpCrF67A7am3Xi1yIL4KD+dry7poVu4AmmVLWiqr8Xm1CWIChKge4LC6/+D+r6jMD9pPapsNjRWb0TmcgrEnvfNApTHjYhEjLUC9c3N2Fm6FktVar+ZhhilNSisaELrrldQkGpkYiIyAJ/d+aaAp4Ml8yVUNzeirqYACWaTn85Xp/W9BKlZ1XitsR41G1OwIII2ILO/vqlQbV5gwaaaZjQ1vIx1qy1u9bvnvTONJOkRm5AEe+8gLg19iwd//YNblz5WFK9aaNQWpGW348SZIYxc+x3//vkVHE3BcyfIk8w5LiEJmbnrsamwGOXbSmF9YSUSDdL0uS4f0KnlYkpwqCyb9rw+K7j+52ZFy1CIfjYNcVsm0nk6M3WmzXQofd96Zp9GohX/HTIn930rVozB1PXgn3FdhIuu+VaxDiPP67MF7WzVil2doHlKcdYTIKdrNKwDiObbv6YhRuh18lsI7bRlK07P+2YB5UwdufGACrM6Pz2znEqNjDYjO78UZVtLUWDNQ3Z6MktThjOHsFgkLspDcflWlGzJx4a1aUhZPN0b3dPjc5Bnr600eYIAQUHNvFL9M4EcDocz16ENKrXKumOkWwynpN+MImtOYNdVGiXd5/05M4nPQZ7D4XA4zx48yHM4HE4Aw4M8h8PhBDA8yHM4HE4Aw4M8h8PhBDA8yHM4HE4Aw4M8h8PhBDA8yHM4HE4A8x8WEQGpRx/WpgAAAABJRU5ErkJggg==)"
      ]
    },
    {
      "cell_type": "code",
      "execution_count": 37,
      "id": "6c813fc1-7ccb-48ca-8a86-f3cc120c2aed",
      "metadata": {
        "tags": [],
        "colab": {
          "base_uri": "https://localhost:8080/"
        },
        "id": "6c813fc1-7ccb-48ca-8a86-f3cc120c2aed",
        "outputId": "b7952b38-3f33-47ec-9f5c-491c0a7ed036"
      },
      "outputs": [
        {
          "output_type": "execute_result",
          "data": {
            "text/plain": [
              "[[11, 12, 13, 14, 15, 16, 17, 18, 19, 20, 21],\n",
              " [12, 13, 14, 15, 16, 17, 18, 19, 20, 21, 22],\n",
              " [13, 14, 15, 16, 17, 18, 19, 20, 21, 22, 23],\n",
              " [14, 15, 16, 17, 18, 19, 20, 21, 22, 23, 24],\n",
              " [15, 16, 17, 18, 19, 20, 21, 22, 23, 24, 25],\n",
              " [16, 17, 18, 19, 20, 21, 22, 23, 24, 25, 26],\n",
              " [17, 18, 19, 20, 21, 22, 23, 24, 25, 26, 27],\n",
              " [18, 19, 20, 21, 22, 23, 24, 25, 26, 27, 28],\n",
              " [19, 20, 21, 22, 23, 24, 25, 26, 27, 28, 29],\n",
              " [20, 21, 22, 23, 24, 25, 26, 27, 28, 29, 30]]"
            ]
          },
          "metadata": {},
          "execution_count": 37
        }
      ],
      "source": [
        "# i는 10부터 20까지 1씩 증가\n",
        "# j는 1부터 10까지 1씩 증가\n",
        "[[i+j for i in range(10,21)] for j in range(1,11)]"
      ]
    },
    {
      "cell_type": "markdown",
      "id": "947024e8-3ba1-46ae-840f-99a15820fa16",
      "metadata": {
        "tags": [],
        "id": "947024e8-3ba1-46ae-840f-99a15820fa16"
      },
      "source": [
        "# C_pairs=[‘USDJPY’,’USDGBP’,’USDCHF’,’USDCAD’,’AUDUSD’,’NZDUSD’,’KRWUSD’,’KRWJPY’]는 여러나라의 화폐단위 정보가 Mixing되어 들어 있다. 몇 종류의 화폐 정보가 들어 있는지 출력해 보아라."
      ]
    },
    {
      "cell_type": "code",
      "source": [
        "# len() 함수의 이해\n",
        "D2=[(i,2*i) for i in range(10)]\n",
        "len(D2)"
      ],
      "metadata": {
        "colab": {
          "base_uri": "https://localhost:8080/"
        },
        "id": "xwDdES5V2nx7",
        "outputId": "dbe4449d-a103-43c4-b390-b948fa0741ef"
      },
      "id": "xwDdES5V2nx7",
      "execution_count": 49,
      "outputs": [
        {
          "output_type": "execute_result",
          "data": {
            "text/plain": [
              "10"
            ]
          },
          "metadata": {},
          "execution_count": 49
        }
      ]
    },
    {
      "cell_type": "code",
      "execution_count": 50,
      "id": "707afe69-3329-456c-a6e0-6505c270a988",
      "metadata": {
        "tags": [],
        "colab": {
          "base_uri": "https://localhost:8080/"
        },
        "id": "707afe69-3329-456c-a6e0-6505c270a988",
        "outputId": "13ae6657-427f-4297-e7a3-e3ff7b82a5fc"
      },
      "outputs": [
        {
          "output_type": "execute_result",
          "data": {
            "text/plain": [
              "1"
            ]
          },
          "metadata": {},
          "execution_count": 50
        }
      ],
      "source": [
        "D2=[[(i,2*i) for i in range(10)]]\n",
        "len(D2)"
      ]
    },
    {
      "cell_type": "code",
      "execution_count": 51,
      "id": "e443f742-5b31-4a4f-8da4-d064074af7b9",
      "metadata": {
        "tags": [],
        "colab": {
          "base_uri": "https://localhost:8080/"
        },
        "id": "e443f742-5b31-4a4f-8da4-d064074af7b9",
        "outputId": "7abad877-cfe3-47f7-d890-060053c549c5"
      },
      "outputs": [
        {
          "output_type": "execute_result",
          "data": {
            "text/plain": [
              "10"
            ]
          },
          "metadata": {},
          "execution_count": 51
        }
      ],
      "source": [
        "len(D2[0]) # D2의 첫번째에 들어 있는 원소의 개수"
      ]
    },
    {
      "cell_type": "code",
      "execution_count": 52,
      "id": "0c757481-56aa-4539-8e08-3d1bd032d768",
      "metadata": {
        "tags": [],
        "colab": {
          "base_uri": "https://localhost:8080/"
        },
        "id": "0c757481-56aa-4539-8e08-3d1bd032d768",
        "outputId": "9e3f5db9-3863-40a2-e299-e1f6b8f6557c"
      },
      "outputs": [
        {
          "output_type": "execute_result",
          "data": {
            "text/plain": [
              "(6, 3)"
            ]
          },
          "metadata": {},
          "execution_count": 52
        }
      ],
      "source": [
        "D4=[1,2,2,2,3,3] # 리스트 자료형\n",
        "D5=set(D4) # set 형태로 변환\n",
        "(len(D4),len(D5))"
      ]
    },
    {
      "cell_type": "code",
      "execution_count": null,
      "id": "2414b879-8977-4ebe-9cb5-9edf9266df61",
      "metadata": {
        "tags": [],
        "id": "2414b879-8977-4ebe-9cb5-9edf9266df61",
        "outputId": "605a29c6-3af0-4b3b-d625-537f2f8ce849"
      },
      "outputs": [
        {
          "name": "stdout",
          "output_type": "stream",
          "text": [
            "{'GBP', 'USD', 'CAD', 'KRW', 'AUD', 'JPY', 'CHF', 'NZD'}\n",
            "화폐의 종류는 총 8개입니다.\n"
          ]
        }
      ],
      "source": [
        "C_pairs=['USDJPY','USDGBP','USDCHF','USDCAD','AUDUSD','NZDUSD','KRWUSD','KRWJPY']\n",
        "L=[] # 빈 list 자료 생성\n",
        "for item in C_pairs: # C_pairs에 있는 item을 하나씩 가져와서\n",
        "    L.append(item[:3]) # item의 첫 세글자를 선택하여 L 리스트에 추가\n",
        "    L.append(item[-3:]) # item의 마지막 세글자를 L리스트에 추가\n",
        "L=set(L) # 리스트 L을 집합으로 바꾸면 중복되는 것들을 제거할 수 있다.\n",
        "print(L) # 집합 L 출력\n",
        "print('화폐의 종류는 총 {0}개입니다.'.format(len(L)))"
      ]
    },
    {
      "cell_type": "code",
      "execution_count": null,
      "id": "ace9d08c-d798-467a-9e2c-9c6089337a01",
      "metadata": {
        "tags": [],
        "id": "ace9d08c-d798-467a-9e2c-9c6089337a01",
        "outputId": "757d02fe-e615-494a-e342-6ec46c57ace5"
      },
      "outputs": [
        {
          "name": "stdout",
          "output_type": "stream",
          "text": [
            "출력되는 숫자는 0 입니다\n",
            "출력되는 숫자는 1 입니다\n",
            "출력되는 숫자는 2 입니다\n",
            "출력되는 숫자는 3 입니다\n",
            "출력되는 숫자는 4 입니다\n"
          ]
        }
      ],
      "source": [
        "# 연결해서 사용\n",
        "for i in range(5): #i를 0부터 4까지 증가\n",
        "    print('출력되는 숫자는', i, '입니다')"
      ]
    },
    {
      "cell_type": "code",
      "execution_count": null,
      "id": "b69a2f49-319d-423d-baba-3bab92b0ac78",
      "metadata": {
        "tags": [],
        "id": "b69a2f49-319d-423d-baba-3bab92b0ac78",
        "outputId": "92d15469-2633-4fd7-f543-09c331deda00"
      },
      "outputs": [
        {
          "name": "stdout",
          "output_type": "stream",
          "text": [
            "출력되는 숫자는 0입니다\n",
            "출력되는 숫자는 1입니다\n",
            "출력되는 숫자는 2입니다\n",
            "출력되는 숫자는 3입니다\n",
            "출력되는 숫자는 4입니다\n"
          ]
        }
      ],
      "source": [
        "# f''형태로 사용\n",
        "for i in range(5): #i를 0부터 4까지 증가\n",
        "    print(f'출력되는 숫자는 {i}입니다')"
      ]
    },
    {
      "cell_type": "code",
      "execution_count": null,
      "id": "391f0695-ea9a-4a0a-86e0-50df92b0ffec",
      "metadata": {
        "tags": [],
        "id": "391f0695-ea9a-4a0a-86e0-50df92b0ffec",
        "outputId": "d14ddae6-14bc-4242-d80d-f24da83618b7"
      },
      "outputs": [
        {
          "name": "stdout",
          "output_type": "stream",
          "text": [
            "출력되는 숫자는 0입니다\n",
            "출력되는 숫자는 1입니다\n",
            "출력되는 숫자는 2입니다\n",
            "출력되는 숫자는 3입니다\n",
            "출력되는 숫자는 4입니다\n"
          ]
        }
      ],
      "source": [
        "# format과 같이 사용\n",
        "for i in range(5): #i를 0부터 4까지 증가\n",
        "    print('출력되는 숫자는 {0}입니다'.format(i))"
      ]
    },
    {
      "cell_type": "code",
      "execution_count": null,
      "id": "3a01dfc0-fa64-4a83-8bf3-9aff0332e317",
      "metadata": {
        "tags": [],
        "id": "3a01dfc0-fa64-4a83-8bf3-9aff0332e317",
        "outputId": "bd1cf57c-8eb4-4d8c-ec0b-3e5300f49dbb"
      },
      "outputs": [
        {
          "name": "stdout",
          "output_type": "stream",
          "text": [
            "출력되는 숫자는 0 \n",
            "그리고 이 수의 2배인 0\n",
            "출력되는 숫자는 1 \n",
            "그리고 이 수의 2배인 2\n",
            "출력되는 숫자는 2 \n",
            "그리고 이 수의 2배인 4\n",
            "출력되는 숫자는 3 \n",
            "그리고 이 수의 2배인 6\n",
            "출력되는 숫자는 4 \n",
            "그리고 이 수의 2배인 8\n"
          ]
        }
      ],
      "source": [
        "for i in range(5): #i를 0부터 4까지 증가\n",
        "    print('출력되는 숫자는 {0} \\n그리고 이 수의 2배인 {1}'.format(i,2*i))"
      ]
    },
    {
      "cell_type": "markdown",
      "id": "85da2d7a-f4f4-40fb-aa2c-9d3037bfa584",
      "metadata": {
        "id": "85da2d7a-f4f4-40fb-aa2c-9d3037bfa584"
      },
      "source": [
        "# 아래와 같은 사전형의 자료가 있다. 사전의 key값에 해당하는 value 값을 모두 10배씩 바꾸려면 어떻게 해야 하는가?"
      ]
    },
    {
      "cell_type": "code",
      "execution_count": 53,
      "id": "3966863c-69ff-433f-b847-e314498a8b43",
      "metadata": {
        "tags": [],
        "colab": {
          "base_uri": "https://localhost:8080/"
        },
        "id": "3966863c-69ff-433f-b847-e314498a8b43",
        "outputId": "af22ba3f-2a1b-43c6-ce98-01d5fef9b4b6"
      },
      "outputs": [
        {
          "output_type": "execute_result",
          "data": {
            "text/plain": [
              "{'C00': 0.6271571770349901,\n",
              " 'C01': 0.15598570457406158,\n",
              " 'C02': 0.14583168704978233,\n",
              " 'C03': 0.14736328092952622,\n",
              " 'C04': 0.9721461926589238,\n",
              " 'C05': 0.18589544701775806,\n",
              " 'C06': 0.9882027762452303,\n",
              " 'C07': 0.03972531144693536,\n",
              " 'C08': 0.12342610695787193,\n",
              " 'C09': 0.5518695482246295}"
            ]
          },
          "metadata": {},
          "execution_count": 53
        }
      ],
      "source": [
        "import numpy as np\n",
        "dic={f'C0{i}':np.random.rand() for i in range(10)}\n",
        "dic"
      ]
    },
    {
      "cell_type": "code",
      "execution_count": null,
      "id": "9ac628b3-b308-4d90-ba4f-96a07a950207",
      "metadata": {
        "tags": [],
        "id": "9ac628b3-b308-4d90-ba4f-96a07a950207",
        "outputId": "8bd067a8-06bb-4886-d4e8-fe35c5a7b131"
      },
      "outputs": [
        {
          "data": {
            "text/plain": [
              "{'C00': 9.773725462810825,\n",
              " 'C01': 0.6347890962042713,\n",
              " 'C02': 2.3589006723320805,\n",
              " 'C03': 5.699004843210257,\n",
              " 'C04': 9.712382877250477,\n",
              " 'C05': 0.18380358352138026,\n",
              " 'C06': 8.42347168005328,\n",
              " 'C07': 3.0793618408109102,\n",
              " 'C08': 8.4532916726042,\n",
              " 'C09': 7.560001002869453}"
            ]
          },
          "execution_count": 14,
          "metadata": {},
          "output_type": "execute_result"
        }
      ],
      "source": [
        "# value 값을 모두 10배 하려면...\n",
        "# 아래 반복문에서 i에는 key값이, j에는 해당하는 value값이 읽어진다.\n",
        "for i,j in dic.items():\n",
        "    dic[i]=j*10\n",
        "dic"
      ]
    },
    {
      "cell_type": "markdown",
      "id": "2fa966d1-eb27-44c3-8624-0ee47e9ed92d",
      "metadata": {
        "tags": [],
        "id": "2fa966d1-eb27-44c3-8624-0ee47e9ed92d"
      },
      "source": [
        "# 1부터 10까지 더하여라."
      ]
    },
    {
      "cell_type": "code",
      "execution_count": null,
      "id": "6898a9b0-0dad-4b1a-a52e-7a719547adf5",
      "metadata": {
        "tags": [],
        "id": "6898a9b0-0dad-4b1a-a52e-7a719547adf5",
        "outputId": "ff2ebde6-31d3-4a0f-d85e-ab1f95f18a02"
      },
      "outputs": [
        {
          "name": "stdout",
          "output_type": "stream",
          "text": [
            "A\n",
            "B\n",
            "C\n",
            "D\n"
          ]
        }
      ],
      "source": [
        "# for 문의 형식\n",
        "L=['A','B','C','D']\n",
        "# L에 있는 원소들을 하나씩 변화시켜 가면서 모두 선택하고 끝낸다.\n",
        "for item in L: # 반드시 ':'을 뒤에 붙일 것!\n",
        "    print(item) # indentation 필요"
      ]
    },
    {
      "cell_type": "code",
      "execution_count": null,
      "id": "f53ef081-11c7-4793-bcf0-922899185856",
      "metadata": {
        "id": "f53ef081-11c7-4793-bcf0-922899185856",
        "outputId": "99090e97-46af-4291-c6a6-2a2ce8ea69e1"
      },
      "outputs": [
        {
          "data": {
            "text/plain": [
              "55"
            ]
          },
          "execution_count": 11,
          "metadata": {},
          "output_type": "execute_result"
        }
      ],
      "source": [
        "Ans=0\n",
        "# 반복문에서 사용하는 range(N)은 0부터 N-1까지 1씩 증가시킨다.\n",
        "for i in range(11): # 반드시 ':'을 조건 뒤에 붙일 것!\n",
        "    Ans=Ans+i\n",
        "Ans"
      ]
    },
    {
      "cell_type": "code",
      "execution_count": null,
      "id": "33cbcd43-8ef5-4dfe-a241-1fb7c5cf5351",
      "metadata": {
        "id": "33cbcd43-8ef5-4dfe-a241-1fb7c5cf5351",
        "outputId": "a144fb61-c9b1-4d85-cce6-d15a20977f00"
      },
      "outputs": [
        {
          "name": "stdout",
          "output_type": "stream",
          "text": [
            "D1= [0, 1, 2, 3, 4, 5, 6, 7, 8, 9, 10]\n",
            "D1 자료의 총합은: 55\n"
          ]
        }
      ],
      "source": [
        "import numpy as np\n",
        "# 리스트[]의 자료안에 for 문을 사용하여 자료를 미리 만든 후\n",
        "# numpy.sum() 함수를 활용해 답을 구한다.\n",
        "D1=[i for i in range(11)]\n",
        "print('D1=',D1)\n",
        "print('D1 자료의 총합은:',np.sum(D1))"
      ]
    },
    {
      "cell_type": "code",
      "execution_count": null,
      "id": "53e766b4-71e6-4bcf-97a8-dc0322d26a0d",
      "metadata": {
        "tags": [],
        "id": "53e766b4-71e6-4bcf-97a8-dc0322d26a0d",
        "outputId": "8cbc844a-62a6-4e64-88e6-8f64f520049c"
      },
      "outputs": [
        {
          "data": {
            "text/plain": [
              "55"
            ]
          },
          "execution_count": 17,
          "metadata": {},
          "output_type": "execute_result"
        }
      ],
      "source": [
        "# while 문의 사용\n",
        "i,Ans=1,0 # i=1, Ans=0을 대입\n",
        "while i <=10: # i가 10이하면 계속 수행, 문장 끝에 ':'붙인다.\n",
        "    Ans=Ans+i # 직전 Ans에 i를 더한다\n",
        "    i=i+1 # 직전 i에 1을 더한다.\n",
        "Ans"
      ]
    },
    {
      "cell_type": "markdown",
      "id": "011b0f29-91a6-48c5-887f-d1f1ad906877",
      "metadata": {
        "id": "011b0f29-91a6-48c5-887f-d1f1ad906877"
      },
      "source": [
        "# 1부터 1000까지의 자연수 중 3의 배수가 아닌 숫자들을 모두 더하여라."
      ]
    },
    {
      "cell_type": "code",
      "execution_count": null,
      "id": "484e653a-ebe0-4e43-9686-2b7872563f9f",
      "metadata": {
        "tags": [],
        "id": "484e653a-ebe0-4e43-9686-2b7872563f9f",
        "outputId": "2f1fa92f-61cf-4fea-a480-1c7699788046"
      },
      "outputs": [
        {
          "data": {
            "text/plain": [
              "333667"
            ]
          },
          "execution_count": 14,
          "metadata": {},
          "output_type": "execute_result"
        }
      ],
      "source": [
        "Ans=0\n",
        "# 반복문에서 사용되는 객체 range(a,b,c)는 a부터 b-1까지 c씩 증가하는 숫자를 만들어낸다.\n",
        "# range(a,b)는 a부터 b-1까지 1씩 증가하는 숫자를 만들어낸다.\n",
        "# range(a)는 0부터 시작해서 a-1까지 1씩 증가하는 숫자를 만들어낸다.\n",
        "for i in range(1,1001,1):\n",
        "    if i%3!=0: #i를 3으로 나눈 나머지가 0이 아니면 아래행 실행\n",
        "        Ans=Ans+i\n",
        "Ans"
      ]
    },
    {
      "cell_type": "code",
      "execution_count": null,
      "id": "2ba734fb-ecc5-4f4d-ab11-2bc014bd32c6",
      "metadata": {
        "tags": [],
        "id": "2ba734fb-ecc5-4f4d-ab11-2bc014bd32c6",
        "outputId": "a7c79ae0-0562-42f4-bf46-151a41e7527d"
      },
      "outputs": [
        {
          "name": "stdout",
          "output_type": "stream",
          "text": [
            "10보다 작은 숫자입니다\n"
          ]
        }
      ],
      "source": [
        "# if 문의 사용법\n",
        "num=9\n",
        "if num>10: # 뒤에 반드시 ':'을 붙여야 한다.\n",
        "    print('10보다 큰 숫자입니다') # indentation 사용\n",
        "elif num<10: # 뒤에 반드시 ':'을 붙여야 한다.\n",
        "    print('10보다 작은 숫자입니다')\n",
        "else: # 뒤에 반드시 ':'을 붙여야 한다.\n",
        "    print('10인 것 같습니다')\n"
      ]
    },
    {
      "cell_type": "markdown",
      "id": "1ba20c88-f9f6-4d56-b6b7-29d854bbb4d3",
      "metadata": {
        "id": "1ba20c88-f9f6-4d56-b6b7-29d854bbb4d3"
      },
      "source": [
        "![image.png](attachment:cb61e573-613b-49f4-a5c5-1206db6ece77.png)"
      ]
    },
    {
      "cell_type": "code",
      "execution_count": null,
      "id": "ac1ef58c-bb99-4409-ba3d-029b648f1ee4",
      "metadata": {
        "tags": [],
        "id": "ac1ef58c-bb99-4409-ba3d-029b648f1ee4",
        "outputId": "b8510238-c5fe-445f-a5a5-2938fcbd5379"
      },
      "outputs": [
        {
          "name": "stdout",
          "output_type": "stream",
          "text": [
            "1\n",
            "3\n",
            "5\n",
            "7\n",
            "9\n"
          ]
        }
      ],
      "source": [
        "# not in 연산자의 활용\n",
        "A=[i for i in range(1,11)] #1부터 10까지의 자연수\n",
        "B=[2*i for i in range(1,6)] # 2,4,6,8,10의 짝수\n",
        "for i in A: # A를 하나씩 증가시켜가면서 반복\n",
        "    if i not in B: # i가 만일 B에 없으면, 즉 홀수이면\n",
        "        print(i) # i 값을 출력"
      ]
    },
    {
      "cell_type": "code",
      "execution_count": null,
      "id": "3f80c736-b63b-4f49-bc96-1ff5cde897ed",
      "metadata": {
        "tags": [],
        "id": "3f80c736-b63b-4f49-bc96-1ff5cde897ed",
        "outputId": "26ead4d4-1316-4e0a-fe16-2f9a10832409"
      },
      "outputs": [
        {
          "data": {
            "text/plain": [
              "4"
            ]
          },
          "execution_count": 17,
          "metadata": {},
          "output_type": "execute_result"
        }
      ],
      "source": [
        "# 문장이 길 때 '\\'를 사용하여 줄바꿈 표시를 할 수 있다.\n",
        "D =\"햄릿은 윌리엄 셰익스피어의 대표작 중 하나입니다.\\\n",
        "햄릿은 왕자인 햄릿이 왕국의 문제와 자신의 내면 갈등을 다루는 이야기입니다.\\\n",
        "햄릿은 윌리엄 셰익스피어의 뛰어난 연극 작품 중 하나로 꼽힙니다.\"\n",
        "\n",
        "# len(D)는 문자열의 길이를 return 하는 내장함수\n",
        "Ans=0\n",
        "for i in range(len(D)): # 0부터 문자열 길이-1 까지 증가시킴\n",
        "    if D[i:i+2]=='햄릿': # 차례로 두 글자씩 선택해서 '햄릿'이면\n",
        "        Ans+=1 # Ans=Ans+1을 Ans +=1로 쓸 수 있음\n",
        "Ans"
      ]
    },
    {
      "cell_type": "code",
      "execution_count": null,
      "id": "eca75e16-1208-4bd0-90ef-0df6080d3f31",
      "metadata": {
        "tags": [],
        "id": "eca75e16-1208-4bd0-90ef-0df6080d3f31",
        "outputId": "5a94d895-c4a1-49b3-cbc2-b4a463a9bf22"
      },
      "outputs": [
        {
          "data": {
            "text/plain": [
              "str"
            ]
          },
          "execution_count": 21,
          "metadata": {},
          "output_type": "execute_result"
        }
      ],
      "source": [
        "# D라는 변수가 어떤 형태인지 확인하는 내장함수 type()을 사용\n",
        "type(D)"
      ]
    },
    {
      "cell_type": "code",
      "execution_count": null,
      "id": "df92860b-c1b2-49de-93f9-59f6de218f5b",
      "metadata": {
        "tags": [],
        "id": "df92860b-c1b2-49de-93f9-59f6de218f5b",
        "outputId": "205d4a74-6af5-476f-e075-a7819f01af96"
      },
      "outputs": [
        {
          "data": {
            "text/plain": [
              "105"
            ]
          },
          "execution_count": 24,
          "metadata": {},
          "output_type": "execute_result"
        }
      ],
      "source": [
        "len(D)"
      ]
    },
    {
      "cell_type": "code",
      "execution_count": null,
      "id": "b554164f-4b5b-4156-a2b1-8a95cf2dc4dd",
      "metadata": {
        "tags": [],
        "id": "b554164f-4b5b-4156-a2b1-8a95cf2dc4dd",
        "outputId": "8343125b-44a2-4ef9-afef-6dd359db574c"
      },
      "outputs": [
        {
          "data": {
            "text/plain": [
              "' '"
            ]
          },
          "execution_count": 25,
          "metadata": {},
          "output_type": "execute_result"
        }
      ],
      "source": [
        "# 빈칸을 세는지 확인\n",
        "D[3]"
      ]
    },
    {
      "cell_type": "code",
      "execution_count": null,
      "id": "b84bcad5-efc0-4109-ac18-0ebea01957e4",
      "metadata": {
        "tags": [],
        "id": "b84bcad5-efc0-4109-ac18-0ebea01957e4",
        "outputId": "96a657b9-bb58-4ac1-d37b-364e2491a87e"
      },
      "outputs": [
        {
          "data": {
            "text/plain": [
              "20"
            ]
          },
          "execution_count": 23,
          "metadata": {},
          "output_type": "execute_result"
        }
      ],
      "source": [
        "import numpy as np\n",
        "# 0포함 99까지의 자연수를 임의로 20 by 100 by 5 차원의 값으로 출력시킴\n",
        "D1=np.random.randint(100,size=(20,100,5))\n",
        "len(D1)"
      ]
    },
    {
      "cell_type": "code",
      "execution_count": null,
      "id": "99faf95e-b221-47d1-823b-597c3a844ea7",
      "metadata": {
        "tags": [],
        "id": "99faf95e-b221-47d1-823b-597c3a844ea7",
        "outputId": "1e97a991-9920-422a-9230-442512f410f3"
      },
      "outputs": [
        {
          "name": "stdout",
          "output_type": "stream",
          "text": [
            "문자열 D에서 '햄릿'의 개수: 4\n"
          ]
        }
      ],
      "source": [
        "# '햄릿'의 개수를 세기\n",
        "count_hamlet = D.count('햄릿')\n",
        "\n",
        "print(\"문자열 D에서 '햄릿'의 개수:\", count_hamlet)"
      ]
    },
    {
      "cell_type": "markdown",
      "id": "9cf8b5f6-16d4-4956-9f00-f7129359050a",
      "metadata": {
        "id": "9cf8b5f6-16d4-4956-9f00-f7129359050a"
      },
      "source": [
        "# 0,1,1,2,3,5,8,…과 같은 피보나치(Fibonacci) 수열의 합 중 10000보다 큰 수 중 가장 작은 수를 구하여라."
      ]
    },
    {
      "cell_type": "code",
      "execution_count": null,
      "id": "24270b93-fe95-4066-a261-37b8dfef1140",
      "metadata": {
        "tags": [],
        "id": "24270b93-fe95-4066-a261-37b8dfef1140",
        "outputId": "5cc685a8-7c1d-4630-9372-82c6207d8e44"
      },
      "outputs": [
        {
          "name": "stdout",
          "output_type": "stream",
          "text": [
            "20번째 수열까지의 합이 처음으로 10000을 넘었습니다. 그 값은 10945.0입니다.\n"
          ]
        }
      ],
      "source": [
        "# 피보나치 수열을 생성함과 동시에 부분합의 크기를 체크하면서 10000이 넘는 순간 중단 시킨다.\n",
        "import numpy as np\n",
        "F=np.zeros(10000) # 피보나치 수열 10000개를 담기 위한 numpy array를 만듭니다.\n",
        "F[0],F[1]=0,1 # F[0]=0, F[1]=1 값을 초기값으로 저장\n",
        "Ans=F[0]+F[1]\n",
        "for i in range(2,10001): # 2부터 시작해서 10000까지 1씩 증가시킨다.\n",
        "    F[i]=F[i-1]+F[i-2] # 피보나치 수열의 정의: 직전 2개의 항의 합으로 현재의 항을 생성\n",
        "    Ans+=F[i] # i번째 항까지의 부분합을 구한다.\n",
        "    if Ans > 10000: # 부분합이 10000을 넘는다면,\n",
        "        print(f'{i+1}번째 수열까지의 합이 처음으로 10000을 넘었습니다. 그 값은 {Ans}입니다.')\n",
        "        break # for 문을 exit 시킨다.\n"
      ]
    },
    {
      "cell_type": "code",
      "execution_count": null,
      "id": "fa536138-f928-47cd-96eb-c43381b2b02e",
      "metadata": {
        "tags": [],
        "id": "fa536138-f928-47cd-96eb-c43381b2b02e",
        "outputId": "ef9964c1-07e3-4f74-a0bb-5886eb84f503"
      },
      "outputs": [
        {
          "data": {
            "text/plain": [
              "10945.0"
            ]
          },
          "execution_count": 4,
          "metadata": {},
          "output_type": "execute_result"
        }
      ],
      "source": [
        "np.sum(F[:20]) # 처음 20개의 합"
      ]
    },
    {
      "cell_type": "code",
      "execution_count": null,
      "id": "1f4564e2-f9b2-4729-b7b6-3a6976b95bb7",
      "metadata": {
        "tags": [],
        "id": "1f4564e2-f9b2-4729-b7b6-3a6976b95bb7",
        "outputId": "d2e20f5f-8e4f-4fdf-faff-5aae4224ef51"
      },
      "outputs": [
        {
          "data": {
            "text/plain": [
              "6764.0"
            ]
          },
          "execution_count": 5,
          "metadata": {},
          "output_type": "execute_result"
        }
      ],
      "source": [
        "np.sum(F[:19]) # 처음 19개의 합"
      ]
    },
    {
      "cell_type": "code",
      "execution_count": null,
      "id": "e9c42883-2964-4d67-ae18-e69a817e4c9e",
      "metadata": {
        "tags": [],
        "id": "e9c42883-2964-4d67-ae18-e69a817e4c9e",
        "outputId": "e9461377-2a96-4196-ea93-b236ed38dfa0"
      },
      "outputs": [
        {
          "name": "stdout",
          "output_type": "stream",
          "text": [
            "a=5,b=10\n",
            "a= 5 b= 10\n",
            "b=10,a=5\n"
          ]
        }
      ],
      "source": [
        "# print(f'') 이해하기\n",
        "# 변수를 print()문과 함께 출력하는 방법은 여러가지가 있다.\n",
        "a,b=5,10 # a=5, b=10\n",
        "print(f'a={a},b={b}') # f'{}' 사용\n",
        "print('a=',a,'b=',b) # 분리해서 사용\n",
        "print('b={1},a={0}'.format(a,b)) # {}.format() 사용"
      ]
    },
    {
      "cell_type": "markdown",
      "id": "760fc0fb-9633-4965-b4e4-f0842f15e0ac",
      "metadata": {
        "id": "760fc0fb-9633-4965-b4e4-f0842f15e0ac"
      },
      "source": [
        "# 1부터 100까지 더할 때, 7로 끝나는 숫자를 제외하고 더하여 보아라."
      ]
    },
    {
      "cell_type": "code",
      "execution_count": null,
      "id": "9153e047-6d04-4da5-9230-ba9fead86eda",
      "metadata": {
        "tags": [],
        "id": "9153e047-6d04-4da5-9230-ba9fead86eda",
        "outputId": "13a6c2d5-3511-402d-e05f-a1b0601875cf"
      },
      "outputs": [
        {
          "data": {
            "text/plain": [
              "4530"
            ]
          },
          "execution_count": 8,
          "metadata": {},
          "output_type": "execute_result"
        }
      ],
      "source": [
        "Ans=0\n",
        "for i in range(101): #0부터 100까지 1씩 증가시킴\n",
        "    if str(i)[-1]=='7': # 숫자 i를 문자열로 만든 str(i)의 마지막 문자열 [-1]이 '7'이면\n",
        "        continue # 아무 것도 하지 않고 건너 뛴다\n",
        "    else:\n",
        "        Ans+=i # Ans의 기존값에 현재의 i를 더한다.\n",
        "Ans"
      ]
    },
    {
      "cell_type": "code",
      "execution_count": null,
      "id": "3f1d10e8-307b-497d-9cad-1c2464ea30e5",
      "metadata": {
        "tags": [],
        "id": "3f1d10e8-307b-497d-9cad-1c2464ea30e5",
        "outputId": "b974b708-809c-4fc5-a9bb-76549edd7e85"
      },
      "outputs": [
        {
          "data": {
            "text/plain": [
              "4530"
            ]
          },
          "execution_count": 9,
          "metadata": {},
          "output_type": "execute_result"
        }
      ],
      "source": [
        "# 위 결과의 검증\n",
        "A1=[i for i in range(1,101)] # 1부터 100까지를 list로 만든다.\n",
        "A2=[i*10+7 for i in range(10)] # 7,17,...,97의 list를 만든다.\n",
        "np.sum(A1)-np.sum(A2)"
      ]
    },
    {
      "cell_type": "markdown",
      "id": "e84d34f0-01a9-42a2-b822-f56c8f76620c",
      "metadata": {
        "id": "e84d34f0-01a9-42a2-b822-f56c8f76620c"
      },
      "source": [
        "# 사용자 정의 함수 만들기"
      ]
    },
    {
      "cell_type": "code",
      "execution_count": null,
      "id": "101b9414-bc18-471e-971b-050ead7cc3ec",
      "metadata": {
        "tags": [],
        "id": "101b9414-bc18-471e-971b-050ead7cc3ec",
        "outputId": "383a79ed-78ee-42dc-eaf6-2b9d6517d715"
      },
      "outputs": [
        {
          "data": {
            "text/plain": [
              "3"
            ]
          },
          "execution_count": 10,
          "metadata": {},
          "output_type": "execute_result"
        }
      ],
      "source": [
        "# 사용자 정의 함수 만들기\n",
        "# a 문자열에서 b 문자열의 개수를 반환하는 함수 만들기\n",
        "def ff(a,b): # def 함수이름(인자들): 의 형식을 취할 것\n",
        "    return a.count(b) #반환하거자 하는 값을 return 다음에 쓸 것\n",
        "\n",
        "# 사용자 정의 함수 호출하기\n",
        "ff('oh my mm god','m')"
      ]
    },
    {
      "cell_type": "code",
      "execution_count": null,
      "id": "eebc82f2-0d41-44b8-b547-2eb73114e11d",
      "metadata": {
        "tags": [],
        "id": "eebc82f2-0d41-44b8-b547-2eb73114e11d",
        "outputId": "a058cb4f-58eb-45cd-ef1c-e1a3d72c3f1b"
      },
      "outputs": [
        {
          "data": {
            "text/plain": [
              "1002"
            ]
          },
          "execution_count": 1,
          "metadata": {},
          "output_type": "execute_result"
        }
      ],
      "source": [
        "# 사용자의 정의 함수 만들기 예제 2\n",
        "# 인자 c=1000 이라는 디폴트 값을 정의할 수 있음.\n",
        "def hst(a,b,c=1000):\n",
        "    return a+b+c\n",
        "\n",
        "# c값을 입력하지 않으면 c=1000이라고 인식함\n",
        "hst(1,1)"
      ]
    },
    {
      "cell_type": "code",
      "execution_count": null,
      "id": "9af8751c-f501-45a9-9449-c111b7836e24",
      "metadata": {
        "tags": [],
        "id": "9af8751c-f501-45a9-9449-c111b7836e24",
        "outputId": "98d27588-a88e-405e-e5f3-7b1380193efc"
      },
      "outputs": [
        {
          "data": {
            "text/plain": [
              "3"
            ]
          },
          "execution_count": 2,
          "metadata": {},
          "output_type": "execute_result"
        }
      ],
      "source": [
        "# c 값을 입력하면 디폴트 값을 무시하게 됨\n",
        "hst(1,1,1)"
      ]
    },
    {
      "cell_type": "code",
      "execution_count": null,
      "id": "5ebe40a7-3779-4ed8-83ce-5d40cc227195",
      "metadata": {
        "id": "5ebe40a7-3779-4ed8-83ce-5d40cc227195",
        "outputId": "f0f7f353-8910-4240-9cd3-8c7487660284"
      },
      "outputs": [
        {
          "data": {
            "text/plain": [
              "8"
            ]
          },
          "execution_count": 3,
          "metadata": {},
          "output_type": "execute_result"
        }
      ],
      "source": [
        "# lamda를 이용한 inline 함수 작성\n",
        "f=lambda x,y:x**2+y**2\n",
        "f(2,2)"
      ]
    },
    {
      "cell_type": "markdown",
      "id": "39af8561-d5ec-4c4c-a679-8c9872c113ae",
      "metadata": {
        "id": "39af8561-d5ec-4c4c-a679-8c9872c113ae"
      },
      "source": [
        "## 에라토스테네스의 체"
      ]
    },
    {
      "cell_type": "code",
      "execution_count": null,
      "id": "14a99f3b-6ec5-414c-903c-04d3d70d5426",
      "metadata": {
        "id": "14a99f3b-6ec5-414c-903c-04d3d70d5426",
        "outputId": "f24a58bd-ef28-4490-b533-7c1fd2cc37ad"
      },
      "outputs": [
        {
          "name": "stdout",
          "output_type": "stream",
          "text": [
            "10000 이하의 소수의 개수: 1229\n",
            "Elapsed time is 66.485364 seconds.\n"
          ]
        }
      ],
      "source": [
        "from pytictoc impot TicToc\n",
        "import numpy as np\n",
        "timer=TicToc() # 시간측정 객체 만들기\n",
        "timer.tic() # 측정 시작\n",
        "n=10000\n",
        "G_pot=[] # 소수 리스트\n",
        "for i in range(2,n+1):\n",
        "    i_pot=[] # i의 약수 리스트\n",
        "    for j in range(1,i+1):\n",
        "        if np.mod(i,j)==0: #j는 i의 약수\n",
        "            i_pot.append(j)\n",
        "    if len(i_pot) == 2:\n",
        "        G_pot.append(i)\n",
        "print(f\"{n} 이하의 소수의 개수: {len(G_pot)}\")\n",
        "timer.toc() # 측정후 시간 출력"
      ]
    },
    {
      "cell_type": "code",
      "execution_count": null,
      "id": "26f132b4-2506-4bc4-b877-ec596e92e943",
      "metadata": {
        "id": "26f132b4-2506-4bc4-b877-ec596e92e943"
      },
      "outputs": [],
      "source": [
        "def sieve_of_eratosthenes(n):\n",
        "    # 0부터 n까지 모두 True인 리스트 생성\n",
        "    is_prime = [True] * (n + 1)\n",
        "\n",
        "    # 첫번째, 두번째는 False로 설정\n",
        "    is_prime[0] = is_prime[1] = False\n",
        "\n",
        "    # 세번째 부터 n의 절반(자연수)까지\n",
        "    for i in range(2, int(n**0.5) + 1):\n",
        "        if is_prime[i]: # i번째가 True이면\n",
        "            # i,2i,3i,....를 모두 False로 설정\n",
        "            for j in range(i * i, n + 1, i):\n",
        "                is_prime[j] = False\n",
        "    # is_prime의 index(num),값(prime)을 하나씩 빼서\n",
        "    # prime이 True면 index만 추출\n",
        "    primes = [num for num, prime in enumerate(is_prime) if prime]\n",
        "    return primes # 총 index를 리턴"
      ]
    },
    {
      "cell_type": "code",
      "execution_count": null,
      "id": "08264140-68cc-40cb-a95f-12b2504ba343",
      "metadata": {
        "id": "08264140-68cc-40cb-a95f-12b2504ba343",
        "outputId": "f2dd1b83-a094-4c50-e494-139f38355a7d"
      },
      "outputs": [
        {
          "name": "stdout",
          "output_type": "stream",
          "text": [
            "10000 이하의 소수의 개수: 1229\n",
            "Elapsed time is 0.002025 seconds.\n"
          ]
        }
      ],
      "source": [
        "# 사용 예시\n",
        "n = 10000\n",
        "timer.tic()\n",
        "result = sieve_of_eratosthenes(n)\n",
        "print(f\"{n} 이하의 소수의 개수: {len(result)}\")\n",
        "\n",
        "timer.toc()"
      ]
    },
    {
      "cell_type": "code",
      "execution_count": null,
      "id": "a50d3151-ec0a-4795-8671-79a38da9a47a",
      "metadata": {
        "id": "a50d3151-ec0a-4795-8671-79a38da9a47a",
        "outputId": "057a7ca9-75b2-4c68-f050-534afe369242"
      },
      "outputs": [
        {
          "name": "stdout",
          "output_type": "stream",
          "text": [
            "10000 이하의 소수의 개수: 78498\n",
            "Elapsed time is 0.169341 seconds.\n"
          ]
        }
      ],
      "source": [
        "timer.tic()\n",
        "result = sieve_of_eratosthenes(1000000)\n",
        "print(f\"{n} 이하의 소수의 개수: {len(result)}\")\n",
        "timer.toc()"
      ]
    },
    {
      "cell_type": "markdown",
      "id": "662d9077-59ae-4d02-97a8-b4fb808f57dd",
      "metadata": {
        "id": "662d9077-59ae-4d02-97a8-b4fb808f57dd"
      },
      "source": [
        "## 하노이 타워"
      ]
    },
    {
      "cell_type": "markdown",
      "id": "d5685e82-e318-472e-b886-5db34910f98e",
      "metadata": {
        "id": "d5685e82-e318-472e-b886-5db34910f98e"
      },
      "source": [
        "![image.png](attachment:df4e091f-54b5-4909-ba43-e5d8ddd1b784.png)"
      ]
    },
    {
      "cell_type": "code",
      "execution_count": null,
      "id": "ee0c7c22-5ac3-47aa-a320-eff7bd215cc5",
      "metadata": {
        "tags": [],
        "id": "ee0c7c22-5ac3-47aa-a320-eff7bd215cc5"
      },
      "outputs": [],
      "source": [
        "# Recursive Python function to solve the tower of hanoi\n",
        "Min_Move=0\n",
        "def TowerOfHanoi(n , source, destination, auxiliary):\n",
        "    if n==1: # 만일 n=1이면 한번에 끝난다.\n",
        "        print (f'1 번째 원반을 {source}에서 {destination}으로 옮긴다')\n",
        "        return # 리턴 값이 없으면 그냥 공란으로 두면 된다.\n",
        "    # 만일 n>=2이면 n-1개를 먼저 2번기둥으로 옮기는 문제를 풀고\n",
        "    TowerOfHanoi(n-1, source, auxiliary, destination)\n",
        "    # n번째 원반을 3번기둥으로 옮긴다.\n",
        "    print (f'{n} 번째 원반을 {source}에서 {destination}으로 옮긴다')\n",
        "    # 2번 기둥에 있던 n-1개의 원반을 이제 3번 기둥으로 옮긴다\n",
        "    TowerOfHanoi(n-1, auxiliary, destination, source)"
      ]
    },
    {
      "cell_type": "code",
      "execution_count": null,
      "id": "697738c3-139e-49fc-98b7-67cfea4ce953",
      "metadata": {
        "tags": [],
        "id": "697738c3-139e-49fc-98b7-67cfea4ce953",
        "outputId": "8461792b-ec06-46bf-df26-f3f76d5ec124"
      },
      "outputs": [
        {
          "name": "stdout",
          "output_type": "stream",
          "text": [
            "1 번째 원반을 1번기둥에서 3번기둥으로 옮긴다\n",
            "2 번째 원반을 1번기둥에서 2번기둥으로 옮긴다\n",
            "1 번째 원반을 3번기둥에서 2번기둥으로 옮긴다\n",
            "3 번째 원반을 1번기둥에서 3번기둥으로 옮긴다\n",
            "1 번째 원반을 2번기둥에서 1번기둥으로 옮긴다\n",
            "2 번째 원반을 2번기둥에서 3번기둥으로 옮긴다\n",
            "1 번째 원반을 1번기둥에서 3번기둥으로 옮긴다\n"
          ]
        }
      ],
      "source": [
        "# 하노이 타워 문제 풀기\n",
        "n = 3\n",
        "TowerOfHanoi(n,'1번기둥','3번기둥','2번기둥')"
      ]
    },
    {
      "cell_type": "code",
      "execution_count": null,
      "id": "3d8fff6c-9d02-4987-a3b3-d6b0d9a61a19",
      "metadata": {
        "tags": [],
        "id": "3d8fff6c-9d02-4987-a3b3-d6b0d9a61a19",
        "outputId": "ec0d9769-c1c0-431a-cfca-0a001cd05714"
      },
      "outputs": [
        {
          "data": {
            "text/plain": [
              "15"
            ]
          },
          "execution_count": 25,
          "metadata": {},
          "output_type": "execute_result"
        }
      ],
      "source": [
        "# 최소 움직임 회수만 계산해 보자.\n",
        "def HTowerMove(n):\n",
        "    if n==1: # n=1이면\n",
        "        return 1 # 답 1을 return한다.\n",
        "    else: # n>=2이면\n",
        "        # n-1일 때 회수의 2배에 1을 더해 주면 된다.\n",
        "        return 2*HTowerMove(n-1)+1\n",
        "HTowerMove(4)"
      ]
    },
    {
      "cell_type": "markdown",
      "id": "5171bbea-822a-4d4b-b98b-c0588201cdf1",
      "metadata": {
        "id": "5171bbea-822a-4d4b-b98b-c0588201cdf1"
      },
      "source": [
        "# 5!를 계산하는 프로그램을 재귀함수를 이용하여 작성해 보아라."
      ]
    },
    {
      "cell_type": "code",
      "execution_count": null,
      "id": "50cd1bdc-b404-49fa-9ce8-229ce576fd65",
      "metadata": {
        "tags": [],
        "id": "50cd1bdc-b404-49fa-9ce8-229ce576fd65",
        "outputId": "91ad636a-1738-4718-a52e-09969bcd6108"
      },
      "outputs": [
        {
          "data": {
            "text/plain": [
              "120"
            ]
          },
          "execution_count": 26,
          "metadata": {},
          "output_type": "execute_result"
        }
      ],
      "source": [
        "def fun_factorial(n):\n",
        "    if n==0 or n==1:\n",
        "        return 1\n",
        "    else:\n",
        "        return n*fun_factorial(n-1)\n",
        "fun_factorial(5)"
      ]
    },
    {
      "cell_type": "code",
      "execution_count": null,
      "id": "63a80fa9-9d55-474f-a959-17688b1ed9bf",
      "metadata": {
        "tags": [],
        "id": "63a80fa9-9d55-474f-a959-17688b1ed9bf",
        "outputId": "7c0a6c55-5019-44c3-c217-339b4b517395"
      },
      "outputs": [
        {
          "data": {
            "text/plain": [
              "120"
            ]
          },
          "execution_count": 28,
          "metadata": {},
          "output_type": "execute_result"
        }
      ],
      "source": [
        "Ans=1\n",
        "for i in range(1,6): # 1부터 5까지 1씩 증가\n",
        "    Ans*=i # Ana=Ans*i를 왼쪽과 같이 쓸 수 있다.\n",
        "Ans"
      ]
    },
    {
      "cell_type": "code",
      "execution_count": null,
      "id": "b16560c4-6e5d-4958-a935-31167b4a5b1d",
      "metadata": {
        "id": "b16560c4-6e5d-4958-a935-31167b4a5b1d"
      },
      "outputs": [],
      "source": []
    }
  ],
  "metadata": {
    "hide_input": false,
    "kernelspec": {
      "display_name": "Python 3 (ipykernel)",
      "language": "python",
      "name": "python3"
    },
    "language_info": {
      "codemirror_mode": {
        "name": "ipython",
        "version": 3
      },
      "file_extension": ".py",
      "mimetype": "text/x-python",
      "name": "python",
      "nbconvert_exporter": "python",
      "pygments_lexer": "ipython3",
      "version": "3.10.12"
    },
    "colab": {
      "provenance": [],
      "include_colab_link": true
    }
  },
  "nbformat": 4,
  "nbformat_minor": 5
}