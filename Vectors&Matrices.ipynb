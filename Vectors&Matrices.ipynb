{
  "cells": [
    {
      "cell_type": "markdown",
      "id": "7b3aa8dd-c088-42ee-8538-c7942ce71d99",
      "metadata": {
        "id": "7b3aa8dd-c088-42ee-8538-c7942ce71d99"
      },
      "source": [
        "# 벡터의 표현"
      ]
    },
    {
      "cell_type": "code",
      "execution_count": null,
      "id": "c68ac517-eded-4a53-aa7b-b627fbd4fbe8",
      "metadata": {
        "tags": [],
        "id": "c68ac517-eded-4a53-aa7b-b627fbd4fbe8",
        "outputId": "69ee0e90-6eba-4701-ca82-d7353c509343",
        "colab": {
          "base_uri": "https://localhost:8080/",
          "height": 39
        }
      },
      "outputs": [
        {
          "output_type": "execute_result",
          "data": {
            "text/plain": [
              "Matrix([[1, 2, 3, 4]])"
            ],
            "text/latex": "$\\displaystyle \\left[\\begin{matrix}1 & 2 & 3 & 4\\end{matrix}\\right]$"
          },
          "metadata": {},
          "execution_count": 1
        }
      ],
      "source": [
        "from sympy import Matrix\n",
        "\n",
        "# row vector\n",
        "Matrix(1,4,[1,2,3,4])"
      ]
    },
    {
      "cell_type": "code",
      "execution_count": null,
      "id": "5832d067-7ef8-4fe2-b800-554be97ccc68",
      "metadata": {
        "tags": [],
        "id": "5832d067-7ef8-4fe2-b800-554be97ccc68",
        "outputId": "b1458b10-7363-40ed-e90e-908ee79613d7",
        "colab": {
          "base_uri": "https://localhost:8080/",
          "height": 98
        }
      },
      "outputs": [
        {
          "output_type": "execute_result",
          "data": {
            "text/plain": [
              "Matrix([\n",
              "[1],\n",
              "[2],\n",
              "[3],\n",
              "[4]])"
            ],
            "text/latex": "$\\displaystyle \\left[\\begin{matrix}1\\\\2\\\\3\\\\4\\end{matrix}\\right]$"
          },
          "metadata": {},
          "execution_count": 2
        }
      ],
      "source": [
        "# column vector\n",
        "Matrix(4,1,[1,2,3,4])"
      ]
    },
    {
      "cell_type": "code",
      "execution_count": null,
      "id": "c6a309a6-cf8d-4469-954e-30512d4838aa",
      "metadata": {
        "tags": [],
        "id": "c6a309a6-cf8d-4469-954e-30512d4838aa",
        "outputId": "08c93191-6c87-402d-f7ce-0f0bf8684e1e",
        "colab": {
          "base_uri": "https://localhost:8080/",
          "height": 39
        }
      },
      "outputs": [
        {
          "output_type": "execute_result",
          "data": {
            "text/plain": [
              "Matrix([[1, 2, 3, 4]])"
            ],
            "text/latex": "$\\displaystyle \\left[\\begin{matrix}1 & 2 & 3 & 4\\end{matrix}\\right]$"
          },
          "metadata": {},
          "execution_count": 3
        }
      ],
      "source": [
        "# 벡터의 전치\n",
        "_.transpose()"
      ]
    },
    {
      "cell_type": "markdown",
      "id": "06140e98-e6cb-4c52-9e4d-b52feae818fb",
      "metadata": {
        "id": "06140e98-e6cb-4c52-9e4d-b52feae818fb"
      },
      "source": [
        "### 두 벡터 A=(1,2,3), B=(-2,3,-1)에 대해서 내적 A∙B 를 구하고, 두 벡터의 사이각을 구하여라."
      ]
    },
    {
      "cell_type": "code",
      "execution_count": null,
      "id": "1b22aff1-5278-4e6f-b7e6-96f1eb66773b",
      "metadata": {
        "tags": [],
        "id": "1b22aff1-5278-4e6f-b7e6-96f1eb66773b",
        "outputId": "d509d33b-e5f5-406f-c639-126fc033bcc8",
        "colab": {
          "base_uri": "https://localhost:8080/",
          "height": 38
        }
      },
      "outputs": [
        {
          "output_type": "execute_result",
          "data": {
            "text/plain": [
              "sqrt(14)"
            ],
            "text/latex": "$\\displaystyle \\sqrt{14}$"
          },
          "metadata": {},
          "execution_count": 4
        }
      ],
      "source": [
        "from sympy import Matrix\n",
        "\n",
        "A=Matrix(1,3,[1,2,3])\n",
        "A.norm() # A 벡터의 크기"
      ]
    },
    {
      "cell_type": "code",
      "execution_count": null,
      "id": "8dcacbce-7809-4b04-9a9f-4d40d53c6ec0",
      "metadata": {
        "tags": [],
        "id": "8dcacbce-7809-4b04-9a9f-4d40d53c6ec0",
        "outputId": "c2689fa3-6791-4da6-89f2-0cbc788d4eb2",
        "colab": {
          "base_uri": "https://localhost:8080/",
          "height": 37
        }
      },
      "outputs": [
        {
          "output_type": "execute_result",
          "data": {
            "text/plain": [
              "1"
            ],
            "text/latex": "$\\displaystyle 1$"
          },
          "metadata": {},
          "execution_count": 6
        }
      ],
      "source": [
        "# 벡터의 내적\n",
        "B=Matrix(1,3,[-2,3,-1])\n",
        "A.dot(B)"
      ]
    },
    {
      "cell_type": "code",
      "execution_count": null,
      "id": "c77b1f80-68eb-4c79-83bd-5b37583b7cc6",
      "metadata": {
        "tags": [],
        "id": "c77b1f80-68eb-4c79-83bd-5b37583b7cc6",
        "outputId": "803ba628-d4c3-4a8a-9a2e-6d2b2babf4a9",
        "colab": {
          "base_uri": "https://localhost:8080/",
          "height": 39
        }
      },
      "outputs": [
        {
          "output_type": "execute_result",
          "data": {
            "text/plain": [
              "Matrix([[1]])"
            ],
            "text/latex": "$\\displaystyle \\left[\\begin{matrix}1\\end{matrix}\\right]$"
          },
          "metadata": {},
          "execution_count": 7
        }
      ],
      "source": [
        "# 벡터의 내적 2\n",
        "A@B.transpose()"
      ]
    },
    {
      "cell_type": "code",
      "execution_count": null,
      "id": "e48a7568-04d2-4e54-b3ec-0b421ec441ce",
      "metadata": {
        "tags": [],
        "id": "e48a7568-04d2-4e54-b3ec-0b421ec441ce",
        "outputId": "36941c67-708b-4d6d-ea16-fdbd65d55883",
        "colab": {
          "base_uri": "https://localhost:8080/"
        }
      },
      "outputs": [
        {
          "output_type": "stream",
          "name": "stdout",
          "text": [
            "사이각(rad): 1.49930687690938\n",
            "사이각(deg): 85.9039562418477\n"
          ]
        }
      ],
      "source": [
        "# 두 벡터의 사잇각 구하기\n",
        "from sympy import deg, acos\n",
        "C_t=A.dot(B)/(A.norm()*B.norm())\n",
        "# 두 벡터의 사이각: radian\n",
        "print('사이각(rad):',acos(C_t).evalf())\n",
        "# 두 벡터의 사이각: degree\n",
        "print('사이각(deg):',deg(acos(C_t)).evalf())"
      ]
    },
    {
      "cell_type": "code",
      "execution_count": null,
      "id": "72f52684-d4b7-4f0c-a891-cb6640910809",
      "metadata": {
        "tags": [],
        "id": "72f52684-d4b7-4f0c-a891-cb6640910809",
        "outputId": "9ea2b117-4f06-42ad-a5cf-89d64ab8d0a0",
        "colab": {
          "base_uri": "https://localhost:8080/",
          "height": 39
        }
      },
      "outputs": [
        {
          "output_type": "execute_result",
          "data": {
            "text/plain": [
              "Matrix([[-1/7, 3/14, -1/14]])"
            ],
            "text/latex": "$\\displaystyle \\left[\\begin{matrix}- \\frac{1}{7} & \\frac{3}{14} & - \\frac{1}{14}\\end{matrix}\\right]$"
          },
          "metadata": {},
          "execution_count": 13
        }
      ],
      "source": [
        "# A벡터를 B벡터로 정사영시킨 벡터 BA\n",
        "BA=(A.dot(B))/(B.dot(B))*B\n",
        "BA"
      ]
    },
    {
      "cell_type": "code",
      "source": [
        "# B벡터를 A벡터로 정사영시킨 벡터 AB\n",
        "AB=(A.dot(B))/(A.dot(A))*A\n",
        "AB"
      ],
      "metadata": {
        "id": "H4QHunG-3v8r",
        "outputId": "891aeaf5-7c3b-45ef-a95b-f3da462f028a",
        "colab": {
          "base_uri": "https://localhost:8080/",
          "height": 39
        }
      },
      "id": "H4QHunG-3v8r",
      "execution_count": null,
      "outputs": [
        {
          "output_type": "execute_result",
          "data": {
            "text/plain": [
              "Matrix([[1/14, 1/7, 3/14]])"
            ],
            "text/latex": "$\\displaystyle \\left[\\begin{matrix}\\frac{1}{14} & \\frac{1}{7} & \\frac{3}{14}\\end{matrix}\\right]$"
          },
          "metadata": {},
          "execution_count": 14
        }
      ]
    },
    {
      "cell_type": "markdown",
      "id": "275dca5f-a222-4a7b-95f6-7c4eee1644eb",
      "metadata": {
        "id": "275dca5f-a222-4a7b-95f6-7c4eee1644eb"
      },
      "source": [
        "## \t두 벡터 A=(1,2,3), B=(-2,3,-1)에 대해서 외적 A×B를 구하여라."
      ]
    },
    {
      "cell_type": "code",
      "execution_count": null,
      "id": "2bec2e4b-127f-4bb3-aebd-aa5121c676ba",
      "metadata": {
        "tags": [],
        "id": "2bec2e4b-127f-4bb3-aebd-aa5121c676ba",
        "outputId": "9d37d51d-5c03-4ead-c878-6eede8f55033",
        "colab": {
          "base_uri": "https://localhost:8080/",
          "height": 39
        }
      },
      "outputs": [
        {
          "output_type": "execute_result",
          "data": {
            "text/plain": [
              "Matrix([[-11, -5, 7]])"
            ],
            "text/latex": "$\\displaystyle \\left[\\begin{matrix}-11 & -5 & 7\\end{matrix}\\right]$"
          },
          "metadata": {},
          "execution_count": 15
        }
      ],
      "source": [
        "## 벡터의 외적\n",
        "A=Matrix(1,3,[1,2,3])\n",
        "B=Matrix(1,3,[-2,3,-1])\n",
        "O1=A.cross(B)\n",
        "O1"
      ]
    },
    {
      "cell_type": "code",
      "execution_count": null,
      "id": "8b131c45-8fa9-4399-bb6a-502b6d927861",
      "metadata": {
        "tags": [],
        "id": "8b131c45-8fa9-4399-bb6a-502b6d927861",
        "outputId": "9c022028-086e-413d-8a12-76e259295891"
      },
      "outputs": [
        {
          "data": {
            "text/latex": [
              "$\\displaystyle 0$"
            ],
            "text/plain": [
              "0"
            ]
          },
          "execution_count": 14,
          "metadata": {},
          "output_type": "execute_result"
        }
      ],
      "source": [
        "# 외적 벡터의 크기 검증\n",
        "from sympy import acos,sin\n",
        "C_t=A.dot(B)/(A.norm()*B.norm())\n",
        "r=acos(C_t) # 두벡터의 사이각\n",
        "O1.norm()-A.norm()*B.norm()*sin(r)"
      ]
    },
    {
      "cell_type": "markdown",
      "source": [
        "# 함수의 직교성"
      ],
      "metadata": {
        "id": "1CPwMeBY4sqV"
      },
      "id": "1CPwMeBY4sqV"
    },
    {
      "cell_type": "code",
      "source": [
        "from sympy import symbols,integrate,pi,cos,sin\n",
        "\n",
        "m,n=symbols('m n',integer=True, positive=True)\n",
        "x=symbols('x',real=True)\n",
        "integrate(cos(n*x)*cos(m*x),(x,-pi,pi))"
      ],
      "metadata": {
        "id": "PxlhP8rO4q-n",
        "outputId": "338e8386-ac24-4478-e758-53fded6e86e5",
        "colab": {
          "base_uri": "https://localhost:8080/",
          "height": 68
        }
      },
      "id": "PxlhP8rO4q-n",
      "execution_count": null,
      "outputs": [
        {
          "output_type": "execute_result",
          "data": {
            "text/plain": [
              "Piecewise((0, Ne(m, n)), (pi, True))"
            ],
            "text/latex": "$\\displaystyle \\begin{cases} 0 & \\text{for}\\: m \\neq n \\\\\\pi & \\text{otherwise} \\end{cases}$"
          },
          "metadata": {},
          "execution_count": 17
        }
      ]
    },
    {
      "cell_type": "code",
      "source": [
        "integrate(sin(n*x)*cos(m*x),(x,-pi,pi))"
      ],
      "metadata": {
        "id": "qoyyiBsa5KXZ",
        "outputId": "83c905e1-716c-4cf1-d727-76b7344d0bcc",
        "colab": {
          "base_uri": "https://localhost:8080/",
          "height": 37
        }
      },
      "id": "qoyyiBsa5KXZ",
      "execution_count": null,
      "outputs": [
        {
          "output_type": "execute_result",
          "data": {
            "text/plain": [
              "0"
            ],
            "text/latex": "$\\displaystyle 0$"
          },
          "metadata": {},
          "execution_count": 18
        }
      ]
    },
    {
      "cell_type": "code",
      "source": [
        "integrate(sin(n*x)*sin(m*x),(x,-pi,pi))"
      ],
      "metadata": {
        "id": "7AyP6Qji5OUo",
        "outputId": "b5267ec3-d56c-4bc4-f2a8-60b28fe43b75",
        "colab": {
          "base_uri": "https://localhost:8080/",
          "height": 68
        }
      },
      "id": "7AyP6Qji5OUo",
      "execution_count": null,
      "outputs": [
        {
          "output_type": "execute_result",
          "data": {
            "text/plain": [
              "Piecewise((0, Ne(m, n)), (pi, True))"
            ],
            "text/latex": "$\\displaystyle \\begin{cases} 0 & \\text{for}\\: m \\neq n \\\\\\pi & \\text{otherwise} \\end{cases}$"
          },
          "metadata": {},
          "execution_count": 19
        }
      ]
    },
    {
      "cell_type": "markdown",
      "source": [
        "# 푸리에 급수"
      ],
      "metadata": {
        "id": "f6hdeWZT5hNa"
      },
      "id": "f6hdeWZT5hNa"
    },
    {
      "cell_type": "code",
      "source": [
        "from sympy import symbols,exp,fourier_series,pi\n",
        "\n",
        "fx=exp(-abs(x))\n",
        "FF=fourier_series(fx,(x,-pi,pi))\n",
        "FF"
      ],
      "metadata": {
        "id": "7e9Z7RG25kY1",
        "outputId": "2c577273-21c5-4fcb-bb58-5fca8ea19e4a",
        "colab": {
          "base_uri": "https://localhost:8080/",
          "height": 56
        }
      },
      "id": "7e9Z7RG25kY1",
      "execution_count": null,
      "outputs": [
        {
          "output_type": "execute_result",
          "data": {
            "text/plain": [
              "FourierSeries(exp(-Abs(x)), (x, -pi, pi), ((2 - 2*exp(-pi))/(2*pi), SeqFormula((_n*sin(_n*pi)/(_n**2*exp(pi) + exp(pi)) + _n*exp(-pi)*sin(_n*pi)/(_n**2 + 1) - cos(_n*pi)/(_n**2*exp(pi) + exp(pi)) - exp(-pi)*cos(_n*pi)/(_n**2 + 1) + 2/(_n**2 + 1))*cos(_n*x)/pi, (_n, 1, oo)), SeqFormula(0, (_k, 1, oo))))"
            ],
            "text/latex": "$\\displaystyle \\frac{\\left(e^{- \\pi} + 1\\right) \\cos{\\left(x \\right)}}{\\pi} + \\frac{\\left(\\frac{2}{5} - \\frac{2}{5 e^{\\pi}}\\right) \\cos{\\left(2 x \\right)}}{\\pi} + \\frac{2 - \\frac{2}{e^{\\pi}}}{2 \\pi} + \\ldots$"
          },
          "metadata": {},
          "execution_count": 20
        }
      ]
    },
    {
      "cell_type": "code",
      "source": [
        "# 2개의 항 출력\n",
        "FF.truncate(2)"
      ],
      "metadata": {
        "id": "HOkxz_Ud7Cw6",
        "outputId": "a10bd24a-01fb-4220-f0e5-fbc9a469fae1",
        "colab": {
          "base_uri": "https://localhost:8080/",
          "height": 55
        }
      },
      "id": "HOkxz_Ud7Cw6",
      "execution_count": null,
      "outputs": [
        {
          "output_type": "execute_result",
          "data": {
            "text/plain": [
              "(exp(-pi) + 1)*cos(x)/pi + (2 - 2*exp(-pi))/(2*pi)"
            ],
            "text/latex": "$\\displaystyle \\frac{\\left(e^{- \\pi} + 1\\right) \\cos{\\left(x \\right)}}{\\pi} + \\frac{2 - \\frac{2}{e^{\\pi}}}{2 \\pi}$"
          },
          "metadata": {},
          "execution_count": 26
        }
      ]
    },
    {
      "cell_type": "code",
      "source": [
        "from sympy import plot\n",
        "\n",
        "plot(fx,FF.truncate(3),(x,-pi,pi))"
      ],
      "metadata": {
        "id": "BOLd6wZO6mvv",
        "outputId": "acf62c13-37da-4522-e702-261689071de1",
        "colab": {
          "base_uri": "https://localhost:8080/",
          "height": 504
        }
      },
      "id": "BOLd6wZO6mvv",
      "execution_count": null,
      "outputs": [
        {
          "output_type": "display_data",
          "data": {
            "text/plain": [
              "<Figure size 640x480 with 1 Axes>"
            ],
            "image/png": "[encoded data removed]"
          },
          "metadata": {}
        },
        {
          "output_type": "execute_result",
          "data": {
            "text/plain": [
              "<sympy.plotting.backends.matplotlibbackend.matplotlib.MatplotlibBackend at 0x7c8654f13390>"
            ]
          },
          "metadata": {},
          "execution_count": 21
        }
      ]
    },
    {
      "cell_type": "markdown",
      "id": "02524099-604c-4a89-a9a7-0f47962cad6c",
      "metadata": {
        "id": "02524099-604c-4a89-a9a7-0f47962cad6c"
      },
      "source": [
        "# 행렬의 정의와 표현"
      ]
    },
    {
      "cell_type": "code",
      "execution_count": null,
      "id": "4d8d988b-8515-49cd-9dee-781edf35518a",
      "metadata": {
        "id": "4d8d988b-8515-49cd-9dee-781edf35518a",
        "outputId": "0b94af63-b561-419a-b7fb-434f6dbd35d7",
        "colab": {
          "base_uri": "https://localhost:8080/",
          "height": 58
        }
      },
      "outputs": [
        {
          "output_type": "execute_result",
          "data": {
            "text/plain": [
              "Matrix([\n",
              "[6, 9, 6],\n",
              "[1, 1, 2]])"
            ],
            "text/latex": "$\\displaystyle \\left[\\begin{matrix}6 & 9 & 6\\\\1 & 1 & 2\\end{matrix}\\right]$"
          },
          "metadata": {},
          "execution_count": 27
        }
      ],
      "source": [
        "from sympy import Matrix\n",
        "import numpy as np\n",
        "\n",
        "# 1부터 9까지의 정수 난수 6개 생성\n",
        "np.random.seed(1) # 난수 seed 고정\n",
        "D=np.random.randint(1,10,6)\n",
        "\n",
        "A=Matrix(2,3,D)\n",
        "A"
      ]
    },
    {
      "cell_type": "code",
      "execution_count": null,
      "id": "4006279b-379e-4522-b6f6-e9ab385cc021",
      "metadata": {
        "id": "4006279b-379e-4522-b6f6-e9ab385cc021",
        "outputId": "6e73fab8-570b-44ed-f667-9afe71fa1b59",
        "colab": {
          "base_uri": "https://localhost:8080/",
          "height": 37
        }
      },
      "outputs": [
        {
          "output_type": "execute_result",
          "data": {
            "text/plain": [
              "9"
            ],
            "text/latex": "$\\displaystyle 9$"
          },
          "metadata": {},
          "execution_count": 29
        }
      ],
      "source": [
        "# 인덱싱\n",
        "A[0,1]"
      ]
    },
    {
      "cell_type": "code",
      "execution_count": null,
      "id": "3b22b2ce-0fb0-4fb0-a671-22dbcdc99813",
      "metadata": {
        "id": "3b22b2ce-0fb0-4fb0-a671-22dbcdc99813",
        "outputId": "e62c1bdc-85b8-424f-ae53-bba10010f3bb",
        "colab": {
          "base_uri": "https://localhost:8080/"
        }
      },
      "outputs": [
        {
          "output_type": "execute_result",
          "data": {
            "text/plain": [
              "numpy.ndarray"
            ]
          },
          "metadata": {},
          "execution_count": 30
        }
      ],
      "source": [
        "# 데이터 타입 확인\n",
        "type(D)"
      ]
    },
    {
      "cell_type": "code",
      "execution_count": null,
      "id": "2d38ff58-79d8-4e9c-90a1-79322a8b881e",
      "metadata": {
        "id": "2d38ff58-79d8-4e9c-90a1-79322a8b881e",
        "outputId": "b4c59be1-0771-4e66-c7bb-dbd6bb0185c6",
        "colab": {
          "base_uri": "https://localhost:8080/"
        }
      },
      "outputs": [
        {
          "output_type": "execute_result",
          "data": {
            "text/plain": [
              "array([[6, 9, 6],\n",
              "       [1, 1, 2]])"
            ]
          },
          "metadata": {},
          "execution_count": 31
        }
      ],
      "source": [
        "np.array([[6,9,6],[1,1,2]])"
      ]
    },
    {
      "cell_type": "code",
      "execution_count": null,
      "id": "167d8d0b-2275-46fd-a01c-3732114495f2",
      "metadata": {
        "id": "167d8d0b-2275-46fd-a01c-3732114495f2",
        "outputId": "5900e2c6-436b-4b6f-b036-c5e10d6509ab",
        "colab": {
          "base_uri": "https://localhost:8080/",
          "height": 58
        }
      },
      "outputs": [
        {
          "output_type": "execute_result",
          "data": {
            "text/plain": [
              "Matrix([\n",
              "[6, 9, 6],\n",
              "[1, 1, 2]])"
            ],
            "text/latex": "$\\displaystyle \\left[\\begin{matrix}6 & 9 & 6\\\\1 & 1 & 2\\end{matrix}\\right]$"
          },
          "metadata": {},
          "execution_count": 32
        }
      ],
      "source": [
        "Matrix(_)"
      ]
    },
    {
      "cell_type": "code",
      "source": [
        "A"
      ],
      "metadata": {
        "id": "yDCz-OTN81n5",
        "outputId": "1772500b-e343-48a2-bd9f-fe21cb9203c5",
        "colab": {
          "base_uri": "https://localhost:8080/",
          "height": 58
        }
      },
      "id": "yDCz-OTN81n5",
      "execution_count": null,
      "outputs": [
        {
          "output_type": "execute_result",
          "data": {
            "text/plain": [
              "Matrix([\n",
              "[6, 9, 6],\n",
              "[1, 1, 2]])"
            ],
            "text/latex": "$\\displaystyle \\left[\\begin{matrix}6 & 9 & 6\\\\1 & 1 & 2\\end{matrix}\\right]$"
          },
          "metadata": {},
          "execution_count": 35
        }
      ]
    },
    {
      "cell_type": "code",
      "execution_count": null,
      "id": "844b7659-e9eb-4e03-bc7f-52b01abfe7ef",
      "metadata": {
        "tags": [],
        "id": "844b7659-e9eb-4e03-bc7f-52b01abfe7ef",
        "outputId": "b4b69e04-2eb5-4148-97a3-9806c1523d9e",
        "colab": {
          "base_uri": "https://localhost:8080/",
          "height": 78
        }
      },
      "outputs": [
        {
          "output_type": "execute_result",
          "data": {
            "text/plain": [
              "Matrix([\n",
              "[6, 1],\n",
              "[9, 1],\n",
              "[6, 2]])"
            ],
            "text/latex": "$\\displaystyle \\left[\\begin{matrix}6 & 1\\\\9 & 1\\\\6 & 2\\end{matrix}\\right]$"
          },
          "metadata": {},
          "execution_count": 33
        }
      ],
      "source": [
        "# 전치행렬\n",
        "At=A.transpose()\n",
        "At"
      ]
    },
    {
      "cell_type": "code",
      "execution_count": null,
      "id": "d14492c0-98a6-4363-a364-2740badf07c8",
      "metadata": {
        "id": "d14492c0-98a6-4363-a364-2740badf07c8",
        "outputId": "8f62c857-ab0b-4f7a-b97d-8bb25b3f3819",
        "colab": {
          "base_uri": "https://localhost:8080/",
          "height": 78
        }
      },
      "outputs": [
        {
          "output_type": "execute_result",
          "data": {
            "text/plain": [
              "Matrix([\n",
              "[6, 1],\n",
              "[9, 1],\n",
              "[6, 2]])"
            ],
            "text/latex": "$\\displaystyle \\left[\\begin{matrix}6 & 1\\\\9 & 1\\\\6 & 2\\end{matrix}\\right]$"
          },
          "metadata": {},
          "execution_count": 34
        }
      ],
      "source": [
        "A.T"
      ]
    },
    {
      "cell_type": "code",
      "source": [
        "# 단위행렬(identity matrix)\n",
        "from sympy import eye\n",
        "eye(4)"
      ],
      "metadata": {
        "id": "05avkc_I9Eow",
        "outputId": "8cb088e0-e132-4b7f-be3f-a5f45dbf085d",
        "colab": {
          "base_uri": "https://localhost:8080/",
          "height": 98
        }
      },
      "id": "05avkc_I9Eow",
      "execution_count": null,
      "outputs": [
        {
          "output_type": "execute_result",
          "data": {
            "text/plain": [
              "Matrix([\n",
              "[1, 0, 0, 0],\n",
              "[0, 1, 0, 0],\n",
              "[0, 0, 1, 0],\n",
              "[0, 0, 0, 1]])"
            ],
            "text/latex": "$\\displaystyle \\left[\\begin{matrix}1 & 0 & 0 & 0\\\\0 & 1 & 0 & 0\\\\0 & 0 & 1 & 0\\\\0 & 0 & 0 & 1\\end{matrix}\\right]$"
          },
          "metadata": {},
          "execution_count": 36
        }
      ]
    },
    {
      "cell_type": "code",
      "source": [
        "eye(5)"
      ],
      "metadata": {
        "id": "M7AXXxlW9PaN",
        "outputId": "b107e702-5679-4c41-e81d-f91b82cf238c",
        "colab": {
          "base_uri": "https://localhost:8080/",
          "height": 119
        }
      },
      "id": "M7AXXxlW9PaN",
      "execution_count": null,
      "outputs": [
        {
          "output_type": "execute_result",
          "data": {
            "text/plain": [
              "Matrix([\n",
              "[1, 0, 0, 0, 0],\n",
              "[0, 1, 0, 0, 0],\n",
              "[0, 0, 1, 0, 0],\n",
              "[0, 0, 0, 1, 0],\n",
              "[0, 0, 0, 0, 1]])"
            ],
            "text/latex": "$\\displaystyle \\left[\\begin{matrix}1 & 0 & 0 & 0 & 0\\\\0 & 1 & 0 & 0 & 0\\\\0 & 0 & 1 & 0 & 0\\\\0 & 0 & 0 & 1 & 0\\\\0 & 0 & 0 & 0 & 1\\end{matrix}\\right]$"
          },
          "metadata": {},
          "execution_count": 37
        }
      ]
    },
    {
      "cell_type": "code",
      "source": [
        "# 영행렬\n",
        "from sympy import zeros\n",
        "zeros(2,3)"
      ],
      "metadata": {
        "id": "hx6argss9bAH",
        "outputId": "fbce7b24-ce5b-4ffc-ade8-fa8b6825255a",
        "colab": {
          "base_uri": "https://localhost:8080/",
          "height": 58
        }
      },
      "id": "hx6argss9bAH",
      "execution_count": null,
      "outputs": [
        {
          "output_type": "execute_result",
          "data": {
            "text/plain": [
              "Matrix([\n",
              "[0, 0, 0],\n",
              "[0, 0, 0]])"
            ],
            "text/latex": "$\\displaystyle \\left[\\begin{matrix}0 & 0 & 0\\\\0 & 0 & 0\\end{matrix}\\right]$"
          },
          "metadata": {},
          "execution_count": 38
        }
      ]
    },
    {
      "cell_type": "code",
      "source": [
        "# 대칭행렬\n",
        "A=Matrix(3,3,[1,-2,3,-2,3,5,3,5,-10])\n",
        "A"
      ],
      "metadata": {
        "id": "09GZRbZSXgSr",
        "outputId": "f5a718a5-471a-4ede-dc66-38e1500be45a",
        "colab": {
          "base_uri": "https://localhost:8080/",
          "height": 78
        }
      },
      "id": "09GZRbZSXgSr",
      "execution_count": 90,
      "outputs": [
        {
          "output_type": "execute_result",
          "data": {
            "text/plain": [
              "Matrix([\n",
              "[ 1, -2,   3],\n",
              "[-2,  3,   5],\n",
              "[ 3,  5, -10]])"
            ],
            "text/latex": "$\\displaystyle \\left[\\begin{matrix}1 & -2 & 3\\\\-2 & 3 & 5\\\\3 & 5 & -10\\end{matrix}\\right]$"
          },
          "metadata": {},
          "execution_count": 90
        }
      ]
    },
    {
      "cell_type": "code",
      "source": [
        "A.T"
      ],
      "metadata": {
        "id": "2FkkSq4NX08P",
        "outputId": "2eda6bb5-e94c-4cc2-ba56-b918695ccf65",
        "colab": {
          "base_uri": "https://localhost:8080/",
          "height": 78
        }
      },
      "id": "2FkkSq4NX08P",
      "execution_count": 91,
      "outputs": [
        {
          "output_type": "execute_result",
          "data": {
            "text/plain": [
              "Matrix([\n",
              "[ 1, -2,   3],\n",
              "[-2,  3,   5],\n",
              "[ 3,  5, -10]])"
            ],
            "text/latex": "$\\displaystyle \\left[\\begin{matrix}1 & -2 & 3\\\\-2 & 3 & 5\\\\3 & 5 & -10\\end{matrix}\\right]$"
          },
          "metadata": {},
          "execution_count": 91
        }
      ]
    },
    {
      "cell_type": "markdown",
      "id": "f44e9a4e-bc9c-4a0b-b387-d2edcb2fef62",
      "metadata": {
        "id": "f44e9a4e-bc9c-4a0b-b387-d2edcb2fef62"
      },
      "source": [
        "## (행렬의 곱) -5부터 5까지의 정수의 난수로 작성된 4 by 4 행렬 A,B를 작성하고 두 행렬의 곱 AB를 구하여라."
      ]
    },
    {
      "cell_type": "code",
      "execution_count": null,
      "id": "51c87f12-618a-4e9a-b912-78e5e206fcd4",
      "metadata": {
        "tags": [],
        "id": "51c87f12-618a-4e9a-b912-78e5e206fcd4"
      },
      "outputs": [],
      "source": [
        "import numpy as np\n",
        "np.random.seed(10)\n",
        "A=np.random.randint(-5,6,size=(4,4))\n",
        "B=np.random.randint(-5,6,size=(4,4))"
      ]
    },
    {
      "cell_type": "code",
      "execution_count": null,
      "id": "d0428c1d-48fd-4102-a63a-b6a6277a4cfe",
      "metadata": {
        "tags": [],
        "id": "d0428c1d-48fd-4102-a63a-b6a6277a4cfe",
        "outputId": "8880be14-92b1-4c8d-f06d-a5fbb0a54e4a",
        "colab": {
          "base_uri": "https://localhost:8080/",
          "height": 98
        }
      },
      "outputs": [
        {
          "output_type": "execute_result",
          "data": {
            "text/plain": [
              "Matrix([\n",
              "[4, -1, -5, -4],\n",
              "[4, -5, -4,  5],\n",
              "[3,  4, -5,  5],\n",
              "[3,  1, -1, -2]])"
            ],
            "text/latex": "$\\displaystyle \\left[\\begin{matrix}4 & -1 & -5 & -4\\\\4 & -5 & -4 & 5\\\\3 & 4 & -5 & 5\\\\3 & 1 & -1 & -2\\end{matrix}\\right]$"
          },
          "metadata": {},
          "execution_count": 41
        }
      ],
      "source": [
        "Matrix(A)"
      ]
    },
    {
      "cell_type": "code",
      "execution_count": null,
      "id": "90191ff3-ed6e-4d5f-8006-05a27112fb29",
      "metadata": {
        "tags": [],
        "id": "90191ff3-ed6e-4d5f-8006-05a27112fb29",
        "outputId": "148c2049-e4a8-4051-9560-2e9f93b838e6",
        "colab": {
          "base_uri": "https://localhost:8080/",
          "height": 98
        }
      },
      "outputs": [
        {
          "output_type": "execute_result",
          "data": {
            "text/plain": [
              "Matrix([\n",
              "[-5, -1, 1,  3],\n",
              "[ 5, -4, 3, -1],\n",
              "[-4, -2, 1,  0],\n",
              "[-2,  4, 1,  4]])"
            ],
            "text/latex": "$\\displaystyle \\left[\\begin{matrix}-5 & -1 & 1 & 3\\\\5 & -4 & 3 & -1\\\\-4 & -2 & 1 & 0\\\\-2 & 4 & 1 & 4\\end{matrix}\\right]$"
          },
          "metadata": {},
          "execution_count": 42
        }
      ],
      "source": [
        "Matrix(B)"
      ]
    },
    {
      "cell_type": "code",
      "execution_count": null,
      "id": "18efc7c2-932e-4b16-b5ba-0526f348d3ad",
      "metadata": {
        "tags": [],
        "id": "18efc7c2-932e-4b16-b5ba-0526f348d3ad",
        "outputId": "1650ebcb-6b2d-4d5e-95f2-82f8970670f4",
        "colab": {
          "base_uri": "https://localhost:8080/",
          "height": 98
        }
      },
      "outputs": [
        {
          "output_type": "execute_result",
          "data": {
            "text/plain": [
              "Matrix([\n",
              "[  3,  -6,  -8, -3],\n",
              "[-39,  44, -10, 37],\n",
              "[ 15,  11,  15, 25],\n",
              "[ -2, -13,   3,  0]])"
            ],
            "text/latex": "$\\displaystyle \\left[\\begin{matrix}3 & -6 & -8 & -3\\\\-39 & 44 & -10 & 37\\\\15 & 11 & 15 & 25\\\\-2 & -13 & 3 & 0\\end{matrix}\\right]$"
          },
          "metadata": {},
          "execution_count": 43
        }
      ],
      "source": [
        "# 두 행렬의 곱\n",
        "Matrix(A@B)"
      ]
    },
    {
      "cell_type": "code",
      "execution_count": null,
      "id": "f00cc81a-97ad-4f96-a86f-f34769a1cedf",
      "metadata": {
        "tags": [],
        "id": "f00cc81a-97ad-4f96-a86f-f34769a1cedf",
        "outputId": "ae7a8b5f-7e69-4de0-a656-fee6965c7b6c",
        "colab": {
          "base_uri": "https://localhost:8080/",
          "height": 98
        }
      },
      "outputs": [
        {
          "output_type": "execute_result",
          "data": {
            "text/plain": [
              "Matrix([\n",
              "[-20,  1,  -5, -12],\n",
              "[ 20, 20, -12,  -5],\n",
              "[-12, -8,  -5,   0],\n",
              "[ -6,  4,  -1,  -8]])"
            ],
            "text/latex": "$\\displaystyle \\left[\\begin{matrix}-20 & 1 & -5 & -12\\\\20 & 20 & -12 & -5\\\\-12 & -8 & -5 & 0\\\\-6 & 4 & -1 & -8\\end{matrix}\\right]$"
          },
          "metadata": {},
          "execution_count": 45
        }
      ],
      "source": [
        "# 같은 위치의 원소의 곱\n",
        "# Hadamard Product\n",
        "Matrix(A*B)"
      ]
    },
    {
      "cell_type": "code",
      "execution_count": null,
      "id": "daba5ca3-f5ca-4a2b-9e1f-1466df064f96",
      "metadata": {
        "tags": [],
        "id": "daba5ca3-f5ca-4a2b-9e1f-1466df064f96",
        "outputId": "18980375-91ca-415c-81d5-2b929187c900",
        "colab": {
          "base_uri": "https://localhost:8080/",
          "height": 98
        }
      },
      "outputs": [
        {
          "output_type": "execute_result",
          "data": {
            "text/plain": [
              "Matrix([\n",
              "[-12,  17,  21,  14],\n",
              "[ 10,  26, -23, -23],\n",
              "[-21,  18,  23,  11],\n",
              "[ 23, -10, -15,  25]])"
            ],
            "text/latex": "$\\displaystyle \\left[\\begin{matrix}-12 & 17 & 21 & 14\\\\10 & 26 & -23 & -23\\\\-21 & 18 & 23 & 11\\\\23 & -10 & -15 & 25\\end{matrix}\\right]$"
          },
          "metadata": {},
          "execution_count": 46
        }
      ],
      "source": [
        "# AB와 BA는 다르다\n",
        "Matrix(B@A)"
      ]
    },
    {
      "cell_type": "code",
      "source": [
        "# 행렬의 곱의 전치\n",
        "from sympy import MatrixSymbol, symbols\n",
        "\n",
        "m,n,p=symbols('m n p',integer=True, positive=True)\n",
        "# 행렬변수 정의\n",
        "A = MatrixSymbol('A', m, n)  # A is a mxn matrix\n",
        "B = MatrixSymbol('B', n, p)  # B is a nxp matrix\n",
        "\n",
        "# (AB)^T 계산\n",
        "AB = A @ B\n",
        "AB_T = AB.T\n",
        "AB_T\n"
      ],
      "metadata": {
        "id": "twHJlaFQDq--",
        "outputId": "31a7bb33-8415-4421-d853-067ce7d39fc9",
        "colab": {
          "base_uri": "https://localhost:8080/",
          "height": 39
        }
      },
      "id": "twHJlaFQDq--",
      "execution_count": 54,
      "outputs": [
        {
          "output_type": "execute_result",
          "data": {
            "text/plain": [
              "B.T*A.T"
            ],
            "text/latex": "$\\displaystyle B^{T} A^{T}$"
          },
          "metadata": {},
          "execution_count": 54
        }
      ]
    },
    {
      "cell_type": "code",
      "source": [
        "# B^T A^T 계산\n",
        "BT_AT = B.T @ A.T\n",
        "\n",
        "# 결과비교\n",
        "proof = AB_T - BT_AT\n",
        "proof"
      ],
      "metadata": {
        "id": "xEmZEwYbEoaH",
        "outputId": "62407954-cc7a-4cfa-f6c5-2f3215788405",
        "colab": {
          "base_uri": "https://localhost:8080/",
          "height": 37
        }
      },
      "id": "xEmZEwYbEoaH",
      "execution_count": 53,
      "outputs": [
        {
          "output_type": "execute_result",
          "data": {
            "text/plain": [
              "0"
            ],
            "text/latex": "$\\displaystyle 0$"
          },
          "metadata": {},
          "execution_count": 53
        }
      ]
    },
    {
      "cell_type": "markdown",
      "source": [
        "# Diagonal Matrix"
      ],
      "metadata": {
        "id": "KJw001duFHwQ"
      },
      "id": "KJw001duFHwQ"
    },
    {
      "cell_type": "code",
      "source": [
        "from sympy import diag\n",
        "\n",
        "# 대각행렬의 표현\n",
        "D=diag(1,2,3)\n",
        "D"
      ],
      "metadata": {
        "id": "b0u9L07UFGsM",
        "outputId": "8a1b714a-fe2a-449f-d747-e1c09096f20b",
        "colab": {
          "base_uri": "https://localhost:8080/",
          "height": 78
        }
      },
      "id": "b0u9L07UFGsM",
      "execution_count": 56,
      "outputs": [
        {
          "output_type": "execute_result",
          "data": {
            "text/plain": [
              "Matrix([\n",
              "[1, 0, 0],\n",
              "[0, 2, 0],\n",
              "[0, 0, 3]])"
            ],
            "text/latex": "$\\displaystyle \\left[\\begin{matrix}1 & 0 & 0\\\\0 & 2 & 0\\\\0 & 0 & 3\\end{matrix}\\right]$"
          },
          "metadata": {},
          "execution_count": 56
        }
      ]
    },
    {
      "cell_type": "code",
      "source": [
        "n=symbols('n',integer=True,positive=True)\n",
        "D.pow(n)"
      ],
      "metadata": {
        "id": "SfflZVO9GCNG",
        "outputId": "36fea2bc-d859-4c07-824e-8717f7fb60dd",
        "colab": {
          "base_uri": "https://localhost:8080/",
          "height": 78
        }
      },
      "id": "SfflZVO9GCNG",
      "execution_count": 65,
      "outputs": [
        {
          "output_type": "execute_result",
          "data": {
            "text/plain": [
              "Matrix([\n",
              "[1,    0,    0],\n",
              "[0, 2**n,    0],\n",
              "[0,    0, 3**n]])"
            ],
            "text/latex": "$\\displaystyle \\left[\\begin{matrix}1 & 0 & 0\\\\0 & 2^{n} & 0\\\\0 & 0 & 3^{n}\\end{matrix}\\right]$"
          },
          "metadata": {},
          "execution_count": 65
        }
      ]
    },
    {
      "cell_type": "code",
      "source": [
        "# 대각원소의 추출\n",
        "A=Matrix(np.random.randint(-5,6,size=(4,4)))\n",
        "A"
      ],
      "metadata": {
        "id": "tLcOtzIIFiUr",
        "outputId": "4fd16690-93f7-4e2b-f7ce-fedacb981135",
        "colab": {
          "base_uri": "https://localhost:8080/",
          "height": 98
        }
      },
      "id": "tLcOtzIIFiUr",
      "execution_count": 61,
      "outputs": [
        {
          "output_type": "execute_result",
          "data": {
            "text/plain": [
              "Matrix([\n",
              "[1,  1,  0, 5],\n",
              "[1, -5, -5, 1],\n",
              "[4, -4,  3, 5],\n",
              "[4, -4, -3, 3]])"
            ],
            "text/latex": "$\\displaystyle \\left[\\begin{matrix}1 & 1 & 0 & 5\\\\1 & -5 & -5 & 1\\\\4 & -4 & 3 & 5\\\\4 & -4 & -3 & 3\\end{matrix}\\right]$"
          },
          "metadata": {},
          "execution_count": 61
        }
      ]
    },
    {
      "cell_type": "code",
      "source": [
        "A.diagonal()"
      ],
      "metadata": {
        "id": "9j0OayMaFulC",
        "outputId": "de7845c5-7162-4e2a-b57f-34d2cc9f7ae7",
        "colab": {
          "base_uri": "https://localhost:8080/",
          "height": 39
        }
      },
      "id": "9j0OayMaFulC",
      "execution_count": 66,
      "outputs": [
        {
          "output_type": "execute_result",
          "data": {
            "text/plain": [
              "Matrix([[1, -5, 3, 3]])"
            ],
            "text/latex": "$\\displaystyle \\left[\\begin{matrix}1 & -5 & 3 & 3\\end{matrix}\\right]$"
          },
          "metadata": {},
          "execution_count": 66
        }
      ]
    },
    {
      "cell_type": "markdown",
      "source": [
        "# 행렬과 벡터의 곱"
      ],
      "metadata": {
        "id": "Hu-LZeUNJkAs"
      },
      "id": "Hu-LZeUNJkAs"
    },
    {
      "cell_type": "code",
      "source": [
        "# 행렬의 오른쪽에서 곱하면 앞 행렬의 열 연산\n",
        "A=Matrix(np.random.randint(-5,6,size=(3,3)))\n",
        "A"
      ],
      "metadata": {
        "id": "2MgdbINCJoLT",
        "outputId": "175c9ae9-84a4-4ab7-dda6-7fb5f325af87",
        "colab": {
          "base_uri": "https://localhost:8080/",
          "height": 78
        }
      },
      "id": "2MgdbINCJoLT",
      "execution_count": 67,
      "outputs": [
        {
          "output_type": "execute_result",
          "data": {
            "text/plain": [
              "Matrix([\n",
              "[ 4,  4,  0],\n",
              "[-5, -3,  2],\n",
              "[-2, -5, -1]])"
            ],
            "text/latex": "$\\displaystyle \\left[\\begin{matrix}4 & 4 & 0\\\\-5 & -3 & 2\\\\-2 & -5 & -1\\end{matrix}\\right]$"
          },
          "metadata": {},
          "execution_count": 67
        }
      ]
    },
    {
      "cell_type": "code",
      "source": [
        "b=Matrix(3,1,[1,2,3])\n",
        "b"
      ],
      "metadata": {
        "id": "4so1WNAoK0oe",
        "outputId": "d1cab6f6-a5ad-4afd-c99e-349db662c186",
        "colab": {
          "base_uri": "https://localhost:8080/",
          "height": 78
        }
      },
      "id": "4so1WNAoK0oe",
      "execution_count": 68,
      "outputs": [
        {
          "output_type": "execute_result",
          "data": {
            "text/plain": [
              "Matrix([\n",
              "[1],\n",
              "[2],\n",
              "[3]])"
            ],
            "text/latex": "$\\displaystyle \\left[\\begin{matrix}1\\\\2\\\\3\\end{matrix}\\right]$"
          },
          "metadata": {},
          "execution_count": 68
        }
      ]
    },
    {
      "cell_type": "code",
      "source": [
        "A@b"
      ],
      "metadata": {
        "id": "l0eZjl8QK6Pi",
        "outputId": "2e35a1c0-c754-48af-b1a5-a3452321c277",
        "colab": {
          "base_uri": "https://localhost:8080/",
          "height": 78
        }
      },
      "id": "l0eZjl8QK6Pi",
      "execution_count": 69,
      "outputs": [
        {
          "output_type": "execute_result",
          "data": {
            "text/plain": [
              "Matrix([\n",
              "[ 12],\n",
              "[ -5],\n",
              "[-15]])"
            ],
            "text/latex": "$\\displaystyle \\left[\\begin{matrix}12\\\\-5\\\\-15\\end{matrix}\\right]$"
          },
          "metadata": {},
          "execution_count": 69
        }
      ]
    },
    {
      "cell_type": "code",
      "source": [
        "S=zeros(A.rows,1)\n",
        "for i in range(len(b)):\n",
        "  S += A[:,i]*b[i]\n",
        "S"
      ],
      "metadata": {
        "id": "DQqkbYI5K8Xz",
        "outputId": "76ad1dc8-e53d-46d6-b89c-0dc14040f624",
        "colab": {
          "base_uri": "https://localhost:8080/",
          "height": 78
        }
      },
      "id": "DQqkbYI5K8Xz",
      "execution_count": 73,
      "outputs": [
        {
          "output_type": "execute_result",
          "data": {
            "text/plain": [
              "Matrix([\n",
              "[ 12],\n",
              "[ -5],\n",
              "[-15]])"
            ],
            "text/latex": "$\\displaystyle \\left[\\begin{matrix}12\\\\-5\\\\-15\\end{matrix}\\right]$"
          },
          "metadata": {},
          "execution_count": 73
        }
      ]
    },
    {
      "cell_type": "code",
      "source": [
        "# 행렬의 왼쪽에서 곱하면 뒤 행렬의 행 연산\n",
        "A=Matrix(np.random.randint(-5,6,size=(3,3)))\n",
        "A"
      ],
      "metadata": {
        "id": "bhSnDy89NSf1",
        "outputId": "7c2ff974-7ca8-41ae-f168-51f50408aa03",
        "colab": {
          "base_uri": "https://localhost:8080/",
          "height": 78
        }
      },
      "id": "bhSnDy89NSf1",
      "execution_count": 74,
      "outputs": [
        {
          "output_type": "execute_result",
          "data": {
            "text/plain": [
              "Matrix([\n",
              "[-3, -5, -2],\n",
              "[-2, -4, -3],\n",
              "[ 0,  4, -5]])"
            ],
            "text/latex": "$\\displaystyle \\left[\\begin{matrix}-3 & -5 & -2\\\\-2 & -4 & -3\\\\0 & 4 & -5\\end{matrix}\\right]$"
          },
          "metadata": {},
          "execution_count": 74
        }
      ]
    },
    {
      "cell_type": "code",
      "source": [
        "b=Matrix(1,3,[1,2,3])\n",
        "b"
      ],
      "metadata": {
        "id": "mFbHAmlBNb2Z",
        "outputId": "c08b1b7e-3379-41eb-d907-238197a6bb3b",
        "colab": {
          "base_uri": "https://localhost:8080/",
          "height": 39
        }
      },
      "id": "mFbHAmlBNb2Z",
      "execution_count": 77,
      "outputs": [
        {
          "output_type": "execute_result",
          "data": {
            "text/plain": [
              "Matrix([[1, 2, 3]])"
            ],
            "text/latex": "$\\displaystyle \\left[\\begin{matrix}1 & 2 & 3\\end{matrix}\\right]$"
          },
          "metadata": {},
          "execution_count": 77
        }
      ]
    },
    {
      "cell_type": "code",
      "source": [
        "b@A"
      ],
      "metadata": {
        "id": "wK6UuGj7Nj1l",
        "outputId": "4fcaeb34-4db7-48c9-fe02-b4356ef01ca3",
        "colab": {
          "base_uri": "https://localhost:8080/",
          "height": 39
        }
      },
      "id": "wK6UuGj7Nj1l",
      "execution_count": 78,
      "outputs": [
        {
          "output_type": "execute_result",
          "data": {
            "text/plain": [
              "Matrix([[-7, -1, -23]])"
            ],
            "text/latex": "$\\displaystyle \\left[\\begin{matrix}-7 & -1 & -23\\end{matrix}\\right]$"
          },
          "metadata": {},
          "execution_count": 78
        }
      ]
    },
    {
      "cell_type": "code",
      "source": [
        "S=zeros(1,A.cols)\n",
        "for i in range(len(b)):\n",
        "  S += A[i,:]*b[i]\n",
        "S"
      ],
      "metadata": {
        "id": "MUZrP4nlNlZM",
        "outputId": "21486ff2-d7a2-45ba-b7a1-ac22be9c43e3",
        "colab": {
          "base_uri": "https://localhost:8080/",
          "height": 39
        }
      },
      "id": "MUZrP4nlNlZM",
      "execution_count": 82,
      "outputs": [
        {
          "output_type": "execute_result",
          "data": {
            "text/plain": [
              "Matrix([[-7, -1, -23]])"
            ],
            "text/latex": "$\\displaystyle \\left[\\begin{matrix}-7 & -1 & -23\\end{matrix}\\right]$"
          },
          "metadata": {},
          "execution_count": 82
        }
      ]
    },
    {
      "cell_type": "markdown",
      "source": [
        "# Permutation Matrix"
      ],
      "metadata": {
        "id": "60Af5qULOS1H"
      },
      "id": "60Af5qULOS1H"
    },
    {
      "cell_type": "code",
      "source": [
        "D=np.array([i for i in range(1,10)])\n",
        "A=Matrix(3,3,D)\n",
        "A"
      ],
      "metadata": {
        "id": "K84g2hbfOWT4",
        "outputId": "b44feeab-177d-4542-d63b-dc71133f17bc",
        "colab": {
          "base_uri": "https://localhost:8080/",
          "height": 78
        }
      },
      "id": "K84g2hbfOWT4",
      "execution_count": 84,
      "outputs": [
        {
          "output_type": "execute_result",
          "data": {
            "text/plain": [
              "Matrix([\n",
              "[1, 2, 3],\n",
              "[4, 5, 6],\n",
              "[7, 8, 9]])"
            ],
            "text/latex": "$\\displaystyle \\left[\\begin{matrix}1 & 2 & 3\\\\4 & 5 & 6\\\\7 & 8 & 9\\end{matrix}\\right]$"
          },
          "metadata": {},
          "execution_count": 84
        }
      ]
    },
    {
      "cell_type": "code",
      "source": [
        "P=Matrix([[0,1,0],[1,0,0],[0,0,1]])\n",
        "P"
      ],
      "metadata": {
        "id": "aCuqbsm1O2q7",
        "outputId": "e97f6382-c881-40ff-9066-6417810a39f8",
        "colab": {
          "base_uri": "https://localhost:8080/",
          "height": 78
        }
      },
      "id": "aCuqbsm1O2q7",
      "execution_count": 85,
      "outputs": [
        {
          "output_type": "execute_result",
          "data": {
            "text/plain": [
              "Matrix([\n",
              "[0, 1, 0],\n",
              "[1, 0, 0],\n",
              "[0, 0, 1]])"
            ],
            "text/latex": "$\\displaystyle \\left[\\begin{matrix}0 & 1 & 0\\\\1 & 0 & 0\\\\0 & 0 & 1\\end{matrix}\\right]$"
          },
          "metadata": {},
          "execution_count": 85
        }
      ]
    },
    {
      "cell_type": "code",
      "source": [
        "# P행렬을 왼쪽에서 곱하면 A행렬의 행 위치를 변경\n",
        "P@A"
      ],
      "metadata": {
        "id": "7fag4dxtPB57",
        "outputId": "00fe0ea6-70a0-4703-9478-d4420f849e2f",
        "colab": {
          "base_uri": "https://localhost:8080/",
          "height": 78
        }
      },
      "id": "7fag4dxtPB57",
      "execution_count": 86,
      "outputs": [
        {
          "output_type": "execute_result",
          "data": {
            "text/plain": [
              "Matrix([\n",
              "[4, 5, 6],\n",
              "[1, 2, 3],\n",
              "[7, 8, 9]])"
            ],
            "text/latex": "$\\displaystyle \\left[\\begin{matrix}4 & 5 & 6\\\\1 & 2 & 3\\\\7 & 8 & 9\\end{matrix}\\right]$"
          },
          "metadata": {},
          "execution_count": 86
        }
      ]
    },
    {
      "cell_type": "code",
      "source": [
        "# P행렬을 오른쪽에서 곱하면 A행렬의 열 위치를 변경\n",
        "A@P"
      ],
      "metadata": {
        "id": "Libzw7JCPMmC",
        "outputId": "f5d6dba5-8108-4426-d453-d3948c826841",
        "colab": {
          "base_uri": "https://localhost:8080/",
          "height": 78
        }
      },
      "id": "Libzw7JCPMmC",
      "execution_count": 87,
      "outputs": [
        {
          "output_type": "execute_result",
          "data": {
            "text/plain": [
              "Matrix([\n",
              "[2, 1, 3],\n",
              "[5, 4, 6],\n",
              "[8, 7, 9]])"
            ],
            "text/latex": "$\\displaystyle \\left[\\begin{matrix}2 & 1 & 3\\\\5 & 4 & 6\\\\8 & 7 & 9\\end{matrix}\\right]$"
          },
          "metadata": {},
          "execution_count": 87
        }
      ]
    },
    {
      "cell_type": "markdown",
      "id": "604f0a78-59ac-47f0-904a-aebbf3a5dd72",
      "metadata": {
        "id": "604f0a78-59ac-47f0-904a-aebbf3a5dd72"
      },
      "source": [
        "## 정방행렬, 역행렬"
      ]
    },
    {
      "cell_type": "code",
      "execution_count": 92,
      "id": "7227b4b0-1d24-4dcb-90a3-1b9e1e728afc",
      "metadata": {
        "id": "7227b4b0-1d24-4dcb-90a3-1b9e1e728afc",
        "outputId": "6bae3ac4-3a03-4719-fdfd-a98bd7fde785",
        "colab": {
          "base_uri": "https://localhost:8080/",
          "height": 58
        }
      },
      "outputs": [
        {
          "output_type": "execute_result",
          "data": {
            "text/plain": [
              "Matrix([\n",
              "[1, 2],\n",
              "[3, 4]])"
            ],
            "text/latex": "$\\displaystyle \\left[\\begin{matrix}1 & 2\\\\3 & 4\\end{matrix}\\right]$"
          },
          "metadata": {},
          "execution_count": 92
        }
      ],
      "source": [
        "# Square matrix\n",
        "A=Matrix(2,2,[1,2,3,4])\n",
        "A"
      ]
    },
    {
      "cell_type": "code",
      "execution_count": 93,
      "id": "92a9fade-a5ec-4faa-a2ce-a91772e96acd",
      "metadata": {
        "id": "92a9fade-a5ec-4faa-a2ce-a91772e96acd",
        "outputId": "541418ce-93b4-4e4b-b364-fd55153fe185",
        "colab": {
          "base_uri": "https://localhost:8080/",
          "height": 58
        }
      },
      "outputs": [
        {
          "output_type": "execute_result",
          "data": {
            "text/plain": [
              "Matrix([\n",
              "[ -2,    1],\n",
              "[3/2, -1/2]])"
            ],
            "text/latex": "$\\displaystyle \\left[\\begin{matrix}-2 & 1\\\\\\frac{3}{2} & - \\frac{1}{2}\\end{matrix}\\right]$"
          },
          "metadata": {},
          "execution_count": 93
        }
      ],
      "source": [
        "# A의 역행렬\n",
        "X=A.inv()\n",
        "X"
      ]
    },
    {
      "cell_type": "code",
      "execution_count": 94,
      "id": "58725348-e3b4-4311-9b18-91058a7763ea",
      "metadata": {
        "id": "58725348-e3b4-4311-9b18-91058a7763ea",
        "outputId": "43b25eb7-d0f0-4c4d-96d9-271aa5c1bbcf",
        "colab": {
          "base_uri": "https://localhost:8080/",
          "height": 58
        }
      },
      "outputs": [
        {
          "output_type": "execute_result",
          "data": {
            "text/plain": [
              "Matrix([\n",
              "[1, 0],\n",
              "[0, 1]])"
            ],
            "text/latex": "$\\displaystyle \\left[\\begin{matrix}1 & 0\\\\0 & 1\\end{matrix}\\right]$"
          },
          "metadata": {},
          "execution_count": 94
        }
      ],
      "source": [
        "A@X"
      ]
    },
    {
      "cell_type": "code",
      "execution_count": 95,
      "id": "ff8abe9c-383c-4f79-9ce4-4f14a926e551",
      "metadata": {
        "id": "ff8abe9c-383c-4f79-9ce4-4f14a926e551",
        "outputId": "7b9b879d-69bf-4119-e2cf-bc40eac2d02b",
        "colab": {
          "base_uri": "https://localhost:8080/",
          "height": 58
        }
      },
      "outputs": [
        {
          "output_type": "execute_result",
          "data": {
            "text/plain": [
              "Matrix([\n",
              "[1, 0],\n",
              "[0, 1]])"
            ],
            "text/latex": "$\\displaystyle \\left[\\begin{matrix}1 & 0\\\\0 & 1\\end{matrix}\\right]$"
          },
          "metadata": {},
          "execution_count": 95
        }
      ],
      "source": [
        "X@A"
      ]
    },
    {
      "cell_type": "markdown",
      "source": [
        "## Inverse of a permutation matrix"
      ],
      "metadata": {
        "id": "-0N2TbRuZHhF"
      },
      "id": "-0N2TbRuZHhF"
    },
    {
      "cell_type": "code",
      "source": [
        "P=Matrix([[0,1,0],[1,0,0],[0,0,1]])\n",
        "P"
      ],
      "metadata": {
        "id": "Y3W0kuI0ZMF9",
        "outputId": "00e57d4e-42c9-4a65-e8b2-d40c3a687bd3",
        "colab": {
          "base_uri": "https://localhost:8080/",
          "height": 78
        }
      },
      "id": "Y3W0kuI0ZMF9",
      "execution_count": 96,
      "outputs": [
        {
          "output_type": "execute_result",
          "data": {
            "text/plain": [
              "Matrix([\n",
              "[0, 1, 0],\n",
              "[1, 0, 0],\n",
              "[0, 0, 1]])"
            ],
            "text/latex": "$\\displaystyle \\left[\\begin{matrix}0 & 1 & 0\\\\1 & 0 & 0\\\\0 & 0 & 1\\end{matrix}\\right]$"
          },
          "metadata": {},
          "execution_count": 96
        }
      ]
    },
    {
      "cell_type": "code",
      "source": [
        "P@P.T"
      ],
      "metadata": {
        "id": "hqmPpuhAZfsh",
        "outputId": "a3cc8236-6a20-4ac4-da84-82896314f225",
        "colab": {
          "base_uri": "https://localhost:8080/",
          "height": 78
        }
      },
      "id": "hqmPpuhAZfsh",
      "execution_count": 99,
      "outputs": [
        {
          "output_type": "execute_result",
          "data": {
            "text/plain": [
              "Matrix([\n",
              "[1, 0, 0],\n",
              "[0, 1, 0],\n",
              "[0, 0, 1]])"
            ],
            "text/latex": "$\\displaystyle \\left[\\begin{matrix}1 & 0 & 0\\\\0 & 1 & 0\\\\0 & 0 & 1\\end{matrix}\\right]$"
          },
          "metadata": {},
          "execution_count": 99
        }
      ]
    },
    {
      "cell_type": "code",
      "source": [
        "P.inv()"
      ],
      "metadata": {
        "id": "WoFN8J4jZQiM",
        "outputId": "89537439-cf5c-408a-8924-a0a2d151c4d2",
        "colab": {
          "base_uri": "https://localhost:8080/",
          "height": 78
        }
      },
      "id": "WoFN8J4jZQiM",
      "execution_count": 97,
      "outputs": [
        {
          "output_type": "execute_result",
          "data": {
            "text/plain": [
              "Matrix([\n",
              "[0, 1, 0],\n",
              "[1, 0, 0],\n",
              "[0, 0, 1]])"
            ],
            "text/latex": "$\\displaystyle \\left[\\begin{matrix}0 & 1 & 0\\\\1 & 0 & 0\\\\0 & 0 & 1\\end{matrix}\\right]$"
          },
          "metadata": {},
          "execution_count": 97
        }
      ]
    },
    {
      "cell_type": "code",
      "source": [
        "P.T"
      ],
      "metadata": {
        "id": "RhKOuASZZSw8",
        "outputId": "765ef060-11b6-4c61-afd9-0b49799dc9b2",
        "colab": {
          "base_uri": "https://localhost:8080/",
          "height": 78
        }
      },
      "id": "RhKOuASZZSw8",
      "execution_count": 98,
      "outputs": [
        {
          "output_type": "execute_result",
          "data": {
            "text/plain": [
              "Matrix([\n",
              "[0, 1, 0],\n",
              "[1, 0, 0],\n",
              "[0, 0, 1]])"
            ],
            "text/latex": "$\\displaystyle \\left[\\begin{matrix}0 & 1 & 0\\\\1 & 0 & 0\\\\0 & 0 & 1\\end{matrix}\\right]$"
          },
          "metadata": {},
          "execution_count": 98
        }
      ]
    },
    {
      "cell_type": "code",
      "source": [
        "# (AB)^-1\n",
        "A=Matrix(np.random.randint(-5,6,size=(3,3)))\n",
        "B=Matrix(np.random.randint(-5,6,size=(3,3)))\n",
        "(A@B).inv()"
      ],
      "metadata": {
        "id": "E6VeMuebgPAN",
        "outputId": "25ee150e-9b27-4282-822b-5edcaea5b272",
        "colab": {
          "base_uri": "https://localhost:8080/",
          "height": 78
        }
      },
      "id": "E6VeMuebgPAN",
      "execution_count": 110,
      "outputs": [
        {
          "output_type": "execute_result",
          "data": {
            "text/plain": [
              "Matrix([\n",
              "[ -3/28,   1/28, 1/12],\n",
              "[13/112, -9/112, 1/48],\n",
              "[  3/16,  -3/16, 1/48]])"
            ],
            "text/latex": "$\\displaystyle \\left[\\begin{matrix}- \\frac{3}{28} & \\frac{1}{28} & \\frac{1}{12}\\\\\\frac{13}{112} & - \\frac{9}{112} & \\frac{1}{48}\\\\\\frac{3}{16} & - \\frac{3}{16} & \\frac{1}{48}\\end{matrix}\\right]$"
          },
          "metadata": {},
          "execution_count": 110
        }
      ]
    },
    {
      "cell_type": "code",
      "source": [
        "B.inv()@A.inv()"
      ],
      "metadata": {
        "id": "FHErmVLzgTw4",
        "outputId": "d30f6fbe-b4c7-41e0-ce10-29772066e7d5",
        "colab": {
          "base_uri": "https://localhost:8080/",
          "height": 78
        }
      },
      "id": "FHErmVLzgTw4",
      "execution_count": 111,
      "outputs": [
        {
          "output_type": "execute_result",
          "data": {
            "text/plain": [
              "Matrix([\n",
              "[ -3/28,   1/28, 1/12],\n",
              "[13/112, -9/112, 1/48],\n",
              "[  3/16,  -3/16, 1/48]])"
            ],
            "text/latex": "$\\displaystyle \\left[\\begin{matrix}- \\frac{3}{28} & \\frac{1}{28} & \\frac{1}{12}\\\\\\frac{13}{112} & - \\frac{9}{112} & \\frac{1}{48}\\\\\\frac{3}{16} & - \\frac{3}{16} & \\frac{1}{48}\\end{matrix}\\right]$"
          },
          "metadata": {},
          "execution_count": 111
        }
      ]
    },
    {
      "cell_type": "markdown",
      "id": "ffebe520-db08-4918-b6c5-b2ac8f2f60a0",
      "metadata": {
        "id": "ffebe520-db08-4918-b6c5-b2ac8f2f60a0"
      },
      "source": [
        "## Elmentary Matrix"
      ]
    },
    {
      "cell_type": "code",
      "execution_count": 100,
      "id": "aab24c09-f081-47da-9aec-9e9c286ca14c",
      "metadata": {
        "tags": [],
        "id": "aab24c09-f081-47da-9aec-9e9c286ca14c",
        "outputId": "1c105412-7815-451a-9cf0-8979565993d9",
        "colab": {
          "base_uri": "https://localhost:8080/",
          "height": 78
        }
      },
      "outputs": [
        {
          "output_type": "execute_result",
          "data": {
            "text/plain": [
              "Matrix([\n",
              "[ 2,  2,  4],\n",
              "[ 8, -4,  8],\n",
              "[-4,  8, 16]])"
            ],
            "text/latex": "$\\displaystyle \\left[\\begin{matrix}2 & 2 & 4\\\\8 & -4 & 8\\\\-4 & 8 & 16\\end{matrix}\\right]$"
          },
          "metadata": {},
          "execution_count": 100
        }
      ],
      "source": [
        "import numpy as np\n",
        "from sympy import Matrix\n",
        "\n",
        "A=Matrix(3,3,[2,2,4,8,-4,8,-4,8,16])\n",
        "A"
      ]
    },
    {
      "cell_type": "code",
      "execution_count": 102,
      "id": "0dad5a92-68ad-45e0-89aa-804f2ddc70c2",
      "metadata": {
        "tags": [],
        "id": "0dad5a92-68ad-45e0-89aa-804f2ddc70c2",
        "outputId": "188951e8-7165-424e-f083-a218ed9ada31",
        "colab": {
          "base_uri": "https://localhost:8080/",
          "height": 78
        }
      },
      "outputs": [
        {
          "output_type": "execute_result",
          "data": {
            "text/plain": [
              "Matrix([\n",
              "[0.5, 0, 0],\n",
              "[  0, 1, 0],\n",
              "[  0, 0, 1]])"
            ],
            "text/latex": "$\\displaystyle \\left[\\begin{matrix}0.5 & 0 & 0\\\\0 & 1 & 0\\\\0 & 0 & 1\\end{matrix}\\right]$"
          },
          "metadata": {},
          "execution_count": 102
        }
      ],
      "source": [
        "# A 행렬의 첫 행만 0.5배\n",
        "E=Matrix(3,3,[0.5,0,0,0,1,0,0,0,1])\n",
        "E"
      ]
    },
    {
      "cell_type": "code",
      "execution_count": 103,
      "id": "eadd08be-545a-49a1-b6ff-84a4d34a5f8a",
      "metadata": {
        "tags": [],
        "id": "eadd08be-545a-49a1-b6ff-84a4d34a5f8a",
        "outputId": "648e5f9b-035f-400f-fa66-d97bea55a37b",
        "colab": {
          "base_uri": "https://localhost:8080/",
          "height": 78
        }
      },
      "outputs": [
        {
          "output_type": "execute_result",
          "data": {
            "text/plain": [
              "Matrix([\n",
              "[1.0, 1.0, 2.0],\n",
              "[  8,  -4,   8],\n",
              "[ -4,   8,  16]])"
            ],
            "text/latex": "$\\displaystyle \\left[\\begin{matrix}1.0 & 1.0 & 2.0\\\\8 & -4 & 8\\\\-4 & 8 & 16\\end{matrix}\\right]$"
          },
          "metadata": {},
          "execution_count": 103
        }
      ],
      "source": [
        "EA=E@A\n",
        "EA"
      ]
    },
    {
      "cell_type": "code",
      "execution_count": 104,
      "id": "b18d244f-b049-4b4e-8d67-201ca1367f6c",
      "metadata": {
        "tags": [],
        "id": "b18d244f-b049-4b4e-8d67-201ca1367f6c",
        "outputId": "88ef7035-8953-4fae-bb52-3d5d7c94f748",
        "colab": {
          "base_uri": "https://localhost:8080/",
          "height": 78
        }
      },
      "outputs": [
        {
          "output_type": "execute_result",
          "data": {
            "text/plain": [
              "Matrix([\n",
              "[ 1, 0, 0],\n",
              "[-8, 1, 0],\n",
              "[ 0, 0, 1]])"
            ],
            "text/latex": "$\\displaystyle \\left[\\begin{matrix}1 & 0 & 0\\\\-8 & 1 & 0\\\\0 & 0 & 1\\end{matrix}\\right]$"
          },
          "metadata": {},
          "execution_count": 104
        }
      ],
      "source": [
        "# A의 2행에서 1행을 -8배하여 더함\n",
        "E1=Matrix(3,3,[1,0,0,-8,1,0,0,0,1])\n",
        "E1"
      ]
    },
    {
      "cell_type": "code",
      "execution_count": 105,
      "id": "f75137e0-51f0-4c30-aa3d-2ece2808527b",
      "metadata": {
        "tags": [],
        "id": "f75137e0-51f0-4c30-aa3d-2ece2808527b",
        "outputId": "372521c3-1516-4da2-d78f-b8731cf22334",
        "colab": {
          "base_uri": "https://localhost:8080/",
          "height": 78
        }
      },
      "outputs": [
        {
          "output_type": "execute_result",
          "data": {
            "text/plain": [
              "Matrix([\n",
              "[1.0,   1.0,  2.0],\n",
              "[  0, -12.0, -8.0],\n",
              "[ -4,     8,   16]])"
            ],
            "text/latex": "$\\displaystyle \\left[\\begin{matrix}1.0 & 1.0 & 2.0\\\\0 & -12.0 & -8.0\\\\-4 & 8 & 16\\end{matrix}\\right]$"
          },
          "metadata": {},
          "execution_count": 105
        }
      ],
      "source": [
        "E1@EA"
      ]
    },
    {
      "cell_type": "code",
      "execution_count": null,
      "id": "02307774-f11e-428f-ad3d-4fb1addac7cb",
      "metadata": {
        "tags": [],
        "id": "02307774-f11e-428f-ad3d-4fb1addac7cb",
        "outputId": "5282374e-611e-4a4a-9629-43df0cff7418"
      },
      "outputs": [
        {
          "data": {
            "text/latex": [
              "$\\displaystyle \\left[\\begin{matrix}1 & 0 & 0\\\\0 & 1 & 0\\\\4 & 0 & 1\\end{matrix}\\right]$"
            ],
            "text/plain": [
              "Matrix([\n",
              "[1, 0, 0],\n",
              "[0, 1, 0],\n",
              "[4, 0, 1]])"
            ]
          },
          "execution_count": 7,
          "metadata": {},
          "output_type": "execute_result"
        }
      ],
      "source": [
        "E2=Matrix(3,3,[1,0,0,0,1,0,4,0,1])\n",
        "E2"
      ]
    },
    {
      "cell_type": "code",
      "execution_count": null,
      "id": "5f3fa5b4-77be-401d-a3a3-42470473e82e",
      "metadata": {
        "tags": [],
        "id": "5f3fa5b4-77be-401d-a3a3-42470473e82e",
        "outputId": "9761c571-0014-4cc4-c03a-d8d4d77e42ad"
      },
      "outputs": [
        {
          "data": {
            "text/latex": [
              "$\\displaystyle \\left[\\begin{matrix}1.0 & 1.0 & 2.0\\\\0 & -12.0 & -8.0\\\\0 & 12.0 & 24.0\\end{matrix}\\right]$"
            ],
            "text/plain": [
              "Matrix([\n",
              "[1.0,   1.0,  2.0],\n",
              "[  0, -12.0, -8.0],\n",
              "[  0,  12.0, 24.0]])"
            ]
          },
          "execution_count": 8,
          "metadata": {},
          "output_type": "execute_result"
        }
      ],
      "source": [
        "E2@E1@EA"
      ]
    },
    {
      "cell_type": "code",
      "execution_count": null,
      "id": "58387383-fceb-4027-b0b0-13417b13623d",
      "metadata": {
        "tags": [],
        "id": "58387383-fceb-4027-b0b0-13417b13623d",
        "outputId": "bdf09b1e-5b1c-4c71-a5f1-48f29f3386e4"
      },
      "outputs": [
        {
          "data": {
            "text/latex": [
              "$\\displaystyle \\left[\\begin{matrix}1 & 0 & 0\\\\0 & -0.0833333333333333 & 0\\\\0 & 0 & 1\\end{matrix}\\right]$"
            ],
            "text/plain": [
              "Matrix([\n",
              "[1,                   0, 0],\n",
              "[0, -0.0833333333333333, 0],\n",
              "[0,                   0, 1]])"
            ]
          },
          "execution_count": 10,
          "metadata": {},
          "output_type": "execute_result"
        }
      ],
      "source": [
        "E3=Matrix(3,3,[1,0,0,0,-1/12,0,0,0,1])\n",
        "E3"
      ]
    },
    {
      "cell_type": "code",
      "execution_count": null,
      "id": "3ce98141-2028-4925-8c75-eab9738d3e1b",
      "metadata": {
        "tags": [],
        "id": "3ce98141-2028-4925-8c75-eab9738d3e1b",
        "outputId": "bebf97fd-ab7e-4499-f7df-5e881ccc8e98"
      },
      "outputs": [
        {
          "data": {
            "text/latex": [
              "$\\displaystyle \\left[\\begin{matrix}1.0 & 1.0 & 2.0\\\\0 & 1.0 & 0.666666666666667\\\\0 & 12.0 & 24.0\\end{matrix}\\right]$"
            ],
            "text/plain": [
              "Matrix([\n",
              "[1.0,  1.0,               2.0],\n",
              "[  0,  1.0, 0.666666666666667],\n",
              "[  0, 12.0,              24.0]])"
            ]
          },
          "execution_count": 11,
          "metadata": {},
          "output_type": "execute_result"
        }
      ],
      "source": [
        "E3@E2@E1@EA"
      ]
    },
    {
      "cell_type": "code",
      "execution_count": null,
      "id": "52fe87ab-04c3-4f7c-948c-f31d695e72fa",
      "metadata": {
        "tags": [],
        "id": "52fe87ab-04c3-4f7c-948c-f31d695e72fa",
        "outputId": "00aff33e-9b8f-44ff-e51a-27a6efa33e2f"
      },
      "outputs": [
        {
          "data": {
            "text/latex": [
              "$\\displaystyle \\left[\\begin{matrix}1 & -1 & 0\\\\0 & 1 & 0\\\\0 & 0 & 1\\end{matrix}\\right]$"
            ],
            "text/plain": [
              "Matrix([\n",
              "[1, -1, 0],\n",
              "[0,  1, 0],\n",
              "[0,  0, 1]])"
            ]
          },
          "execution_count": 12,
          "metadata": {},
          "output_type": "execute_result"
        }
      ],
      "source": [
        "E4=Matrix(3,3,[1,-1,0,0,1,0,0,0,1])\n",
        "E4"
      ]
    },
    {
      "cell_type": "code",
      "execution_count": null,
      "id": "8c754544-fe2a-455d-8e75-d017888bd45d",
      "metadata": {
        "tags": [],
        "id": "8c754544-fe2a-455d-8e75-d017888bd45d",
        "outputId": "82c3412d-882a-41f6-bd26-bce25ada2e7b"
      },
      "outputs": [
        {
          "data": {
            "text/latex": [
              "$\\displaystyle \\left[\\begin{matrix}1.0 & 5.55111512312578 \\cdot 10^{-17} & 1.33333333333333\\\\0 & 1.0 & 0.666666666666667\\\\0 & 12.0 & 24.0\\end{matrix}\\right]$"
            ],
            "text/plain": [
              "Matrix([\n",
              "[1.0, 5.55111512312578e-17,  1.33333333333333],\n",
              "[  0,                  1.0, 0.666666666666667],\n",
              "[  0,                 12.0,              24.0]])"
            ]
          },
          "execution_count": 13,
          "metadata": {},
          "output_type": "execute_result"
        }
      ],
      "source": [
        "E4@E3@E2@E1@EA"
      ]
    },
    {
      "cell_type": "code",
      "execution_count": null,
      "id": "8bb96e59-53d6-4cd7-9d13-700f481eeede",
      "metadata": {
        "tags": [],
        "id": "8bb96e59-53d6-4cd7-9d13-700f481eeede",
        "outputId": "269cdf06-91de-4939-8e9e-98df3392ee3b"
      },
      "outputs": [
        {
          "data": {
            "text/latex": [
              "$\\displaystyle \\left[\\begin{matrix}1 & 0 & 0\\\\0 & 1 & 0\\\\0 & -12 & 1\\end{matrix}\\right]$"
            ],
            "text/plain": [
              "Matrix([\n",
              "[1,   0, 0],\n",
              "[0,   1, 0],\n",
              "[0, -12, 1]])"
            ]
          },
          "execution_count": 14,
          "metadata": {},
          "output_type": "execute_result"
        }
      ],
      "source": [
        "E5=Matrix(3,3,[1,0,0,0,1,0,0,-12,1])\n",
        "E5"
      ]
    },
    {
      "cell_type": "code",
      "execution_count": null,
      "id": "a8c0db82-30b2-4215-8c4a-9d5c384ffc54",
      "metadata": {
        "tags": [],
        "id": "a8c0db82-30b2-4215-8c4a-9d5c384ffc54",
        "outputId": "2e2387cf-b6f3-421a-ce38-6a4cca90f2c4"
      },
      "outputs": [
        {
          "data": {
            "text/latex": [
              "$\\displaystyle \\left[\\begin{matrix}1.0 & 5.55111512312578 \\cdot 10^{-17} & 1.33333333333333\\\\0 & 1.0 & 0.666666666666667\\\\0 & 0 & 16\\end{matrix}\\right]$"
            ],
            "text/plain": [
              "Matrix([\n",
              "[1.0, 5.55111512312578e-17,  1.33333333333333],\n",
              "[  0,                  1.0, 0.666666666666667],\n",
              "[  0,                    0,                16]])"
            ]
          },
          "execution_count": 15,
          "metadata": {},
          "output_type": "execute_result"
        }
      ],
      "source": [
        "E5@E4@E3@E2@E1@EA"
      ]
    },
    {
      "cell_type": "code",
      "execution_count": null,
      "id": "5696d542-db65-4591-9492-818e85ab0d1e",
      "metadata": {
        "tags": [],
        "id": "5696d542-db65-4591-9492-818e85ab0d1e",
        "outputId": "c467b7d6-c373-48a7-df27-923c3576c949"
      },
      "outputs": [
        {
          "data": {
            "text/latex": [
              "$\\displaystyle \\left[\\begin{matrix}1 & 0 & 0\\\\0 & 1 & 0\\\\0 & 0 & 0.0625\\end{matrix}\\right]$"
            ],
            "text/plain": [
              "Matrix([\n",
              "[1, 0,      0],\n",
              "[0, 1,      0],\n",
              "[0, 0, 0.0625]])"
            ]
          },
          "execution_count": 16,
          "metadata": {},
          "output_type": "execute_result"
        }
      ],
      "source": [
        "E6=Matrix(3,3,[1,0,0,0,1,0,0,0,1/16])\n",
        "E6"
      ]
    },
    {
      "cell_type": "code",
      "execution_count": null,
      "id": "c5854420-5d36-49f2-8c54-e3042930359a",
      "metadata": {
        "tags": [],
        "id": "c5854420-5d36-49f2-8c54-e3042930359a",
        "outputId": "31080537-ef63-4344-b31b-be994e5359b4"
      },
      "outputs": [
        {
          "data": {
            "text/latex": [
              "$\\displaystyle \\left[\\begin{matrix}1.0 & 5.55111512312578 \\cdot 10^{-17} & 1.33333333333333\\\\0 & 1.0 & 0.666666666666667\\\\0 & 0 & 1.0\\end{matrix}\\right]$"
            ],
            "text/plain": [
              "Matrix([\n",
              "[1.0, 5.55111512312578e-17,  1.33333333333333],\n",
              "[  0,                  1.0, 0.666666666666667],\n",
              "[  0,                    0,               1.0]])"
            ]
          },
          "execution_count": 17,
          "metadata": {},
          "output_type": "execute_result"
        }
      ],
      "source": [
        "E6@E5@E4@E3@E2@E1@EA"
      ]
    },
    {
      "cell_type": "code",
      "execution_count": null,
      "id": "7698f64e-d469-4c36-9cea-4d9034ac316e",
      "metadata": {
        "tags": [],
        "id": "7698f64e-d469-4c36-9cea-4d9034ac316e",
        "outputId": "e2a71813-f1c7-4a74-a6eb-e0297ce21959"
      },
      "outputs": [
        {
          "data": {
            "text/latex": [
              "$\\displaystyle \\left[\\begin{matrix}1 & 0 & -1.33333333333333\\\\0 & 1 & 0\\\\0 & 0 & 1\\end{matrix}\\right]$"
            ],
            "text/plain": [
              "Matrix([\n",
              "[1, 0, -1.33333333333333],\n",
              "[0, 1,                 0],\n",
              "[0, 0,                 1]])"
            ]
          },
          "execution_count": 18,
          "metadata": {},
          "output_type": "execute_result"
        }
      ],
      "source": [
        "E7=Matrix(3,3,[1,0,-4/3,0,1,0,0,0,1])\n",
        "E7"
      ]
    },
    {
      "cell_type": "code",
      "execution_count": null,
      "id": "aada68c2-d932-4d57-8ca4-09cbcf43d98a",
      "metadata": {
        "tags": [],
        "id": "aada68c2-d932-4d57-8ca4-09cbcf43d98a",
        "outputId": "b3f9b5e9-4978-47b0-a5a5-d3a645c0df82"
      },
      "outputs": [
        {
          "data": {
            "text/latex": [
              "$\\displaystyle \\left[\\begin{matrix}1.0 & 1.11022302462516 \\cdot 10^{-16} & 2.22044604925031 \\cdot 10^{-16}\\\\0 & 1.0 & 0.666666666666667\\\\0 & 0 & 1.0\\end{matrix}\\right]$"
            ],
            "text/plain": [
              "Matrix([\n",
              "[1.0, 1.11022302462516e-16, 2.22044604925031e-16],\n",
              "[  0,                  1.0,    0.666666666666667],\n",
              "[  0,                    0,                  1.0]])"
            ]
          },
          "execution_count": 19,
          "metadata": {},
          "output_type": "execute_result"
        }
      ],
      "source": [
        "E7@E6@E5@E4@E3@E2@E1@EA"
      ]
    },
    {
      "cell_type": "code",
      "execution_count": null,
      "id": "9ced6b23-44f3-4cc4-931a-1f38c76eb05d",
      "metadata": {
        "tags": [],
        "id": "9ced6b23-44f3-4cc4-931a-1f38c76eb05d",
        "outputId": "f5d89116-32db-4a62-f644-2392999398e5"
      },
      "outputs": [
        {
          "data": {
            "text/latex": [
              "$\\displaystyle \\left[\\begin{matrix}1 & 0 & 0\\\\0 & 1 & -0.666666666666667\\\\0 & 0 & 1\\end{matrix}\\right]$"
            ],
            "text/plain": [
              "Matrix([\n",
              "[1, 0,                  0],\n",
              "[0, 1, -0.666666666666667],\n",
              "[0, 0,                  1]])"
            ]
          },
          "execution_count": 20,
          "metadata": {},
          "output_type": "execute_result"
        }
      ],
      "source": [
        "E8=Matrix(3,3,[1,0,0,0,1,-2/3,0,0,1])\n",
        "E8"
      ]
    },
    {
      "cell_type": "code",
      "execution_count": null,
      "id": "8dd4960d-6634-41ec-aa2f-77fddfa74b63",
      "metadata": {
        "tags": [],
        "id": "8dd4960d-6634-41ec-aa2f-77fddfa74b63",
        "outputId": "97420b38-6f3e-4599-abd3-00d1b6fdcfc5"
      },
      "outputs": [
        {
          "data": {
            "text/latex": [
              "$\\displaystyle \\left[\\begin{matrix}1.0 & 1.11022302462516 \\cdot 10^{-16} & 2.22044604925031 \\cdot 10^{-16}\\\\2.77555756156289 \\cdot 10^{-17} & 1.0 & 1.11022302462516 \\cdot 10^{-16}\\\\0 & 0 & 1.0\\end{matrix}\\right]$"
            ],
            "text/plain": [
              "Matrix([\n",
              "[                 1.0, 1.11022302462516e-16, 2.22044604925031e-16],\n",
              "[2.77555756156289e-17,                  1.0, 1.11022302462516e-16],\n",
              "[                   0,                    0,                  1.0]])"
            ]
          },
          "execution_count": 23,
          "metadata": {},
          "output_type": "execute_result"
        }
      ],
      "source": [
        "E8@E7@E6@E5@E4@E3@E2@E1@EA"
      ]
    },
    {
      "cell_type": "markdown",
      "source": [
        "# LU Decomposition"
      ],
      "metadata": {
        "id": "RvHWSzbxh6th"
      },
      "id": "RvHWSzbxh6th"
    },
    {
      "cell_type": "code",
      "source": [
        "from sympy import Matrix\n",
        "\n",
        "A=Matrix(3,3,[2,1,-1,-3,-1,2,-2,1,2])\n",
        "A"
      ],
      "metadata": {
        "id": "XzwdOuPuR6nA",
        "outputId": "5ea4319f-949f-4096-a653-e44f8a076611",
        "colab": {
          "base_uri": "https://localhost:8080/",
          "height": 78
        }
      },
      "id": "XzwdOuPuR6nA",
      "execution_count": 1,
      "outputs": [
        {
          "output_type": "execute_result",
          "data": {
            "text/plain": [
              "Matrix([\n",
              "[ 2,  1, -1],\n",
              "[-3, -1,  2],\n",
              "[-2,  1,  2]])"
            ],
            "text/latex": "$\\displaystyle \\left[\\begin{matrix}2 & 1 & -1\\\\-3 & -1 & 2\\\\-2 & 1 & 2\\end{matrix}\\right]$"
          },
          "metadata": {},
          "execution_count": 1
        }
      ]
    },
    {
      "cell_type": "code",
      "source": [
        "L,U,_=A.LUdecomposition()\n",
        "L"
      ],
      "metadata": {
        "id": "d8ZOCggcTW1g",
        "outputId": "099553fc-085a-4d35-c16a-2737acd78c78",
        "colab": {
          "base_uri": "https://localhost:8080/",
          "height": 78
        }
      },
      "id": "d8ZOCggcTW1g",
      "execution_count": 7,
      "outputs": [
        {
          "output_type": "execute_result",
          "data": {
            "text/plain": [
              "Matrix([\n",
              "[   1, 0, 0],\n",
              "[-3/2, 1, 0],\n",
              "[  -1, 4, 1]])"
            ],
            "text/latex": "$\\displaystyle \\left[\\begin{matrix}1 & 0 & 0\\\\- \\frac{3}{2} & 1 & 0\\\\-1 & 4 & 1\\end{matrix}\\right]$"
          },
          "metadata": {},
          "execution_count": 7
        }
      ]
    },
    {
      "cell_type": "code",
      "source": [
        "U"
      ],
      "metadata": {
        "id": "98gvl3q9TbI9",
        "outputId": "8487453b-a452-4f72-c31a-5e1e3425290f",
        "colab": {
          "base_uri": "https://localhost:8080/",
          "height": 78
        }
      },
      "id": "98gvl3q9TbI9",
      "execution_count": 8,
      "outputs": [
        {
          "output_type": "execute_result",
          "data": {
            "text/plain": [
              "Matrix([\n",
              "[2,   1,  -1],\n",
              "[0, 1/2, 1/2],\n",
              "[0,   0,  -1]])"
            ],
            "text/latex": "$\\displaystyle \\left[\\begin{matrix}2 & 1 & -1\\\\0 & \\frac{1}{2} & \\frac{1}{2}\\\\0 & 0 & -1\\end{matrix}\\right]$"
          },
          "metadata": {},
          "execution_count": 8
        }
      ]
    },
    {
      "cell_type": "code",
      "source": [
        "# 첫 행의 첫번째 원소를 피벗 원소로\n",
        "E1=Matrix(3,3,[1,0,0,1.5,1,0,1,0,1])\n",
        "E1@A"
      ],
      "metadata": {
        "id": "SQWb2yNHSE-c",
        "outputId": "fdaa7d07-3cb3-4aac-f0eb-c1e0349ff590",
        "colab": {
          "base_uri": "https://localhost:8080/",
          "height": 78
        }
      },
      "id": "SQWb2yNHSE-c",
      "execution_count": 4,
      "outputs": [
        {
          "output_type": "execute_result",
          "data": {
            "text/plain": [
              "Matrix([\n",
              "[2,   1,  -1],\n",
              "[0, 0.5, 0.5],\n",
              "[0,   2,   1]])"
            ],
            "text/latex": "$\\displaystyle \\left[\\begin{matrix}2 & 1 & -1\\\\0 & 0.5 & 0.5\\\\0 & 2 & 1\\end{matrix}\\right]$"
          },
          "metadata": {},
          "execution_count": 4
        }
      ]
    },
    {
      "cell_type": "code",
      "source": [
        "# 2행의 2번째 원소를 피벗 원소로\n",
        "E2=Matrix(3,3,[1,0,0,0,1,0,0,-4,1])\n",
        "E2@E1@A"
      ],
      "metadata": {
        "id": "bMVr4xYUSTFU",
        "outputId": "df5607dd-ae3f-4815-fea2-80e427c5ffe3",
        "colab": {
          "base_uri": "https://localhost:8080/",
          "height": 78
        }
      },
      "id": "bMVr4xYUSTFU",
      "execution_count": 9,
      "outputs": [
        {
          "output_type": "execute_result",
          "data": {
            "text/plain": [
              "Matrix([\n",
              "[2,   1,   -1],\n",
              "[0, 0.5,  0.5],\n",
              "[0,   0, -1.0]])"
            ],
            "text/latex": "$\\displaystyle \\left[\\begin{matrix}2 & 1 & -1\\\\0 & 0.5 & 0.5\\\\0 & 0 & -1.0\\end{matrix}\\right]$"
          },
          "metadata": {},
          "execution_count": 9
        }
      ]
    },
    {
      "cell_type": "code",
      "source": [
        "E1.inv()@E2.inv()"
      ],
      "metadata": {
        "id": "DjJggLzhU8sT",
        "outputId": "7790df55-8b9d-462f-f6f7-05f236261fc2",
        "colab": {
          "base_uri": "https://localhost:8080/",
          "height": 78
        }
      },
      "id": "DjJggLzhU8sT",
      "execution_count": 11,
      "outputs": [
        {
          "output_type": "execute_result",
          "data": {
            "text/plain": [
              "Matrix([\n",
              "[ 1.0,   0,   0],\n",
              "[-1.5, 1.0,   0],\n",
              "[-1.0, 4.0, 1.0]])"
            ],
            "text/latex": "$\\displaystyle \\left[\\begin{matrix}1.0 & 0 & 0\\\\-1.5 & 1.0 & 0\\\\-1.0 & 4.0 & 1.0\\end{matrix}\\right]$"
          },
          "metadata": {},
          "execution_count": 11
        }
      ]
    },
    {
      "cell_type": "code",
      "source": [
        "from sympy import Matrix\n",
        "\n",
        "A=Matrix(3,3,[0,1,-1,-2,1,2,1,0,2])\n",
        "A"
      ],
      "metadata": {
        "id": "qx4tvnpgdMZX",
        "outputId": "5232da41-6e0a-48c7-ccbe-1a763722e006",
        "colab": {
          "base_uri": "https://localhost:8080/",
          "height": 78
        }
      },
      "id": "qx4tvnpgdMZX",
      "execution_count": 26,
      "outputs": [
        {
          "output_type": "execute_result",
          "data": {
            "text/plain": [
              "Matrix([\n",
              "[ 0, 1, -1],\n",
              "[-2, 1,  2],\n",
              "[ 1, 0,  2]])"
            ],
            "text/latex": "$\\displaystyle \\left[\\begin{matrix}0 & 1 & -1\\\\-2 & 1 & 2\\\\1 & 0 & 2\\end{matrix}\\right]$"
          },
          "metadata": {},
          "execution_count": 26
        }
      ]
    },
    {
      "cell_type": "code",
      "source": [
        "L,U,P=A.LUdecomposition()\n",
        "L"
      ],
      "metadata": {
        "id": "Rb_H6PTkdRme",
        "outputId": "aedf492c-3964-44ef-cf0e-cd7e07da9c4a",
        "colab": {
          "base_uri": "https://localhost:8080/",
          "height": 78
        }
      },
      "id": "Rb_H6PTkdRme",
      "execution_count": 27,
      "outputs": [
        {
          "output_type": "execute_result",
          "data": {
            "text/plain": [
              "Matrix([\n",
              "[   1,   0, 0],\n",
              "[   0,   1, 0],\n",
              "[-1/2, 1/2, 1]])"
            ],
            "text/latex": "$\\displaystyle \\left[\\begin{matrix}1 & 0 & 0\\\\0 & 1 & 0\\\\- \\frac{1}{2} & \\frac{1}{2} & 1\\end{matrix}\\right]$"
          },
          "metadata": {},
          "execution_count": 27
        }
      ]
    },
    {
      "cell_type": "code",
      "source": [
        "U"
      ],
      "metadata": {
        "id": "xKyY_kk_dWHK",
        "outputId": "bbbd3857-62bc-4c3e-afe8-47b368d5f357",
        "colab": {
          "base_uri": "https://localhost:8080/",
          "height": 78
        }
      },
      "id": "xKyY_kk_dWHK",
      "execution_count": 28,
      "outputs": [
        {
          "output_type": "execute_result",
          "data": {
            "text/plain": [
              "Matrix([\n",
              "[-2, 1,   2],\n",
              "[ 0, 1,  -1],\n",
              "[ 0, 0, 7/2]])"
            ],
            "text/latex": "$\\displaystyle \\left[\\begin{matrix}-2 & 1 & 2\\\\0 & 1 & -1\\\\0 & 0 & \\frac{7}{2}\\end{matrix}\\right]$"
          },
          "metadata": {},
          "execution_count": 28
        }
      ]
    },
    {
      "cell_type": "code",
      "source": [
        "P"
      ],
      "metadata": {
        "id": "6uEu9GBudXdv",
        "outputId": "819d2272-d91f-4419-fd5f-44af253714cc",
        "colab": {
          "base_uri": "https://localhost:8080/"
        }
      },
      "id": "6uEu9GBudXdv",
      "execution_count": 29,
      "outputs": [
        {
          "output_type": "execute_result",
          "data": {
            "text/plain": [
              "[[0, 1]]"
            ]
          },
          "metadata": {},
          "execution_count": 29
        }
      ]
    },
    {
      "cell_type": "code",
      "source": [
        "P = eye(A.rows).permute_rows(P)\n",
        "P"
      ],
      "metadata": {
        "id": "WUSVYcpwk7mh",
        "outputId": "b4c45391-41f8-4a94-fc53-3f7c8126bd14",
        "colab": {
          "base_uri": "https://localhost:8080/",
          "height": 78
        }
      },
      "id": "WUSVYcpwk7mh",
      "execution_count": 31,
      "outputs": [
        {
          "output_type": "execute_result",
          "data": {
            "text/plain": [
              "Matrix([\n",
              "[0, 1, 0],\n",
              "[1, 0, 0],\n",
              "[0, 0, 1]])"
            ],
            "text/latex": "$\\displaystyle \\left[\\begin{matrix}0 & 1 & 0\\\\1 & 0 & 0\\\\0 & 0 & 1\\end{matrix}\\right]$"
          },
          "metadata": {},
          "execution_count": 31
        }
      ]
    },
    {
      "cell_type": "code",
      "source": [
        "P@A-L@U"
      ],
      "metadata": {
        "id": "FtHk7mqXmVmP",
        "outputId": "4f514aba-bfc9-403b-c700-14f9979449fe",
        "colab": {
          "base_uri": "https://localhost:8080/",
          "height": 78
        }
      },
      "id": "FtHk7mqXmVmP",
      "execution_count": 32,
      "outputs": [
        {
          "output_type": "execute_result",
          "data": {
            "text/plain": [
              "Matrix([\n",
              "[0, 0, 0],\n",
              "[0, 0, 0],\n",
              "[0, 0, 0]])"
            ],
            "text/latex": "$\\displaystyle \\left[\\begin{matrix}0 & 0 & 0\\\\0 & 0 & 0\\\\0 & 0 & 0\\end{matrix}\\right]$"
          },
          "metadata": {},
          "execution_count": 32
        }
      ]
    },
    {
      "cell_type": "code",
      "source": [
        "from sympy import Matrix\n",
        "\n",
        "A = Matrix([[2, 1], [4, 3]])\n",
        "L, U, P = A.LUdecomposition()\n",
        "L"
      ],
      "metadata": {
        "id": "xxPubXysh5hP",
        "outputId": "d68cbd8e-f259-4693-f14a-f57643807c68",
        "colab": {
          "base_uri": "https://localhost:8080/",
          "height": 58
        }
      },
      "id": "xxPubXysh5hP",
      "execution_count": 113,
      "outputs": [
        {
          "output_type": "execute_result",
          "data": {
            "text/plain": [
              "Matrix([\n",
              "[1, 0],\n",
              "[2, 1]])"
            ],
            "text/latex": "$\\displaystyle \\left[\\begin{matrix}1 & 0\\\\2 & 1\\end{matrix}\\right]$"
          },
          "metadata": {},
          "execution_count": 113
        }
      ]
    },
    {
      "cell_type": "code",
      "source": [
        "U"
      ],
      "metadata": {
        "id": "PHAgxVTpiFe0",
        "outputId": "26139e9f-db7d-4db7-8b7a-e20ba782da2d",
        "colab": {
          "base_uri": "https://localhost:8080/",
          "height": 58
        }
      },
      "id": "PHAgxVTpiFe0",
      "execution_count": 114,
      "outputs": [
        {
          "output_type": "execute_result",
          "data": {
            "text/plain": [
              "Matrix([\n",
              "[2, 1],\n",
              "[0, 1]])"
            ],
            "text/latex": "$\\displaystyle \\left[\\begin{matrix}2 & 1\\\\0 & 1\\end{matrix}\\right]$"
          },
          "metadata": {},
          "execution_count": 114
        }
      ]
    },
    {
      "cell_type": "code",
      "source": [
        "P"
      ],
      "metadata": {
        "id": "Ly68iV7qiGmK",
        "outputId": "aaaaa5f8-679b-4569-ebaf-c8f20c126eb5",
        "colab": {
          "base_uri": "https://localhost:8080/"
        }
      },
      "id": "Ly68iV7qiGmK",
      "execution_count": 115,
      "outputs": [
        {
          "output_type": "execute_result",
          "data": {
            "text/plain": [
              "[]"
            ]
          },
          "metadata": {},
          "execution_count": 115
        }
      ]
    },
    {
      "cell_type": "code",
      "execution_count": null,
      "id": "b8bc1148-153a-4e1c-830a-b3d70055b43d",
      "metadata": {
        "tags": [],
        "id": "b8bc1148-153a-4e1c-830a-b3d70055b43d",
        "outputId": "9b5e3859-42f9-4b9e-95f8-286dff6ba0f4"
      },
      "outputs": [
        {
          "data": {
            "text/latex": [
              "$\\displaystyle - \\sin{\\left(θ_{1} \\right)} \\sin{\\left(θ_{2} \\right)} + \\cos{\\left(θ_{1} \\right)} \\cos{\\left(θ_{2} \\right)}$"
            ],
            "text/plain": [
              "-sin(θ_1)*sin(θ_2) + cos(θ_1)*cos(θ_2)"
            ]
          },
          "execution_count": 2,
          "metadata": {},
          "output_type": "execute_result"
        }
      ],
      "source": [
        "# 삼각함수의 덧셈공식\n",
        "from sympy import symbols,cos\n",
        "t1,t2=symbols('θ_1 θ_2')\n",
        "cos(t1+t2).expand(trig=True)"
      ]
    },
    {
      "cell_type": "code",
      "execution_count": null,
      "id": "e3b4e9da-af14-437f-8200-704493570ef4",
      "metadata": {
        "tags": [],
        "id": "e3b4e9da-af14-437f-8200-704493570ef4",
        "outputId": "9fe4b836-b082-4273-99e0-5ea4fe371561"
      },
      "outputs": [
        {
          "data": {
            "text/latex": [
              "$\\displaystyle \\sin{\\left(θ_{1} \\right)} \\cos{\\left(θ_{2} \\right)} + \\sin{\\left(θ_{2} \\right)} \\cos{\\left(θ_{1} \\right)}$"
            ],
            "text/plain": [
              "sin(θ_1)*cos(θ_2) + sin(θ_2)*cos(θ_1)"
            ]
          },
          "execution_count": 3,
          "metadata": {},
          "output_type": "execute_result"
        }
      ],
      "source": [
        "from sympy import sin,tan\n",
        "\n",
        "sin(t1+t2).expand(trig=True)"
      ]
    },
    {
      "cell_type": "code",
      "execution_count": null,
      "id": "0d50674b-7225-4505-b974-b55c6bf17205",
      "metadata": {
        "tags": [],
        "id": "0d50674b-7225-4505-b974-b55c6bf17205",
        "outputId": "7ebbe5aa-63c9-4490-e6fe-f4c270f68405"
      },
      "outputs": [
        {
          "data": {
            "text/latex": [
              "$\\displaystyle - \\frac{\\tan{\\left(θ_{1} \\right)} + \\tan{\\left(θ_{2} \\right)}}{\\tan{\\left(θ_{1} \\right)} \\tan{\\left(θ_{2} \\right)} - 1}$"
            ],
            "text/plain": [
              "-(tan(θ_1) + tan(θ_2))/(tan(θ_1)*tan(θ_2) - 1)"
            ]
          },
          "execution_count": 6,
          "metadata": {},
          "output_type": "execute_result"
        }
      ],
      "source": [
        "tan(t1+t2).expand(trig=True).simplify()"
      ]
    },
    {
      "cell_type": "code",
      "execution_count": null,
      "id": "0c5221cf-6740-4405-80f8-abb0727125f0",
      "metadata": {
        "tags": [],
        "id": "0c5221cf-6740-4405-80f8-abb0727125f0",
        "outputId": "8c4a42b6-928e-48fc-a0b1-8dce58b3a0ae"
      },
      "outputs": [
        {
          "data": {
            "text/latex": [
              "$\\displaystyle \\left[\\begin{matrix}7 & 6 & 7\\\\2 & 0 & 4\\\\3 & 4 & 3\\end{matrix}\\right]$"
            ],
            "text/plain": [
              "Matrix([\n",
              "[7, 6, 7],\n",
              "[2, 0, 4],\n",
              "[3, 4, 3]])"
            ]
          },
          "execution_count": 8,
          "metadata": {},
          "output_type": "execute_result"
        }
      ],
      "source": [
        "# 행렬의 trace\n",
        "import numpy as np\n",
        "from sympy import Matrix\n",
        "\n",
        "A=np.random.randint(0,9,size=9)\n",
        "A=Matrix(A.reshape(3,3))\n",
        "A"
      ]
    },
    {
      "cell_type": "code",
      "execution_count": null,
      "id": "1d377bc7-b598-4f86-8741-16a0002aca7d",
      "metadata": {
        "tags": [],
        "id": "1d377bc7-b598-4f86-8741-16a0002aca7d",
        "outputId": "d8048a28-a4a0-4ad6-9281-970e865dc55b"
      },
      "outputs": [
        {
          "data": {
            "text/latex": [
              "$\\displaystyle 10$"
            ],
            "text/plain": [
              "10"
            ]
          },
          "execution_count": 9,
          "metadata": {},
          "output_type": "execute_result"
        }
      ],
      "source": [
        "A.trace()"
      ]
    },
    {
      "cell_type": "markdown",
      "id": "2f313211-ec71-4b87-bfe3-2648dd16e5ba",
      "metadata": {
        "tags": [],
        "id": "2f313211-ec71-4b87-bfe3-2648dd16e5ba"
      },
      "source": [
        "# 행렬식"
      ]
    },
    {
      "cell_type": "code",
      "execution_count": null,
      "id": "e8602bb4-9fe2-45a9-ad70-865fe0856d31",
      "metadata": {
        "tags": [],
        "id": "e8602bb4-9fe2-45a9-ad70-865fe0856d31",
        "outputId": "7f7c6bbc-0eec-4832-af2f-f0bb7c16b5c7"
      },
      "outputs": [
        {
          "name": "stdout",
          "output_type": "stream",
          "text": [
            "순열의 부호: -1\n"
          ]
        }
      ],
      "source": [
        "from sympy.combinatorics import Permutation\n",
        "\n",
        "# 순열 생성\n",
        "perm = Permutation([1, 0, 2])\n",
        "\n",
        "# 순열의 부호 계산\n",
        "permutation_sign = perm.signature()\n",
        "\n",
        "print(\"순열의 부호:\", permutation_sign)"
      ]
    },
    {
      "cell_type": "markdown",
      "id": "75fc1d40-0317-429f-b995-62ea738f6e41",
      "metadata": {
        "id": "75fc1d40-0317-429f-b995-62ea738f6e41"
      },
      "source": [
        "### 'CAB' 문자열에 대한 sign 값 생성"
      ]
    },
    {
      "cell_type": "code",
      "execution_count": null,
      "id": "9a151a20-cb08-49c8-bc51-fecb2a37c106",
      "metadata": {
        "tags": [],
        "id": "9a151a20-cb08-49c8-bc51-fecb2a37c106",
        "outputId": "a9c91b93-df0f-4b39-ba09-43590ee5d32f"
      },
      "outputs": [
        {
          "data": {
            "text/plain": [
              "{'A': 0, 'B': 1, 'C': 2}"
            ]
          },
          "execution_count": 42,
          "metadata": {},
          "output_type": "execute_result"
        }
      ],
      "source": [
        "# 알파벳 문자열과 대응하는 정수 리스트 생성\n",
        "L = 'ABC'\n",
        "mapping = {char: idx for idx, char in enumerate(L)}\n",
        "mapping"
      ]
    },
    {
      "cell_type": "code",
      "execution_count": null,
      "id": "89548ccd-1345-43ad-ab2c-fd7c81cc6b08",
      "metadata": {
        "tags": [],
        "id": "89548ccd-1345-43ad-ab2c-fd7c81cc6b08",
        "outputId": "d046ca80-d4e6-4ceb-aab1-01ecb7acbfa7"
      },
      "outputs": [
        {
          "name": "stdout",
          "output_type": "stream",
          "text": [
            "CAB 순열의 부호: 1\n"
          ]
        }
      ],
      "source": [
        "# 문자열에 대한 정수 순열로 변환\n",
        "perm_str = 'CAB'\n",
        "perm_int = [mapping[char] for char in perm_str]\n",
        "\n",
        "# 순열의 부호 계산\n",
        "permutation = Permutation(perm_int)\n",
        "permutation_sign = permutation.signature()\n",
        "\n",
        "print(\"CAB 순열의 부호:\", permutation_sign)"
      ]
    },
    {
      "cell_type": "code",
      "execution_count": null,
      "id": "e1ef0c54-0e52-4b4b-b1cd-f215ddafd595",
      "metadata": {
        "tags": [],
        "id": "e1ef0c54-0e52-4b4b-b1cd-f215ddafd595",
        "outputId": "03caf06e-12e1-4877-e9b2-721d9fbfb11d"
      },
      "outputs": [
        {
          "name": "stdout",
          "output_type": "stream",
          "text": [
            "('A', 'B', 'C')\n",
            "('A', 'C', 'B')\n",
            "('B', 'A', 'C')\n",
            "('B', 'C', 'A')\n",
            "('C', 'A', 'B')\n",
            "('C', 'B', 'A')\n"
          ]
        }
      ],
      "source": [
        "# Permutations() 이해\n",
        "L = 'ABC'\n",
        "import itertools\n",
        "for perm in itertools.permutations(L):\n",
        "    print(perm)"
      ]
    },
    {
      "cell_type": "markdown",
      "id": "144eac07-ca17-4239-bf21-a6dd04a34309",
      "metadata": {
        "id": "144eac07-ca17-4239-bf21-a6dd04a34309"
      },
      "source": [
        "### '35142'의 sign 값을 구하여라."
      ]
    },
    {
      "cell_type": "code",
      "execution_count": null,
      "id": "b763ce24-57c3-44d8-88e4-efa96fd11553",
      "metadata": {
        "tags": [],
        "id": "b763ce24-57c3-44d8-88e4-efa96fd11553",
        "outputId": "7698f1f6-c25f-4895-800d-e6bd66271a5a"
      },
      "outputs": [
        {
          "data": {
            "text/plain": [
              "1"
            ]
          },
          "execution_count": 36,
          "metadata": {},
          "output_type": "execute_result"
        }
      ],
      "source": [
        "from sympy.combinatorics import Permutation\n",
        "\n",
        "# 직접 0-based index로 변환 후 Permutation 객체 생성\n",
        "perm = Permutation([x - 1 for x in [3, 5, 1, 4, 2]])\n",
        "\n",
        "# 순열의 부호 계산\n",
        "perm.signature()"
      ]
    },
    {
      "cell_type": "markdown",
      "id": "c0f1aaea-2e66-4447-892e-dd87ee69a108",
      "metadata": {
        "id": "c0f1aaea-2e66-4447-892e-dd87ee69a108"
      },
      "source": [
        "### ‘ABCD’ 문자조합에 대해 가능한 모든 순열 조합을 생성하고, 각 조합에 대한 sgn()값을 출력해 보아라."
      ]
    },
    {
      "cell_type": "code",
      "execution_count": null,
      "id": "4b97faf6-ea36-4088-a170-8a9798cea1f4",
      "metadata": {
        "tags": [],
        "id": "4b97faf6-ea36-4088-a170-8a9798cea1f4",
        "outputId": "a955c7db-95d0-4241-ad36-54eaa63b72dc"
      },
      "outputs": [
        {
          "name": "stdout",
          "output_type": "stream",
          "text": [
            "순열: ('A', 'B', 'C', 'D'), sign: 1\n",
            "순열: ('A', 'B', 'D', 'C'), sign: -1\n",
            "순열: ('A', 'C', 'B', 'D'), sign: -1\n",
            "순열: ('A', 'C', 'D', 'B'), sign: 1\n",
            "순열: ('A', 'D', 'B', 'C'), sign: 1\n",
            "순열: ('A', 'D', 'C', 'B'), sign: -1\n",
            "순열: ('B', 'A', 'C', 'D'), sign: -1\n",
            "순열: ('B', 'A', 'D', 'C'), sign: 1\n",
            "순열: ('B', 'C', 'A', 'D'), sign: 1\n",
            "순열: ('B', 'C', 'D', 'A'), sign: -1\n",
            "순열: ('B', 'D', 'A', 'C'), sign: -1\n",
            "순열: ('B', 'D', 'C', 'A'), sign: 1\n",
            "순열: ('C', 'A', 'B', 'D'), sign: 1\n",
            "순열: ('C', 'A', 'D', 'B'), sign: -1\n",
            "순열: ('C', 'B', 'A', 'D'), sign: -1\n",
            "순열: ('C', 'B', 'D', 'A'), sign: 1\n",
            "순열: ('C', 'D', 'A', 'B'), sign: 1\n",
            "순열: ('C', 'D', 'B', 'A'), sign: -1\n",
            "순열: ('D', 'A', 'B', 'C'), sign: -1\n",
            "순열: ('D', 'A', 'C', 'B'), sign: 1\n",
            "순열: ('D', 'B', 'A', 'C'), sign: 1\n",
            "순열: ('D', 'B', 'C', 'A'), sign: -1\n",
            "순열: ('D', 'C', 'A', 'B'), sign: -1\n",
            "순열: ('D', 'C', 'B', 'A'), sign: 1\n"
          ]
        }
      ],
      "source": [
        "import itertools\n",
        "from sympy.combinatorics import Permutation\n",
        "\n",
        "# 리스트 정의\n",
        "L = 'ABCD'\n",
        "\n",
        "# 모든 순열 생성\n",
        "for perm in itertools.permutations(L):\n",
        "    perm_list = list(perm)  # 튜플을 리스트로 변환\n",
        "\n",
        "    # 1-based index를 0-based index로 변환 (A=1 → 0, B=2 → 1, C=3 → 2)\n",
        "    # ord() 문자 유니코드 포인트값 반환, 각 문자를 ord('A')로 차감\n",
        "    perm_indices = [ord(c) - ord('A') for c in perm_list]\n",
        "\n",
        "    # Permutation 객체 생성 후 부호 계산\n",
        "    perm_obj = Permutation(perm_indices)\n",
        "    sign_value = perm_obj.signature()\n",
        "\n",
        "    # 결과 출력\n",
        "    print(f\"순열: {perm}, sign: {sign_value}\")"
      ]
    },
    {
      "cell_type": "markdown",
      "id": "4345a9a7-8a08-4e9e-8d5c-7fe1c30a4f05",
      "metadata": {
        "id": "4345a9a7-8a08-4e9e-8d5c-7fe1c30a4f05"
      },
      "source": [
        "### 아래의 행렬 A에 대하여 위 정의에 의한 행렬식의 값을 구하여라"
      ]
    },
    {
      "cell_type": "code",
      "execution_count": null,
      "id": "e1ff7915-dd23-4f1a-a951-fa3bc6e0c080",
      "metadata": {
        "tags": [],
        "id": "e1ff7915-dd23-4f1a-a951-fa3bc6e0c080",
        "outputId": "304a4f1a-b3fe-49a7-9779-d76d3d4be77f"
      },
      "outputs": [
        {
          "data": {
            "text/latex": [
              "$\\displaystyle \\left[\\begin{matrix}1 & 2 & 3\\\\4 & 5 & 6\\\\7 & 8 & -9\\end{matrix}\\right]$"
            ],
            "text/plain": [
              "Matrix([\n",
              "[1, 2,  3],\n",
              "[4, 5,  6],\n",
              "[7, 8, -9]])"
            ]
          },
          "execution_count": 43,
          "metadata": {},
          "output_type": "execute_result"
        }
      ],
      "source": [
        "from sympy import Matrix\n",
        "A=Matrix(3,3,[1,2,3,4,5,6,7,8,-9])\n",
        "A"
      ]
    },
    {
      "cell_type": "code",
      "execution_count": null,
      "id": "49631f18-5232-4002-8499-e03f760ca9da",
      "metadata": {
        "tags": [],
        "id": "49631f18-5232-4002-8499-e03f760ca9da",
        "outputId": "eb5b6715-9c6a-483e-b7c0-68dd6816bb07"
      },
      "outputs": [
        {
          "name": "stdout",
          "output_type": "stream",
          "text": [
            "(0, 1, 2)\n",
            "(0, 2, 1)\n",
            "(1, 0, 2)\n",
            "(1, 2, 0)\n",
            "(2, 0, 1)\n",
            "(2, 1, 0)\n"
          ]
        }
      ],
      "source": [
        "from sympy.combinatorics import Permutation\n",
        "import itertools\n",
        "\n",
        "permutations = []  # 모든 가능한 순열 저장\n",
        "\n",
        "# 가능한 모든 순열 생성\n",
        "for perm in itertools.permutations(range(3)):\n",
        "    print(perm)\n",
        "    permutations.append(perm)"
      ]
    },
    {
      "cell_type": "code",
      "execution_count": null,
      "id": "10e322e7-cccc-49cb-8713-e5f1dacc10c3",
      "metadata": {
        "tags": [],
        "id": "10e322e7-cccc-49cb-8713-e5f1dacc10c3",
        "outputId": "b36d5e74-7305-4360-90ce-24e164171ecf"
      },
      "outputs": [
        {
          "data": {
            "text/latex": [
              "$\\displaystyle 54$"
            ],
            "text/plain": [
              "54"
            ]
          },
          "execution_count": 45,
          "metadata": {},
          "output_type": "execute_result"
        }
      ],
      "source": [
        "determinant_sum = 0  # 행렬식의 합\n",
        "\n",
        "# 순열에 대한 합 계산\n",
        "for perm in permutations: # 앞에서 미리 만든 순열에 대해\n",
        "    # sgn() 값 계산\n",
        "    permutation_sign = Permutation(perm).signature()\n",
        "    product = 1\n",
        "    for i in range(3):\n",
        "        # 각 행에서 perm[] 순서에 맞는 원소 선택\n",
        "        product *= A[i, perm[i]] # 원소들의 곱\n",
        "    # 하나의 순열에 대한 최종 값을 구하고 이들을 계속 더해줌\n",
        "    determinant_sum += permutation_sign * product\n",
        "\n",
        "determinant_sum # 최종 합계 출력"
      ]
    },
    {
      "cell_type": "code",
      "execution_count": null,
      "id": "601ea9f3-1327-424e-9cd0-07e2dbc26162",
      "metadata": {
        "tags": [],
        "id": "601ea9f3-1327-424e-9cd0-07e2dbc26162",
        "outputId": "3497a4e5-5743-4267-f11e-42b69731b0af"
      },
      "outputs": [
        {
          "data": {
            "text/latex": [
              "$\\displaystyle 54$"
            ],
            "text/plain": [
              "54"
            ]
          },
          "execution_count": 46,
          "metadata": {},
          "output_type": "execute_result"
        }
      ],
      "source": [
        "from sympy import det\n",
        "det(A)"
      ]
    },
    {
      "cell_type": "markdown",
      "id": "8cfd216b-12dd-42f7-bfe2-83a0ad39ef4b",
      "metadata": {
        "id": "8cfd216b-12dd-42f7-bfe2-83a0ad39ef4b"
      },
      "source": [
        "### 아래 행렬에 대하여 minor와 cofactor를 이용하여 A의 행렬식을 구하여라."
      ]
    },
    {
      "cell_type": "code",
      "execution_count": null,
      "id": "b2b0fefd-cad2-4dff-b624-598ae949c520",
      "metadata": {
        "tags": [],
        "id": "b2b0fefd-cad2-4dff-b624-598ae949c520",
        "outputId": "a50a78a2-2506-4570-ff1b-0a2532b20ac7"
      },
      "outputs": [
        {
          "data": {
            "text/latex": [
              "$\\displaystyle \\left[\\begin{matrix}5 & 6\\\\8 & -9\\end{matrix}\\right]$"
            ],
            "text/plain": [
              "Matrix([\n",
              "[5,  6],\n",
              "[8, -9]])"
            ]
          },
          "execution_count": 11,
          "metadata": {},
          "output_type": "execute_result"
        }
      ],
      "source": [
        "A11=A[1:,1:]\n",
        "A11"
      ]
    },
    {
      "cell_type": "code",
      "execution_count": null,
      "id": "b04706e0-4810-408a-9e28-700bbc21d5e1",
      "metadata": {
        "tags": [],
        "id": "b04706e0-4810-408a-9e28-700bbc21d5e1",
        "outputId": "f0546f6a-fcbc-4640-90d0-d9ee0be67f3a"
      },
      "outputs": [
        {
          "data": {
            "text/latex": [
              "$\\displaystyle -93$"
            ],
            "text/plain": [
              "-93"
            ]
          },
          "execution_count": 12,
          "metadata": {},
          "output_type": "execute_result"
        }
      ],
      "source": [
        "det(A11)"
      ]
    },
    {
      "cell_type": "code",
      "execution_count": null,
      "id": "6f7f39e2-f4c0-4fdb-8845-54f354ee6fda",
      "metadata": {
        "tags": [],
        "id": "6f7f39e2-f4c0-4fdb-8845-54f354ee6fda",
        "outputId": "04de948c-492d-454d-d2c6-e328ded45311"
      },
      "outputs": [
        {
          "data": {
            "text/latex": [
              "$\\displaystyle -78$"
            ],
            "text/plain": [
              "-78"
            ]
          },
          "execution_count": 18,
          "metadata": {},
          "output_type": "execute_result"
        }
      ],
      "source": [
        "# minor는 행과 열을 삭제한 작은 행렬의 행렬식\n",
        "A.minor(0,1)"
      ]
    },
    {
      "cell_type": "code",
      "execution_count": null,
      "id": "64abc04b-8993-4815-81d7-b93cc6232c27",
      "metadata": {
        "tags": [],
        "id": "64abc04b-8993-4815-81d7-b93cc6232c27",
        "outputId": "edde28a6-a5c6-4b15-f986-3d03d7bc4ea2"
      },
      "outputs": [
        {
          "data": {
            "text/latex": [
              "$\\displaystyle 78$"
            ],
            "text/plain": [
              "78"
            ]
          },
          "execution_count": 17,
          "metadata": {},
          "output_type": "execute_result"
        }
      ],
      "source": [
        "# cofactor는 minor에 (-1)^(i+j) 를 곱한 값\n",
        "A.cofactor(0,1)"
      ]
    },
    {
      "cell_type": "code",
      "execution_count": null,
      "id": "33cea0da-a51d-4acf-89d8-54f7338cd953",
      "metadata": {
        "tags": [],
        "id": "33cea0da-a51d-4acf-89d8-54f7338cd953",
        "outputId": "dbc46ef8-817e-4c0a-db66-1f874924db13"
      },
      "outputs": [
        {
          "data": {
            "text/latex": [
              "$\\displaystyle \\left[\\begin{matrix}-93 & 78 & -3\\\\42 & -30 & 6\\\\-3 & 6 & -3\\end{matrix}\\right]$"
            ],
            "text/plain": [
              "Matrix([\n",
              "[-93,  78, -3],\n",
              "[ 42, -30,  6],\n",
              "[ -3,   6, -3]])"
            ]
          },
          "execution_count": 16,
          "metadata": {},
          "output_type": "execute_result"
        }
      ],
      "source": [
        "# A의 cofactor 행렬 계산\n",
        "cofactor_matrix = A.cofactor_matrix()\n",
        "Matrix(cofactor_matrix)"
      ]
    },
    {
      "cell_type": "code",
      "execution_count": null,
      "id": "5ebe4629-d417-4c9f-b972-79ab32dcc5e7",
      "metadata": {
        "tags": [],
        "id": "5ebe4629-d417-4c9f-b972-79ab32dcc5e7",
        "outputId": "b2fb13d9-9319-4178-8baf-2bddbfccb807"
      },
      "outputs": [
        {
          "data": {
            "text/latex": [
              "$\\displaystyle \\left[\\begin{matrix}-93 & 42 & -3\\\\78 & -30 & 6\\\\-3 & 6 & -3\\end{matrix}\\right]$"
            ],
            "text/plain": [
              "Matrix([\n",
              "[-93,  42, -3],\n",
              "[ 78, -30,  6],\n",
              "[ -3,   6, -3]])"
            ]
          },
          "execution_count": 19,
          "metadata": {},
          "output_type": "execute_result"
        }
      ],
      "source": [
        "# A의 adjugate (adjoint) 행렬 계산\n",
        "adjugate_matrix = A.adjugate()\n",
        "Matrix(adjugate_matrix)"
      ]
    },
    {
      "cell_type": "code",
      "execution_count": null,
      "id": "e064116c-704b-4aa3-94f0-7366a6eed9f6",
      "metadata": {
        "tags": [],
        "id": "e064116c-704b-4aa3-94f0-7366a6eed9f6",
        "outputId": "5f1cde61-f679-4fa9-a72e-736d87e75a62"
      },
      "outputs": [
        {
          "data": {
            "text/latex": [
              "$\\displaystyle 54$"
            ],
            "text/plain": [
              "54"
            ]
          },
          "execution_count": 20,
          "metadata": {},
          "output_type": "execute_result"
        }
      ],
      "source": [
        "# cofactor를 이용한 행렬식 구하기\n",
        "S=0\n",
        "for j in range(3):\n",
        "    S+=A[0,j]*A.cofactor(0,j)\n",
        "S"
      ]
    },
    {
      "cell_type": "code",
      "execution_count": null,
      "id": "af067690-3f7d-421f-bf85-0133801bbf6f",
      "metadata": {
        "tags": [],
        "id": "af067690-3f7d-421f-bf85-0133801bbf6f",
        "outputId": "26208d81-2271-410b-ddfd-839a62916c9a"
      },
      "outputs": [
        {
          "data": {
            "text/latex": [
              "$\\displaystyle 54$"
            ],
            "text/plain": [
              "54"
            ]
          },
          "execution_count": 21,
          "metadata": {},
          "output_type": "execute_result"
        }
      ],
      "source": [
        "# 첫번째 열에 대해서 해도 동일함\n",
        "S=0\n",
        "for j in range(3):\n",
        "    S+=A[j,0]*A.cofactor(j,0)\n",
        "S"
      ]
    },
    {
      "cell_type": "code",
      "execution_count": null,
      "id": "a2027ca3-df47-4dc6-bf1e-26bcfd5d7e59",
      "metadata": {
        "tags": [],
        "id": "a2027ca3-df47-4dc6-bf1e-26bcfd5d7e59",
        "outputId": "2760664b-e6b0-4759-cc13-512e8f4eddbc"
      },
      "outputs": [
        {
          "data": {
            "text/latex": [
              "$\\displaystyle \\left[\\begin{matrix}54 & 0 & 0\\\\0 & 54 & 0\\\\0 & 0 & 54\\end{matrix}\\right]$"
            ],
            "text/plain": [
              "Matrix([\n",
              "[54,  0,  0],\n",
              "[ 0, 54,  0],\n",
              "[ 0,  0, 54]])"
            ]
          },
          "execution_count": 26,
          "metadata": {},
          "output_type": "execute_result"
        }
      ],
      "source": [
        "adjugate_matrix@A"
      ]
    },
    {
      "cell_type": "code",
      "execution_count": null,
      "id": "73fe189c-52ab-4b85-a904-cc225f52cec7",
      "metadata": {
        "tags": [],
        "id": "73fe189c-52ab-4b85-a904-cc225f52cec7",
        "outputId": "8c9c0f5b-c437-4ef1-8cfb-ccca32125a8d"
      },
      "outputs": [
        {
          "data": {
            "text/latex": [
              "$\\displaystyle \\left[\\begin{matrix}54 & 0 & 0\\\\0 & 54 & 0\\\\0 & 0 & 54\\end{matrix}\\right]$"
            ],
            "text/plain": [
              "Matrix([\n",
              "[54,  0,  0],\n",
              "[ 0, 54,  0],\n",
              "[ 0,  0, 54]])"
            ]
          },
          "execution_count": 24,
          "metadata": {},
          "output_type": "execute_result"
        }
      ],
      "source": [
        "A@adjugate_matrix"
      ]
    },
    {
      "cell_type": "code",
      "execution_count": null,
      "id": "7a227158-e3a5-4dc6-98b0-a4eb161a85e3",
      "metadata": {
        "tags": [],
        "id": "7a227158-e3a5-4dc6-98b0-a4eb161a85e3",
        "outputId": "8d9e8aef-0c32-4d70-9fa0-ac1b301c4ebd"
      },
      "outputs": [
        {
          "data": {
            "text/latex": [
              "$\\displaystyle \\left[\\begin{matrix}- \\frac{31}{18} & \\frac{7}{9} & - \\frac{1}{18}\\\\\\frac{13}{9} & - \\frac{5}{9} & \\frac{1}{9}\\\\- \\frac{1}{18} & \\frac{1}{9} & - \\frac{1}{18}\\end{matrix}\\right]$"
            ],
            "text/plain": [
              "Matrix([\n",
              "[-31/18,  7/9, -1/18],\n",
              "[  13/9, -5/9,   1/9],\n",
              "[ -1/18,  1/9, -1/18]])"
            ]
          },
          "execution_count": 27,
          "metadata": {},
          "output_type": "execute_result"
        }
      ],
      "source": [
        "A.inv()"
      ]
    },
    {
      "cell_type": "code",
      "execution_count": null,
      "id": "a8d78ffd-03a5-4962-9005-7892e22ed676",
      "metadata": {
        "tags": [],
        "id": "a8d78ffd-03a5-4962-9005-7892e22ed676",
        "outputId": "4877b07e-d777-4e7c-8a76-bb1aaad46f43"
      },
      "outputs": [
        {
          "data": {
            "text/latex": [
              "$\\displaystyle \\left[\\begin{matrix}- \\frac{31}{18} & \\frac{7}{9} & - \\frac{1}{18}\\\\\\frac{13}{9} & - \\frac{5}{9} & \\frac{1}{9}\\\\- \\frac{1}{18} & \\frac{1}{9} & - \\frac{1}{18}\\end{matrix}\\right]$"
            ],
            "text/plain": [
              "Matrix([\n",
              "[-31/18,  7/9, -1/18],\n",
              "[  13/9, -5/9,   1/9],\n",
              "[ -1/18,  1/9, -1/18]])"
            ]
          },
          "execution_count": 28,
          "metadata": {},
          "output_type": "execute_result"
        }
      ],
      "source": [
        "# adjugate 행렬을 이용한 역행렬\n",
        "(1/det(A))*adjugate_matrix"
      ]
    },
    {
      "cell_type": "code",
      "execution_count": null,
      "id": "d3494a6a-574c-4362-bed1-2e441c21cc72",
      "metadata": {
        "tags": [],
        "id": "d3494a6a-574c-4362-bed1-2e441c21cc72",
        "outputId": "f3a41746-b6bb-45fd-b4a9-142d5815c7c8"
      },
      "outputs": [
        {
          "data": {
            "text/latex": [
              "$\\displaystyle \\left[\\begin{matrix}0 & 1 & 7\\\\1 & 7 & 2\\\\8 & 0 & 0\\end{matrix}\\right]$"
            ],
            "text/plain": [
              "Matrix([\n",
              "[0, 1, 7],\n",
              "[1, 7, 2],\n",
              "[8, 0, 0]])"
            ]
          },
          "execution_count": 2,
          "metadata": {},
          "output_type": "execute_result"
        }
      ],
      "source": [
        "# 행렬식의 성질\n",
        "import numpy as np\n",
        "from sympy import Matrix\n",
        "\n",
        "np.random.seed(11)\n",
        "A=np.random.randint(0,9,size=9)\n",
        "A=Matrix(A.reshape(3,3))\n",
        "A"
      ]
    },
    {
      "cell_type": "code",
      "execution_count": null,
      "id": "82388a4b-1e30-4395-a9a4-f3b1a7270453",
      "metadata": {
        "tags": [],
        "id": "82388a4b-1e30-4395-a9a4-f3b1a7270453",
        "outputId": "bf0fedae-c42f-4e5c-e5e2-65334371531e"
      },
      "outputs": [
        {
          "data": {
            "text/latex": [
              "$\\displaystyle 14$"
            ],
            "text/plain": [
              "14"
            ]
          },
          "execution_count": 6,
          "metadata": {},
          "output_type": "execute_result"
        }
      ],
      "source": [
        "from sympy import det\n",
        "\n",
        "det(A)"
      ]
    },
    {
      "cell_type": "code",
      "execution_count": null,
      "id": "2bdca5de-5ecb-42e9-82d4-d5634241a2ec",
      "metadata": {
        "tags": [],
        "id": "2bdca5de-5ecb-42e9-82d4-d5634241a2ec",
        "outputId": "d84e20fb-d393-4624-ae0d-009b30ecdc3b"
      },
      "outputs": [
        {
          "name": "stdout",
          "output_type": "stream",
          "text": [
            "A행렬의 행렬식: -376\n",
            "A1행렬의 행렬식: 1504\n"
          ]
        }
      ],
      "source": [
        "A1=A.copy() # 행렬 복제\n",
        "# 두번째 행을 모두 -4배\n",
        "A1[1,:]=(-4)*A[1,:]\n",
        "print('A행렬의 행렬식:',det(A))\n",
        "print('A1행렬의 행렬식:',det(A1))"
      ]
    },
    {
      "cell_type": "code",
      "execution_count": null,
      "id": "16d00315-2eae-4f2f-9e09-2162fb69b810",
      "metadata": {
        "tags": [],
        "id": "16d00315-2eae-4f2f-9e09-2162fb69b810",
        "outputId": "6d851be8-4d55-40f7-e343-04de291f3b49"
      },
      "outputs": [
        {
          "data": {
            "text/latex": [
              "$\\displaystyle \\left[\\begin{matrix}0 & 1 & -28\\\\1 & 7 & -8\\\\8 & 0 & 0\\end{matrix}\\right]$"
            ],
            "text/plain": [
              "Matrix([\n",
              "[0, 1, -28],\n",
              "[1, 7,  -8],\n",
              "[8, 0,   0]])"
            ]
          },
          "execution_count": 29,
          "metadata": {},
          "output_type": "execute_result"
        }
      ],
      "source": [
        "A1=A.copy() # 행렬 복제\n",
        "# 세번째 열을 모두 -4배\n",
        "A1[:,2]=(-4)*A[:,2]\n",
        "A1"
      ]
    },
    {
      "cell_type": "code",
      "execution_count": null,
      "id": "df9ccd67-fb8c-4755-b384-66283c66c42c",
      "metadata": {
        "tags": [],
        "id": "df9ccd67-fb8c-4755-b384-66283c66c42c",
        "outputId": "1c9f9364-a02f-4013-e31d-b49dcbbb5429"
      },
      "outputs": [
        {
          "name": "stdout",
          "output_type": "stream",
          "text": [
            "A행렬의 행렬식: -376\n",
            "A1행렬의 행렬식: 1504\n"
          ]
        }
      ],
      "source": [
        "# 행렬식 결과 보기\n",
        "print('A행렬의 행렬식:',det(A))\n",
        "print('A1행렬의 행렬식:',det(A1))"
      ]
    },
    {
      "cell_type": "code",
      "execution_count": null,
      "id": "4b69d589-3ed0-4527-8830-ef11bacaabf6",
      "metadata": {
        "tags": [],
        "id": "4b69d589-3ed0-4527-8830-ef11bacaabf6",
        "outputId": "7095ea74-77e6-4c8f-f9ce-41b5e46cbc70"
      },
      "outputs": [
        {
          "data": {
            "text/latex": [
              "$\\displaystyle \\left[\\begin{matrix}8 & 5 & 5\\\\7 & 0 & 7\\\\5 & 6 & 1\\end{matrix}\\right]$"
            ],
            "text/plain": [
              "Matrix([\n",
              "[8, 5, 5],\n",
              "[7, 0, 7],\n",
              "[5, 6, 1]])"
            ]
          },
          "execution_count": 45,
          "metadata": {},
          "output_type": "execute_result"
        }
      ],
      "source": [
        "# 행렬식의 성질\n",
        "np.random.seed(15)\n",
        "A=np.random.randint(0,9,size=(3,3))\n",
        "x=np.random.randint(-5,5,size=(3,1))\n",
        "A,x=Matrix(A),Matrix(x)\n",
        "A"
      ]
    },
    {
      "cell_type": "code",
      "execution_count": null,
      "id": "6ae1031c-1768-4769-be5c-397b5275957b",
      "metadata": {
        "tags": [],
        "id": "6ae1031c-1768-4769-be5c-397b5275957b",
        "outputId": "b06ede96-7bdd-4e90-9bc9-754c5ebaacc3"
      },
      "outputs": [
        {
          "data": {
            "text/latex": [
              "$\\displaystyle \\left[\\begin{matrix}2\\\\-5\\\\-1\\end{matrix}\\right]$"
            ],
            "text/plain": [
              "Matrix([\n",
              "[ 2],\n",
              "[-5],\n",
              "[-1]])"
            ]
          },
          "execution_count": 46,
          "metadata": {},
          "output_type": "execute_result"
        }
      ],
      "source": [
        "x"
      ]
    },
    {
      "cell_type": "code",
      "execution_count": null,
      "id": "9c8861fe-bff2-40f2-b7c8-a1c02c2a30da",
      "metadata": {
        "tags": [],
        "id": "9c8861fe-bff2-40f2-b7c8-a1c02c2a30da",
        "outputId": "fc9aad23-0327-4a7e-e6b1-f2af74de5032"
      },
      "outputs": [
        {
          "data": {
            "text/latex": [
              "$\\displaystyle \\left[\\begin{matrix}8 & 7 & 5\\\\7 & -5 & 7\\\\5 & 5 & 1\\end{matrix}\\right]$"
            ],
            "text/plain": [
              "Matrix([\n",
              "[8,  7, 5],\n",
              "[7, -5, 7],\n",
              "[5,  5, 1]])"
            ]
          },
          "execution_count": 39,
          "metadata": {},
          "output_type": "execute_result"
        }
      ],
      "source": [
        "# A행렬의 2번째 칼럼에 x를 더해줌\n",
        "A2=A.copy() # 행렬 복제\n",
        "A2[:,1]=A[:,1]+x\n",
        "A2"
      ]
    },
    {
      "cell_type": "code",
      "execution_count": null,
      "id": "0379282c-cbae-487c-a438-8a99d22df491",
      "metadata": {
        "tags": [],
        "id": "0379282c-cbae-487c-a438-8a99d22df491",
        "outputId": "28f9d459-0a1d-4bba-ac87-37bcd7f366ee"
      },
      "outputs": [
        {
          "data": {
            "text/latex": [
              "$\\displaystyle \\left[\\begin{matrix}8 & 2 & 5\\\\7 & -5 & 7\\\\5 & -1 & 1\\end{matrix}\\right]$"
            ],
            "text/plain": [
              "Matrix([\n",
              "[8,  2, 5],\n",
              "[7, -5, 7],\n",
              "[5, -1, 1]])"
            ]
          },
          "execution_count": 40,
          "metadata": {},
          "output_type": "execute_result"
        }
      ],
      "source": [
        "# A행렬의 2번째 칼럼을 x로 대체\n",
        "Ax=A.copy() # 행렬 복제\n",
        "Ax[:,1]=x\n",
        "Ax"
      ]
    },
    {
      "cell_type": "code",
      "execution_count": null,
      "id": "6f8b9fbb-6d03-497e-a405-660ae2f62fe9",
      "metadata": {
        "tags": [],
        "id": "6f8b9fbb-6d03-497e-a405-660ae2f62fe9",
        "outputId": "d8adc01d-513f-4619-c733-489a0395dc0b"
      },
      "outputs": [
        {
          "data": {
            "text/plain": [
              "(176, 14, 162)"
            ]
          },
          "execution_count": 42,
          "metadata": {},
          "output_type": "execute_result"
        }
      ],
      "source": [
        "det(A2),det(A),det(Ax)"
      ]
    },
    {
      "cell_type": "code",
      "execution_count": null,
      "id": "b38245a2-26a7-4bdc-b9ff-ca7158c07867",
      "metadata": {
        "tags": [],
        "id": "b38245a2-26a7-4bdc-b9ff-ca7158c07867",
        "outputId": "c62e9660-6ad2-41e0-a49c-29ffc838a65a"
      },
      "outputs": [
        {
          "data": {
            "text/latex": [
              "$\\displaystyle 0$"
            ],
            "text/plain": [
              "0"
            ]
          },
          "execution_count": 41,
          "metadata": {},
          "output_type": "execute_result"
        }
      ],
      "source": [
        "det(A2)-det(A)-det(Ax)"
      ]
    },
    {
      "cell_type": "code",
      "execution_count": null,
      "id": "f7de06ec-d624-40db-b724-f81cbe17fcb5",
      "metadata": {
        "tags": [],
        "id": "f7de06ec-d624-40db-b724-f81cbe17fcb5",
        "outputId": "f00305db-5f9c-47eb-f94c-bf5dc12fde88"
      },
      "outputs": [
        {
          "data": {
            "text/latex": [
              "$\\displaystyle \\left[\\begin{matrix}8 & 5 & 5\\\\7 & 0 & 7\\\\7 & 1 & 0\\end{matrix}\\right]$"
            ],
            "text/plain": [
              "Matrix([\n",
              "[8, 5, 5],\n",
              "[7, 0, 7],\n",
              "[7, 1, 0]])"
            ]
          },
          "execution_count": 47,
          "metadata": {},
          "output_type": "execute_result"
        }
      ],
      "source": [
        "# A행렬의 3번째 행에 x를 더해줌\n",
        "A2=A.copy() # 행렬 복제\n",
        "A2[2,:]=A[2,:]+x.T\n",
        "A2"
      ]
    },
    {
      "cell_type": "code",
      "execution_count": null,
      "id": "6f65f077-050a-4c5f-b6d4-2bd440a074f3",
      "metadata": {
        "tags": [],
        "id": "6f65f077-050a-4c5f-b6d4-2bd440a074f3",
        "outputId": "4eb89c96-df73-4022-be50-c95389e3c917"
      },
      "outputs": [
        {
          "data": {
            "text/latex": [
              "$\\displaystyle \\left[\\begin{matrix}8 & 5 & 5\\\\7 & 0 & 7\\\\2 & -5 & -1\\end{matrix}\\right]$"
            ],
            "text/plain": [
              "Matrix([\n",
              "[8,  5,  5],\n",
              "[7,  0,  7],\n",
              "[2, -5, -1]])"
            ]
          },
          "execution_count": 49,
          "metadata": {},
          "output_type": "execute_result"
        }
      ],
      "source": [
        "# A행렬의 3번째 행을 x로 대체\n",
        "Ax=A.copy() # 행렬 복제\n",
        "Ax[2,:]=x.T\n",
        "Ax"
      ]
    },
    {
      "cell_type": "code",
      "execution_count": null,
      "id": "e8d70379-e797-480c-8826-bf506cb5c145",
      "metadata": {
        "tags": [],
        "id": "e8d70379-e797-480c-8826-bf506cb5c145",
        "outputId": "1c624440-1de2-47e1-db92-eef496ee0dcf"
      },
      "outputs": [
        {
          "data": {
            "text/plain": [
              "(224, 14, 210)"
            ]
          },
          "execution_count": 50,
          "metadata": {},
          "output_type": "execute_result"
        }
      ],
      "source": [
        "det(A2),det(A),det(Ax)"
      ]
    },
    {
      "cell_type": "code",
      "execution_count": null,
      "id": "d254a48b-29ec-4d6d-aef4-2425e8275e48",
      "metadata": {
        "tags": [],
        "id": "d254a48b-29ec-4d6d-aef4-2425e8275e48",
        "outputId": "40f48436-db90-4748-f5e9-61cc5a797f75"
      },
      "outputs": [
        {
          "data": {
            "text/latex": [
              "$\\displaystyle 0$"
            ],
            "text/plain": [
              "0"
            ]
          },
          "execution_count": 51,
          "metadata": {},
          "output_type": "execute_result"
        }
      ],
      "source": [
        "det(A2)-det(A)-det(Ax)"
      ]
    },
    {
      "cell_type": "code",
      "execution_count": null,
      "id": "9da62ba4-7546-46a0-8a9e-bd9748dcf154",
      "metadata": {
        "id": "9da62ba4-7546-46a0-8a9e-bd9748dcf154",
        "outputId": "08895d2b-2a29-43f7-8b55-3c399bf82883"
      },
      "outputs": [
        {
          "data": {
            "text/latex": [
              "$\\displaystyle \\left[\\begin{matrix}8 & 5 & 5\\\\7 & 0 & 7\\\\5 & 6 & 1\\end{matrix}\\right]$"
            ],
            "text/plain": [
              "Matrix([\n",
              "[8, 5, 5],\n",
              "[7, 0, 7],\n",
              "[5, 6, 1]])"
            ]
          },
          "execution_count": 3,
          "metadata": {},
          "output_type": "execute_result"
        }
      ],
      "source": [
        "# 행렬식의 성질: 두 열의 교환\n",
        "np.random.seed(15)\n",
        "A=np.random.randint(0,9,size=(3,3))\n",
        "A=Matrix(A)\n",
        "A"
      ]
    },
    {
      "cell_type": "code",
      "execution_count": null,
      "id": "6d318ba8-f060-4594-b847-decae98175ae",
      "metadata": {
        "id": "6d318ba8-f060-4594-b847-decae98175ae",
        "outputId": "7f4b7745-5e45-4cd7-8ef7-307e82468e9c"
      },
      "outputs": [
        {
          "data": {
            "text/latex": [
              "$\\displaystyle \\left[\\begin{matrix}5 & 5 & 8\\\\7 & 0 & 7\\\\1 & 6 & 5\\end{matrix}\\right]$"
            ],
            "text/plain": [
              "Matrix([\n",
              "[5, 5, 8],\n",
              "[7, 0, 7],\n",
              "[1, 6, 5]])"
            ]
          },
          "execution_count": 4,
          "metadata": {},
          "output_type": "execute_result"
        }
      ],
      "source": [
        "# 1열과 3열의 교환\n",
        "Ap=A.copy()\n",
        "Ap[:,0]=A[:,2]\n",
        "Ap[:,2]=A[:,0]\n",
        "Ap=Matrix(Ap)\n",
        "Ap"
      ]
    },
    {
      "cell_type": "code",
      "execution_count": null,
      "id": "660e94c5-ac4d-46e1-a2ae-1f37a57f3c74",
      "metadata": {
        "id": "660e94c5-ac4d-46e1-a2ae-1f37a57f3c74",
        "outputId": "9e112f70-fa3a-4a87-c74c-39ea816c581b"
      },
      "outputs": [
        {
          "name": "stdout",
          "output_type": "stream",
          "text": [
            "A행렬의 행렬식: 14\n",
            "Ap행렬의 행렬식: -14\n"
          ]
        }
      ],
      "source": [
        "# 행렬식 결과 보기\n",
        "print('A행렬의 행렬식:',det(A))\n",
        "print('Ap행렬의 행렬식:',det(Ap))"
      ]
    },
    {
      "cell_type": "code",
      "execution_count": null,
      "id": "5027b876-4e25-402d-944d-91d6e1068975",
      "metadata": {
        "id": "5027b876-4e25-402d-944d-91d6e1068975",
        "outputId": "972d8392-cbb7-4a56-8901-f1c322eeaf2d"
      },
      "outputs": [
        {
          "data": {
            "text/latex": [
              "$\\displaystyle \\left[\\begin{matrix}8 & 5 & 5\\\\5 & 6 & 1\\\\7 & 0 & 7\\end{matrix}\\right]$"
            ],
            "text/plain": [
              "Matrix([\n",
              "[8, 5, 5],\n",
              "[5, 6, 1],\n",
              "[7, 0, 7]])"
            ]
          },
          "execution_count": 8,
          "metadata": {},
          "output_type": "execute_result"
        }
      ],
      "source": [
        "# 2행과 3행의 교환\n",
        "Ap=A.copy()\n",
        "Ap[1,:]=A[2,:]\n",
        "Ap[2,:]=A[1,:]\n",
        "Ap=Matrix(Ap)\n",
        "Ap"
      ]
    },
    {
      "cell_type": "code",
      "execution_count": null,
      "id": "9f966101-f2fb-4fd9-821c-d99b9cc1663a",
      "metadata": {
        "id": "9f966101-f2fb-4fd9-821c-d99b9cc1663a",
        "outputId": "006680f3-cf76-4a9f-ebea-7d0db2cd63af"
      },
      "outputs": [
        {
          "name": "stdout",
          "output_type": "stream",
          "text": [
            "A행렬의 행렬식: 14\n",
            "Ap행렬의 행렬식: -14\n"
          ]
        }
      ],
      "source": [
        "# 행렬식 결과 보기\n",
        "print('A행렬의 행렬식:',det(A))\n",
        "print('Ap행렬의 행렬식:',det(Ap))"
      ]
    },
    {
      "cell_type": "code",
      "execution_count": null,
      "id": "475c33af-d6ce-4161-9b4b-ac8ad9224e05",
      "metadata": {
        "tags": [],
        "id": "475c33af-d6ce-4161-9b4b-ac8ad9224e05",
        "outputId": "17bf10b2-2afc-4c0f-879c-7c3a0675c48a"
      },
      "outputs": [
        {
          "data": {
            "text/latex": [
              "$\\displaystyle \\left[\\begin{matrix}1 & 3 & 1 & 1\\\\2 & 1 & 5 & 2\\\\1 & -1 & 2 & 3\\\\4 & 1 & -3 & 7\\end{matrix}\\right]$"
            ],
            "text/plain": [
              "Matrix([\n",
              "[1,  3,  1, 1],\n",
              "[2,  1,  5, 2],\n",
              "[1, -1,  2, 3],\n",
              "[4,  1, -3, 7]])"
            ]
          },
          "execution_count": 5,
          "metadata": {},
          "output_type": "execute_result"
        }
      ],
      "source": [
        "# 행렬식의 성질: 행이나 열 연산\n",
        "\n",
        "from sympy import Matrix, det\n",
        "\n",
        "A = Matrix([\n",
        "    [1, 3,  1, 1],\n",
        "    [2, 1,  5, 2],\n",
        "    [1, -1, 2, 3],\n",
        "    [4, 1, -3, 7]\n",
        "])\n",
        "\n",
        "A"
      ]
    },
    {
      "cell_type": "code",
      "execution_count": null,
      "id": "91fd059b-892e-4906-9677-eb2c79dd475a",
      "metadata": {
        "tags": [],
        "id": "91fd059b-892e-4906-9677-eb2c79dd475a",
        "outputId": "d923be62-44da-468c-f719-5ed63aedd77d"
      },
      "outputs": [
        {
          "data": {
            "text/latex": [
              "$\\displaystyle \\left[\\begin{matrix}1 & 3 & 1 & 1\\\\3 & 0 & 7 & 5\\\\1 & -1 & 2 & 3\\\\4 & 1 & -3 & 7\\end{matrix}\\right]$"
            ],
            "text/plain": [
              "Matrix([\n",
              "[1,  3,  1, 1],\n",
              "[3,  0,  7, 5],\n",
              "[1, -1,  2, 3],\n",
              "[4,  1, -3, 7]])"
            ]
          },
          "execution_count": 3,
          "metadata": {},
          "output_type": "execute_result"
        }
      ],
      "source": [
        "# 2행에 3행을 더해서 만든 행렬\n",
        "Ap=A.copy()\n",
        "Ap[1,:]=A[1,:]+A[2,:]\n",
        "\n",
        "Ap"
      ]
    },
    {
      "cell_type": "code",
      "execution_count": null,
      "id": "95fa6028-309e-46df-8ebb-69c97ec92690",
      "metadata": {
        "tags": [],
        "id": "95fa6028-309e-46df-8ebb-69c97ec92690",
        "outputId": "a5786df1-c9eb-4bff-d1b2-5264ecb3afbf"
      },
      "outputs": [
        {
          "name": "stdout",
          "output_type": "stream",
          "text": [
            "A행렬의 행렬식: -115\n",
            "Ap행렬의 행렬식: -115\n"
          ]
        }
      ],
      "source": [
        "# 행렬식 결과 보기\n",
        "print('A행렬의 행렬식:',det(A))\n",
        "print('Ap행렬의 행렬식:',det(Ap))"
      ]
    },
    {
      "cell_type": "code",
      "execution_count": null,
      "id": "a6a48202-7e36-4283-b11a-2b459733702f",
      "metadata": {
        "tags": [],
        "id": "a6a48202-7e36-4283-b11a-2b459733702f",
        "outputId": "37483836-e6ea-4325-f0e5-7c7a6a6421ef"
      },
      "outputs": [
        {
          "data": {
            "text/latex": [
              "$\\displaystyle \\left[\\begin{matrix}1 & 3 & 7 & 1\\\\2 & 1 & 7 & 2\\\\1 & -1 & 0 & 3\\\\4 & 1 & -1 & 7\\end{matrix}\\right]$"
            ],
            "text/plain": [
              "Matrix([\n",
              "[1,  3,  7, 1],\n",
              "[2,  1,  7, 2],\n",
              "[1, -1,  0, 3],\n",
              "[4,  1, -1, 7]])"
            ]
          },
          "execution_count": 9,
          "metadata": {},
          "output_type": "execute_result"
        }
      ],
      "source": [
        "# 3열에 2열을 2배해서 만든 행렬\n",
        "Ap=A.copy()\n",
        "Ap[:,2]=A[:,2]+2*A[:,1]\n",
        "\n",
        "Ap"
      ]
    },
    {
      "cell_type": "code",
      "execution_count": null,
      "id": "74899385-0ecb-4c1a-9a21-33759e28fe66",
      "metadata": {
        "tags": [],
        "id": "74899385-0ecb-4c1a-9a21-33759e28fe66",
        "outputId": "9cfd20c8-aec6-40dd-ee17-89061c9c88e3"
      },
      "outputs": [
        {
          "name": "stdout",
          "output_type": "stream",
          "text": [
            "A행렬의 행렬식: -115\n",
            "Ap행렬의 행렬식: -115\n"
          ]
        }
      ],
      "source": [
        "# 행렬식 결과 보기\n",
        "print('A행렬의 행렬식:',det(A))\n",
        "print('Ap행렬의 행렬식:',det(Ap))"
      ]
    },
    {
      "cell_type": "code",
      "execution_count": null,
      "id": "a7b0e925-1887-4106-ba35-9e49d527d7a9",
      "metadata": {
        "tags": [],
        "id": "a7b0e925-1887-4106-ba35-9e49d527d7a9",
        "outputId": "aead76f2-fcac-43ff-ec91-fe5b226ca2df"
      },
      "outputs": [
        {
          "data": {
            "text/latex": [
              "$\\displaystyle \\left[\\begin{matrix}-1 & 1 & 2 & 0\\\\0 & 3 & 2 & 1\\\\0 & 4 & 1 & 2\\\\3 & 1 & 5 & 7\\end{matrix}\\right]$"
            ],
            "text/plain": [
              "Matrix([\n",
              "[-1, 1, 2, 0],\n",
              "[ 0, 3, 2, 1],\n",
              "[ 0, 4, 1, 2],\n",
              "[ 3, 1, 5, 7]])"
            ]
          },
          "execution_count": 11,
          "metadata": {},
          "output_type": "execute_result"
        }
      ],
      "source": [
        "# 행렬식 구하기\n",
        "from sympy import Matrix\n",
        "\n",
        "A = Matrix([\n",
        "    [-1, 1, 2, 0],\n",
        "    [ 0, 3, 2, 1],\n",
        "    [ 0, 4, 1, 2],\n",
        "    [ 3, 1, 5, 7]\n",
        "])\n",
        "\n",
        "A"
      ]
    },
    {
      "cell_type": "code",
      "execution_count": null,
      "id": "5f947fc3-c407-4656-81ff-ab161376f314",
      "metadata": {
        "tags": [],
        "id": "5f947fc3-c407-4656-81ff-ab161376f314",
        "outputId": "96e44abd-0d00-4aa2-abba-bbf0c201ed59"
      },
      "outputs": [
        {
          "data": {
            "text/latex": [
              "$\\displaystyle 45$"
            ],
            "text/plain": [
              "45"
            ]
          },
          "execution_count": 12,
          "metadata": {},
          "output_type": "execute_result"
        }
      ],
      "source": [
        "det(A)"
      ]
    },
    {
      "cell_type": "markdown",
      "id": "7bab6347-0b6b-4da7-97bd-ae7133da6a94",
      "metadata": {
        "id": "7bab6347-0b6b-4da7-97bd-ae7133da6a94"
      },
      "source": [
        "### Cramer's rule"
      ]
    },
    {
      "cell_type": "code",
      "execution_count": null,
      "id": "d6446b90-3e7b-4da0-a79e-94ff4a11e98b",
      "metadata": {
        "tags": [],
        "id": "d6446b90-3e7b-4da0-a79e-94ff4a11e98b"
      },
      "outputs": [],
      "source": [
        "import numpy as np"
      ]
    },
    {
      "cell_type": "code",
      "execution_count": null,
      "id": "846a1379-9734-4bc9-8263-96a9da06010d",
      "metadata": {
        "tags": [],
        "id": "846a1379-9734-4bc9-8263-96a9da06010d",
        "outputId": "72426752-6c38-4a78-f70b-418d2a96b54a"
      },
      "outputs": [
        {
          "data": {
            "text/plain": [
              "array([ 26., -13.,  31.])"
            ]
          },
          "execution_count": 15,
          "metadata": {},
          "output_type": "execute_result"
        }
      ],
      "source": [
        "# 계수 행렬 A와 상수 행렬 B 설정\n",
        "# numpy 이용\n",
        "A = np.array([[2, 1, -1],\n",
        "              [-3, 2, 3],\n",
        "              [-2, 1, 2]], dtype=float)\n",
        "\n",
        "B = np.array([8, -11, -3], dtype=float)\n",
        "np.linalg.inv(A)@B"
      ]
    },
    {
      "cell_type": "code",
      "execution_count": null,
      "id": "7db6a626-7870-4e0c-a44d-2aeb04738594",
      "metadata": {
        "tags": [],
        "id": "7db6a626-7870-4e0c-a44d-2aeb04738594",
        "outputId": "f9e50140-dde7-4126-9b49-43065fcc9d2f"
      },
      "outputs": [
        {
          "data": {
            "text/latex": [
              "$\\displaystyle \\left[\\begin{matrix}26.0\\\\-13.0\\\\31.0\\end{matrix}\\right]$"
            ],
            "text/plain": [
              "Matrix([\n",
              "[ 26.0],\n",
              "[-13.0],\n",
              "[ 31.0]])"
            ]
          },
          "execution_count": 16,
          "metadata": {},
          "output_type": "execute_result"
        }
      ],
      "source": [
        "# sympy 이용\n",
        "A=Matrix(A)\n",
        "B=Matrix(B)\n",
        "A.inv()@B"
      ]
    },
    {
      "cell_type": "code",
      "execution_count": null,
      "id": "37fd6ac3-bd23-416f-a927-8fb874dcfa94",
      "metadata": {
        "tags": [],
        "id": "37fd6ac3-bd23-416f-a927-8fb874dcfa94",
        "outputId": "714b797b-c44a-4f88-fb02-98180f7e6a0d"
      },
      "outputs": [
        {
          "data": {
            "text/latex": [
              "$\\displaystyle \\left[\\begin{matrix}2.0 & 1.0 & -1.0\\\\-3.0 & 2.0 & 3.0\\\\-2.0 & 1.0 & 2.0\\end{matrix}\\right]$"
            ],
            "text/plain": [
              "Matrix([\n",
              "[ 2.0, 1.0, -1.0],\n",
              "[-3.0, 2.0,  3.0],\n",
              "[-2.0, 1.0,  2.0]])"
            ]
          },
          "execution_count": 20,
          "metadata": {},
          "output_type": "execute_result"
        }
      ],
      "source": [
        "A"
      ]
    },
    {
      "cell_type": "code",
      "execution_count": null,
      "id": "55e62540-4ace-4eb8-9de4-f1e43f71c46a",
      "metadata": {
        "tags": [],
        "id": "55e62540-4ace-4eb8-9de4-f1e43f71c46a",
        "outputId": "8f0e3255-2471-4158-e43a-0f4c233e7915"
      },
      "outputs": [
        {
          "data": {
            "text/latex": [
              "$\\displaystyle \\left[\\begin{matrix}8.0\\\\-11.0\\\\-3.0\\end{matrix}\\right]$"
            ],
            "text/plain": [
              "Matrix([\n",
              "[  8.0],\n",
              "[-11.0],\n",
              "[ -3.0]])"
            ]
          },
          "execution_count": 21,
          "metadata": {},
          "output_type": "execute_result"
        }
      ],
      "source": [
        "B"
      ]
    },
    {
      "cell_type": "code",
      "execution_count": null,
      "id": "b7022e05-2810-468d-854f-54c168c29157",
      "metadata": {
        "tags": [],
        "id": "b7022e05-2810-468d-854f-54c168c29157",
        "outputId": "b50f5729-ae1a-44fe-f675-bb687b97f6b3"
      },
      "outputs": [
        {
          "data": {
            "text/latex": [
              "$\\displaystyle \\left[\\begin{matrix}2.0 & 8.0 & -1.0\\\\-3.0 & -11.0 & 3.0\\\\-2.0 & -3.0 & 2.0\\end{matrix}\\right]$"
            ],
            "text/plain": [
              "Matrix([\n",
              "[ 2.0,   8.0, -1.0],\n",
              "[-3.0, -11.0,  3.0],\n",
              "[-2.0,  -3.0,  2.0]])"
            ]
          },
          "execution_count": 23,
          "metadata": {},
          "output_type": "execute_result"
        }
      ],
      "source": [
        "A_2"
      ]
    },
    {
      "cell_type": "code",
      "execution_count": null,
      "id": "18abba4b-73a0-4417-80c4-49018dd52e76",
      "metadata": {
        "tags": [],
        "id": "18abba4b-73a0-4417-80c4-49018dd52e76",
        "outputId": "e62833e8-1818-4f5d-dfde-a249d742fd6a"
      },
      "outputs": [
        {
          "data": {
            "text/latex": [
              "$\\displaystyle 26.0$"
            ],
            "text/plain": [
              "26.0000000000000"
            ]
          },
          "execution_count": 17,
          "metadata": {},
          "output_type": "execute_result"
        }
      ],
      "source": [
        "# x1의 값 구하기\n",
        "A_1=A.copy() # 행렬 복제\n",
        "\n",
        "# 첫번째 열을 B로 대체\n",
        "A_1[:,0]=B\n",
        "# x1 계산\n",
        "det(A_1)/det(A)"
      ]
    },
    {
      "cell_type": "code",
      "execution_count": null,
      "id": "45be67b4-97a5-4bec-a5bb-5ae1dfd97e9b",
      "metadata": {
        "tags": [],
        "id": "45be67b4-97a5-4bec-a5bb-5ae1dfd97e9b",
        "outputId": "d1b3ed35-1edd-4b81-b217-85dfa0984e51"
      },
      "outputs": [
        {
          "data": {
            "text/latex": [
              "$\\displaystyle -13.0$"
            ],
            "text/plain": [
              "-13.0000000000000"
            ]
          },
          "execution_count": 18,
          "metadata": {},
          "output_type": "execute_result"
        }
      ],
      "source": [
        "# x2의 값 구하기\n",
        "A_2=A.copy()\n",
        "\n",
        "# 두번째 열을 B로 대체\n",
        "A_2[:,1]=B\n",
        "# x2 계산\n",
        "det(A_2)/det(A)"
      ]
    },
    {
      "cell_type": "code",
      "execution_count": null,
      "id": "332bf04b-b51d-4f0f-8b40-323d93a18b5a",
      "metadata": {
        "tags": [],
        "id": "332bf04b-b51d-4f0f-8b40-323d93a18b5a",
        "outputId": "38a782cf-d484-4b39-8640-85da9f274c9a"
      },
      "outputs": [
        {
          "data": {
            "text/latex": [
              "$\\displaystyle 31.0$"
            ],
            "text/plain": [
              "31.0000000000000"
            ]
          },
          "execution_count": 19,
          "metadata": {},
          "output_type": "execute_result"
        }
      ],
      "source": [
        "# x3의 값 구하기\n",
        "A_3=A.copy()\n",
        "\n",
        "# 세번째 열을 B로 대체\n",
        "A_3[:,2]=B\n",
        "# x2 계산\n",
        "det(A_3)/det(A)"
      ]
    },
    {
      "cell_type": "markdown",
      "id": "3c5f420f-e4bf-4d7b-b145-e7fca4d8b2a9",
      "metadata": {
        "tags": [],
        "id": "3c5f420f-e4bf-4d7b-b145-e7fca4d8b2a9"
      },
      "source": [
        "### 연립방정식의 해를 구하여라 {2x+y-z=8,-3x+2y+2z=-11,-2x+y+2z=-3}"
      ]
    },
    {
      "cell_type": "code",
      "execution_count": null,
      "id": "4b1d6a2f-0e86-4e26-9ea7-cd2b31c97825",
      "metadata": {
        "tags": [],
        "id": "4b1d6a2f-0e86-4e26-9ea7-cd2b31c97825",
        "outputId": "c01bd880-9170-41d5-e397-5bb1f1a9d5e4"
      },
      "outputs": [
        {
          "data": {
            "text/plain": [
              "array([ 26., -13.,  31.])"
            ]
          },
          "execution_count": 29,
          "metadata": {},
          "output_type": "execute_result"
        }
      ],
      "source": [
        "# 계수 행렬 A와 상수 행렬 B 설정\n",
        "# numpy 이용\n",
        "A = np.array([[2, 1, -1],\n",
        "              [-3, 2, 3],\n",
        "              [-2, 1, 2]], dtype=float)\n",
        "\n",
        "B = np.array([8, -11, -3], dtype=float)\n",
        "np.linalg.inv(A)@B"
      ]
    },
    {
      "cell_type": "code",
      "execution_count": null,
      "id": "3d12206f-6df0-428f-8f77-6e429a50b576",
      "metadata": {
        "tags": [],
        "id": "3d12206f-6df0-428f-8f77-6e429a50b576",
        "outputId": "84798ff3-9114-4c1f-84cb-881c8aafcc7f"
      },
      "outputs": [
        {
          "data": {
            "text/latex": [
              "$\\displaystyle \\left[\\begin{matrix}26.0\\\\-13.0\\\\31.0\\end{matrix}\\right]$"
            ],
            "text/plain": [
              "Matrix([\n",
              "[ 26.0],\n",
              "[-13.0],\n",
              "[ 31.0]])"
            ]
          },
          "execution_count": 30,
          "metadata": {},
          "output_type": "execute_result"
        }
      ],
      "source": [
        "# sympy 이용\n",
        "A=Matrix(A)\n",
        "B=Matrix(B)\n",
        "A.inv()@B"
      ]
    },
    {
      "cell_type": "markdown",
      "id": "854e327e-1069-4ed5-aed0-318a8348d8c0",
      "metadata": {
        "id": "854e327e-1069-4ed5-aed0-318a8348d8c0"
      },
      "source": [
        "### 가우스 조던 소거법"
      ]
    },
    {
      "cell_type": "code",
      "execution_count": null,
      "id": "fcf57b02-88e5-46d1-87f6-d851f6603a3c",
      "metadata": {
        "tags": [],
        "id": "fcf57b02-88e5-46d1-87f6-d851f6603a3c"
      },
      "outputs": [],
      "source": [
        "import numpy as np\n",
        "from sympy import Matrix\n",
        "\n",
        "# 계수 행렬 A와 상수 행렬 B 설정\n",
        "A = np.array([[2, 1, -1],\n",
        "              [-3, 2, 3],\n",
        "              [-2, 1, 2]], dtype=float)\n",
        "\n",
        "B = np.array([8, -11, -3], dtype=float)\n"
      ]
    },
    {
      "cell_type": "code",
      "execution_count": null,
      "id": "02a35add-33f0-4725-8b74-b9f937a1c27c",
      "metadata": {
        "tags": [],
        "id": "02a35add-33f0-4725-8b74-b9f937a1c27c",
        "outputId": "f055d541-563c-4dad-9d07-9c7a5c5005d2"
      },
      "outputs": [
        {
          "data": {
            "text/plain": [
              "(3, 3)"
            ]
          },
          "execution_count": 11,
          "metadata": {},
          "output_type": "execute_result"
        }
      ],
      "source": [
        "A.shape"
      ]
    },
    {
      "cell_type": "code",
      "execution_count": null,
      "id": "5aa34cf0-55d8-48cb-8382-8bea29698777",
      "metadata": {
        "tags": [],
        "id": "5aa34cf0-55d8-48cb-8382-8bea29698777",
        "outputId": "daf2adcb-efde-48db-f59b-9a9437ccfaec"
      },
      "outputs": [
        {
          "data": {
            "text/plain": [
              "(3,)"
            ]
          },
          "execution_count": 12,
          "metadata": {},
          "output_type": "execute_result"
        }
      ],
      "source": [
        "B.shape"
      ]
    },
    {
      "cell_type": "code",
      "execution_count": null,
      "id": "859b73b3-7ff7-4ad9-a78d-6312109a3cb8",
      "metadata": {
        "tags": [],
        "id": "859b73b3-7ff7-4ad9-a78d-6312109a3cb8",
        "outputId": "abab3eda-0b9e-473e-f39b-1136d65d0c8e"
      },
      "outputs": [
        {
          "data": {
            "text/plain": [
              "(3, 1)"
            ]
          },
          "execution_count": 13,
          "metadata": {},
          "output_type": "execute_result"
        }
      ],
      "source": [
        "B.reshape(-1,1).shape"
      ]
    },
    {
      "cell_type": "code",
      "execution_count": null,
      "id": "153764c6-3938-41db-8ebe-52e88183d3fe",
      "metadata": {
        "tags": [],
        "id": "153764c6-3938-41db-8ebe-52e88183d3fe",
        "outputId": "446be975-40e2-4689-c499-e0dded3f47a4"
      },
      "outputs": [
        {
          "data": {
            "text/plain": [
              "(1, 3)"
            ]
          },
          "execution_count": 14,
          "metadata": {},
          "output_type": "execute_result"
        }
      ],
      "source": [
        "B.reshape(1,-1).shape"
      ]
    },
    {
      "cell_type": "code",
      "execution_count": null,
      "id": "403cc40f-4f7e-43b8-92e4-26c1c8166cfb",
      "metadata": {
        "tags": [],
        "id": "403cc40f-4f7e-43b8-92e4-26c1c8166cfb",
        "outputId": "dd73cccd-caed-4aff-e451-a6b9fdd3a0a1"
      },
      "outputs": [
        {
          "data": {
            "text/plain": [
              "array([[ 2,  1, -1, 30, 40, 50],\n",
              "       [-3,  2,  3, 60, 70, 80],\n",
              "       [-2,  1,  2, 10, 10, 10]])"
            ]
          },
          "execution_count": 17,
          "metadata": {},
          "output_type": "execute_result"
        }
      ],
      "source": [
        "# hstack 이해하기\n",
        "M1= np.array([[2, 1, -1],\n",
        "              [-3, 2, 3],\n",
        "              [-2, 1, 2]])\n",
        "M2= np.array([[30, 40, 50],\n",
        "              [60, 70, 80],\n",
        "              [10, 10, 10]])\n",
        "np.hstack((M1,M2))"
      ]
    },
    {
      "cell_type": "code",
      "execution_count": null,
      "id": "b8d551d0-58ad-4a33-baa8-fe1591a39311",
      "metadata": {
        "tags": [],
        "id": "b8d551d0-58ad-4a33-baa8-fe1591a39311",
        "outputId": "779c01f9-f276-4e2d-ca89-fdf5fc0bba04"
      },
      "outputs": [
        {
          "data": {
            "text/plain": [
              "array([[30, 40, 50],\n",
              "       [60, 70, 80],\n",
              "       [10, 10, 10],\n",
              "       [ 2,  1, -1],\n",
              "       [-3,  2,  3],\n",
              "       [-2,  1,  2]])"
            ]
          },
          "execution_count": 18,
          "metadata": {},
          "output_type": "execute_result"
        }
      ],
      "source": [
        "# vstack 이해하기\n",
        "np.vstack((M2,M1))"
      ]
    },
    {
      "cell_type": "code",
      "execution_count": null,
      "id": "794144c0-1e97-4432-ad4e-5a571ce3c222",
      "metadata": {
        "tags": [],
        "id": "794144c0-1e97-4432-ad4e-5a571ce3c222",
        "outputId": "14d2ad39-1030-4553-dd39-baa3768c1cc0"
      },
      "outputs": [
        {
          "data": {
            "text/latex": [
              "$\\displaystyle \\left[\\begin{matrix}2.0 & 1.0 & -1.0 & 8.0\\\\-3.0 & 2.0 & 3.0 & -11.0\\\\-2.0 & 1.0 & 2.0 & -3.0\\end{matrix}\\right]$"
            ],
            "text/plain": [
              "Matrix([\n",
              "[ 2.0, 1.0, -1.0,   8.0],\n",
              "[-3.0, 2.0,  3.0, -11.0],\n",
              "[-2.0, 1.0,  2.0,  -3.0]])"
            ]
          },
          "execution_count": 29,
          "metadata": {},
          "output_type": "execute_result"
        }
      ],
      "source": [
        "# 증강 행렬 [A | B] 생성\n",
        "AB = np.hstack((A, B.reshape(-1, 1)))\n",
        "Matrix(AB)"
      ]
    },
    {
      "cell_type": "code",
      "execution_count": null,
      "id": "4200498b-ea2d-479e-93e9-410757cdcd7c",
      "metadata": {
        "tags": [],
        "id": "4200498b-ea2d-479e-93e9-410757cdcd7c",
        "outputId": "55c681d6-9559-4af2-f235-81aa3cb3aef3"
      },
      "outputs": [
        {
          "data": {
            "text/plain": [
              "3"
            ]
          },
          "execution_count": 20,
          "metadata": {},
          "output_type": "execute_result"
        }
      ],
      "source": [
        "n = len(B) # B행렬의 행의 개수\n",
        "n"
      ]
    },
    {
      "cell_type": "code",
      "execution_count": null,
      "id": "a4e1b2ee-063d-4e11-917b-d54b2e9e61e4",
      "metadata": {
        "tags": [],
        "id": "a4e1b2ee-063d-4e11-917b-d54b2e9e61e4",
        "outputId": "153667d9-4977-4b8c-c3bf-0cb1d75886b9"
      },
      "outputs": [
        {
          "data": {
            "text/latex": [
              "$\\displaystyle \\left[\\begin{matrix}1.0 & 0.5 & -0.5 & 4.0\\\\0.0 & 3.5 & 1.5 & 1.0\\\\0.0 & 2.0 & 1.0 & 5.0\\end{matrix}\\right]$"
            ],
            "text/plain": [
              "Matrix([\n",
              "[1.0, 0.5, -0.5, 4.0],\n",
              "[0.0, 3.5,  1.5, 1.0],\n",
              "[0.0, 2.0,  1.0, 5.0]])"
            ]
          },
          "execution_count": 23,
          "metadata": {},
          "output_type": "execute_result"
        }
      ],
      "source": [
        "# 첫번째 피봇 요소를 1로 만들기\n",
        "i=0\n",
        "\n",
        "# 행을 첫번째 원소로 모두 나누어 피벗원소를 1이 되게함\n",
        "AB[i] = AB[i] / AB[i, i]\n",
        "# 아래 행들에 대해 0 만들기\n",
        "for j in range(i + 1, n):\n",
        "    # 다른행들의 피봇 아래 원소를 모두 0으로 만들기\n",
        "    AB[j] = AB[j] - AB[j, i] * AB[i]\n",
        "Matrix(AB)"
      ]
    },
    {
      "cell_type": "code",
      "execution_count": null,
      "id": "74f68f2b-70df-4fde-a17b-dca40926be7d",
      "metadata": {
        "tags": [],
        "id": "74f68f2b-70df-4fde-a17b-dca40926be7d",
        "outputId": "2ab6e7ad-62bc-40d4-95ed-9cbfae284b67"
      },
      "outputs": [
        {
          "data": {
            "text/latex": [
              "$\\displaystyle \\left[\\begin{matrix}1.0 & 0.5 & -0.5 & 4.0\\\\0.0 & 1.0 & 0.428571428571429 & 0.285714285714286\\\\0.0 & 0.0 & 0.142857142857143 & 4.42857142857143\\end{matrix}\\right]$"
            ],
            "text/plain": [
              "Matrix([\n",
              "[1.0, 0.5,              -0.5,               4.0],\n",
              "[0.0, 1.0, 0.428571428571429, 0.285714285714286],\n",
              "[0.0, 0.0, 0.142857142857143,  4.42857142857143]])"
            ]
          },
          "execution_count": 24,
          "metadata": {},
          "output_type": "execute_result"
        }
      ],
      "source": [
        "# 두번째 피봇 요소를 1로 만들기\n",
        "i=1\n",
        "AB[i] = AB[i] / AB[i, i]\n",
        "\n",
        "# 아래 행들에 대해 0 만들기\n",
        "for j in range(i + 1, n):\n",
        "    AB[j] = AB[j] - AB[j, i] * AB[i]\n",
        "Matrix(AB)"
      ]
    },
    {
      "cell_type": "code",
      "execution_count": null,
      "id": "2ff47b6c-1ac9-41de-9d3b-c48279555a20",
      "metadata": {
        "tags": [],
        "id": "2ff47b6c-1ac9-41de-9d3b-c48279555a20",
        "outputId": "97a7f682-0a38-4316-b90c-8be178b1696d"
      },
      "outputs": [
        {
          "data": {
            "text/latex": [
              "$\\displaystyle \\left[\\begin{matrix}1.0 & 0.5 & -0.5 & 4.0\\\\0.0 & 1.0 & 0.428571428571429 & 0.285714285714286\\\\0.0 & 0.0 & 1.0 & 31.0\\end{matrix}\\right]$"
            ],
            "text/plain": [
              "Matrix([\n",
              "[1.0, 0.5,              -0.5,               4.0],\n",
              "[0.0, 1.0, 0.428571428571429, 0.285714285714286],\n",
              "[0.0, 0.0,               1.0,              31.0]])"
            ]
          },
          "execution_count": 25,
          "metadata": {},
          "output_type": "execute_result"
        }
      ],
      "source": [
        "# 세번째 피봇 요소를 1로 만들기\n",
        "i=2\n",
        "AB[i] = AB[i] / AB[i, i]\n",
        "\n",
        "# 아래 행들에 대해 0 만들기\n",
        "for j in range(i + 1, n):\n",
        "    AB[j] = AB[j] - AB[j, i] * AB[i]\n",
        "Matrix(AB)"
      ]
    },
    {
      "cell_type": "code",
      "execution_count": null,
      "id": "89accb55-9e46-4133-be2a-215ad8bdf115",
      "metadata": {
        "tags": [],
        "id": "89accb55-9e46-4133-be2a-215ad8bdf115",
        "outputId": "d199ea2a-888a-4393-9196-3c2ef738210b"
      },
      "outputs": [
        {
          "data": {
            "text/latex": [
              "$\\displaystyle \\left[\\begin{matrix}1.0 & 0.5 & 0.0 & 19.5\\\\0.0 & 1.0 & 0.0 & -13.0\\\\0.0 & 0.0 & 1.0 & 31.0\\end{matrix}\\right]$"
            ],
            "text/plain": [
              "Matrix([\n",
              "[1.0, 0.5, 0.0,  19.5],\n",
              "[0.0, 1.0, 0.0, -13.0],\n",
              "[0.0, 0.0, 1.0,  31.0]])"
            ]
          },
          "execution_count": 26,
          "metadata": {},
          "output_type": "execute_result"
        }
      ],
      "source": [
        "# 후진 대입 과정 (Back Substitution)\n",
        "i=2 # 마지막 행 선택\n",
        "for j in range(i - 1, -1, -1):  # 위쪽 행(row)들 처리\n",
        "    AB[j] = AB[j] - AB[j, i] * AB[i]  # 해당 열을 0으로 만듦\n",
        "Matrix(AB)"
      ]
    },
    {
      "cell_type": "code",
      "execution_count": null,
      "id": "6b51f96e-38e3-4358-91e6-a04daf1b4985",
      "metadata": {
        "tags": [],
        "id": "6b51f96e-38e3-4358-91e6-a04daf1b4985",
        "outputId": "579cad5e-5785-457a-ff91-ec6c9157f00a"
      },
      "outputs": [
        {
          "data": {
            "text/latex": [
              "$\\displaystyle \\left[\\begin{matrix}1.0 & 0.0 & 0.0 & 26.0\\\\0.0 & 1.0 & 0.0 & -13.0\\\\0.0 & 0.0 & 1.0 & 31.0\\end{matrix}\\right]$"
            ],
            "text/plain": [
              "Matrix([\n",
              "[1.0, 0.0, 0.0,  26.0],\n",
              "[0.0, 1.0, 0.0, -13.0],\n",
              "[0.0, 0.0, 1.0,  31.0]])"
            ]
          },
          "execution_count": 27,
          "metadata": {},
          "output_type": "execute_result"
        }
      ],
      "source": [
        "# 후진 대입 과정 (Back Substitution)\n",
        "i=1 # 마지막에서 2번째행 선택\n",
        "for j in range(i - 1, -1, -1):  # 위쪽 행(row)들 처리\n",
        "    AB[j] = AB[j] - AB[j, i] * AB[i]  # 해당 열을 0으로 만듦\n",
        "Matrix(AB)"
      ]
    },
    {
      "cell_type": "code",
      "execution_count": null,
      "id": "8e6c6541-15d9-4064-b894-03ec5d9b9a5f",
      "metadata": {
        "tags": [],
        "id": "8e6c6541-15d9-4064-b894-03ec5d9b9a5f",
        "outputId": "728f1fbb-f47a-4c32-88c7-b2301e9d1b63"
      },
      "outputs": [
        {
          "data": {
            "text/latex": [
              "$\\displaystyle \\left[\\begin{matrix}1.0 & 0.0 & 0.0 & 26.0\\\\0.0 & 1.0 & 0.0 & -13.0\\\\0.0 & 0.0 & 1.0 & 31.0\\end{matrix}\\right]$"
            ],
            "text/plain": [
              "Matrix([\n",
              "[1.0, 0.0, 0.0,  26.0],\n",
              "[0.0, 1.0, 0.0, -13.0],\n",
              "[0.0, 0.0, 1.0,  31.0]])"
            ]
          },
          "execution_count": 30,
          "metadata": {},
          "output_type": "execute_result"
        }
      ],
      "source": [
        "# 가우스 소거법 적용 (전진 소거 과정)\n",
        "n = len(B)\n",
        "for i in range(n):\n",
        "    # 피봇 요소를 1로 만들기\n",
        "    AB[i] = AB[i] / AB[i, i]\n",
        "\n",
        "    # 아래 행들에 대해 0 만들기\n",
        "    for j in range(i + 1, n):\n",
        "        AB[j] = AB[j] - AB[j, i] * AB[i]\n",
        "\n",
        "# 후진 대입법 (Back Substitution)\n",
        "for i in range(n - 1, -1, -1):  # 역순으로 처리 (i = n-1 → 0)\n",
        "    for j in range(i - 1, -1, -1):  # 위쪽 행(row)들 처리\n",
        "        AB[j] = AB[j] - AB[j, i] * AB[i]  # 해당 열을 0으로 만듦\n",
        "Matrix(AB)"
      ]
    },
    {
      "cell_type": "markdown",
      "id": "f44ca782-0439-4f00-932c-24d0901512b2",
      "metadata": {
        "id": "f44ca782-0439-4f00-932c-24d0901512b2"
      },
      "source": [
        "### \tA(2,3),B(0,6) 두 벡터가 만드는 평형사변형의 넓이를 구하여라.  "
      ]
    },
    {
      "cell_type": "code",
      "execution_count": null,
      "id": "c64cb623-bf65-4632-a268-121c414acdb0",
      "metadata": {
        "tags": [],
        "id": "c64cb623-bf65-4632-a268-121c414acdb0",
        "outputId": "2c41160b-a6ba-48d9-8874-35766f9dbce2"
      },
      "outputs": [
        {
          "data": {
            "image/png": "[encoded data removed]",
            "text/plain": [
              "<Figure size 600x600 with 1 Axes>"
            ]
          },
          "metadata": {},
          "output_type": "display_data"
        }
      ],
      "source": [
        "import matplotlib.pyplot as plt\n",
        "import numpy as np\n",
        "\n",
        "# 벡터 정의\n",
        "A = np.array([2, 3])\n",
        "B = np.array([0, 6])\n",
        "\n",
        "# 평행사변형의 꼭짓점 계산\n",
        "O = np.array([0, 0])\n",
        "P1 = A\n",
        "P2 = B\n",
        "P3 = A + B\n",
        "\n",
        "# 꼭짓점 리스트\n",
        "parallelogram = np.array([O, P1, P3, P2, O])  # 다시 O로 돌아와서 닫기\n",
        "\n",
        "# 넓이 계산\n",
        "area = abs(np.cross(A, B))\n",
        "\n",
        "# 시각화\n",
        "plt.figure(figsize=(6,6))\n",
        "plt.plot(parallelogram[:,0], parallelogram[:,1], 'b-', linewidth=2, label='Parallelogram')\n",
        "plt.quiver(0, 0, A[0], A[1], angles='xy', scale_units='xy', scale=1, color='r', label='Vector A')\n",
        "plt.quiver(0, 0, B[0], B[1], angles='xy', scale_units='xy', scale=1, color='g', label='Vector B')\n",
        "\n",
        "# 설정\n",
        "plt.grid(True)\n",
        "plt.axis('equal')\n",
        "plt.title(f\"Parallelogram by A & B, Area = {area}\")\n",
        "plt.legend()\n",
        "plt.xlabel('x')\n",
        "plt.ylabel('y')\n",
        "plt.xlim(-1, 4)\n",
        "plt.ylim(-1, 10)\n",
        "plt.show()\n"
      ]
    },
    {
      "cell_type": "code",
      "execution_count": null,
      "id": "6e4b7735-bcc8-4792-9063-b69dbef242e9",
      "metadata": {
        "tags": [],
        "id": "6e4b7735-bcc8-4792-9063-b69dbef242e9",
        "outputId": "28235fc6-04b3-42eb-cddc-b16a2f769e46"
      },
      "outputs": [
        {
          "data": {
            "text/latex": [
              "$\\displaystyle \\left[\\begin{matrix}0\\\\3\\end{matrix}\\right]$"
            ],
            "text/plain": [
              "Matrix([\n",
              "[0],\n",
              "[3]])"
            ]
          },
          "execution_count": 32,
          "metadata": {},
          "output_type": "execute_result"
        }
      ],
      "source": [
        "from sympy import Matrix\n",
        "A,B=Matrix([2,3]),Matrix([0,6])\n",
        "BA=(A.dot(B))/(B.dot(B))*B\n",
        "BA"
      ]
    },
    {
      "cell_type": "code",
      "execution_count": null,
      "id": "4d6749f3-8f69-43c5-a57d-4872d158aa07",
      "metadata": {
        "tags": [],
        "id": "4d6749f3-8f69-43c5-a57d-4872d158aa07",
        "outputId": "28aabc59-22a4-4832-a858-fac56854cfc2"
      },
      "outputs": [
        {
          "data": {
            "text/latex": [
              "$\\displaystyle 2$"
            ],
            "text/plain": [
              "2"
            ]
          },
          "execution_count": 33,
          "metadata": {},
          "output_type": "execute_result"
        }
      ],
      "source": [
        "# 높이 벡터 h\n",
        "h=A-BA\n",
        "h.norm() # 높이 계산"
      ]
    },
    {
      "cell_type": "markdown",
      "id": "8234d083-109b-4589-9751-ee7b20e03233",
      "metadata": {
        "id": "8234d083-109b-4589-9751-ee7b20e03233"
      },
      "source": [
        "## Jacobian의 이해"
      ]
    },
    {
      "cell_type": "code",
      "execution_count": null,
      "id": "760f8a7f-3ee9-4c6b-aff8-5b3684a99469",
      "metadata": {
        "tags": [],
        "id": "760f8a7f-3ee9-4c6b-aff8-5b3684a99469",
        "outputId": "633e9123-2efe-4bda-de6f-65e115e4d46d"
      },
      "outputs": [
        {
          "data": {
            "text/latex": [
              "$\\displaystyle 16 \\pi$"
            ],
            "text/plain": [
              "16*pi"
            ]
          },
          "execution_count": 2,
          "metadata": {},
          "output_type": "execute_result"
        }
      ],
      "source": [
        "from sympy import symbols,integrate,sqrt\n",
        "\n",
        "x=symbols('x')\n",
        "2*integrate(sqrt(16-x**2),(x,-4,4))"
      ]
    },
    {
      "cell_type": "code",
      "execution_count": null,
      "id": "34ad1961-9750-417c-9ffd-4b583869b8e8",
      "metadata": {
        "tags": [],
        "id": "34ad1961-9750-417c-9ffd-4b583869b8e8",
        "outputId": "2c70265d-29cb-419e-bac9-2fe72274f320"
      },
      "outputs": [
        {
          "data": {
            "text/latex": [
              "$\\displaystyle 2 \\sqrt{16 - x^{2}}$"
            ],
            "text/plain": [
              "2*sqrt(16 - x**2)"
            ]
          },
          "execution_count": 6,
          "metadata": {},
          "output_type": "execute_result"
        }
      ],
      "source": [
        "y=symbols('y')\n",
        "integrate(1,(y,-sqrt(16-x**2),sqrt(16-x**2)))"
      ]
    },
    {
      "cell_type": "code",
      "execution_count": null,
      "id": "5fea296d-6ab2-48d1-90e6-df289098b2c5",
      "metadata": {
        "tags": [],
        "id": "5fea296d-6ab2-48d1-90e6-df289098b2c5",
        "outputId": "81170f56-e70a-4715-f280-323bbe22b593"
      },
      "outputs": [
        {
          "data": {
            "text/latex": [
              "$\\displaystyle 16 \\pi$"
            ],
            "text/plain": [
              "16*pi"
            ]
          },
          "execution_count": 4,
          "metadata": {},
          "output_type": "execute_result"
        }
      ],
      "source": [
        "y=symbols('y')\n",
        "integrate(integrate(1,(y,-sqrt(16-x**2),sqrt(16-x**2))),(x,-4,4))"
      ]
    },
    {
      "cell_type": "code",
      "execution_count": null,
      "id": "dd2f4607-9359-4231-8d08-7dec16730f53",
      "metadata": {
        "id": "dd2f4607-9359-4231-8d08-7dec16730f53"
      },
      "outputs": [],
      "source": []
    }
  ],
  "metadata": {
    "kernelspec": {
      "display_name": "Python 3 (ipykernel)",
      "language": "python",
      "name": "python3"
    },
    "language_info": {
      "codemirror_mode": {
        "name": "ipython",
        "version": 3
      },
      "file_extension": ".py",
      "mimetype": "text/x-python",
      "name": "python",
      "nbconvert_exporter": "python",
      "pygments_lexer": "ipython3",
      "version": "3.10.12"
    },
    "colab": {
      "provenance": []
    }
  },
  "nbformat": 4,
  "nbformat_minor": 5
}