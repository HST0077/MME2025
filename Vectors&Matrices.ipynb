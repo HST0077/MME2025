{
 "cells": [
  {
   "cell_type": "markdown",
   "id": "7b3aa8dd-c088-42ee-8538-c7942ce71d99",
   "metadata": {},
   "source": [
    "# 벡터의 표현"
   ]
  },
  {
   "cell_type": "code",
   "execution_count": 1,
   "id": "c68ac517-eded-4a53-aa7b-b627fbd4fbe8",
   "metadata": {
    "tags": []
   },
   "outputs": [
    {
     "data": {
      "text/latex": [
       "$\\displaystyle \\left[\\begin{matrix}1 & 2 & 3 & 4\\end{matrix}\\right]$"
      ],
      "text/plain": [
       "Matrix([[1, 2, 3, 4]])"
      ]
     },
     "execution_count": 1,
     "metadata": {},
     "output_type": "execute_result"
    }
   ],
   "source": [
    "from sympy import Matrix\n",
    "\n",
    "# row vector\n",
    "Matrix(1,4,[1,2,3,4])"
   ]
  },
  {
   "cell_type": "code",
   "execution_count": 2,
   "id": "5832d067-7ef8-4fe2-b800-554be97ccc68",
   "metadata": {
    "tags": []
   },
   "outputs": [
    {
     "data": {
      "text/latex": [
       "$\\displaystyle \\left[\\begin{matrix}1\\\\2\\\\3\\\\4\\end{matrix}\\right]$"
      ],
      "text/plain": [
       "Matrix([\n",
       "[1],\n",
       "[2],\n",
       "[3],\n",
       "[4]])"
      ]
     },
     "execution_count": 2,
     "metadata": {},
     "output_type": "execute_result"
    }
   ],
   "source": [
    "# column vector\n",
    "Matrix(4,1,[1,2,3,4])"
   ]
  },
  {
   "cell_type": "code",
   "execution_count": 3,
   "id": "c6a309a6-cf8d-4469-954e-30512d4838aa",
   "metadata": {
    "tags": []
   },
   "outputs": [
    {
     "data": {
      "text/latex": [
       "$\\displaystyle \\left[\\begin{matrix}1 & 2 & 3 & 4\\end{matrix}\\right]$"
      ],
      "text/plain": [
       "Matrix([[1, 2, 3, 4]])"
      ]
     },
     "execution_count": 3,
     "metadata": {},
     "output_type": "execute_result"
    }
   ],
   "source": [
    "# 벡터의 전치\n",
    "_.transpose()"
   ]
  },
  {
   "cell_type": "markdown",
   "id": "06140e98-e6cb-4c52-9e4d-b52feae818fb",
   "metadata": {},
   "source": [
    "### 두 벡터 A=(1,2,3), B=(-2,3,-1)에 대해서 내적 A∙B 를 구하고, 두 벡터의 사이각을 구하여라."
   ]
  },
  {
   "cell_type": "code",
   "execution_count": 25,
   "id": "1b22aff1-5278-4e6f-b7e6-96f1eb66773b",
   "metadata": {
    "tags": []
   },
   "outputs": [
    {
     "data": {
      "text/latex": [
       "$\\displaystyle \\sqrt{14}$"
      ],
      "text/plain": [
       "sqrt(14)"
      ]
     },
     "execution_count": 25,
     "metadata": {},
     "output_type": "execute_result"
    }
   ],
   "source": [
    "from sympy import Matrix\n",
    "\n",
    "A=Matrix(1,3,[1,2,3])\n",
    "A.norm() # A 벡터의 크기"
   ]
  },
  {
   "cell_type": "code",
   "execution_count": 26,
   "id": "8dcacbce-7809-4b04-9a9f-4d40d53c6ec0",
   "metadata": {
    "tags": []
   },
   "outputs": [
    {
     "data": {
      "text/latex": [
       "$\\displaystyle 1$"
      ],
      "text/plain": [
       "1"
      ]
     },
     "execution_count": 26,
     "metadata": {},
     "output_type": "execute_result"
    }
   ],
   "source": [
    "# 벡터의 내적\n",
    "B=Matrix(1,3,[-2,3,-1])\n",
    "A.dot(B)"
   ]
  },
  {
   "cell_type": "code",
   "execution_count": 27,
   "id": "c77b1f80-68eb-4c79-83bd-5b37583b7cc6",
   "metadata": {
    "tags": []
   },
   "outputs": [
    {
     "data": {
      "text/latex": [
       "$\\displaystyle \\left[\\begin{matrix}1\\end{matrix}\\right]$"
      ],
      "text/plain": [
       "Matrix([[1]])"
      ]
     },
     "execution_count": 27,
     "metadata": {},
     "output_type": "execute_result"
    }
   ],
   "source": [
    "# 벡터의 내적 2\n",
    "A@B.transpose()"
   ]
  },
  {
   "cell_type": "code",
   "execution_count": 28,
   "id": "e48a7568-04d2-4e54-b3ec-0b421ec441ce",
   "metadata": {
    "tags": []
   },
   "outputs": [
    {
     "data": {
      "text/latex": [
       "$\\displaystyle 85.9039562418477$"
      ],
      "text/plain": [
       "85.9039562418477"
      ]
     },
     "execution_count": 28,
     "metadata": {},
     "output_type": "execute_result"
    }
   ],
   "source": [
    "# 두 벡터의 사잇각 구하기\n",
    "from sympy import deg, acos\n",
    "C_t=A.dot(B)/(A.norm()*B.norm())\n",
    "# radian을 degree로 표현\n",
    "deg(acos(C_t)).evalf() "
   ]
  },
  {
   "cell_type": "code",
   "execution_count": 29,
   "id": "72f52684-d4b7-4f0c-a891-cb6640910809",
   "metadata": {
    "tags": []
   },
   "outputs": [
    {
     "data": {
      "text/latex": [
       "$\\displaystyle \\left[\\begin{matrix}- \\frac{1}{7} & \\frac{3}{14} & - \\frac{1}{14}\\end{matrix}\\right]$"
      ],
      "text/plain": [
       "Matrix([[-1/7, 3/14, -1/14]])"
      ]
     },
     "execution_count": 29,
     "metadata": {},
     "output_type": "execute_result"
    }
   ],
   "source": [
    "# A벡터를 B벡터로 정사영시킨 벡터 BA\n",
    "BA=(A.dot(B))/(B.dot(B))*B\n",
    "BA"
   ]
  },
  {
   "cell_type": "markdown",
   "id": "275dca5f-a222-4a7b-95f6-7c4eee1644eb",
   "metadata": {},
   "source": [
    "## \t두 벡터 A=(1,2,3), B=(-2,3,-1)에 대해서 외적 A×B를 구하여라."
   ]
  },
  {
   "cell_type": "code",
   "execution_count": 12,
   "id": "2bec2e4b-127f-4bb3-aebd-aa5121c676ba",
   "metadata": {
    "tags": []
   },
   "outputs": [
    {
     "data": {
      "text/latex": [
       "$\\displaystyle \\left[\\begin{matrix}-11 & -5 & 7\\end{matrix}\\right]$"
      ],
      "text/plain": [
       "Matrix([[-11, -5, 7]])"
      ]
     },
     "execution_count": 12,
     "metadata": {},
     "output_type": "execute_result"
    }
   ],
   "source": [
    "## 벡터의 외적\n",
    "A=Matrix(1,3,[1,2,3])\n",
    "B=Matrix(1,3,[-2,3,-1])\n",
    "O1=A.cross(B)\n",
    "O1"
   ]
  },
  {
   "cell_type": "code",
   "execution_count": 14,
   "id": "8b131c45-8fa9-4399-bb6a-502b6d927861",
   "metadata": {
    "tags": []
   },
   "outputs": [
    {
     "data": {
      "text/latex": [
       "$\\displaystyle 0$"
      ],
      "text/plain": [
       "0"
      ]
     },
     "execution_count": 14,
     "metadata": {},
     "output_type": "execute_result"
    }
   ],
   "source": [
    "# 외적 벡터의 크기 검증\n",
    "from sympy import acos,sin\n",
    "C_t=A.dot(B)/(A.norm()*B.norm())\n",
    "r=acos(C_t) # 두벡터의 사이각\n",
    "O1.norm()-A.norm()*B.norm()*sin(r)"
   ]
  },
  {
   "cell_type": "markdown",
   "id": "02524099-604c-4a89-a9a7-0f47962cad6c",
   "metadata": {},
   "source": [
    "# 행렬의 정의와 표현"
   ]
  },
  {
   "cell_type": "code",
   "execution_count": 1,
   "id": "4d8d988b-8515-49cd-9dee-781edf35518a",
   "metadata": {},
   "outputs": [
    {
     "data": {
      "text/latex": [
       "$\\displaystyle \\left[\\begin{matrix}6 & 9 & 6\\\\1 & 1 & 2\\end{matrix}\\right]$"
      ],
      "text/plain": [
       "Matrix([\n",
       "[6, 9, 6],\n",
       "[1, 1, 2]])"
      ]
     },
     "execution_count": 1,
     "metadata": {},
     "output_type": "execute_result"
    }
   ],
   "source": [
    "from sympy import Matrix\n",
    "import numpy as np\n",
    "\n",
    "# 1부터 9까지의 정수 난수 6개 생성\n",
    "np.random.seed(1) # 난수 seed 고정\n",
    "D=np.random.randint(1,10,6)\n",
    "\n",
    "A=Matrix(2,3,D)\n",
    "A"
   ]
  },
  {
   "cell_type": "code",
   "execution_count": 2,
   "id": "4006279b-379e-4522-b6f6-e9ab385cc021",
   "metadata": {},
   "outputs": [
    {
     "data": {
      "text/latex": [
       "$\\displaystyle 9$"
      ],
      "text/plain": [
       "9"
      ]
     },
     "execution_count": 2,
     "metadata": {},
     "output_type": "execute_result"
    }
   ],
   "source": [
    "A[0,1]"
   ]
  },
  {
   "cell_type": "code",
   "execution_count": 3,
   "id": "3b22b2ce-0fb0-4fb0-a671-22dbcdc99813",
   "metadata": {},
   "outputs": [
    {
     "data": {
      "text/plain": [
       "numpy.ndarray"
      ]
     },
     "execution_count": 3,
     "metadata": {},
     "output_type": "execute_result"
    }
   ],
   "source": [
    "# 데이터 타입 확인\n",
    "type(D)"
   ]
  },
  {
   "cell_type": "code",
   "execution_count": 4,
   "id": "2d38ff58-79d8-4e9c-90a1-79322a8b881e",
   "metadata": {},
   "outputs": [
    {
     "data": {
      "text/plain": [
       "array([[6, 9, 6],\n",
       "       [1, 1, 2]])"
      ]
     },
     "execution_count": 4,
     "metadata": {},
     "output_type": "execute_result"
    }
   ],
   "source": [
    "np.array([[6,9,6],[1,1,2]])"
   ]
  },
  {
   "cell_type": "code",
   "execution_count": 5,
   "id": "167d8d0b-2275-46fd-a01c-3732114495f2",
   "metadata": {},
   "outputs": [
    {
     "data": {
      "text/latex": [
       "$\\displaystyle \\left[\\begin{matrix}6 & 9 & 6\\\\1 & 1 & 2\\end{matrix}\\right]$"
      ],
      "text/plain": [
       "Matrix([\n",
       "[6, 9, 6],\n",
       "[1, 1, 2]])"
      ]
     },
     "execution_count": 5,
     "metadata": {},
     "output_type": "execute_result"
    }
   ],
   "source": [
    "Matrix(_)"
   ]
  },
  {
   "cell_type": "code",
   "execution_count": 31,
   "id": "844b7659-e9eb-4e03-bc7f-52b01abfe7ef",
   "metadata": {
    "tags": []
   },
   "outputs": [
    {
     "data": {
      "text/latex": [
       "$\\displaystyle \\left[\\begin{matrix}6 & 1\\\\9 & 1\\\\6 & 2\\end{matrix}\\right]$"
      ],
      "text/plain": [
       "Matrix([\n",
       "[6, 1],\n",
       "[9, 1],\n",
       "[6, 2]])"
      ]
     },
     "execution_count": 31,
     "metadata": {},
     "output_type": "execute_result"
    }
   ],
   "source": [
    "# 전치행렬\n",
    "At=A.transpose()\n",
    "At"
   ]
  },
  {
   "cell_type": "code",
   "execution_count": 32,
   "id": "d14492c0-98a6-4363-a364-2740badf07c8",
   "metadata": {},
   "outputs": [
    {
     "data": {
      "text/latex": [
       "$\\displaystyle \\left[\\begin{matrix}6 & 1\\\\9 & 1\\\\6 & 2\\end{matrix}\\right]$"
      ],
      "text/plain": [
       "Matrix([\n",
       "[6, 1],\n",
       "[9, 1],\n",
       "[6, 2]])"
      ]
     },
     "execution_count": 32,
     "metadata": {},
     "output_type": "execute_result"
    }
   ],
   "source": [
    "A.T"
   ]
  },
  {
   "cell_type": "markdown",
   "id": "f44e9a4e-bc9c-4a0b-b387-d2edcb2fef62",
   "metadata": {},
   "source": [
    "## (행렬의 곱) -5부터 5까지의 정수의 난수로 작성된 4 by 4 행렬 A,B를 작성하고 두 행렬의 곱 AB를 구하여라."
   ]
  },
  {
   "cell_type": "code",
   "execution_count": 15,
   "id": "51c87f12-618a-4e9a-b912-78e5e206fcd4",
   "metadata": {
    "tags": []
   },
   "outputs": [],
   "source": [
    "import numpy as np\n",
    "np.random.seed(10)\n",
    "A=np.random.randint(-5,6,size=(4,4))\n",
    "B=np.random.randint(-5,6,size=(4,4))"
   ]
  },
  {
   "cell_type": "code",
   "execution_count": 16,
   "id": "d0428c1d-48fd-4102-a63a-b6a6277a4cfe",
   "metadata": {
    "tags": []
   },
   "outputs": [
    {
     "data": {
      "text/latex": [
       "$\\displaystyle \\left[\\begin{matrix}4 & -1 & -5 & -4\\\\4 & -5 & -4 & 5\\\\3 & 4 & -5 & 5\\\\3 & 1 & -1 & -2\\end{matrix}\\right]$"
      ],
      "text/plain": [
       "Matrix([\n",
       "[4, -1, -5, -4],\n",
       "[4, -5, -4,  5],\n",
       "[3,  4, -5,  5],\n",
       "[3,  1, -1, -2]])"
      ]
     },
     "execution_count": 16,
     "metadata": {},
     "output_type": "execute_result"
    }
   ],
   "source": [
    "Matrix(A)"
   ]
  },
  {
   "cell_type": "code",
   "execution_count": 17,
   "id": "90191ff3-ed6e-4d5f-8006-05a27112fb29",
   "metadata": {
    "tags": []
   },
   "outputs": [
    {
     "data": {
      "text/latex": [
       "$\\displaystyle \\left[\\begin{matrix}-5 & -1 & 1 & 3\\\\5 & -4 & 3 & -1\\\\-4 & -2 & 1 & 0\\\\-2 & 4 & 1 & 4\\end{matrix}\\right]$"
      ],
      "text/plain": [
       "Matrix([\n",
       "[-5, -1, 1,  3],\n",
       "[ 5, -4, 3, -1],\n",
       "[-4, -2, 1,  0],\n",
       "[-2,  4, 1,  4]])"
      ]
     },
     "execution_count": 17,
     "metadata": {},
     "output_type": "execute_result"
    }
   ],
   "source": [
    "Matrix(B)"
   ]
  },
  {
   "cell_type": "code",
   "execution_count": 18,
   "id": "18efc7c2-932e-4b16-b5ba-0526f348d3ad",
   "metadata": {
    "tags": []
   },
   "outputs": [
    {
     "data": {
      "text/latex": [
       "$\\displaystyle \\left[\\begin{matrix}3 & -6 & -8 & -3\\\\-39 & 44 & -10 & 37\\\\15 & 11 & 15 & 25\\\\-2 & -13 & 3 & 0\\end{matrix}\\right]$"
      ],
      "text/plain": [
       "Matrix([\n",
       "[  3,  -6,  -8, -3],\n",
       "[-39,  44, -10, 37],\n",
       "[ 15,  11,  15, 25],\n",
       "[ -2, -13,   3,  0]])"
      ]
     },
     "execution_count": 18,
     "metadata": {},
     "output_type": "execute_result"
    }
   ],
   "source": [
    "# 두 행렬의 곱\n",
    "Matrix(A@B)"
   ]
  },
  {
   "cell_type": "code",
   "execution_count": 19,
   "id": "f00cc81a-97ad-4f96-a86f-f34769a1cedf",
   "metadata": {
    "tags": []
   },
   "outputs": [
    {
     "data": {
      "text/latex": [
       "$\\displaystyle \\left[\\begin{matrix}-20 & 1 & -5 & -12\\\\20 & 20 & -12 & -5\\\\-12 & -8 & -5 & 0\\\\-6 & 4 & -1 & -8\\end{matrix}\\right]$"
      ],
      "text/plain": [
       "Matrix([\n",
       "[-20,  1,  -5, -12],\n",
       "[ 20, 20, -12,  -5],\n",
       "[-12, -8,  -5,   0],\n",
       "[ -6,  4,  -1,  -8]])"
      ]
     },
     "execution_count": 19,
     "metadata": {},
     "output_type": "execute_result"
    }
   ],
   "source": [
    "# 같은 위치의 원소의 곱\n",
    "Matrix(A*B)"
   ]
  },
  {
   "cell_type": "code",
   "execution_count": 20,
   "id": "daba5ca3-f5ca-4a2b-9e1f-1466df064f96",
   "metadata": {
    "tags": []
   },
   "outputs": [
    {
     "data": {
      "text/latex": [
       "$\\displaystyle \\left[\\begin{matrix}-12 & 17 & 21 & 14\\\\10 & 26 & -23 & -23\\\\-21 & 18 & 23 & 11\\\\23 & -10 & -15 & 25\\end{matrix}\\right]$"
      ],
      "text/plain": [
       "Matrix([\n",
       "[-12,  17,  21,  14],\n",
       "[ 10,  26, -23, -23],\n",
       "[-21,  18,  23,  11],\n",
       "[ 23, -10, -15,  25]])"
      ]
     },
     "execution_count": 20,
     "metadata": {},
     "output_type": "execute_result"
    }
   ],
   "source": [
    "# AB와 BA는 다르다\n",
    "Matrix(B@A)"
   ]
  },
  {
   "cell_type": "markdown",
   "id": "604f0a78-59ac-47f0-904a-aebbf3a5dd72",
   "metadata": {},
   "source": [
    "## 정방행렬, 단위행렬, 역행렬"
   ]
  },
  {
   "cell_type": "code",
   "execution_count": 12,
   "id": "4333b963-9359-49d0-b65f-e690d3dea95b",
   "metadata": {},
   "outputs": [
    {
     "data": {
      "text/latex": [
       "$\\displaystyle \\left[\\begin{matrix}1 & 0 & 0 & 0\\\\0 & 1 & 0 & 0\\\\0 & 0 & 1 & 0\\\\0 & 0 & 0 & 1\\end{matrix}\\right]$"
      ],
      "text/plain": [
       "Matrix([\n",
       "[1, 0, 0, 0],\n",
       "[0, 1, 0, 0],\n",
       "[0, 0, 1, 0],\n",
       "[0, 0, 0, 1]])"
      ]
     },
     "execution_count": 12,
     "metadata": {},
     "output_type": "execute_result"
    }
   ],
   "source": [
    "# 단위행렬의 예\n",
    "from sympy import eye\n",
    "\n",
    "eye(4)"
   ]
  },
  {
   "cell_type": "code",
   "execution_count": 15,
   "id": "7227b4b0-1d24-4dcb-90a3-1b9e1e728afc",
   "metadata": {},
   "outputs": [
    {
     "data": {
      "text/latex": [
       "$\\displaystyle \\left[\\begin{matrix}1 & 2\\\\3 & 4\\end{matrix}\\right]$"
      ],
      "text/plain": [
       "Matrix([\n",
       "[1, 2],\n",
       "[3, 4]])"
      ]
     },
     "execution_count": 15,
     "metadata": {},
     "output_type": "execute_result"
    }
   ],
   "source": [
    "A=Matrix(2,2,[1,2,3,4])\n",
    "A"
   ]
  },
  {
   "cell_type": "code",
   "execution_count": 17,
   "id": "92a9fade-a5ec-4faa-a2ce-a91772e96acd",
   "metadata": {},
   "outputs": [
    {
     "data": {
      "text/latex": [
       "$\\displaystyle \\left[\\begin{matrix}-2 & 1\\\\\\frac{3}{2} & - \\frac{1}{2}\\end{matrix}\\right]$"
      ],
      "text/plain": [
       "Matrix([\n",
       "[ -2,    1],\n",
       "[3/2, -1/2]])"
      ]
     },
     "execution_count": 17,
     "metadata": {},
     "output_type": "execute_result"
    }
   ],
   "source": [
    "# A의 역행렬\n",
    "X=A.inv()\n",
    "X"
   ]
  },
  {
   "cell_type": "code",
   "execution_count": 18,
   "id": "58725348-e3b4-4311-9b18-91058a7763ea",
   "metadata": {},
   "outputs": [
    {
     "data": {
      "text/latex": [
       "$\\displaystyle \\left[\\begin{matrix}1 & 0\\\\0 & 1\\end{matrix}\\right]$"
      ],
      "text/plain": [
       "Matrix([\n",
       "[1, 0],\n",
       "[0, 1]])"
      ]
     },
     "execution_count": 18,
     "metadata": {},
     "output_type": "execute_result"
    }
   ],
   "source": [
    "A@X"
   ]
  },
  {
   "cell_type": "code",
   "execution_count": 19,
   "id": "ff8abe9c-383c-4f79-9ce4-4f14a926e551",
   "metadata": {},
   "outputs": [
    {
     "data": {
      "text/latex": [
       "$\\displaystyle \\left[\\begin{matrix}1 & 0\\\\0 & 1\\end{matrix}\\right]$"
      ],
      "text/plain": [
       "Matrix([\n",
       "[1, 0],\n",
       "[0, 1]])"
      ]
     },
     "execution_count": 19,
     "metadata": {},
     "output_type": "execute_result"
    }
   ],
   "source": [
    "X@A"
   ]
  },
  {
   "cell_type": "markdown",
   "id": "1c0df9e3-0139-409c-85d5-8fed01cdf8fd",
   "metadata": {},
   "source": [
    "### \t두 행렬 A(m×n),B(n×p)의 곱에 대한 전치행렬에 대해 아래의 관계가 성립하는 것을 보여라. $ (AB)^T= B^T A^T $\n"
   ]
  },
  {
   "cell_type": "code",
   "execution_count": 33,
   "id": "0dea1caf-947b-4d5c-b1a5-0a23d5f81113",
   "metadata": {},
   "outputs": [
    {
     "name": "stdout",
     "output_type": "stream",
     "text": [
      "(AB)^T: B.T*A.T\n",
      "B^T * A^T: B.T*A.T\n",
      "Difference (should be zero matrix): 0\n"
     ]
    }
   ],
   "source": [
    "import sympy as sp\n",
    "\n",
    "m,n,p=sp.symbols('m n p',integer=True, positive=True)\n",
    "# 행렬 변수 정의\n",
    "A = sp.MatrixSymbol('A', m, n)  # A is a mxn matrix\n",
    "B = sp.MatrixSymbol('B', n, p)  # B is a nxp matrix\n",
    "\n",
    "# (AB)^T 계산\n",
    "AB = A * B\n",
    "AB_T = AB.T\n",
    "\n",
    "# B^T * A^T 계산\n",
    "BT_AT = B.T * A.T\n",
    "\n",
    "# 결과 비교\n",
    "proof = sp.simplify(AB_T - BT_AT)  # 두 결과가 동일한지 확인\n",
    "\n",
    "# 결과 출력\n",
    "print(f\"(AB)^T: {AB_T}\")\n",
    "print(f\"B^T * A^T: {BT_AT}\")\n",
    "print(f\"Difference (should be zero matrix): {proof}\")"
   ]
  },
  {
   "cell_type": "markdown",
   "id": "0e855550-90e4-4b20-bbbb-a5bb682a92f4",
   "metadata": {},
   "source": [
    "### D(m×m)의 대각원소를 제외한 모든 원소가 0이라면 D를 대각행렬(diagonal matrix)이라고 부른다. $ D^n $은 각 대각원소의 n제곱으로 이루어짐을 보여라"
   ]
  },
  {
   "cell_type": "code",
   "execution_count": 21,
   "id": "05ac5c4f-d7c0-484e-827b-b3c44f47eee5",
   "metadata": {
    "tags": []
   },
   "outputs": [
    {
     "data": {
      "text/latex": [
       "$\\displaystyle \\left[\\begin{matrix}1 & 0 & 0\\\\0 & 2 & 0\\\\0 & 0 & 3\\end{matrix}\\right]$"
      ],
      "text/plain": [
       "Matrix([\n",
       "[1, 0, 0],\n",
       "[0, 2, 0],\n",
       "[0, 0, 3]])"
      ]
     },
     "execution_count": 21,
     "metadata": {},
     "output_type": "execute_result"
    }
   ],
   "source": [
    "import sympy as sp\n",
    "\n",
    "# 대각행렬의 표현\n",
    "D=sp.diag(1,2,3)\n",
    "D"
   ]
  },
  {
   "cell_type": "code",
   "execution_count": 22,
   "id": "18b3f06b-6aaa-45b5-b76d-8e538f0fc46a",
   "metadata": {
    "tags": []
   },
   "outputs": [
    {
     "data": {
      "text/latex": [
       "$\\displaystyle \\left[\\begin{matrix}1 & 0 & 0\\\\0 & 2^{n} & 0\\\\0 & 0 & 3^{n}\\end{matrix}\\right]$"
      ],
      "text/plain": [
       "Matrix([\n",
       "[1,    0,    0],\n",
       "[0, 2**n,    0],\n",
       "[0,    0, 3**n]])"
      ]
     },
     "execution_count": 22,
     "metadata": {},
     "output_type": "execute_result"
    }
   ],
   "source": [
    "n=sp.symbols('n',integer=True, positive=True)\n",
    "D.pow(n) # 행렬의 n제곱"
   ]
  },
  {
   "cell_type": "code",
   "execution_count": 23,
   "id": "376838f3-e96e-49d5-814e-1c04e673fc41",
   "metadata": {
    "tags": []
   },
   "outputs": [
    {
     "data": {
      "text/latex": [
       "$\\displaystyle \\left[\\begin{matrix}1 & 4\\\\9 & 16\\end{matrix}\\right]$"
      ],
      "text/plain": [
       "Matrix([\n",
       "[1,  4],\n",
       "[9, 16]])"
      ]
     },
     "execution_count": 23,
     "metadata": {},
     "output_type": "execute_result"
    }
   ],
   "source": [
    "# numpy에서 행렬의 거듭제곱\n",
    "import numpy as np\n",
    "\n",
    "A1=np.array([[1,2],[3,4]])\n",
    "sp.Matrix(A1**2) # 각 원소를 거듭제곱한다."
   ]
  },
  {
   "cell_type": "code",
   "execution_count": 24,
   "id": "f9dcb5a8-8fc0-424d-8fb1-f1c37a19011e",
   "metadata": {
    "tags": []
   },
   "outputs": [
    {
     "data": {
      "text/latex": [
       "$\\displaystyle \\left[\\begin{matrix}7 & 10\\\\15 & 22\\end{matrix}\\right]$"
      ],
      "text/plain": [
       "Matrix([\n",
       "[ 7, 10],\n",
       "[15, 22]])"
      ]
     },
     "execution_count": 24,
     "metadata": {},
     "output_type": "execute_result"
    }
   ],
   "source": [
    "sp.Matrix(np.linalg.matrix_power(A1,2))"
   ]
  },
  {
   "cell_type": "code",
   "execution_count": 25,
   "id": "a41f66eb-c691-4289-bb5b-330ea62a9c81",
   "metadata": {
    "tags": []
   },
   "outputs": [
    {
     "data": {
      "text/latex": [
       "$\\displaystyle \\left[\\begin{matrix}7 & 10\\\\15 & 22\\end{matrix}\\right]$"
      ],
      "text/plain": [
       "Matrix([\n",
       "[ 7, 10],\n",
       "[15, 22]])"
      ]
     },
     "execution_count": 25,
     "metadata": {},
     "output_type": "execute_result"
    }
   ],
   "source": [
    "sp.Matrix(A1@A1)"
   ]
  },
  {
   "cell_type": "markdown",
   "id": "11e0cbc0-c3c5-49c4-bd3f-566ad912b156",
   "metadata": {},
   "source": [
    "### 아래 행렬 A,P에 대하여 PA와 AP의 결과를 비교하여 보고, P의 역할에 대해 생각해 보아라"
   ]
  },
  {
   "cell_type": "code",
   "execution_count": 45,
   "id": "4497fd91-0f46-4230-8a00-d231edee5626",
   "metadata": {},
   "outputs": [
    {
     "data": {
      "text/latex": [
       "$\\displaystyle \\left[\\begin{matrix}1 & 2 & 3\\\\4 & 5 & 6\\\\7 & 8 & 9\\end{matrix}\\right]$"
      ],
      "text/plain": [
       "Matrix([\n",
       "[1, 2, 3],\n",
       "[4, 5, 6],\n",
       "[7, 8, 9]])"
      ]
     },
     "execution_count": 45,
     "metadata": {},
     "output_type": "execute_result"
    }
   ],
   "source": [
    "import numpy as np\n",
    "import sympy as sp\n",
    "d=np.arange(1,10).reshape(3,3)\n",
    "A=sp.Matrix(d)\n",
    "A"
   ]
  },
  {
   "cell_type": "code",
   "execution_count": 44,
   "id": "dcc7dde6-f3ba-4b09-9db2-5517268b5436",
   "metadata": {},
   "outputs": [
    {
     "data": {
      "text/latex": [
       "$\\displaystyle \\left[\\begin{matrix}0 & 1 & 0\\\\1 & 0 & 0\\\\0 & 0 & 1\\end{matrix}\\right]$"
      ],
      "text/plain": [
       "Matrix([\n",
       "[0, 1, 0],\n",
       "[1, 0, 0],\n",
       "[0, 0, 1]])"
      ]
     },
     "execution_count": 44,
     "metadata": {},
     "output_type": "execute_result"
    }
   ],
   "source": [
    "# 단위 행렬을 만들어 순서를 바꿈\n",
    "P=sp.eye(3).permute_rows([1, 0, 2])\n",
    "sp.Matrix(P)"
   ]
  },
  {
   "cell_type": "code",
   "execution_count": 46,
   "id": "1bad0219-d330-4ab4-b720-10ad575a7554",
   "metadata": {},
   "outputs": [
    {
     "data": {
      "text/latex": [
       "$\\displaystyle \\left[\\begin{matrix}4 & 5 & 6\\\\1 & 2 & 3\\\\7 & 8 & 9\\end{matrix}\\right]$"
      ],
      "text/plain": [
       "Matrix([\n",
       "[4, 5, 6],\n",
       "[1, 2, 3],\n",
       "[7, 8, 9]])"
      ]
     },
     "execution_count": 46,
     "metadata": {},
     "output_type": "execute_result"
    }
   ],
   "source": [
    "# A 행렬의 왼쪽에 곱하면 \n",
    "# A 행렬의 row 연산에 관여\n",
    "P@A"
   ]
  },
  {
   "cell_type": "code",
   "execution_count": 48,
   "id": "4947ced4-6a48-48ea-8d0f-2c5fac0b7347",
   "metadata": {},
   "outputs": [
    {
     "data": {
      "text/latex": [
       "$\\displaystyle \\left[\\begin{matrix}2 & 1 & 3\\\\5 & 4 & 6\\\\8 & 7 & 9\\end{matrix}\\right]$"
      ],
      "text/plain": [
       "Matrix([\n",
       "[2, 1, 3],\n",
       "[5, 4, 6],\n",
       "[8, 7, 9]])"
      ]
     },
     "execution_count": 48,
     "metadata": {},
     "output_type": "execute_result"
    }
   ],
   "source": [
    "# A 행렬의 오른쪽에 곱하면 \n",
    "# A 행렬의 column 연산에 관여\n",
    "A@P"
   ]
  },
  {
   "cell_type": "markdown",
   "id": "ffebe520-db08-4918-b6c5-b2ac8f2f60a0",
   "metadata": {},
   "source": [
    "## Elmentary Matrix"
   ]
  },
  {
   "cell_type": "code",
   "execution_count": 1,
   "id": "aab24c09-f081-47da-9aec-9e9c286ca14c",
   "metadata": {
    "tags": []
   },
   "outputs": [
    {
     "data": {
      "text/latex": [
       "$\\displaystyle \\left[\\begin{matrix}2 & 2 & 4\\\\8 & -4 & 8\\\\-4 & 8 & 16\\end{matrix}\\right]$"
      ],
      "text/plain": [
       "Matrix([\n",
       "[ 2,  2,  4],\n",
       "[ 8, -4,  8],\n",
       "[-4,  8, 16]])"
      ]
     },
     "execution_count": 1,
     "metadata": {},
     "output_type": "execute_result"
    }
   ],
   "source": [
    "import numpy as np\n",
    "from sympy import Matrix\n",
    "\n",
    "A=Matrix(3,3,[2,2,4,8,-4,8,-4,8,16])\n",
    "A"
   ]
  },
  {
   "cell_type": "code",
   "execution_count": 2,
   "id": "0dad5a92-68ad-45e0-89aa-804f2ddc70c2",
   "metadata": {
    "tags": []
   },
   "outputs": [
    {
     "data": {
      "text/latex": [
       "$\\displaystyle \\left[\\begin{matrix}0.5 & 0 & 0\\\\0 & 1 & 0\\\\0 & 0 & 1\\end{matrix}\\right]$"
      ],
      "text/plain": [
       "Matrix([\n",
       "[0.5, 0, 0],\n",
       "[  0, 1, 0],\n",
       "[  0, 0, 1]])"
      ]
     },
     "execution_count": 2,
     "metadata": {},
     "output_type": "execute_result"
    }
   ],
   "source": [
    "E=Matrix(3,3,[0.5,0,0,0,1,0,0,0,1])\n",
    "E"
   ]
  },
  {
   "cell_type": "code",
   "execution_count": 4,
   "id": "eadd08be-545a-49a1-b6ff-84a4d34a5f8a",
   "metadata": {
    "tags": []
   },
   "outputs": [
    {
     "data": {
      "text/latex": [
       "$\\displaystyle \\left[\\begin{matrix}1.0 & 1.0 & 2.0\\\\8 & -4 & 8\\\\-4 & 8 & 16\\end{matrix}\\right]$"
      ],
      "text/plain": [
       "Matrix([\n",
       "[1.0, 1.0, 2.0],\n",
       "[  8,  -4,   8],\n",
       "[ -4,   8,  16]])"
      ]
     },
     "execution_count": 4,
     "metadata": {},
     "output_type": "execute_result"
    }
   ],
   "source": [
    "EA=E@A\n",
    "EA"
   ]
  },
  {
   "cell_type": "code",
   "execution_count": 5,
   "id": "b18d244f-b049-4b4e-8d67-201ca1367f6c",
   "metadata": {
    "tags": []
   },
   "outputs": [
    {
     "data": {
      "text/latex": [
       "$\\displaystyle \\left[\\begin{matrix}1 & 0 & 0\\\\-8 & 1 & 0\\\\0 & 0 & 1\\end{matrix}\\right]$"
      ],
      "text/plain": [
       "Matrix([\n",
       "[ 1, 0, 0],\n",
       "[-8, 1, 0],\n",
       "[ 0, 0, 1]])"
      ]
     },
     "execution_count": 5,
     "metadata": {},
     "output_type": "execute_result"
    }
   ],
   "source": [
    "E1=Matrix(3,3,[1,0,0,-8,1,0,0,0,1])\n",
    "E1"
   ]
  },
  {
   "cell_type": "code",
   "execution_count": 6,
   "id": "f75137e0-51f0-4c30-aa3d-2ece2808527b",
   "metadata": {
    "tags": []
   },
   "outputs": [
    {
     "data": {
      "text/latex": [
       "$\\displaystyle \\left[\\begin{matrix}1.0 & 1.0 & 2.0\\\\0 & -12.0 & -8.0\\\\-4 & 8 & 16\\end{matrix}\\right]$"
      ],
      "text/plain": [
       "Matrix([\n",
       "[1.0,   1.0,  2.0],\n",
       "[  0, -12.0, -8.0],\n",
       "[ -4,     8,   16]])"
      ]
     },
     "execution_count": 6,
     "metadata": {},
     "output_type": "execute_result"
    }
   ],
   "source": [
    "E1@EA"
   ]
  },
  {
   "cell_type": "code",
   "execution_count": 7,
   "id": "02307774-f11e-428f-ad3d-4fb1addac7cb",
   "metadata": {
    "tags": []
   },
   "outputs": [
    {
     "data": {
      "text/latex": [
       "$\\displaystyle \\left[\\begin{matrix}1 & 0 & 0\\\\0 & 1 & 0\\\\4 & 0 & 1\\end{matrix}\\right]$"
      ],
      "text/plain": [
       "Matrix([\n",
       "[1, 0, 0],\n",
       "[0, 1, 0],\n",
       "[4, 0, 1]])"
      ]
     },
     "execution_count": 7,
     "metadata": {},
     "output_type": "execute_result"
    }
   ],
   "source": [
    "E2=Matrix(3,3,[1,0,0,0,1,0,4,0,1])\n",
    "E2"
   ]
  },
  {
   "cell_type": "code",
   "execution_count": 8,
   "id": "5f3fa5b4-77be-401d-a3a3-42470473e82e",
   "metadata": {
    "tags": []
   },
   "outputs": [
    {
     "data": {
      "text/latex": [
       "$\\displaystyle \\left[\\begin{matrix}1.0 & 1.0 & 2.0\\\\0 & -12.0 & -8.0\\\\0 & 12.0 & 24.0\\end{matrix}\\right]$"
      ],
      "text/plain": [
       "Matrix([\n",
       "[1.0,   1.0,  2.0],\n",
       "[  0, -12.0, -8.0],\n",
       "[  0,  12.0, 24.0]])"
      ]
     },
     "execution_count": 8,
     "metadata": {},
     "output_type": "execute_result"
    }
   ],
   "source": [
    "E2@E1@EA"
   ]
  },
  {
   "cell_type": "code",
   "execution_count": 10,
   "id": "58387383-fceb-4027-b0b0-13417b13623d",
   "metadata": {
    "tags": []
   },
   "outputs": [
    {
     "data": {
      "text/latex": [
       "$\\displaystyle \\left[\\begin{matrix}1 & 0 & 0\\\\0 & -0.0833333333333333 & 0\\\\0 & 0 & 1\\end{matrix}\\right]$"
      ],
      "text/plain": [
       "Matrix([\n",
       "[1,                   0, 0],\n",
       "[0, -0.0833333333333333, 0],\n",
       "[0,                   0, 1]])"
      ]
     },
     "execution_count": 10,
     "metadata": {},
     "output_type": "execute_result"
    }
   ],
   "source": [
    "E3=Matrix(3,3,[1,0,0,0,-1/12,0,0,0,1])\n",
    "E3"
   ]
  },
  {
   "cell_type": "code",
   "execution_count": 11,
   "id": "3ce98141-2028-4925-8c75-eab9738d3e1b",
   "metadata": {
    "tags": []
   },
   "outputs": [
    {
     "data": {
      "text/latex": [
       "$\\displaystyle \\left[\\begin{matrix}1.0 & 1.0 & 2.0\\\\0 & 1.0 & 0.666666666666667\\\\0 & 12.0 & 24.0\\end{matrix}\\right]$"
      ],
      "text/plain": [
       "Matrix([\n",
       "[1.0,  1.0,               2.0],\n",
       "[  0,  1.0, 0.666666666666667],\n",
       "[  0, 12.0,              24.0]])"
      ]
     },
     "execution_count": 11,
     "metadata": {},
     "output_type": "execute_result"
    }
   ],
   "source": [
    "E3@E2@E1@EA"
   ]
  },
  {
   "cell_type": "code",
   "execution_count": 12,
   "id": "52fe87ab-04c3-4f7c-948c-f31d695e72fa",
   "metadata": {
    "tags": []
   },
   "outputs": [
    {
     "data": {
      "text/latex": [
       "$\\displaystyle \\left[\\begin{matrix}1 & -1 & 0\\\\0 & 1 & 0\\\\0 & 0 & 1\\end{matrix}\\right]$"
      ],
      "text/plain": [
       "Matrix([\n",
       "[1, -1, 0],\n",
       "[0,  1, 0],\n",
       "[0,  0, 1]])"
      ]
     },
     "execution_count": 12,
     "metadata": {},
     "output_type": "execute_result"
    }
   ],
   "source": [
    "E4=Matrix(3,3,[1,-1,0,0,1,0,0,0,1])\n",
    "E4"
   ]
  },
  {
   "cell_type": "code",
   "execution_count": 13,
   "id": "8c754544-fe2a-455d-8e75-d017888bd45d",
   "metadata": {
    "tags": []
   },
   "outputs": [
    {
     "data": {
      "text/latex": [
       "$\\displaystyle \\left[\\begin{matrix}1.0 & 5.55111512312578 \\cdot 10^{-17} & 1.33333333333333\\\\0 & 1.0 & 0.666666666666667\\\\0 & 12.0 & 24.0\\end{matrix}\\right]$"
      ],
      "text/plain": [
       "Matrix([\n",
       "[1.0, 5.55111512312578e-17,  1.33333333333333],\n",
       "[  0,                  1.0, 0.666666666666667],\n",
       "[  0,                 12.0,              24.0]])"
      ]
     },
     "execution_count": 13,
     "metadata": {},
     "output_type": "execute_result"
    }
   ],
   "source": [
    "E4@E3@E2@E1@EA"
   ]
  },
  {
   "cell_type": "code",
   "execution_count": 14,
   "id": "8bb96e59-53d6-4cd7-9d13-700f481eeede",
   "metadata": {
    "tags": []
   },
   "outputs": [
    {
     "data": {
      "text/latex": [
       "$\\displaystyle \\left[\\begin{matrix}1 & 0 & 0\\\\0 & 1 & 0\\\\0 & -12 & 1\\end{matrix}\\right]$"
      ],
      "text/plain": [
       "Matrix([\n",
       "[1,   0, 0],\n",
       "[0,   1, 0],\n",
       "[0, -12, 1]])"
      ]
     },
     "execution_count": 14,
     "metadata": {},
     "output_type": "execute_result"
    }
   ],
   "source": [
    "E5=Matrix(3,3,[1,0,0,0,1,0,0,-12,1])\n",
    "E5"
   ]
  },
  {
   "cell_type": "code",
   "execution_count": 15,
   "id": "a8c0db82-30b2-4215-8c4a-9d5c384ffc54",
   "metadata": {
    "tags": []
   },
   "outputs": [
    {
     "data": {
      "text/latex": [
       "$\\displaystyle \\left[\\begin{matrix}1.0 & 5.55111512312578 \\cdot 10^{-17} & 1.33333333333333\\\\0 & 1.0 & 0.666666666666667\\\\0 & 0 & 16\\end{matrix}\\right]$"
      ],
      "text/plain": [
       "Matrix([\n",
       "[1.0, 5.55111512312578e-17,  1.33333333333333],\n",
       "[  0,                  1.0, 0.666666666666667],\n",
       "[  0,                    0,                16]])"
      ]
     },
     "execution_count": 15,
     "metadata": {},
     "output_type": "execute_result"
    }
   ],
   "source": [
    "E5@E4@E3@E2@E1@EA"
   ]
  },
  {
   "cell_type": "code",
   "execution_count": 16,
   "id": "5696d542-db65-4591-9492-818e85ab0d1e",
   "metadata": {
    "tags": []
   },
   "outputs": [
    {
     "data": {
      "text/latex": [
       "$\\displaystyle \\left[\\begin{matrix}1 & 0 & 0\\\\0 & 1 & 0\\\\0 & 0 & 0.0625\\end{matrix}\\right]$"
      ],
      "text/plain": [
       "Matrix([\n",
       "[1, 0,      0],\n",
       "[0, 1,      0],\n",
       "[0, 0, 0.0625]])"
      ]
     },
     "execution_count": 16,
     "metadata": {},
     "output_type": "execute_result"
    }
   ],
   "source": [
    "E6=Matrix(3,3,[1,0,0,0,1,0,0,0,1/16])\n",
    "E6"
   ]
  },
  {
   "cell_type": "code",
   "execution_count": 17,
   "id": "c5854420-5d36-49f2-8c54-e3042930359a",
   "metadata": {
    "tags": []
   },
   "outputs": [
    {
     "data": {
      "text/latex": [
       "$\\displaystyle \\left[\\begin{matrix}1.0 & 5.55111512312578 \\cdot 10^{-17} & 1.33333333333333\\\\0 & 1.0 & 0.666666666666667\\\\0 & 0 & 1.0\\end{matrix}\\right]$"
      ],
      "text/plain": [
       "Matrix([\n",
       "[1.0, 5.55111512312578e-17,  1.33333333333333],\n",
       "[  0,                  1.0, 0.666666666666667],\n",
       "[  0,                    0,               1.0]])"
      ]
     },
     "execution_count": 17,
     "metadata": {},
     "output_type": "execute_result"
    }
   ],
   "source": [
    "E6@E5@E4@E3@E2@E1@EA"
   ]
  },
  {
   "cell_type": "code",
   "execution_count": 18,
   "id": "7698f64e-d469-4c36-9cea-4d9034ac316e",
   "metadata": {
    "tags": []
   },
   "outputs": [
    {
     "data": {
      "text/latex": [
       "$\\displaystyle \\left[\\begin{matrix}1 & 0 & -1.33333333333333\\\\0 & 1 & 0\\\\0 & 0 & 1\\end{matrix}\\right]$"
      ],
      "text/plain": [
       "Matrix([\n",
       "[1, 0, -1.33333333333333],\n",
       "[0, 1,                 0],\n",
       "[0, 0,                 1]])"
      ]
     },
     "execution_count": 18,
     "metadata": {},
     "output_type": "execute_result"
    }
   ],
   "source": [
    "E7=Matrix(3,3,[1,0,-4/3,0,1,0,0,0,1])\n",
    "E7"
   ]
  },
  {
   "cell_type": "code",
   "execution_count": 19,
   "id": "aada68c2-d932-4d57-8ca4-09cbcf43d98a",
   "metadata": {
    "tags": []
   },
   "outputs": [
    {
     "data": {
      "text/latex": [
       "$\\displaystyle \\left[\\begin{matrix}1.0 & 1.11022302462516 \\cdot 10^{-16} & 2.22044604925031 \\cdot 10^{-16}\\\\0 & 1.0 & 0.666666666666667\\\\0 & 0 & 1.0\\end{matrix}\\right]$"
      ],
      "text/plain": [
       "Matrix([\n",
       "[1.0, 1.11022302462516e-16, 2.22044604925031e-16],\n",
       "[  0,                  1.0,    0.666666666666667],\n",
       "[  0,                    0,                  1.0]])"
      ]
     },
     "execution_count": 19,
     "metadata": {},
     "output_type": "execute_result"
    }
   ],
   "source": [
    "E7@E6@E5@E4@E3@E2@E1@EA"
   ]
  },
  {
   "cell_type": "code",
   "execution_count": 20,
   "id": "9ced6b23-44f3-4cc4-931a-1f38c76eb05d",
   "metadata": {
    "tags": []
   },
   "outputs": [
    {
     "data": {
      "text/latex": [
       "$\\displaystyle \\left[\\begin{matrix}1 & 0 & 0\\\\0 & 1 & -0.666666666666667\\\\0 & 0 & 1\\end{matrix}\\right]$"
      ],
      "text/plain": [
       "Matrix([\n",
       "[1, 0,                  0],\n",
       "[0, 1, -0.666666666666667],\n",
       "[0, 0,                  1]])"
      ]
     },
     "execution_count": 20,
     "metadata": {},
     "output_type": "execute_result"
    }
   ],
   "source": [
    "E8=Matrix(3,3,[1,0,0,0,1,-2/3,0,0,1])\n",
    "E8"
   ]
  },
  {
   "cell_type": "code",
   "execution_count": 23,
   "id": "8dd4960d-6634-41ec-aa2f-77fddfa74b63",
   "metadata": {
    "tags": []
   },
   "outputs": [
    {
     "data": {
      "text/latex": [
       "$\\displaystyle \\left[\\begin{matrix}1.0 & 1.11022302462516 \\cdot 10^{-16} & 2.22044604925031 \\cdot 10^{-16}\\\\2.77555756156289 \\cdot 10^{-17} & 1.0 & 1.11022302462516 \\cdot 10^{-16}\\\\0 & 0 & 1.0\\end{matrix}\\right]$"
      ],
      "text/plain": [
       "Matrix([\n",
       "[                 1.0, 1.11022302462516e-16, 2.22044604925031e-16],\n",
       "[2.77555756156289e-17,                  1.0, 1.11022302462516e-16],\n",
       "[                   0,                    0,                  1.0]])"
      ]
     },
     "execution_count": 23,
     "metadata": {},
     "output_type": "execute_result"
    }
   ],
   "source": [
    "E8@E7@E6@E5@E4@E3@E2@E1@EA"
   ]
  },
  {
   "cell_type": "code",
   "execution_count": 2,
   "id": "b8bc1148-153a-4e1c-830a-b3d70055b43d",
   "metadata": {
    "tags": []
   },
   "outputs": [
    {
     "data": {
      "text/latex": [
       "$\\displaystyle - \\sin{\\left(θ_{1} \\right)} \\sin{\\left(θ_{2} \\right)} + \\cos{\\left(θ_{1} \\right)} \\cos{\\left(θ_{2} \\right)}$"
      ],
      "text/plain": [
       "-sin(θ_1)*sin(θ_2) + cos(θ_1)*cos(θ_2)"
      ]
     },
     "execution_count": 2,
     "metadata": {},
     "output_type": "execute_result"
    }
   ],
   "source": [
    "# 삼각함수의 덧셈공식\n",
    "from sympy import symbols,cos\n",
    "t1,t2=symbols('θ_1 θ_2')\n",
    "cos(t1+t2).expand(trig=True)"
   ]
  },
  {
   "cell_type": "code",
   "execution_count": 3,
   "id": "e3b4e9da-af14-437f-8200-704493570ef4",
   "metadata": {
    "tags": []
   },
   "outputs": [
    {
     "data": {
      "text/latex": [
       "$\\displaystyle \\sin{\\left(θ_{1} \\right)} \\cos{\\left(θ_{2} \\right)} + \\sin{\\left(θ_{2} \\right)} \\cos{\\left(θ_{1} \\right)}$"
      ],
      "text/plain": [
       "sin(θ_1)*cos(θ_2) + sin(θ_2)*cos(θ_1)"
      ]
     },
     "execution_count": 3,
     "metadata": {},
     "output_type": "execute_result"
    }
   ],
   "source": [
    "from sympy import sin,tan\n",
    "\n",
    "sin(t1+t2).expand(trig=True)"
   ]
  },
  {
   "cell_type": "code",
   "execution_count": 6,
   "id": "0d50674b-7225-4505-b974-b55c6bf17205",
   "metadata": {
    "tags": []
   },
   "outputs": [
    {
     "data": {
      "text/latex": [
       "$\\displaystyle - \\frac{\\tan{\\left(θ_{1} \\right)} + \\tan{\\left(θ_{2} \\right)}}{\\tan{\\left(θ_{1} \\right)} \\tan{\\left(θ_{2} \\right)} - 1}$"
      ],
      "text/plain": [
       "-(tan(θ_1) + tan(θ_2))/(tan(θ_1)*tan(θ_2) - 1)"
      ]
     },
     "execution_count": 6,
     "metadata": {},
     "output_type": "execute_result"
    }
   ],
   "source": [
    "tan(t1+t2).expand(trig=True).simplify()"
   ]
  },
  {
   "cell_type": "code",
   "execution_count": 8,
   "id": "0c5221cf-6740-4405-80f8-abb0727125f0",
   "metadata": {
    "tags": []
   },
   "outputs": [
    {
     "data": {
      "text/latex": [
       "$\\displaystyle \\left[\\begin{matrix}7 & 6 & 7\\\\2 & 0 & 4\\\\3 & 4 & 3\\end{matrix}\\right]$"
      ],
      "text/plain": [
       "Matrix([\n",
       "[7, 6, 7],\n",
       "[2, 0, 4],\n",
       "[3, 4, 3]])"
      ]
     },
     "execution_count": 8,
     "metadata": {},
     "output_type": "execute_result"
    }
   ],
   "source": [
    "# 행렬의 trace\n",
    "import numpy as np\n",
    "from sympy import Matrix\n",
    "\n",
    "A=np.random.randint(0,9,size=9)\n",
    "A=Matrix(A.reshape(3,3))\n",
    "A"
   ]
  },
  {
   "cell_type": "code",
   "execution_count": 9,
   "id": "1d377bc7-b598-4f86-8741-16a0002aca7d",
   "metadata": {
    "tags": []
   },
   "outputs": [
    {
     "data": {
      "text/latex": [
       "$\\displaystyle 10$"
      ],
      "text/plain": [
       "10"
      ]
     },
     "execution_count": 9,
     "metadata": {},
     "output_type": "execute_result"
    }
   ],
   "source": [
    "A.trace()"
   ]
  },
  {
   "cell_type": "markdown",
   "id": "2f313211-ec71-4b87-bfe3-2648dd16e5ba",
   "metadata": {
    "tags": []
   },
   "source": [
    "# 행렬식"
   ]
  },
  {
   "cell_type": "code",
   "execution_count": 26,
   "id": "e8602bb4-9fe2-45a9-ad70-865fe0856d31",
   "metadata": {
    "tags": []
   },
   "outputs": [
    {
     "name": "stdout",
     "output_type": "stream",
     "text": [
      "순열의 부호: -1\n"
     ]
    }
   ],
   "source": [
    "from sympy.combinatorics import Permutation\n",
    "\n",
    "# 순열 생성\n",
    "perm = Permutation([1, 0, 2])\n",
    "\n",
    "# 순열의 부호 계산\n",
    "permutation_sign = perm.signature()\n",
    "\n",
    "print(\"순열의 부호:\", permutation_sign)"
   ]
  },
  {
   "cell_type": "markdown",
   "id": "75fc1d40-0317-429f-b995-62ea738f6e41",
   "metadata": {},
   "source": [
    "### 'CAB' 문자열에 대한 sign 값 생성"
   ]
  },
  {
   "cell_type": "code",
   "execution_count": 42,
   "id": "9a151a20-cb08-49c8-bc51-fecb2a37c106",
   "metadata": {
    "tags": []
   },
   "outputs": [
    {
     "data": {
      "text/plain": [
       "{'A': 0, 'B': 1, 'C': 2}"
      ]
     },
     "execution_count": 42,
     "metadata": {},
     "output_type": "execute_result"
    }
   ],
   "source": [
    "# 알파벳 문자열과 대응하는 정수 리스트 생성\n",
    "L = 'ABC'\n",
    "mapping = {char: idx for idx, char in enumerate(L)}\n",
    "mapping"
   ]
  },
  {
   "cell_type": "code",
   "execution_count": 37,
   "id": "89548ccd-1345-43ad-ab2c-fd7c81cc6b08",
   "metadata": {
    "tags": []
   },
   "outputs": [
    {
     "name": "stdout",
     "output_type": "stream",
     "text": [
      "CAB 순열의 부호: 1\n"
     ]
    }
   ],
   "source": [
    "# 문자열에 대한 정수 순열로 변환\n",
    "perm_str = 'CAB'\n",
    "perm_int = [mapping[char] for char in perm_str]\n",
    "\n",
    "# 순열의 부호 계산\n",
    "permutation = Permutation(perm_int)\n",
    "permutation_sign = permutation.signature()\n",
    "\n",
    "print(\"CAB 순열의 부호:\", permutation_sign)"
   ]
  },
  {
   "cell_type": "code",
   "execution_count": 5,
   "id": "e1ef0c54-0e52-4b4b-b1cd-f215ddafd595",
   "metadata": {
    "tags": []
   },
   "outputs": [
    {
     "name": "stdout",
     "output_type": "stream",
     "text": [
      "('A', 'B', 'C')\n",
      "('A', 'C', 'B')\n",
      "('B', 'A', 'C')\n",
      "('B', 'C', 'A')\n",
      "('C', 'A', 'B')\n",
      "('C', 'B', 'A')\n"
     ]
    }
   ],
   "source": [
    "# Permutations() 이해\n",
    "L = 'ABC'\n",
    "import itertools\n",
    "for perm in itertools.permutations(L):\n",
    "    print(perm)"
   ]
  },
  {
   "cell_type": "markdown",
   "id": "144eac07-ca17-4239-bf21-a6dd04a34309",
   "metadata": {},
   "source": [
    "### '35142'의 sign 값을 구하여라. "
   ]
  },
  {
   "cell_type": "code",
   "execution_count": 36,
   "id": "b763ce24-57c3-44d8-88e4-efa96fd11553",
   "metadata": {
    "tags": []
   },
   "outputs": [
    {
     "data": {
      "text/plain": [
       "1"
      ]
     },
     "execution_count": 36,
     "metadata": {},
     "output_type": "execute_result"
    }
   ],
   "source": [
    "from sympy.combinatorics import Permutation\n",
    "\n",
    "# 직접 0-based index로 변환 후 Permutation 객체 생성\n",
    "perm = Permutation([x - 1 for x in [3, 5, 1, 4, 2]])\n",
    "\n",
    "# 순열의 부호 계산\n",
    "perm.signature()"
   ]
  },
  {
   "cell_type": "markdown",
   "id": "c0f1aaea-2e66-4447-892e-dd87ee69a108",
   "metadata": {},
   "source": [
    "### ‘ABCD’ 문자조합에 대해 가능한 모든 순열 조합을 생성하고, 각 조합에 대한 sgn()값을 출력해 보아라. "
   ]
  },
  {
   "cell_type": "code",
   "execution_count": 40,
   "id": "4b97faf6-ea36-4088-a170-8a9798cea1f4",
   "metadata": {
    "tags": []
   },
   "outputs": [
    {
     "name": "stdout",
     "output_type": "stream",
     "text": [
      "순열: ('A', 'B', 'C', 'D'), sign: 1\n",
      "순열: ('A', 'B', 'D', 'C'), sign: -1\n",
      "순열: ('A', 'C', 'B', 'D'), sign: -1\n",
      "순열: ('A', 'C', 'D', 'B'), sign: 1\n",
      "순열: ('A', 'D', 'B', 'C'), sign: 1\n",
      "순열: ('A', 'D', 'C', 'B'), sign: -1\n",
      "순열: ('B', 'A', 'C', 'D'), sign: -1\n",
      "순열: ('B', 'A', 'D', 'C'), sign: 1\n",
      "순열: ('B', 'C', 'A', 'D'), sign: 1\n",
      "순열: ('B', 'C', 'D', 'A'), sign: -1\n",
      "순열: ('B', 'D', 'A', 'C'), sign: -1\n",
      "순열: ('B', 'D', 'C', 'A'), sign: 1\n",
      "순열: ('C', 'A', 'B', 'D'), sign: 1\n",
      "순열: ('C', 'A', 'D', 'B'), sign: -1\n",
      "순열: ('C', 'B', 'A', 'D'), sign: -1\n",
      "순열: ('C', 'B', 'D', 'A'), sign: 1\n",
      "순열: ('C', 'D', 'A', 'B'), sign: 1\n",
      "순열: ('C', 'D', 'B', 'A'), sign: -1\n",
      "순열: ('D', 'A', 'B', 'C'), sign: -1\n",
      "순열: ('D', 'A', 'C', 'B'), sign: 1\n",
      "순열: ('D', 'B', 'A', 'C'), sign: 1\n",
      "순열: ('D', 'B', 'C', 'A'), sign: -1\n",
      "순열: ('D', 'C', 'A', 'B'), sign: -1\n",
      "순열: ('D', 'C', 'B', 'A'), sign: 1\n"
     ]
    }
   ],
   "source": [
    "import itertools\n",
    "from sympy.combinatorics import Permutation\n",
    "\n",
    "# 리스트 정의\n",
    "L = 'ABCD'\n",
    "\n",
    "# 모든 순열 생성\n",
    "for perm in itertools.permutations(L):\n",
    "    perm_list = list(perm)  # 튜플을 리스트로 변환\n",
    "\n",
    "    # 1-based index를 0-based index로 변환 (A=1 → 0, B=2 → 1, C=3 → 2)\n",
    "    # ord() 문자 유니코드 포인트값 반환, 각 문자를 ord('A')로 차감\n",
    "    perm_indices = [ord(c) - ord('A') for c in perm_list]\n",
    "\n",
    "    # Permutation 객체 생성 후 부호 계산\n",
    "    perm_obj = Permutation(perm_indices)\n",
    "    sign_value = perm_obj.signature()\n",
    "\n",
    "    # 결과 출력\n",
    "    print(f\"순열: {perm}, sign: {sign_value}\")"
   ]
  },
  {
   "cell_type": "markdown",
   "id": "4345a9a7-8a08-4e9e-8d5c-7fe1c30a4f05",
   "metadata": {},
   "source": [
    "### 아래의 행렬 A에 대하여 위 정의에 의한 행렬식의 값을 구하여라"
   ]
  },
  {
   "cell_type": "code",
   "execution_count": 43,
   "id": "e1ff7915-dd23-4f1a-a951-fa3bc6e0c080",
   "metadata": {
    "tags": []
   },
   "outputs": [
    {
     "data": {
      "text/latex": [
       "$\\displaystyle \\left[\\begin{matrix}1 & 2 & 3\\\\4 & 5 & 6\\\\7 & 8 & -9\\end{matrix}\\right]$"
      ],
      "text/plain": [
       "Matrix([\n",
       "[1, 2,  3],\n",
       "[4, 5,  6],\n",
       "[7, 8, -9]])"
      ]
     },
     "execution_count": 43,
     "metadata": {},
     "output_type": "execute_result"
    }
   ],
   "source": [
    "from sympy import Matrix\n",
    "A=Matrix(3,3,[1,2,3,4,5,6,7,8,-9])\n",
    "A"
   ]
  },
  {
   "cell_type": "code",
   "execution_count": 44,
   "id": "49631f18-5232-4002-8499-e03f760ca9da",
   "metadata": {
    "tags": []
   },
   "outputs": [
    {
     "name": "stdout",
     "output_type": "stream",
     "text": [
      "(0, 1, 2)\n",
      "(0, 2, 1)\n",
      "(1, 0, 2)\n",
      "(1, 2, 0)\n",
      "(2, 0, 1)\n",
      "(2, 1, 0)\n"
     ]
    }
   ],
   "source": [
    "from sympy.combinatorics import Permutation\n",
    "import itertools\n",
    "\n",
    "permutations = []  # 모든 가능한 순열 저장\n",
    "\n",
    "# 가능한 모든 순열 생성\n",
    "for perm in itertools.permutations(range(3)):\n",
    "    print(perm)\n",
    "    permutations.append(perm)"
   ]
  },
  {
   "cell_type": "code",
   "execution_count": 45,
   "id": "10e322e7-cccc-49cb-8713-e5f1dacc10c3",
   "metadata": {
    "tags": []
   },
   "outputs": [
    {
     "data": {
      "text/latex": [
       "$\\displaystyle 54$"
      ],
      "text/plain": [
       "54"
      ]
     },
     "execution_count": 45,
     "metadata": {},
     "output_type": "execute_result"
    }
   ],
   "source": [
    "determinant_sum = 0  # 행렬식의 합\n",
    "\n",
    "# 순열에 대한 합 계산\n",
    "for perm in permutations: # 앞에서 미리 만든 순열에 대해\n",
    "    # sgn() 값 계산\n",
    "    permutation_sign = Permutation(perm).signature()\n",
    "    product = 1\n",
    "    for i in range(3):\n",
    "        # 각 행에서 perm[] 순서에 맞는 원소 선택\n",
    "        product *= A[i, perm[i]] # 원소들의 곱\n",
    "    # 하나의 순열에 대한 최종 값을 구하고 이들을 계속 더해줌\n",
    "    determinant_sum += permutation_sign * product\n",
    "\n",
    "determinant_sum # 최종 합계 출력"
   ]
  },
  {
   "cell_type": "code",
   "execution_count": 46,
   "id": "601ea9f3-1327-424e-9cd0-07e2dbc26162",
   "metadata": {
    "tags": []
   },
   "outputs": [
    {
     "data": {
      "text/latex": [
       "$\\displaystyle 54$"
      ],
      "text/plain": [
       "54"
      ]
     },
     "execution_count": 46,
     "metadata": {},
     "output_type": "execute_result"
    }
   ],
   "source": [
    "from sympy import det\n",
    "det(A)"
   ]
  },
  {
   "cell_type": "markdown",
   "id": "8cfd216b-12dd-42f7-bfe2-83a0ad39ef4b",
   "metadata": {},
   "source": [
    "### 아래 행렬에 대하여 minor와 cofactor를 이용하여 A의 행렬식을 구하여라. "
   ]
  },
  {
   "cell_type": "code",
   "execution_count": 11,
   "id": "b2b0fefd-cad2-4dff-b624-598ae949c520",
   "metadata": {
    "tags": []
   },
   "outputs": [
    {
     "data": {
      "text/latex": [
       "$\\displaystyle \\left[\\begin{matrix}5 & 6\\\\8 & -9\\end{matrix}\\right]$"
      ],
      "text/plain": [
       "Matrix([\n",
       "[5,  6],\n",
       "[8, -9]])"
      ]
     },
     "execution_count": 11,
     "metadata": {},
     "output_type": "execute_result"
    }
   ],
   "source": [
    "A11=A[1:,1:]\n",
    "A11"
   ]
  },
  {
   "cell_type": "code",
   "execution_count": 12,
   "id": "b04706e0-4810-408a-9e28-700bbc21d5e1",
   "metadata": {
    "tags": []
   },
   "outputs": [
    {
     "data": {
      "text/latex": [
       "$\\displaystyle -93$"
      ],
      "text/plain": [
       "-93"
      ]
     },
     "execution_count": 12,
     "metadata": {},
     "output_type": "execute_result"
    }
   ],
   "source": [
    "det(A11)"
   ]
  },
  {
   "cell_type": "code",
   "execution_count": 18,
   "id": "6f7f39e2-f4c0-4fdb-8845-54f354ee6fda",
   "metadata": {
    "tags": []
   },
   "outputs": [
    {
     "data": {
      "text/latex": [
       "$\\displaystyle -78$"
      ],
      "text/plain": [
       "-78"
      ]
     },
     "execution_count": 18,
     "metadata": {},
     "output_type": "execute_result"
    }
   ],
   "source": [
    "# minor는 행과 열을 삭제한 작은 행렬의 행렬식\n",
    "A.minor(0,1)"
   ]
  },
  {
   "cell_type": "code",
   "execution_count": 17,
   "id": "64abc04b-8993-4815-81d7-b93cc6232c27",
   "metadata": {
    "tags": []
   },
   "outputs": [
    {
     "data": {
      "text/latex": [
       "$\\displaystyle 78$"
      ],
      "text/plain": [
       "78"
      ]
     },
     "execution_count": 17,
     "metadata": {},
     "output_type": "execute_result"
    }
   ],
   "source": [
    "# cofactor는 minor에 (-1)^(i+j) 를 곱한 값\n",
    "A.cofactor(0,1)"
   ]
  },
  {
   "cell_type": "code",
   "execution_count": 16,
   "id": "33cea0da-a51d-4acf-89d8-54f7338cd953",
   "metadata": {
    "tags": []
   },
   "outputs": [
    {
     "data": {
      "text/latex": [
       "$\\displaystyle \\left[\\begin{matrix}-93 & 78 & -3\\\\42 & -30 & 6\\\\-3 & 6 & -3\\end{matrix}\\right]$"
      ],
      "text/plain": [
       "Matrix([\n",
       "[-93,  78, -3],\n",
       "[ 42, -30,  6],\n",
       "[ -3,   6, -3]])"
      ]
     },
     "execution_count": 16,
     "metadata": {},
     "output_type": "execute_result"
    }
   ],
   "source": [
    "# A의 cofactor 행렬 계산\n",
    "cofactor_matrix = A.cofactor_matrix()\n",
    "Matrix(cofactor_matrix)"
   ]
  },
  {
   "cell_type": "code",
   "execution_count": 19,
   "id": "5ebe4629-d417-4c9f-b972-79ab32dcc5e7",
   "metadata": {
    "tags": []
   },
   "outputs": [
    {
     "data": {
      "text/latex": [
       "$\\displaystyle \\left[\\begin{matrix}-93 & 42 & -3\\\\78 & -30 & 6\\\\-3 & 6 & -3\\end{matrix}\\right]$"
      ],
      "text/plain": [
       "Matrix([\n",
       "[-93,  42, -3],\n",
       "[ 78, -30,  6],\n",
       "[ -3,   6, -3]])"
      ]
     },
     "execution_count": 19,
     "metadata": {},
     "output_type": "execute_result"
    }
   ],
   "source": [
    "# A의 adjugate (adjoint) 행렬 계산\n",
    "adjugate_matrix = A.adjugate()\n",
    "Matrix(adjugate_matrix)"
   ]
  },
  {
   "cell_type": "code",
   "execution_count": 20,
   "id": "e064116c-704b-4aa3-94f0-7366a6eed9f6",
   "metadata": {
    "tags": []
   },
   "outputs": [
    {
     "data": {
      "text/latex": [
       "$\\displaystyle 54$"
      ],
      "text/plain": [
       "54"
      ]
     },
     "execution_count": 20,
     "metadata": {},
     "output_type": "execute_result"
    }
   ],
   "source": [
    "# cofactor를 이용한 행렬식 구하기\n",
    "S=0\n",
    "for j in range(3):\n",
    "    S+=A[0,j]*A.cofactor(0,j)\n",
    "S"
   ]
  },
  {
   "cell_type": "code",
   "execution_count": 21,
   "id": "af067690-3f7d-421f-bf85-0133801bbf6f",
   "metadata": {
    "tags": []
   },
   "outputs": [
    {
     "data": {
      "text/latex": [
       "$\\displaystyle 54$"
      ],
      "text/plain": [
       "54"
      ]
     },
     "execution_count": 21,
     "metadata": {},
     "output_type": "execute_result"
    }
   ],
   "source": [
    "# 첫번째 열에 대해서 해도 동일함\n",
    "S=0\n",
    "for j in range(3):\n",
    "    S+=A[j,0]*A.cofactor(j,0)\n",
    "S"
   ]
  },
  {
   "cell_type": "code",
   "execution_count": 26,
   "id": "a2027ca3-df47-4dc6-bf1e-26bcfd5d7e59",
   "metadata": {
    "tags": []
   },
   "outputs": [
    {
     "data": {
      "text/latex": [
       "$\\displaystyle \\left[\\begin{matrix}54 & 0 & 0\\\\0 & 54 & 0\\\\0 & 0 & 54\\end{matrix}\\right]$"
      ],
      "text/plain": [
       "Matrix([\n",
       "[54,  0,  0],\n",
       "[ 0, 54,  0],\n",
       "[ 0,  0, 54]])"
      ]
     },
     "execution_count": 26,
     "metadata": {},
     "output_type": "execute_result"
    }
   ],
   "source": [
    "adjugate_matrix@A"
   ]
  },
  {
   "cell_type": "code",
   "execution_count": 24,
   "id": "73fe189c-52ab-4b85-a904-cc225f52cec7",
   "metadata": {
    "tags": []
   },
   "outputs": [
    {
     "data": {
      "text/latex": [
       "$\\displaystyle \\left[\\begin{matrix}54 & 0 & 0\\\\0 & 54 & 0\\\\0 & 0 & 54\\end{matrix}\\right]$"
      ],
      "text/plain": [
       "Matrix([\n",
       "[54,  0,  0],\n",
       "[ 0, 54,  0],\n",
       "[ 0,  0, 54]])"
      ]
     },
     "execution_count": 24,
     "metadata": {},
     "output_type": "execute_result"
    }
   ],
   "source": [
    "A@adjugate_matrix"
   ]
  },
  {
   "cell_type": "code",
   "execution_count": 27,
   "id": "7a227158-e3a5-4dc6-98b0-a4eb161a85e3",
   "metadata": {
    "tags": []
   },
   "outputs": [
    {
     "data": {
      "text/latex": [
       "$\\displaystyle \\left[\\begin{matrix}- \\frac{31}{18} & \\frac{7}{9} & - \\frac{1}{18}\\\\\\frac{13}{9} & - \\frac{5}{9} & \\frac{1}{9}\\\\- \\frac{1}{18} & \\frac{1}{9} & - \\frac{1}{18}\\end{matrix}\\right]$"
      ],
      "text/plain": [
       "Matrix([\n",
       "[-31/18,  7/9, -1/18],\n",
       "[  13/9, -5/9,   1/9],\n",
       "[ -1/18,  1/9, -1/18]])"
      ]
     },
     "execution_count": 27,
     "metadata": {},
     "output_type": "execute_result"
    }
   ],
   "source": [
    "A.inv()"
   ]
  },
  {
   "cell_type": "code",
   "execution_count": 28,
   "id": "a8d78ffd-03a5-4962-9005-7892e22ed676",
   "metadata": {
    "tags": []
   },
   "outputs": [
    {
     "data": {
      "text/latex": [
       "$\\displaystyle \\left[\\begin{matrix}- \\frac{31}{18} & \\frac{7}{9} & - \\frac{1}{18}\\\\\\frac{13}{9} & - \\frac{5}{9} & \\frac{1}{9}\\\\- \\frac{1}{18} & \\frac{1}{9} & - \\frac{1}{18}\\end{matrix}\\right]$"
      ],
      "text/plain": [
       "Matrix([\n",
       "[-31/18,  7/9, -1/18],\n",
       "[  13/9, -5/9,   1/9],\n",
       "[ -1/18,  1/9, -1/18]])"
      ]
     },
     "execution_count": 28,
     "metadata": {},
     "output_type": "execute_result"
    }
   ],
   "source": [
    "# adjugate 행렬을 이용한 역행렬\n",
    "(1/det(A))*adjugate_matrix"
   ]
  },
  {
   "cell_type": "code",
   "execution_count": 2,
   "id": "d3494a6a-574c-4362-bed1-2e441c21cc72",
   "metadata": {
    "tags": []
   },
   "outputs": [
    {
     "data": {
      "text/latex": [
       "$\\displaystyle \\left[\\begin{matrix}0 & 1 & 7\\\\1 & 7 & 2\\\\8 & 0 & 0\\end{matrix}\\right]$"
      ],
      "text/plain": [
       "Matrix([\n",
       "[0, 1, 7],\n",
       "[1, 7, 2],\n",
       "[8, 0, 0]])"
      ]
     },
     "execution_count": 2,
     "metadata": {},
     "output_type": "execute_result"
    }
   ],
   "source": [
    "# 행렬식의 성질 \n",
    "import numpy as np\n",
    "from sympy import Matrix\n",
    "\n",
    "np.random.seed(11)\n",
    "A=np.random.randint(0,9,size=9)\n",
    "A=Matrix(A.reshape(3,3))\n",
    "A"
   ]
  },
  {
   "cell_type": "code",
   "execution_count": 6,
   "id": "82388a4b-1e30-4395-a9a4-f3b1a7270453",
   "metadata": {
    "tags": []
   },
   "outputs": [
    {
     "data": {
      "text/latex": [
       "$\\displaystyle 14$"
      ],
      "text/plain": [
       "14"
      ]
     },
     "execution_count": 6,
     "metadata": {},
     "output_type": "execute_result"
    }
   ],
   "source": [
    "from sympy import det\n",
    "\n",
    "det(A)"
   ]
  },
  {
   "cell_type": "code",
   "execution_count": 27,
   "id": "2bdca5de-5ecb-42e9-82d4-d5634241a2ec",
   "metadata": {
    "tags": []
   },
   "outputs": [
    {
     "name": "stdout",
     "output_type": "stream",
     "text": [
      "A행렬의 행렬식: -376\n",
      "A1행렬의 행렬식: 1504\n"
     ]
    }
   ],
   "source": [
    "A1=A.copy() # 행렬 복제\n",
    "# 두번째 행을 모두 -4배\n",
    "A1[1,:]=(-4)*A[1,:]\n",
    "print('A행렬의 행렬식:',det(A))\n",
    "print('A1행렬의 행렬식:',det(A1))"
   ]
  },
  {
   "cell_type": "code",
   "execution_count": 29,
   "id": "16d00315-2eae-4f2f-9e09-2162fb69b810",
   "metadata": {
    "tags": []
   },
   "outputs": [
    {
     "data": {
      "text/latex": [
       "$\\displaystyle \\left[\\begin{matrix}0 & 1 & -28\\\\1 & 7 & -8\\\\8 & 0 & 0\\end{matrix}\\right]$"
      ],
      "text/plain": [
       "Matrix([\n",
       "[0, 1, -28],\n",
       "[1, 7,  -8],\n",
       "[8, 0,   0]])"
      ]
     },
     "execution_count": 29,
     "metadata": {},
     "output_type": "execute_result"
    }
   ],
   "source": [
    "A1=A.copy() # 행렬 복제\n",
    "# 세번째 열을 모두 -4배\n",
    "A1[:,2]=(-4)*A[:,2]\n",
    "A1"
   ]
  },
  {
   "cell_type": "code",
   "execution_count": 30,
   "id": "df9ccd67-fb8c-4755-b384-66283c66c42c",
   "metadata": {
    "tags": []
   },
   "outputs": [
    {
     "name": "stdout",
     "output_type": "stream",
     "text": [
      "A행렬의 행렬식: -376\n",
      "A1행렬의 행렬식: 1504\n"
     ]
    }
   ],
   "source": [
    "# 행렬식 결과 보기\n",
    "print('A행렬의 행렬식:',det(A))\n",
    "print('A1행렬의 행렬식:',det(A1))"
   ]
  },
  {
   "cell_type": "code",
   "execution_count": 45,
   "id": "4b69d589-3ed0-4527-8830-ef11bacaabf6",
   "metadata": {
    "tags": []
   },
   "outputs": [
    {
     "data": {
      "text/latex": [
       "$\\displaystyle \\left[\\begin{matrix}8 & 5 & 5\\\\7 & 0 & 7\\\\5 & 6 & 1\\end{matrix}\\right]$"
      ],
      "text/plain": [
       "Matrix([\n",
       "[8, 5, 5],\n",
       "[7, 0, 7],\n",
       "[5, 6, 1]])"
      ]
     },
     "execution_count": 45,
     "metadata": {},
     "output_type": "execute_result"
    }
   ],
   "source": [
    "# 행렬식의 성질\n",
    "np.random.seed(15)\n",
    "A=np.random.randint(0,9,size=(3,3))\n",
    "x=np.random.randint(-5,5,size=(3,1))\n",
    "A,x=Matrix(A),Matrix(x)\n",
    "A"
   ]
  },
  {
   "cell_type": "code",
   "execution_count": 46,
   "id": "6ae1031c-1768-4769-be5c-397b5275957b",
   "metadata": {
    "tags": []
   },
   "outputs": [
    {
     "data": {
      "text/latex": [
       "$\\displaystyle \\left[\\begin{matrix}2\\\\-5\\\\-1\\end{matrix}\\right]$"
      ],
      "text/plain": [
       "Matrix([\n",
       "[ 2],\n",
       "[-5],\n",
       "[-1]])"
      ]
     },
     "execution_count": 46,
     "metadata": {},
     "output_type": "execute_result"
    }
   ],
   "source": [
    "x"
   ]
  },
  {
   "cell_type": "code",
   "execution_count": 39,
   "id": "9c8861fe-bff2-40f2-b7c8-a1c02c2a30da",
   "metadata": {
    "tags": []
   },
   "outputs": [
    {
     "data": {
      "text/latex": [
       "$\\displaystyle \\left[\\begin{matrix}8 & 7 & 5\\\\7 & -5 & 7\\\\5 & 5 & 1\\end{matrix}\\right]$"
      ],
      "text/plain": [
       "Matrix([\n",
       "[8,  7, 5],\n",
       "[7, -5, 7],\n",
       "[5,  5, 1]])"
      ]
     },
     "execution_count": 39,
     "metadata": {},
     "output_type": "execute_result"
    }
   ],
   "source": [
    "# A행렬의 2번째 칼럼에 x를 더해줌\n",
    "A2=A.copy() # 행렬 복제\n",
    "A2[:,1]=A[:,1]+x\n",
    "A2"
   ]
  },
  {
   "cell_type": "code",
   "execution_count": 40,
   "id": "0379282c-cbae-487c-a438-8a99d22df491",
   "metadata": {
    "tags": []
   },
   "outputs": [
    {
     "data": {
      "text/latex": [
       "$\\displaystyle \\left[\\begin{matrix}8 & 2 & 5\\\\7 & -5 & 7\\\\5 & -1 & 1\\end{matrix}\\right]$"
      ],
      "text/plain": [
       "Matrix([\n",
       "[8,  2, 5],\n",
       "[7, -5, 7],\n",
       "[5, -1, 1]])"
      ]
     },
     "execution_count": 40,
     "metadata": {},
     "output_type": "execute_result"
    }
   ],
   "source": [
    "# A행렬의 2번째 칼럼을 x로 대체\n",
    "Ax=A.copy() # 행렬 복제\n",
    "Ax[:,1]=x\n",
    "Ax"
   ]
  },
  {
   "cell_type": "code",
   "execution_count": 42,
   "id": "6f8b9fbb-6d03-497e-a405-660ae2f62fe9",
   "metadata": {
    "tags": []
   },
   "outputs": [
    {
     "data": {
      "text/plain": [
       "(176, 14, 162)"
      ]
     },
     "execution_count": 42,
     "metadata": {},
     "output_type": "execute_result"
    }
   ],
   "source": [
    "det(A2),det(A),det(Ax)"
   ]
  },
  {
   "cell_type": "code",
   "execution_count": 41,
   "id": "b38245a2-26a7-4bdc-b9ff-ca7158c07867",
   "metadata": {
    "tags": []
   },
   "outputs": [
    {
     "data": {
      "text/latex": [
       "$\\displaystyle 0$"
      ],
      "text/plain": [
       "0"
      ]
     },
     "execution_count": 41,
     "metadata": {},
     "output_type": "execute_result"
    }
   ],
   "source": [
    "det(A2)-det(A)-det(Ax)"
   ]
  },
  {
   "cell_type": "code",
   "execution_count": 47,
   "id": "f7de06ec-d624-40db-b724-f81cbe17fcb5",
   "metadata": {
    "tags": []
   },
   "outputs": [
    {
     "data": {
      "text/latex": [
       "$\\displaystyle \\left[\\begin{matrix}8 & 5 & 5\\\\7 & 0 & 7\\\\7 & 1 & 0\\end{matrix}\\right]$"
      ],
      "text/plain": [
       "Matrix([\n",
       "[8, 5, 5],\n",
       "[7, 0, 7],\n",
       "[7, 1, 0]])"
      ]
     },
     "execution_count": 47,
     "metadata": {},
     "output_type": "execute_result"
    }
   ],
   "source": [
    "# A행렬의 3번째 행에 x를 더해줌\n",
    "A2=A.copy() # 행렬 복제\n",
    "A2[2,:]=A[2,:]+x.T\n",
    "A2"
   ]
  },
  {
   "cell_type": "code",
   "execution_count": 49,
   "id": "6f65f077-050a-4c5f-b6d4-2bd440a074f3",
   "metadata": {
    "tags": []
   },
   "outputs": [
    {
     "data": {
      "text/latex": [
       "$\\displaystyle \\left[\\begin{matrix}8 & 5 & 5\\\\7 & 0 & 7\\\\2 & -5 & -1\\end{matrix}\\right]$"
      ],
      "text/plain": [
       "Matrix([\n",
       "[8,  5,  5],\n",
       "[7,  0,  7],\n",
       "[2, -5, -1]])"
      ]
     },
     "execution_count": 49,
     "metadata": {},
     "output_type": "execute_result"
    }
   ],
   "source": [
    "# A행렬의 3번째 행을 x로 대체\n",
    "Ax=A.copy() # 행렬 복제\n",
    "Ax[2,:]=x.T\n",
    "Ax"
   ]
  },
  {
   "cell_type": "code",
   "execution_count": 50,
   "id": "e8d70379-e797-480c-8826-bf506cb5c145",
   "metadata": {
    "tags": []
   },
   "outputs": [
    {
     "data": {
      "text/plain": [
       "(224, 14, 210)"
      ]
     },
     "execution_count": 50,
     "metadata": {},
     "output_type": "execute_result"
    }
   ],
   "source": [
    "det(A2),det(A),det(Ax)"
   ]
  },
  {
   "cell_type": "code",
   "execution_count": 51,
   "id": "d254a48b-29ec-4d6d-aef4-2425e8275e48",
   "metadata": {
    "tags": []
   },
   "outputs": [
    {
     "data": {
      "text/latex": [
       "$\\displaystyle 0$"
      ],
      "text/plain": [
       "0"
      ]
     },
     "execution_count": 51,
     "metadata": {},
     "output_type": "execute_result"
    }
   ],
   "source": [
    "det(A2)-det(A)-det(Ax)"
   ]
  },
  {
   "cell_type": "code",
   "execution_count": 3,
   "id": "9da62ba4-7546-46a0-8a9e-bd9748dcf154",
   "metadata": {},
   "outputs": [
    {
     "data": {
      "text/latex": [
       "$\\displaystyle \\left[\\begin{matrix}8 & 5 & 5\\\\7 & 0 & 7\\\\5 & 6 & 1\\end{matrix}\\right]$"
      ],
      "text/plain": [
       "Matrix([\n",
       "[8, 5, 5],\n",
       "[7, 0, 7],\n",
       "[5, 6, 1]])"
      ]
     },
     "execution_count": 3,
     "metadata": {},
     "output_type": "execute_result"
    }
   ],
   "source": [
    "# 행렬식의 성질: 두 열의 교환\n",
    "np.random.seed(15)\n",
    "A=np.random.randint(0,9,size=(3,3))\n",
    "A=Matrix(A)\n",
    "A"
   ]
  },
  {
   "cell_type": "code",
   "execution_count": 4,
   "id": "6d318ba8-f060-4594-b847-decae98175ae",
   "metadata": {},
   "outputs": [
    {
     "data": {
      "text/latex": [
       "$\\displaystyle \\left[\\begin{matrix}5 & 5 & 8\\\\7 & 0 & 7\\\\1 & 6 & 5\\end{matrix}\\right]$"
      ],
      "text/plain": [
       "Matrix([\n",
       "[5, 5, 8],\n",
       "[7, 0, 7],\n",
       "[1, 6, 5]])"
      ]
     },
     "execution_count": 4,
     "metadata": {},
     "output_type": "execute_result"
    }
   ],
   "source": [
    "# 1열과 3열의 교환\n",
    "Ap=A.copy()\n",
    "Ap[:,0]=A[:,2]\n",
    "Ap[:,2]=A[:,0]\n",
    "Ap=Matrix(Ap)\n",
    "Ap"
   ]
  },
  {
   "cell_type": "code",
   "execution_count": 7,
   "id": "660e94c5-ac4d-46e1-a2ae-1f37a57f3c74",
   "metadata": {},
   "outputs": [
    {
     "name": "stdout",
     "output_type": "stream",
     "text": [
      "A행렬의 행렬식: 14\n",
      "Ap행렬의 행렬식: -14\n"
     ]
    }
   ],
   "source": [
    "# 행렬식 결과 보기\n",
    "print('A행렬의 행렬식:',det(A))\n",
    "print('Ap행렬의 행렬식:',det(Ap))"
   ]
  },
  {
   "cell_type": "code",
   "execution_count": 8,
   "id": "5027b876-4e25-402d-944d-91d6e1068975",
   "metadata": {},
   "outputs": [
    {
     "data": {
      "text/latex": [
       "$\\displaystyle \\left[\\begin{matrix}8 & 5 & 5\\\\5 & 6 & 1\\\\7 & 0 & 7\\end{matrix}\\right]$"
      ],
      "text/plain": [
       "Matrix([\n",
       "[8, 5, 5],\n",
       "[5, 6, 1],\n",
       "[7, 0, 7]])"
      ]
     },
     "execution_count": 8,
     "metadata": {},
     "output_type": "execute_result"
    }
   ],
   "source": [
    "# 2행과 3행의 교환\n",
    "Ap=A.copy()\n",
    "Ap[1,:]=A[2,:]\n",
    "Ap[2,:]=A[1,:]\n",
    "Ap=Matrix(Ap)\n",
    "Ap"
   ]
  },
  {
   "cell_type": "code",
   "execution_count": 9,
   "id": "9f966101-f2fb-4fd9-821c-d99b9cc1663a",
   "metadata": {},
   "outputs": [
    {
     "name": "stdout",
     "output_type": "stream",
     "text": [
      "A행렬의 행렬식: 14\n",
      "Ap행렬의 행렬식: -14\n"
     ]
    }
   ],
   "source": [
    "# 행렬식 결과 보기\n",
    "print('A행렬의 행렬식:',det(A))\n",
    "print('Ap행렬의 행렬식:',det(Ap))"
   ]
  },
  {
   "cell_type": "code",
   "execution_count": 5,
   "id": "475c33af-d6ce-4161-9b4b-ac8ad9224e05",
   "metadata": {
    "tags": []
   },
   "outputs": [
    {
     "data": {
      "text/latex": [
       "$\\displaystyle \\left[\\begin{matrix}1 & 3 & 1 & 1\\\\2 & 1 & 5 & 2\\\\1 & -1 & 2 & 3\\\\4 & 1 & -3 & 7\\end{matrix}\\right]$"
      ],
      "text/plain": [
       "Matrix([\n",
       "[1,  3,  1, 1],\n",
       "[2,  1,  5, 2],\n",
       "[1, -1,  2, 3],\n",
       "[4,  1, -3, 7]])"
      ]
     },
     "execution_count": 5,
     "metadata": {},
     "output_type": "execute_result"
    }
   ],
   "source": [
    "# 행렬식의 성질: 행이나 열 연산\n",
    "\n",
    "from sympy import Matrix, det\n",
    "\n",
    "A = Matrix([\n",
    "    [1, 3,  1, 1],\n",
    "    [2, 1,  5, 2],\n",
    "    [1, -1, 2, 3],\n",
    "    [4, 1, -3, 7]\n",
    "])\n",
    "\n",
    "A"
   ]
  },
  {
   "cell_type": "code",
   "execution_count": 3,
   "id": "91fd059b-892e-4906-9677-eb2c79dd475a",
   "metadata": {
    "tags": []
   },
   "outputs": [
    {
     "data": {
      "text/latex": [
       "$\\displaystyle \\left[\\begin{matrix}1 & 3 & 1 & 1\\\\3 & 0 & 7 & 5\\\\1 & -1 & 2 & 3\\\\4 & 1 & -3 & 7\\end{matrix}\\right]$"
      ],
      "text/plain": [
       "Matrix([\n",
       "[1,  3,  1, 1],\n",
       "[3,  0,  7, 5],\n",
       "[1, -1,  2, 3],\n",
       "[4,  1, -3, 7]])"
      ]
     },
     "execution_count": 3,
     "metadata": {},
     "output_type": "execute_result"
    }
   ],
   "source": [
    "# 2행에 3행을 더해서 만든 행렬\n",
    "Ap=A.copy()\n",
    "Ap[1,:]=A[1,:]+A[2,:]\n",
    "\n",
    "Ap"
   ]
  },
  {
   "cell_type": "code",
   "execution_count": 6,
   "id": "95fa6028-309e-46df-8ebb-69c97ec92690",
   "metadata": {
    "tags": []
   },
   "outputs": [
    {
     "name": "stdout",
     "output_type": "stream",
     "text": [
      "A행렬의 행렬식: -115\n",
      "Ap행렬의 행렬식: -115\n"
     ]
    }
   ],
   "source": [
    "# 행렬식 결과 보기\n",
    "print('A행렬의 행렬식:',det(A))\n",
    "print('Ap행렬의 행렬식:',det(Ap))"
   ]
  },
  {
   "cell_type": "code",
   "execution_count": 9,
   "id": "a6a48202-7e36-4283-b11a-2b459733702f",
   "metadata": {
    "tags": []
   },
   "outputs": [
    {
     "data": {
      "text/latex": [
       "$\\displaystyle \\left[\\begin{matrix}1 & 3 & 7 & 1\\\\2 & 1 & 7 & 2\\\\1 & -1 & 0 & 3\\\\4 & 1 & -1 & 7\\end{matrix}\\right]$"
      ],
      "text/plain": [
       "Matrix([\n",
       "[1,  3,  7, 1],\n",
       "[2,  1,  7, 2],\n",
       "[1, -1,  0, 3],\n",
       "[4,  1, -1, 7]])"
      ]
     },
     "execution_count": 9,
     "metadata": {},
     "output_type": "execute_result"
    }
   ],
   "source": [
    "# 3열에 2열을 2배해서 만든 행렬\n",
    "Ap=A.copy()\n",
    "Ap[:,2]=A[:,2]+2*A[:,1]\n",
    "\n",
    "Ap"
   ]
  },
  {
   "cell_type": "code",
   "execution_count": 10,
   "id": "74899385-0ecb-4c1a-9a21-33759e28fe66",
   "metadata": {
    "tags": []
   },
   "outputs": [
    {
     "name": "stdout",
     "output_type": "stream",
     "text": [
      "A행렬의 행렬식: -115\n",
      "Ap행렬의 행렬식: -115\n"
     ]
    }
   ],
   "source": [
    "# 행렬식 결과 보기\n",
    "print('A행렬의 행렬식:',det(A))\n",
    "print('Ap행렬의 행렬식:',det(Ap))"
   ]
  },
  {
   "cell_type": "code",
   "execution_count": 11,
   "id": "a7b0e925-1887-4106-ba35-9e49d527d7a9",
   "metadata": {
    "tags": []
   },
   "outputs": [
    {
     "data": {
      "text/latex": [
       "$\\displaystyle \\left[\\begin{matrix}-1 & 1 & 2 & 0\\\\0 & 3 & 2 & 1\\\\0 & 4 & 1 & 2\\\\3 & 1 & 5 & 7\\end{matrix}\\right]$"
      ],
      "text/plain": [
       "Matrix([\n",
       "[-1, 1, 2, 0],\n",
       "[ 0, 3, 2, 1],\n",
       "[ 0, 4, 1, 2],\n",
       "[ 3, 1, 5, 7]])"
      ]
     },
     "execution_count": 11,
     "metadata": {},
     "output_type": "execute_result"
    }
   ],
   "source": [
    "# 행렬식 구하기\n",
    "from sympy import Matrix\n",
    "\n",
    "A = Matrix([\n",
    "    [-1, 1, 2, 0],\n",
    "    [ 0, 3, 2, 1],\n",
    "    [ 0, 4, 1, 2],\n",
    "    [ 3, 1, 5, 7]\n",
    "])\n",
    "\n",
    "A"
   ]
  },
  {
   "cell_type": "code",
   "execution_count": 12,
   "id": "5f947fc3-c407-4656-81ff-ab161376f314",
   "metadata": {
    "tags": []
   },
   "outputs": [
    {
     "data": {
      "text/latex": [
       "$\\displaystyle 45$"
      ],
      "text/plain": [
       "45"
      ]
     },
     "execution_count": 12,
     "metadata": {},
     "output_type": "execute_result"
    }
   ],
   "source": [
    "det(A)"
   ]
  },
  {
   "cell_type": "markdown",
   "id": "7bab6347-0b6b-4da7-97bd-ae7133da6a94",
   "metadata": {},
   "source": [
    "### Cramer's rule"
   ]
  },
  {
   "cell_type": "code",
   "execution_count": 14,
   "id": "d6446b90-3e7b-4da0-a79e-94ff4a11e98b",
   "metadata": {
    "tags": []
   },
   "outputs": [],
   "source": [
    "import numpy as np"
   ]
  },
  {
   "cell_type": "code",
   "execution_count": 15,
   "id": "846a1379-9734-4bc9-8263-96a9da06010d",
   "metadata": {
    "tags": []
   },
   "outputs": [
    {
     "data": {
      "text/plain": [
       "array([ 26., -13.,  31.])"
      ]
     },
     "execution_count": 15,
     "metadata": {},
     "output_type": "execute_result"
    }
   ],
   "source": [
    "# 계수 행렬 A와 상수 행렬 B 설정\n",
    "# numpy 이용\n",
    "A = np.array([[2, 1, -1],\n",
    "              [-3, 2, 3],\n",
    "              [-2, 1, 2]], dtype=float)\n",
    "\n",
    "B = np.array([8, -11, -3], dtype=float)\n",
    "np.linalg.inv(A)@B"
   ]
  },
  {
   "cell_type": "code",
   "execution_count": 16,
   "id": "7db6a626-7870-4e0c-a44d-2aeb04738594",
   "metadata": {
    "tags": []
   },
   "outputs": [
    {
     "data": {
      "text/latex": [
       "$\\displaystyle \\left[\\begin{matrix}26.0\\\\-13.0\\\\31.0\\end{matrix}\\right]$"
      ],
      "text/plain": [
       "Matrix([\n",
       "[ 26.0],\n",
       "[-13.0],\n",
       "[ 31.0]])"
      ]
     },
     "execution_count": 16,
     "metadata": {},
     "output_type": "execute_result"
    }
   ],
   "source": [
    "# sympy 이용\n",
    "A=Matrix(A)\n",
    "B=Matrix(B)\n",
    "A.inv()@B"
   ]
  },
  {
   "cell_type": "code",
   "execution_count": 20,
   "id": "37fd6ac3-bd23-416f-a927-8fb874dcfa94",
   "metadata": {
    "tags": []
   },
   "outputs": [
    {
     "data": {
      "text/latex": [
       "$\\displaystyle \\left[\\begin{matrix}2.0 & 1.0 & -1.0\\\\-3.0 & 2.0 & 3.0\\\\-2.0 & 1.0 & 2.0\\end{matrix}\\right]$"
      ],
      "text/plain": [
       "Matrix([\n",
       "[ 2.0, 1.0, -1.0],\n",
       "[-3.0, 2.0,  3.0],\n",
       "[-2.0, 1.0,  2.0]])"
      ]
     },
     "execution_count": 20,
     "metadata": {},
     "output_type": "execute_result"
    }
   ],
   "source": [
    "A"
   ]
  },
  {
   "cell_type": "code",
   "execution_count": 21,
   "id": "55e62540-4ace-4eb8-9de4-f1e43f71c46a",
   "metadata": {
    "tags": []
   },
   "outputs": [
    {
     "data": {
      "text/latex": [
       "$\\displaystyle \\left[\\begin{matrix}8.0\\\\-11.0\\\\-3.0\\end{matrix}\\right]$"
      ],
      "text/plain": [
       "Matrix([\n",
       "[  8.0],\n",
       "[-11.0],\n",
       "[ -3.0]])"
      ]
     },
     "execution_count": 21,
     "metadata": {},
     "output_type": "execute_result"
    }
   ],
   "source": [
    "B"
   ]
  },
  {
   "cell_type": "code",
   "execution_count": 23,
   "id": "b7022e05-2810-468d-854f-54c168c29157",
   "metadata": {
    "tags": []
   },
   "outputs": [
    {
     "data": {
      "text/latex": [
       "$\\displaystyle \\left[\\begin{matrix}2.0 & 8.0 & -1.0\\\\-3.0 & -11.0 & 3.0\\\\-2.0 & -3.0 & 2.0\\end{matrix}\\right]$"
      ],
      "text/plain": [
       "Matrix([\n",
       "[ 2.0,   8.0, -1.0],\n",
       "[-3.0, -11.0,  3.0],\n",
       "[-2.0,  -3.0,  2.0]])"
      ]
     },
     "execution_count": 23,
     "metadata": {},
     "output_type": "execute_result"
    }
   ],
   "source": [
    "A_2"
   ]
  },
  {
   "cell_type": "code",
   "execution_count": 17,
   "id": "18abba4b-73a0-4417-80c4-49018dd52e76",
   "metadata": {
    "tags": []
   },
   "outputs": [
    {
     "data": {
      "text/latex": [
       "$\\displaystyle 26.0$"
      ],
      "text/plain": [
       "26.0000000000000"
      ]
     },
     "execution_count": 17,
     "metadata": {},
     "output_type": "execute_result"
    }
   ],
   "source": [
    "# x1의 값 구하기\n",
    "A_1=A.copy() # 행렬 복제\n",
    "\n",
    "# 첫번째 열을 B로 대체\n",
    "A_1[:,0]=B \n",
    "# x1 계산\n",
    "det(A_1)/det(A)"
   ]
  },
  {
   "cell_type": "code",
   "execution_count": 18,
   "id": "45be67b4-97a5-4bec-a5bb-5ae1dfd97e9b",
   "metadata": {
    "tags": []
   },
   "outputs": [
    {
     "data": {
      "text/latex": [
       "$\\displaystyle -13.0$"
      ],
      "text/plain": [
       "-13.0000000000000"
      ]
     },
     "execution_count": 18,
     "metadata": {},
     "output_type": "execute_result"
    }
   ],
   "source": [
    "# x2의 값 구하기\n",
    "A_2=A.copy()\n",
    "\n",
    "# 두번째 열을 B로 대체\n",
    "A_2[:,1]=B \n",
    "# x2 계산\n",
    "det(A_2)/det(A)"
   ]
  },
  {
   "cell_type": "code",
   "execution_count": 19,
   "id": "332bf04b-b51d-4f0f-8b40-323d93a18b5a",
   "metadata": {
    "tags": []
   },
   "outputs": [
    {
     "data": {
      "text/latex": [
       "$\\displaystyle 31.0$"
      ],
      "text/plain": [
       "31.0000000000000"
      ]
     },
     "execution_count": 19,
     "metadata": {},
     "output_type": "execute_result"
    }
   ],
   "source": [
    "# x3의 값 구하기\n",
    "A_3=A.copy()\n",
    "\n",
    "# 세번째 열을 B로 대체\n",
    "A_3[:,2]=B \n",
    "# x2 계산\n",
    "det(A_3)/det(A)"
   ]
  },
  {
   "cell_type": "markdown",
   "id": "3c5f420f-e4bf-4d7b-b145-e7fca4d8b2a9",
   "metadata": {
    "tags": []
   },
   "source": [
    "### 연립방정식의 해를 구하여라 {2x+y-z=8,-3x+2y+2z=-11,-2x+y+2z=-3}"
   ]
  },
  {
   "cell_type": "code",
   "execution_count": 29,
   "id": "4b1d6a2f-0e86-4e26-9ea7-cd2b31c97825",
   "metadata": {
    "tags": []
   },
   "outputs": [
    {
     "data": {
      "text/plain": [
       "array([ 26., -13.,  31.])"
      ]
     },
     "execution_count": 29,
     "metadata": {},
     "output_type": "execute_result"
    }
   ],
   "source": [
    "# 계수 행렬 A와 상수 행렬 B 설정\n",
    "# numpy 이용\n",
    "A = np.array([[2, 1, -1],\n",
    "              [-3, 2, 3],\n",
    "              [-2, 1, 2]], dtype=float)\n",
    "\n",
    "B = np.array([8, -11, -3], dtype=float)\n",
    "np.linalg.inv(A)@B"
   ]
  },
  {
   "cell_type": "code",
   "execution_count": 30,
   "id": "3d12206f-6df0-428f-8f77-6e429a50b576",
   "metadata": {
    "tags": []
   },
   "outputs": [
    {
     "data": {
      "text/latex": [
       "$\\displaystyle \\left[\\begin{matrix}26.0\\\\-13.0\\\\31.0\\end{matrix}\\right]$"
      ],
      "text/plain": [
       "Matrix([\n",
       "[ 26.0],\n",
       "[-13.0],\n",
       "[ 31.0]])"
      ]
     },
     "execution_count": 30,
     "metadata": {},
     "output_type": "execute_result"
    }
   ],
   "source": [
    "# sympy 이용\n",
    "A=Matrix(A)\n",
    "B=Matrix(B)\n",
    "A.inv()@B"
   ]
  },
  {
   "cell_type": "markdown",
   "id": "854e327e-1069-4ed5-aed0-318a8348d8c0",
   "metadata": {},
   "source": [
    "### 가우스 조던 소거법"
   ]
  },
  {
   "cell_type": "code",
   "execution_count": 28,
   "id": "fcf57b02-88e5-46d1-87f6-d851f6603a3c",
   "metadata": {
    "tags": []
   },
   "outputs": [],
   "source": [
    "import numpy as np\n",
    "from sympy import Matrix\n",
    "\n",
    "# 계수 행렬 A와 상수 행렬 B 설정\n",
    "A = np.array([[2, 1, -1],\n",
    "              [-3, 2, 3],\n",
    "              [-2, 1, 2]], dtype=float)\n",
    "\n",
    "B = np.array([8, -11, -3], dtype=float)\n"
   ]
  },
  {
   "cell_type": "code",
   "execution_count": 11,
   "id": "02a35add-33f0-4725-8b74-b9f937a1c27c",
   "metadata": {
    "tags": []
   },
   "outputs": [
    {
     "data": {
      "text/plain": [
       "(3, 3)"
      ]
     },
     "execution_count": 11,
     "metadata": {},
     "output_type": "execute_result"
    }
   ],
   "source": [
    "A.shape"
   ]
  },
  {
   "cell_type": "code",
   "execution_count": 12,
   "id": "5aa34cf0-55d8-48cb-8382-8bea29698777",
   "metadata": {
    "tags": []
   },
   "outputs": [
    {
     "data": {
      "text/plain": [
       "(3,)"
      ]
     },
     "execution_count": 12,
     "metadata": {},
     "output_type": "execute_result"
    }
   ],
   "source": [
    "B.shape"
   ]
  },
  {
   "cell_type": "code",
   "execution_count": 13,
   "id": "859b73b3-7ff7-4ad9-a78d-6312109a3cb8",
   "metadata": {
    "tags": []
   },
   "outputs": [
    {
     "data": {
      "text/plain": [
       "(3, 1)"
      ]
     },
     "execution_count": 13,
     "metadata": {},
     "output_type": "execute_result"
    }
   ],
   "source": [
    "B.reshape(-1,1).shape"
   ]
  },
  {
   "cell_type": "code",
   "execution_count": 14,
   "id": "153764c6-3938-41db-8ebe-52e88183d3fe",
   "metadata": {
    "tags": []
   },
   "outputs": [
    {
     "data": {
      "text/plain": [
       "(1, 3)"
      ]
     },
     "execution_count": 14,
     "metadata": {},
     "output_type": "execute_result"
    }
   ],
   "source": [
    "B.reshape(1,-1).shape"
   ]
  },
  {
   "cell_type": "code",
   "execution_count": 17,
   "id": "403cc40f-4f7e-43b8-92e4-26c1c8166cfb",
   "metadata": {
    "tags": []
   },
   "outputs": [
    {
     "data": {
      "text/plain": [
       "array([[ 2,  1, -1, 30, 40, 50],\n",
       "       [-3,  2,  3, 60, 70, 80],\n",
       "       [-2,  1,  2, 10, 10, 10]])"
      ]
     },
     "execution_count": 17,
     "metadata": {},
     "output_type": "execute_result"
    }
   ],
   "source": [
    "# hstack 이해하기\n",
    "M1= np.array([[2, 1, -1],\n",
    "              [-3, 2, 3],\n",
    "              [-2, 1, 2]])\n",
    "M2= np.array([[30, 40, 50],\n",
    "              [60, 70, 80],\n",
    "              [10, 10, 10]])\n",
    "np.hstack((M1,M2))"
   ]
  },
  {
   "cell_type": "code",
   "execution_count": 18,
   "id": "b8d551d0-58ad-4a33-baa8-fe1591a39311",
   "metadata": {
    "tags": []
   },
   "outputs": [
    {
     "data": {
      "text/plain": [
       "array([[30, 40, 50],\n",
       "       [60, 70, 80],\n",
       "       [10, 10, 10],\n",
       "       [ 2,  1, -1],\n",
       "       [-3,  2,  3],\n",
       "       [-2,  1,  2]])"
      ]
     },
     "execution_count": 18,
     "metadata": {},
     "output_type": "execute_result"
    }
   ],
   "source": [
    "# vstack 이해하기\n",
    "np.vstack((M2,M1))"
   ]
  },
  {
   "cell_type": "code",
   "execution_count": 29,
   "id": "794144c0-1e97-4432-ad4e-5a571ce3c222",
   "metadata": {
    "tags": []
   },
   "outputs": [
    {
     "data": {
      "text/latex": [
       "$\\displaystyle \\left[\\begin{matrix}2.0 & 1.0 & -1.0 & 8.0\\\\-3.0 & 2.0 & 3.0 & -11.0\\\\-2.0 & 1.0 & 2.0 & -3.0\\end{matrix}\\right]$"
      ],
      "text/plain": [
       "Matrix([\n",
       "[ 2.0, 1.0, -1.0,   8.0],\n",
       "[-3.0, 2.0,  3.0, -11.0],\n",
       "[-2.0, 1.0,  2.0,  -3.0]])"
      ]
     },
     "execution_count": 29,
     "metadata": {},
     "output_type": "execute_result"
    }
   ],
   "source": [
    "# 증강 행렬 [A | B] 생성\n",
    "AB = np.hstack((A, B.reshape(-1, 1)))\n",
    "Matrix(AB)"
   ]
  },
  {
   "cell_type": "code",
   "execution_count": 20,
   "id": "4200498b-ea2d-479e-93e9-410757cdcd7c",
   "metadata": {
    "tags": []
   },
   "outputs": [
    {
     "data": {
      "text/plain": [
       "3"
      ]
     },
     "execution_count": 20,
     "metadata": {},
     "output_type": "execute_result"
    }
   ],
   "source": [
    "n = len(B) # B행렬의 행의 개수\n",
    "n"
   ]
  },
  {
   "cell_type": "code",
   "execution_count": 23,
   "id": "a4e1b2ee-063d-4e11-917b-d54b2e9e61e4",
   "metadata": {
    "tags": []
   },
   "outputs": [
    {
     "data": {
      "text/latex": [
       "$\\displaystyle \\left[\\begin{matrix}1.0 & 0.5 & -0.5 & 4.0\\\\0.0 & 3.5 & 1.5 & 1.0\\\\0.0 & 2.0 & 1.0 & 5.0\\end{matrix}\\right]$"
      ],
      "text/plain": [
       "Matrix([\n",
       "[1.0, 0.5, -0.5, 4.0],\n",
       "[0.0, 3.5,  1.5, 1.0],\n",
       "[0.0, 2.0,  1.0, 5.0]])"
      ]
     },
     "execution_count": 23,
     "metadata": {},
     "output_type": "execute_result"
    }
   ],
   "source": [
    "# 첫번째 피봇 요소를 1로 만들기\n",
    "i=0\n",
    "\n",
    "# 행을 첫번째 원소로 모두 나누어 피벗원소를 1이 되게함\n",
    "AB[i] = AB[i] / AB[i, i] \n",
    "# 아래 행들에 대해 0 만들기\n",
    "for j in range(i + 1, n):\n",
    "    # 다른행들의 피봇 아래 원소를 모두 0으로 만들기\n",
    "    AB[j] = AB[j] - AB[j, i] * AB[i]    \n",
    "Matrix(AB)"
   ]
  },
  {
   "cell_type": "code",
   "execution_count": 24,
   "id": "74f68f2b-70df-4fde-a17b-dca40926be7d",
   "metadata": {
    "tags": []
   },
   "outputs": [
    {
     "data": {
      "text/latex": [
       "$\\displaystyle \\left[\\begin{matrix}1.0 & 0.5 & -0.5 & 4.0\\\\0.0 & 1.0 & 0.428571428571429 & 0.285714285714286\\\\0.0 & 0.0 & 0.142857142857143 & 4.42857142857143\\end{matrix}\\right]$"
      ],
      "text/plain": [
       "Matrix([\n",
       "[1.0, 0.5,              -0.5,               4.0],\n",
       "[0.0, 1.0, 0.428571428571429, 0.285714285714286],\n",
       "[0.0, 0.0, 0.142857142857143,  4.42857142857143]])"
      ]
     },
     "execution_count": 24,
     "metadata": {},
     "output_type": "execute_result"
    }
   ],
   "source": [
    "# 두번째 피봇 요소를 1로 만들기\n",
    "i=1\n",
    "AB[i] = AB[i] / AB[i, i]\n",
    "\n",
    "# 아래 행들에 대해 0 만들기\n",
    "for j in range(i + 1, n):\n",
    "    AB[j] = AB[j] - AB[j, i] * AB[i]    \n",
    "Matrix(AB)"
   ]
  },
  {
   "cell_type": "code",
   "execution_count": 25,
   "id": "2ff47b6c-1ac9-41de-9d3b-c48279555a20",
   "metadata": {
    "tags": []
   },
   "outputs": [
    {
     "data": {
      "text/latex": [
       "$\\displaystyle \\left[\\begin{matrix}1.0 & 0.5 & -0.5 & 4.0\\\\0.0 & 1.0 & 0.428571428571429 & 0.285714285714286\\\\0.0 & 0.0 & 1.0 & 31.0\\end{matrix}\\right]$"
      ],
      "text/plain": [
       "Matrix([\n",
       "[1.0, 0.5,              -0.5,               4.0],\n",
       "[0.0, 1.0, 0.428571428571429, 0.285714285714286],\n",
       "[0.0, 0.0,               1.0,              31.0]])"
      ]
     },
     "execution_count": 25,
     "metadata": {},
     "output_type": "execute_result"
    }
   ],
   "source": [
    "# 세번째 피봇 요소를 1로 만들기\n",
    "i=2\n",
    "AB[i] = AB[i] / AB[i, i]\n",
    "\n",
    "# 아래 행들에 대해 0 만들기\n",
    "for j in range(i + 1, n):\n",
    "    AB[j] = AB[j] - AB[j, i] * AB[i]    \n",
    "Matrix(AB)"
   ]
  },
  {
   "cell_type": "code",
   "execution_count": 26,
   "id": "89accb55-9e46-4133-be2a-215ad8bdf115",
   "metadata": {
    "tags": []
   },
   "outputs": [
    {
     "data": {
      "text/latex": [
       "$\\displaystyle \\left[\\begin{matrix}1.0 & 0.5 & 0.0 & 19.5\\\\0.0 & 1.0 & 0.0 & -13.0\\\\0.0 & 0.0 & 1.0 & 31.0\\end{matrix}\\right]$"
      ],
      "text/plain": [
       "Matrix([\n",
       "[1.0, 0.5, 0.0,  19.5],\n",
       "[0.0, 1.0, 0.0, -13.0],\n",
       "[0.0, 0.0, 1.0,  31.0]])"
      ]
     },
     "execution_count": 26,
     "metadata": {},
     "output_type": "execute_result"
    }
   ],
   "source": [
    "# 후진 대입 과정 (Back Substitution)\n",
    "i=2 # 마지막 행 선택\n",
    "for j in range(i - 1, -1, -1):  # 위쪽 행(row)들 처리\n",
    "    AB[j] = AB[j] - AB[j, i] * AB[i]  # 해당 열을 0으로 만듦\n",
    "Matrix(AB)"
   ]
  },
  {
   "cell_type": "code",
   "execution_count": 27,
   "id": "6b51f96e-38e3-4358-91e6-a04daf1b4985",
   "metadata": {
    "tags": []
   },
   "outputs": [
    {
     "data": {
      "text/latex": [
       "$\\displaystyle \\left[\\begin{matrix}1.0 & 0.0 & 0.0 & 26.0\\\\0.0 & 1.0 & 0.0 & -13.0\\\\0.0 & 0.0 & 1.0 & 31.0\\end{matrix}\\right]$"
      ],
      "text/plain": [
       "Matrix([\n",
       "[1.0, 0.0, 0.0,  26.0],\n",
       "[0.0, 1.0, 0.0, -13.0],\n",
       "[0.0, 0.0, 1.0,  31.0]])"
      ]
     },
     "execution_count": 27,
     "metadata": {},
     "output_type": "execute_result"
    }
   ],
   "source": [
    "# 후진 대입 과정 (Back Substitution)\n",
    "i=1 # 마지막에서 2번째행 선택\n",
    "for j in range(i - 1, -1, -1):  # 위쪽 행(row)들 처리\n",
    "    AB[j] = AB[j] - AB[j, i] * AB[i]  # 해당 열을 0으로 만듦\n",
    "Matrix(AB)"
   ]
  },
  {
   "cell_type": "code",
   "execution_count": 30,
   "id": "8e6c6541-15d9-4064-b894-03ec5d9b9a5f",
   "metadata": {
    "tags": []
   },
   "outputs": [
    {
     "data": {
      "text/latex": [
       "$\\displaystyle \\left[\\begin{matrix}1.0 & 0.0 & 0.0 & 26.0\\\\0.0 & 1.0 & 0.0 & -13.0\\\\0.0 & 0.0 & 1.0 & 31.0\\end{matrix}\\right]$"
      ],
      "text/plain": [
       "Matrix([\n",
       "[1.0, 0.0, 0.0,  26.0],\n",
       "[0.0, 1.0, 0.0, -13.0],\n",
       "[0.0, 0.0, 1.0,  31.0]])"
      ]
     },
     "execution_count": 30,
     "metadata": {},
     "output_type": "execute_result"
    }
   ],
   "source": [
    "# 가우스 소거법 적용 (전진 소거 과정)\n",
    "n = len(B)\n",
    "for i in range(n):\n",
    "    # 피봇 요소를 1로 만들기\n",
    "    AB[i] = AB[i] / AB[i, i]\n",
    "\n",
    "    # 아래 행들에 대해 0 만들기\n",
    "    for j in range(i + 1, n):\n",
    "        AB[j] = AB[j] - AB[j, i] * AB[i]\n",
    "\n",
    "# 후진 대입법 (Back Substitution)\n",
    "for i in range(n - 1, -1, -1):  # 역순으로 처리 (i = n-1 → 0)\n",
    "    for j in range(i - 1, -1, -1):  # 위쪽 행(row)들 처리\n",
    "        AB[j] = AB[j] - AB[j, i] * AB[i]  # 해당 열을 0으로 만듦\n",
    "Matrix(AB)"
   ]
  },
  {
   "cell_type": "markdown",
   "id": "f44ca782-0439-4f00-932c-24d0901512b2",
   "metadata": {},
   "source": [
    "### \tA(2,3),B(0,6) 두 벡터가 만드는 평형사변형의 넓이를 구하여라.  "
   ]
  },
  {
   "cell_type": "code",
   "execution_count": 24,
   "id": "c64cb623-bf65-4632-a268-121c414acdb0",
   "metadata": {
    "tags": []
   },
   "outputs": [
    {
     "data": {
      "image/png": "[encoded data removed]",
      "text/plain": [
       "<Figure size 600x600 with 1 Axes>"
      ]
     },
     "metadata": {},
     "output_type": "display_data"
    }
   ],
   "source": [
    "import matplotlib.pyplot as plt\n",
    "import numpy as np\n",
    "\n",
    "# 벡터 정의\n",
    "A = np.array([2, 3])\n",
    "B = np.array([0, 6])\n",
    "\n",
    "# 평행사변형의 꼭짓점 계산\n",
    "O = np.array([0, 0])\n",
    "P1 = A\n",
    "P2 = B\n",
    "P3 = A + B\n",
    "\n",
    "# 꼭짓점 리스트\n",
    "parallelogram = np.array([O, P1, P3, P2, O])  # 다시 O로 돌아와서 닫기\n",
    "\n",
    "# 넓이 계산\n",
    "area = abs(np.cross(A, B))\n",
    "\n",
    "# 시각화\n",
    "plt.figure(figsize=(6,6))\n",
    "plt.plot(parallelogram[:,0], parallelogram[:,1], 'b-', linewidth=2, label='Parallelogram')\n",
    "plt.quiver(0, 0, A[0], A[1], angles='xy', scale_units='xy', scale=1, color='r', label='Vector A')\n",
    "plt.quiver(0, 0, B[0], B[1], angles='xy', scale_units='xy', scale=1, color='g', label='Vector B')\n",
    "\n",
    "# 설정\n",
    "plt.grid(True)\n",
    "plt.axis('equal')\n",
    "plt.title(f\"Parallelogram by A & B, Area = {area}\")\n",
    "plt.legend()\n",
    "plt.xlabel('x')\n",
    "plt.ylabel('y')\n",
    "plt.xlim(-1, 4)\n",
    "plt.ylim(-1, 10)\n",
    "plt.show()\n"
   ]
  },
  {
   "cell_type": "code",
   "execution_count": 32,
   "id": "6e4b7735-bcc8-4792-9063-b69dbef242e9",
   "metadata": {
    "tags": []
   },
   "outputs": [
    {
     "data": {
      "text/latex": [
       "$\\displaystyle \\left[\\begin{matrix}0\\\\3\\end{matrix}\\right]$"
      ],
      "text/plain": [
       "Matrix([\n",
       "[0],\n",
       "[3]])"
      ]
     },
     "execution_count": 32,
     "metadata": {},
     "output_type": "execute_result"
    }
   ],
   "source": [
    "from sympy import Matrix\n",
    "A,B=Matrix([2,3]),Matrix([0,6])\n",
    "BA=(A.dot(B))/(B.dot(B))*B\n",
    "BA"
   ]
  },
  {
   "cell_type": "code",
   "execution_count": 33,
   "id": "4d6749f3-8f69-43c5-a57d-4872d158aa07",
   "metadata": {
    "tags": []
   },
   "outputs": [
    {
     "data": {
      "text/latex": [
       "$\\displaystyle 2$"
      ],
      "text/plain": [
       "2"
      ]
     },
     "execution_count": 33,
     "metadata": {},
     "output_type": "execute_result"
    }
   ],
   "source": [
    "# 높이 벡터 h\n",
    "h=A-BA\n",
    "h.norm() # 높이 계산"
   ]
  },
  {
   "cell_type": "markdown",
   "id": "8234d083-109b-4589-9751-ee7b20e03233",
   "metadata": {},
   "source": [
    "## Jacobian의 이해"
   ]
  },
  {
   "cell_type": "code",
   "execution_count": 2,
   "id": "760f8a7f-3ee9-4c6b-aff8-5b3684a99469",
   "metadata": {
    "tags": []
   },
   "outputs": [
    {
     "data": {
      "text/latex": [
       "$\\displaystyle 16 \\pi$"
      ],
      "text/plain": [
       "16*pi"
      ]
     },
     "execution_count": 2,
     "metadata": {},
     "output_type": "execute_result"
    }
   ],
   "source": [
    "from sympy import symbols,integrate,sqrt\n",
    "\n",
    "x=symbols('x')\n",
    "2*integrate(sqrt(16-x**2),(x,-4,4))"
   ]
  },
  {
   "cell_type": "code",
   "execution_count": 6,
   "id": "34ad1961-9750-417c-9ffd-4b583869b8e8",
   "metadata": {
    "tags": []
   },
   "outputs": [
    {
     "data": {
      "text/latex": [
       "$\\displaystyle 2 \\sqrt{16 - x^{2}}$"
      ],
      "text/plain": [
       "2*sqrt(16 - x**2)"
      ]
     },
     "execution_count": 6,
     "metadata": {},
     "output_type": "execute_result"
    }
   ],
   "source": [
    "y=symbols('y')\n",
    "integrate(1,(y,-sqrt(16-x**2),sqrt(16-x**2)))"
   ]
  },
  {
   "cell_type": "code",
   "execution_count": 4,
   "id": "5fea296d-6ab2-48d1-90e6-df289098b2c5",
   "metadata": {
    "tags": []
   },
   "outputs": [
    {
     "data": {
      "text/latex": [
       "$\\displaystyle 16 \\pi$"
      ],
      "text/plain": [
       "16*pi"
      ]
     },
     "execution_count": 4,
     "metadata": {},
     "output_type": "execute_result"
    }
   ],
   "source": [
    "y=symbols('y')\n",
    "integrate(integrate(1,(y,-sqrt(16-x**2),sqrt(16-x**2))),(x,-4,4))"
   ]
  },
  {
   "cell_type": "code",
   "execution_count": null,
   "id": "dd2f4607-9359-4231-8d08-7dec16730f53",
   "metadata": {},
   "outputs": [],
   "source": []
  }
 ],
 "metadata": {
  "kernelspec": {
   "display_name": "Python 3 (ipykernel)",
   "language": "python",
   "name": "python3"
  },
  "language_info": {
   "codemirror_mode": {
    "name": "ipython",
    "version": 3
   },
   "file_extension": ".py",
   "mimetype": "text/x-python",
   "name": "python",
   "nbconvert_exporter": "python",
   "pygments_lexer": "ipython3",
   "version": "3.10.12"
  },
  "widgets": {
   "application/vnd.jupyter.widget-state+json": {
    "state": {},
    "version_major": 2,
    "version_minor": 0
   }
  }
 },
 "nbformat": 4,
 "nbformat_minor": 5
}
